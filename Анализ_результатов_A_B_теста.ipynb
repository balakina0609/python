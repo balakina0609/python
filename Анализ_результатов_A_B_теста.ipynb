{
  "cells": [
    {
      "cell_type": "markdown",
      "metadata": {
        "id": "hsWjBybiMD5F"
      },
      "source": [
        "# Принятие решений в бизнесе\n",
        "## Анализ результатов A/B-теста"
      ]
    },
    {
      "cell_type": "markdown",
      "metadata": {
        "id": "zqLoy9kBMD5F"
      },
      "source": [
        "\n",
        "**Что сделать**\n",
        "\n",
        "- Приоритизируйте гипотезы\n",
        "- запустите A/B-тест\n",
        "- проанализируйте результаты."
      ]
    },
    {
      "cell_type": "markdown",
      "metadata": {
        "id": "_ZQYX65BMD5G"
      },
      "source": [
        "##  Приоритизация гипотез. ##"
      ]
    },
    {
      "cell_type": "markdown",
      "metadata": {
        "id": "X8URsDz2MD5G"
      },
      "source": [
        "**Что сделать**\n",
        "\n",
        "- Примените фреймворк ICE для приоритизации гипотез. Отсортируйте их по убыванию приоритета.\n",
        "- Примените фреймворк RICE для приоритизации гипотез. Отсортируйте их по убыванию приоритета.\n",
        "- Укажите, как изменилась приоритизация гипотез при применении RICE вместо ICE. Объясните, почему так произошло."
      ]
    },
    {
      "cell_type": "markdown",
      "metadata": {
        "id": "LXj7ewSdMD5G"
      },
      "source": [
        "##  Анализ A/B-теста. ##"
      ]
    },
    {
      "cell_type": "markdown",
      "metadata": {
        "id": "NUvt2MEZMD5G"
      },
      "source": [
        "**Что сделать**\n",
        "\n",
        "\n",
        "Проанализируйте A/B-тест:\n",
        "\n",
        "\n",
        "- Постройте график кумулятивной выручки по группам. Сделайте выводы и предположения.\n",
        "- Постройте график кумулятивного среднего чека по группам. Сделайте выводы и предположения.\n",
        "- Постройте график относительного изменения кумулятивного среднего чека группы B к группе A. Сделайте выводы и предположения.\n",
        "- Постройте график кумулятивного среднего количества заказов на посетителя по группам. Сделайте выводы и предположения.\n",
        "- Постройте график относительного изменения кумулятивного среднего количества заказов на посетителя группы B к группе A. Сделайте выводы и предположения.\n",
        "- Постройте точечный график количества заказов по пользователям. Сделайте выводы и предположения.\n",
        "- Посчитайте 95-й и 99-й перцентили количества заказов на пользователя. Выберите границу для определения аномальных пользователей.\n",
        "- Постройте точечный график стоимостей заказов. Сделайте выводы и предположения.\n",
        "- Посчитайте 95-й и 99-й перцентили стоимости заказов. Выберите границу для определения аномальных заказов.\n",
        "- Посчитайте статистическую значимость различий в среднем количестве заказов на посетителя между группами по «сырым» данным. Сделайте выводы и предположения.\n",
        "- Посчитайте статистическую значимость различий в среднем чеке заказа между группами по «сырым» данным. Сделайте выводы и предположения.\n",
        "- Посчитайте статистическую значимость различий в среднем количестве заказов на посетителя между группами по «очищенным» данным. Сделайте выводы и предположения.\n",
        "- Посчитайте статистическую значимость различий в среднем чеке заказа между группами по «очищенным» данным. Сделайте выводы и предположения.\n",
        "\n",
        "\n",
        "- Примите решение по результатам теста и объясните его. Варианты решений:\n",
        "1. Остановить тест, зафиксировать победу одной из групп.\n",
        "2. Остановить тест, зафиксировать отсутствие различий между группами.\n",
        "3. Продолжить тест."
      ]
    },
    {
      "cell_type": "markdown",
      "metadata": {
        "id": "IEOsXX12MD5H"
      },
      "source": [
        "**Прдставленные данные**"
      ]
    },
    {
      "cell_type": "markdown",
      "metadata": {
        "id": "Eb1AFHInMD5H"
      },
      "source": [
        "**Данные для первой части**\n",
        "\n",
        "\n",
        "- Hypothesis — краткое описание гипотезы;\n",
        "- Reach — охват пользователей по 10-балльной шкале;\n",
        "- Impact — влияние на пользователей по 10-балльной шкале;\n",
        "- Confidence — уверенность в гипотезе по 10-балльной шкале;\n",
        "- Efforts — затраты ресурсов на проверку гипотезы по 10-балльной шкале. Чем больше значение Efforts, тем дороже проверка гипотезы."
      ]
    },
    {
      "cell_type": "markdown",
      "metadata": {
        "id": "tRCSJAn7MD5H"
      },
      "source": [
        "**Данные для второй части**"
      ]
    },
    {
      "cell_type": "markdown",
      "metadata": {
        "id": "PFQa5dnIMD5H"
      },
      "source": [
        "**orders.csv**\n",
        "- transactionId — идентификатор заказа;\n",
        "- visitorId — идентификатор пользователя, совершившего заказ;\n",
        "- date — дата, когда был совершён заказ;\n",
        "- revenue — выручка заказа;\n",
        "- group — группа A/B-теста, в которую попал заказ."
      ]
    },
    {
      "cell_type": "markdown",
      "metadata": {
        "id": "eB24mJP9MD5H"
      },
      "source": [
        "**visitors.csv**\n",
        "\n",
        "- date — дата;\n",
        "- group — группа A/B-теста;\n",
        "- visitors — количество пользователей в указанную дату в указанной группе A/B-теста"
      ]
    },
    {
      "cell_type": "markdown",
      "metadata": {
        "id": "Iz6PfgHJMD5I"
      },
      "source": [
        "**Предобработка данных**"
      ]
    },
    {
      "cell_type": "code",
      "execution_count": null,
      "metadata": {
        "id": "AkcWuChxMD5I"
      },
      "outputs": [],
      "source": [
        "import pandas as pd\n",
        "import scipy.stats as stats\n",
        "import datetime as dt\n",
        "import numpy as np\n",
        "import matplotlib.pyplot as plt"
      ]
    },
    {
      "cell_type": "code",
      "execution_count": null,
      "metadata": {
        "id": "_2QCGLaBMD5J"
      },
      "outputs": [],
      "source": [
        "hypothesis = pd.read_csv('/datasets/hypothesis.csv')\n",
        "visitors = pd.read_csv('/datasets/visitors.csv', sep=',')\n",
        "orders = pd.read_csv('/datasets/orders.csv', sep=',')"
      ]
    },
    {
      "cell_type": "markdown",
      "metadata": {
        "id": "LdoC6qxpMD5J"
      },
      "source": [
        "Оценим содержимое таблиц"
      ]
    },
    {
      "cell_type": "code",
      "execution_count": null,
      "metadata": {
        "id": "NYJGYW6XMD5K",
        "outputId": "a1caa5f1-47de-418e-bf25-88f7f1f117f4"
      },
      "outputs": [
        {
          "data": {
            "text/html": [
              "<div>\n",
              "<style scoped>\n",
              "    .dataframe tbody tr th:only-of-type {\n",
              "        vertical-align: middle;\n",
              "    }\n",
              "\n",
              "    .dataframe tbody tr th {\n",
              "        vertical-align: top;\n",
              "    }\n",
              "\n",
              "    .dataframe thead th {\n",
              "        text-align: right;\n",
              "    }\n",
              "</style>\n",
              "<table border=\"1\" class=\"dataframe\">\n",
              "  <thead>\n",
              "    <tr style=\"text-align: right;\">\n",
              "      <th></th>\n",
              "      <th>Hypothesis</th>\n",
              "      <th>Reach</th>\n",
              "      <th>Impact</th>\n",
              "      <th>Confidence</th>\n",
              "      <th>Efforts</th>\n",
              "    </tr>\n",
              "  </thead>\n",
              "  <tbody>\n",
              "    <tr>\n",
              "      <th>0</th>\n",
              "      <td>Добавить два новых канала привлечения трафика,...</td>\n",
              "      <td>3</td>\n",
              "      <td>10</td>\n",
              "      <td>8</td>\n",
              "      <td>6</td>\n",
              "    </tr>\n",
              "    <tr>\n",
              "      <th>1</th>\n",
              "      <td>Запустить собственную службу доставки, что сок...</td>\n",
              "      <td>2</td>\n",
              "      <td>5</td>\n",
              "      <td>4</td>\n",
              "      <td>10</td>\n",
              "    </tr>\n",
              "    <tr>\n",
              "      <th>2</th>\n",
              "      <td>Добавить блоки рекомендаций товаров на сайт ин...</td>\n",
              "      <td>8</td>\n",
              "      <td>3</td>\n",
              "      <td>7</td>\n",
              "      <td>3</td>\n",
              "    </tr>\n",
              "    <tr>\n",
              "      <th>3</th>\n",
              "      <td>Изменить структура категорий, что увеличит кон...</td>\n",
              "      <td>8</td>\n",
              "      <td>3</td>\n",
              "      <td>3</td>\n",
              "      <td>8</td>\n",
              "    </tr>\n",
              "    <tr>\n",
              "      <th>4</th>\n",
              "      <td>Изменить цвет фона главной страницы, чтобы уве...</td>\n",
              "      <td>3</td>\n",
              "      <td>1</td>\n",
              "      <td>1</td>\n",
              "      <td>1</td>\n",
              "    </tr>\n",
              "  </tbody>\n",
              "</table>\n",
              "</div>"
            ],
            "text/plain": [
              "                                          Hypothesis  Reach  Impact  \\\n",
              "0  Добавить два новых канала привлечения трафика,...      3      10   \n",
              "1  Запустить собственную службу доставки, что сок...      2       5   \n",
              "2  Добавить блоки рекомендаций товаров на сайт ин...      8       3   \n",
              "3  Изменить структура категорий, что увеличит кон...      8       3   \n",
              "4  Изменить цвет фона главной страницы, чтобы уве...      3       1   \n",
              "\n",
              "   Confidence  Efforts  \n",
              "0           8        6  \n",
              "1           4       10  \n",
              "2           7        3  \n",
              "3           3        8  \n",
              "4           1        1  "
            ]
          },
          "execution_count": 3,
          "metadata": {},
          "output_type": "execute_result"
        }
      ],
      "source": [
        "#посмотрим таблицу с гипотезами\n",
        "hypothesis.head()"
      ]
    },
    {
      "cell_type": "code",
      "execution_count": null,
      "metadata": {
        "id": "ZkI3gm2sMD5K",
        "outputId": "326a04cb-9ca3-4c35-a566-df4b760ad2c0"
      },
      "outputs": [
        {
          "name": "stdout",
          "output_type": "stream",
          "text": [
            "<class 'pandas.core.frame.DataFrame'>\n",
            "RangeIndex: 9 entries, 0 to 8\n",
            "Data columns (total 5 columns):\n",
            " #   Column      Non-Null Count  Dtype \n",
            "---  ------      --------------  ----- \n",
            " 0   Hypothesis  9 non-null      object\n",
            " 1   Reach       9 non-null      int64 \n",
            " 2   Impact      9 non-null      int64 \n",
            " 3   Confidence  9 non-null      int64 \n",
            " 4   Efforts     9 non-null      int64 \n",
            "dtypes: int64(4), object(1)\n",
            "memory usage: 488.0+ bytes\n"
          ]
        }
      ],
      "source": [
        "hypothesis.info()"
      ]
    },
    {
      "cell_type": "code",
      "execution_count": null,
      "metadata": {
        "id": "NZs73f6ZMD5L"
      },
      "outputs": [],
      "source": [
        "hypothesis.columns = ['hypothesis', 'reach', 'impact', 'confidence', 'efforts']"
      ]
    },
    {
      "cell_type": "markdown",
      "metadata": {
        "id": "diSp7c0GMD5L"
      },
      "source": [
        "переименовала колонки в нижний регистр, больше в таблице явных проблем нет, она готова к анализу."
      ]
    },
    {
      "cell_type": "code",
      "execution_count": null,
      "metadata": {
        "id": "W4ejnGRRMD5L",
        "outputId": "0842bfcd-b8d6-4dde-b4b0-13b3b5fd7f22"
      },
      "outputs": [
        {
          "data": {
            "text/html": [
              "<div>\n",
              "<style scoped>\n",
              "    .dataframe tbody tr th:only-of-type {\n",
              "        vertical-align: middle;\n",
              "    }\n",
              "\n",
              "    .dataframe tbody tr th {\n",
              "        vertical-align: top;\n",
              "    }\n",
              "\n",
              "    .dataframe thead th {\n",
              "        text-align: right;\n",
              "    }\n",
              "</style>\n",
              "<table border=\"1\" class=\"dataframe\">\n",
              "  <thead>\n",
              "    <tr style=\"text-align: right;\">\n",
              "      <th></th>\n",
              "      <th>transactionId</th>\n",
              "      <th>visitorId</th>\n",
              "      <th>date</th>\n",
              "      <th>revenue</th>\n",
              "      <th>group</th>\n",
              "    </tr>\n",
              "  </thead>\n",
              "  <tbody>\n",
              "    <tr>\n",
              "      <th>0</th>\n",
              "      <td>3667963787</td>\n",
              "      <td>3312258926</td>\n",
              "      <td>2019-08-15</td>\n",
              "      <td>1650</td>\n",
              "      <td>B</td>\n",
              "    </tr>\n",
              "    <tr>\n",
              "      <th>1</th>\n",
              "      <td>2804400009</td>\n",
              "      <td>3642806036</td>\n",
              "      <td>2019-08-15</td>\n",
              "      <td>730</td>\n",
              "      <td>B</td>\n",
              "    </tr>\n",
              "    <tr>\n",
              "      <th>2</th>\n",
              "      <td>2961555356</td>\n",
              "      <td>4069496402</td>\n",
              "      <td>2019-08-15</td>\n",
              "      <td>400</td>\n",
              "      <td>A</td>\n",
              "    </tr>\n",
              "    <tr>\n",
              "      <th>3</th>\n",
              "      <td>3797467345</td>\n",
              "      <td>1196621759</td>\n",
              "      <td>2019-08-15</td>\n",
              "      <td>9759</td>\n",
              "      <td>B</td>\n",
              "    </tr>\n",
              "    <tr>\n",
              "      <th>4</th>\n",
              "      <td>2282983706</td>\n",
              "      <td>2322279887</td>\n",
              "      <td>2019-08-15</td>\n",
              "      <td>2308</td>\n",
              "      <td>B</td>\n",
              "    </tr>\n",
              "  </tbody>\n",
              "</table>\n",
              "</div>"
            ],
            "text/plain": [
              "   transactionId   visitorId        date  revenue group\n",
              "0     3667963787  3312258926  2019-08-15     1650     B\n",
              "1     2804400009  3642806036  2019-08-15      730     B\n",
              "2     2961555356  4069496402  2019-08-15      400     A\n",
              "3     3797467345  1196621759  2019-08-15     9759     B\n",
              "4     2282983706  2322279887  2019-08-15     2308     B"
            ]
          },
          "execution_count": 6,
          "metadata": {},
          "output_type": "execute_result"
        }
      ],
      "source": [
        "#посмотрим таблицу orders\n",
        "orders.head()"
      ]
    },
    {
      "cell_type": "code",
      "execution_count": null,
      "metadata": {
        "id": "T2bCRP-LMD5M",
        "outputId": "17dd0ffa-fb5f-4e63-ee92-b6ffff9b38d1"
      },
      "outputs": [
        {
          "name": "stdout",
          "output_type": "stream",
          "text": [
            "<class 'pandas.core.frame.DataFrame'>\n",
            "RangeIndex: 1197 entries, 0 to 1196\n",
            "Data columns (total 5 columns):\n",
            " #   Column         Non-Null Count  Dtype \n",
            "---  ------         --------------  ----- \n",
            " 0   transactionId  1197 non-null   int64 \n",
            " 1   visitorId      1197 non-null   int64 \n",
            " 2   date           1197 non-null   object\n",
            " 3   revenue        1197 non-null   int64 \n",
            " 4   group          1197 non-null   object\n",
            "dtypes: int64(3), object(2)\n",
            "memory usage: 46.9+ KB\n"
          ]
        }
      ],
      "source": [
        "orders.info()"
      ]
    },
    {
      "cell_type": "code",
      "execution_count": null,
      "metadata": {
        "id": "r72JmEy-MD5M"
      },
      "outputs": [],
      "source": [
        "# переведем дату в нужный формат\n",
        "orders['date'] = orders['date'].map(\n",
        "    lambda x: dt.datetime.strptime(x, '%Y-%m-%d'))"
      ]
    },
    {
      "cell_type": "code",
      "execution_count": null,
      "metadata": {
        "id": "xTF9_zj-MD5M"
      },
      "outputs": [],
      "source": [
        "#переименую колонки для удобстава понимания\n",
        "orders.columns =['userId', 'orderId', 'date', 'revenue', 'group']"
      ]
    },
    {
      "cell_type": "code",
      "execution_count": null,
      "metadata": {
        "id": "vTOpbXj1MD5M",
        "outputId": "621aa4c5-4f27-4c8b-88bc-461bd315705b"
      },
      "outputs": [
        {
          "data": {
            "text/plain": [
              "0"
            ]
          },
          "execution_count": 10,
          "metadata": {},
          "output_type": "execute_result"
        }
      ],
      "source": [
        "orders.duplicated().sum()"
      ]
    },
    {
      "cell_type": "markdown",
      "metadata": {
        "id": "1rHomuqAMD5N"
      },
      "source": [
        "В табилце нет дубликатов, данные чистые, перевела в формате datetime колонку с date, также переименовала колонки для удобстава воспрития.\n",
        "\n",
        "Таблица готова к анализу"
      ]
    },
    {
      "cell_type": "code",
      "execution_count": null,
      "metadata": {
        "id": "y9178ZKKMD5N",
        "outputId": "14d31944-6d88-45ec-ac99-9fb5856d562a"
      },
      "outputs": [
        {
          "data": {
            "text/html": [
              "<div>\n",
              "<style scoped>\n",
              "    .dataframe tbody tr th:only-of-type {\n",
              "        vertical-align: middle;\n",
              "    }\n",
              "\n",
              "    .dataframe tbody tr th {\n",
              "        vertical-align: top;\n",
              "    }\n",
              "\n",
              "    .dataframe thead th {\n",
              "        text-align: right;\n",
              "    }\n",
              "</style>\n",
              "<table border=\"1\" class=\"dataframe\">\n",
              "  <thead>\n",
              "    <tr style=\"text-align: right;\">\n",
              "      <th></th>\n",
              "      <th>date</th>\n",
              "      <th>group</th>\n",
              "      <th>visitors</th>\n",
              "    </tr>\n",
              "  </thead>\n",
              "  <tbody>\n",
              "    <tr>\n",
              "      <th>0</th>\n",
              "      <td>2019-08-01</td>\n",
              "      <td>A</td>\n",
              "      <td>719</td>\n",
              "    </tr>\n",
              "    <tr>\n",
              "      <th>1</th>\n",
              "      <td>2019-08-02</td>\n",
              "      <td>A</td>\n",
              "      <td>619</td>\n",
              "    </tr>\n",
              "    <tr>\n",
              "      <th>2</th>\n",
              "      <td>2019-08-03</td>\n",
              "      <td>A</td>\n",
              "      <td>507</td>\n",
              "    </tr>\n",
              "    <tr>\n",
              "      <th>3</th>\n",
              "      <td>2019-08-04</td>\n",
              "      <td>A</td>\n",
              "      <td>717</td>\n",
              "    </tr>\n",
              "    <tr>\n",
              "      <th>4</th>\n",
              "      <td>2019-08-05</td>\n",
              "      <td>A</td>\n",
              "      <td>756</td>\n",
              "    </tr>\n",
              "  </tbody>\n",
              "</table>\n",
              "</div>"
            ],
            "text/plain": [
              "         date group  visitors\n",
              "0  2019-08-01     A       719\n",
              "1  2019-08-02     A       619\n",
              "2  2019-08-03     A       507\n",
              "3  2019-08-04     A       717\n",
              "4  2019-08-05     A       756"
            ]
          },
          "execution_count": 11,
          "metadata": {},
          "output_type": "execute_result"
        }
      ],
      "source": [
        "#посмотрим таблицу visitors\n",
        "visitors.head()"
      ]
    },
    {
      "cell_type": "code",
      "execution_count": null,
      "metadata": {
        "id": "kLx2Hp_NMD5N",
        "outputId": "61281d61-dec8-4ce3-cc3a-c94ffe95f285"
      },
      "outputs": [
        {
          "name": "stdout",
          "output_type": "stream",
          "text": [
            "<class 'pandas.core.frame.DataFrame'>\n",
            "RangeIndex: 62 entries, 0 to 61\n",
            "Data columns (total 3 columns):\n",
            " #   Column    Non-Null Count  Dtype \n",
            "---  ------    --------------  ----- \n",
            " 0   date      62 non-null     object\n",
            " 1   group     62 non-null     object\n",
            " 2   visitors  62 non-null     int64 \n",
            "dtypes: int64(1), object(2)\n",
            "memory usage: 1.6+ KB\n"
          ]
        }
      ],
      "source": [
        "visitors.info()"
      ]
    },
    {
      "cell_type": "code",
      "execution_count": null,
      "metadata": {
        "id": "FUzoTFfYMD5N"
      },
      "outputs": [],
      "source": [
        "visitors['date'] = visitors['date'].map(\n",
        "    lambda x: dt.datetime.strptime(x, '%Y-%m-%d'))"
      ]
    },
    {
      "cell_type": "code",
      "execution_count": null,
      "metadata": {
        "id": "w1jU6J69MD5O",
        "outputId": "182150a9-ddcf-45a5-919c-2d80cf00843a"
      },
      "outputs": [
        {
          "data": {
            "text/plain": [
              "0"
            ]
          },
          "execution_count": 14,
          "metadata": {},
          "output_type": "execute_result"
        }
      ],
      "source": [
        "visitors.duplicated().sum()"
      ]
    },
    {
      "cell_type": "code",
      "execution_count": null,
      "metadata": {
        "id": "y3ZKxYxCMD5O",
        "outputId": "2bff4122-b399-4adc-b5da-d3636b1260f1"
      },
      "outputs": [
        {
          "data": {
            "text/plain": [
              "B    640\n",
              "A    557\n",
              "Name: group, dtype: int64"
            ]
          },
          "execution_count": 15,
          "metadata": {},
          "output_type": "execute_result"
        }
      ],
      "source": [
        "orders['group'].value_counts()"
      ]
    },
    {
      "cell_type": "markdown",
      "metadata": {
        "id": "NVomh4yFMD5O"
      },
      "source": [
        "В табилце нет дубликатов, данные чистые, перевела в формате datetime колонку с date.\n",
        "Таблица готова к анализу"
      ]
    },
    {
      "cell_type": "markdown",
      "metadata": {
        "id": "MP1xg2VIMD5O"
      },
      "source": [
        "**Часть 1. Приоритизация гипотез**"
      ]
    },
    {
      "cell_type": "markdown",
      "metadata": {
        "id": "yWTFoWgSMD5P"
      },
      "source": [
        "* Примените фреймворк ICE для приоритизации гипотез. Отсортируйте их по убыванию приоритета.\n",
        "* Примените фреймворк RICE для приоритизации гипотез. Отсортируйте их по убыванию приоритета.\n",
        "* Укажите, как изменилась приоритизация гипотез при применении RICE вместо ICE. Объясните, почему так произошло."
      ]
    },
    {
      "cell_type": "code",
      "execution_count": null,
      "metadata": {
        "id": "uVTr-pEVMD5P"
      },
      "outputs": [],
      "source": [
        "pd.options.display.max_colwidth = 400"
      ]
    },
    {
      "cell_type": "code",
      "execution_count": null,
      "metadata": {
        "id": "Onb7KglbMD5P",
        "outputId": "affaf6c1-afbc-475b-8a9f-9caa730757f4"
      },
      "outputs": [
        {
          "data": {
            "text/html": [
              "<div>\n",
              "<style scoped>\n",
              "    .dataframe tbody tr th:only-of-type {\n",
              "        vertical-align: middle;\n",
              "    }\n",
              "\n",
              "    .dataframe tbody tr th {\n",
              "        vertical-align: top;\n",
              "    }\n",
              "\n",
              "    .dataframe thead th {\n",
              "        text-align: right;\n",
              "    }\n",
              "</style>\n",
              "<table border=\"1\" class=\"dataframe\">\n",
              "  <thead>\n",
              "    <tr style=\"text-align: right;\">\n",
              "      <th></th>\n",
              "      <th>hypothesis</th>\n",
              "      <th>reach</th>\n",
              "      <th>impact</th>\n",
              "      <th>confidence</th>\n",
              "      <th>efforts</th>\n",
              "    </tr>\n",
              "  </thead>\n",
              "  <tbody>\n",
              "    <tr>\n",
              "      <th>0</th>\n",
              "      <td>Добавить два новых канала привлечения трафика, что позволит привлекать на 30% больше пользователей</td>\n",
              "      <td>3</td>\n",
              "      <td>10</td>\n",
              "      <td>8</td>\n",
              "      <td>6</td>\n",
              "    </tr>\n",
              "    <tr>\n",
              "      <th>1</th>\n",
              "      <td>Запустить собственную службу доставки, что сократит срок доставки заказов</td>\n",
              "      <td>2</td>\n",
              "      <td>5</td>\n",
              "      <td>4</td>\n",
              "      <td>10</td>\n",
              "    </tr>\n",
              "    <tr>\n",
              "      <th>2</th>\n",
              "      <td>Добавить блоки рекомендаций товаров на сайт интернет магазина, чтобы повысить конверсию и средний чек заказа</td>\n",
              "      <td>8</td>\n",
              "      <td>3</td>\n",
              "      <td>7</td>\n",
              "      <td>3</td>\n",
              "    </tr>\n",
              "    <tr>\n",
              "      <th>3</th>\n",
              "      <td>Изменить структура категорий, что увеличит конверсию, т.к. пользователи быстрее найдут нужный товар</td>\n",
              "      <td>8</td>\n",
              "      <td>3</td>\n",
              "      <td>3</td>\n",
              "      <td>8</td>\n",
              "    </tr>\n",
              "    <tr>\n",
              "      <th>4</th>\n",
              "      <td>Изменить цвет фона главной страницы, чтобы увеличить вовлеченность пользователей</td>\n",
              "      <td>3</td>\n",
              "      <td>1</td>\n",
              "      <td>1</td>\n",
              "      <td>1</td>\n",
              "    </tr>\n",
              "    <tr>\n",
              "      <th>5</th>\n",
              "      <td>Добавить страницу отзывов клиентов о магазине, что позволит увеличить количество заказов</td>\n",
              "      <td>3</td>\n",
              "      <td>2</td>\n",
              "      <td>2</td>\n",
              "      <td>3</td>\n",
              "    </tr>\n",
              "    <tr>\n",
              "      <th>6</th>\n",
              "      <td>Показать на главной странице баннеры с актуальными акциями и распродажами, чтобы увеличить конверсию</td>\n",
              "      <td>5</td>\n",
              "      <td>3</td>\n",
              "      <td>8</td>\n",
              "      <td>3</td>\n",
              "    </tr>\n",
              "    <tr>\n",
              "      <th>7</th>\n",
              "      <td>Добавить форму подписки на все основные страницы, чтобы собрать базу клиентов для email-рассылок</td>\n",
              "      <td>10</td>\n",
              "      <td>7</td>\n",
              "      <td>8</td>\n",
              "      <td>5</td>\n",
              "    </tr>\n",
              "    <tr>\n",
              "      <th>8</th>\n",
              "      <td>Запустить акцию, дающую скидку на товар в день рождения</td>\n",
              "      <td>1</td>\n",
              "      <td>9</td>\n",
              "      <td>9</td>\n",
              "      <td>5</td>\n",
              "    </tr>\n",
              "  </tbody>\n",
              "</table>\n",
              "</div>"
            ],
            "text/plain": [
              "                                                                                                     hypothesis  \\\n",
              "0            Добавить два новых канала привлечения трафика, что позволит привлекать на 30% больше пользователей   \n",
              "1                                     Запустить собственную службу доставки, что сократит срок доставки заказов   \n",
              "2  Добавить блоки рекомендаций товаров на сайт интернет магазина, чтобы повысить конверсию и средний чек заказа   \n",
              "3           Изменить структура категорий, что увеличит конверсию, т.к. пользователи быстрее найдут нужный товар   \n",
              "4                              Изменить цвет фона главной страницы, чтобы увеличить вовлеченность пользователей   \n",
              "5                      Добавить страницу отзывов клиентов о магазине, что позволит увеличить количество заказов   \n",
              "6          Показать на главной странице баннеры с актуальными акциями и распродажами, чтобы увеличить конверсию   \n",
              "7              Добавить форму подписки на все основные страницы, чтобы собрать базу клиентов для email-рассылок   \n",
              "8                                                       Запустить акцию, дающую скидку на товар в день рождения   \n",
              "\n",
              "   reach  impact  confidence  efforts  \n",
              "0      3      10           8        6  \n",
              "1      2       5           4       10  \n",
              "2      8       3           7        3  \n",
              "3      8       3           3        8  \n",
              "4      3       1           1        1  \n",
              "5      3       2           2        3  \n",
              "6      5       3           8        3  \n",
              "7     10       7           8        5  \n",
              "8      1       9           9        5  "
            ]
          },
          "execution_count": 17,
          "metadata": {},
          "output_type": "execute_result"
        }
      ],
      "source": [
        "hypothesis"
      ]
    },
    {
      "cell_type": "code",
      "execution_count": null,
      "metadata": {
        "id": "jAf60eI1MD5P",
        "outputId": "f139142c-557f-4977-daf1-4b70ebda61d4"
      },
      "outputs": [
        {
          "data": {
            "text/html": [
              "<div>\n",
              "<style scoped>\n",
              "    .dataframe tbody tr th:only-of-type {\n",
              "        vertical-align: middle;\n",
              "    }\n",
              "\n",
              "    .dataframe tbody tr th {\n",
              "        vertical-align: top;\n",
              "    }\n",
              "\n",
              "    .dataframe thead th {\n",
              "        text-align: right;\n",
              "    }\n",
              "</style>\n",
              "<table border=\"1\" class=\"dataframe\">\n",
              "  <thead>\n",
              "    <tr style=\"text-align: right;\">\n",
              "      <th></th>\n",
              "      <th>hypothesis</th>\n",
              "      <th>ICE</th>\n",
              "    </tr>\n",
              "  </thead>\n",
              "  <tbody>\n",
              "    <tr>\n",
              "      <th>8</th>\n",
              "      <td>Запустить акцию, дающую скидку на товар в день рождения</td>\n",
              "      <td>16.200000</td>\n",
              "    </tr>\n",
              "    <tr>\n",
              "      <th>0</th>\n",
              "      <td>Добавить два новых канала привлечения трафика, что позволит привлекать на 30% больше пользователей</td>\n",
              "      <td>13.333333</td>\n",
              "    </tr>\n",
              "    <tr>\n",
              "      <th>7</th>\n",
              "      <td>Добавить форму подписки на все основные страницы, чтобы собрать базу клиентов для email-рассылок</td>\n",
              "      <td>11.200000</td>\n",
              "    </tr>\n",
              "    <tr>\n",
              "      <th>6</th>\n",
              "      <td>Показать на главной странице баннеры с актуальными акциями и распродажами, чтобы увеличить конверсию</td>\n",
              "      <td>8.000000</td>\n",
              "    </tr>\n",
              "    <tr>\n",
              "      <th>2</th>\n",
              "      <td>Добавить блоки рекомендаций товаров на сайт интернет магазина, чтобы повысить конверсию и средний чек заказа</td>\n",
              "      <td>7.000000</td>\n",
              "    </tr>\n",
              "    <tr>\n",
              "      <th>1</th>\n",
              "      <td>Запустить собственную службу доставки, что сократит срок доставки заказов</td>\n",
              "      <td>2.000000</td>\n",
              "    </tr>\n",
              "    <tr>\n",
              "      <th>5</th>\n",
              "      <td>Добавить страницу отзывов клиентов о магазине, что позволит увеличить количество заказов</td>\n",
              "      <td>1.333333</td>\n",
              "    </tr>\n",
              "    <tr>\n",
              "      <th>3</th>\n",
              "      <td>Изменить структура категорий, что увеличит конверсию, т.к. пользователи быстрее найдут нужный товар</td>\n",
              "      <td>1.125000</td>\n",
              "    </tr>\n",
              "    <tr>\n",
              "      <th>4</th>\n",
              "      <td>Изменить цвет фона главной страницы, чтобы увеличить вовлеченность пользователей</td>\n",
              "      <td>1.000000</td>\n",
              "    </tr>\n",
              "  </tbody>\n",
              "</table>\n",
              "</div>"
            ],
            "text/plain": [
              "                                                                                                     hypothesis  \\\n",
              "8                                                       Запустить акцию, дающую скидку на товар в день рождения   \n",
              "0            Добавить два новых канала привлечения трафика, что позволит привлекать на 30% больше пользователей   \n",
              "7              Добавить форму подписки на все основные страницы, чтобы собрать базу клиентов для email-рассылок   \n",
              "6          Показать на главной странице баннеры с актуальными акциями и распродажами, чтобы увеличить конверсию   \n",
              "2  Добавить блоки рекомендаций товаров на сайт интернет магазина, чтобы повысить конверсию и средний чек заказа   \n",
              "1                                     Запустить собственную службу доставки, что сократит срок доставки заказов   \n",
              "5                      Добавить страницу отзывов клиентов о магазине, что позволит увеличить количество заказов   \n",
              "3           Изменить структура категорий, что увеличит конверсию, т.к. пользователи быстрее найдут нужный товар   \n",
              "4                              Изменить цвет фона главной страницы, чтобы увеличить вовлеченность пользователей   \n",
              "\n",
              "         ICE  \n",
              "8  16.200000  \n",
              "0  13.333333  \n",
              "7  11.200000  \n",
              "6   8.000000  \n",
              "2   7.000000  \n",
              "1   2.000000  \n",
              "5   1.333333  \n",
              "3   1.125000  \n",
              "4   1.000000  "
            ]
          },
          "execution_count": 18,
          "metadata": {},
          "output_type": "execute_result"
        }
      ],
      "source": [
        "#Примените фреймворк ICE для приоритизации гипотез. Отсортируйте их по убыванию приоритета.\n",
        "hypothesis['ICE'] = (hypothesis['impact']*hypothesis['confidence'])/hypothesis['efforts']\n",
        "hypothesis[['hypothesis', 'ICE']].sort_values(by = 'ICE', ascending = False)"
      ]
    },
    {
      "cell_type": "code",
      "execution_count": null,
      "metadata": {
        "id": "30__TO4BMD5Q",
        "outputId": "f0eda21f-6470-4652-8e4c-374381ca27aa"
      },
      "outputs": [
        {
          "data": {
            "text/html": [
              "<div>\n",
              "<style scoped>\n",
              "    .dataframe tbody tr th:only-of-type {\n",
              "        vertical-align: middle;\n",
              "    }\n",
              "\n",
              "    .dataframe tbody tr th {\n",
              "        vertical-align: top;\n",
              "    }\n",
              "\n",
              "    .dataframe thead th {\n",
              "        text-align: right;\n",
              "    }\n",
              "</style>\n",
              "<table border=\"1\" class=\"dataframe\">\n",
              "  <thead>\n",
              "    <tr style=\"text-align: right;\">\n",
              "      <th></th>\n",
              "      <th>hypothesis</th>\n",
              "      <th>RICE</th>\n",
              "    </tr>\n",
              "  </thead>\n",
              "  <tbody>\n",
              "    <tr>\n",
              "      <th>7</th>\n",
              "      <td>Добавить форму подписки на все основные страницы, чтобы собрать базу клиентов для email-рассылок</td>\n",
              "      <td>112.0</td>\n",
              "    </tr>\n",
              "    <tr>\n",
              "      <th>2</th>\n",
              "      <td>Добавить блоки рекомендаций товаров на сайт интернет магазина, чтобы повысить конверсию и средний чек заказа</td>\n",
              "      <td>56.0</td>\n",
              "    </tr>\n",
              "    <tr>\n",
              "      <th>0</th>\n",
              "      <td>Добавить два новых канала привлечения трафика, что позволит привлекать на 30% больше пользователей</td>\n",
              "      <td>40.0</td>\n",
              "    </tr>\n",
              "    <tr>\n",
              "      <th>6</th>\n",
              "      <td>Показать на главной странице баннеры с актуальными акциями и распродажами, чтобы увеличить конверсию</td>\n",
              "      <td>40.0</td>\n",
              "    </tr>\n",
              "    <tr>\n",
              "      <th>8</th>\n",
              "      <td>Запустить акцию, дающую скидку на товар в день рождения</td>\n",
              "      <td>16.2</td>\n",
              "    </tr>\n",
              "    <tr>\n",
              "      <th>3</th>\n",
              "      <td>Изменить структура категорий, что увеличит конверсию, т.к. пользователи быстрее найдут нужный товар</td>\n",
              "      <td>9.0</td>\n",
              "    </tr>\n",
              "    <tr>\n",
              "      <th>1</th>\n",
              "      <td>Запустить собственную службу доставки, что сократит срок доставки заказов</td>\n",
              "      <td>4.0</td>\n",
              "    </tr>\n",
              "    <tr>\n",
              "      <th>5</th>\n",
              "      <td>Добавить страницу отзывов клиентов о магазине, что позволит увеличить количество заказов</td>\n",
              "      <td>4.0</td>\n",
              "    </tr>\n",
              "    <tr>\n",
              "      <th>4</th>\n",
              "      <td>Изменить цвет фона главной страницы, чтобы увеличить вовлеченность пользователей</td>\n",
              "      <td>3.0</td>\n",
              "    </tr>\n",
              "  </tbody>\n",
              "</table>\n",
              "</div>"
            ],
            "text/plain": [
              "                                                                                                     hypothesis  \\\n",
              "7              Добавить форму подписки на все основные страницы, чтобы собрать базу клиентов для email-рассылок   \n",
              "2  Добавить блоки рекомендаций товаров на сайт интернет магазина, чтобы повысить конверсию и средний чек заказа   \n",
              "0            Добавить два новых канала привлечения трафика, что позволит привлекать на 30% больше пользователей   \n",
              "6          Показать на главной странице баннеры с актуальными акциями и распродажами, чтобы увеличить конверсию   \n",
              "8                                                       Запустить акцию, дающую скидку на товар в день рождения   \n",
              "3           Изменить структура категорий, что увеличит конверсию, т.к. пользователи быстрее найдут нужный товар   \n",
              "1                                     Запустить собственную службу доставки, что сократит срок доставки заказов   \n",
              "5                      Добавить страницу отзывов клиентов о магазине, что позволит увеличить количество заказов   \n",
              "4                              Изменить цвет фона главной страницы, чтобы увеличить вовлеченность пользователей   \n",
              "\n",
              "    RICE  \n",
              "7  112.0  \n",
              "2   56.0  \n",
              "0   40.0  \n",
              "6   40.0  \n",
              "8   16.2  \n",
              "3    9.0  \n",
              "1    4.0  \n",
              "5    4.0  \n",
              "4    3.0  "
            ]
          },
          "execution_count": 19,
          "metadata": {},
          "output_type": "execute_result"
        }
      ],
      "source": [
        "#Примените фреймворк RICE для приоритизации гипотез. Отсортируйте их по убыванию приоритета.\n",
        "hypothesis['RICE'] = (hypothesis['reach'] * hypothesis['impact'] * hypothesis['confidence']) / hypothesis['efforts']\n",
        "hypothesis[['hypothesis','RICE']].sort_values(by = 'RICE', ascending = False)"
      ]
    },
    {
      "cell_type": "markdown",
      "metadata": {
        "id": "K3cEgnufMD5Q"
      },
      "source": [
        "**Вывод:**"
      ]
    },
    {
      "cell_type": "markdown",
      "metadata": {
        "id": "KZsS_6qtMD5Q"
      },
      "source": [
        "**Укажите, как изменилась приоритизация гипотез при применении RICE вместо ICE. Объясните, почему так произошло**"
      ]
    },
    {
      "cell_type": "markdown",
      "metadata": {
        "id": "-nMn-AsJMD5R"
      },
      "source": [
        "*Позиции в ICE  и RICE сильно разнятся, гипотеза с индексом 7 находится в 3ке лидеров в обоих методах приоретизации.\n",
        "Метод RICE расчитывается с участием параметра reach, на мой взгляд, этот параметр один из важнейших, в виду того, что он показывает сколько пользователей охватит изменение которые мы тестируем.*\n",
        "\n",
        "*Исходя из этого более высокая приоретизация гипотезы с индексом 7*"
      ]
    },
    {
      "cell_type": "markdown",
      "metadata": {
        "id": "E8nMPmmGMD5R"
      },
      "source": [
        "**Часть 2. Анализ A/B-теста**"
      ]
    },
    {
      "cell_type": "code",
      "execution_count": null,
      "metadata": {
        "scrolled": true,
        "id": "IypzCdlgMD5S",
        "outputId": "4c883696-96f0-49b9-d389-39ad08b3489c"
      },
      "outputs": [
        {
          "data": {
            "text/plain": [
              "58"
            ]
          },
          "execution_count": 20,
          "metadata": {},
          "output_type": "execute_result"
        }
      ],
      "source": [
        "gourp_a_ids = orders.query('group == \"A\"')['orderId']\n",
        "gourp_b_ids = orders.query('group == \"B\"')['orderId']\n",
        "double = np.intersect1d(gourp_a_ids, gourp_b_ids)\n",
        "len(double)"
      ]
    },
    {
      "cell_type": "code",
      "execution_count": null,
      "metadata": {
        "scrolled": true,
        "id": "Fn3FUrnjMD5S",
        "outputId": "55edc530-31fd-4965-ca66-6145c5bcea47"
      },
      "outputs": [
        {
          "data": {
            "text/html": [
              "<div>\n",
              "<style scoped>\n",
              "    .dataframe tbody tr th:only-of-type {\n",
              "        vertical-align: middle;\n",
              "    }\n",
              "\n",
              "    .dataframe tbody tr th {\n",
              "        vertical-align: top;\n",
              "    }\n",
              "\n",
              "    .dataframe thead th {\n",
              "        text-align: right;\n",
              "    }\n",
              "</style>\n",
              "<table border=\"1\" class=\"dataframe\">\n",
              "  <thead>\n",
              "    <tr style=\"text-align: right;\">\n",
              "      <th></th>\n",
              "      <th>userId</th>\n",
              "      <th>orderId</th>\n",
              "      <th>date</th>\n",
              "      <th>revenue</th>\n",
              "      <th>group</th>\n",
              "    </tr>\n",
              "  </thead>\n",
              "  <tbody>\n",
              "    <tr>\n",
              "      <th>703</th>\n",
              "      <td>4293855558</td>\n",
              "      <td>8300375</td>\n",
              "      <td>2019-08-07</td>\n",
              "      <td>1790</td>\n",
              "      <td>A</td>\n",
              "    </tr>\n",
              "    <tr>\n",
              "      <th>71</th>\n",
              "      <td>3679129301</td>\n",
              "      <td>8300375</td>\n",
              "      <td>2019-08-01</td>\n",
              "      <td>10510</td>\n",
              "      <td>B</td>\n",
              "    </tr>\n",
              "    <tr>\n",
              "      <th>823</th>\n",
              "      <td>2971973105</td>\n",
              "      <td>199603092</td>\n",
              "      <td>2019-08-27</td>\n",
              "      <td>2790</td>\n",
              "      <td>A</td>\n",
              "    </tr>\n",
              "    <tr>\n",
              "      <th>246</th>\n",
              "      <td>437656952</td>\n",
              "      <td>199603092</td>\n",
              "      <td>2019-08-02</td>\n",
              "      <td>3488</td>\n",
              "      <td>B</td>\n",
              "    </tr>\n",
              "    <tr>\n",
              "      <th>26</th>\n",
              "      <td>2223239646</td>\n",
              "      <td>199603092</td>\n",
              "      <td>2019-08-15</td>\n",
              "      <td>3488</td>\n",
              "      <td>A</td>\n",
              "    </tr>\n",
              "    <tr>\n",
              "      <th>...</th>\n",
              "      <td>...</td>\n",
              "      <td>...</td>\n",
              "      <td>...</td>\n",
              "      <td>...</td>\n",
              "      <td>...</td>\n",
              "    </tr>\n",
              "    <tr>\n",
              "      <th>187</th>\n",
              "      <td>2048878902</td>\n",
              "      <td>4256040402</td>\n",
              "      <td>2019-08-17</td>\n",
              "      <td>1550</td>\n",
              "      <td>A</td>\n",
              "    </tr>\n",
              "    <tr>\n",
              "      <th>114</th>\n",
              "      <td>1120327437</td>\n",
              "      <td>4256040402</td>\n",
              "      <td>2019-08-01</td>\n",
              "      <td>5800</td>\n",
              "      <td>A</td>\n",
              "    </tr>\n",
              "    <tr>\n",
              "      <th>60</th>\n",
              "      <td>1421016313</td>\n",
              "      <td>4256040402</td>\n",
              "      <td>2019-08-16</td>\n",
              "      <td>56650</td>\n",
              "      <td>B</td>\n",
              "    </tr>\n",
              "    <tr>\n",
              "      <th>662</th>\n",
              "      <td>1811671147</td>\n",
              "      <td>4266935830</td>\n",
              "      <td>2019-08-29</td>\n",
              "      <td>78990</td>\n",
              "      <td>A</td>\n",
              "    </tr>\n",
              "    <tr>\n",
              "      <th>682</th>\n",
              "      <td>1216533772</td>\n",
              "      <td>4266935830</td>\n",
              "      <td>2019-08-29</td>\n",
              "      <td>78990</td>\n",
              "      <td>B</td>\n",
              "    </tr>\n",
              "  </tbody>\n",
              "</table>\n",
              "<p>181 rows × 5 columns</p>\n",
              "</div>"
            ],
            "text/plain": [
              "         userId     orderId       date  revenue group\n",
              "703  4293855558     8300375 2019-08-07     1790     A\n",
              "71   3679129301     8300375 2019-08-01    10510     B\n",
              "823  2971973105   199603092 2019-08-27     2790     A\n",
              "246   437656952   199603092 2019-08-02     3488     B\n",
              "26   2223239646   199603092 2019-08-15     3488     A\n",
              "..          ...         ...        ...      ...   ...\n",
              "187  2048878902  4256040402 2019-08-17     1550     A\n",
              "114  1120327437  4256040402 2019-08-01     5800     A\n",
              "60   1421016313  4256040402 2019-08-16    56650     B\n",
              "662  1811671147  4266935830 2019-08-29    78990     A\n",
              "682  1216533772  4266935830 2019-08-29    78990     B\n",
              "\n",
              "[181 rows x 5 columns]"
            ]
          },
          "execution_count": 21,
          "metadata": {},
          "output_type": "execute_result"
        }
      ],
      "source": [
        "orders.query('orderId.isin(@double)').sort_values(by = 'orderId')\n"
      ]
    },
    {
      "cell_type": "markdown",
      "metadata": {
        "id": "_C_2esSlMD5S"
      },
      "source": [
        "*181 строка повторяется в обоих группах, объем весомый, но с такими данными продолжать анализ невозможно.*\n",
        "\n",
        "*Данные строки будут удалены*"
      ]
    },
    {
      "cell_type": "code",
      "execution_count": null,
      "metadata": {
        "id": "yaY4QPqHMD5S"
      },
      "outputs": [],
      "source": [
        "orders = orders[orders.isin(double) == False]\n",
        "orders = orders.dropna()\n",
        "#orders"
      ]
    },
    {
      "cell_type": "markdown",
      "metadata": {
        "id": "X1Gukgz2MD5T"
      },
      "source": [
        "**Постройте график кумулятивной выручки по группам. Сделайте выводы и предположения.**"
      ]
    },
    {
      "cell_type": "code",
      "execution_count": null,
      "metadata": {
        "scrolled": true,
        "id": "SOrkoNkAMD5T",
        "outputId": "04edceb8-ac6b-43b1-dd69-841ee6a044f4"
      },
      "outputs": [
        {
          "data": {
            "text/plain": [
              "Text(0.5, 1.0, 'График кумулятивной выручки по группам')"
            ]
          },
          "execution_count": 23,
          "metadata": {},
          "output_type": "execute_result"
        },
        {
          "data": {
            "image/png": "[encoded data removed]",
            "text/plain": [
              "<Figure size 1080x360 with 1 Axes>"
            ]
          },
          "metadata": {
            "needs_background": "light"
          },
          "output_type": "display_data"
        }
      ],
      "source": [
        "datesGroups = orders[['date', 'group']].drop_duplicates()\n",
        "\n",
        "ordersAggregated = datesGroups.apply(\n",
        "    lambda x: orders[\n",
        "        np.logical_and(\n",
        "            orders['date'] <= x['date'], orders['group'] == x['group']\n",
        "        )\n",
        "    ].agg(\n",
        "        {\n",
        "            'date': 'max',\n",
        "            'group': 'max',\n",
        "            'orderId': 'nunique',\n",
        "            'userId': 'nunique',\n",
        "            'revenue': 'sum',\n",
        "        }\n",
        "    ),\n",
        "    axis=1,\n",
        ").sort_values(by=['date', 'group'])\n",
        "\n",
        "visitorsAggregated = datesGroups.apply(\n",
        "    lambda x: visitors[\n",
        "        np.logical_and(\n",
        "            visitors['date'] <= x['date'], visitors['group'] == x['group']\n",
        "        )\n",
        "    ].agg({'date': 'max', 'group': 'max', 'visitors': 'sum'}),\n",
        "    axis=1,\n",
        ").sort_values(by=['date', 'group'])\n",
        "\n",
        "cumulativeData = ordersAggregated.merge(\n",
        "    visitorsAggregated, left_on=['date', 'group'], right_on=['date', 'group']\n",
        ")\n",
        "cumulativeData.columns = [\n",
        "    'date',\n",
        "    'group',\n",
        "    'orders',\n",
        "    'buyers',\n",
        "    'revenue',\n",
        "    'visitors',\n",
        "]\n",
        "cumulativeRevenueA = cumulativeData[cumulativeData['group']=='A'][['date','revenue', 'orders']]\n",
        "cumulativeRevenueB = cumulativeData[cumulativeData['group']=='B'][['date','revenue', 'orders']]\n",
        "plt.figure(figsize=(15,5))\n",
        "plt.grid()\n",
        "plt.plot(cumulativeRevenueA['date'], cumulativeRevenueA['revenue'], label='группа A')\n",
        "plt.plot(cumulativeRevenueB['date'], cumulativeRevenueB['revenue'], label='группа B')\n",
        "plt.legend()\n",
        "plt.title('График кумулятивной выручки по группам')"
      ]
    },
    {
      "cell_type": "markdown",
      "metadata": {
        "id": "DZeO77S5MD5T"
      },
      "source": [
        "**Вывод**"
      ]
    },
    {
      "cell_type": "markdown",
      "metadata": {
        "id": "hT-TPKtAMD5U"
      },
      "source": [
        "*До 5 августа кум.выручка в двух группах была приметно одинковая, однако далее группа В начинает прирастать быстрее, 13\n",
        "августа группы по выручке сравнялись, скорей всего в группе А в этот день был крупный чек, то же самое можно сказать про 19 авгутса в группе В, к концу эксперимента лидером по кум. выручке является группа В*"
      ]
    },
    {
      "cell_type": "markdown",
      "metadata": {
        "id": "eIhOBf9tMD5U"
      },
      "source": [
        "**Постройте график кумулятивного среднего чека по группам. Сделайте выводы и предположения.**"
      ]
    },
    {
      "cell_type": "code",
      "execution_count": null,
      "metadata": {
        "id": "wqZXWxF5MD5U",
        "outputId": "4f96dc67-264f-41bb-d4b6-25b6b7e6ca26"
      },
      "outputs": [
        {
          "data": {
            "text/plain": [
              "Text(0.5, 1.0, 'График кумулятивного среднего чека по группам')"
            ]
          },
          "execution_count": 24,
          "metadata": {},
          "output_type": "execute_result"
        },
        {
          "data": {
            "image/png": "[encoded data removed]",
            "text/plain": [
              "<Figure size 1080x360 with 1 Axes>"
            ]
          },
          "metadata": {
            "needs_background": "light"
          },
          "output_type": "display_data"
        }
      ],
      "source": [
        "plt.figure(figsize=(15,5))\n",
        "plt.grid()\n",
        "plt.plot(cumulativeRevenueA['date'], cumulativeRevenueA['revenue']/cumulativeRevenueA['orders'], label='группа A')\n",
        "plt.plot(cumulativeRevenueB['date'], cumulativeRevenueB['revenue']/cumulativeRevenueB['orders'], label='группа B')\n",
        "plt.legend()\n",
        "plt.title('График кумулятивного среднего чека по группам')"
      ]
    },
    {
      "cell_type": "markdown",
      "metadata": {
        "id": "XSRVTiBcMD5U"
      },
      "source": [
        "**Вывод**"
      ]
    },
    {
      "cell_type": "markdown",
      "metadata": {
        "id": "8nnGSltpMD5V"
      },
      "source": [
        "*Судя по графику средний чек в группе В значительно выше чем в группе А, так же подтверждается гипотеза о крупном чеке 19 августа, отчетливо видно на графике скачок. То же самое можно сказать относительно чека в группе А 13 августа. В накопительом значении среднего чека лидирует группа В.*"
      ]
    },
    {
      "cell_type": "markdown",
      "metadata": {
        "id": "4Rn8qxnxMD5V"
      },
      "source": [
        "**Постройте график относительного изменения кумулятивного среднего чека группы B к группе A. Сделайте выводы и предположения.**"
      ]
    },
    {
      "cell_type": "code",
      "execution_count": null,
      "metadata": {
        "id": "o5O-jeHZMD5V",
        "outputId": "72409d68-d9f8-4f64-e0c4-afeb8ee680b9"
      },
      "outputs": [
        {
          "data": {
            "text/plain": [
              "Text(0.5, 1.0, 'Относительное изменение кумулятивного среднего чека групп B к А')"
            ]
          },
          "execution_count": 25,
          "metadata": {},
          "output_type": "execute_result"
        },
        {
          "data": {
            "image/png": "[encoded data removed]",
            "text/plain": [
              "<Figure size 1080x360 with 1 Axes>"
            ]
          },
          "metadata": {
            "needs_background": "light"
          },
          "output_type": "display_data"
        }
      ],
      "source": [
        "mergedCumulativeRevenue = cumulativeRevenueA.merge(cumulativeRevenueB, left_on='date', right_on='date', how='left', suffixes=['A', 'B'])\n",
        "\n",
        "# cтроим отношение средних чеков\n",
        "plt.figure(figsize=(15,5))\n",
        "plt.grid()\n",
        "plt.plot(mergedCumulativeRevenue['date'], (mergedCumulativeRevenue['revenueB']/mergedCumulativeRevenue['ordersB'])/(mergedCumulativeRevenue['revenueA']/mergedCumulativeRevenue['ordersA'])-1)\n",
        "\n",
        "# добавляем ось X\n",
        "plt.axhline(y=0, color='black', linestyle='--')\n",
        "plt.axhline(y=0.25, color='grey', linestyle='--')\n",
        "plt.title('Относительное изменение кумулятивного среднего чека групп B к А')\n"
      ]
    },
    {
      "cell_type": "markdown",
      "metadata": {
        "id": "UtD4Qz5vMD5W"
      },
      "source": [
        "**Вывод**"
      ]
    },
    {
      "cell_type": "markdown",
      "metadata": {
        "id": "OFl58JFIMD5W"
      },
      "source": [
        "*Почти с самого начала группа В лидирует по конверсии, относительная фиксация среднего чека наблюдается 19-25 августа(от 40-45%), далее к концу эксперимента средний чек можно зафиксировать примерно на 25% прироста*"
      ]
    },
    {
      "cell_type": "markdown",
      "metadata": {
        "id": "AMHW_rLzMD5W"
      },
      "source": [
        "**Постройте график кумулятивного среднего количества заказов на посетителя по группам. Сделайте выводы и предположения.**"
      ]
    },
    {
      "cell_type": "code",
      "execution_count": null,
      "metadata": {
        "id": "vmZHcuytMD5X",
        "outputId": "d5604963-4f6d-4973-e050-b2d5951c143e"
      },
      "outputs": [
        {
          "data": {
            "text/plain": [
              "Text(0.5, 1.0, 'График кумулятивного среднего количества заказов на посетителя по группам')"
            ]
          },
          "execution_count": 26,
          "metadata": {},
          "output_type": "execute_result"
        },
        {
          "data": {
            "image/png": "[encoded data removed]",
            "text/plain": [
              "<Figure size 1080x360 with 1 Axes>"
            ]
          },
          "metadata": {
            "needs_background": "light"
          },
          "output_type": "display_data"
        }
      ],
      "source": [
        "cumulativeOrdersA = cumulativeData[cumulativeData['group']=='A'][['date','orders', 'visitors']]\n",
        "cumulativeOrdersB = cumulativeData[cumulativeData['group']=='B'][['date','orders', 'visitors']]\n",
        "plt.figure(figsize=(15,5))\n",
        "plt.grid()\n",
        "plt.plot(cumulativeOrdersA['date'], cumulativeOrdersA['orders']/cumulativeOrdersA['visitors'], label='группа A')\n",
        "plt.plot(cumulativeOrdersB['date'], cumulativeOrdersB['orders']/cumulativeOrdersB['visitors'], label='группа B')\n",
        "plt.legend()\n",
        "plt.title('График кумулятивного среднего количества заказов на посетителя по группам')"
      ]
    },
    {
      "cell_type": "markdown",
      "metadata": {
        "id": "0zLZXhBtMD5X"
      },
      "source": [
        "**Вывод**"
      ]
    },
    {
      "cell_type": "markdown",
      "metadata": {
        "id": "NKZliNiTMD5Y"
      },
      "source": [
        "*Интересные данные, группа А фиксирует 3 августа самую высокую конверсию за весь эксперимент, далее стремительно падает.\n",
        "Группа В имеет более лидирующую позицию, 4 августа начинает активный рост.\n",
        "Группа В имеет лучшую конверсию кол-ва заказов на посетителя*"
      ]
    },
    {
      "cell_type": "markdown",
      "metadata": {
        "id": "PlhNcSddMD5Z"
      },
      "source": [
        "**Постройте график относительного изменения кумулятивного среднего количества заказов на посетителя группы B к группе A. Сделайте выводы и предположения.**"
      ]
    },
    {
      "cell_type": "code",
      "execution_count": null,
      "metadata": {
        "id": "qOeZxlTUMD5a",
        "outputId": "4dc4cb15-96d1-4304-cbdd-b449e762488e"
      },
      "outputs": [
        {
          "data": {
            "text/plain": [
              "Text(0.5, 1.0, 'Относительное изменение кумулятивной конверсии группы B к группе A')"
            ]
          },
          "execution_count": 27,
          "metadata": {},
          "output_type": "execute_result"
        },
        {
          "data": {
            "image/png": "[encoded data removed]",
            "text/plain": [
              "<Figure size 1080x360 with 1 Axes>"
            ]
          },
          "metadata": {
            "needs_background": "light"
          },
          "output_type": "display_data"
        }
      ],
      "source": [
        "mergedCumulativeOrders = cumulativeOrdersA.merge(cumulativeOrdersB, left_on='date', right_on='date', how='left', suffixes=['A', 'B'])\n",
        "\n",
        "# cтроим отношение средних чеков\n",
        "plt.figure(figsize=(15,5))\n",
        "plt.grid()\n",
        "plt.plot(mergedCumulativeOrders['date'], (mergedCumulativeOrders['ordersB']/mergedCumulativeOrders['visitorsB'])/(mergedCumulativeOrders['ordersA']/mergedCumulativeOrders['visitorsA'])-1)\n",
        "\n",
        "# добавляем ось X\n",
        "plt.axhline(y=0, color='black', linestyle='--')\n",
        "plt.axhline(y=0.15, color='grey', linestyle='--')\n",
        "plt.title('Относительное изменение кумулятивной конверсии группы B к группе A')"
      ]
    },
    {
      "cell_type": "markdown",
      "metadata": {
        "id": "rp4KGLD-MD5b"
      },
      "source": [
        "**Вывод**"
      ]
    },
    {
      "cell_type": "markdown",
      "metadata": {
        "id": "EJKrtq43MD5b"
      },
      "source": [
        "*Как и в предыдущих графиках видно в начале эксперимента всплекс конверии за счет грппы А, далее постепенно группа В \"вытягивает\" конверсию, к концу эксперимента конверсия фиксируется на отметке примерно 16%*"
      ]
    },
    {
      "cell_type": "markdown",
      "metadata": {
        "id": "L8dtzzTFMD5d"
      },
      "source": [
        "**Постройте точечный график количества заказов по пользователям. Сделайте выводы и предположения.**"
      ]
    },
    {
      "cell_type": "code",
      "execution_count": null,
      "metadata": {
        "id": "FocyBbZWMD5e",
        "outputId": "53eabdba-5af1-44e6-a92b-57c3a96ecc9f"
      },
      "outputs": [
        {
          "data": {
            "text/plain": [
              "Text(0.5, 1.0, 'Точечный график количества заказов по пользователям')"
            ]
          },
          "execution_count": 28,
          "metadata": {},
          "output_type": "execute_result"
        },
        {
          "data": {
            "image/png": "[encoded data removed]",
            "text/plain": [
              "<Figure size 1080x360 with 1 Axes>"
            ]
          },
          "metadata": {
            "needs_background": "light"
          },
          "output_type": "display_data"
        }
      ],
      "source": [
        "ordersByUsers = (\n",
        "    orders.groupby('orderId', as_index=False)\n",
        "    .agg({'userId': 'nunique'})\n",
        ")\n",
        "ordersByUsers.columns = ['userId', 'orders']\n",
        "\n",
        "ordersByUsers.sort_values(by='orders', ascending=False)\n",
        "\n",
        "x_values = pd.Series(range(0,len(ordersByUsers)))\n",
        "plt.figure(figsize=(15,5))\n",
        "plt.grid()\n",
        "plt.scatter(x_values, ordersByUsers['orders'], alpha = 0.7)\n",
        "\n",
        "plt.title('Точечный график количества заказов по пользователям')"
      ]
    },
    {
      "cell_type": "markdown",
      "metadata": {
        "id": "ihr7dKjFMD5e"
      },
      "source": [
        "**Вывод**"
      ]
    },
    {
      "cell_type": "markdown",
      "metadata": {
        "id": "nI_BvDJxMD5f"
      },
      "source": [
        "*Мы видим плотную линию на границе 1 заказа, меньше заказов на позиции 2 и совсем мало на 3 заказа\n",
        "Будем разбираться дальше, что является выбросом в данном случае.*"
      ]
    },
    {
      "cell_type": "markdown",
      "metadata": {
        "id": "TpJoQ27QMD5f"
      },
      "source": [
        "**Посчитайте 95-й и 99-й перцентили количества заказов на пользователя. Выберите границу для определения аномальных пользователей.**"
      ]
    },
    {
      "cell_type": "code",
      "execution_count": null,
      "metadata": {
        "id": "GofOHAciMD5f",
        "outputId": "0686c7eb-44bc-4720-f7ae-5def64656c1d"
      },
      "outputs": [
        {
          "data": {
            "text/plain": [
              "array([1., 2.])"
            ]
          },
          "execution_count": 29,
          "metadata": {},
          "output_type": "execute_result"
        }
      ],
      "source": [
        "np.percentile(ordersByUsers['orders'], [95,99])"
      ]
    },
    {
      "cell_type": "code",
      "execution_count": null,
      "metadata": {
        "id": "_92i8OkqMD5f",
        "outputId": "4dd65f70-e404-4592-d14e-bc790d8d262d"
      },
      "outputs": [
        {
          "data": {
            "text/plain": [
              "array([1., 2., 2.])"
            ]
          },
          "execution_count": 30,
          "metadata": {},
          "output_type": "execute_result"
        }
      ],
      "source": [
        "np.percentile(ordersByUsers['orders'], [96,97,98])"
      ]
    },
    {
      "cell_type": "markdown",
      "metadata": {
        "id": "jsKOEPz2MD5g"
      },
      "source": [
        "**Вывод**"
      ]
    },
    {
      "cell_type": "markdown",
      "metadata": {
        "id": "cusBQ7IEMD5g"
      },
      "source": [
        "*95% процентов пользователей делают 1 заказ, все что выше будем считать выбросами*"
      ]
    },
    {
      "cell_type": "markdown",
      "metadata": {
        "id": "HZz3QRw1MD5h"
      },
      "source": [
        "**Постройте точечный график стоимостей заказов. Сделайте выводы и предположения.**"
      ]
    },
    {
      "cell_type": "code",
      "execution_count": null,
      "metadata": {
        "id": "4UHxn-epMD5i",
        "outputId": "6d8e7c06-88f0-473a-ecc2-4d2c4ee274fc"
      },
      "outputs": [
        {
          "data": {
            "text/plain": [
              "Text(0.5, 1.0, 'точечный график стоимостей заказов')"
            ]
          },
          "execution_count": 31,
          "metadata": {},
          "output_type": "execute_result"
        },
        {
          "data": {
            "image/png": "[encoded data removed]",
            "text/plain": [
              "<Figure size 1080x360 with 1 Axes>"
            ]
          },
          "metadata": {
            "needs_background": "light"
          },
          "output_type": "display_data"
        }
      ],
      "source": [
        "x_values = pd.Series(range(0,len(orders['revenue'])))\n",
        "plt.figure(figsize=(15,5))\n",
        "plt.grid()\n",
        "plt.scatter(x_values, orders['revenue'])\n",
        "plt.title('точечный график стоимостей заказов')"
      ]
    },
    {
      "cell_type": "markdown",
      "metadata": {
        "id": "K9REkI1PMD5j"
      },
      "source": [
        "**Вывод**"
      ]
    },
    {
      "cell_type": "markdown",
      "metadata": {
        "id": "Mfql35HqMD5j"
      },
      "source": [
        "*Судя по графику осноной массив стоимости до 100000 рублей, есть явный выброс около 1,3 млн.руб, более точно с выбросами разберемся дальше*"
      ]
    },
    {
      "cell_type": "markdown",
      "metadata": {
        "id": "ACBM6NtNMD5j"
      },
      "source": [
        "**Посчитайте 95-й и 99-й перцентили стоимости заказов. Выберите границу для определения аномальных заказов.**"
      ]
    },
    {
      "cell_type": "code",
      "execution_count": null,
      "metadata": {
        "id": "fd7ezlrXMD5j",
        "outputId": "26d3fee5-e2ea-4266-8fa5-24efba0bd97d"
      },
      "outputs": [
        {
          "data": {
            "text/plain": [
              "array([26785., 53904.])"
            ]
          },
          "execution_count": 32,
          "metadata": {},
          "output_type": "execute_result"
        }
      ],
      "source": [
        "np.percentile(orders['revenue'], [95, 99])"
      ]
    },
    {
      "cell_type": "markdown",
      "metadata": {
        "id": "J76jcaz6MD5k"
      },
      "source": [
        "**Вывод**"
      ]
    },
    {
      "cell_type": "markdown",
      "metadata": {
        "id": "Do3Hkyr_MD5k"
      },
      "source": [
        "*95% покупок сделано в сумме до 26785 руб, верхнюю границу выброса определим 53904 руб*"
      ]
    },
    {
      "cell_type": "markdown",
      "metadata": {
        "id": "PyBpbERdMD5k"
      },
      "source": [
        "**Посчитайте статистическую значимость различий в среднем количестве заказов на посетителя между группами по «сырым» данным. Сделайте выводы и предположения.**"
      ]
    },
    {
      "cell_type": "code",
      "execution_count": null,
      "metadata": {
        "id": "rKrEg56ZMD5k"
      },
      "outputs": [],
      "source": [
        "visitorsADaily = visitors[visitors['group'] == 'A'][['date', 'visitors']]\n",
        "visitorsADaily.columns = ['date', 'visitorsPerDateA']\n",
        "\n",
        "visitorsACummulative = visitorsADaily.apply(\n",
        "    lambda x: visitorsADaily[visitorsADaily['date'] <= x['date']].agg(\n",
        "        {'date': 'max', 'visitorsPerDateA': 'sum'}\n",
        "    ),\n",
        "    axis=1,\n",
        ")\n",
        "visitorsACummulative.columns = ['date', 'visitorsCummulativeA']\n",
        "\n",
        "visitorsBDaily = visitors[visitors['group'] == 'B'][['date', 'visitors']]\n",
        "visitorsBDaily.columns = ['date', 'visitorsPerDateB']\n",
        "\n",
        "visitorsBCummulative = visitorsBDaily.apply(\n",
        "    lambda x: visitorsBDaily[visitorsBDaily['date'] <= x['date']].agg(\n",
        "        {'date': 'max', 'visitorsPerDateB': 'sum'}\n",
        "    ),\n",
        "    axis=1,\n",
        ")\n",
        "visitorsBCummulative.columns = ['date', 'visitorsCummulativeB']\n",
        "\n",
        "ordersADaily = (\n",
        "    orders[orders['group'] == 'A'][['date', 'orderId', 'userId', 'revenue']]\n",
        "    .groupby('date', as_index=False)\n",
        "    .agg({'orderId': pd.Series.nunique, 'revenue': 'sum'})\n",
        ")\n",
        "ordersADaily.columns = ['date', 'ordersPerDateA', 'revenuePerDateA']\n",
        "\n",
        "ordersACummulative = ordersADaily.apply(\n",
        "    lambda x: ordersADaily[ordersADaily['date'] <= x['date']].agg(\n",
        "        {'date': 'max', 'ordersPerDateA': 'sum', 'revenuePerDateA': 'sum'}\n",
        "    ),\n",
        "    axis=1,\n",
        ").sort_values(by=['date'])\n",
        "ordersACummulative.columns = [\n",
        "    'date',\n",
        "    'ordersCummulativeA',\n",
        "    'revenueCummulativeA',\n",
        "]\n",
        "\n",
        "ordersBDaily = (\n",
        "    orders[orders['group'] == 'B'][['date', 'orderId', 'userId', 'revenue']]\n",
        "    .groupby('date', as_index=False)\n",
        "    .agg({'orderId': pd.Series.nunique, 'revenue': 'sum'})\n",
        ")\n",
        "ordersBDaily.columns = ['date', 'ordersPerDateB', 'revenuePerDateB']\n",
        "\n",
        "ordersBCummulative = ordersBDaily.apply(\n",
        "    lambda x: ordersBDaily[ordersBDaily['date'] <= x['date']].agg(\n",
        "        {'date': 'max', 'ordersPerDateB': 'sum', 'revenuePerDateB': 'sum'}\n",
        "    ),\n",
        "    axis=1,\n",
        ").sort_values(by=['date'])\n",
        "ordersBCummulative.columns = [\n",
        "    'date',\n",
        "    'ordersCummulativeB',\n",
        "    'revenueCummulativeB',\n",
        "]"
      ]
    },
    {
      "cell_type": "code",
      "execution_count": null,
      "metadata": {
        "id": "8SXbc4UiMD5l",
        "outputId": "91e84b33-1454-41d2-81f7-9cefdc0c2c52"
      },
      "outputs": [
        {
          "data": {
            "text/html": [
              "<div>\n",
              "<style scoped>\n",
              "    .dataframe tbody tr th:only-of-type {\n",
              "        vertical-align: middle;\n",
              "    }\n",
              "\n",
              "    .dataframe tbody tr th {\n",
              "        vertical-align: top;\n",
              "    }\n",
              "\n",
              "    .dataframe thead th {\n",
              "        text-align: right;\n",
              "    }\n",
              "</style>\n",
              "<table border=\"1\" class=\"dataframe\">\n",
              "  <thead>\n",
              "    <tr style=\"text-align: right;\">\n",
              "      <th></th>\n",
              "      <th>date</th>\n",
              "      <th>ordersPerDateA</th>\n",
              "      <th>revenuePerDateA</th>\n",
              "      <th>ordersPerDateB</th>\n",
              "      <th>revenuePerDateB</th>\n",
              "      <th>ordersCummulativeA</th>\n",
              "      <th>revenueCummulativeA</th>\n",
              "      <th>ordersCummulativeB</th>\n",
              "      <th>revenueCummulativeB</th>\n",
              "      <th>visitorsPerDateA</th>\n",
              "      <th>visitorsPerDateB</th>\n",
              "      <th>visitorsCummulativeA</th>\n",
              "      <th>visitorsCummulativeB</th>\n",
              "    </tr>\n",
              "  </thead>\n",
              "  <tbody>\n",
              "    <tr>\n",
              "      <th>0</th>\n",
              "      <td>2019-08-01</td>\n",
              "      <td>19.0</td>\n",
              "      <td>142779</td>\n",
              "      <td>17.0</td>\n",
              "      <td>59758</td>\n",
              "      <td>19.0</td>\n",
              "      <td>142779</td>\n",
              "      <td>17.0</td>\n",
              "      <td>59758</td>\n",
              "      <td>719</td>\n",
              "      <td>713</td>\n",
              "      <td>719</td>\n",
              "      <td>713</td>\n",
              "    </tr>\n",
              "    <tr>\n",
              "      <th>1</th>\n",
              "      <td>2019-08-02</td>\n",
              "      <td>18.0</td>\n",
              "      <td>91602</td>\n",
              "      <td>22.0</td>\n",
              "      <td>162043</td>\n",
              "      <td>37.0</td>\n",
              "      <td>234381</td>\n",
              "      <td>39.0</td>\n",
              "      <td>221801</td>\n",
              "      <td>619</td>\n",
              "      <td>581</td>\n",
              "      <td>1338</td>\n",
              "      <td>1294</td>\n",
              "    </tr>\n",
              "    <tr>\n",
              "      <th>2</th>\n",
              "      <td>2019-08-03</td>\n",
              "      <td>24.0</td>\n",
              "      <td>112473</td>\n",
              "      <td>14.0</td>\n",
              "      <td>67049</td>\n",
              "      <td>61.0</td>\n",
              "      <td>346854</td>\n",
              "      <td>53.0</td>\n",
              "      <td>288850</td>\n",
              "      <td>507</td>\n",
              "      <td>509</td>\n",
              "      <td>1845</td>\n",
              "      <td>1803</td>\n",
              "    </tr>\n",
              "    <tr>\n",
              "      <th>3</th>\n",
              "      <td>2019-08-04</td>\n",
              "      <td>11.0</td>\n",
              "      <td>41176</td>\n",
              "      <td>13.0</td>\n",
              "      <td>96890</td>\n",
              "      <td>72.0</td>\n",
              "      <td>388030</td>\n",
              "      <td>66.0</td>\n",
              "      <td>385740</td>\n",
              "      <td>717</td>\n",
              "      <td>770</td>\n",
              "      <td>2562</td>\n",
              "      <td>2573</td>\n",
              "    </tr>\n",
              "    <tr>\n",
              "      <th>4</th>\n",
              "      <td>2019-08-05</td>\n",
              "      <td>22.0</td>\n",
              "      <td>86383</td>\n",
              "      <td>21.0</td>\n",
              "      <td>89908</td>\n",
              "      <td>94.0</td>\n",
              "      <td>474413</td>\n",
              "      <td>87.0</td>\n",
              "      <td>475648</td>\n",
              "      <td>756</td>\n",
              "      <td>707</td>\n",
              "      <td>3318</td>\n",
              "      <td>3280</td>\n",
              "    </tr>\n",
              "  </tbody>\n",
              "</table>\n",
              "</div>"
            ],
            "text/plain": [
              "        date  ordersPerDateA  revenuePerDateA  ordersPerDateB  \\\n",
              "0 2019-08-01            19.0           142779            17.0   \n",
              "1 2019-08-02            18.0            91602            22.0   \n",
              "2 2019-08-03            24.0           112473            14.0   \n",
              "3 2019-08-04            11.0            41176            13.0   \n",
              "4 2019-08-05            22.0            86383            21.0   \n",
              "\n",
              "   revenuePerDateB  ordersCummulativeA  revenueCummulativeA  \\\n",
              "0            59758                19.0               142779   \n",
              "1           162043                37.0               234381   \n",
              "2            67049                61.0               346854   \n",
              "3            96890                72.0               388030   \n",
              "4            89908                94.0               474413   \n",
              "\n",
              "   ordersCummulativeB  revenueCummulativeB  visitorsPerDateA  \\\n",
              "0                17.0                59758               719   \n",
              "1                39.0               221801               619   \n",
              "2                53.0               288850               507   \n",
              "3                66.0               385740               717   \n",
              "4                87.0               475648               756   \n",
              "\n",
              "   visitorsPerDateB  visitorsCummulativeA  visitorsCummulativeB  \n",
              "0               713                   719                   713  \n",
              "1               581                  1338                  1294  \n",
              "2               509                  1845                  1803  \n",
              "3               770                  2562                  2573  \n",
              "4               707                  3318                  3280  "
            ]
          },
          "execution_count": 34,
          "metadata": {},
          "output_type": "execute_result"
        }
      ],
      "source": [
        "data = (\n",
        "    ordersADaily.merge(\n",
        "        ordersBDaily, left_on='date', right_on='date', how='left'\n",
        "    )\n",
        "    .merge(ordersACummulative, left_on='date', right_on='date', how='left')\n",
        "    .merge(ordersBCummulative, left_on='date', right_on='date', how='left')\n",
        "    .merge(visitorsADaily, left_on='date', right_on='date', how='left')\n",
        "    .merge(visitorsBDaily, left_on='date', right_on='date', how='left')\n",
        "    .merge(visitorsACummulative, left_on='date', right_on='date', how='left')\n",
        "    .merge(visitorsBCummulative, left_on='date', right_on='date', how='left')\n",
        ")\n",
        "data.head(5)"
      ]
    },
    {
      "cell_type": "markdown",
      "metadata": {
        "id": "1MRaO4dbMD5l"
      },
      "source": [
        "**За нулевую гипотезу примем: \"стат значимых различий в среднем количестве заказов, по сырым данным, между группами нет\", альтернативная гипотеза: \"стат значимые различия есть.\"**"
      ]
    },
    {
      "cell_type": "code",
      "execution_count": null,
      "metadata": {
        "id": "uAcwZcZ3MD5n",
        "outputId": "8853e54a-e9d0-4748-aed3-cf88f81d68f1"
      },
      "outputs": [
        {
          "name": "stdout",
          "output_type": "stream",
          "text": [
            "p-value = 0.017\n",
            "Относит. показатель = 0.160\n"
          ]
        }
      ],
      "source": [
        "ordersByUsersA = (\n",
        "    orders[orders['group'] == 'A']\n",
        "    .groupby('userId', as_index=False)\n",
        "    .agg({'orderId': pd.Series.nunique})\n",
        ")\n",
        "ordersByUsersA.columns = ['userId', 'orders']\n",
        "\n",
        "ordersByUsersB = (\n",
        "    orders[orders['group'] == 'B']\n",
        "    .groupby('userId', as_index=False)\n",
        "    .agg({'orderId': pd.Series.nunique})\n",
        ")\n",
        "ordersByUsersB.columns = ['userId', 'orders']\n",
        "\n",
        "sampleA = pd.concat([ordersByUsersA['orders'],pd.Series(0, index=np.arange(data['visitorsPerDateA'].sum() - len(ordersByUsersA['orders'])), name='orders')],axis=0)\n",
        "\n",
        "sampleB = pd.concat([ordersByUsersB['orders'],pd.Series(0, index=np.arange(data['visitorsPerDateB'].sum() - len(ordersByUsersB['orders'])), name='orders')],axis=0)\n",
        "\n",
        "print(\"p-value = {0:.3f}\".format(stats.mannwhitneyu(sampleA, sampleB)[1]))\n",
        "print(\"Относит. показатель = {0:.3f}\".format(sampleB.mean()/sampleA.mean()-1))"
      ]
    },
    {
      "cell_type": "markdown",
      "metadata": {
        "id": "QdMVSLWiMD5n"
      },
      "source": [
        "**Вывод**"
      ]
    },
    {
      "cell_type": "markdown",
      "metadata": {
        "id": "2wZClaq_MD5o"
      },
      "source": [
        "*Пи значение 0,017, что является меньше альфа(0,05), вывод нулевую гипотеpу отвергаем, стат значимость между группами присутствует, разница в группах 16%*"
      ]
    },
    {
      "cell_type": "markdown",
      "metadata": {
        "id": "4vfBUrxvMD5p"
      },
      "source": [
        "**Посчитайте статистическую значимость различий в среднем чеке заказа между группами по «сырым» данным. Сделайте выводы и предположения.**"
      ]
    },
    {
      "cell_type": "markdown",
      "metadata": {
        "id": "PBvzuj_ZMD5p"
      },
      "source": [
        "**За нулевую гипотезу примем: \"стат значимых различий в среднем чеке заказов, по сырым данным, между группами нет\", альтернативная гипотеза: \"стат значимые различия есть.\"**"
      ]
    },
    {
      "cell_type": "code",
      "execution_count": null,
      "metadata": {
        "id": "obxrpZJeMD5q",
        "outputId": "628b49fb-b05d-4d39-d3da-e3f6302da770"
      },
      "outputs": [
        {
          "name": "stdout",
          "output_type": "stream",
          "text": [
            "p-value = 0.829\n",
            "Относит. показатель = 0.287\n"
          ]
        }
      ],
      "source": [
        "print('p-value = {0:.3f}'.format(stats.mannwhitneyu(orders[orders['group']=='A']['revenue'], orders[orders['group']=='B']['revenue'])[1]))\n",
        "print('Относит. показатель = {0:.3f}'.format(orders[orders['group']=='B']['revenue'].mean()/orders[orders['group']=='A']['revenue'].mean()-1))"
      ]
    },
    {
      "cell_type": "markdown",
      "metadata": {
        "id": "2uiYKlFbMD5q"
      },
      "source": [
        "**Вывод**"
      ]
    },
    {
      "cell_type": "markdown",
      "metadata": {
        "id": "QfpThTYbMD5r"
      },
      "source": [
        "*Пи значение выше чем альфа(0,05), значит нулевую гипотезу мы отвергнуть не можем, стат. значимых различий в среднем чеке, по сырам данным, нет. По чистым данным мы видим разницу в группах 28,7%, что не является стат значимым*"
      ]
    },
    {
      "cell_type": "markdown",
      "metadata": {
        "id": "UaQtBGLhMD5r"
      },
      "source": [
        "**Посчитайте статистическую значимость различий в среднем количестве заказов на посетителя между группами по «очищенным» данным. Сделайте выводы и предположения.**"
      ]
    },
    {
      "cell_type": "markdown",
      "metadata": {
        "id": "umAtPvCmMD5r"
      },
      "source": [
        "Очистим данные.\n",
        "\n",
        "Из пунктов ранее мы увидели аномальных пользователей и определили их:\n",
        "- заказы:  и больше 1  \n",
        "- стоимость заказа > 53904 руб.\n",
        "\n",
        "\n",
        "На осонованнии данных делаем срезы по критериям:\n",
        "- числом заказов больше 1  \n",
        "- стоимость заказа дороже 53904.\n"
      ]
    },
    {
      "cell_type": "code",
      "execution_count": null,
      "metadata": {
        "id": "eVSLQXrJMD5s",
        "outputId": "c6846b51-f9aa-4f91-86f2-3f384a7740dd"
      },
      "outputs": [
        {
          "name": "stdout",
          "output_type": "stream",
          "text": [
            "1099     316924019\n",
            "425      590470918\n",
            "1136     666610489\n",
            "949     1347999392\n",
            "1103    1348774318\n",
            "Name: userId, dtype: int64\n"
          ]
        }
      ],
      "source": [
        "usersWithManyOrders  = pd.concat(\n",
        "    [ordersByUsersA[ordersByUsersA['orders']>1]['userId'],\n",
        "     ordersByUsersB[ordersByUsersB['orders']>1]['userId'],\n",
        "    ],\n",
        "    axis = 0,\n",
        ")\n",
        "usersWithExpensiveOrders = orders[orders['revenue']>53904]['userId']\n",
        "abnormalUsers = (\n",
        "    pd.concat([usersWithManyOrders, usersWithExpensiveOrders], axis = 0)\n",
        "    .drop_duplicates()\n",
        "    .sort_values()\n",
        ")\n",
        "print(abnormalUsers.head())"
      ]
    },
    {
      "cell_type": "markdown",
      "metadata": {
        "id": "JOCRnK1TMD5t"
      },
      "source": [
        "Избавились от аномалий, теперь рассчитаем стат значимость в среднем количестве заказов между группами"
      ]
    },
    {
      "cell_type": "markdown",
      "metadata": {
        "id": "avePpgUbMD5t"
      },
      "source": [
        "**За нулевую гипотезу примем: \"стат значимых различий в среднем количестве заказов, по очищенным данным, между группами нет\", альтернативная гипотеза: \"стат значимые различия есть.\"**"
      ]
    },
    {
      "cell_type": "code",
      "execution_count": null,
      "metadata": {
        "id": "7B4oN2RHMD5t",
        "outputId": "f714bbc5-4108-4035-f760-76f2051d9c56"
      },
      "outputs": [
        {
          "name": "stdout",
          "output_type": "stream",
          "text": [
            "p-value = 0.015\n",
            "Относит. показатель = 0.164\n"
          ]
        }
      ],
      "source": [
        "sampleAFiltered = pd.concat(\n",
        "    [\n",
        "        ordersByUsersA[\n",
        "            np.logical_not(ordersByUsersA['userId'].isin(abnormalUsers))\n",
        "        ]['orders'],\n",
        "        pd.Series(\n",
        "            0,\n",
        "        index=np.arange(data['visitorsPerDateA'].sum()-len(ordersByUsersA['orders'])\n",
        "                       ),\n",
        "            name='orders'\n",
        "        ),\n",
        "    ],\n",
        "    axis=0,\n",
        ")\n",
        "sampleBFiltered =sampleBFiltered = pd.concat(\n",
        "    [\n",
        "        ordersByUsersB[\n",
        "            np.logical_not(ordersByUsersB['userId'].isin(abnormalUsers))\n",
        "        ]['orders'],\n",
        "        pd.Series(\n",
        "            0,\n",
        "            index=np.arange(\n",
        "                data['visitorsPerDateB'].sum() - len(ordersByUsersB['orders'])\n",
        "            ),\n",
        "            name='orders',\n",
        "        ),\n",
        "    ],\n",
        "        axis=0,\n",
        ")\n",
        "print(\"p-value = {0:.3f}\".format(stats.mannwhitneyu(sampleAFiltered, sampleBFiltered, alternative = 'two-sided')[1]))\n",
        "print(\"Относит. показатель = {0:.3f}\".format(sampleBFiltered.mean()/sampleAFiltered.mean()-1))"
      ]
    },
    {
      "cell_type": "markdown",
      "metadata": {
        "id": "SDVYuPvpMD5u"
      },
      "source": [
        "**Вывод**"
      ]
    },
    {
      "cell_type": "markdown",
      "metadata": {
        "id": "5lbLCkGmMD5u"
      },
      "source": [
        "*По очищенным данным видим, что пи значение ниже альфа, значит мы отвергаем нулевую гипотезу, стат значимые различия между группами присуттвуют, группа В превосходит группу А на 16,4%*"
      ]
    },
    {
      "cell_type": "markdown",
      "metadata": {
        "id": "seDTMiAlMD5v"
      },
      "source": [
        "**Посчитайте статистическую значимость различий в среднем чеке заказа между группами по «очищенным» данным. Сделайте выводы и предположения.**"
      ]
    },
    {
      "cell_type": "markdown",
      "metadata": {
        "id": "VOrV8X8NMD5v"
      },
      "source": [
        "**За нулевую гипотезу примем: \"стат значимых различий в средних чеках между группами нет\", альтернативная гипотеза: \"стат значимые различия есть.\"**"
      ]
    },
    {
      "cell_type": "code",
      "execution_count": null,
      "metadata": {
        "id": "ThOfXbh9MD5v",
        "outputId": "0201c012-e4d1-425b-d337-afa9646d5a1b"
      },
      "outputs": [
        {
          "name": "stdout",
          "output_type": "stream",
          "text": [
            "p-value = 0.901\n",
            "Относит. показатель = -0.032 \n"
          ]
        }
      ],
      "source": [
        "print(\n",
        "    'p-value = {0:.3f}'.format(\n",
        "        stats.mannwhitneyu(\n",
        "            orders[\n",
        "                np.logical_and(\n",
        "                    orders['group'] == 'A',\n",
        "                    np.logical_not(orders['userId'].isin(abnormalUsers)),\n",
        "                )\n",
        "            ]['revenue'],\n",
        "            orders[\n",
        "                np.logical_and(\n",
        "                    orders['group'] == 'B',\n",
        "                    np.logical_not(orders['userId'].isin(abnormalUsers)),\n",
        "                )\n",
        "            ]['revenue'],\n",
        "        )[1]\n",
        "    )\n",
        ")\n",
        "\n",
        "print(\n",
        "    \"Относит. показатель = {0:.3f} \".format(\n",
        "        orders[\n",
        "            np.logical_and(\n",
        "                orders['group'] == 'B',\n",
        "                np.logical_not(orders['userId'].isin(abnormalUsers)),\n",
        "            )\n",
        "        ]['revenue'].mean()\n",
        "        / orders[\n",
        "            np.logical_and(\n",
        "                orders['group'] == 'A',\n",
        "                np.logical_not(orders['userId'].isin(abnormalUsers)),\n",
        "            )\n",
        "        ]['revenue'].mean()\n",
        "        - 1\n",
        "    )\n",
        ")"
      ]
    },
    {
      "cell_type": "markdown",
      "metadata": {
        "id": "3RMSKfv-MD5w"
      },
      "source": [
        "**Вывод**"
      ]
    },
    {
      "cell_type": "markdown",
      "metadata": {
        "id": "gMjKAgfPMD5w"
      },
      "source": [
        "*Пи значение больше альфа, отвергнуть нулевую гипотезу мы не можем, как и в сырых данных.\n",
        "Однако, после очистки данных от выбросов, можно заметить как сильно изменился относительный показатель между группами, сейчас он меньше 2%(в сырых данных стат значимость была почти 14%)*"
      ]
    },
    {
      "cell_type": "markdown",
      "metadata": {
        "id": "qPNZ-fCuMD5w"
      },
      "source": [
        "**Примите решение по результатам теста и объясните его. Варианты решений:**\n",
        "\n",
        "\n",
        "- Остановить тест, зафиксировать победу одной из групп.\n",
        "- Остановить тест, зафиксировать отсутствие различий между группами.\n",
        "- Продолжить тест."
      ]
    },
    {
      "cell_type": "markdown",
      "metadata": {
        "id": "JnkCVQrLMD5x"
      },
      "source": [
        "В разрезе данных конверии заказов различия в группах присутствуют, по сырым и очищенным данным группа В лидирует почти на 14%.\n",
        "\n",
        "Если смотреть на разницу в группах по среднему чеку, то в сырых и очищенных данных видно, что группы разнятся, и после очистки данных группа В также лидирует по отношению к группе А на 14%. В сырых данных разница была почти 26%.\n",
        "\n",
        "**Тест предлагаю закончить, группа В лидирует по конверии, тем самый является более эффективной**"
      ]
    }
  ],
  "metadata": {
    "ExecuteTimeLog": [
      {
        "duration": 91,
        "start_time": "2023-03-30T13:06:28.796Z"
      },
      {
        "duration": 435,
        "start_time": "2023-03-30T13:07:19.864Z"
      },
      {
        "duration": 83,
        "start_time": "2023-03-30T13:07:21.719Z"
      },
      {
        "duration": 47,
        "start_time": "2023-03-30T13:07:32.769Z"
      },
      {
        "duration": 37,
        "start_time": "2023-03-30T13:08:21.638Z"
      },
      {
        "duration": 34,
        "start_time": "2023-03-30T13:08:28.758Z"
      },
      {
        "duration": 30,
        "start_time": "2023-03-30T13:08:44.100Z"
      },
      {
        "duration": 111,
        "start_time": "2023-03-30T13:11:05.273Z"
      },
      {
        "duration": 3,
        "start_time": "2023-03-30T13:13:12.075Z"
      },
      {
        "duration": 30,
        "start_time": "2023-03-30T13:13:12.683Z"
      },
      {
        "duration": 8,
        "start_time": "2023-03-30T13:13:13.596Z"
      },
      {
        "duration": 88,
        "start_time": "2023-03-30T13:13:23.774Z"
      },
      {
        "duration": 9,
        "start_time": "2023-03-30T13:14:24.611Z"
      },
      {
        "duration": 34,
        "start_time": "2023-03-30T13:15:39.558Z"
      },
      {
        "duration": 1539,
        "start_time": "2023-03-30T13:15:46.474Z"
      },
      {
        "duration": 9,
        "start_time": "2023-03-30T13:15:57.337Z"
      },
      {
        "duration": 11,
        "start_time": "2023-03-30T13:16:12.828Z"
      },
      {
        "duration": 449,
        "start_time": "2023-03-30T13:19:53.504Z"
      },
      {
        "duration": 116,
        "start_time": "2023-03-30T13:21:35.851Z"
      },
      {
        "duration": 18,
        "start_time": "2023-03-30T13:21:42.927Z"
      },
      {
        "duration": 752,
        "start_time": "2023-03-30T13:22:01.817Z"
      },
      {
        "duration": 58,
        "start_time": "2023-03-30T13:22:14.281Z"
      },
      {
        "duration": 557,
        "start_time": "2023-03-30T13:22:37.591Z"
      },
      {
        "duration": 61,
        "start_time": "2023-03-30T13:22:49.285Z"
      },
      {
        "duration": 106,
        "start_time": "2023-03-30T13:23:01.095Z"
      },
      {
        "duration": 60,
        "start_time": "2023-03-30T13:23:17.696Z"
      },
      {
        "duration": 40,
        "start_time": "2023-03-30T13:24:19.510Z"
      },
      {
        "duration": 62,
        "start_time": "2023-03-30T13:31:27.411Z"
      },
      {
        "duration": 417,
        "start_time": "2023-03-30T13:31:50.542Z"
      },
      {
        "duration": 606,
        "start_time": "2023-03-30T13:36:58.402Z"
      },
      {
        "duration": 565,
        "start_time": "2023-03-30T13:38:09.957Z"
      },
      {
        "duration": 76,
        "start_time": "2023-03-30T13:38:26.499Z"
      },
      {
        "duration": 384,
        "start_time": "2023-03-30T13:39:46.214Z"
      },
      {
        "duration": 195,
        "start_time": "2023-03-30T13:40:38.697Z"
      },
      {
        "duration": 317,
        "start_time": "2023-03-30T13:40:56.236Z"
      },
      {
        "duration": 212,
        "start_time": "2023-03-30T13:55:42.309Z"
      },
      {
        "duration": 191,
        "start_time": "2023-03-30T13:57:13.156Z"
      },
      {
        "duration": 228,
        "start_time": "2023-03-30T13:57:34.996Z"
      },
      {
        "duration": 183,
        "start_time": "2023-03-30T15:00:51.704Z"
      },
      {
        "duration": 179,
        "start_time": "2023-03-30T15:00:59.713Z"
      },
      {
        "duration": 13,
        "start_time": "2023-03-30T15:01:28.594Z"
      },
      {
        "duration": 76,
        "start_time": "2023-03-30T15:03:06.268Z"
      },
      {
        "duration": 178,
        "start_time": "2023-03-30T15:03:14.797Z"
      },
      {
        "duration": 192,
        "start_time": "2023-03-30T15:03:27.491Z"
      },
      {
        "duration": 10,
        "start_time": "2023-03-30T15:06:58.556Z"
      },
      {
        "duration": 7,
        "start_time": "2023-03-30T15:09:27.704Z"
      },
      {
        "duration": 7,
        "start_time": "2023-03-30T15:10:03.127Z"
      },
      {
        "duration": 15,
        "start_time": "2023-03-30T15:10:06.761Z"
      },
      {
        "duration": 1651,
        "start_time": "2023-03-30T15:11:40.966Z"
      },
      {
        "duration": 307,
        "start_time": "2023-03-30T15:11:53.824Z"
      },
      {
        "duration": 13,
        "start_time": "2023-03-30T15:17:26.284Z"
      },
      {
        "duration": 127,
        "start_time": "2023-03-30T15:18:25.278Z"
      },
      {
        "duration": 216,
        "start_time": "2023-03-30T15:18:56.040Z"
      },
      {
        "duration": 137,
        "start_time": "2023-03-30T15:20:08.198Z"
      },
      {
        "duration": 49,
        "start_time": "2023-03-31T08:23:44.315Z"
      },
      {
        "duration": 403,
        "start_time": "2023-03-31T08:23:51.375Z"
      },
      {
        "duration": 68,
        "start_time": "2023-03-31T08:23:51.780Z"
      },
      {
        "duration": 11,
        "start_time": "2023-03-31T08:23:51.850Z"
      },
      {
        "duration": 9,
        "start_time": "2023-03-31T08:23:51.863Z"
      },
      {
        "duration": 388,
        "start_time": "2023-03-31T08:23:51.873Z"
      },
      {
        "duration": 84,
        "start_time": "2023-03-31T08:23:52.263Z"
      },
      {
        "duration": 60,
        "start_time": "2023-03-31T08:23:52.348Z"
      },
      {
        "duration": 536,
        "start_time": "2023-03-31T08:23:52.410Z"
      },
      {
        "duration": 185,
        "start_time": "2023-03-31T08:23:52.947Z"
      },
      {
        "duration": 364,
        "start_time": "2023-03-31T08:23:53.135Z"
      },
      {
        "duration": 207,
        "start_time": "2023-03-31T08:23:53.501Z"
      },
      {
        "duration": 276,
        "start_time": "2023-03-31T08:23:53.710Z"
      },
      {
        "duration": 181,
        "start_time": "2023-03-31T08:23:53.988Z"
      },
      {
        "duration": 154,
        "start_time": "2023-03-31T08:23:54.171Z"
      },
      {
        "duration": 122,
        "start_time": "2023-03-31T08:25:49.472Z"
      },
      {
        "duration": 127,
        "start_time": "2023-03-31T08:25:53.673Z"
      },
      {
        "duration": 128,
        "start_time": "2023-03-31T08:26:15.380Z"
      },
      {
        "duration": 137,
        "start_time": "2023-03-31T08:26:28.461Z"
      },
      {
        "duration": 125,
        "start_time": "2023-03-31T08:27:25.777Z"
      },
      {
        "duration": 438,
        "start_time": "2023-03-31T08:27:33.541Z"
      },
      {
        "duration": 42,
        "start_time": "2023-03-31T08:27:33.981Z"
      },
      {
        "duration": 11,
        "start_time": "2023-03-31T08:27:34.025Z"
      },
      {
        "duration": 11,
        "start_time": "2023-03-31T08:27:34.039Z"
      },
      {
        "duration": 261,
        "start_time": "2023-03-31T08:27:34.052Z"
      },
      {
        "duration": 46,
        "start_time": "2023-03-31T08:27:34.315Z"
      },
      {
        "duration": 136,
        "start_time": "2023-03-31T08:27:34.363Z"
      },
      {
        "duration": 19,
        "start_time": "2023-03-31T08:27:34.501Z"
      },
      {
        "duration": 549,
        "start_time": "2023-03-31T08:27:34.522Z"
      },
      {
        "duration": 211,
        "start_time": "2023-03-31T08:27:35.074Z"
      },
      {
        "duration": 276,
        "start_time": "2023-03-31T08:27:35.287Z"
      },
      {
        "duration": 252,
        "start_time": "2023-03-31T08:27:35.565Z"
      },
      {
        "duration": 277,
        "start_time": "2023-03-31T08:27:35.818Z"
      },
      {
        "duration": 131,
        "start_time": "2023-03-31T08:27:36.097Z"
      },
      {
        "duration": 122,
        "start_time": "2023-03-31T08:27:36.229Z"
      },
      {
        "duration": 223,
        "start_time": "2023-03-31T08:28:02.264Z"
      },
      {
        "duration": 127,
        "start_time": "2023-03-31T08:28:09.454Z"
      },
      {
        "duration": 129,
        "start_time": "2023-03-31T08:28:35.670Z"
      },
      {
        "duration": 7,
        "start_time": "2023-03-31T08:28:38.384Z"
      },
      {
        "duration": 125,
        "start_time": "2023-03-31T08:28:40.017Z"
      },
      {
        "duration": 12,
        "start_time": "2023-03-31T08:28:47.102Z"
      },
      {
        "duration": 11,
        "start_time": "2023-03-31T08:28:56.737Z"
      },
      {
        "duration": 242,
        "start_time": "2023-03-31T08:30:28.707Z"
      },
      {
        "duration": 7,
        "start_time": "2023-03-31T08:41:47.307Z"
      },
      {
        "duration": 18,
        "start_time": "2023-03-31T08:41:56.535Z"
      },
      {
        "duration": 58,
        "start_time": "2023-03-31T08:42:37.721Z"
      },
      {
        "duration": 58,
        "start_time": "2023-03-31T08:43:05.338Z"
      },
      {
        "duration": 476,
        "start_time": "2023-03-31T08:55:46.259Z"
      },
      {
        "duration": 479,
        "start_time": "2023-03-31T08:55:51.546Z"
      },
      {
        "duration": 354,
        "start_time": "2023-03-31T08:56:00.900Z"
      },
      {
        "duration": 273,
        "start_time": "2023-03-31T08:56:13.928Z"
      },
      {
        "duration": 479,
        "start_time": "2023-03-31T08:56:19.842Z"
      },
      {
        "duration": 304,
        "start_time": "2023-03-31T08:56:32.560Z"
      },
      {
        "duration": 202,
        "start_time": "2023-03-31T08:56:39.275Z"
      },
      {
        "duration": 262,
        "start_time": "2023-03-31T08:56:45.299Z"
      },
      {
        "duration": 219,
        "start_time": "2023-03-31T08:57:36.605Z"
      },
      {
        "duration": 485,
        "start_time": "2023-03-31T08:57:40.331Z"
      },
      {
        "duration": 283,
        "start_time": "2023-03-31T08:57:46.391Z"
      },
      {
        "duration": 210,
        "start_time": "2023-03-31T08:57:50.301Z"
      },
      {
        "duration": 324,
        "start_time": "2023-03-31T08:57:55.720Z"
      },
      {
        "duration": 319,
        "start_time": "2023-03-31T08:59:33.399Z"
      },
      {
        "duration": 359,
        "start_time": "2023-03-31T09:00:03.662Z"
      },
      {
        "duration": 322,
        "start_time": "2023-03-31T09:00:58.953Z"
      },
      {
        "duration": 244,
        "start_time": "2023-03-31T09:01:10.754Z"
      },
      {
        "duration": 349,
        "start_time": "2023-03-31T09:01:27.840Z"
      },
      {
        "duration": 322,
        "start_time": "2023-03-31T09:01:38.617Z"
      },
      {
        "duration": 224,
        "start_time": "2023-03-31T09:01:59.800Z"
      },
      {
        "duration": 514,
        "start_time": "2023-03-31T09:02:23.250Z"
      },
      {
        "duration": 78,
        "start_time": "2023-03-31T09:04:28.799Z"
      },
      {
        "duration": 139,
        "start_time": "2023-03-31T09:04:43.344Z"
      },
      {
        "duration": 164,
        "start_time": "2023-03-31T09:04:47.510Z"
      },
      {
        "duration": 152,
        "start_time": "2023-03-31T09:05:06.998Z"
      },
      {
        "duration": 440,
        "start_time": "2023-03-31T09:05:32.748Z"
      },
      {
        "duration": 36,
        "start_time": "2023-03-31T09:05:33.190Z"
      },
      {
        "duration": 10,
        "start_time": "2023-03-31T09:05:33.227Z"
      },
      {
        "duration": 13,
        "start_time": "2023-03-31T09:05:33.239Z"
      },
      {
        "duration": 249,
        "start_time": "2023-03-31T09:05:33.254Z"
      },
      {
        "duration": 46,
        "start_time": "2023-03-31T09:05:33.504Z"
      },
      {
        "duration": 20,
        "start_time": "2023-03-31T09:05:33.551Z"
      },
      {
        "duration": 638,
        "start_time": "2023-03-31T09:05:33.572Z"
      },
      {
        "duration": 250,
        "start_time": "2023-03-31T09:05:34.212Z"
      },
      {
        "duration": 391,
        "start_time": "2023-03-31T09:05:34.466Z"
      },
      {
        "duration": 324,
        "start_time": "2023-03-31T09:05:34.861Z"
      },
      {
        "duration": 302,
        "start_time": "2023-03-31T09:05:35.187Z"
      },
      {
        "duration": 145,
        "start_time": "2023-03-31T09:05:35.491Z"
      },
      {
        "duration": 134,
        "start_time": "2023-03-31T09:07:24.077Z"
      },
      {
        "duration": 146,
        "start_time": "2023-03-31T09:09:21.602Z"
      },
      {
        "duration": 146,
        "start_time": "2023-03-31T09:10:18.781Z"
      },
      {
        "duration": 5,
        "start_time": "2023-03-31T09:12:41.604Z"
      },
      {
        "duration": 5,
        "start_time": "2023-03-31T09:12:54.857Z"
      },
      {
        "duration": 75,
        "start_time": "2023-03-31T09:14:51.838Z"
      },
      {
        "duration": 5,
        "start_time": "2023-03-31T09:15:12.237Z"
      },
      {
        "duration": 48,
        "start_time": "2023-03-31T09:16:10.860Z"
      },
      {
        "duration": 125,
        "start_time": "2023-03-31T09:17:18.680Z"
      },
      {
        "duration": 178,
        "start_time": "2023-03-31T09:17:54.598Z"
      },
      {
        "duration": 785,
        "start_time": "2023-03-31T09:19:23.106Z"
      },
      {
        "duration": 4,
        "start_time": "2023-03-31T09:19:26.778Z"
      },
      {
        "duration": 4,
        "start_time": "2023-03-31T09:19:31.836Z"
      },
      {
        "duration": 5,
        "start_time": "2023-03-31T09:19:33.918Z"
      },
      {
        "duration": 76,
        "start_time": "2023-03-31T09:19:52.073Z"
      },
      {
        "duration": 223,
        "start_time": "2023-03-31T09:42:35.462Z"
      },
      {
        "duration": 23,
        "start_time": "2023-03-31T09:42:47.851Z"
      },
      {
        "duration": 9,
        "start_time": "2023-03-31T09:43:49.935Z"
      },
      {
        "duration": 3,
        "start_time": "2023-03-31T09:43:53.250Z"
      },
      {
        "duration": 28,
        "start_time": "2023-03-31T09:43:54.376Z"
      },
      {
        "duration": 13,
        "start_time": "2023-03-31T09:43:56.044Z"
      },
      {
        "duration": 14,
        "start_time": "2023-03-31T09:44:19.234Z"
      },
      {
        "duration": 31,
        "start_time": "2023-03-31T09:44:39.098Z"
      },
      {
        "duration": 157,
        "start_time": "2023-03-31T09:46:08.280Z"
      },
      {
        "duration": 171,
        "start_time": "2023-03-31T09:46:32.798Z"
      },
      {
        "duration": 172,
        "start_time": "2023-03-31T09:47:58.506Z"
      },
      {
        "duration": 168,
        "start_time": "2023-03-31T09:48:41.306Z"
      },
      {
        "duration": 180,
        "start_time": "2023-03-31T09:48:52.444Z"
      },
      {
        "duration": 225,
        "start_time": "2023-03-31T09:49:24.062Z"
      },
      {
        "duration": 546,
        "start_time": "2023-03-31T09:49:44.167Z"
      },
      {
        "duration": 811,
        "start_time": "2023-03-31T09:49:50.401Z"
      },
      {
        "duration": 34,
        "start_time": "2023-03-31T09:49:51.215Z"
      },
      {
        "duration": 12,
        "start_time": "2023-03-31T09:49:51.251Z"
      },
      {
        "duration": 18,
        "start_time": "2023-03-31T09:49:51.265Z"
      },
      {
        "duration": 204,
        "start_time": "2023-03-31T09:49:51.286Z"
      },
      {
        "duration": 114,
        "start_time": "2023-03-31T09:49:51.491Z"
      },
      {
        "duration": 19,
        "start_time": "2023-03-31T09:49:51.607Z"
      },
      {
        "duration": 605,
        "start_time": "2023-03-31T09:49:51.627Z"
      },
      {
        "duration": 221,
        "start_time": "2023-03-31T09:49:52.234Z"
      },
      {
        "duration": 348,
        "start_time": "2023-03-31T09:49:52.457Z"
      },
      {
        "duration": 248,
        "start_time": "2023-03-31T09:49:52.807Z"
      },
      {
        "duration": 325,
        "start_time": "2023-03-31T09:49:53.062Z"
      },
      {
        "duration": 177,
        "start_time": "2023-03-31T09:49:53.389Z"
      },
      {
        "duration": 6,
        "start_time": "2023-03-31T09:49:53.569Z"
      },
      {
        "duration": 189,
        "start_time": "2023-03-31T09:49:53.577Z"
      },
      {
        "duration": 6,
        "start_time": "2023-03-31T09:49:53.768Z"
      },
      {
        "duration": 336,
        "start_time": "2023-03-31T09:49:53.776Z"
      },
      {
        "duration": 46,
        "start_time": "2023-03-31T09:49:54.117Z"
      },
      {
        "duration": 214,
        "start_time": "2023-03-31T09:49:54.165Z"
      },
      {
        "duration": 187,
        "start_time": "2023-03-31T09:50:33.761Z"
      },
      {
        "duration": 185,
        "start_time": "2023-03-31T09:50:42.455Z"
      },
      {
        "duration": 162,
        "start_time": "2023-03-31T09:51:08.989Z"
      },
      {
        "duration": 456,
        "start_time": "2023-03-31T09:58:13.854Z"
      },
      {
        "duration": 10,
        "start_time": "2023-03-31T09:59:34.962Z"
      },
      {
        "duration": 10,
        "start_time": "2023-03-31T10:01:38.704Z"
      },
      {
        "duration": 9,
        "start_time": "2023-03-31T10:01:58.721Z"
      },
      {
        "duration": 8,
        "start_time": "2023-03-31T10:02:32.199Z"
      },
      {
        "duration": 16,
        "start_time": "2023-03-31T10:02:44.061Z"
      },
      {
        "duration": 9,
        "start_time": "2023-03-31T10:02:56.652Z"
      },
      {
        "duration": 10,
        "start_time": "2023-03-31T10:03:00.698Z"
      },
      {
        "duration": 11,
        "start_time": "2023-03-31T10:03:04.313Z"
      },
      {
        "duration": 31,
        "start_time": "2023-03-31T10:10:29.710Z"
      },
      {
        "duration": 28,
        "start_time": "2023-03-31T10:11:18.975Z"
      },
      {
        "duration": 177,
        "start_time": "2023-03-31T10:11:30.568Z"
      },
      {
        "duration": 191,
        "start_time": "2023-03-31T10:11:35.399Z"
      },
      {
        "duration": 24,
        "start_time": "2023-03-31T10:12:23.579Z"
      },
      {
        "duration": 14,
        "start_time": "2023-03-31T10:14:39.134Z"
      },
      {
        "duration": 13,
        "start_time": "2023-03-31T10:15:06.673Z"
      },
      {
        "duration": 17,
        "start_time": "2023-03-31T10:15:11.974Z"
      },
      {
        "duration": 17,
        "start_time": "2023-03-31T10:15:20.455Z"
      },
      {
        "duration": 34,
        "start_time": "2023-03-31T10:15:35.885Z"
      },
      {
        "duration": 11,
        "start_time": "2023-03-31T10:15:53.240Z"
      },
      {
        "duration": 14,
        "start_time": "2023-03-31T10:16:04.295Z"
      },
      {
        "duration": 178,
        "start_time": "2023-03-31T10:16:14.662Z"
      },
      {
        "duration": 50,
        "start_time": "2023-03-31T10:16:27.304Z"
      },
      {
        "duration": 855,
        "start_time": "2023-03-31T10:17:09.366Z"
      },
      {
        "duration": 34,
        "start_time": "2023-03-31T10:17:10.223Z"
      },
      {
        "duration": 13,
        "start_time": "2023-03-31T10:17:10.259Z"
      },
      {
        "duration": 12,
        "start_time": "2023-03-31T10:17:10.274Z"
      },
      {
        "duration": 211,
        "start_time": "2023-03-31T10:17:10.288Z"
      },
      {
        "duration": 106,
        "start_time": "2023-03-31T10:17:10.501Z"
      },
      {
        "duration": 21,
        "start_time": "2023-03-31T10:17:10.609Z"
      },
      {
        "duration": 597,
        "start_time": "2023-03-31T10:17:10.631Z"
      },
      {
        "duration": 244,
        "start_time": "2023-03-31T10:17:11.229Z"
      },
      {
        "duration": 333,
        "start_time": "2023-03-31T10:17:11.475Z"
      },
      {
        "duration": 285,
        "start_time": "2023-03-31T10:17:11.810Z"
      },
      {
        "duration": 323,
        "start_time": "2023-03-31T10:17:12.097Z"
      },
      {
        "duration": 182,
        "start_time": "2023-03-31T10:17:12.422Z"
      },
      {
        "duration": 6,
        "start_time": "2023-03-31T10:17:12.606Z"
      },
      {
        "duration": 209,
        "start_time": "2023-03-31T10:17:12.614Z"
      },
      {
        "duration": 5,
        "start_time": "2023-03-31T10:17:12.824Z"
      },
      {
        "duration": 221,
        "start_time": "2023-03-31T10:17:12.831Z"
      },
      {
        "duration": 36,
        "start_time": "2023-03-31T10:17:13.054Z"
      },
      {
        "duration": 211,
        "start_time": "2023-03-31T10:17:13.092Z"
      },
      {
        "duration": 10,
        "start_time": "2023-03-31T10:17:13.305Z"
      },
      {
        "duration": 10,
        "start_time": "2023-03-31T10:17:13.318Z"
      },
      {
        "duration": 56,
        "start_time": "2023-03-31T10:17:13.329Z"
      },
      {
        "duration": 15,
        "start_time": "2023-03-31T10:17:13.387Z"
      },
      {
        "duration": 51,
        "start_time": "2023-03-31T10:18:35.734Z"
      },
      {
        "duration": 74,
        "start_time": "2023-03-31T10:19:35.431Z"
      },
      {
        "duration": 52,
        "start_time": "2023-03-31T10:20:16.590Z"
      },
      {
        "duration": 49,
        "start_time": "2023-03-31T10:27:14.181Z"
      },
      {
        "duration": 4,
        "start_time": "2023-03-31T10:28:07.737Z"
      },
      {
        "duration": 60,
        "start_time": "2023-03-31T10:29:00.392Z"
      },
      {
        "duration": 13,
        "start_time": "2023-03-31T10:29:47.302Z"
      },
      {
        "duration": 114,
        "start_time": "2023-03-31T10:30:13.736Z"
      },
      {
        "duration": 9,
        "start_time": "2023-03-31T10:30:18.911Z"
      },
      {
        "duration": 11,
        "start_time": "2023-03-31T10:31:14.931Z"
      },
      {
        "duration": 11,
        "start_time": "2023-03-31T10:32:02.399Z"
      },
      {
        "duration": 9,
        "start_time": "2023-03-31T10:32:08.784Z"
      },
      {
        "duration": 13,
        "start_time": "2023-03-31T10:32:11.008Z"
      },
      {
        "duration": 4,
        "start_time": "2023-03-31T10:32:40.107Z"
      },
      {
        "duration": 11,
        "start_time": "2023-03-31T10:34:16.627Z"
      },
      {
        "duration": 3,
        "start_time": "2023-03-31T10:34:31.748Z"
      },
      {
        "duration": 11,
        "start_time": "2023-03-31T10:35:30.730Z"
      },
      {
        "duration": 7,
        "start_time": "2023-03-31T10:36:29.461Z"
      },
      {
        "duration": 6,
        "start_time": "2023-03-31T10:40:32.730Z"
      },
      {
        "duration": 4,
        "start_time": "2023-03-31T10:40:34.549Z"
      },
      {
        "duration": 11,
        "start_time": "2023-03-31T10:40:36.255Z"
      },
      {
        "duration": 8,
        "start_time": "2023-03-31T10:40:37.564Z"
      },
      {
        "duration": 11,
        "start_time": "2023-03-31T10:41:49.822Z"
      },
      {
        "duration": 905,
        "start_time": "2023-03-31T10:42:08.531Z"
      },
      {
        "duration": 60,
        "start_time": "2023-03-31T10:42:09.439Z"
      },
      {
        "duration": 14,
        "start_time": "2023-03-31T10:42:09.501Z"
      },
      {
        "duration": 16,
        "start_time": "2023-03-31T10:42:09.518Z"
      },
      {
        "duration": 9,
        "start_time": "2023-03-31T10:42:09.536Z"
      },
      {
        "duration": 42,
        "start_time": "2023-03-31T10:42:09.547Z"
      },
      {
        "duration": 31,
        "start_time": "2023-03-31T10:42:09.591Z"
      },
      {
        "duration": 21,
        "start_time": "2023-03-31T10:42:09.624Z"
      },
      {
        "duration": 5,
        "start_time": "2023-03-31T10:42:09.647Z"
      },
      {
        "duration": 7,
        "start_time": "2023-03-31T10:42:09.655Z"
      },
      {
        "duration": 21,
        "start_time": "2023-03-31T10:42:09.664Z"
      },
      {
        "duration": 13,
        "start_time": "2023-03-31T10:42:09.687Z"
      },
      {
        "duration": 4,
        "start_time": "2023-03-31T10:42:09.702Z"
      },
      {
        "duration": 7,
        "start_time": "2023-03-31T10:42:09.708Z"
      },
      {
        "duration": 22,
        "start_time": "2023-03-31T10:42:09.717Z"
      },
      {
        "duration": 22,
        "start_time": "2023-03-31T10:42:09.741Z"
      },
      {
        "duration": 12,
        "start_time": "2023-03-31T10:42:09.765Z"
      },
      {
        "duration": 10,
        "start_time": "2023-03-31T10:42:09.779Z"
      },
      {
        "duration": 400,
        "start_time": "2023-03-31T10:42:09.790Z"
      },
      {
        "duration": 0,
        "start_time": "2023-03-31T10:42:10.193Z"
      },
      {
        "duration": 0,
        "start_time": "2023-03-31T10:42:10.194Z"
      },
      {
        "duration": 0,
        "start_time": "2023-03-31T10:42:10.195Z"
      },
      {
        "duration": 0,
        "start_time": "2023-03-31T10:42:10.196Z"
      },
      {
        "duration": 0,
        "start_time": "2023-03-31T10:42:10.198Z"
      },
      {
        "duration": 1,
        "start_time": "2023-03-31T10:42:10.198Z"
      },
      {
        "duration": 0,
        "start_time": "2023-03-31T10:42:10.200Z"
      },
      {
        "duration": 0,
        "start_time": "2023-03-31T10:42:10.201Z"
      },
      {
        "duration": 0,
        "start_time": "2023-03-31T10:42:10.202Z"
      },
      {
        "duration": 0,
        "start_time": "2023-03-31T10:42:10.203Z"
      },
      {
        "duration": 0,
        "start_time": "2023-03-31T10:42:10.204Z"
      },
      {
        "duration": 0,
        "start_time": "2023-03-31T10:42:10.206Z"
      },
      {
        "duration": 0,
        "start_time": "2023-03-31T10:42:10.206Z"
      },
      {
        "duration": 0,
        "start_time": "2023-03-31T10:42:10.208Z"
      },
      {
        "duration": 0,
        "start_time": "2023-03-31T10:42:10.209Z"
      },
      {
        "duration": 12,
        "start_time": "2023-03-31T10:44:27.809Z"
      },
      {
        "duration": 904,
        "start_time": "2023-03-31T16:14:31.167Z"
      },
      {
        "duration": 558,
        "start_time": "2023-03-31T16:14:32.073Z"
      },
      {
        "duration": 15,
        "start_time": "2023-03-31T16:14:32.632Z"
      },
      {
        "duration": 26,
        "start_time": "2023-03-31T16:14:32.650Z"
      },
      {
        "duration": 33,
        "start_time": "2023-03-31T16:14:32.678Z"
      },
      {
        "duration": 11,
        "start_time": "2023-03-31T16:14:32.713Z"
      },
      {
        "duration": 21,
        "start_time": "2023-03-31T16:14:32.726Z"
      },
      {
        "duration": 26,
        "start_time": "2023-03-31T16:14:32.749Z"
      },
      {
        "duration": 35,
        "start_time": "2023-03-31T16:14:32.777Z"
      },
      {
        "duration": 15,
        "start_time": "2023-03-31T16:14:32.815Z"
      },
      {
        "duration": 11,
        "start_time": "2023-03-31T16:14:32.831Z"
      },
      {
        "duration": 13,
        "start_time": "2023-03-31T16:14:32.843Z"
      },
      {
        "duration": 10,
        "start_time": "2023-03-31T16:14:32.857Z"
      },
      {
        "duration": 9,
        "start_time": "2023-03-31T16:14:32.869Z"
      },
      {
        "duration": 13,
        "start_time": "2023-03-31T16:14:32.879Z"
      },
      {
        "duration": 19,
        "start_time": "2023-03-31T16:14:32.894Z"
      },
      {
        "duration": 11,
        "start_time": "2023-03-31T16:14:32.915Z"
      },
      {
        "duration": 15,
        "start_time": "2023-03-31T16:14:32.927Z"
      },
      {
        "duration": 15,
        "start_time": "2023-03-31T16:14:32.944Z"
      },
      {
        "duration": 410,
        "start_time": "2023-03-31T16:14:32.961Z"
      },
      {
        "duration": 0,
        "start_time": "2023-03-31T16:14:33.373Z"
      },
      {
        "duration": 0,
        "start_time": "2023-03-31T16:14:33.374Z"
      },
      {
        "duration": 0,
        "start_time": "2023-03-31T16:14:33.376Z"
      },
      {
        "duration": 0,
        "start_time": "2023-03-31T16:14:33.377Z"
      },
      {
        "duration": 0,
        "start_time": "2023-03-31T16:14:33.387Z"
      },
      {
        "duration": 0,
        "start_time": "2023-03-31T16:14:33.389Z"
      },
      {
        "duration": 0,
        "start_time": "2023-03-31T16:14:33.390Z"
      },
      {
        "duration": 0,
        "start_time": "2023-03-31T16:14:33.391Z"
      },
      {
        "duration": 0,
        "start_time": "2023-03-31T16:14:33.392Z"
      },
      {
        "duration": 0,
        "start_time": "2023-03-31T16:14:33.393Z"
      },
      {
        "duration": 0,
        "start_time": "2023-03-31T16:14:33.395Z"
      },
      {
        "duration": 0,
        "start_time": "2023-03-31T16:14:33.396Z"
      },
      {
        "duration": 0,
        "start_time": "2023-03-31T16:14:33.397Z"
      },
      {
        "duration": 0,
        "start_time": "2023-03-31T16:14:33.399Z"
      },
      {
        "duration": 0,
        "start_time": "2023-03-31T16:14:33.400Z"
      },
      {
        "duration": 458,
        "start_time": "2023-03-31T16:15:37.887Z"
      },
      {
        "duration": 1093,
        "start_time": "2023-03-31T16:15:43.572Z"
      },
      {
        "duration": 126,
        "start_time": "2023-03-31T16:15:44.667Z"
      },
      {
        "duration": 14,
        "start_time": "2023-03-31T16:15:44.796Z"
      },
      {
        "duration": 13,
        "start_time": "2023-03-31T16:15:44.812Z"
      },
      {
        "duration": 8,
        "start_time": "2023-03-31T16:15:44.828Z"
      },
      {
        "duration": 15,
        "start_time": "2023-03-31T16:15:44.839Z"
      },
      {
        "duration": 33,
        "start_time": "2023-03-31T16:15:44.856Z"
      },
      {
        "duration": 17,
        "start_time": "2023-03-31T16:15:44.890Z"
      },
      {
        "duration": 6,
        "start_time": "2023-03-31T16:15:44.909Z"
      },
      {
        "duration": 11,
        "start_time": "2023-03-31T16:15:44.917Z"
      },
      {
        "duration": 8,
        "start_time": "2023-03-31T16:15:44.929Z"
      },
      {
        "duration": 12,
        "start_time": "2023-03-31T16:15:44.939Z"
      },
      {
        "duration": 5,
        "start_time": "2023-03-31T16:15:44.953Z"
      },
      {
        "duration": 30,
        "start_time": "2023-03-31T16:15:44.962Z"
      },
      {
        "duration": 38,
        "start_time": "2023-03-31T16:15:44.994Z"
      },
      {
        "duration": 22,
        "start_time": "2023-03-31T16:15:45.034Z"
      },
      {
        "duration": 12,
        "start_time": "2023-03-31T16:15:45.058Z"
      },
      {
        "duration": 18,
        "start_time": "2023-03-31T16:15:45.073Z"
      },
      {
        "duration": 16,
        "start_time": "2023-03-31T16:15:45.093Z"
      },
      {
        "duration": 609,
        "start_time": "2023-03-31T16:15:45.111Z"
      },
      {
        "duration": 247,
        "start_time": "2023-03-31T16:15:45.722Z"
      },
      {
        "duration": 337,
        "start_time": "2023-03-31T16:15:45.971Z"
      },
      {
        "duration": 246,
        "start_time": "2023-03-31T16:15:46.310Z"
      },
      {
        "duration": 347,
        "start_time": "2023-03-31T16:15:46.558Z"
      },
      {
        "duration": 171,
        "start_time": "2023-03-31T16:15:46.907Z"
      },
      {
        "duration": 11,
        "start_time": "2023-03-31T16:15:47.080Z"
      },
      {
        "duration": 181,
        "start_time": "2023-03-31T16:15:47.093Z"
      },
      {
        "duration": 12,
        "start_time": "2023-03-31T16:15:47.276Z"
      },
      {
        "duration": 216,
        "start_time": "2023-03-31T16:15:47.291Z"
      },
      {
        "duration": 30,
        "start_time": "2023-03-31T16:15:47.509Z"
      },
      {
        "duration": 199,
        "start_time": "2023-03-31T16:15:47.541Z"
      },
      {
        "duration": 9,
        "start_time": "2023-03-31T16:15:47.742Z"
      },
      {
        "duration": 10,
        "start_time": "2023-03-31T16:15:47.753Z"
      },
      {
        "duration": 48,
        "start_time": "2023-03-31T16:15:47.765Z"
      },
      {
        "duration": 14,
        "start_time": "2023-03-31T16:15:47.814Z"
      },
      {
        "duration": 183,
        "start_time": "2023-03-31T16:18:45.639Z"
      },
      {
        "duration": 198,
        "start_time": "2023-03-31T16:20:20.274Z"
      },
      {
        "duration": 158,
        "start_time": "2023-03-31T16:20:38.168Z"
      },
      {
        "duration": 57,
        "start_time": "2023-04-02T11:08:33.739Z"
      },
      {
        "duration": 1291,
        "start_time": "2023-04-02T11:08:38.685Z"
      },
      {
        "duration": 249,
        "start_time": "2023-04-02T11:08:39.978Z"
      },
      {
        "duration": 13,
        "start_time": "2023-04-02T11:08:40.229Z"
      },
      {
        "duration": 13,
        "start_time": "2023-04-02T11:08:40.244Z"
      },
      {
        "duration": 13,
        "start_time": "2023-04-02T11:08:40.260Z"
      },
      {
        "duration": 10,
        "start_time": "2023-04-02T11:08:40.277Z"
      },
      {
        "duration": 12,
        "start_time": "2023-04-02T11:08:40.289Z"
      },
      {
        "duration": 20,
        "start_time": "2023-04-02T11:08:40.303Z"
      },
      {
        "duration": 5,
        "start_time": "2023-04-02T11:08:40.325Z"
      },
      {
        "duration": 9,
        "start_time": "2023-04-02T11:08:40.332Z"
      },
      {
        "duration": 35,
        "start_time": "2023-04-02T11:08:40.343Z"
      },
      {
        "duration": 10,
        "start_time": "2023-04-02T11:08:40.380Z"
      },
      {
        "duration": 6,
        "start_time": "2023-04-02T11:08:40.392Z"
      },
      {
        "duration": 5,
        "start_time": "2023-04-02T11:08:40.402Z"
      },
      {
        "duration": 18,
        "start_time": "2023-04-02T11:08:40.409Z"
      },
      {
        "duration": 18,
        "start_time": "2023-04-02T11:08:40.428Z"
      },
      {
        "duration": 31,
        "start_time": "2023-04-02T11:08:40.448Z"
      },
      {
        "duration": 12,
        "start_time": "2023-04-02T11:08:40.481Z"
      },
      {
        "duration": 11,
        "start_time": "2023-04-02T11:08:40.495Z"
      },
      {
        "duration": 611,
        "start_time": "2023-04-02T11:08:40.508Z"
      },
      {
        "duration": 232,
        "start_time": "2023-04-02T11:08:41.121Z"
      },
      {
        "duration": 375,
        "start_time": "2023-04-02T11:08:41.355Z"
      },
      {
        "duration": 263,
        "start_time": "2023-04-02T11:08:41.731Z"
      },
      {
        "duration": 304,
        "start_time": "2023-04-02T11:08:41.996Z"
      },
      {
        "duration": 186,
        "start_time": "2023-04-02T11:08:42.302Z"
      },
      {
        "duration": 5,
        "start_time": "2023-04-02T11:08:42.490Z"
      },
      {
        "duration": 202,
        "start_time": "2023-04-02T11:08:42.498Z"
      },
      {
        "duration": 4,
        "start_time": "2023-04-02T11:08:42.702Z"
      },
      {
        "duration": 211,
        "start_time": "2023-04-02T11:08:42.708Z"
      },
      {
        "duration": 55,
        "start_time": "2023-04-02T11:08:42.921Z"
      },
      {
        "duration": 165,
        "start_time": "2023-04-02T11:08:42.977Z"
      },
      {
        "duration": 23,
        "start_time": "2023-04-02T11:08:43.144Z"
      },
      {
        "duration": 12,
        "start_time": "2023-04-02T11:08:43.168Z"
      },
      {
        "duration": 31,
        "start_time": "2023-04-02T11:08:43.183Z"
      },
      {
        "duration": 14,
        "start_time": "2023-04-02T11:08:43.216Z"
      },
      {
        "duration": 253,
        "start_time": "2023-04-02T12:18:05.993Z"
      },
      {
        "duration": 306,
        "start_time": "2023-04-02T12:18:14.231Z"
      },
      {
        "duration": 233,
        "start_time": "2023-04-02T12:18:16.810Z"
      },
      {
        "duration": 333,
        "start_time": "2023-04-02T12:21:45.119Z"
      },
      {
        "duration": 344,
        "start_time": "2023-04-02T12:21:56.482Z"
      },
      {
        "duration": 344,
        "start_time": "2023-04-02T12:22:03.407Z"
      },
      {
        "duration": 391,
        "start_time": "2023-04-02T12:28:30.322Z"
      },
      {
        "duration": 356,
        "start_time": "2023-04-02T12:28:49.623Z"
      },
      {
        "duration": 315,
        "start_time": "2023-04-02T12:28:59.818Z"
      },
      {
        "duration": 330,
        "start_time": "2023-04-02T12:29:08.874Z"
      },
      {
        "duration": 333,
        "start_time": "2023-04-02T12:43:37.379Z"
      },
      {
        "duration": 330,
        "start_time": "2023-04-02T12:43:44.626Z"
      },
      {
        "duration": 394,
        "start_time": "2023-04-02T12:43:48.944Z"
      },
      {
        "duration": 5,
        "start_time": "2023-04-02T12:49:10.305Z"
      },
      {
        "duration": 73,
        "start_time": "2023-04-02T12:51:08.423Z"
      },
      {
        "duration": 48,
        "start_time": "2023-04-02T12:52:47.289Z"
      },
      {
        "duration": 51,
        "start_time": "2023-04-02T13:00:43.832Z"
      },
      {
        "duration": 285,
        "start_time": "2023-04-02T13:01:09.721Z"
      },
      {
        "duration": 328,
        "start_time": "2023-04-02T13:01:34.285Z"
      },
      {
        "duration": 213,
        "start_time": "2023-04-02T13:01:42.605Z"
      },
      {
        "duration": 222,
        "start_time": "2023-04-02T13:03:18.641Z"
      },
      {
        "duration": 13,
        "start_time": "2023-04-02T13:13:42.223Z"
      },
      {
        "duration": 1141,
        "start_time": "2023-04-02T13:16:15.544Z"
      },
      {
        "duration": 131,
        "start_time": "2023-04-02T13:16:16.688Z"
      },
      {
        "duration": 10,
        "start_time": "2023-04-02T13:16:16.821Z"
      },
      {
        "duration": 20,
        "start_time": "2023-04-02T13:16:16.833Z"
      },
      {
        "duration": 10,
        "start_time": "2023-04-02T13:16:16.855Z"
      },
      {
        "duration": 17,
        "start_time": "2023-04-02T13:16:16.867Z"
      },
      {
        "duration": 20,
        "start_time": "2023-04-02T13:16:16.886Z"
      },
      {
        "duration": 16,
        "start_time": "2023-04-02T13:16:16.908Z"
      },
      {
        "duration": 9,
        "start_time": "2023-04-02T13:16:16.926Z"
      },
      {
        "duration": 38,
        "start_time": "2023-04-02T13:16:16.937Z"
      },
      {
        "duration": 12,
        "start_time": "2023-04-02T13:16:16.977Z"
      },
      {
        "duration": 13,
        "start_time": "2023-04-02T13:16:16.991Z"
      },
      {
        "duration": 4,
        "start_time": "2023-04-02T13:16:17.006Z"
      },
      {
        "duration": 7,
        "start_time": "2023-04-02T13:16:17.011Z"
      },
      {
        "duration": 9,
        "start_time": "2023-04-02T13:16:17.020Z"
      },
      {
        "duration": 42,
        "start_time": "2023-04-02T13:16:17.030Z"
      },
      {
        "duration": 15,
        "start_time": "2023-04-02T13:16:17.076Z"
      },
      {
        "duration": 10,
        "start_time": "2023-04-02T13:16:17.093Z"
      },
      {
        "duration": 12,
        "start_time": "2023-04-02T13:16:17.105Z"
      },
      {
        "duration": 748,
        "start_time": "2023-04-02T13:16:17.119Z"
      },
      {
        "duration": 256,
        "start_time": "2023-04-02T13:16:17.874Z"
      },
      {
        "duration": 395,
        "start_time": "2023-04-02T13:16:18.132Z"
      },
      {
        "duration": 285,
        "start_time": "2023-04-02T13:16:18.529Z"
      },
      {
        "duration": 429,
        "start_time": "2023-04-02T13:16:18.816Z"
      },
      {
        "duration": 228,
        "start_time": "2023-04-02T13:16:19.247Z"
      },
      {
        "duration": 5,
        "start_time": "2023-04-02T13:16:19.478Z"
      },
      {
        "duration": 12,
        "start_time": "2023-04-02T13:16:19.485Z"
      },
      {
        "duration": 220,
        "start_time": "2023-04-02T13:16:19.501Z"
      },
      {
        "duration": 7,
        "start_time": "2023-04-02T13:16:19.723Z"
      },
      {
        "duration": 257,
        "start_time": "2023-04-02T13:16:19.733Z"
      },
      {
        "duration": 46,
        "start_time": "2023-04-02T13:16:19.993Z"
      },
      {
        "duration": 266,
        "start_time": "2023-04-02T13:16:20.041Z"
      },
      {
        "duration": 12,
        "start_time": "2023-04-02T13:16:20.309Z"
      },
      {
        "duration": 9,
        "start_time": "2023-04-02T13:16:20.323Z"
      },
      {
        "duration": 73,
        "start_time": "2023-04-02T13:16:20.334Z"
      },
      {
        "duration": 17,
        "start_time": "2023-04-02T13:16:20.409Z"
      },
      {
        "duration": 1259,
        "start_time": "2023-04-02T13:34:53.347Z"
      },
      {
        "duration": 126,
        "start_time": "2023-04-02T13:34:54.609Z"
      },
      {
        "duration": 12,
        "start_time": "2023-04-02T13:34:54.737Z"
      },
      {
        "duration": 38,
        "start_time": "2023-04-02T13:34:54.751Z"
      },
      {
        "duration": 5,
        "start_time": "2023-04-02T13:34:54.791Z"
      },
      {
        "duration": 14,
        "start_time": "2023-04-02T13:34:54.797Z"
      },
      {
        "duration": 11,
        "start_time": "2023-04-02T13:34:54.813Z"
      },
      {
        "duration": 14,
        "start_time": "2023-04-02T13:34:54.826Z"
      },
      {
        "duration": 8,
        "start_time": "2023-04-02T13:34:54.842Z"
      },
      {
        "duration": 14,
        "start_time": "2023-04-02T13:34:54.853Z"
      },
      {
        "duration": 19,
        "start_time": "2023-04-02T13:34:54.869Z"
      },
      {
        "duration": 10,
        "start_time": "2023-04-02T13:34:54.890Z"
      },
      {
        "duration": 7,
        "start_time": "2023-04-02T13:34:54.902Z"
      },
      {
        "duration": 26,
        "start_time": "2023-04-02T13:34:54.911Z"
      },
      {
        "duration": 9,
        "start_time": "2023-04-02T13:34:54.939Z"
      },
      {
        "duration": 33,
        "start_time": "2023-04-02T13:34:54.950Z"
      },
      {
        "duration": 19,
        "start_time": "2023-04-02T13:34:54.984Z"
      },
      {
        "duration": 23,
        "start_time": "2023-04-02T13:34:55.005Z"
      },
      {
        "duration": 10,
        "start_time": "2023-04-02T13:34:55.030Z"
      },
      {
        "duration": 671,
        "start_time": "2023-04-02T13:34:55.042Z"
      },
      {
        "duration": 269,
        "start_time": "2023-04-02T13:34:55.715Z"
      },
      {
        "duration": 342,
        "start_time": "2023-04-02T13:34:55.985Z"
      },
      {
        "duration": 278,
        "start_time": "2023-04-02T13:34:56.328Z"
      },
      {
        "duration": 311,
        "start_time": "2023-04-02T13:34:56.608Z"
      },
      {
        "duration": 188,
        "start_time": "2023-04-02T13:34:56.921Z"
      },
      {
        "duration": 5,
        "start_time": "2023-04-02T13:34:57.111Z"
      },
      {
        "duration": 5,
        "start_time": "2023-04-02T13:34:57.118Z"
      },
      {
        "duration": 224,
        "start_time": "2023-04-02T13:34:57.126Z"
      },
      {
        "duration": 7,
        "start_time": "2023-04-02T13:34:57.353Z"
      },
      {
        "duration": 232,
        "start_time": "2023-04-02T13:34:57.377Z"
      },
      {
        "duration": 28,
        "start_time": "2023-04-02T13:34:57.611Z"
      },
      {
        "duration": 241,
        "start_time": "2023-04-02T13:34:57.641Z"
      },
      {
        "duration": 14,
        "start_time": "2023-04-02T13:34:57.891Z"
      },
      {
        "duration": 10,
        "start_time": "2023-04-02T13:34:57.906Z"
      },
      {
        "duration": 35,
        "start_time": "2023-04-02T13:34:57.918Z"
      },
      {
        "duration": 29,
        "start_time": "2023-04-02T13:34:57.956Z"
      },
      {
        "duration": 1080,
        "start_time": "2023-04-02T13:36:57.960Z"
      },
      {
        "duration": 118,
        "start_time": "2023-04-02T13:36:59.042Z"
      },
      {
        "duration": 29,
        "start_time": "2023-04-02T13:36:59.162Z"
      },
      {
        "duration": 11,
        "start_time": "2023-04-02T13:36:59.193Z"
      },
      {
        "duration": 7,
        "start_time": "2023-04-02T13:36:59.205Z"
      },
      {
        "duration": 9,
        "start_time": "2023-04-02T13:36:59.213Z"
      },
      {
        "duration": 16,
        "start_time": "2023-04-02T13:36:59.223Z"
      },
      {
        "duration": 14,
        "start_time": "2023-04-02T13:36:59.241Z"
      },
      {
        "duration": 24,
        "start_time": "2023-04-02T13:36:59.257Z"
      },
      {
        "duration": 8,
        "start_time": "2023-04-02T13:36:59.284Z"
      },
      {
        "duration": 9,
        "start_time": "2023-04-02T13:36:59.293Z"
      },
      {
        "duration": 16,
        "start_time": "2023-04-02T13:36:59.303Z"
      },
      {
        "duration": 9,
        "start_time": "2023-04-02T13:36:59.321Z"
      },
      {
        "duration": 9,
        "start_time": "2023-04-02T13:36:59.332Z"
      },
      {
        "duration": 17,
        "start_time": "2023-04-02T13:36:59.343Z"
      },
      {
        "duration": 35,
        "start_time": "2023-04-02T13:36:59.362Z"
      },
      {
        "duration": 30,
        "start_time": "2023-04-02T13:36:59.399Z"
      },
      {
        "duration": 13,
        "start_time": "2023-04-02T13:36:59.431Z"
      },
      {
        "duration": 9,
        "start_time": "2023-04-02T13:36:59.446Z"
      },
      {
        "duration": 798,
        "start_time": "2023-04-02T13:36:59.457Z"
      },
      {
        "duration": 275,
        "start_time": "2023-04-02T13:37:00.262Z"
      },
      {
        "duration": 385,
        "start_time": "2023-04-02T13:37:00.539Z"
      },
      {
        "duration": 267,
        "start_time": "2023-04-02T13:37:00.926Z"
      },
      {
        "duration": 325,
        "start_time": "2023-04-02T13:37:01.197Z"
      },
      {
        "duration": 179,
        "start_time": "2023-04-02T13:37:01.523Z"
      },
      {
        "duration": 5,
        "start_time": "2023-04-02T13:37:01.704Z"
      },
      {
        "duration": 42,
        "start_time": "2023-04-02T13:37:01.711Z"
      },
      {
        "duration": 198,
        "start_time": "2023-04-02T13:37:01.756Z"
      },
      {
        "duration": 8,
        "start_time": "2023-04-02T13:37:01.956Z"
      },
      {
        "duration": 269,
        "start_time": "2023-04-02T13:37:01.977Z"
      },
      {
        "duration": 46,
        "start_time": "2023-04-02T13:37:02.248Z"
      },
      {
        "duration": 242,
        "start_time": "2023-04-02T13:37:02.295Z"
      },
      {
        "duration": 10,
        "start_time": "2023-04-02T13:37:02.539Z"
      },
      {
        "duration": 39,
        "start_time": "2023-04-02T13:37:02.550Z"
      },
      {
        "duration": 38,
        "start_time": "2023-04-02T13:37:02.591Z"
      },
      {
        "duration": 13,
        "start_time": "2023-04-02T13:37:02.631Z"
      },
      {
        "duration": 1157,
        "start_time": "2023-04-02T16:57:59.423Z"
      },
      {
        "duration": 315,
        "start_time": "2023-04-02T16:58:00.583Z"
      },
      {
        "duration": 12,
        "start_time": "2023-04-02T16:58:00.900Z"
      },
      {
        "duration": 23,
        "start_time": "2023-04-02T16:58:00.914Z"
      },
      {
        "duration": 35,
        "start_time": "2023-04-02T16:58:00.940Z"
      },
      {
        "duration": 36,
        "start_time": "2023-04-02T16:58:00.977Z"
      },
      {
        "duration": 46,
        "start_time": "2023-04-02T16:58:01.015Z"
      },
      {
        "duration": 57,
        "start_time": "2023-04-02T16:58:01.063Z"
      },
      {
        "duration": 18,
        "start_time": "2023-04-02T16:58:01.122Z"
      },
      {
        "duration": 21,
        "start_time": "2023-04-02T16:58:01.155Z"
      },
      {
        "duration": 22,
        "start_time": "2023-04-02T16:58:01.178Z"
      },
      {
        "duration": 34,
        "start_time": "2023-04-02T16:58:01.203Z"
      },
      {
        "duration": 37,
        "start_time": "2023-04-02T16:58:01.239Z"
      },
      {
        "duration": 22,
        "start_time": "2023-04-02T16:58:01.280Z"
      },
      {
        "duration": 60,
        "start_time": "2023-04-02T16:58:01.304Z"
      },
      {
        "duration": 31,
        "start_time": "2023-04-02T16:58:01.366Z"
      },
      {
        "duration": 13,
        "start_time": "2023-04-02T16:58:01.399Z"
      },
      {
        "duration": 25,
        "start_time": "2023-04-02T16:58:01.414Z"
      },
      {
        "duration": 43,
        "start_time": "2023-04-02T16:58:01.441Z"
      },
      {
        "duration": 614,
        "start_time": "2023-04-02T16:58:01.486Z"
      },
      {
        "duration": 233,
        "start_time": "2023-04-02T16:58:02.102Z"
      },
      {
        "duration": 341,
        "start_time": "2023-04-02T16:58:02.336Z"
      },
      {
        "duration": 265,
        "start_time": "2023-04-02T16:58:02.679Z"
      },
      {
        "duration": 336,
        "start_time": "2023-04-02T16:58:02.946Z"
      },
      {
        "duration": 173,
        "start_time": "2023-04-02T16:58:03.284Z"
      },
      {
        "duration": 5,
        "start_time": "2023-04-02T16:58:03.459Z"
      },
      {
        "duration": 25,
        "start_time": "2023-04-02T16:58:03.466Z"
      },
      {
        "duration": 172,
        "start_time": "2023-04-02T16:58:03.493Z"
      },
      {
        "duration": 5,
        "start_time": "2023-04-02T16:58:03.666Z"
      },
      {
        "duration": 295,
        "start_time": "2023-04-02T16:58:03.672Z"
      },
      {
        "duration": 29,
        "start_time": "2023-04-02T16:58:03.969Z"
      },
      {
        "duration": 188,
        "start_time": "2023-04-02T16:58:04.000Z"
      },
      {
        "duration": 12,
        "start_time": "2023-04-02T16:58:04.190Z"
      },
      {
        "duration": 10,
        "start_time": "2023-04-02T16:58:04.204Z"
      },
      {
        "duration": 62,
        "start_time": "2023-04-02T16:58:04.216Z"
      },
      {
        "duration": 15,
        "start_time": "2023-04-02T16:58:04.281Z"
      },
      {
        "duration": 49,
        "start_time": "2023-04-02T17:09:56.801Z"
      },
      {
        "duration": 1240,
        "start_time": "2023-04-02T17:10:03.802Z"
      },
      {
        "duration": 230,
        "start_time": "2023-04-02T17:10:05.315Z"
      },
      {
        "duration": 12,
        "start_time": "2023-04-02T17:10:06.187Z"
      },
      {
        "duration": 12,
        "start_time": "2023-04-02T17:10:06.364Z"
      },
      {
        "duration": 3,
        "start_time": "2023-04-02T17:10:06.538Z"
      },
      {
        "duration": 8,
        "start_time": "2023-04-02T17:10:06.895Z"
      },
      {
        "duration": 11,
        "start_time": "2023-04-02T17:10:07.621Z"
      },
      {
        "duration": 13,
        "start_time": "2023-04-02T17:10:07.812Z"
      },
      {
        "duration": 3,
        "start_time": "2023-04-02T17:10:07.997Z"
      },
      {
        "duration": 7,
        "start_time": "2023-04-02T17:10:08.181Z"
      },
      {
        "duration": 8,
        "start_time": "2023-04-02T17:10:08.567Z"
      },
      {
        "duration": 10,
        "start_time": "2023-04-02T17:10:08.748Z"
      },
      {
        "duration": 5,
        "start_time": "2023-04-02T17:10:08.936Z"
      },
      {
        "duration": 6,
        "start_time": "2023-04-02T17:10:09.299Z"
      },
      {
        "duration": 10,
        "start_time": "2023-04-02T17:10:12.014Z"
      },
      {
        "duration": 6,
        "start_time": "2023-04-02T17:10:22.372Z"
      },
      {
        "duration": 9,
        "start_time": "2023-04-02T17:10:25.789Z"
      },
      {
        "duration": 8,
        "start_time": "2023-04-02T17:10:35.757Z"
      },
      {
        "duration": 44,
        "start_time": "2023-04-02T17:10:53.385Z"
      },
      {
        "duration": 13,
        "start_time": "2023-04-02T17:11:12.062Z"
      },
      {
        "duration": 12,
        "start_time": "2023-04-02T17:11:14.915Z"
      },
      {
        "duration": 4,
        "start_time": "2023-04-03T06:33:39.369Z"
      },
      {
        "duration": 59,
        "start_time": "2023-04-03T06:34:10.419Z"
      },
      {
        "duration": 1288,
        "start_time": "2023-04-03T06:34:20.075Z"
      },
      {
        "duration": 225,
        "start_time": "2023-04-03T06:34:21.365Z"
      },
      {
        "duration": 12,
        "start_time": "2023-04-03T06:34:21.592Z"
      },
      {
        "duration": 17,
        "start_time": "2023-04-03T06:34:21.606Z"
      },
      {
        "duration": 26,
        "start_time": "2023-04-03T06:34:21.625Z"
      },
      {
        "duration": 10,
        "start_time": "2023-04-03T06:34:21.654Z"
      },
      {
        "duration": 17,
        "start_time": "2023-04-03T06:34:21.666Z"
      },
      {
        "duration": 16,
        "start_time": "2023-04-03T06:34:21.685Z"
      },
      {
        "duration": 7,
        "start_time": "2023-04-03T06:34:21.703Z"
      },
      {
        "duration": 7,
        "start_time": "2023-04-03T06:34:21.714Z"
      },
      {
        "duration": 9,
        "start_time": "2023-04-03T06:34:21.723Z"
      },
      {
        "duration": 11,
        "start_time": "2023-04-03T06:34:21.733Z"
      },
      {
        "duration": 5,
        "start_time": "2023-04-03T06:34:21.746Z"
      },
      {
        "duration": 7,
        "start_time": "2023-04-03T06:34:21.752Z"
      },
      {
        "duration": 9,
        "start_time": "2023-04-03T06:34:21.761Z"
      },
      {
        "duration": 14,
        "start_time": "2023-04-03T06:34:21.771Z"
      },
      {
        "duration": 46,
        "start_time": "2023-04-03T06:34:21.787Z"
      },
      {
        "duration": 10,
        "start_time": "2023-04-03T06:34:21.834Z"
      },
      {
        "duration": 19,
        "start_time": "2023-04-03T06:34:21.846Z"
      },
      {
        "duration": 591,
        "start_time": "2023-04-03T06:34:21.867Z"
      },
      {
        "duration": 237,
        "start_time": "2023-04-03T06:34:22.460Z"
      },
      {
        "duration": 402,
        "start_time": "2023-04-03T06:34:22.699Z"
      },
      {
        "duration": 254,
        "start_time": "2023-04-03T06:34:23.102Z"
      },
      {
        "duration": 304,
        "start_time": "2023-04-03T06:34:23.357Z"
      },
      {
        "duration": 167,
        "start_time": "2023-04-03T06:34:23.663Z"
      },
      {
        "duration": 5,
        "start_time": "2023-04-03T06:34:23.832Z"
      },
      {
        "duration": 5,
        "start_time": "2023-04-03T06:34:23.839Z"
      },
      {
        "duration": 188,
        "start_time": "2023-04-03T06:34:23.847Z"
      },
      {
        "duration": 6,
        "start_time": "2023-04-03T06:34:24.036Z"
      },
      {
        "duration": 216,
        "start_time": "2023-04-03T06:34:24.044Z"
      },
      {
        "duration": 30,
        "start_time": "2023-04-03T06:34:24.262Z"
      },
      {
        "duration": 195,
        "start_time": "2023-04-03T06:34:24.294Z"
      },
      {
        "duration": 11,
        "start_time": "2023-04-03T06:34:24.491Z"
      },
      {
        "duration": 26,
        "start_time": "2023-04-03T06:34:24.503Z"
      },
      {
        "duration": 29,
        "start_time": "2023-04-03T06:34:24.531Z"
      },
      {
        "duration": 14,
        "start_time": "2023-04-03T06:34:24.561Z"
      },
      {
        "duration": 6,
        "start_time": "2023-04-03T06:35:05.672Z"
      },
      {
        "duration": 5,
        "start_time": "2023-04-03T06:35:14.019Z"
      },
      {
        "duration": 11,
        "start_time": "2023-04-03T06:35:19.244Z"
      },
      {
        "duration": 17,
        "start_time": "2023-04-03T06:35:25.519Z"
      },
      {
        "duration": 10,
        "start_time": "2023-04-03T06:45:25.419Z"
      },
      {
        "duration": 113,
        "start_time": "2023-04-03T06:45:43.249Z"
      },
      {
        "duration": 5,
        "start_time": "2023-04-03T06:56:36.429Z"
      },
      {
        "duration": 7,
        "start_time": "2023-04-03T06:56:41.451Z"
      },
      {
        "duration": 11,
        "start_time": "2023-04-03T06:58:00.829Z"
      },
      {
        "duration": 19,
        "start_time": "2023-04-03T06:58:06.540Z"
      },
      {
        "duration": 15,
        "start_time": "2023-04-03T06:58:50.776Z"
      },
      {
        "duration": 15,
        "start_time": "2023-04-03T06:58:57.483Z"
      },
      {
        "duration": 14,
        "start_time": "2023-04-03T06:59:21.342Z"
      },
      {
        "duration": 1166,
        "start_time": "2023-04-03T06:59:30.126Z"
      },
      {
        "duration": 120,
        "start_time": "2023-04-03T06:59:31.294Z"
      },
      {
        "duration": 12,
        "start_time": "2023-04-03T06:59:31.416Z"
      },
      {
        "duration": 15,
        "start_time": "2023-04-03T06:59:31.430Z"
      },
      {
        "duration": 13,
        "start_time": "2023-04-03T06:59:31.448Z"
      },
      {
        "duration": 31,
        "start_time": "2023-04-03T06:59:31.462Z"
      },
      {
        "duration": 17,
        "start_time": "2023-04-03T06:59:31.495Z"
      },
      {
        "duration": 21,
        "start_time": "2023-04-03T06:59:31.514Z"
      },
      {
        "duration": 12,
        "start_time": "2023-04-03T06:59:31.537Z"
      },
      {
        "duration": 18,
        "start_time": "2023-04-03T06:59:31.552Z"
      },
      {
        "duration": 11,
        "start_time": "2023-04-03T06:59:31.572Z"
      },
      {
        "duration": 28,
        "start_time": "2023-04-03T06:59:31.584Z"
      },
      {
        "duration": 5,
        "start_time": "2023-04-03T06:59:31.613Z"
      },
      {
        "duration": 7,
        "start_time": "2023-04-03T06:59:31.621Z"
      },
      {
        "duration": 16,
        "start_time": "2023-04-03T06:59:31.630Z"
      },
      {
        "duration": 14,
        "start_time": "2023-04-03T06:59:31.649Z"
      },
      {
        "duration": 13,
        "start_time": "2023-04-03T06:59:31.665Z"
      },
      {
        "duration": 14,
        "start_time": "2023-04-03T06:59:31.680Z"
      },
      {
        "duration": 12,
        "start_time": "2023-04-03T06:59:31.723Z"
      },
      {
        "duration": 19,
        "start_time": "2023-04-03T06:59:31.737Z"
      },
      {
        "duration": 124,
        "start_time": "2023-04-03T06:59:31.757Z"
      },
      {
        "duration": 0,
        "start_time": "2023-04-03T06:59:31.883Z"
      },
      {
        "duration": 0,
        "start_time": "2023-04-03T06:59:31.884Z"
      },
      {
        "duration": 0,
        "start_time": "2023-04-03T06:59:31.885Z"
      },
      {
        "duration": 0,
        "start_time": "2023-04-03T06:59:31.886Z"
      },
      {
        "duration": 0,
        "start_time": "2023-04-03T06:59:31.887Z"
      },
      {
        "duration": 0,
        "start_time": "2023-04-03T06:59:31.889Z"
      },
      {
        "duration": 0,
        "start_time": "2023-04-03T06:59:31.890Z"
      },
      {
        "duration": 0,
        "start_time": "2023-04-03T06:59:31.891Z"
      },
      {
        "duration": 0,
        "start_time": "2023-04-03T06:59:31.892Z"
      },
      {
        "duration": 0,
        "start_time": "2023-04-03T06:59:31.894Z"
      },
      {
        "duration": 0,
        "start_time": "2023-04-03T06:59:31.895Z"
      },
      {
        "duration": 0,
        "start_time": "2023-04-03T06:59:31.897Z"
      },
      {
        "duration": 0,
        "start_time": "2023-04-03T06:59:31.898Z"
      },
      {
        "duration": 0,
        "start_time": "2023-04-03T06:59:31.923Z"
      },
      {
        "duration": 0,
        "start_time": "2023-04-03T06:59:31.925Z"
      },
      {
        "duration": 0,
        "start_time": "2023-04-03T06:59:31.926Z"
      },
      {
        "duration": 13,
        "start_time": "2023-04-03T06:59:55.233Z"
      },
      {
        "duration": 13,
        "start_time": "2023-04-03T07:00:01.222Z"
      },
      {
        "duration": 12,
        "start_time": "2023-04-03T07:00:07.834Z"
      },
      {
        "duration": 1186,
        "start_time": "2023-04-03T07:00:20.234Z"
      },
      {
        "duration": 126,
        "start_time": "2023-04-03T07:00:21.423Z"
      },
      {
        "duration": 13,
        "start_time": "2023-04-03T07:00:21.551Z"
      },
      {
        "duration": 15,
        "start_time": "2023-04-03T07:00:21.567Z"
      },
      {
        "duration": 3,
        "start_time": "2023-04-03T07:00:21.585Z"
      },
      {
        "duration": 19,
        "start_time": "2023-04-03T07:00:21.590Z"
      },
      {
        "duration": 12,
        "start_time": "2023-04-03T07:00:21.611Z"
      },
      {
        "duration": 15,
        "start_time": "2023-04-03T07:00:21.625Z"
      },
      {
        "duration": 13,
        "start_time": "2023-04-03T07:00:21.641Z"
      },
      {
        "duration": 36,
        "start_time": "2023-04-03T07:00:21.657Z"
      },
      {
        "duration": 9,
        "start_time": "2023-04-03T07:00:21.695Z"
      },
      {
        "duration": 19,
        "start_time": "2023-04-03T07:00:21.706Z"
      },
      {
        "duration": 7,
        "start_time": "2023-04-03T07:00:21.727Z"
      },
      {
        "duration": 6,
        "start_time": "2023-04-03T07:00:21.738Z"
      },
      {
        "duration": 18,
        "start_time": "2023-04-03T07:00:21.746Z"
      },
      {
        "duration": 16,
        "start_time": "2023-04-03T07:00:21.766Z"
      },
      {
        "duration": 46,
        "start_time": "2023-04-03T07:00:21.784Z"
      },
      {
        "duration": 15,
        "start_time": "2023-04-03T07:00:21.831Z"
      },
      {
        "duration": 8,
        "start_time": "2023-04-03T07:00:21.848Z"
      },
      {
        "duration": 14,
        "start_time": "2023-04-03T07:00:21.858Z"
      },
      {
        "duration": 676,
        "start_time": "2023-04-03T07:00:21.874Z"
      },
      {
        "duration": 269,
        "start_time": "2023-04-03T07:00:22.552Z"
      },
      {
        "duration": 358,
        "start_time": "2023-04-03T07:00:22.824Z"
      },
      {
        "duration": 266,
        "start_time": "2023-04-03T07:00:23.184Z"
      },
      {
        "duration": 317,
        "start_time": "2023-04-03T07:00:23.451Z"
      },
      {
        "duration": 177,
        "start_time": "2023-04-03T07:00:23.770Z"
      },
      {
        "duration": 6,
        "start_time": "2023-04-03T07:00:23.950Z"
      },
      {
        "duration": 11,
        "start_time": "2023-04-03T07:00:23.958Z"
      },
      {
        "duration": 212,
        "start_time": "2023-04-03T07:00:23.972Z"
      },
      {
        "duration": 6,
        "start_time": "2023-04-03T07:00:24.185Z"
      },
      {
        "duration": 249,
        "start_time": "2023-04-03T07:00:24.193Z"
      },
      {
        "duration": 32,
        "start_time": "2023-04-03T07:00:24.444Z"
      },
      {
        "duration": 223,
        "start_time": "2023-04-03T07:00:24.478Z"
      },
      {
        "duration": 23,
        "start_time": "2023-04-03T07:00:24.703Z"
      },
      {
        "duration": 12,
        "start_time": "2023-04-03T07:00:24.728Z"
      },
      {
        "duration": 49,
        "start_time": "2023-04-03T07:00:24.742Z"
      },
      {
        "duration": 14,
        "start_time": "2023-04-03T07:00:24.793Z"
      },
      {
        "duration": 22,
        "start_time": "2023-04-03T07:00:35.928Z"
      },
      {
        "duration": 104,
        "start_time": "2023-04-03T07:04:19.734Z"
      },
      {
        "duration": 1049,
        "start_time": "2023-04-03T07:04:24.874Z"
      },
      {
        "duration": 117,
        "start_time": "2023-04-03T07:04:25.925Z"
      },
      {
        "duration": 13,
        "start_time": "2023-04-03T07:04:26.044Z"
      },
      {
        "duration": 12,
        "start_time": "2023-04-03T07:04:26.059Z"
      },
      {
        "duration": 3,
        "start_time": "2023-04-03T07:04:26.073Z"
      },
      {
        "duration": 10,
        "start_time": "2023-04-03T07:04:26.078Z"
      },
      {
        "duration": 12,
        "start_time": "2023-04-03T07:04:26.089Z"
      },
      {
        "duration": 13,
        "start_time": "2023-04-03T07:04:26.123Z"
      },
      {
        "duration": 4,
        "start_time": "2023-04-03T07:04:26.138Z"
      },
      {
        "duration": 20,
        "start_time": "2023-04-03T07:04:26.144Z"
      },
      {
        "duration": 8,
        "start_time": "2023-04-03T07:04:26.165Z"
      },
      {
        "duration": 11,
        "start_time": "2023-04-03T07:04:26.175Z"
      },
      {
        "duration": 37,
        "start_time": "2023-04-03T07:04:26.188Z"
      },
      {
        "duration": 8,
        "start_time": "2023-04-03T07:04:26.227Z"
      },
      {
        "duration": 11,
        "start_time": "2023-04-03T07:04:26.237Z"
      },
      {
        "duration": 13,
        "start_time": "2023-04-03T07:04:26.250Z"
      },
      {
        "duration": 12,
        "start_time": "2023-04-03T07:04:26.265Z"
      },
      {
        "duration": 140,
        "start_time": "2023-04-03T07:04:26.279Z"
      },
      {
        "duration": 0,
        "start_time": "2023-04-03T07:04:26.423Z"
      },
      {
        "duration": 0,
        "start_time": "2023-04-03T07:04:26.425Z"
      },
      {
        "duration": 0,
        "start_time": "2023-04-03T07:04:26.426Z"
      },
      {
        "duration": 0,
        "start_time": "2023-04-03T07:04:26.428Z"
      },
      {
        "duration": 0,
        "start_time": "2023-04-03T07:04:26.429Z"
      },
      {
        "duration": 0,
        "start_time": "2023-04-03T07:04:26.431Z"
      },
      {
        "duration": 0,
        "start_time": "2023-04-03T07:04:26.433Z"
      },
      {
        "duration": 0,
        "start_time": "2023-04-03T07:04:26.434Z"
      },
      {
        "duration": 0,
        "start_time": "2023-04-03T07:04:26.436Z"
      },
      {
        "duration": 0,
        "start_time": "2023-04-03T07:04:26.437Z"
      },
      {
        "duration": 0,
        "start_time": "2023-04-03T07:04:26.439Z"
      },
      {
        "duration": 0,
        "start_time": "2023-04-03T07:04:26.440Z"
      },
      {
        "duration": 0,
        "start_time": "2023-04-03T07:04:26.442Z"
      },
      {
        "duration": 0,
        "start_time": "2023-04-03T07:04:26.444Z"
      },
      {
        "duration": 0,
        "start_time": "2023-04-03T07:04:26.445Z"
      },
      {
        "duration": 0,
        "start_time": "2023-04-03T07:04:26.447Z"
      },
      {
        "duration": 0,
        "start_time": "2023-04-03T07:04:26.448Z"
      },
      {
        "duration": 0,
        "start_time": "2023-04-03T07:04:26.449Z"
      },
      {
        "duration": 0,
        "start_time": "2023-04-03T07:04:26.451Z"
      },
      {
        "duration": 6,
        "start_time": "2023-04-03T07:07:24.334Z"
      },
      {
        "duration": 8,
        "start_time": "2023-04-03T07:07:28.134Z"
      },
      {
        "duration": 5,
        "start_time": "2023-04-03T07:12:02.853Z"
      },
      {
        "duration": 657,
        "start_time": "2023-04-03T07:12:24.704Z"
      },
      {
        "duration": 10,
        "start_time": "2023-04-03T07:12:54.747Z"
      },
      {
        "duration": 8,
        "start_time": "2023-04-03T07:13:15.224Z"
      },
      {
        "duration": 11,
        "start_time": "2023-04-03T07:14:20.616Z"
      },
      {
        "duration": 81,
        "start_time": "2023-04-03T07:15:01.046Z"
      },
      {
        "duration": 18,
        "start_time": "2023-04-03T07:15:09.316Z"
      },
      {
        "duration": 17,
        "start_time": "2023-04-03T07:15:18.643Z"
      },
      {
        "duration": 16,
        "start_time": "2023-04-03T07:15:41.715Z"
      },
      {
        "duration": 15,
        "start_time": "2023-04-03T07:15:46.128Z"
      },
      {
        "duration": 11,
        "start_time": "2023-04-03T07:15:58.970Z"
      },
      {
        "duration": 10,
        "start_time": "2023-04-03T07:16:01.150Z"
      },
      {
        "duration": 10,
        "start_time": "2023-04-03T07:17:48.081Z"
      },
      {
        "duration": 10,
        "start_time": "2023-04-03T07:18:04.110Z"
      },
      {
        "duration": 14,
        "start_time": "2023-04-03T07:18:11.977Z"
      },
      {
        "duration": 10,
        "start_time": "2023-04-03T07:18:36.369Z"
      },
      {
        "duration": 11,
        "start_time": "2023-04-03T07:18:43.863Z"
      },
      {
        "duration": 12,
        "start_time": "2023-04-03T07:20:10.038Z"
      },
      {
        "duration": 10,
        "start_time": "2023-04-03T07:20:20.805Z"
      },
      {
        "duration": 15,
        "start_time": "2023-04-03T07:24:51.238Z"
      },
      {
        "duration": 13,
        "start_time": "2023-04-03T07:24:57.207Z"
      },
      {
        "duration": 10,
        "start_time": "2023-04-03T07:25:19.742Z"
      },
      {
        "duration": 9,
        "start_time": "2023-04-03T07:25:37.702Z"
      },
      {
        "duration": 13,
        "start_time": "2023-04-03T07:25:49.484Z"
      },
      {
        "duration": 6,
        "start_time": "2023-04-03T07:26:29.017Z"
      },
      {
        "duration": 10,
        "start_time": "2023-04-03T07:28:15.784Z"
      },
      {
        "duration": 9,
        "start_time": "2023-04-03T07:28:29.301Z"
      },
      {
        "duration": 9,
        "start_time": "2023-04-03T07:28:41.258Z"
      },
      {
        "duration": 79,
        "start_time": "2023-04-03T07:28:44.568Z"
      },
      {
        "duration": 9,
        "start_time": "2023-04-03T07:28:47.469Z"
      },
      {
        "duration": 9,
        "start_time": "2023-04-03T07:31:14.987Z"
      },
      {
        "duration": 5,
        "start_time": "2023-04-03T08:44:19.155Z"
      },
      {
        "duration": 10,
        "start_time": "2023-04-03T08:44:24.235Z"
      },
      {
        "duration": 17,
        "start_time": "2023-04-03T08:45:14.109Z"
      },
      {
        "duration": 14,
        "start_time": "2023-04-03T08:45:35.412Z"
      },
      {
        "duration": 14,
        "start_time": "2023-04-03T08:45:47.351Z"
      },
      {
        "duration": 11,
        "start_time": "2023-04-03T08:46:24.872Z"
      },
      {
        "duration": 20,
        "start_time": "2023-04-03T08:47:08.328Z"
      },
      {
        "duration": 16,
        "start_time": "2023-04-03T08:47:15.680Z"
      },
      {
        "duration": 19,
        "start_time": "2023-04-03T08:47:19.637Z"
      },
      {
        "duration": 10,
        "start_time": "2023-04-03T08:48:02.661Z"
      },
      {
        "duration": 21,
        "start_time": "2023-04-03T08:48:07.063Z"
      },
      {
        "duration": 17,
        "start_time": "2023-04-03T08:48:33.220Z"
      },
      {
        "duration": 14,
        "start_time": "2023-04-03T08:49:09.867Z"
      },
      {
        "duration": 20,
        "start_time": "2023-04-03T08:49:15.591Z"
      },
      {
        "duration": 9,
        "start_time": "2023-04-03T08:49:34.563Z"
      },
      {
        "duration": 9,
        "start_time": "2023-04-03T08:49:37.818Z"
      },
      {
        "duration": 19,
        "start_time": "2023-04-03T08:49:49.983Z"
      },
      {
        "duration": 14,
        "start_time": "2023-04-03T08:49:53.238Z"
      },
      {
        "duration": 18,
        "start_time": "2023-04-03T08:50:34.200Z"
      },
      {
        "duration": 21,
        "start_time": "2023-04-03T08:50:54.868Z"
      },
      {
        "duration": 2599,
        "start_time": "2023-04-03T08:51:36.927Z"
      },
      {
        "duration": 2133,
        "start_time": "2023-04-03T08:51:45.022Z"
      },
      {
        "duration": 938,
        "start_time": "2023-04-03T08:52:12.457Z"
      },
      {
        "duration": 1492,
        "start_time": "2023-04-03T08:52:30.000Z"
      },
      {
        "duration": 24,
        "start_time": "2023-04-03T08:52:52.065Z"
      },
      {
        "duration": 14,
        "start_time": "2023-04-03T08:52:59.165Z"
      },
      {
        "duration": 11,
        "start_time": "2023-04-03T08:53:04.688Z"
      },
      {
        "duration": 12,
        "start_time": "2023-04-03T08:53:09.662Z"
      },
      {
        "duration": 12,
        "start_time": "2023-04-03T08:54:34.013Z"
      },
      {
        "duration": 10,
        "start_time": "2023-04-03T08:54:52.181Z"
      },
      {
        "duration": 124,
        "start_time": "2023-04-03T09:12:06.641Z"
      },
      {
        "duration": 43,
        "start_time": "2023-04-03T09:12:35.394Z"
      },
      {
        "duration": 30,
        "start_time": "2023-04-03T09:13:21.469Z"
      },
      {
        "duration": 41,
        "start_time": "2023-04-03T09:13:30.590Z"
      },
      {
        "duration": 1152,
        "start_time": "2023-04-03T09:14:21.156Z"
      },
      {
        "duration": 11,
        "start_time": "2023-04-03T09:14:31.251Z"
      },
      {
        "duration": 21,
        "start_time": "2023-04-03T09:27:27.314Z"
      },
      {
        "duration": 10,
        "start_time": "2023-04-03T09:27:55.252Z"
      },
      {
        "duration": 16,
        "start_time": "2023-04-03T09:31:53.191Z"
      },
      {
        "duration": 9,
        "start_time": "2023-04-03T09:32:08.681Z"
      },
      {
        "duration": 24,
        "start_time": "2023-04-03T09:32:14.342Z"
      },
      {
        "duration": 19,
        "start_time": "2023-04-03T09:32:25.796Z"
      },
      {
        "duration": 8,
        "start_time": "2023-04-03T09:32:36.449Z"
      },
      {
        "duration": 19,
        "start_time": "2023-04-03T09:32:39.410Z"
      },
      {
        "duration": 15,
        "start_time": "2023-04-03T09:32:51.480Z"
      },
      {
        "duration": 15,
        "start_time": "2023-04-03T09:32:56.100Z"
      },
      {
        "duration": 12,
        "start_time": "2023-04-03T09:40:15.985Z"
      },
      {
        "duration": 9,
        "start_time": "2023-04-03T09:40:41.249Z"
      },
      {
        "duration": 5,
        "start_time": "2023-04-03T09:51:05.579Z"
      },
      {
        "duration": 3,
        "start_time": "2023-04-03T09:51:17.385Z"
      },
      {
        "duration": 5,
        "start_time": "2023-04-03T09:51:21.978Z"
      },
      {
        "duration": 5,
        "start_time": "2023-04-03T09:51:47.476Z"
      },
      {
        "duration": 6,
        "start_time": "2023-04-03T09:52:04.779Z"
      },
      {
        "duration": 5,
        "start_time": "2023-04-03T09:52:26.047Z"
      },
      {
        "duration": 12,
        "start_time": "2023-04-03T09:52:38.236Z"
      },
      {
        "duration": 13,
        "start_time": "2023-04-03T09:52:44.858Z"
      },
      {
        "duration": 12,
        "start_time": "2023-04-03T09:53:31.067Z"
      },
      {
        "duration": 11,
        "start_time": "2023-04-03T09:54:17.091Z"
      },
      {
        "duration": 9,
        "start_time": "2023-04-03T09:54:23.208Z"
      },
      {
        "duration": 1185,
        "start_time": "2023-04-03T09:54:59.867Z"
      },
      {
        "duration": 129,
        "start_time": "2023-04-03T09:55:01.054Z"
      },
      {
        "duration": 13,
        "start_time": "2023-04-03T09:55:01.186Z"
      },
      {
        "duration": 44,
        "start_time": "2023-04-03T09:55:01.202Z"
      },
      {
        "duration": 13,
        "start_time": "2023-04-03T09:55:01.249Z"
      },
      {
        "duration": 72,
        "start_time": "2023-04-03T09:55:01.264Z"
      },
      {
        "duration": 29,
        "start_time": "2023-04-03T09:55:01.338Z"
      },
      {
        "duration": 50,
        "start_time": "2023-04-03T09:55:01.369Z"
      },
      {
        "duration": 31,
        "start_time": "2023-04-03T09:55:01.421Z"
      },
      {
        "duration": 46,
        "start_time": "2023-04-03T09:55:01.455Z"
      },
      {
        "duration": 54,
        "start_time": "2023-04-03T09:55:01.503Z"
      },
      {
        "duration": 30,
        "start_time": "2023-04-03T09:55:01.559Z"
      },
      {
        "duration": 47,
        "start_time": "2023-04-03T09:55:01.591Z"
      },
      {
        "duration": 36,
        "start_time": "2023-04-03T09:55:01.640Z"
      },
      {
        "duration": 40,
        "start_time": "2023-04-03T09:55:01.679Z"
      },
      {
        "duration": 34,
        "start_time": "2023-04-03T09:55:01.720Z"
      },
      {
        "duration": 32,
        "start_time": "2023-04-03T09:55:01.756Z"
      },
      {
        "duration": 47,
        "start_time": "2023-04-03T09:55:01.790Z"
      },
      {
        "duration": 24,
        "start_time": "2023-04-03T09:55:01.841Z"
      },
      {
        "duration": 35,
        "start_time": "2023-04-03T09:55:01.867Z"
      },
      {
        "duration": 26,
        "start_time": "2023-04-03T09:55:01.904Z"
      },
      {
        "duration": 21,
        "start_time": "2023-04-03T09:55:01.931Z"
      },
      {
        "duration": 39,
        "start_time": "2023-04-03T09:55:01.954Z"
      },
      {
        "duration": 21,
        "start_time": "2023-04-03T09:55:01.995Z"
      },
      {
        "duration": 28,
        "start_time": "2023-04-03T09:55:02.018Z"
      },
      {
        "duration": 32,
        "start_time": "2023-04-03T09:55:02.048Z"
      },
      {
        "duration": 688,
        "start_time": "2023-04-03T09:55:02.082Z"
      },
      {
        "duration": 260,
        "start_time": "2023-04-03T09:55:02.773Z"
      },
      {
        "duration": 372,
        "start_time": "2023-04-03T09:55:03.036Z"
      },
      {
        "duration": 268,
        "start_time": "2023-04-03T09:55:03.410Z"
      },
      {
        "duration": 395,
        "start_time": "2023-04-03T09:55:03.680Z"
      },
      {
        "duration": 184,
        "start_time": "2023-04-03T09:55:04.078Z"
      },
      {
        "duration": 6,
        "start_time": "2023-04-03T09:55:04.264Z"
      },
      {
        "duration": 34,
        "start_time": "2023-04-03T09:55:04.272Z"
      },
      {
        "duration": 217,
        "start_time": "2023-04-03T09:55:04.308Z"
      },
      {
        "duration": 13,
        "start_time": "2023-04-03T09:55:04.527Z"
      },
      {
        "duration": 251,
        "start_time": "2023-04-03T09:55:04.543Z"
      },
      {
        "duration": 45,
        "start_time": "2023-04-03T09:55:04.796Z"
      },
      {
        "duration": 218,
        "start_time": "2023-04-03T09:55:04.843Z"
      },
      {
        "duration": 17,
        "start_time": "2023-04-03T09:55:05.063Z"
      },
      {
        "duration": 23,
        "start_time": "2023-04-03T09:55:05.083Z"
      },
      {
        "duration": 89,
        "start_time": "2023-04-03T09:55:05.108Z"
      },
      {
        "duration": 17,
        "start_time": "2023-04-03T09:55:05.199Z"
      },
      {
        "duration": 9,
        "start_time": "2023-04-03T09:56:36.371Z"
      },
      {
        "duration": 11,
        "start_time": "2023-04-03T09:56:42.735Z"
      },
      {
        "duration": 15,
        "start_time": "2023-04-03T09:56:46.537Z"
      },
      {
        "duration": 11,
        "start_time": "2023-04-03T09:56:54.856Z"
      },
      {
        "duration": 16,
        "start_time": "2023-04-03T09:57:13.554Z"
      },
      {
        "duration": 7,
        "start_time": "2023-04-03T09:57:27.606Z"
      },
      {
        "duration": 878,
        "start_time": "2023-04-03T09:57:42.361Z"
      },
      {
        "duration": 11,
        "start_time": "2023-04-03T09:57:47.898Z"
      },
      {
        "duration": 21,
        "start_time": "2023-04-03T09:59:26.313Z"
      },
      {
        "duration": 10,
        "start_time": "2023-04-03T09:59:30.851Z"
      },
      {
        "duration": 9,
        "start_time": "2023-04-03T09:59:38.412Z"
      },
      {
        "duration": 14,
        "start_time": "2023-04-03T09:59:45.098Z"
      },
      {
        "duration": 9,
        "start_time": "2023-04-03T09:59:50.102Z"
      },
      {
        "duration": 14,
        "start_time": "2023-04-03T10:03:17.337Z"
      },
      {
        "duration": 14,
        "start_time": "2023-04-03T10:03:32.306Z"
      },
      {
        "duration": 11,
        "start_time": "2023-04-03T10:04:13.710Z"
      },
      {
        "duration": 16,
        "start_time": "2023-04-03T10:04:53.812Z"
      },
      {
        "duration": 13,
        "start_time": "2023-04-03T10:05:00.117Z"
      },
      {
        "duration": 5,
        "start_time": "2023-04-03T12:07:11.762Z"
      },
      {
        "duration": 14,
        "start_time": "2023-04-03T12:09:18.214Z"
      },
      {
        "duration": 7,
        "start_time": "2023-04-03T12:09:22.769Z"
      },
      {
        "duration": 11,
        "start_time": "2023-04-03T14:11:57.857Z"
      },
      {
        "duration": 4,
        "start_time": "2023-04-03T14:12:23.314Z"
      },
      {
        "duration": 166,
        "start_time": "2023-04-03T14:12:27.005Z"
      },
      {
        "duration": 197,
        "start_time": "2023-04-03T14:12:40.457Z"
      },
      {
        "duration": 127,
        "start_time": "2023-04-03T14:12:53.374Z"
      },
      {
        "duration": 2836,
        "start_time": "2023-04-03T14:13:03.396Z"
      },
      {
        "duration": 2862,
        "start_time": "2023-04-03T14:13:30.103Z"
      },
      {
        "duration": 8,
        "start_time": "2023-04-03T14:14:23.567Z"
      },
      {
        "duration": 10,
        "start_time": "2023-04-03T14:14:36.861Z"
      },
      {
        "duration": 16,
        "start_time": "2023-04-03T14:14:53.149Z"
      },
      {
        "duration": 10,
        "start_time": "2023-04-03T14:15:04.206Z"
      },
      {
        "duration": 10,
        "start_time": "2023-04-03T14:15:31.064Z"
      },
      {
        "duration": 18,
        "start_time": "2023-04-03T14:20:25.638Z"
      },
      {
        "duration": 19,
        "start_time": "2023-04-03T14:23:14.410Z"
      },
      {
        "duration": 19,
        "start_time": "2023-04-03T14:24:23.957Z"
      },
      {
        "duration": 22,
        "start_time": "2023-04-03T14:24:35.017Z"
      },
      {
        "duration": 17,
        "start_time": "2023-04-03T14:24:44.661Z"
      },
      {
        "duration": 28,
        "start_time": "2023-04-03T14:24:55.518Z"
      },
      {
        "duration": 12,
        "start_time": "2023-04-03T14:25:20.797Z"
      },
      {
        "duration": 12,
        "start_time": "2023-04-03T14:25:32.776Z"
      },
      {
        "duration": 16,
        "start_time": "2023-04-03T14:25:43.378Z"
      },
      {
        "duration": 11,
        "start_time": "2023-04-03T14:25:53.799Z"
      },
      {
        "duration": 10,
        "start_time": "2023-04-03T14:26:28.853Z"
      },
      {
        "duration": 16,
        "start_time": "2023-04-03T14:26:30.867Z"
      },
      {
        "duration": 17,
        "start_time": "2023-04-03T14:26:39.153Z"
      },
      {
        "duration": 57,
        "start_time": "2023-04-03T14:26:48.021Z"
      },
      {
        "duration": 29,
        "start_time": "2023-04-03T14:26:59.656Z"
      },
      {
        "duration": 1123,
        "start_time": "2023-04-03T14:27:13.418Z"
      },
      {
        "duration": 144,
        "start_time": "2023-04-03T14:27:14.545Z"
      },
      {
        "duration": 13,
        "start_time": "2023-04-03T14:27:14.690Z"
      },
      {
        "duration": 14,
        "start_time": "2023-04-03T14:27:14.706Z"
      },
      {
        "duration": 12,
        "start_time": "2023-04-03T14:27:14.721Z"
      },
      {
        "duration": 14,
        "start_time": "2023-04-03T14:27:14.738Z"
      },
      {
        "duration": 16,
        "start_time": "2023-04-03T14:27:14.755Z"
      },
      {
        "duration": 18,
        "start_time": "2023-04-03T14:27:14.773Z"
      },
      {
        "duration": 8,
        "start_time": "2023-04-03T14:27:14.793Z"
      },
      {
        "duration": 9,
        "start_time": "2023-04-03T14:27:14.803Z"
      },
      {
        "duration": 13,
        "start_time": "2023-04-03T14:27:14.813Z"
      },
      {
        "duration": 26,
        "start_time": "2023-04-03T14:27:14.831Z"
      },
      {
        "duration": 4,
        "start_time": "2023-04-03T14:27:14.860Z"
      },
      {
        "duration": 6,
        "start_time": "2023-04-03T14:27:14.866Z"
      },
      {
        "duration": 5,
        "start_time": "2023-04-03T14:27:14.874Z"
      },
      {
        "duration": 15,
        "start_time": "2023-04-03T14:27:14.881Z"
      },
      {
        "duration": 39,
        "start_time": "2023-04-03T14:27:14.897Z"
      },
      {
        "duration": 16,
        "start_time": "2023-04-03T14:27:14.939Z"
      },
      {
        "duration": 12,
        "start_time": "2023-04-03T14:27:14.957Z"
      },
      {
        "duration": 7,
        "start_time": "2023-04-03T14:27:14.970Z"
      },
      {
        "duration": 25,
        "start_time": "2023-04-03T14:27:14.979Z"
      },
      {
        "duration": 50,
        "start_time": "2023-04-03T14:27:15.006Z"
      },
      {
        "duration": 12,
        "start_time": "2023-04-03T14:27:15.057Z"
      },
      {
        "duration": 10,
        "start_time": "2023-04-03T14:27:15.071Z"
      },
      {
        "duration": 824,
        "start_time": "2023-04-03T14:27:15.083Z"
      },
      {
        "duration": 263,
        "start_time": "2023-04-03T14:27:15.908Z"
      },
      {
        "duration": 331,
        "start_time": "2023-04-03T14:27:16.174Z"
      },
      {
        "duration": 269,
        "start_time": "2023-04-03T14:27:16.509Z"
      },
      {
        "duration": 379,
        "start_time": "2023-04-03T14:27:16.780Z"
      },
      {
        "duration": 194,
        "start_time": "2023-04-03T14:27:17.161Z"
      },
      {
        "duration": 5,
        "start_time": "2023-04-03T14:27:17.357Z"
      },
      {
        "duration": 7,
        "start_time": "2023-04-03T14:27:17.364Z"
      },
      {
        "duration": 206,
        "start_time": "2023-04-03T14:27:17.373Z"
      },
      {
        "duration": 7,
        "start_time": "2023-04-03T14:27:17.581Z"
      },
      {
        "duration": 240,
        "start_time": "2023-04-03T14:27:17.590Z"
      },
      {
        "duration": 41,
        "start_time": "2023-04-03T14:27:17.840Z"
      },
      {
        "duration": 75,
        "start_time": "2023-04-03T14:27:17.883Z"
      },
      {
        "duration": 10,
        "start_time": "2023-04-03T14:27:17.960Z"
      },
      {
        "duration": 16,
        "start_time": "2023-04-03T14:27:17.972Z"
      },
      {
        "duration": 41,
        "start_time": "2023-04-03T14:27:17.991Z"
      },
      {
        "duration": 22,
        "start_time": "2023-04-03T14:27:18.041Z"
      },
      {
        "duration": 17,
        "start_time": "2023-04-03T14:27:47.857Z"
      },
      {
        "duration": 19,
        "start_time": "2023-04-03T14:27:50.498Z"
      },
      {
        "duration": 18,
        "start_time": "2023-04-03T14:27:57.901Z"
      },
      {
        "duration": 15,
        "start_time": "2023-04-03T14:28:03.762Z"
      },
      {
        "duration": 26,
        "start_time": "2023-04-03T14:28:06.426Z"
      },
      {
        "duration": 1155,
        "start_time": "2023-04-03T14:28:14.977Z"
      },
      {
        "duration": 149,
        "start_time": "2023-04-03T14:28:16.134Z"
      },
      {
        "duration": 15,
        "start_time": "2023-04-03T14:28:16.286Z"
      },
      {
        "duration": 16,
        "start_time": "2023-04-03T14:28:16.304Z"
      },
      {
        "duration": 9,
        "start_time": "2023-04-03T14:28:16.322Z"
      },
      {
        "duration": 15,
        "start_time": "2023-04-03T14:28:16.332Z"
      },
      {
        "duration": 14,
        "start_time": "2023-04-03T14:28:16.353Z"
      },
      {
        "duration": 13,
        "start_time": "2023-04-03T14:28:16.369Z"
      },
      {
        "duration": 4,
        "start_time": "2023-04-03T14:28:16.384Z"
      },
      {
        "duration": 11,
        "start_time": "2023-04-03T14:28:16.391Z"
      },
      {
        "duration": 38,
        "start_time": "2023-04-03T14:28:16.404Z"
      },
      {
        "duration": 14,
        "start_time": "2023-04-03T14:28:16.444Z"
      },
      {
        "duration": 9,
        "start_time": "2023-04-03T14:28:16.459Z"
      },
      {
        "duration": 15,
        "start_time": "2023-04-03T14:28:16.469Z"
      },
      {
        "duration": 7,
        "start_time": "2023-04-03T14:28:16.486Z"
      },
      {
        "duration": 10,
        "start_time": "2023-04-03T14:28:16.495Z"
      },
      {
        "duration": 34,
        "start_time": "2023-04-03T14:28:16.507Z"
      },
      {
        "duration": 15,
        "start_time": "2023-04-03T14:28:16.543Z"
      },
      {
        "duration": 10,
        "start_time": "2023-04-03T14:28:16.560Z"
      },
      {
        "duration": 16,
        "start_time": "2023-04-03T14:28:16.572Z"
      },
      {
        "duration": 49,
        "start_time": "2023-04-03T14:28:16.589Z"
      },
      {
        "duration": 13,
        "start_time": "2023-04-03T14:28:16.639Z"
      },
      {
        "duration": 10,
        "start_time": "2023-04-03T14:28:16.653Z"
      },
      {
        "duration": 677,
        "start_time": "2023-04-03T14:28:16.665Z"
      },
      {
        "duration": 266,
        "start_time": "2023-04-03T14:28:17.343Z"
      },
      {
        "duration": 378,
        "start_time": "2023-04-03T14:28:17.611Z"
      },
      {
        "duration": 290,
        "start_time": "2023-04-03T14:28:17.991Z"
      },
      {
        "duration": 376,
        "start_time": "2023-04-03T14:28:18.284Z"
      },
      {
        "duration": 198,
        "start_time": "2023-04-03T14:28:18.662Z"
      },
      {
        "duration": 7,
        "start_time": "2023-04-03T14:28:18.862Z"
      },
      {
        "duration": 20,
        "start_time": "2023-04-03T14:28:18.870Z"
      },
      {
        "duration": 213,
        "start_time": "2023-04-03T14:28:18.892Z"
      },
      {
        "duration": 6,
        "start_time": "2023-04-03T14:28:19.107Z"
      },
      {
        "duration": 230,
        "start_time": "2023-04-03T14:28:19.123Z"
      },
      {
        "duration": 32,
        "start_time": "2023-04-03T14:28:19.355Z"
      },
      {
        "duration": 219,
        "start_time": "2023-04-03T14:28:19.389Z"
      },
      {
        "duration": 24,
        "start_time": "2023-04-03T14:28:19.610Z"
      },
      {
        "duration": 19,
        "start_time": "2023-04-03T14:28:19.641Z"
      },
      {
        "duration": 29,
        "start_time": "2023-04-03T14:28:19.662Z"
      },
      {
        "duration": 15,
        "start_time": "2023-04-03T14:28:19.693Z"
      },
      {
        "duration": 119,
        "start_time": "2023-04-03T14:44:00.261Z"
      },
      {
        "duration": 15,
        "start_time": "2023-04-03T14:47:25.944Z"
      },
      {
        "duration": 14,
        "start_time": "2023-04-03T14:48:07.307Z"
      },
      {
        "duration": 18,
        "start_time": "2023-04-03T14:49:41.860Z"
      },
      {
        "duration": 18,
        "start_time": "2023-04-03T14:49:54.142Z"
      },
      {
        "duration": 7,
        "start_time": "2023-04-03T14:50:14.583Z"
      },
      {
        "duration": 13,
        "start_time": "2023-04-03T14:50:38.831Z"
      },
      {
        "duration": 10,
        "start_time": "2023-04-03T14:50:52.261Z"
      },
      {
        "duration": 23,
        "start_time": "2023-04-03T14:50:56.317Z"
      },
      {
        "duration": 26,
        "start_time": "2023-04-03T14:51:10.912Z"
      },
      {
        "duration": 140,
        "start_time": "2023-04-03T14:52:23.095Z"
      },
      {
        "duration": 3,
        "start_time": "2023-04-03T14:54:07.166Z"
      },
      {
        "duration": 4,
        "start_time": "2023-04-03T14:54:13.946Z"
      },
      {
        "duration": 4,
        "start_time": "2023-04-03T14:54:15.366Z"
      },
      {
        "duration": 12,
        "start_time": "2023-04-03T14:54:21.604Z"
      },
      {
        "duration": 5,
        "start_time": "2023-04-03T14:54:33.451Z"
      },
      {
        "duration": 13,
        "start_time": "2023-04-03T14:54:34.961Z"
      },
      {
        "duration": 1162,
        "start_time": "2023-04-03T14:54:46.371Z"
      },
      {
        "duration": 144,
        "start_time": "2023-04-03T14:54:47.535Z"
      },
      {
        "duration": 12,
        "start_time": "2023-04-03T14:54:47.681Z"
      },
      {
        "duration": 12,
        "start_time": "2023-04-03T14:54:47.694Z"
      },
      {
        "duration": 4,
        "start_time": "2023-04-03T14:54:47.708Z"
      },
      {
        "duration": 26,
        "start_time": "2023-04-03T14:54:47.714Z"
      },
      {
        "duration": 17,
        "start_time": "2023-04-03T14:54:47.742Z"
      },
      {
        "duration": 19,
        "start_time": "2023-04-03T14:54:47.761Z"
      },
      {
        "duration": 5,
        "start_time": "2023-04-03T14:54:47.781Z"
      },
      {
        "duration": 12,
        "start_time": "2023-04-03T14:54:47.787Z"
      },
      {
        "duration": 28,
        "start_time": "2023-04-03T14:54:47.801Z"
      },
      {
        "duration": 25,
        "start_time": "2023-04-03T14:54:47.831Z"
      },
      {
        "duration": 39,
        "start_time": "2023-04-03T14:54:47.858Z"
      },
      {
        "duration": 22,
        "start_time": "2023-04-03T14:54:47.902Z"
      },
      {
        "duration": 20,
        "start_time": "2023-04-03T14:54:47.926Z"
      },
      {
        "duration": 41,
        "start_time": "2023-04-03T14:54:47.948Z"
      },
      {
        "duration": 13,
        "start_time": "2023-04-03T14:54:47.991Z"
      },
      {
        "duration": 12,
        "start_time": "2023-04-03T14:54:48.006Z"
      },
      {
        "duration": 22,
        "start_time": "2023-04-03T14:54:48.019Z"
      },
      {
        "duration": 11,
        "start_time": "2023-04-03T14:54:48.043Z"
      },
      {
        "duration": 23,
        "start_time": "2023-04-03T14:54:48.058Z"
      },
      {
        "duration": 19,
        "start_time": "2023-04-03T14:54:48.083Z"
      },
      {
        "duration": 16,
        "start_time": "2023-04-03T14:54:48.104Z"
      },
      {
        "duration": 693,
        "start_time": "2023-04-03T14:54:48.122Z"
      },
      {
        "duration": 274,
        "start_time": "2023-04-03T14:54:48.817Z"
      },
      {
        "duration": 386,
        "start_time": "2023-04-03T14:54:49.094Z"
      },
      {
        "duration": 287,
        "start_time": "2023-04-03T14:54:49.483Z"
      },
      {
        "duration": 321,
        "start_time": "2023-04-03T14:54:49.772Z"
      },
      {
        "duration": 205,
        "start_time": "2023-04-03T14:54:50.095Z"
      },
      {
        "duration": 7,
        "start_time": "2023-04-03T14:54:50.302Z"
      },
      {
        "duration": 24,
        "start_time": "2023-04-03T14:54:50.311Z"
      },
      {
        "duration": 243,
        "start_time": "2023-04-03T14:54:50.338Z"
      },
      {
        "duration": 13,
        "start_time": "2023-04-03T14:54:50.582Z"
      },
      {
        "duration": 292,
        "start_time": "2023-04-03T14:54:50.597Z"
      },
      {
        "duration": 40,
        "start_time": "2023-04-03T14:54:50.891Z"
      },
      {
        "duration": 238,
        "start_time": "2023-04-03T14:54:50.933Z"
      },
      {
        "duration": 12,
        "start_time": "2023-04-03T14:54:51.173Z"
      },
      {
        "duration": 12,
        "start_time": "2023-04-03T14:54:51.187Z"
      },
      {
        "duration": 66,
        "start_time": "2023-04-03T14:54:51.201Z"
      },
      {
        "duration": 16,
        "start_time": "2023-04-03T14:54:51.270Z"
      },
      {
        "duration": 9,
        "start_time": "2023-04-03T15:19:31.027Z"
      },
      {
        "duration": 19,
        "start_time": "2023-04-03T15:19:35.136Z"
      },
      {
        "duration": 3,
        "start_time": "2023-04-03T15:21:46.197Z"
      },
      {
        "duration": 4,
        "start_time": "2023-04-03T15:21:47.977Z"
      },
      {
        "duration": 5,
        "start_time": "2023-04-03T15:22:00.491Z"
      },
      {
        "duration": 5,
        "start_time": "2023-04-03T15:22:01.812Z"
      },
      {
        "duration": 135,
        "start_time": "2023-04-03T15:22:09.231Z"
      },
      {
        "duration": 4,
        "start_time": "2023-04-03T15:23:27.448Z"
      },
      {
        "duration": 7,
        "start_time": "2023-04-03T15:23:28.747Z"
      },
      {
        "duration": 4,
        "start_time": "2023-04-03T15:23:31.784Z"
      },
      {
        "duration": 1140,
        "start_time": "2023-04-03T15:23:53.545Z"
      },
      {
        "duration": 127,
        "start_time": "2023-04-03T15:23:54.687Z"
      },
      {
        "duration": 15,
        "start_time": "2023-04-03T15:23:54.816Z"
      },
      {
        "duration": 14,
        "start_time": "2023-04-03T15:23:54.833Z"
      },
      {
        "duration": 15,
        "start_time": "2023-04-03T15:23:54.850Z"
      },
      {
        "duration": 12,
        "start_time": "2023-04-03T15:23:54.867Z"
      },
      {
        "duration": 25,
        "start_time": "2023-04-03T15:23:54.880Z"
      },
      {
        "duration": 37,
        "start_time": "2023-04-03T15:23:54.907Z"
      },
      {
        "duration": 5,
        "start_time": "2023-04-03T15:23:54.946Z"
      },
      {
        "duration": 9,
        "start_time": "2023-04-03T15:23:54.953Z"
      },
      {
        "duration": 12,
        "start_time": "2023-04-03T15:23:54.965Z"
      },
      {
        "duration": 15,
        "start_time": "2023-04-03T15:23:54.980Z"
      },
      {
        "duration": 14,
        "start_time": "2023-04-03T15:23:54.997Z"
      },
      {
        "duration": 17,
        "start_time": "2023-04-03T15:23:55.033Z"
      },
      {
        "duration": 7,
        "start_time": "2023-04-03T15:23:55.057Z"
      },
      {
        "duration": 12,
        "start_time": "2023-04-03T15:23:55.066Z"
      },
      {
        "duration": 36,
        "start_time": "2023-04-03T15:23:55.080Z"
      },
      {
        "duration": 26,
        "start_time": "2023-04-03T15:23:55.118Z"
      },
      {
        "duration": 13,
        "start_time": "2023-04-03T15:23:55.146Z"
      },
      {
        "duration": 27,
        "start_time": "2023-04-03T15:23:55.162Z"
      },
      {
        "duration": 31,
        "start_time": "2023-04-03T15:23:55.191Z"
      },
      {
        "duration": 26,
        "start_time": "2023-04-03T15:23:55.226Z"
      },
      {
        "duration": 25,
        "start_time": "2023-04-03T15:23:55.255Z"
      },
      {
        "duration": 666,
        "start_time": "2023-04-03T15:23:55.282Z"
      },
      {
        "duration": 260,
        "start_time": "2023-04-03T15:23:55.950Z"
      },
      {
        "duration": 369,
        "start_time": "2023-04-03T15:23:56.212Z"
      },
      {
        "duration": 287,
        "start_time": "2023-04-03T15:23:56.583Z"
      },
      {
        "duration": 316,
        "start_time": "2023-04-03T15:23:56.872Z"
      },
      {
        "duration": 185,
        "start_time": "2023-04-03T15:23:57.190Z"
      },
      {
        "duration": 5,
        "start_time": "2023-04-03T15:23:57.377Z"
      },
      {
        "duration": 17,
        "start_time": "2023-04-03T15:23:57.384Z"
      },
      {
        "duration": 206,
        "start_time": "2023-04-03T15:23:57.403Z"
      },
      {
        "duration": 5,
        "start_time": "2023-04-03T15:23:57.611Z"
      },
      {
        "duration": 241,
        "start_time": "2023-04-03T15:23:57.622Z"
      },
      {
        "duration": 34,
        "start_time": "2023-04-03T15:23:57.865Z"
      },
      {
        "duration": 247,
        "start_time": "2023-04-03T15:23:57.901Z"
      },
      {
        "duration": 13,
        "start_time": "2023-04-03T15:23:58.154Z"
      },
      {
        "duration": 16,
        "start_time": "2023-04-03T15:23:58.169Z"
      },
      {
        "duration": 63,
        "start_time": "2023-04-03T15:23:58.187Z"
      },
      {
        "duration": 17,
        "start_time": "2023-04-03T15:23:58.251Z"
      },
      {
        "duration": 3,
        "start_time": "2023-04-03T15:25:07.195Z"
      },
      {
        "duration": 4,
        "start_time": "2023-04-03T15:25:09.188Z"
      },
      {
        "duration": 4,
        "start_time": "2023-04-03T15:25:22.050Z"
      },
      {
        "duration": 4,
        "start_time": "2023-04-03T15:25:23.748Z"
      },
      {
        "duration": 5,
        "start_time": "2023-04-03T15:29:33.964Z"
      },
      {
        "duration": 6,
        "start_time": "2023-04-03T15:29:38.145Z"
      },
      {
        "duration": 6,
        "start_time": "2023-04-03T15:29:42.613Z"
      },
      {
        "duration": 4,
        "start_time": "2023-04-03T15:29:46.089Z"
      },
      {
        "duration": 6,
        "start_time": "2023-04-03T15:29:56.212Z"
      },
      {
        "duration": 6,
        "start_time": "2023-04-03T15:30:21.162Z"
      },
      {
        "duration": 5,
        "start_time": "2023-04-03T15:30:37.440Z"
      },
      {
        "duration": 1103,
        "start_time": "2023-04-03T15:30:47.704Z"
      },
      {
        "duration": 133,
        "start_time": "2023-04-03T15:30:48.809Z"
      },
      {
        "duration": 13,
        "start_time": "2023-04-03T15:30:48.944Z"
      },
      {
        "duration": 12,
        "start_time": "2023-04-03T15:30:48.959Z"
      },
      {
        "duration": 9,
        "start_time": "2023-04-03T15:30:48.975Z"
      },
      {
        "duration": 10,
        "start_time": "2023-04-03T15:30:48.986Z"
      },
      {
        "duration": 13,
        "start_time": "2023-04-03T15:30:48.998Z"
      },
      {
        "duration": 20,
        "start_time": "2023-04-03T15:30:49.022Z"
      },
      {
        "duration": 3,
        "start_time": "2023-04-03T15:30:49.044Z"
      },
      {
        "duration": 21,
        "start_time": "2023-04-03T15:30:49.049Z"
      },
      {
        "duration": 13,
        "start_time": "2023-04-03T15:30:49.072Z"
      },
      {
        "duration": 11,
        "start_time": "2023-04-03T15:30:49.087Z"
      },
      {
        "duration": 7,
        "start_time": "2023-04-03T15:30:49.099Z"
      },
      {
        "duration": 15,
        "start_time": "2023-04-03T15:30:49.125Z"
      },
      {
        "duration": 9,
        "start_time": "2023-04-03T15:30:49.142Z"
      },
      {
        "duration": 14,
        "start_time": "2023-04-03T15:30:49.153Z"
      },
      {
        "duration": 20,
        "start_time": "2023-04-03T15:30:49.169Z"
      },
      {
        "duration": 18,
        "start_time": "2023-04-03T15:30:49.191Z"
      },
      {
        "duration": 25,
        "start_time": "2023-04-03T15:30:49.211Z"
      },
      {
        "duration": 49,
        "start_time": "2023-04-03T15:30:49.238Z"
      },
      {
        "duration": 5,
        "start_time": "2023-04-03T15:30:49.289Z"
      },
      {
        "duration": 10,
        "start_time": "2023-04-03T15:30:49.296Z"
      },
      {
        "duration": 109,
        "start_time": "2023-04-03T15:30:49.308Z"
      },
      {
        "duration": 0,
        "start_time": "2023-04-03T15:30:49.421Z"
      },
      {
        "duration": 0,
        "start_time": "2023-04-03T15:30:49.422Z"
      },
      {
        "duration": 0,
        "start_time": "2023-04-03T15:30:49.424Z"
      },
      {
        "duration": 0,
        "start_time": "2023-04-03T15:30:49.424Z"
      },
      {
        "duration": 0,
        "start_time": "2023-04-03T15:30:49.425Z"
      },
      {
        "duration": 0,
        "start_time": "2023-04-03T15:30:49.435Z"
      },
      {
        "duration": 0,
        "start_time": "2023-04-03T15:30:49.436Z"
      },
      {
        "duration": 0,
        "start_time": "2023-04-03T15:30:49.439Z"
      },
      {
        "duration": 0,
        "start_time": "2023-04-03T15:30:49.440Z"
      },
      {
        "duration": 0,
        "start_time": "2023-04-03T15:30:49.441Z"
      },
      {
        "duration": 0,
        "start_time": "2023-04-03T15:30:49.441Z"
      },
      {
        "duration": 0,
        "start_time": "2023-04-03T15:30:49.444Z"
      },
      {
        "duration": 0,
        "start_time": "2023-04-03T15:30:49.445Z"
      },
      {
        "duration": 0,
        "start_time": "2023-04-03T15:30:49.447Z"
      },
      {
        "duration": 0,
        "start_time": "2023-04-03T15:30:49.448Z"
      },
      {
        "duration": 0,
        "start_time": "2023-04-03T15:30:49.449Z"
      },
      {
        "duration": 0,
        "start_time": "2023-04-03T15:30:49.451Z"
      },
      {
        "duration": 0,
        "start_time": "2023-04-03T15:30:49.453Z"
      },
      {
        "duration": 6,
        "start_time": "2023-04-03T15:31:02.815Z"
      },
      {
        "duration": 89,
        "start_time": "2023-04-03T15:31:45.133Z"
      },
      {
        "duration": 6,
        "start_time": "2023-04-03T15:31:51.139Z"
      },
      {
        "duration": 5,
        "start_time": "2023-04-03T15:31:55.713Z"
      },
      {
        "duration": 4,
        "start_time": "2023-04-03T15:31:59.394Z"
      },
      {
        "duration": 4,
        "start_time": "2023-04-03T15:32:16.110Z"
      },
      {
        "duration": 4,
        "start_time": "2023-04-03T15:32:18.306Z"
      },
      {
        "duration": 1110,
        "start_time": "2023-04-03T15:32:26.098Z"
      },
      {
        "duration": 132,
        "start_time": "2023-04-03T15:32:27.210Z"
      },
      {
        "duration": 12,
        "start_time": "2023-04-03T15:32:27.344Z"
      },
      {
        "duration": 18,
        "start_time": "2023-04-03T15:32:27.358Z"
      },
      {
        "duration": 6,
        "start_time": "2023-04-03T15:32:27.377Z"
      },
      {
        "duration": 11,
        "start_time": "2023-04-03T15:32:27.385Z"
      },
      {
        "duration": 13,
        "start_time": "2023-04-03T15:32:27.397Z"
      },
      {
        "duration": 29,
        "start_time": "2023-04-03T15:32:27.412Z"
      },
      {
        "duration": 3,
        "start_time": "2023-04-03T15:32:27.443Z"
      },
      {
        "duration": 9,
        "start_time": "2023-04-03T15:32:27.449Z"
      },
      {
        "duration": 8,
        "start_time": "2023-04-03T15:32:27.460Z"
      },
      {
        "duration": 13,
        "start_time": "2023-04-03T15:32:27.470Z"
      },
      {
        "duration": 6,
        "start_time": "2023-04-03T15:32:27.484Z"
      },
      {
        "duration": 12,
        "start_time": "2023-04-03T15:32:27.526Z"
      },
      {
        "duration": 11,
        "start_time": "2023-04-03T15:32:27.540Z"
      },
      {
        "duration": 18,
        "start_time": "2023-04-03T15:32:27.552Z"
      },
      {
        "duration": 19,
        "start_time": "2023-04-03T15:32:27.572Z"
      },
      {
        "duration": 14,
        "start_time": "2023-04-03T15:32:27.593Z"
      },
      {
        "duration": 28,
        "start_time": "2023-04-03T15:32:27.609Z"
      },
      {
        "duration": 19,
        "start_time": "2023-04-03T15:32:27.638Z"
      },
      {
        "duration": 100640,
        "start_time": "2023-04-03T15:32:27.659Z"
      },
      {
        "duration": 0,
        "start_time": "2023-04-03T15:34:08.302Z"
      },
      {
        "duration": 0,
        "start_time": "2023-04-03T15:34:08.304Z"
      },
      {
        "duration": 0,
        "start_time": "2023-04-03T15:34:08.305Z"
      },
      {
        "duration": 0,
        "start_time": "2023-04-03T15:34:08.306Z"
      },
      {
        "duration": 0,
        "start_time": "2023-04-03T15:34:08.323Z"
      },
      {
        "duration": 0,
        "start_time": "2023-04-03T15:34:08.324Z"
      },
      {
        "duration": 0,
        "start_time": "2023-04-03T15:34:08.325Z"
      },
      {
        "duration": 0,
        "start_time": "2023-04-03T15:34:08.327Z"
      },
      {
        "duration": 0,
        "start_time": "2023-04-03T15:34:08.328Z"
      },
      {
        "duration": 0,
        "start_time": "2023-04-03T15:34:08.329Z"
      },
      {
        "duration": 0,
        "start_time": "2023-04-03T15:34:08.330Z"
      },
      {
        "duration": 0,
        "start_time": "2023-04-03T15:34:08.332Z"
      },
      {
        "duration": 0,
        "start_time": "2023-04-03T15:34:08.333Z"
      },
      {
        "duration": 0,
        "start_time": "2023-04-03T15:34:08.334Z"
      },
      {
        "duration": 0,
        "start_time": "2023-04-03T15:34:08.335Z"
      },
      {
        "duration": 0,
        "start_time": "2023-04-03T15:34:08.337Z"
      },
      {
        "duration": 0,
        "start_time": "2023-04-03T15:34:08.338Z"
      },
      {
        "duration": 0,
        "start_time": "2023-04-03T15:34:08.339Z"
      },
      {
        "duration": 0,
        "start_time": "2023-04-03T15:34:08.340Z"
      },
      {
        "duration": 0,
        "start_time": "2023-04-03T15:34:08.342Z"
      },
      {
        "duration": 1177,
        "start_time": "2023-04-03T15:34:30.386Z"
      },
      {
        "duration": 123,
        "start_time": "2023-04-03T15:34:31.566Z"
      },
      {
        "duration": 12,
        "start_time": "2023-04-03T15:34:31.691Z"
      },
      {
        "duration": 36,
        "start_time": "2023-04-03T15:34:31.705Z"
      },
      {
        "duration": 35,
        "start_time": "2023-04-03T15:34:31.744Z"
      },
      {
        "duration": 27,
        "start_time": "2023-04-03T15:34:31.781Z"
      },
      {
        "duration": 28,
        "start_time": "2023-04-03T15:34:31.810Z"
      },
      {
        "duration": 17,
        "start_time": "2023-04-03T15:34:31.840Z"
      },
      {
        "duration": 41,
        "start_time": "2023-04-03T15:34:31.859Z"
      },
      {
        "duration": 40,
        "start_time": "2023-04-03T15:34:31.902Z"
      },
      {
        "duration": 21,
        "start_time": "2023-04-03T15:34:31.943Z"
      },
      {
        "duration": 19,
        "start_time": "2023-04-03T15:34:31.965Z"
      },
      {
        "duration": 24,
        "start_time": "2023-04-03T15:34:31.985Z"
      },
      {
        "duration": 22,
        "start_time": "2023-04-03T15:34:32.013Z"
      },
      {
        "duration": 36,
        "start_time": "2023-04-03T15:34:32.036Z"
      },
      {
        "duration": 18,
        "start_time": "2023-04-03T15:34:32.073Z"
      },
      {
        "duration": 29,
        "start_time": "2023-04-03T15:34:32.093Z"
      },
      {
        "duration": 38,
        "start_time": "2023-04-03T15:34:32.124Z"
      },
      {
        "duration": 20,
        "start_time": "2023-04-03T15:34:32.164Z"
      },
      {
        "duration": 28,
        "start_time": "2023-04-03T15:34:32.186Z"
      },
      {
        "duration": 27,
        "start_time": "2023-04-03T15:34:32.216Z"
      },
      {
        "duration": 23,
        "start_time": "2023-04-03T15:34:32.245Z"
      },
      {
        "duration": 13,
        "start_time": "2023-04-03T15:34:32.270Z"
      },
      {
        "duration": 650,
        "start_time": "2023-04-03T15:34:32.285Z"
      },
      {
        "duration": 249,
        "start_time": "2023-04-03T15:34:32.938Z"
      },
      {
        "duration": 373,
        "start_time": "2023-04-03T15:34:33.189Z"
      },
      {
        "duration": 258,
        "start_time": "2023-04-03T15:34:33.564Z"
      },
      {
        "duration": 336,
        "start_time": "2023-04-03T15:34:33.824Z"
      },
      {
        "duration": 173,
        "start_time": "2023-04-03T15:34:34.162Z"
      },
      {
        "duration": 5,
        "start_time": "2023-04-03T15:34:34.337Z"
      },
      {
        "duration": 5,
        "start_time": "2023-04-03T15:34:34.344Z"
      },
      {
        "duration": 193,
        "start_time": "2023-04-03T15:34:34.351Z"
      },
      {
        "duration": 5,
        "start_time": "2023-04-03T15:34:34.546Z"
      },
      {
        "duration": 235,
        "start_time": "2023-04-03T15:34:34.553Z"
      },
      {
        "duration": 41,
        "start_time": "2023-04-03T15:34:34.790Z"
      },
      {
        "duration": 199,
        "start_time": "2023-04-03T15:34:34.833Z"
      },
      {
        "duration": 12,
        "start_time": "2023-04-03T15:34:35.035Z"
      },
      {
        "duration": 10,
        "start_time": "2023-04-03T15:34:35.049Z"
      },
      {
        "duration": 48,
        "start_time": "2023-04-03T15:34:35.060Z"
      },
      {
        "duration": 25,
        "start_time": "2023-04-03T15:34:35.110Z"
      },
      {
        "duration": 5,
        "start_time": "2023-04-03T15:36:37.524Z"
      },
      {
        "duration": 3,
        "start_time": "2023-04-03T15:36:44.231Z"
      },
      {
        "duration": 4,
        "start_time": "2023-04-03T15:36:46.213Z"
      },
      {
        "duration": 105,
        "start_time": "2023-04-03T15:36:56.754Z"
      },
      {
        "duration": 1110,
        "start_time": "2023-04-03T15:37:13.280Z"
      },
      {
        "duration": 122,
        "start_time": "2023-04-03T15:37:14.392Z"
      },
      {
        "duration": 14,
        "start_time": "2023-04-03T15:37:14.516Z"
      },
      {
        "duration": 15,
        "start_time": "2023-04-03T15:37:14.532Z"
      },
      {
        "duration": 7,
        "start_time": "2023-04-03T15:37:14.549Z"
      },
      {
        "duration": 18,
        "start_time": "2023-04-03T15:37:14.558Z"
      },
      {
        "duration": 13,
        "start_time": "2023-04-03T15:37:14.577Z"
      },
      {
        "duration": 19,
        "start_time": "2023-04-03T15:37:14.592Z"
      },
      {
        "duration": 17,
        "start_time": "2023-04-03T15:37:14.613Z"
      },
      {
        "duration": 9,
        "start_time": "2023-04-03T15:37:14.633Z"
      },
      {
        "duration": 8,
        "start_time": "2023-04-03T15:37:14.644Z"
      },
      {
        "duration": 12,
        "start_time": "2023-04-03T15:37:14.653Z"
      },
      {
        "duration": 6,
        "start_time": "2023-04-03T15:37:14.667Z"
      },
      {
        "duration": 7,
        "start_time": "2023-04-03T15:37:14.675Z"
      },
      {
        "duration": 21,
        "start_time": "2023-04-03T15:37:14.684Z"
      },
      {
        "duration": 11,
        "start_time": "2023-04-03T15:37:14.722Z"
      },
      {
        "duration": 26,
        "start_time": "2023-04-03T15:37:14.735Z"
      },
      {
        "duration": 13,
        "start_time": "2023-04-03T15:37:14.763Z"
      },
      {
        "duration": 18,
        "start_time": "2023-04-03T15:37:14.778Z"
      },
      {
        "duration": 36,
        "start_time": "2023-04-03T15:37:14.797Z"
      },
      {
        "duration": 12,
        "start_time": "2023-04-03T15:37:14.835Z"
      },
      {
        "duration": 14,
        "start_time": "2023-04-03T15:37:14.849Z"
      },
      {
        "duration": 24,
        "start_time": "2023-04-03T15:37:14.865Z"
      },
      {
        "duration": 634,
        "start_time": "2023-04-03T15:37:14.891Z"
      },
      {
        "duration": 242,
        "start_time": "2023-04-03T15:37:15.527Z"
      },
      {
        "duration": 312,
        "start_time": "2023-04-03T15:37:15.771Z"
      },
      {
        "duration": 260,
        "start_time": "2023-04-03T15:37:16.085Z"
      },
      {
        "duration": 307,
        "start_time": "2023-04-03T15:37:16.349Z"
      },
      {
        "duration": 180,
        "start_time": "2023-04-03T15:37:16.659Z"
      },
      {
        "duration": 5,
        "start_time": "2023-04-03T15:37:16.840Z"
      },
      {
        "duration": 10,
        "start_time": "2023-04-03T15:37:16.847Z"
      },
      {
        "duration": 241,
        "start_time": "2023-04-03T15:37:16.859Z"
      },
      {
        "duration": 5,
        "start_time": "2023-04-03T15:37:17.102Z"
      },
      {
        "duration": 229,
        "start_time": "2023-04-03T15:37:17.108Z"
      },
      {
        "duration": 30,
        "start_time": "2023-04-03T15:37:17.339Z"
      },
      {
        "duration": 252,
        "start_time": "2023-04-03T15:37:17.371Z"
      },
      {
        "duration": 11,
        "start_time": "2023-04-03T15:37:17.625Z"
      },
      {
        "duration": 29,
        "start_time": "2023-04-03T15:37:17.638Z"
      },
      {
        "duration": 71,
        "start_time": "2023-04-03T15:37:17.669Z"
      },
      {
        "duration": 15,
        "start_time": "2023-04-03T15:37:17.741Z"
      },
      {
        "duration": 5,
        "start_time": "2023-04-03T15:40:17.891Z"
      },
      {
        "duration": 3,
        "start_time": "2023-04-03T15:40:31.565Z"
      },
      {
        "duration": 4,
        "start_time": "2023-04-03T15:40:33.878Z"
      },
      {
        "duration": 10,
        "start_time": "2023-04-03T15:40:43.113Z"
      },
      {
        "duration": 104,
        "start_time": "2023-04-03T15:41:13.205Z"
      },
      {
        "duration": 10,
        "start_time": "2023-04-03T15:41:41.738Z"
      },
      {
        "duration": 27,
        "start_time": "2023-04-03T16:08:03.800Z"
      },
      {
        "duration": 10,
        "start_time": "2023-04-03T16:15:36.391Z"
      },
      {
        "duration": 12,
        "start_time": "2023-04-03T16:15:40.082Z"
      },
      {
        "duration": 13,
        "start_time": "2023-04-03T16:16:51.339Z"
      },
      {
        "duration": 14,
        "start_time": "2023-04-03T16:17:21.883Z"
      },
      {
        "duration": 30,
        "start_time": "2023-04-03T16:17:24.996Z"
      },
      {
        "duration": 9,
        "start_time": "2023-04-03T16:17:32.235Z"
      },
      {
        "duration": 68,
        "start_time": "2023-04-03T18:27:26.718Z"
      },
      {
        "duration": 3,
        "start_time": "2023-04-03T18:29:54.055Z"
      },
      {
        "duration": 23,
        "start_time": "2023-04-03T18:29:54.062Z"
      },
      {
        "duration": 15,
        "start_time": "2023-04-03T18:29:54.088Z"
      },
      {
        "duration": 12,
        "start_time": "2023-04-03T18:29:54.106Z"
      },
      {
        "duration": 19,
        "start_time": "2023-04-03T18:29:54.120Z"
      },
      {
        "duration": 23,
        "start_time": "2023-04-03T18:29:54.141Z"
      },
      {
        "duration": 23,
        "start_time": "2023-04-03T18:29:54.165Z"
      },
      {
        "duration": 37,
        "start_time": "2023-04-03T18:29:54.190Z"
      },
      {
        "duration": 8,
        "start_time": "2023-04-03T18:29:54.229Z"
      },
      {
        "duration": 23,
        "start_time": "2023-04-03T18:29:54.239Z"
      },
      {
        "duration": 18,
        "start_time": "2023-04-03T18:29:54.264Z"
      },
      {
        "duration": 23,
        "start_time": "2023-04-03T18:29:54.284Z"
      },
      {
        "duration": 11,
        "start_time": "2023-04-03T18:29:54.309Z"
      },
      {
        "duration": 8,
        "start_time": "2023-04-03T18:29:54.322Z"
      },
      {
        "duration": 10,
        "start_time": "2023-04-03T18:29:54.332Z"
      },
      {
        "duration": 11,
        "start_time": "2023-04-03T18:29:54.343Z"
      },
      {
        "duration": 15,
        "start_time": "2023-04-03T18:29:54.355Z"
      },
      {
        "duration": 11,
        "start_time": "2023-04-03T18:29:54.372Z"
      },
      {
        "duration": 37,
        "start_time": "2023-04-03T18:29:54.385Z"
      },
      {
        "duration": 37,
        "start_time": "2023-04-03T18:29:54.424Z"
      },
      {
        "duration": 29,
        "start_time": "2023-04-03T18:29:54.463Z"
      },
      {
        "duration": 32,
        "start_time": "2023-04-03T18:29:54.494Z"
      },
      {
        "duration": 24,
        "start_time": "2023-04-03T18:29:54.528Z"
      },
      {
        "duration": 8,
        "start_time": "2023-04-03T18:29:54.554Z"
      },
      {
        "duration": 661,
        "start_time": "2023-04-03T18:29:54.564Z"
      },
      {
        "duration": 252,
        "start_time": "2023-04-03T18:29:55.228Z"
      },
      {
        "duration": 415,
        "start_time": "2023-04-03T18:29:55.482Z"
      },
      {
        "duration": 239,
        "start_time": "2023-04-03T18:29:55.898Z"
      },
      {
        "duration": 337,
        "start_time": "2023-04-03T18:29:56.140Z"
      },
      {
        "duration": 235,
        "start_time": "2023-04-03T18:29:56.479Z"
      },
      {
        "duration": 7,
        "start_time": "2023-04-03T18:29:56.718Z"
      },
      {
        "duration": 13,
        "start_time": "2023-04-03T18:29:56.726Z"
      },
      {
        "duration": 183,
        "start_time": "2023-04-03T18:29:56.741Z"
      },
      {
        "duration": 6,
        "start_time": "2023-04-03T18:29:56.925Z"
      },
      {
        "duration": 234,
        "start_time": "2023-04-03T18:29:56.932Z"
      },
      {
        "duration": 38,
        "start_time": "2023-04-03T18:29:57.168Z"
      },
      {
        "duration": 205,
        "start_time": "2023-04-03T18:29:57.218Z"
      },
      {
        "duration": 11,
        "start_time": "2023-04-03T18:29:57.425Z"
      },
      {
        "duration": 13,
        "start_time": "2023-04-03T18:29:57.438Z"
      },
      {
        "duration": 67,
        "start_time": "2023-04-03T18:29:57.453Z"
      },
      {
        "duration": 16,
        "start_time": "2023-04-03T18:29:57.523Z"
      },
      {
        "duration": 23,
        "start_time": "2023-04-03T18:31:16.702Z"
      },
      {
        "duration": 17,
        "start_time": "2023-04-03T18:31:20.193Z"
      },
      {
        "duration": 11,
        "start_time": "2023-04-03T18:31:30.847Z"
      },
      {
        "duration": 18,
        "start_time": "2023-04-03T18:31:32.867Z"
      },
      {
        "duration": 24,
        "start_time": "2023-04-03T18:31:42.202Z"
      },
      {
        "duration": 16,
        "start_time": "2023-04-03T18:31:43.165Z"
      },
      {
        "duration": 8,
        "start_time": "2023-04-03T18:31:44.033Z"
      },
      {
        "duration": 519,
        "start_time": "2023-04-03T18:31:46.092Z"
      },
      {
        "duration": 300,
        "start_time": "2023-04-03T18:31:52.202Z"
      },
      {
        "duration": 334,
        "start_time": "2023-04-03T18:32:10.728Z"
      },
      {
        "duration": 220,
        "start_time": "2023-04-03T18:32:21.466Z"
      },
      {
        "duration": 457,
        "start_time": "2023-04-03T18:32:29.406Z"
      },
      {
        "duration": 205,
        "start_time": "2023-04-03T18:32:50.636Z"
      },
      {
        "duration": 6,
        "start_time": "2023-04-03T18:33:03.071Z"
      },
      {
        "duration": 6,
        "start_time": "2023-04-03T18:33:04.736Z"
      },
      {
        "duration": 161,
        "start_time": "2023-04-03T18:33:26.477Z"
      },
      {
        "duration": 5,
        "start_time": "2023-04-03T18:33:41.266Z"
      },
      {
        "duration": 216,
        "start_time": "2023-04-03T18:33:46.796Z"
      },
      {
        "duration": 33,
        "start_time": "2023-04-03T18:33:48.295Z"
      },
      {
        "duration": 184,
        "start_time": "2023-04-03T18:35:14.025Z"
      },
      {
        "duration": 8,
        "start_time": "2023-04-03T18:38:04.732Z"
      },
      {
        "duration": 8,
        "start_time": "2023-04-03T18:38:09.166Z"
      },
      {
        "duration": 10,
        "start_time": "2023-04-03T18:43:34.588Z"
      },
      {
        "duration": 31,
        "start_time": "2023-04-03T18:44:05.240Z"
      },
      {
        "duration": 15,
        "start_time": "2023-04-03T18:44:30.816Z"
      },
      {
        "duration": 141,
        "start_time": "2023-04-03T18:55:33.265Z"
      },
      {
        "duration": 9,
        "start_time": "2023-04-03T19:13:15.157Z"
      },
      {
        "duration": 10,
        "start_time": "2023-04-03T19:13:17.160Z"
      },
      {
        "duration": 29,
        "start_time": "2023-04-03T19:13:17.828Z"
      },
      {
        "duration": 15,
        "start_time": "2023-04-03T19:13:18.738Z"
      },
      {
        "duration": 10,
        "start_time": "2023-04-03T19:13:35.417Z"
      },
      {
        "duration": 42,
        "start_time": "2023-04-03T19:13:36.485Z"
      },
      {
        "duration": 15,
        "start_time": "2023-04-03T19:13:37.479Z"
      },
      {
        "duration": 12,
        "start_time": "2023-04-03T19:16:37.357Z"
      },
      {
        "duration": 18,
        "start_time": "2023-04-03T19:16:39.765Z"
      },
      {
        "duration": 1142,
        "start_time": "2023-04-03T19:16:46.305Z"
      },
      {
        "duration": 134,
        "start_time": "2023-04-03T19:16:47.450Z"
      },
      {
        "duration": 11,
        "start_time": "2023-04-03T19:16:47.586Z"
      },
      {
        "duration": 14,
        "start_time": "2023-04-03T19:16:47.599Z"
      },
      {
        "duration": 12,
        "start_time": "2023-04-03T19:16:47.615Z"
      },
      {
        "duration": 14,
        "start_time": "2023-04-03T19:16:47.628Z"
      },
      {
        "duration": 25,
        "start_time": "2023-04-03T19:16:47.644Z"
      },
      {
        "duration": 18,
        "start_time": "2023-04-03T19:16:47.671Z"
      },
      {
        "duration": 12,
        "start_time": "2023-04-03T19:16:47.691Z"
      },
      {
        "duration": 14,
        "start_time": "2023-04-03T19:16:47.706Z"
      },
      {
        "duration": 14,
        "start_time": "2023-04-03T19:16:47.722Z"
      },
      {
        "duration": 19,
        "start_time": "2023-04-03T19:16:47.737Z"
      },
      {
        "duration": 11,
        "start_time": "2023-04-03T19:16:47.758Z"
      },
      {
        "duration": 15,
        "start_time": "2023-04-03T19:16:47.771Z"
      },
      {
        "duration": 15,
        "start_time": "2023-04-03T19:16:47.787Z"
      },
      {
        "duration": 21,
        "start_time": "2023-04-03T19:16:47.803Z"
      },
      {
        "duration": 27,
        "start_time": "2023-04-03T19:16:47.825Z"
      },
      {
        "duration": 18,
        "start_time": "2023-04-03T19:16:47.854Z"
      },
      {
        "duration": 33,
        "start_time": "2023-04-03T19:16:47.874Z"
      },
      {
        "duration": 33,
        "start_time": "2023-04-03T19:16:47.908Z"
      },
      {
        "duration": 29,
        "start_time": "2023-04-03T19:16:47.943Z"
      },
      {
        "duration": 24,
        "start_time": "2023-04-03T19:16:47.973Z"
      },
      {
        "duration": 33,
        "start_time": "2023-04-03T19:16:47.998Z"
      },
      {
        "duration": 21,
        "start_time": "2023-04-03T19:16:48.032Z"
      },
      {
        "duration": 614,
        "start_time": "2023-04-03T19:16:48.055Z"
      },
      {
        "duration": 236,
        "start_time": "2023-04-03T19:16:48.671Z"
      },
      {
        "duration": 327,
        "start_time": "2023-04-03T19:16:48.909Z"
      },
      {
        "duration": 233,
        "start_time": "2023-04-03T19:16:49.240Z"
      },
      {
        "duration": 363,
        "start_time": "2023-04-03T19:16:49.475Z"
      },
      {
        "duration": 189,
        "start_time": "2023-04-03T19:16:49.840Z"
      },
      {
        "duration": 5,
        "start_time": "2023-04-03T19:16:50.031Z"
      },
      {
        "duration": 31,
        "start_time": "2023-04-03T19:16:50.037Z"
      },
      {
        "duration": 186,
        "start_time": "2023-04-03T19:16:50.070Z"
      },
      {
        "duration": 5,
        "start_time": "2023-04-03T19:16:50.258Z"
      },
      {
        "duration": 224,
        "start_time": "2023-04-03T19:16:50.265Z"
      },
      {
        "duration": 42,
        "start_time": "2023-04-03T19:16:50.491Z"
      },
      {
        "duration": 214,
        "start_time": "2023-04-03T19:16:50.534Z"
      },
      {
        "duration": 11,
        "start_time": "2023-04-03T19:16:50.749Z"
      },
      {
        "duration": 15,
        "start_time": "2023-04-03T19:16:50.761Z"
      },
      {
        "duration": 54,
        "start_time": "2023-04-03T19:16:50.777Z"
      },
      {
        "duration": 13,
        "start_time": "2023-04-03T19:16:50.833Z"
      },
      {
        "duration": 10,
        "start_time": "2023-04-03T19:18:07.360Z"
      },
      {
        "duration": 1041,
        "start_time": "2023-04-03T19:18:17.256Z"
      },
      {
        "duration": 134,
        "start_time": "2023-04-03T19:18:18.299Z"
      },
      {
        "duration": 12,
        "start_time": "2023-04-03T19:18:18.435Z"
      },
      {
        "duration": 26,
        "start_time": "2023-04-03T19:18:18.449Z"
      },
      {
        "duration": 14,
        "start_time": "2023-04-03T19:18:18.477Z"
      },
      {
        "duration": 15,
        "start_time": "2023-04-03T19:18:18.493Z"
      },
      {
        "duration": 25,
        "start_time": "2023-04-03T19:18:18.510Z"
      },
      {
        "duration": 23,
        "start_time": "2023-04-03T19:18:18.537Z"
      },
      {
        "duration": 8,
        "start_time": "2023-04-03T19:18:18.562Z"
      },
      {
        "duration": 15,
        "start_time": "2023-04-03T19:18:18.573Z"
      },
      {
        "duration": 18,
        "start_time": "2023-04-03T19:18:18.590Z"
      },
      {
        "duration": 26,
        "start_time": "2023-04-03T19:18:18.610Z"
      },
      {
        "duration": 15,
        "start_time": "2023-04-03T19:18:18.638Z"
      },
      {
        "duration": 12,
        "start_time": "2023-04-03T19:18:18.655Z"
      },
      {
        "duration": 26,
        "start_time": "2023-04-03T19:18:18.669Z"
      },
      {
        "duration": 33,
        "start_time": "2023-04-03T19:18:18.697Z"
      },
      {
        "duration": 31,
        "start_time": "2023-04-03T19:18:18.731Z"
      },
      {
        "duration": 11,
        "start_time": "2023-04-03T19:18:18.764Z"
      },
      {
        "duration": 28,
        "start_time": "2023-04-03T19:18:18.777Z"
      },
      {
        "duration": 30,
        "start_time": "2023-04-03T19:18:18.807Z"
      },
      {
        "duration": 24,
        "start_time": "2023-04-03T19:18:18.839Z"
      },
      {
        "duration": 26,
        "start_time": "2023-04-03T19:18:18.865Z"
      },
      {
        "duration": 23,
        "start_time": "2023-04-03T19:18:18.893Z"
      },
      {
        "duration": 25,
        "start_time": "2023-04-03T19:18:18.919Z"
      },
      {
        "duration": 612,
        "start_time": "2023-04-03T19:18:18.946Z"
      },
      {
        "duration": 224,
        "start_time": "2023-04-03T19:18:19.559Z"
      },
      {
        "duration": 344,
        "start_time": "2023-04-03T19:18:19.785Z"
      },
      {
        "duration": 243,
        "start_time": "2023-04-03T19:18:20.132Z"
      },
      {
        "duration": 357,
        "start_time": "2023-04-03T19:18:20.377Z"
      },
      {
        "duration": 177,
        "start_time": "2023-04-03T19:18:20.735Z"
      },
      {
        "duration": 6,
        "start_time": "2023-04-03T19:18:20.918Z"
      },
      {
        "duration": 25,
        "start_time": "2023-04-03T19:18:20.925Z"
      },
      {
        "duration": 177,
        "start_time": "2023-04-03T19:18:20.952Z"
      },
      {
        "duration": 5,
        "start_time": "2023-04-03T19:18:21.131Z"
      },
      {
        "duration": 241,
        "start_time": "2023-04-03T19:18:21.137Z"
      },
      {
        "duration": 46,
        "start_time": "2023-04-03T19:18:21.380Z"
      },
      {
        "duration": 213,
        "start_time": "2023-04-03T19:18:21.428Z"
      },
      {
        "duration": 15,
        "start_time": "2023-04-03T19:18:21.644Z"
      },
      {
        "duration": 13,
        "start_time": "2023-04-03T19:18:21.662Z"
      },
      {
        "duration": 55,
        "start_time": "2023-04-03T19:18:21.678Z"
      },
      {
        "duration": 16,
        "start_time": "2023-04-03T19:18:21.735Z"
      },
      {
        "duration": 10,
        "start_time": "2023-04-03T19:19:03.079Z"
      },
      {
        "duration": 15,
        "start_time": "2023-04-03T19:19:10.987Z"
      },
      {
        "duration": 13,
        "start_time": "2023-04-03T19:19:11.758Z"
      },
      {
        "duration": 525,
        "start_time": "2023-04-03T19:19:13.206Z"
      },
      {
        "duration": 303,
        "start_time": "2023-04-03T19:19:17.895Z"
      },
      {
        "duration": 317,
        "start_time": "2023-04-03T19:19:20.425Z"
      },
      {
        "duration": 249,
        "start_time": "2023-04-03T19:19:22.426Z"
      },
      {
        "duration": 291,
        "start_time": "2023-04-03T19:19:23.765Z"
      },
      {
        "duration": 174,
        "start_time": "2023-04-03T19:19:33.050Z"
      },
      {
        "duration": 6,
        "start_time": "2023-04-03T19:19:50.752Z"
      },
      {
        "duration": 5,
        "start_time": "2023-04-03T19:19:51.512Z"
      },
      {
        "duration": 145,
        "start_time": "2023-04-03T19:19:54.762Z"
      },
      {
        "duration": 5,
        "start_time": "2023-04-03T19:20:09.453Z"
      },
      {
        "duration": 247,
        "start_time": "2023-04-03T19:20:13.077Z"
      },
      {
        "duration": 33,
        "start_time": "2023-04-03T19:20:13.543Z"
      },
      {
        "duration": 176,
        "start_time": "2023-04-03T19:20:15.607Z"
      },
      {
        "duration": 10,
        "start_time": "2023-04-03T19:20:18.060Z"
      },
      {
        "duration": 9,
        "start_time": "2023-04-03T19:20:28.978Z"
      },
      {
        "duration": 32,
        "start_time": "2023-04-03T19:20:33.191Z"
      },
      {
        "duration": 17,
        "start_time": "2023-04-03T19:21:14.284Z"
      },
      {
        "duration": 72,
        "start_time": "2023-04-03T19:34:59.290Z"
      },
      {
        "duration": 19,
        "start_time": "2023-04-03T19:36:19.975Z"
      },
      {
        "duration": 13,
        "start_time": "2023-04-03T19:36:44.956Z"
      },
      {
        "duration": 73,
        "start_time": "2023-04-03T19:37:29.224Z"
      },
      {
        "duration": 74,
        "start_time": "2023-04-03T19:37:32.977Z"
      },
      {
        "duration": 6,
        "start_time": "2023-04-03T19:37:42.492Z"
      },
      {
        "duration": 12,
        "start_time": "2023-04-03T19:37:46.159Z"
      },
      {
        "duration": 3,
        "start_time": "2023-04-03T19:37:53.637Z"
      },
      {
        "duration": 3,
        "start_time": "2023-04-03T19:38:05.544Z"
      },
      {
        "duration": 11,
        "start_time": "2023-04-03T19:38:06.877Z"
      },
      {
        "duration": 7,
        "start_time": "2023-04-03T19:38:11.595Z"
      },
      {
        "duration": 12,
        "start_time": "2023-04-03T19:38:14.881Z"
      },
      {
        "duration": 18,
        "start_time": "2023-04-03T19:38:18.547Z"
      },
      {
        "duration": 78,
        "start_time": "2023-04-03T19:42:31.795Z"
      },
      {
        "duration": 1002,
        "start_time": "2023-04-04T09:12:53.664Z"
      },
      {
        "duration": 122,
        "start_time": "2023-04-04T09:12:54.667Z"
      },
      {
        "duration": 10,
        "start_time": "2023-04-04T09:12:54.790Z"
      },
      {
        "duration": 13,
        "start_time": "2023-04-04T09:12:54.801Z"
      },
      {
        "duration": 5,
        "start_time": "2023-04-04T09:12:54.815Z"
      },
      {
        "duration": 12,
        "start_time": "2023-04-04T09:12:54.822Z"
      },
      {
        "duration": 17,
        "start_time": "2023-04-04T09:12:54.835Z"
      },
      {
        "duration": 11,
        "start_time": "2023-04-04T09:12:54.853Z"
      },
      {
        "duration": 14,
        "start_time": "2023-04-04T09:12:54.866Z"
      },
      {
        "duration": 9,
        "start_time": "2023-04-04T09:12:54.882Z"
      },
      {
        "duration": 9,
        "start_time": "2023-04-04T09:12:54.892Z"
      },
      {
        "duration": 15,
        "start_time": "2023-04-04T09:12:54.903Z"
      },
      {
        "duration": 12,
        "start_time": "2023-04-04T09:12:54.919Z"
      },
      {
        "duration": 11,
        "start_time": "2023-04-04T09:12:54.932Z"
      },
      {
        "duration": 6,
        "start_time": "2023-04-04T09:12:54.944Z"
      },
      {
        "duration": 7,
        "start_time": "2023-04-04T09:12:54.951Z"
      },
      {
        "duration": 24,
        "start_time": "2023-04-04T09:12:54.959Z"
      },
      {
        "duration": 14,
        "start_time": "2023-04-04T09:12:54.984Z"
      },
      {
        "duration": 14,
        "start_time": "2023-04-04T09:12:55.000Z"
      },
      {
        "duration": 8,
        "start_time": "2023-04-04T09:12:55.016Z"
      },
      {
        "duration": 12,
        "start_time": "2023-04-04T09:12:55.025Z"
      },
      {
        "duration": 35,
        "start_time": "2023-04-04T09:12:55.039Z"
      },
      {
        "duration": 526,
        "start_time": "2023-04-04T09:12:55.075Z"
      },
      {
        "duration": 215,
        "start_time": "2023-04-04T09:12:55.603Z"
      },
      {
        "duration": 281,
        "start_time": "2023-04-04T09:12:55.820Z"
      },
      {
        "duration": 207,
        "start_time": "2023-04-04T09:12:56.103Z"
      },
      {
        "duration": 288,
        "start_time": "2023-04-04T09:12:56.311Z"
      },
      {
        "duration": 165,
        "start_time": "2023-04-04T09:12:56.601Z"
      },
      {
        "duration": 7,
        "start_time": "2023-04-04T09:12:56.769Z"
      },
      {
        "duration": 12,
        "start_time": "2023-04-04T09:12:56.777Z"
      },
      {
        "duration": 150,
        "start_time": "2023-04-04T09:12:56.791Z"
      },
      {
        "duration": 4,
        "start_time": "2023-04-04T09:12:56.943Z"
      },
      {
        "duration": 202,
        "start_time": "2023-04-04T09:12:56.949Z"
      },
      {
        "duration": 43,
        "start_time": "2023-04-04T09:12:57.152Z"
      },
      {
        "duration": 175,
        "start_time": "2023-04-04T09:12:57.196Z"
      },
      {
        "duration": 14,
        "start_time": "2023-04-04T09:12:57.372Z"
      },
      {
        "duration": 7,
        "start_time": "2023-04-04T09:12:57.390Z"
      },
      {
        "duration": 27,
        "start_time": "2023-04-04T09:12:57.398Z"
      },
      {
        "duration": 13,
        "start_time": "2023-04-04T09:12:57.427Z"
      }
    ],
    "kernelspec": {
      "display_name": "Python 3 (ipykernel)",
      "language": "python",
      "name": "python3"
    },
    "language_info": {
      "codemirror_mode": {
        "name": "ipython",
        "version": 3
      },
      "file_extension": ".py",
      "mimetype": "text/x-python",
      "name": "python",
      "nbconvert_exporter": "python",
      "pygments_lexer": "ipython3",
      "version": "3.9.5"
    },
    "toc": {
      "base_numbering": 1,
      "nav_menu": {},
      "number_sections": true,
      "sideBar": true,
      "skip_h1_title": true,
      "title_cell": "Table of Contents",
      "title_sidebar": "Contents",
      "toc_cell": false,
      "toc_position": {
        "height": "calc(100% - 180px)",
        "left": "10px",
        "top": "150px",
        "width": "257.875px"
      },
      "toc_section_display": true,
      "toc_window_display": true
    },
    "colab": {
      "provenance": []
    }
  },
  "nbformat": 4,
  "nbformat_minor": 0
}