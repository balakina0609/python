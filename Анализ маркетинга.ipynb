{
  "cells": [
    {
      "cell_type": "markdown",
      "source": [
        "# Анализ рекламных источников"
      ],
      "metadata": {
        "id": "8dU6uAIhIpLi"
      }
    },
    {
      "cell_type": "markdown",
      "source": [
        "**Заказчик**:\n",
        "\n",
        "Отдел маркетинга мобильной игры «Космические братья»\n",
        "\n",
        "**Цель проекта:**\n",
        "    \n",
        "Выбрать наиболее перспективный канал привлечения\n",
        "\n",
        "**Задача**:\n",
        "\n",
        "Проанализируйте поведения игроков в зависимости от источника перехода.\n",
        "\n",
        "\n",
        "- Проведите исследовательский анализ данных;\n",
        "- Проанализируйте влияние источника перехода в игру на поведение пользователя;\n",
        "- Проверьте статистические гипотезы:\n",
        "    1. *Проверьте гипотезу: время завершения уровня различается в зависимости способа прохождения:*\n",
        "    - *через реализацию проекта,*\n",
        "    - *через победу над первым игроком.*\n",
        "    2. *Сформулируйте собственную статистическую гипотезу. Дополните её нулевой и альтернативной гипотезами. Проверьте гипотезу с помощью статистического теста.*\n",
        "\n",
        "\n",
        "    "
      ],
      "metadata": {
        "id": "PfcKVlt5Ivet"
      }
    },
    {
      "cell_type": "markdown",
      "source": [
        "**1. Открытие таблиц изучение общей информации**\n",
        "\n",
        "\n",
        "**2. Предобработка данных:**\n",
        "\n",
        "\n",
        "- приведение столбцов к нужному типу данных\n",
        "- объединение таблиц game_actions+user_source по user_id\n",
        "- проверка пропусков, изучение причину появления их, принятие решение по пропускам\n",
        "- работа с дубликатами\n",
        "\n",
        "**3. Исследовательский анализ**\n",
        "\n",
        "- составление профилей пользователей\n",
        "- исследовать каналы привлечения по количеству пользователей, выясниь какой канал привлекает наибольшее кол-во пользователей\n",
        "- исследовать качество привлеченных пользовтателей, по проценту завершивших и доли стратегий\n",
        "- исследовать кол-во построенных зданий\n",
        "- определить стоимость привлечения клиентов по источникам\n",
        "\n",
        "**4 . Проверка статистические гипотезы:**\n",
        "    \n",
        "- Проверить гипотезу: время завершения уровня различается в зависимости способа прохождения:\n",
        "        - через реализацию проекта,\n",
        "        - через победу над первым игроком.\n",
        "        \n",
        "        \n",
        "Будем использовать количественный стат метод\n",
        "\n",
        "- Проверить гипотезу: источник привлечения влияет на способ прохождения уровня:\n",
        "         - Н0 зависимость между долями нет\n",
        "         - Н1 зависимость между долями есть\n",
        "\n",
        "\n",
        "**5. Формирование ранжирования:**\n",
        "    \n",
        "Какой рекламный источник является максимально перспективным:\n",
        "- по стоимсоти привлечения\n",
        "- время проведенное в игре\n",
        "- способ прохождения уровня\n",
        "- кол-во построенных зданий\n",
        "\n"
      ],
      "metadata": {
        "id": "lCpaks-6I7vi"
      }
    },
    {
      "cell_type": "code",
      "execution_count": null,
      "metadata": {
        "id": "mC2aL_OOIUQG"
      },
      "outputs": [],
      "source": [
        "import pandas as pd\n",
        "from datetime import datetime, timedelta\n",
        "from matplotlib import pyplot as plt\n",
        "import numpy as np\n",
        "import plotly.express as px\n",
        "from plotly import graph_objects as go\n",
        "import seaborn as sns"
      ]
    },
    {
      "cell_type": "code",
      "execution_count": null,
      "metadata": {
        "id": "w_8RC0TIIUQH"
      },
      "outputs": [],
      "source": [
        "source = pd.read_csv('/content/user_source.csv')\n",
        "game = pd.read_csv('/content/game_actions.csv')\n",
        "costs = pd.read_csv('/content/ad_costs.csv')"
      ]
    },
    {
      "cell_type": "code",
      "execution_count": null,
      "metadata": {
        "colab": {
          "base_uri": "https://localhost:8080/",
          "height": 206
        },
        "id": "GG12KrF6IUQI",
        "outputId": "7e0b5ada-a910-4bd9-f7d8-c9d0f0f9d222"
      },
      "outputs": [
        {
          "output_type": "execute_result",
          "data": {
            "text/plain": [
              "                                user_id                   source\n",
              "0  0001f83c-c6ac-4621-b7f0-8a28b283ac30             facebook_ads\n",
              "1  00151b4f-ba38-44a8-a650-d7cf130a0105            yandex_direct\n",
              "2  001aaea6-3d14-43f1-8ca8-7f48820f17aa  youtube_channel_reklama\n",
              "3  001d39dc-366c-4021-9604-6a3b9ff01e25    instagram_new_adverts\n",
              "4  002f508f-67b6-479f-814b-b05f00d4e995             facebook_ads"
            ],
            "text/html": [
              "\n",
              "  <div id=\"df-64c2d630-9e86-4089-ad2a-ceda9f88d41d\">\n",
              "    <div class=\"colab-df-container\">\n",
              "      <div>\n",
              "<style scoped>\n",
              "    .dataframe tbody tr th:only-of-type {\n",
              "        vertical-align: middle;\n",
              "    }\n",
              "\n",
              "    .dataframe tbody tr th {\n",
              "        vertical-align: top;\n",
              "    }\n",
              "\n",
              "    .dataframe thead th {\n",
              "        text-align: right;\n",
              "    }\n",
              "</style>\n",
              "<table border=\"1\" class=\"dataframe\">\n",
              "  <thead>\n",
              "    <tr style=\"text-align: right;\">\n",
              "      <th></th>\n",
              "      <th>user_id</th>\n",
              "      <th>source</th>\n",
              "    </tr>\n",
              "  </thead>\n",
              "  <tbody>\n",
              "    <tr>\n",
              "      <th>0</th>\n",
              "      <td>0001f83c-c6ac-4621-b7f0-8a28b283ac30</td>\n",
              "      <td>facebook_ads</td>\n",
              "    </tr>\n",
              "    <tr>\n",
              "      <th>1</th>\n",
              "      <td>00151b4f-ba38-44a8-a650-d7cf130a0105</td>\n",
              "      <td>yandex_direct</td>\n",
              "    </tr>\n",
              "    <tr>\n",
              "      <th>2</th>\n",
              "      <td>001aaea6-3d14-43f1-8ca8-7f48820f17aa</td>\n",
              "      <td>youtube_channel_reklama</td>\n",
              "    </tr>\n",
              "    <tr>\n",
              "      <th>3</th>\n",
              "      <td>001d39dc-366c-4021-9604-6a3b9ff01e25</td>\n",
              "      <td>instagram_new_adverts</td>\n",
              "    </tr>\n",
              "    <tr>\n",
              "      <th>4</th>\n",
              "      <td>002f508f-67b6-479f-814b-b05f00d4e995</td>\n",
              "      <td>facebook_ads</td>\n",
              "    </tr>\n",
              "  </tbody>\n",
              "</table>\n",
              "</div>\n",
              "      <button class=\"colab-df-convert\" onclick=\"convertToInteractive('df-64c2d630-9e86-4089-ad2a-ceda9f88d41d')\"\n",
              "              title=\"Convert this dataframe to an interactive table.\"\n",
              "              style=\"display:none;\">\n",
              "        \n",
              "  <svg xmlns=\"http://www.w3.org/2000/svg\" height=\"24px\"viewBox=\"0 0 24 24\"\n",
              "       width=\"24px\">\n",
              "    <path d=\"M0 0h24v24H0V0z\" fill=\"none\"/>\n",
              "    <path d=\"M18.56 5.44l.94 2.06.94-2.06 2.06-.94-2.06-.94-.94-2.06-.94 2.06-2.06.94zm-11 1L8.5 8.5l.94-2.06 2.06-.94-2.06-.94L8.5 2.5l-.94 2.06-2.06.94zm10 10l.94 2.06.94-2.06 2.06-.94-2.06-.94-.94-2.06-.94 2.06-2.06.94z\"/><path d=\"M17.41 7.96l-1.37-1.37c-.4-.4-.92-.59-1.43-.59-.52 0-1.04.2-1.43.59L10.3 9.45l-7.72 7.72c-.78.78-.78 2.05 0 2.83L4 21.41c.39.39.9.59 1.41.59.51 0 1.02-.2 1.41-.59l7.78-7.78 2.81-2.81c.8-.78.8-2.07 0-2.86zM5.41 20L4 18.59l7.72-7.72 1.47 1.35L5.41 20z\"/>\n",
              "  </svg>\n",
              "      </button>\n",
              "      \n",
              "  <style>\n",
              "    .colab-df-container {\n",
              "      display:flex;\n",
              "      flex-wrap:wrap;\n",
              "      gap: 12px;\n",
              "    }\n",
              "\n",
              "    .colab-df-convert {\n",
              "      background-color: #E8F0FE;\n",
              "      border: none;\n",
              "      border-radius: 50%;\n",
              "      cursor: pointer;\n",
              "      display: none;\n",
              "      fill: #1967D2;\n",
              "      height: 32px;\n",
              "      padding: 0 0 0 0;\n",
              "      width: 32px;\n",
              "    }\n",
              "\n",
              "    .colab-df-convert:hover {\n",
              "      background-color: #E2EBFA;\n",
              "      box-shadow: 0px 1px 2px rgba(60, 64, 67, 0.3), 0px 1px 3px 1px rgba(60, 64, 67, 0.15);\n",
              "      fill: #174EA6;\n",
              "    }\n",
              "\n",
              "    [theme=dark] .colab-df-convert {\n",
              "      background-color: #3B4455;\n",
              "      fill: #D2E3FC;\n",
              "    }\n",
              "\n",
              "    [theme=dark] .colab-df-convert:hover {\n",
              "      background-color: #434B5C;\n",
              "      box-shadow: 0px 1px 3px 1px rgba(0, 0, 0, 0.15);\n",
              "      filter: drop-shadow(0px 1px 2px rgba(0, 0, 0, 0.3));\n",
              "      fill: #FFFFFF;\n",
              "    }\n",
              "  </style>\n",
              "\n",
              "      <script>\n",
              "        const buttonEl =\n",
              "          document.querySelector('#df-64c2d630-9e86-4089-ad2a-ceda9f88d41d button.colab-df-convert');\n",
              "        buttonEl.style.display =\n",
              "          google.colab.kernel.accessAllowed ? 'block' : 'none';\n",
              "\n",
              "        async function convertToInteractive(key) {\n",
              "          const element = document.querySelector('#df-64c2d630-9e86-4089-ad2a-ceda9f88d41d');\n",
              "          const dataTable =\n",
              "            await google.colab.kernel.invokeFunction('convertToInteractive',\n",
              "                                                     [key], {});\n",
              "          if (!dataTable) return;\n",
              "\n",
              "          const docLinkHtml = 'Like what you see? Visit the ' +\n",
              "            '<a target=\"_blank\" href=https://colab.research.google.com/notebooks/data_table.ipynb>data table notebook</a>'\n",
              "            + ' to learn more about interactive tables.';\n",
              "          element.innerHTML = '';\n",
              "          dataTable['output_type'] = 'display_data';\n",
              "          await google.colab.output.renderOutput(dataTable, element);\n",
              "          const docLink = document.createElement('div');\n",
              "          docLink.innerHTML = docLinkHtml;\n",
              "          element.appendChild(docLink);\n",
              "        }\n",
              "      </script>\n",
              "    </div>\n",
              "  </div>\n",
              "  "
            ]
          },
          "metadata": {},
          "execution_count": 3
        }
      ],
      "source": [
        "source.head()"
      ]
    },
    {
      "cell_type": "code",
      "execution_count": null,
      "metadata": {
        "colab": {
          "base_uri": "https://localhost:8080/"
        },
        "id": "y_yaCgoBIUQI",
        "outputId": "ae478951-d3e6-4d13-a69c-39b603fd6ebf"
      },
      "outputs": [
        {
          "output_type": "stream",
          "name": "stdout",
          "text": [
            "<class 'pandas.core.frame.DataFrame'>\n",
            "RangeIndex: 13576 entries, 0 to 13575\n",
            "Data columns (total 2 columns):\n",
            " #   Column   Non-Null Count  Dtype \n",
            "---  ------   --------------  ----- \n",
            " 0   user_id  13576 non-null  object\n",
            " 1   source   13576 non-null  object\n",
            "dtypes: object(2)\n",
            "memory usage: 212.2+ KB\n"
          ]
        }
      ],
      "source": [
        "source.info()"
      ]
    },
    {
      "cell_type": "code",
      "execution_count": null,
      "metadata": {
        "colab": {
          "base_uri": "https://localhost:8080/",
          "height": 206
        },
        "id": "tHsw446rIUQJ",
        "outputId": "e4f99be3-fe13-4afb-f36e-554037c8b570"
      },
      "outputs": [
        {
          "output_type": "execute_result",
          "data": {
            "text/plain": [
              "        event_datetime     event  building_type  \\\n",
              "0  2020-05-04 00:00:01  building  assembly_shop   \n",
              "1  2020-05-04 00:00:03  building  assembly_shop   \n",
              "2  2020-05-04 00:00:16  building  assembly_shop   \n",
              "3  2020-05-04 00:00:16  building  assembly_shop   \n",
              "4  2020-05-04 00:00:35  building  assembly_shop   \n",
              "\n",
              "                                user_id project_type  \n",
              "0  55e92310-cb8e-4754-b622-597e124b03de          NaN  \n",
              "1  c07b1c10-f477-44dc-81dc-ec82254b1347          NaN  \n",
              "2  6edd42cc-e753-4ff6-a947-2107cd560710          NaN  \n",
              "3  92c69003-d60a-444a-827f-8cc51bf6bf4c          NaN  \n",
              "4  cdc6bb92-0ccb-4490-9866-ef142f09139d          NaN  "
            ],
            "text/html": [
              "\n",
              "  <div id=\"df-315df44c-7ce6-40ab-8b0b-1fe56e515b08\">\n",
              "    <div class=\"colab-df-container\">\n",
              "      <div>\n",
              "<style scoped>\n",
              "    .dataframe tbody tr th:only-of-type {\n",
              "        vertical-align: middle;\n",
              "    }\n",
              "\n",
              "    .dataframe tbody tr th {\n",
              "        vertical-align: top;\n",
              "    }\n",
              "\n",
              "    .dataframe thead th {\n",
              "        text-align: right;\n",
              "    }\n",
              "</style>\n",
              "<table border=\"1\" class=\"dataframe\">\n",
              "  <thead>\n",
              "    <tr style=\"text-align: right;\">\n",
              "      <th></th>\n",
              "      <th>event_datetime</th>\n",
              "      <th>event</th>\n",
              "      <th>building_type</th>\n",
              "      <th>user_id</th>\n",
              "      <th>project_type</th>\n",
              "    </tr>\n",
              "  </thead>\n",
              "  <tbody>\n",
              "    <tr>\n",
              "      <th>0</th>\n",
              "      <td>2020-05-04 00:00:01</td>\n",
              "      <td>building</td>\n",
              "      <td>assembly_shop</td>\n",
              "      <td>55e92310-cb8e-4754-b622-597e124b03de</td>\n",
              "      <td>NaN</td>\n",
              "    </tr>\n",
              "    <tr>\n",
              "      <th>1</th>\n",
              "      <td>2020-05-04 00:00:03</td>\n",
              "      <td>building</td>\n",
              "      <td>assembly_shop</td>\n",
              "      <td>c07b1c10-f477-44dc-81dc-ec82254b1347</td>\n",
              "      <td>NaN</td>\n",
              "    </tr>\n",
              "    <tr>\n",
              "      <th>2</th>\n",
              "      <td>2020-05-04 00:00:16</td>\n",
              "      <td>building</td>\n",
              "      <td>assembly_shop</td>\n",
              "      <td>6edd42cc-e753-4ff6-a947-2107cd560710</td>\n",
              "      <td>NaN</td>\n",
              "    </tr>\n",
              "    <tr>\n",
              "      <th>3</th>\n",
              "      <td>2020-05-04 00:00:16</td>\n",
              "      <td>building</td>\n",
              "      <td>assembly_shop</td>\n",
              "      <td>92c69003-d60a-444a-827f-8cc51bf6bf4c</td>\n",
              "      <td>NaN</td>\n",
              "    </tr>\n",
              "    <tr>\n",
              "      <th>4</th>\n",
              "      <td>2020-05-04 00:00:35</td>\n",
              "      <td>building</td>\n",
              "      <td>assembly_shop</td>\n",
              "      <td>cdc6bb92-0ccb-4490-9866-ef142f09139d</td>\n",
              "      <td>NaN</td>\n",
              "    </tr>\n",
              "  </tbody>\n",
              "</table>\n",
              "</div>\n",
              "      <button class=\"colab-df-convert\" onclick=\"convertToInteractive('df-315df44c-7ce6-40ab-8b0b-1fe56e515b08')\"\n",
              "              title=\"Convert this dataframe to an interactive table.\"\n",
              "              style=\"display:none;\">\n",
              "        \n",
              "  <svg xmlns=\"http://www.w3.org/2000/svg\" height=\"24px\"viewBox=\"0 0 24 24\"\n",
              "       width=\"24px\">\n",
              "    <path d=\"M0 0h24v24H0V0z\" fill=\"none\"/>\n",
              "    <path d=\"M18.56 5.44l.94 2.06.94-2.06 2.06-.94-2.06-.94-.94-2.06-.94 2.06-2.06.94zm-11 1L8.5 8.5l.94-2.06 2.06-.94-2.06-.94L8.5 2.5l-.94 2.06-2.06.94zm10 10l.94 2.06.94-2.06 2.06-.94-2.06-.94-.94-2.06-.94 2.06-2.06.94z\"/><path d=\"M17.41 7.96l-1.37-1.37c-.4-.4-.92-.59-1.43-.59-.52 0-1.04.2-1.43.59L10.3 9.45l-7.72 7.72c-.78.78-.78 2.05 0 2.83L4 21.41c.39.39.9.59 1.41.59.51 0 1.02-.2 1.41-.59l7.78-7.78 2.81-2.81c.8-.78.8-2.07 0-2.86zM5.41 20L4 18.59l7.72-7.72 1.47 1.35L5.41 20z\"/>\n",
              "  </svg>\n",
              "      </button>\n",
              "      \n",
              "  <style>\n",
              "    .colab-df-container {\n",
              "      display:flex;\n",
              "      flex-wrap:wrap;\n",
              "      gap: 12px;\n",
              "    }\n",
              "\n",
              "    .colab-df-convert {\n",
              "      background-color: #E8F0FE;\n",
              "      border: none;\n",
              "      border-radius: 50%;\n",
              "      cursor: pointer;\n",
              "      display: none;\n",
              "      fill: #1967D2;\n",
              "      height: 32px;\n",
              "      padding: 0 0 0 0;\n",
              "      width: 32px;\n",
              "    }\n",
              "\n",
              "    .colab-df-convert:hover {\n",
              "      background-color: #E2EBFA;\n",
              "      box-shadow: 0px 1px 2px rgba(60, 64, 67, 0.3), 0px 1px 3px 1px rgba(60, 64, 67, 0.15);\n",
              "      fill: #174EA6;\n",
              "    }\n",
              "\n",
              "    [theme=dark] .colab-df-convert {\n",
              "      background-color: #3B4455;\n",
              "      fill: #D2E3FC;\n",
              "    }\n",
              "\n",
              "    [theme=dark] .colab-df-convert:hover {\n",
              "      background-color: #434B5C;\n",
              "      box-shadow: 0px 1px 3px 1px rgba(0, 0, 0, 0.15);\n",
              "      filter: drop-shadow(0px 1px 2px rgba(0, 0, 0, 0.3));\n",
              "      fill: #FFFFFF;\n",
              "    }\n",
              "  </style>\n",
              "\n",
              "      <script>\n",
              "        const buttonEl =\n",
              "          document.querySelector('#df-315df44c-7ce6-40ab-8b0b-1fe56e515b08 button.colab-df-convert');\n",
              "        buttonEl.style.display =\n",
              "          google.colab.kernel.accessAllowed ? 'block' : 'none';\n",
              "\n",
              "        async function convertToInteractive(key) {\n",
              "          const element = document.querySelector('#df-315df44c-7ce6-40ab-8b0b-1fe56e515b08');\n",
              "          const dataTable =\n",
              "            await google.colab.kernel.invokeFunction('convertToInteractive',\n",
              "                                                     [key], {});\n",
              "          if (!dataTable) return;\n",
              "\n",
              "          const docLinkHtml = 'Like what you see? Visit the ' +\n",
              "            '<a target=\"_blank\" href=https://colab.research.google.com/notebooks/data_table.ipynb>data table notebook</a>'\n",
              "            + ' to learn more about interactive tables.';\n",
              "          element.innerHTML = '';\n",
              "          dataTable['output_type'] = 'display_data';\n",
              "          await google.colab.output.renderOutput(dataTable, element);\n",
              "          const docLink = document.createElement('div');\n",
              "          docLink.innerHTML = docLinkHtml;\n",
              "          element.appendChild(docLink);\n",
              "        }\n",
              "      </script>\n",
              "    </div>\n",
              "  </div>\n",
              "  "
            ]
          },
          "metadata": {},
          "execution_count": 5
        }
      ],
      "source": [
        "game.head()"
      ]
    },
    {
      "cell_type": "code",
      "execution_count": null,
      "metadata": {
        "colab": {
          "base_uri": "https://localhost:8080/"
        },
        "id": "8LRJl3mMIUQJ",
        "outputId": "bb3e0980-8952-4a6e-c8a3-80432b13f36b"
      },
      "outputs": [
        {
          "output_type": "stream",
          "name": "stdout",
          "text": [
            "<class 'pandas.core.frame.DataFrame'>\n",
            "RangeIndex: 135640 entries, 0 to 135639\n",
            "Data columns (total 5 columns):\n",
            " #   Column          Non-Null Count   Dtype \n",
            "---  ------          --------------   ----- \n",
            " 0   event_datetime  135640 non-null  object\n",
            " 1   event           135640 non-null  object\n",
            " 2   building_type   127957 non-null  object\n",
            " 3   user_id         135640 non-null  object\n",
            " 4   project_type    1866 non-null    object\n",
            "dtypes: object(5)\n",
            "memory usage: 5.2+ MB\n"
          ]
        }
      ],
      "source": [
        "game.info()"
      ]
    },
    {
      "cell_type": "code",
      "execution_count": null,
      "metadata": {
        "colab": {
          "base_uri": "https://localhost:8080/"
        },
        "id": "bCPR2_uQIUQJ",
        "outputId": "80085c06-ccca-43f2-a44c-63e39ca9b1e6"
      },
      "outputs": [
        {
          "output_type": "execute_result",
          "data": {
            "text/plain": [
              "13576"
            ]
          },
          "metadata": {},
          "execution_count": 7
        }
      ],
      "source": [
        "game['user_id'].nunique()"
      ]
    },
    {
      "cell_type": "code",
      "execution_count": null,
      "metadata": {
        "colab": {
          "base_uri": "https://localhost:8080/",
          "height": 206
        },
        "id": "5l9IXqPVIUQJ",
        "outputId": "6d6052c6-9aa3-498f-aecf-a89e49954a84"
      },
      "outputs": [
        {
          "output_type": "execute_result",
          "data": {
            "text/plain": [
              "         source         day        cost\n",
              "0  facebook_ads  2020-05-03  935.882786\n",
              "1  facebook_ads  2020-05-04  548.354480\n",
              "2  facebook_ads  2020-05-05  260.185754\n",
              "3  facebook_ads  2020-05-06  177.982200\n",
              "4  facebook_ads  2020-05-07  111.766796"
            ],
            "text/html": [
              "\n",
              "  <div id=\"df-071da416-cdb7-48a2-a031-91e23a407c7e\">\n",
              "    <div class=\"colab-df-container\">\n",
              "      <div>\n",
              "<style scoped>\n",
              "    .dataframe tbody tr th:only-of-type {\n",
              "        vertical-align: middle;\n",
              "    }\n",
              "\n",
              "    .dataframe tbody tr th {\n",
              "        vertical-align: top;\n",
              "    }\n",
              "\n",
              "    .dataframe thead th {\n",
              "        text-align: right;\n",
              "    }\n",
              "</style>\n",
              "<table border=\"1\" class=\"dataframe\">\n",
              "  <thead>\n",
              "    <tr style=\"text-align: right;\">\n",
              "      <th></th>\n",
              "      <th>source</th>\n",
              "      <th>day</th>\n",
              "      <th>cost</th>\n",
              "    </tr>\n",
              "  </thead>\n",
              "  <tbody>\n",
              "    <tr>\n",
              "      <th>0</th>\n",
              "      <td>facebook_ads</td>\n",
              "      <td>2020-05-03</td>\n",
              "      <td>935.882786</td>\n",
              "    </tr>\n",
              "    <tr>\n",
              "      <th>1</th>\n",
              "      <td>facebook_ads</td>\n",
              "      <td>2020-05-04</td>\n",
              "      <td>548.354480</td>\n",
              "    </tr>\n",
              "    <tr>\n",
              "      <th>2</th>\n",
              "      <td>facebook_ads</td>\n",
              "      <td>2020-05-05</td>\n",
              "      <td>260.185754</td>\n",
              "    </tr>\n",
              "    <tr>\n",
              "      <th>3</th>\n",
              "      <td>facebook_ads</td>\n",
              "      <td>2020-05-06</td>\n",
              "      <td>177.982200</td>\n",
              "    </tr>\n",
              "    <tr>\n",
              "      <th>4</th>\n",
              "      <td>facebook_ads</td>\n",
              "      <td>2020-05-07</td>\n",
              "      <td>111.766796</td>\n",
              "    </tr>\n",
              "  </tbody>\n",
              "</table>\n",
              "</div>\n",
              "      <button class=\"colab-df-convert\" onclick=\"convertToInteractive('df-071da416-cdb7-48a2-a031-91e23a407c7e')\"\n",
              "              title=\"Convert this dataframe to an interactive table.\"\n",
              "              style=\"display:none;\">\n",
              "        \n",
              "  <svg xmlns=\"http://www.w3.org/2000/svg\" height=\"24px\"viewBox=\"0 0 24 24\"\n",
              "       width=\"24px\">\n",
              "    <path d=\"M0 0h24v24H0V0z\" fill=\"none\"/>\n",
              "    <path d=\"M18.56 5.44l.94 2.06.94-2.06 2.06-.94-2.06-.94-.94-2.06-.94 2.06-2.06.94zm-11 1L8.5 8.5l.94-2.06 2.06-.94-2.06-.94L8.5 2.5l-.94 2.06-2.06.94zm10 10l.94 2.06.94-2.06 2.06-.94-2.06-.94-.94-2.06-.94 2.06-2.06.94z\"/><path d=\"M17.41 7.96l-1.37-1.37c-.4-.4-.92-.59-1.43-.59-.52 0-1.04.2-1.43.59L10.3 9.45l-7.72 7.72c-.78.78-.78 2.05 0 2.83L4 21.41c.39.39.9.59 1.41.59.51 0 1.02-.2 1.41-.59l7.78-7.78 2.81-2.81c.8-.78.8-2.07 0-2.86zM5.41 20L4 18.59l7.72-7.72 1.47 1.35L5.41 20z\"/>\n",
              "  </svg>\n",
              "      </button>\n",
              "      \n",
              "  <style>\n",
              "    .colab-df-container {\n",
              "      display:flex;\n",
              "      flex-wrap:wrap;\n",
              "      gap: 12px;\n",
              "    }\n",
              "\n",
              "    .colab-df-convert {\n",
              "      background-color: #E8F0FE;\n",
              "      border: none;\n",
              "      border-radius: 50%;\n",
              "      cursor: pointer;\n",
              "      display: none;\n",
              "      fill: #1967D2;\n",
              "      height: 32px;\n",
              "      padding: 0 0 0 0;\n",
              "      width: 32px;\n",
              "    }\n",
              "\n",
              "    .colab-df-convert:hover {\n",
              "      background-color: #E2EBFA;\n",
              "      box-shadow: 0px 1px 2px rgba(60, 64, 67, 0.3), 0px 1px 3px 1px rgba(60, 64, 67, 0.15);\n",
              "      fill: #174EA6;\n",
              "    }\n",
              "\n",
              "    [theme=dark] .colab-df-convert {\n",
              "      background-color: #3B4455;\n",
              "      fill: #D2E3FC;\n",
              "    }\n",
              "\n",
              "    [theme=dark] .colab-df-convert:hover {\n",
              "      background-color: #434B5C;\n",
              "      box-shadow: 0px 1px 3px 1px rgba(0, 0, 0, 0.15);\n",
              "      filter: drop-shadow(0px 1px 2px rgba(0, 0, 0, 0.3));\n",
              "      fill: #FFFFFF;\n",
              "    }\n",
              "  </style>\n",
              "\n",
              "      <script>\n",
              "        const buttonEl =\n",
              "          document.querySelector('#df-071da416-cdb7-48a2-a031-91e23a407c7e button.colab-df-convert');\n",
              "        buttonEl.style.display =\n",
              "          google.colab.kernel.accessAllowed ? 'block' : 'none';\n",
              "\n",
              "        async function convertToInteractive(key) {\n",
              "          const element = document.querySelector('#df-071da416-cdb7-48a2-a031-91e23a407c7e');\n",
              "          const dataTable =\n",
              "            await google.colab.kernel.invokeFunction('convertToInteractive',\n",
              "                                                     [key], {});\n",
              "          if (!dataTable) return;\n",
              "\n",
              "          const docLinkHtml = 'Like what you see? Visit the ' +\n",
              "            '<a target=\"_blank\" href=https://colab.research.google.com/notebooks/data_table.ipynb>data table notebook</a>'\n",
              "            + ' to learn more about interactive tables.';\n",
              "          element.innerHTML = '';\n",
              "          dataTable['output_type'] = 'display_data';\n",
              "          await google.colab.output.renderOutput(dataTable, element);\n",
              "          const docLink = document.createElement('div');\n",
              "          docLink.innerHTML = docLinkHtml;\n",
              "          element.appendChild(docLink);\n",
              "        }\n",
              "      </script>\n",
              "    </div>\n",
              "  </div>\n",
              "  "
            ]
          },
          "metadata": {},
          "execution_count": 8
        }
      ],
      "source": [
        "costs.head()"
      ]
    },
    {
      "cell_type": "code",
      "execution_count": null,
      "metadata": {
        "colab": {
          "base_uri": "https://localhost:8080/"
        },
        "id": "GjBohG6NIUQK",
        "outputId": "f8e7ac3a-1e7e-44df-e1ff-6eb9124ca6d1"
      },
      "outputs": [
        {
          "output_type": "stream",
          "name": "stdout",
          "text": [
            "<class 'pandas.core.frame.DataFrame'>\n",
            "RangeIndex: 28 entries, 0 to 27\n",
            "Data columns (total 3 columns):\n",
            " #   Column  Non-Null Count  Dtype  \n",
            "---  ------  --------------  -----  \n",
            " 0   source  28 non-null     object \n",
            " 1   day     28 non-null     object \n",
            " 2   cost    28 non-null     float64\n",
            "dtypes: float64(1), object(2)\n",
            "memory usage: 800.0+ bytes\n"
          ]
        }
      ],
      "source": [
        "costs.info()"
      ]
    },
    {
      "cell_type": "markdown",
      "metadata": {
        "id": "IK3QELiVIUQK"
      },
      "source": [
        "**Вывод:**\n",
        "\n",
        "Имеются пропуски в df.Game в столбцах building_type и project_type, стоит разобраться с причиной их появления и при возможности заполнить пропуски.\n"
      ]
    },
    {
      "cell_type": "markdown",
      "metadata": {
        "id": "DEPkn2iAIUQK"
      },
      "source": [
        "## Предобработка данных:\n",
        "\n",
        "\n",
        "- приведение столбцов к нужному типу данных\n",
        "- объединение таблиц game_actions+user_source по user_id\n",
        "- проверка пропусков, изучение причину появления их, принятие решение по пропускам\n",
        "- работа с дубликатами"
      ]
    },
    {
      "cell_type": "code",
      "execution_count": null,
      "metadata": {
        "id": "7M8qleP1IUQK"
      },
      "outputs": [],
      "source": [
        "game['event_datetime'] = pd.to_datetime(game['event_datetime'], format = '%Y-%m-%d %H:%M:%S')"
      ]
    },
    {
      "cell_type": "code",
      "execution_count": null,
      "metadata": {
        "id": "4Vn5o9sDIUQK"
      },
      "outputs": [],
      "source": [
        "costs = costs.rename(columns = {'day':'dt'})\n",
        "costs['dt'] = pd.to_datetime(costs['dt']).dt.date\n",
        "costs['week'] = costs['dt'].astype('datetime64[W]')\n",
        "costs['month'] = costs['dt'].astype('datetime64[M]')\n"
      ]
    },
    {
      "cell_type": "code",
      "execution_count": null,
      "metadata": {
        "colab": {
          "base_uri": "https://localhost:8080/",
          "height": 206
        },
        "id": "q006QZzoIUQL",
        "outputId": "8daa2d66-3b7e-40f4-9f16-3f75429565ce"
      },
      "outputs": [
        {
          "output_type": "execute_result",
          "data": {
            "text/plain": [
              "       event_datetime     event  building_type  \\\n",
              "0 2020-05-04 00:00:01  building  assembly_shop   \n",
              "1 2020-05-05 05:20:15  building  assembly_shop   \n",
              "2 2020-05-05 19:24:02  building  assembly_shop   \n",
              "3 2020-05-05 20:59:19  building  assembly_shop   \n",
              "4 2020-05-06 00:52:56  building  assembly_shop   \n",
              "\n",
              "                                user_id project_type                   source  \n",
              "0  55e92310-cb8e-4754-b622-597e124b03de          NaN  youtube_channel_reklama  \n",
              "1  55e92310-cb8e-4754-b622-597e124b03de          NaN  youtube_channel_reklama  \n",
              "2  55e92310-cb8e-4754-b622-597e124b03de          NaN  youtube_channel_reklama  \n",
              "3  55e92310-cb8e-4754-b622-597e124b03de          NaN  youtube_channel_reklama  \n",
              "4  55e92310-cb8e-4754-b622-597e124b03de          NaN  youtube_channel_reklama  "
            ],
            "text/html": [
              "\n",
              "  <div id=\"df-39702c60-5674-4ced-880a-8ada624983ce\">\n",
              "    <div class=\"colab-df-container\">\n",
              "      <div>\n",
              "<style scoped>\n",
              "    .dataframe tbody tr th:only-of-type {\n",
              "        vertical-align: middle;\n",
              "    }\n",
              "\n",
              "    .dataframe tbody tr th {\n",
              "        vertical-align: top;\n",
              "    }\n",
              "\n",
              "    .dataframe thead th {\n",
              "        text-align: right;\n",
              "    }\n",
              "</style>\n",
              "<table border=\"1\" class=\"dataframe\">\n",
              "  <thead>\n",
              "    <tr style=\"text-align: right;\">\n",
              "      <th></th>\n",
              "      <th>event_datetime</th>\n",
              "      <th>event</th>\n",
              "      <th>building_type</th>\n",
              "      <th>user_id</th>\n",
              "      <th>project_type</th>\n",
              "      <th>source</th>\n",
              "    </tr>\n",
              "  </thead>\n",
              "  <tbody>\n",
              "    <tr>\n",
              "      <th>0</th>\n",
              "      <td>2020-05-04 00:00:01</td>\n",
              "      <td>building</td>\n",
              "      <td>assembly_shop</td>\n",
              "      <td>55e92310-cb8e-4754-b622-597e124b03de</td>\n",
              "      <td>NaN</td>\n",
              "      <td>youtube_channel_reklama</td>\n",
              "    </tr>\n",
              "    <tr>\n",
              "      <th>1</th>\n",
              "      <td>2020-05-05 05:20:15</td>\n",
              "      <td>building</td>\n",
              "      <td>assembly_shop</td>\n",
              "      <td>55e92310-cb8e-4754-b622-597e124b03de</td>\n",
              "      <td>NaN</td>\n",
              "      <td>youtube_channel_reklama</td>\n",
              "    </tr>\n",
              "    <tr>\n",
              "      <th>2</th>\n",
              "      <td>2020-05-05 19:24:02</td>\n",
              "      <td>building</td>\n",
              "      <td>assembly_shop</td>\n",
              "      <td>55e92310-cb8e-4754-b622-597e124b03de</td>\n",
              "      <td>NaN</td>\n",
              "      <td>youtube_channel_reklama</td>\n",
              "    </tr>\n",
              "    <tr>\n",
              "      <th>3</th>\n",
              "      <td>2020-05-05 20:59:19</td>\n",
              "      <td>building</td>\n",
              "      <td>assembly_shop</td>\n",
              "      <td>55e92310-cb8e-4754-b622-597e124b03de</td>\n",
              "      <td>NaN</td>\n",
              "      <td>youtube_channel_reklama</td>\n",
              "    </tr>\n",
              "    <tr>\n",
              "      <th>4</th>\n",
              "      <td>2020-05-06 00:52:56</td>\n",
              "      <td>building</td>\n",
              "      <td>assembly_shop</td>\n",
              "      <td>55e92310-cb8e-4754-b622-597e124b03de</td>\n",
              "      <td>NaN</td>\n",
              "      <td>youtube_channel_reklama</td>\n",
              "    </tr>\n",
              "  </tbody>\n",
              "</table>\n",
              "</div>\n",
              "      <button class=\"colab-df-convert\" onclick=\"convertToInteractive('df-39702c60-5674-4ced-880a-8ada624983ce')\"\n",
              "              title=\"Convert this dataframe to an interactive table.\"\n",
              "              style=\"display:none;\">\n",
              "        \n",
              "  <svg xmlns=\"http://www.w3.org/2000/svg\" height=\"24px\"viewBox=\"0 0 24 24\"\n",
              "       width=\"24px\">\n",
              "    <path d=\"M0 0h24v24H0V0z\" fill=\"none\"/>\n",
              "    <path d=\"M18.56 5.44l.94 2.06.94-2.06 2.06-.94-2.06-.94-.94-2.06-.94 2.06-2.06.94zm-11 1L8.5 8.5l.94-2.06 2.06-.94-2.06-.94L8.5 2.5l-.94 2.06-2.06.94zm10 10l.94 2.06.94-2.06 2.06-.94-2.06-.94-.94-2.06-.94 2.06-2.06.94z\"/><path d=\"M17.41 7.96l-1.37-1.37c-.4-.4-.92-.59-1.43-.59-.52 0-1.04.2-1.43.59L10.3 9.45l-7.72 7.72c-.78.78-.78 2.05 0 2.83L4 21.41c.39.39.9.59 1.41.59.51 0 1.02-.2 1.41-.59l7.78-7.78 2.81-2.81c.8-.78.8-2.07 0-2.86zM5.41 20L4 18.59l7.72-7.72 1.47 1.35L5.41 20z\"/>\n",
              "  </svg>\n",
              "      </button>\n",
              "      \n",
              "  <style>\n",
              "    .colab-df-container {\n",
              "      display:flex;\n",
              "      flex-wrap:wrap;\n",
              "      gap: 12px;\n",
              "    }\n",
              "\n",
              "    .colab-df-convert {\n",
              "      background-color: #E8F0FE;\n",
              "      border: none;\n",
              "      border-radius: 50%;\n",
              "      cursor: pointer;\n",
              "      display: none;\n",
              "      fill: #1967D2;\n",
              "      height: 32px;\n",
              "      padding: 0 0 0 0;\n",
              "      width: 32px;\n",
              "    }\n",
              "\n",
              "    .colab-df-convert:hover {\n",
              "      background-color: #E2EBFA;\n",
              "      box-shadow: 0px 1px 2px rgba(60, 64, 67, 0.3), 0px 1px 3px 1px rgba(60, 64, 67, 0.15);\n",
              "      fill: #174EA6;\n",
              "    }\n",
              "\n",
              "    [theme=dark] .colab-df-convert {\n",
              "      background-color: #3B4455;\n",
              "      fill: #D2E3FC;\n",
              "    }\n",
              "\n",
              "    [theme=dark] .colab-df-convert:hover {\n",
              "      background-color: #434B5C;\n",
              "      box-shadow: 0px 1px 3px 1px rgba(0, 0, 0, 0.15);\n",
              "      filter: drop-shadow(0px 1px 2px rgba(0, 0, 0, 0.3));\n",
              "      fill: #FFFFFF;\n",
              "    }\n",
              "  </style>\n",
              "\n",
              "      <script>\n",
              "        const buttonEl =\n",
              "          document.querySelector('#df-39702c60-5674-4ced-880a-8ada624983ce button.colab-df-convert');\n",
              "        buttonEl.style.display =\n",
              "          google.colab.kernel.accessAllowed ? 'block' : 'none';\n",
              "\n",
              "        async function convertToInteractive(key) {\n",
              "          const element = document.querySelector('#df-39702c60-5674-4ced-880a-8ada624983ce');\n",
              "          const dataTable =\n",
              "            await google.colab.kernel.invokeFunction('convertToInteractive',\n",
              "                                                     [key], {});\n",
              "          if (!dataTable) return;\n",
              "\n",
              "          const docLinkHtml = 'Like what you see? Visit the ' +\n",
              "            '<a target=\"_blank\" href=https://colab.research.google.com/notebooks/data_table.ipynb>data table notebook</a>'\n",
              "            + ' to learn more about interactive tables.';\n",
              "          element.innerHTML = '';\n",
              "          dataTable['output_type'] = 'display_data';\n",
              "          await google.colab.output.renderOutput(dataTable, element);\n",
              "          const docLink = document.createElement('div');\n",
              "          docLink.innerHTML = docLinkHtml;\n",
              "          element.appendChild(docLink);\n",
              "        }\n",
              "      </script>\n",
              "    </div>\n",
              "  </div>\n",
              "  "
            ]
          },
          "metadata": {},
          "execution_count": 12
        }
      ],
      "source": [
        "game = game.merge(source)\n",
        "game.head()"
      ]
    },
    {
      "cell_type": "code",
      "execution_count": null,
      "metadata": {
        "colab": {
          "base_uri": "https://localhost:8080/"
        },
        "id": "UdVlYwW-IUQL",
        "outputId": "a60f2320-e870-4d4c-d3a8-d01037b0455c"
      },
      "outputs": [
        {
          "output_type": "execute_result",
          "data": {
            "text/plain": [
              "user_id    0\n",
              "source     0\n",
              "dtype: int64"
            ]
          },
          "metadata": {},
          "execution_count": 13
        }
      ],
      "source": [
        "source.isna().sum()"
      ]
    },
    {
      "cell_type": "code",
      "execution_count": null,
      "metadata": {
        "colab": {
          "base_uri": "https://localhost:8080/"
        },
        "id": "RpJSD35aIUQL",
        "outputId": "4addb649-dc7f-4411-92d9-3912cea6d4c4"
      },
      "outputs": [
        {
          "output_type": "execute_result",
          "data": {
            "text/plain": [
              "0"
            ]
          },
          "metadata": {},
          "execution_count": 14
        }
      ],
      "source": [
        "source.duplicated().sum()"
      ]
    },
    {
      "cell_type": "code",
      "execution_count": null,
      "metadata": {
        "colab": {
          "base_uri": "https://localhost:8080/"
        },
        "id": "3zHyyFOrIUQL",
        "outputId": "9c3077c8-d6f3-4e6b-8b7b-c8132e0656f8"
      },
      "outputs": [
        {
          "output_type": "execute_result",
          "data": {
            "text/plain": [
              "event_datetime         0\n",
              "event                  0\n",
              "building_type       7683\n",
              "user_id                0\n",
              "project_type      133774\n",
              "source                 0\n",
              "dtype: int64"
            ]
          },
          "metadata": {},
          "execution_count": 15
        }
      ],
      "source": [
        "game.isna().sum()"
      ]
    },
    {
      "cell_type": "code",
      "execution_count": null,
      "metadata": {
        "colab": {
          "base_uri": "https://localhost:8080/"
        },
        "id": "RL4fPOlZIUQM",
        "outputId": "f3568564-62a9-40f8-cc1c-9827f1ae3992"
      },
      "outputs": [
        {
          "output_type": "execute_result",
          "data": {
            "text/plain": [
              "1"
            ]
          },
          "metadata": {},
          "execution_count": 16
        }
      ],
      "source": [
        "game.duplicated().sum()"
      ]
    },
    {
      "cell_type": "code",
      "execution_count": null,
      "metadata": {
        "id": "yKdVr07OIUQM"
      },
      "outputs": [],
      "source": [
        "game = game.drop_duplicates()"
      ]
    },
    {
      "cell_type": "code",
      "execution_count": null,
      "metadata": {
        "colab": {
          "base_uri": "https://localhost:8080/"
        },
        "id": "dQowwI8lIUQM",
        "outputId": "5549a550-6b6a-44ea-c32a-54e52aa671cb"
      },
      "outputs": [
        {
          "output_type": "execute_result",
          "data": {
            "text/plain": [
              "source    0\n",
              "dt        0\n",
              "cost      0\n",
              "week      0\n",
              "month     0\n",
              "dtype: int64"
            ]
          },
          "metadata": {},
          "execution_count": 18
        }
      ],
      "source": [
        "costs.isna().sum()"
      ]
    },
    {
      "cell_type": "code",
      "execution_count": null,
      "metadata": {
        "colab": {
          "base_uri": "https://localhost:8080/"
        },
        "id": "LYsEFnaTIUQM",
        "outputId": "1b412d96-af9f-4b67-8e0d-1b78385e8d96"
      },
      "outputs": [
        {
          "output_type": "execute_result",
          "data": {
            "text/plain": [
              "0"
            ]
          },
          "metadata": {},
          "execution_count": 19
        }
      ],
      "source": [
        "costs.duplicated().sum()"
      ]
    },
    {
      "cell_type": "code",
      "execution_count": null,
      "metadata": {
        "colab": {
          "base_uri": "https://localhost:8080/"
        },
        "id": "V6iwSYpZIUQN",
        "outputId": "d5f7681c-4cd3-4fa6-8f5b-27a493807bc4"
      },
      "outputs": [
        {
          "output_type": "execute_result",
          "data": {
            "text/plain": [
              "array(['project', 'finished_stage_1'], dtype=object)"
            ]
          },
          "metadata": {},
          "execution_count": 20
        }
      ],
      "source": [
        "game[game['building_type'].isna()]['event'].unique()"
      ]
    },
    {
      "cell_type": "code",
      "execution_count": null,
      "metadata": {
        "colab": {
          "base_uri": "https://localhost:8080/"
        },
        "id": "WOEBczYmIUQN",
        "outputId": "0693b00b-8f39-4f0f-ef61-22db8d57678d"
      },
      "outputs": [
        {
          "output_type": "execute_result",
          "data": {
            "text/plain": [
              "array([nan], dtype=object)"
            ]
          },
          "metadata": {},
          "execution_count": 21
        }
      ],
      "source": [
        "finished_stage_1 = game[game['building_type'].isna()].query('event == \"finished_stage_1\"')\n",
        "finished_stage_1['project_type'].unique()"
      ]
    },
    {
      "cell_type": "markdown",
      "metadata": {
        "id": "-SWFnFUQIUQN"
      },
      "source": [
        "**Вывод:**\n",
        "\n",
        "- В df.Game и df.Сost столбцы с датами привела в нужный формат.\n",
        "- Проверила наличие дубликатов, обнаружен 1 дубликат в df.Game - удалила.\n",
        "- Добавила новые столбцы в df.Сost с неделями и месяцами, возможно пригодятся.\n",
        "- Объединила таблицу df.Game и df.Source по айдти пользователя, что бы видела с какого источника пришел пользователь.\n",
        "- Пропуски в df.Game в building_type проверила, они обусловлены механикой игры и сборов логов"
      ]
    },
    {
      "cell_type": "markdown",
      "metadata": {
        "id": "h4tAj4cbIUQO"
      },
      "source": [
        "## Исследовательский анализ\n",
        "\n",
        "- составление профилей пользователей\n",
        "- исследовать каналы привлечения по количеству пользователей, выясниь какой канал привлекает наибольшее кол-во пользователей\n",
        "- исследовать качество привлеченных пользовтателей, по проценту завершивших и доли стратегий\n",
        "- исследовать кол-во построенных зданий\n",
        "- определить стоимость привлечения клиентов по источникам\n",
        "- исследовать время проведенное в игре по источникам\n",
        "- исследовать способ прохождения игры по источникам"
      ]
    },
    {
      "cell_type": "code",
      "execution_count": null,
      "metadata": {
        "colab": {
          "base_uri": "https://localhost:8080/",
          "height": 337
        },
        "id": "KeiETpWDIUQP",
        "outputId": "23927f3e-3f3d-436a-c974-123145ca29b8"
      },
      "outputs": [
        {
          "output_type": "execute_result",
          "data": {
            "text/plain": [
              "                                user_id            first_ts  \\\n",
              "0  0001f83c-c6ac-4621-b7f0-8a28b283ac30 2020-05-06 01:07:37   \n",
              "1  00151b4f-ba38-44a8-a650-d7cf130a0105 2020-05-06 03:09:12   \n",
              "2  001aaea6-3d14-43f1-8ca8-7f48820f17aa 2020-05-05 18:08:52   \n",
              "3  001d39dc-366c-4021-9604-6a3b9ff01e25 2020-05-05 21:02:05   \n",
              "4  002f508f-67b6-479f-814b-b05f00d4e995 2020-05-05 13:49:58   \n",
              "\n",
              "                    source  building_type             event project_type  \\\n",
              "0             facebook_ads             13          building         None   \n",
              "1            yandex_direct              9          building         None   \n",
              "2  youtube_channel_reklama              4          building         None   \n",
              "3    instagram_new_adverts              8  finished_stage_1         None   \n",
              "4             facebook_ads             12          building         None   \n",
              "\n",
              "           dt  acquisition_cost  \n",
              "0  2020-05-05          0.754162  \n",
              "1  2020-05-05          0.464206  \n",
              "2  2020-05-04          0.390759  \n",
              "3  2020-05-04          0.631816  \n",
              "4  2020-05-04          0.790136  "
            ],
            "text/html": [
              "\n",
              "  <div id=\"df-7a844800-e5df-4226-82f3-a8ce3baaf9be\">\n",
              "    <div class=\"colab-df-container\">\n",
              "      <div>\n",
              "<style scoped>\n",
              "    .dataframe tbody tr th:only-of-type {\n",
              "        vertical-align: middle;\n",
              "    }\n",
              "\n",
              "    .dataframe tbody tr th {\n",
              "        vertical-align: top;\n",
              "    }\n",
              "\n",
              "    .dataframe thead th {\n",
              "        text-align: right;\n",
              "    }\n",
              "</style>\n",
              "<table border=\"1\" class=\"dataframe\">\n",
              "  <thead>\n",
              "    <tr style=\"text-align: right;\">\n",
              "      <th></th>\n",
              "      <th>user_id</th>\n",
              "      <th>first_ts</th>\n",
              "      <th>source</th>\n",
              "      <th>building_type</th>\n",
              "      <th>event</th>\n",
              "      <th>project_type</th>\n",
              "      <th>dt</th>\n",
              "      <th>acquisition_cost</th>\n",
              "    </tr>\n",
              "  </thead>\n",
              "  <tbody>\n",
              "    <tr>\n",
              "      <th>0</th>\n",
              "      <td>0001f83c-c6ac-4621-b7f0-8a28b283ac30</td>\n",
              "      <td>2020-05-06 01:07:37</td>\n",
              "      <td>facebook_ads</td>\n",
              "      <td>13</td>\n",
              "      <td>building</td>\n",
              "      <td>None</td>\n",
              "      <td>2020-05-05</td>\n",
              "      <td>0.754162</td>\n",
              "    </tr>\n",
              "    <tr>\n",
              "      <th>1</th>\n",
              "      <td>00151b4f-ba38-44a8-a650-d7cf130a0105</td>\n",
              "      <td>2020-05-06 03:09:12</td>\n",
              "      <td>yandex_direct</td>\n",
              "      <td>9</td>\n",
              "      <td>building</td>\n",
              "      <td>None</td>\n",
              "      <td>2020-05-05</td>\n",
              "      <td>0.464206</td>\n",
              "    </tr>\n",
              "    <tr>\n",
              "      <th>2</th>\n",
              "      <td>001aaea6-3d14-43f1-8ca8-7f48820f17aa</td>\n",
              "      <td>2020-05-05 18:08:52</td>\n",
              "      <td>youtube_channel_reklama</td>\n",
              "      <td>4</td>\n",
              "      <td>building</td>\n",
              "      <td>None</td>\n",
              "      <td>2020-05-04</td>\n",
              "      <td>0.390759</td>\n",
              "    </tr>\n",
              "    <tr>\n",
              "      <th>3</th>\n",
              "      <td>001d39dc-366c-4021-9604-6a3b9ff01e25</td>\n",
              "      <td>2020-05-05 21:02:05</td>\n",
              "      <td>instagram_new_adverts</td>\n",
              "      <td>8</td>\n",
              "      <td>finished_stage_1</td>\n",
              "      <td>None</td>\n",
              "      <td>2020-05-04</td>\n",
              "      <td>0.631816</td>\n",
              "    </tr>\n",
              "    <tr>\n",
              "      <th>4</th>\n",
              "      <td>002f508f-67b6-479f-814b-b05f00d4e995</td>\n",
              "      <td>2020-05-05 13:49:58</td>\n",
              "      <td>facebook_ads</td>\n",
              "      <td>12</td>\n",
              "      <td>building</td>\n",
              "      <td>None</td>\n",
              "      <td>2020-05-04</td>\n",
              "      <td>0.790136</td>\n",
              "    </tr>\n",
              "  </tbody>\n",
              "</table>\n",
              "</div>\n",
              "      <button class=\"colab-df-convert\" onclick=\"convertToInteractive('df-7a844800-e5df-4226-82f3-a8ce3baaf9be')\"\n",
              "              title=\"Convert this dataframe to an interactive table.\"\n",
              "              style=\"display:none;\">\n",
              "        \n",
              "  <svg xmlns=\"http://www.w3.org/2000/svg\" height=\"24px\"viewBox=\"0 0 24 24\"\n",
              "       width=\"24px\">\n",
              "    <path d=\"M0 0h24v24H0V0z\" fill=\"none\"/>\n",
              "    <path d=\"M18.56 5.44l.94 2.06.94-2.06 2.06-.94-2.06-.94-.94-2.06-.94 2.06-2.06.94zm-11 1L8.5 8.5l.94-2.06 2.06-.94-2.06-.94L8.5 2.5l-.94 2.06-2.06.94zm10 10l.94 2.06.94-2.06 2.06-.94-2.06-.94-.94-2.06-.94 2.06-2.06.94z\"/><path d=\"M17.41 7.96l-1.37-1.37c-.4-.4-.92-.59-1.43-.59-.52 0-1.04.2-1.43.59L10.3 9.45l-7.72 7.72c-.78.78-.78 2.05 0 2.83L4 21.41c.39.39.9.59 1.41.59.51 0 1.02-.2 1.41-.59l7.78-7.78 2.81-2.81c.8-.78.8-2.07 0-2.86zM5.41 20L4 18.59l7.72-7.72 1.47 1.35L5.41 20z\"/>\n",
              "  </svg>\n",
              "      </button>\n",
              "      \n",
              "  <style>\n",
              "    .colab-df-container {\n",
              "      display:flex;\n",
              "      flex-wrap:wrap;\n",
              "      gap: 12px;\n",
              "    }\n",
              "\n",
              "    .colab-df-convert {\n",
              "      background-color: #E8F0FE;\n",
              "      border: none;\n",
              "      border-radius: 50%;\n",
              "      cursor: pointer;\n",
              "      display: none;\n",
              "      fill: #1967D2;\n",
              "      height: 32px;\n",
              "      padding: 0 0 0 0;\n",
              "      width: 32px;\n",
              "    }\n",
              "\n",
              "    .colab-df-convert:hover {\n",
              "      background-color: #E2EBFA;\n",
              "      box-shadow: 0px 1px 2px rgba(60, 64, 67, 0.3), 0px 1px 3px 1px rgba(60, 64, 67, 0.15);\n",
              "      fill: #174EA6;\n",
              "    }\n",
              "\n",
              "    [theme=dark] .colab-df-convert {\n",
              "      background-color: #3B4455;\n",
              "      fill: #D2E3FC;\n",
              "    }\n",
              "\n",
              "    [theme=dark] .colab-df-convert:hover {\n",
              "      background-color: #434B5C;\n",
              "      box-shadow: 0px 1px 3px 1px rgba(0, 0, 0, 0.15);\n",
              "      filter: drop-shadow(0px 1px 2px rgba(0, 0, 0, 0.3));\n",
              "      fill: #FFFFFF;\n",
              "    }\n",
              "  </style>\n",
              "\n",
              "      <script>\n",
              "        const buttonEl =\n",
              "          document.querySelector('#df-7a844800-e5df-4226-82f3-a8ce3baaf9be button.colab-df-convert');\n",
              "        buttonEl.style.display =\n",
              "          google.colab.kernel.accessAllowed ? 'block' : 'none';\n",
              "\n",
              "        async function convertToInteractive(key) {\n",
              "          const element = document.querySelector('#df-7a844800-e5df-4226-82f3-a8ce3baaf9be');\n",
              "          const dataTable =\n",
              "            await google.colab.kernel.invokeFunction('convertToInteractive',\n",
              "                                                     [key], {});\n",
              "          if (!dataTable) return;\n",
              "\n",
              "          const docLinkHtml = 'Like what you see? Visit the ' +\n",
              "            '<a target=\"_blank\" href=https://colab.research.google.com/notebooks/data_table.ipynb>data table notebook</a>'\n",
              "            + ' to learn more about interactive tables.';\n",
              "          element.innerHTML = '';\n",
              "          dataTable['output_type'] = 'display_data';\n",
              "          await google.colab.output.renderOutput(dataTable, element);\n",
              "          const docLink = document.createElement('div');\n",
              "          docLink.innerHTML = docLinkHtml;\n",
              "          element.appendChild(docLink);\n",
              "        }\n",
              "      </script>\n",
              "    </div>\n",
              "  </div>\n",
              "  "
            ]
          },
          "metadata": {},
          "execution_count": 22
        }
      ],
      "source": [
        "#составление профилей пользователей + расчет САС\n",
        "\n",
        "def get_profiles(game, costs):\n",
        "    profiles = (\n",
        "        game.sort_values(by=['user_id', 'event_datetime'])\n",
        "        .groupby('user_id')\n",
        "        .agg({'event_datetime': 'first', 'source': 'first', 'building_type': 'count', 'event':'last', 'project_type': 'first', 'project_type':'last'})\n",
        "        .rename(columns={'event_datetime': 'first_ts'})\n",
        "        .reset_index()\n",
        "    )\n",
        "    profiles['dt'] = pd.to_datetime(profiles['first_ts']).dt.date\n",
        "    profiles['dt'] = profiles['dt'] - timedelta(1)\n",
        "    new_users = (\n",
        "        profiles.groupby(['dt', 'source'])\n",
        "        .agg({'user_id': 'nunique'})\n",
        "\n",
        "        .rename(columns={'user_id': 'unique_users'})\n",
        "        .reset_index()\n",
        "    )\n",
        "    ad_costs = costs.merge(new_users, on=['source', 'dt'], how='left')\n",
        "\n",
        "    ad_costs['acquisition_cost'] = ad_costs['cost'] / ad_costs['unique_users']\n",
        "    profiles = profiles.merge(\n",
        "      costs[['dt', 'source']],\n",
        "      on=['dt', 'source'],\n",
        "      how='left',\n",
        "    )\n",
        "\n",
        "    profiles = profiles.merge(\n",
        "        ad_costs[['dt', 'source', 'acquisition_cost']],\n",
        "        on=['dt', 'source'],\n",
        "        how='left',\n",
        "    )\n",
        "    profiles['acquisition_cost'] = profiles['acquisition_cost'].fillna(0)\n",
        "\n",
        "\n",
        "\n",
        "    return profiles\n",
        "\n",
        "profiles = get_profiles(game, costs)\n",
        "profiles.head()"
      ]
    },
    {
      "cell_type": "markdown",
      "metadata": {
        "id": "5mssTTKjIUQP"
      },
      "source": [
        "**Комментарий:**\n",
        "\n",
        "\n",
        "собрали профили пользователей с первым днем использования игры, добавила кол-во построенных зданий + рассчитала САС на пользователя в зависимости от источника"
      ]
    },
    {
      "cell_type": "code",
      "execution_count": null,
      "metadata": {
        "colab": {
          "base_uri": "https://localhost:8080/",
          "height": 175
        },
        "id": "eyJUysq_IUQP",
        "outputId": "952eb154-1c13-45eb-b79d-ba5027f67e8f"
      },
      "outputs": [
        {
          "output_type": "execute_result",
          "data": {
            "text/plain": [
              "                    source  user\n",
              "0            yandex_direct  4817\n",
              "1    instagram_new_adverts  3347\n",
              "2             facebook_ads  2726\n",
              "3  youtube_channel_reklama  2686"
            ],
            "text/html": [
              "\n",
              "  <div id=\"df-89c544f5-1bfd-4828-9092-f4b8f31ce144\">\n",
              "    <div class=\"colab-df-container\">\n",
              "      <div>\n",
              "<style scoped>\n",
              "    .dataframe tbody tr th:only-of-type {\n",
              "        vertical-align: middle;\n",
              "    }\n",
              "\n",
              "    .dataframe tbody tr th {\n",
              "        vertical-align: top;\n",
              "    }\n",
              "\n",
              "    .dataframe thead th {\n",
              "        text-align: right;\n",
              "    }\n",
              "</style>\n",
              "<table border=\"1\" class=\"dataframe\">\n",
              "  <thead>\n",
              "    <tr style=\"text-align: right;\">\n",
              "      <th></th>\n",
              "      <th>source</th>\n",
              "      <th>user</th>\n",
              "    </tr>\n",
              "  </thead>\n",
              "  <tbody>\n",
              "    <tr>\n",
              "      <th>0</th>\n",
              "      <td>yandex_direct</td>\n",
              "      <td>4817</td>\n",
              "    </tr>\n",
              "    <tr>\n",
              "      <th>1</th>\n",
              "      <td>instagram_new_adverts</td>\n",
              "      <td>3347</td>\n",
              "    </tr>\n",
              "    <tr>\n",
              "      <th>2</th>\n",
              "      <td>facebook_ads</td>\n",
              "      <td>2726</td>\n",
              "    </tr>\n",
              "    <tr>\n",
              "      <th>3</th>\n",
              "      <td>youtube_channel_reklama</td>\n",
              "      <td>2686</td>\n",
              "    </tr>\n",
              "  </tbody>\n",
              "</table>\n",
              "</div>\n",
              "      <button class=\"colab-df-convert\" onclick=\"convertToInteractive('df-89c544f5-1bfd-4828-9092-f4b8f31ce144')\"\n",
              "              title=\"Convert this dataframe to an interactive table.\"\n",
              "              style=\"display:none;\">\n",
              "        \n",
              "  <svg xmlns=\"http://www.w3.org/2000/svg\" height=\"24px\"viewBox=\"0 0 24 24\"\n",
              "       width=\"24px\">\n",
              "    <path d=\"M0 0h24v24H0V0z\" fill=\"none\"/>\n",
              "    <path d=\"M18.56 5.44l.94 2.06.94-2.06 2.06-.94-2.06-.94-.94-2.06-.94 2.06-2.06.94zm-11 1L8.5 8.5l.94-2.06 2.06-.94-2.06-.94L8.5 2.5l-.94 2.06-2.06.94zm10 10l.94 2.06.94-2.06 2.06-.94-2.06-.94-.94-2.06-.94 2.06-2.06.94z\"/><path d=\"M17.41 7.96l-1.37-1.37c-.4-.4-.92-.59-1.43-.59-.52 0-1.04.2-1.43.59L10.3 9.45l-7.72 7.72c-.78.78-.78 2.05 0 2.83L4 21.41c.39.39.9.59 1.41.59.51 0 1.02-.2 1.41-.59l7.78-7.78 2.81-2.81c.8-.78.8-2.07 0-2.86zM5.41 20L4 18.59l7.72-7.72 1.47 1.35L5.41 20z\"/>\n",
              "  </svg>\n",
              "      </button>\n",
              "      \n",
              "  <style>\n",
              "    .colab-df-container {\n",
              "      display:flex;\n",
              "      flex-wrap:wrap;\n",
              "      gap: 12px;\n",
              "    }\n",
              "\n",
              "    .colab-df-convert {\n",
              "      background-color: #E8F0FE;\n",
              "      border: none;\n",
              "      border-radius: 50%;\n",
              "      cursor: pointer;\n",
              "      display: none;\n",
              "      fill: #1967D2;\n",
              "      height: 32px;\n",
              "      padding: 0 0 0 0;\n",
              "      width: 32px;\n",
              "    }\n",
              "\n",
              "    .colab-df-convert:hover {\n",
              "      background-color: #E2EBFA;\n",
              "      box-shadow: 0px 1px 2px rgba(60, 64, 67, 0.3), 0px 1px 3px 1px rgba(60, 64, 67, 0.15);\n",
              "      fill: #174EA6;\n",
              "    }\n",
              "\n",
              "    [theme=dark] .colab-df-convert {\n",
              "      background-color: #3B4455;\n",
              "      fill: #D2E3FC;\n",
              "    }\n",
              "\n",
              "    [theme=dark] .colab-df-convert:hover {\n",
              "      background-color: #434B5C;\n",
              "      box-shadow: 0px 1px 3px 1px rgba(0, 0, 0, 0.15);\n",
              "      filter: drop-shadow(0px 1px 2px rgba(0, 0, 0, 0.3));\n",
              "      fill: #FFFFFF;\n",
              "    }\n",
              "  </style>\n",
              "\n",
              "      <script>\n",
              "        const buttonEl =\n",
              "          document.querySelector('#df-89c544f5-1bfd-4828-9092-f4b8f31ce144 button.colab-df-convert');\n",
              "        buttonEl.style.display =\n",
              "          google.colab.kernel.accessAllowed ? 'block' : 'none';\n",
              "\n",
              "        async function convertToInteractive(key) {\n",
              "          const element = document.querySelector('#df-89c544f5-1bfd-4828-9092-f4b8f31ce144');\n",
              "          const dataTable =\n",
              "            await google.colab.kernel.invokeFunction('convertToInteractive',\n",
              "                                                     [key], {});\n",
              "          if (!dataTable) return;\n",
              "\n",
              "          const docLinkHtml = 'Like what you see? Visit the ' +\n",
              "            '<a target=\"_blank\" href=https://colab.research.google.com/notebooks/data_table.ipynb>data table notebook</a>'\n",
              "            + ' to learn more about interactive tables.';\n",
              "          element.innerHTML = '';\n",
              "          dataTable['output_type'] = 'display_data';\n",
              "          await google.colab.output.renderOutput(dataTable, element);\n",
              "          const docLink = document.createElement('div');\n",
              "          docLink.innerHTML = docLinkHtml;\n",
              "          element.appendChild(docLink);\n",
              "        }\n",
              "      </script>\n",
              "    </div>\n",
              "  </div>\n",
              "  "
            ]
          },
          "metadata": {},
          "execution_count": 23
        }
      ],
      "source": [
        "#исследовать каналы привлечения по количеству пользователей, выясниь какой канал привлекает наибольшее кол-во пользователей\n",
        "count_user_for_source = profiles.groupby('source')['user_id'].agg('count').sort_values(ascending = False).reset_index()\n",
        "count_user_for_source.columns = ['source','user']\n",
        "count_user_for_source"
      ]
    },
    {
      "cell_type": "code",
      "execution_count": null,
      "metadata": {
        "colab": {
          "base_uri": "https://localhost:8080/",
          "height": 542
        },
        "id": "AtPMlXrEIUQQ",
        "outputId": "c7b392e8-6367-4c7d-91cb-0ddb5f4a522d"
      },
      "outputs": [
        {
          "output_type": "display_data",
          "data": {
            "text/html": [
              "<html>\n",
              "<head><meta charset=\"utf-8\" /></head>\n",
              "<body>\n",
              "    <div>            <script src=\"https://cdnjs.cloudflare.com/ajax/libs/mathjax/2.7.5/MathJax.js?config=TeX-AMS-MML_SVG\"></script><script type=\"text/javascript\">if (window.MathJax && window.MathJax.Hub && window.MathJax.Hub.Config) {window.MathJax.Hub.Config({SVG: {font: \"STIX-Web\"}});}</script>                <script type=\"text/javascript\">window.PlotlyConfig = {MathJaxConfig: 'local'};</script>\n",
              "        <script src=\"https://cdn.plot.ly/plotly-2.18.2.min.js\"></script>                <div id=\"35485ff2-f917-485a-bcd0-abf7f394f2c8\" class=\"plotly-graph-div\" style=\"height:525px; width:100%;\"></div>            <script type=\"text/javascript\">                                    window.PLOTLYENV=window.PLOTLYENV || {};                                    if (document.getElementById(\"35485ff2-f917-485a-bcd0-abf7f394f2c8\")) {                    Plotly.newPlot(                        \"35485ff2-f917-485a-bcd0-abf7f394f2c8\",                        [{\"alignmentgroup\":\"True\",\"hovertemplate\":\"source=%{x}<br>user=%{text}<extra></extra>\",\"legendgroup\":\"yandex_direct\",\"marker\":{\"color\":\"#636efa\",\"pattern\":{\"shape\":\"\"}},\"name\":\"yandex_direct\",\"offsetgroup\":\"yandex_direct\",\"orientation\":\"v\",\"showlegend\":true,\"text\":[4817.0],\"textposition\":\"auto\",\"x\":[\"yandex_direct\"],\"xaxis\":\"x\",\"y\":[4817],\"yaxis\":\"y\",\"type\":\"bar\"},{\"alignmentgroup\":\"True\",\"hovertemplate\":\"source=%{x}<br>user=%{text}<extra></extra>\",\"legendgroup\":\"instagram_new_adverts\",\"marker\":{\"color\":\"#EF553B\",\"pattern\":{\"shape\":\"\"}},\"name\":\"instagram_new_adverts\",\"offsetgroup\":\"instagram_new_adverts\",\"orientation\":\"v\",\"showlegend\":true,\"text\":[3347.0],\"textposition\":\"auto\",\"x\":[\"instagram_new_adverts\"],\"xaxis\":\"x\",\"y\":[3347],\"yaxis\":\"y\",\"type\":\"bar\"},{\"alignmentgroup\":\"True\",\"hovertemplate\":\"source=%{x}<br>user=%{text}<extra></extra>\",\"legendgroup\":\"facebook_ads\",\"marker\":{\"color\":\"#00cc96\",\"pattern\":{\"shape\":\"\"}},\"name\":\"facebook_ads\",\"offsetgroup\":\"facebook_ads\",\"orientation\":\"v\",\"showlegend\":true,\"text\":[2726.0],\"textposition\":\"auto\",\"x\":[\"facebook_ads\"],\"xaxis\":\"x\",\"y\":[2726],\"yaxis\":\"y\",\"type\":\"bar\"},{\"alignmentgroup\":\"True\",\"hovertemplate\":\"source=%{x}<br>user=%{text}<extra></extra>\",\"legendgroup\":\"youtube_channel_reklama\",\"marker\":{\"color\":\"#ab63fa\",\"pattern\":{\"shape\":\"\"}},\"name\":\"youtube_channel_reklama\",\"offsetgroup\":\"youtube_channel_reklama\",\"orientation\":\"v\",\"showlegend\":true,\"text\":[2686.0],\"textposition\":\"auto\",\"x\":[\"youtube_channel_reklama\"],\"xaxis\":\"x\",\"y\":[2686],\"yaxis\":\"y\",\"type\":\"bar\"}],                        {\"template\":{\"data\":{\"histogram2dcontour\":[{\"type\":\"histogram2dcontour\",\"colorbar\":{\"outlinewidth\":0,\"ticks\":\"\"},\"colorscale\":[[0.0,\"#0d0887\"],[0.1111111111111111,\"#46039f\"],[0.2222222222222222,\"#7201a8\"],[0.3333333333333333,\"#9c179e\"],[0.4444444444444444,\"#bd3786\"],[0.5555555555555556,\"#d8576b\"],[0.6666666666666666,\"#ed7953\"],[0.7777777777777778,\"#fb9f3a\"],[0.8888888888888888,\"#fdca26\"],[1.0,\"#f0f921\"]]}],\"choropleth\":[{\"type\":\"choropleth\",\"colorbar\":{\"outlinewidth\":0,\"ticks\":\"\"}}],\"histogram2d\":[{\"type\":\"histogram2d\",\"colorbar\":{\"outlinewidth\":0,\"ticks\":\"\"},\"colorscale\":[[0.0,\"#0d0887\"],[0.1111111111111111,\"#46039f\"],[0.2222222222222222,\"#7201a8\"],[0.3333333333333333,\"#9c179e\"],[0.4444444444444444,\"#bd3786\"],[0.5555555555555556,\"#d8576b\"],[0.6666666666666666,\"#ed7953\"],[0.7777777777777778,\"#fb9f3a\"],[0.8888888888888888,\"#fdca26\"],[1.0,\"#f0f921\"]]}],\"heatmap\":[{\"type\":\"heatmap\",\"colorbar\":{\"outlinewidth\":0,\"ticks\":\"\"},\"colorscale\":[[0.0,\"#0d0887\"],[0.1111111111111111,\"#46039f\"],[0.2222222222222222,\"#7201a8\"],[0.3333333333333333,\"#9c179e\"],[0.4444444444444444,\"#bd3786\"],[0.5555555555555556,\"#d8576b\"],[0.6666666666666666,\"#ed7953\"],[0.7777777777777778,\"#fb9f3a\"],[0.8888888888888888,\"#fdca26\"],[1.0,\"#f0f921\"]]}],\"heatmapgl\":[{\"type\":\"heatmapgl\",\"colorbar\":{\"outlinewidth\":0,\"ticks\":\"\"},\"colorscale\":[[0.0,\"#0d0887\"],[0.1111111111111111,\"#46039f\"],[0.2222222222222222,\"#7201a8\"],[0.3333333333333333,\"#9c179e\"],[0.4444444444444444,\"#bd3786\"],[0.5555555555555556,\"#d8576b\"],[0.6666666666666666,\"#ed7953\"],[0.7777777777777778,\"#fb9f3a\"],[0.8888888888888888,\"#fdca26\"],[1.0,\"#f0f921\"]]}],\"contourcarpet\":[{\"type\":\"contourcarpet\",\"colorbar\":{\"outlinewidth\":0,\"ticks\":\"\"}}],\"contour\":[{\"type\":\"contour\",\"colorbar\":{\"outlinewidth\":0,\"ticks\":\"\"},\"colorscale\":[[0.0,\"#0d0887\"],[0.1111111111111111,\"#46039f\"],[0.2222222222222222,\"#7201a8\"],[0.3333333333333333,\"#9c179e\"],[0.4444444444444444,\"#bd3786\"],[0.5555555555555556,\"#d8576b\"],[0.6666666666666666,\"#ed7953\"],[0.7777777777777778,\"#fb9f3a\"],[0.8888888888888888,\"#fdca26\"],[1.0,\"#f0f921\"]]}],\"surface\":[{\"type\":\"surface\",\"colorbar\":{\"outlinewidth\":0,\"ticks\":\"\"},\"colorscale\":[[0.0,\"#0d0887\"],[0.1111111111111111,\"#46039f\"],[0.2222222222222222,\"#7201a8\"],[0.3333333333333333,\"#9c179e\"],[0.4444444444444444,\"#bd3786\"],[0.5555555555555556,\"#d8576b\"],[0.6666666666666666,\"#ed7953\"],[0.7777777777777778,\"#fb9f3a\"],[0.8888888888888888,\"#fdca26\"],[1.0,\"#f0f921\"]]}],\"mesh3d\":[{\"type\":\"mesh3d\",\"colorbar\":{\"outlinewidth\":0,\"ticks\":\"\"}}],\"scatter\":[{\"fillpattern\":{\"fillmode\":\"overlay\",\"size\":10,\"solidity\":0.2},\"type\":\"scatter\"}],\"parcoords\":[{\"type\":\"parcoords\",\"line\":{\"colorbar\":{\"outlinewidth\":0,\"ticks\":\"\"}}}],\"scatterpolargl\":[{\"type\":\"scatterpolargl\",\"marker\":{\"colorbar\":{\"outlinewidth\":0,\"ticks\":\"\"}}}],\"bar\":[{\"error_x\":{\"color\":\"#2a3f5f\"},\"error_y\":{\"color\":\"#2a3f5f\"},\"marker\":{\"line\":{\"color\":\"#E5ECF6\",\"width\":0.5},\"pattern\":{\"fillmode\":\"overlay\",\"size\":10,\"solidity\":0.2}},\"type\":\"bar\"}],\"scattergeo\":[{\"type\":\"scattergeo\",\"marker\":{\"colorbar\":{\"outlinewidth\":0,\"ticks\":\"\"}}}],\"scatterpolar\":[{\"type\":\"scatterpolar\",\"marker\":{\"colorbar\":{\"outlinewidth\":0,\"ticks\":\"\"}}}],\"histogram\":[{\"marker\":{\"pattern\":{\"fillmode\":\"overlay\",\"size\":10,\"solidity\":0.2}},\"type\":\"histogram\"}],\"scattergl\":[{\"type\":\"scattergl\",\"marker\":{\"colorbar\":{\"outlinewidth\":0,\"ticks\":\"\"}}}],\"scatter3d\":[{\"type\":\"scatter3d\",\"line\":{\"colorbar\":{\"outlinewidth\":0,\"ticks\":\"\"}},\"marker\":{\"colorbar\":{\"outlinewidth\":0,\"ticks\":\"\"}}}],\"scattermapbox\":[{\"type\":\"scattermapbox\",\"marker\":{\"colorbar\":{\"outlinewidth\":0,\"ticks\":\"\"}}}],\"scatterternary\":[{\"type\":\"scatterternary\",\"marker\":{\"colorbar\":{\"outlinewidth\":0,\"ticks\":\"\"}}}],\"scattercarpet\":[{\"type\":\"scattercarpet\",\"marker\":{\"colorbar\":{\"outlinewidth\":0,\"ticks\":\"\"}}}],\"carpet\":[{\"aaxis\":{\"endlinecolor\":\"#2a3f5f\",\"gridcolor\":\"white\",\"linecolor\":\"white\",\"minorgridcolor\":\"white\",\"startlinecolor\":\"#2a3f5f\"},\"baxis\":{\"endlinecolor\":\"#2a3f5f\",\"gridcolor\":\"white\",\"linecolor\":\"white\",\"minorgridcolor\":\"white\",\"startlinecolor\":\"#2a3f5f\"},\"type\":\"carpet\"}],\"table\":[{\"cells\":{\"fill\":{\"color\":\"#EBF0F8\"},\"line\":{\"color\":\"white\"}},\"header\":{\"fill\":{\"color\":\"#C8D4E3\"},\"line\":{\"color\":\"white\"}},\"type\":\"table\"}],\"barpolar\":[{\"marker\":{\"line\":{\"color\":\"#E5ECF6\",\"width\":0.5},\"pattern\":{\"fillmode\":\"overlay\",\"size\":10,\"solidity\":0.2}},\"type\":\"barpolar\"}],\"pie\":[{\"automargin\":true,\"type\":\"pie\"}]},\"layout\":{\"autotypenumbers\":\"strict\",\"colorway\":[\"#636efa\",\"#EF553B\",\"#00cc96\",\"#ab63fa\",\"#FFA15A\",\"#19d3f3\",\"#FF6692\",\"#B6E880\",\"#FF97FF\",\"#FECB52\"],\"font\":{\"color\":\"#2a3f5f\"},\"hovermode\":\"closest\",\"hoverlabel\":{\"align\":\"left\"},\"paper_bgcolor\":\"white\",\"plot_bgcolor\":\"#E5ECF6\",\"polar\":{\"bgcolor\":\"#E5ECF6\",\"angularaxis\":{\"gridcolor\":\"white\",\"linecolor\":\"white\",\"ticks\":\"\"},\"radialaxis\":{\"gridcolor\":\"white\",\"linecolor\":\"white\",\"ticks\":\"\"}},\"ternary\":{\"bgcolor\":\"#E5ECF6\",\"aaxis\":{\"gridcolor\":\"white\",\"linecolor\":\"white\",\"ticks\":\"\"},\"baxis\":{\"gridcolor\":\"white\",\"linecolor\":\"white\",\"ticks\":\"\"},\"caxis\":{\"gridcolor\":\"white\",\"linecolor\":\"white\",\"ticks\":\"\"}},\"coloraxis\":{\"colorbar\":{\"outlinewidth\":0,\"ticks\":\"\"}},\"colorscale\":{\"sequential\":[[0.0,\"#0d0887\"],[0.1111111111111111,\"#46039f\"],[0.2222222222222222,\"#7201a8\"],[0.3333333333333333,\"#9c179e\"],[0.4444444444444444,\"#bd3786\"],[0.5555555555555556,\"#d8576b\"],[0.6666666666666666,\"#ed7953\"],[0.7777777777777778,\"#fb9f3a\"],[0.8888888888888888,\"#fdca26\"],[1.0,\"#f0f921\"]],\"sequentialminus\":[[0.0,\"#0d0887\"],[0.1111111111111111,\"#46039f\"],[0.2222222222222222,\"#7201a8\"],[0.3333333333333333,\"#9c179e\"],[0.4444444444444444,\"#bd3786\"],[0.5555555555555556,\"#d8576b\"],[0.6666666666666666,\"#ed7953\"],[0.7777777777777778,\"#fb9f3a\"],[0.8888888888888888,\"#fdca26\"],[1.0,\"#f0f921\"]],\"diverging\":[[0,\"#8e0152\"],[0.1,\"#c51b7d\"],[0.2,\"#de77ae\"],[0.3,\"#f1b6da\"],[0.4,\"#fde0ef\"],[0.5,\"#f7f7f7\"],[0.6,\"#e6f5d0\"],[0.7,\"#b8e186\"],[0.8,\"#7fbc41\"],[0.9,\"#4d9221\"],[1,\"#276419\"]]},\"xaxis\":{\"gridcolor\":\"white\",\"linecolor\":\"white\",\"ticks\":\"\",\"title\":{\"standoff\":15},\"zerolinecolor\":\"white\",\"automargin\":true,\"zerolinewidth\":2},\"yaxis\":{\"gridcolor\":\"white\",\"linecolor\":\"white\",\"ticks\":\"\",\"title\":{\"standoff\":15},\"zerolinecolor\":\"white\",\"automargin\":true,\"zerolinewidth\":2},\"scene\":{\"xaxis\":{\"backgroundcolor\":\"#E5ECF6\",\"gridcolor\":\"white\",\"linecolor\":\"white\",\"showbackground\":true,\"ticks\":\"\",\"zerolinecolor\":\"white\",\"gridwidth\":2},\"yaxis\":{\"backgroundcolor\":\"#E5ECF6\",\"gridcolor\":\"white\",\"linecolor\":\"white\",\"showbackground\":true,\"ticks\":\"\",\"zerolinecolor\":\"white\",\"gridwidth\":2},\"zaxis\":{\"backgroundcolor\":\"#E5ECF6\",\"gridcolor\":\"white\",\"linecolor\":\"white\",\"showbackground\":true,\"ticks\":\"\",\"zerolinecolor\":\"white\",\"gridwidth\":2}},\"shapedefaults\":{\"line\":{\"color\":\"#2a3f5f\"}},\"annotationdefaults\":{\"arrowcolor\":\"#2a3f5f\",\"arrowhead\":0,\"arrowwidth\":1},\"geo\":{\"bgcolor\":\"white\",\"landcolor\":\"#E5ECF6\",\"subunitcolor\":\"white\",\"showland\":true,\"showlakes\":true,\"lakecolor\":\"white\"},\"title\":{\"x\":0.05},\"mapbox\":{\"style\":\"light\"}}},\"xaxis\":{\"anchor\":\"y\",\"domain\":[0.0,1.0],\"title\":{\"text\":\"source\"},\"categoryorder\":\"array\",\"categoryarray\":[\"yandex_direct\",\"instagram_new_adverts\",\"facebook_ads\",\"youtube_channel_reklama\"],\"tickangle\":40},\"yaxis\":{\"anchor\":\"x\",\"domain\":[0.0,1.0],\"title\":{\"text\":\"user\"}},\"legend\":{\"title\":{\"text\":\"source\"},\"tracegroupgap\":0},\"title\":{\"text\":\"\\u041a\\u043e\\u043b-\\u0432\\u043e \\u043f\\u043e\\u043b\\u044c\\u0437\\u043e\\u0432\\u0430\\u0442\\u0435\\u043b\\u0435\\u0439 \\u043f\\u043e \\u043a\\u0430\\u043d\\u0430\\u043b\\u0430\\u043c\"},\"barmode\":\"relative\"},                        {\"responsive\": true}                    ).then(function(){\n",
              "                            \n",
              "var gd = document.getElementById('35485ff2-f917-485a-bcd0-abf7f394f2c8');\n",
              "var x = new MutationObserver(function (mutations, observer) {{\n",
              "        var display = window.getComputedStyle(gd).display;\n",
              "        if (!display || display === 'none') {{\n",
              "            console.log([gd, 'removed!']);\n",
              "            Plotly.purge(gd);\n",
              "            observer.disconnect();\n",
              "        }}\n",
              "}});\n",
              "\n",
              "// Listen for the removal of the full notebook cells\n",
              "var notebookContainer = gd.closest('#notebook-container');\n",
              "if (notebookContainer) {{\n",
              "    x.observe(notebookContainer, {childList: true});\n",
              "}}\n",
              "\n",
              "// Listen for the clearing of the current output cell\n",
              "var outputEl = gd.closest('.output');\n",
              "if (outputEl) {{\n",
              "    x.observe(outputEl, {childList: true});\n",
              "}}\n",
              "\n",
              "                        })                };                            </script>        </div>\n",
              "</body>\n",
              "</html>"
            ]
          },
          "metadata": {}
        }
      ],
      "source": [
        "fig = px.bar(count_user_for_source, x='source', y='user', title='Кол-во пользователей по каналам', color = 'source', text = 'user')\n",
        "fig.update_xaxes(tickangle=40)\n",
        "fig.show()"
      ]
    },
    {
      "cell_type": "markdown",
      "metadata": {
        "id": "6QfCUPgvIUQQ"
      },
      "source": [
        "**Комментарий:**\n",
        "    \n",
        "Судя по графику видно что в лидерах по кол-ву привлеченных пользователей источник: **yandex_direct**, из этого источника пришло  4817 польоветелей, по данный метрике этот канал в топе, посмотрим что будет дальше\n",
        "    \n",
        "    "
      ]
    },
    {
      "cell_type": "code",
      "execution_count": null,
      "metadata": {
        "colab": {
          "base_uri": "https://localhost:8080/",
          "height": 175
        },
        "id": "fd_MQN2UIUQQ",
        "outputId": "a34d1bd3-253d-420e-c3f2-a26ba6d897cb"
      },
      "outputs": [
        {
          "output_type": "execute_result",
          "data": {
            "text/plain": [
              "   index                   source  building_type  user  mean_building\n",
              "2      2             facebook_ads          26131  2726           9.59\n",
              "1      1    instagram_new_adverts          31815  3347           9.51\n",
              "0      0            yandex_direct          45032  4817           9.35\n",
              "3      3  youtube_channel_reklama          24978  2686           9.30"
            ],
            "text/html": [
              "\n",
              "  <div id=\"df-6630fed6-1198-4fc4-a136-c2b020b17ce0\">\n",
              "    <div class=\"colab-df-container\">\n",
              "      <div>\n",
              "<style scoped>\n",
              "    .dataframe tbody tr th:only-of-type {\n",
              "        vertical-align: middle;\n",
              "    }\n",
              "\n",
              "    .dataframe tbody tr th {\n",
              "        vertical-align: top;\n",
              "    }\n",
              "\n",
              "    .dataframe thead th {\n",
              "        text-align: right;\n",
              "    }\n",
              "</style>\n",
              "<table border=\"1\" class=\"dataframe\">\n",
              "  <thead>\n",
              "    <tr style=\"text-align: right;\">\n",
              "      <th></th>\n",
              "      <th>index</th>\n",
              "      <th>source</th>\n",
              "      <th>building_type</th>\n",
              "      <th>user</th>\n",
              "      <th>mean_building</th>\n",
              "    </tr>\n",
              "  </thead>\n",
              "  <tbody>\n",
              "    <tr>\n",
              "      <th>2</th>\n",
              "      <td>2</td>\n",
              "      <td>facebook_ads</td>\n",
              "      <td>26131</td>\n",
              "      <td>2726</td>\n",
              "      <td>9.59</td>\n",
              "    </tr>\n",
              "    <tr>\n",
              "      <th>1</th>\n",
              "      <td>1</td>\n",
              "      <td>instagram_new_adverts</td>\n",
              "      <td>31815</td>\n",
              "      <td>3347</td>\n",
              "      <td>9.51</td>\n",
              "    </tr>\n",
              "    <tr>\n",
              "      <th>0</th>\n",
              "      <td>0</td>\n",
              "      <td>yandex_direct</td>\n",
              "      <td>45032</td>\n",
              "      <td>4817</td>\n",
              "      <td>9.35</td>\n",
              "    </tr>\n",
              "    <tr>\n",
              "      <th>3</th>\n",
              "      <td>3</td>\n",
              "      <td>youtube_channel_reklama</td>\n",
              "      <td>24978</td>\n",
              "      <td>2686</td>\n",
              "      <td>9.30</td>\n",
              "    </tr>\n",
              "  </tbody>\n",
              "</table>\n",
              "</div>\n",
              "      <button class=\"colab-df-convert\" onclick=\"convertToInteractive('df-6630fed6-1198-4fc4-a136-c2b020b17ce0')\"\n",
              "              title=\"Convert this dataframe to an interactive table.\"\n",
              "              style=\"display:none;\">\n",
              "        \n",
              "  <svg xmlns=\"http://www.w3.org/2000/svg\" height=\"24px\"viewBox=\"0 0 24 24\"\n",
              "       width=\"24px\">\n",
              "    <path d=\"M0 0h24v24H0V0z\" fill=\"none\"/>\n",
              "    <path d=\"M18.56 5.44l.94 2.06.94-2.06 2.06-.94-2.06-.94-.94-2.06-.94 2.06-2.06.94zm-11 1L8.5 8.5l.94-2.06 2.06-.94-2.06-.94L8.5 2.5l-.94 2.06-2.06.94zm10 10l.94 2.06.94-2.06 2.06-.94-2.06-.94-.94-2.06-.94 2.06-2.06.94z\"/><path d=\"M17.41 7.96l-1.37-1.37c-.4-.4-.92-.59-1.43-.59-.52 0-1.04.2-1.43.59L10.3 9.45l-7.72 7.72c-.78.78-.78 2.05 0 2.83L4 21.41c.39.39.9.59 1.41.59.51 0 1.02-.2 1.41-.59l7.78-7.78 2.81-2.81c.8-.78.8-2.07 0-2.86zM5.41 20L4 18.59l7.72-7.72 1.47 1.35L5.41 20z\"/>\n",
              "  </svg>\n",
              "      </button>\n",
              "      \n",
              "  <style>\n",
              "    .colab-df-container {\n",
              "      display:flex;\n",
              "      flex-wrap:wrap;\n",
              "      gap: 12px;\n",
              "    }\n",
              "\n",
              "    .colab-df-convert {\n",
              "      background-color: #E8F0FE;\n",
              "      border: none;\n",
              "      border-radius: 50%;\n",
              "      cursor: pointer;\n",
              "      display: none;\n",
              "      fill: #1967D2;\n",
              "      height: 32px;\n",
              "      padding: 0 0 0 0;\n",
              "      width: 32px;\n",
              "    }\n",
              "\n",
              "    .colab-df-convert:hover {\n",
              "      background-color: #E2EBFA;\n",
              "      box-shadow: 0px 1px 2px rgba(60, 64, 67, 0.3), 0px 1px 3px 1px rgba(60, 64, 67, 0.15);\n",
              "      fill: #174EA6;\n",
              "    }\n",
              "\n",
              "    [theme=dark] .colab-df-convert {\n",
              "      background-color: #3B4455;\n",
              "      fill: #D2E3FC;\n",
              "    }\n",
              "\n",
              "    [theme=dark] .colab-df-convert:hover {\n",
              "      background-color: #434B5C;\n",
              "      box-shadow: 0px 1px 3px 1px rgba(0, 0, 0, 0.15);\n",
              "      filter: drop-shadow(0px 1px 2px rgba(0, 0, 0, 0.3));\n",
              "      fill: #FFFFFF;\n",
              "    }\n",
              "  </style>\n",
              "\n",
              "      <script>\n",
              "        const buttonEl =\n",
              "          document.querySelector('#df-6630fed6-1198-4fc4-a136-c2b020b17ce0 button.colab-df-convert');\n",
              "        buttonEl.style.display =\n",
              "          google.colab.kernel.accessAllowed ? 'block' : 'none';\n",
              "\n",
              "        async function convertToInteractive(key) {\n",
              "          const element = document.querySelector('#df-6630fed6-1198-4fc4-a136-c2b020b17ce0');\n",
              "          const dataTable =\n",
              "            await google.colab.kernel.invokeFunction('convertToInteractive',\n",
              "                                                     [key], {});\n",
              "          if (!dataTable) return;\n",
              "\n",
              "          const docLinkHtml = 'Like what you see? Visit the ' +\n",
              "            '<a target=\"_blank\" href=https://colab.research.google.com/notebooks/data_table.ipynb>data table notebook</a>'\n",
              "            + ' to learn more about interactive tables.';\n",
              "          element.innerHTML = '';\n",
              "          dataTable['output_type'] = 'display_data';\n",
              "          await google.colab.output.renderOutput(dataTable, element);\n",
              "          const docLink = document.createElement('div');\n",
              "          docLink.innerHTML = docLinkHtml;\n",
              "          element.appendChild(docLink);\n",
              "        }\n",
              "      </script>\n",
              "    </div>\n",
              "  </div>\n",
              "  "
            ]
          },
          "metadata": {},
          "execution_count": 25
        }
      ],
      "source": [
        "#исследовать кол-во построенных зданий\n",
        "\n",
        "count_building_type = profiles.groupby('source')['building_type'].agg('sum').sort_values(ascending = False).reset_index()\n",
        "count_building_type.columns = ['source','building_type']\n",
        "mean_building = count_building_type.merge(count_user_for_source)\n",
        "mean_building['mean_building'] = round(mean_building['building_type']/mean_building['user'], 2)\n",
        "mean_building = mean_building.reset_index().sort_values(by = 'mean_building', ascending = False)\n",
        "mean_building"
      ]
    },
    {
      "cell_type": "code",
      "execution_count": null,
      "metadata": {
        "colab": {
          "base_uri": "https://localhost:8080/",
          "height": 542
        },
        "id": "_v2PkKaqIUQQ",
        "outputId": "50477f08-3bb1-427a-bf4d-fb2af5f277e8"
      },
      "outputs": [
        {
          "output_type": "display_data",
          "data": {
            "text/html": [
              "<html>\n",
              "<head><meta charset=\"utf-8\" /></head>\n",
              "<body>\n",
              "    <div>            <script src=\"https://cdnjs.cloudflare.com/ajax/libs/mathjax/2.7.5/MathJax.js?config=TeX-AMS-MML_SVG\"></script><script type=\"text/javascript\">if (window.MathJax && window.MathJax.Hub && window.MathJax.Hub.Config) {window.MathJax.Hub.Config({SVG: {font: \"STIX-Web\"}});}</script>                <script type=\"text/javascript\">window.PlotlyConfig = {MathJaxConfig: 'local'};</script>\n",
              "        <script src=\"https://cdn.plot.ly/plotly-2.18.2.min.js\"></script>                <div id=\"6992f6e8-8fb8-4188-b7cd-8b57cf4bd04d\" class=\"plotly-graph-div\" style=\"height:525px; width:100%;\"></div>            <script type=\"text/javascript\">                                    window.PLOTLYENV=window.PLOTLYENV || {};                                    if (document.getElementById(\"6992f6e8-8fb8-4188-b7cd-8b57cf4bd04d\")) {                    Plotly.newPlot(                        \"6992f6e8-8fb8-4188-b7cd-8b57cf4bd04d\",                        [{\"alignmentgroup\":\"True\",\"hovertemplate\":\"source=%{x}<br>mean_building=%{text}<extra></extra>\",\"legendgroup\":\"facebook_ads\",\"marker\":{\"color\":\"#636efa\",\"pattern\":{\"shape\":\"\"}},\"name\":\"facebook_ads\",\"offsetgroup\":\"facebook_ads\",\"orientation\":\"v\",\"showlegend\":true,\"text\":[9.59],\"textposition\":\"auto\",\"x\":[\"facebook_ads\"],\"xaxis\":\"x\",\"y\":[9.59],\"yaxis\":\"y\",\"type\":\"bar\"},{\"alignmentgroup\":\"True\",\"hovertemplate\":\"source=%{x}<br>mean_building=%{text}<extra></extra>\",\"legendgroup\":\"instagram_new_adverts\",\"marker\":{\"color\":\"#EF553B\",\"pattern\":{\"shape\":\"\"}},\"name\":\"instagram_new_adverts\",\"offsetgroup\":\"instagram_new_adverts\",\"orientation\":\"v\",\"showlegend\":true,\"text\":[9.51],\"textposition\":\"auto\",\"x\":[\"instagram_new_adverts\"],\"xaxis\":\"x\",\"y\":[9.51],\"yaxis\":\"y\",\"type\":\"bar\"},{\"alignmentgroup\":\"True\",\"hovertemplate\":\"source=%{x}<br>mean_building=%{text}<extra></extra>\",\"legendgroup\":\"yandex_direct\",\"marker\":{\"color\":\"#00cc96\",\"pattern\":{\"shape\":\"\"}},\"name\":\"yandex_direct\",\"offsetgroup\":\"yandex_direct\",\"orientation\":\"v\",\"showlegend\":true,\"text\":[9.35],\"textposition\":\"auto\",\"x\":[\"yandex_direct\"],\"xaxis\":\"x\",\"y\":[9.35],\"yaxis\":\"y\",\"type\":\"bar\"},{\"alignmentgroup\":\"True\",\"hovertemplate\":\"source=%{x}<br>mean_building=%{text}<extra></extra>\",\"legendgroup\":\"youtube_channel_reklama\",\"marker\":{\"color\":\"#ab63fa\",\"pattern\":{\"shape\":\"\"}},\"name\":\"youtube_channel_reklama\",\"offsetgroup\":\"youtube_channel_reklama\",\"orientation\":\"v\",\"showlegend\":true,\"text\":[9.3],\"textposition\":\"auto\",\"x\":[\"youtube_channel_reklama\"],\"xaxis\":\"x\",\"y\":[9.3],\"yaxis\":\"y\",\"type\":\"bar\"}],                        {\"template\":{\"data\":{\"histogram2dcontour\":[{\"type\":\"histogram2dcontour\",\"colorbar\":{\"outlinewidth\":0,\"ticks\":\"\"},\"colorscale\":[[0.0,\"#0d0887\"],[0.1111111111111111,\"#46039f\"],[0.2222222222222222,\"#7201a8\"],[0.3333333333333333,\"#9c179e\"],[0.4444444444444444,\"#bd3786\"],[0.5555555555555556,\"#d8576b\"],[0.6666666666666666,\"#ed7953\"],[0.7777777777777778,\"#fb9f3a\"],[0.8888888888888888,\"#fdca26\"],[1.0,\"#f0f921\"]]}],\"choropleth\":[{\"type\":\"choropleth\",\"colorbar\":{\"outlinewidth\":0,\"ticks\":\"\"}}],\"histogram2d\":[{\"type\":\"histogram2d\",\"colorbar\":{\"outlinewidth\":0,\"ticks\":\"\"},\"colorscale\":[[0.0,\"#0d0887\"],[0.1111111111111111,\"#46039f\"],[0.2222222222222222,\"#7201a8\"],[0.3333333333333333,\"#9c179e\"],[0.4444444444444444,\"#bd3786\"],[0.5555555555555556,\"#d8576b\"],[0.6666666666666666,\"#ed7953\"],[0.7777777777777778,\"#fb9f3a\"],[0.8888888888888888,\"#fdca26\"],[1.0,\"#f0f921\"]]}],\"heatmap\":[{\"type\":\"heatmap\",\"colorbar\":{\"outlinewidth\":0,\"ticks\":\"\"},\"colorscale\":[[0.0,\"#0d0887\"],[0.1111111111111111,\"#46039f\"],[0.2222222222222222,\"#7201a8\"],[0.3333333333333333,\"#9c179e\"],[0.4444444444444444,\"#bd3786\"],[0.5555555555555556,\"#d8576b\"],[0.6666666666666666,\"#ed7953\"],[0.7777777777777778,\"#fb9f3a\"],[0.8888888888888888,\"#fdca26\"],[1.0,\"#f0f921\"]]}],\"heatmapgl\":[{\"type\":\"heatmapgl\",\"colorbar\":{\"outlinewidth\":0,\"ticks\":\"\"},\"colorscale\":[[0.0,\"#0d0887\"],[0.1111111111111111,\"#46039f\"],[0.2222222222222222,\"#7201a8\"],[0.3333333333333333,\"#9c179e\"],[0.4444444444444444,\"#bd3786\"],[0.5555555555555556,\"#d8576b\"],[0.6666666666666666,\"#ed7953\"],[0.7777777777777778,\"#fb9f3a\"],[0.8888888888888888,\"#fdca26\"],[1.0,\"#f0f921\"]]}],\"contourcarpet\":[{\"type\":\"contourcarpet\",\"colorbar\":{\"outlinewidth\":0,\"ticks\":\"\"}}],\"contour\":[{\"type\":\"contour\",\"colorbar\":{\"outlinewidth\":0,\"ticks\":\"\"},\"colorscale\":[[0.0,\"#0d0887\"],[0.1111111111111111,\"#46039f\"],[0.2222222222222222,\"#7201a8\"],[0.3333333333333333,\"#9c179e\"],[0.4444444444444444,\"#bd3786\"],[0.5555555555555556,\"#d8576b\"],[0.6666666666666666,\"#ed7953\"],[0.7777777777777778,\"#fb9f3a\"],[0.8888888888888888,\"#fdca26\"],[1.0,\"#f0f921\"]]}],\"surface\":[{\"type\":\"surface\",\"colorbar\":{\"outlinewidth\":0,\"ticks\":\"\"},\"colorscale\":[[0.0,\"#0d0887\"],[0.1111111111111111,\"#46039f\"],[0.2222222222222222,\"#7201a8\"],[0.3333333333333333,\"#9c179e\"],[0.4444444444444444,\"#bd3786\"],[0.5555555555555556,\"#d8576b\"],[0.6666666666666666,\"#ed7953\"],[0.7777777777777778,\"#fb9f3a\"],[0.8888888888888888,\"#fdca26\"],[1.0,\"#f0f921\"]]}],\"mesh3d\":[{\"type\":\"mesh3d\",\"colorbar\":{\"outlinewidth\":0,\"ticks\":\"\"}}],\"scatter\":[{\"fillpattern\":{\"fillmode\":\"overlay\",\"size\":10,\"solidity\":0.2},\"type\":\"scatter\"}],\"parcoords\":[{\"type\":\"parcoords\",\"line\":{\"colorbar\":{\"outlinewidth\":0,\"ticks\":\"\"}}}],\"scatterpolargl\":[{\"type\":\"scatterpolargl\",\"marker\":{\"colorbar\":{\"outlinewidth\":0,\"ticks\":\"\"}}}],\"bar\":[{\"error_x\":{\"color\":\"#2a3f5f\"},\"error_y\":{\"color\":\"#2a3f5f\"},\"marker\":{\"line\":{\"color\":\"#E5ECF6\",\"width\":0.5},\"pattern\":{\"fillmode\":\"overlay\",\"size\":10,\"solidity\":0.2}},\"type\":\"bar\"}],\"scattergeo\":[{\"type\":\"scattergeo\",\"marker\":{\"colorbar\":{\"outlinewidth\":0,\"ticks\":\"\"}}}],\"scatterpolar\":[{\"type\":\"scatterpolar\",\"marker\":{\"colorbar\":{\"outlinewidth\":0,\"ticks\":\"\"}}}],\"histogram\":[{\"marker\":{\"pattern\":{\"fillmode\":\"overlay\",\"size\":10,\"solidity\":0.2}},\"type\":\"histogram\"}],\"scattergl\":[{\"type\":\"scattergl\",\"marker\":{\"colorbar\":{\"outlinewidth\":0,\"ticks\":\"\"}}}],\"scatter3d\":[{\"type\":\"scatter3d\",\"line\":{\"colorbar\":{\"outlinewidth\":0,\"ticks\":\"\"}},\"marker\":{\"colorbar\":{\"outlinewidth\":0,\"ticks\":\"\"}}}],\"scattermapbox\":[{\"type\":\"scattermapbox\",\"marker\":{\"colorbar\":{\"outlinewidth\":0,\"ticks\":\"\"}}}],\"scatterternary\":[{\"type\":\"scatterternary\",\"marker\":{\"colorbar\":{\"outlinewidth\":0,\"ticks\":\"\"}}}],\"scattercarpet\":[{\"type\":\"scattercarpet\",\"marker\":{\"colorbar\":{\"outlinewidth\":0,\"ticks\":\"\"}}}],\"carpet\":[{\"aaxis\":{\"endlinecolor\":\"#2a3f5f\",\"gridcolor\":\"white\",\"linecolor\":\"white\",\"minorgridcolor\":\"white\",\"startlinecolor\":\"#2a3f5f\"},\"baxis\":{\"endlinecolor\":\"#2a3f5f\",\"gridcolor\":\"white\",\"linecolor\":\"white\",\"minorgridcolor\":\"white\",\"startlinecolor\":\"#2a3f5f\"},\"type\":\"carpet\"}],\"table\":[{\"cells\":{\"fill\":{\"color\":\"#EBF0F8\"},\"line\":{\"color\":\"white\"}},\"header\":{\"fill\":{\"color\":\"#C8D4E3\"},\"line\":{\"color\":\"white\"}},\"type\":\"table\"}],\"barpolar\":[{\"marker\":{\"line\":{\"color\":\"#E5ECF6\",\"width\":0.5},\"pattern\":{\"fillmode\":\"overlay\",\"size\":10,\"solidity\":0.2}},\"type\":\"barpolar\"}],\"pie\":[{\"automargin\":true,\"type\":\"pie\"}]},\"layout\":{\"autotypenumbers\":\"strict\",\"colorway\":[\"#636efa\",\"#EF553B\",\"#00cc96\",\"#ab63fa\",\"#FFA15A\",\"#19d3f3\",\"#FF6692\",\"#B6E880\",\"#FF97FF\",\"#FECB52\"],\"font\":{\"color\":\"#2a3f5f\"},\"hovermode\":\"closest\",\"hoverlabel\":{\"align\":\"left\"},\"paper_bgcolor\":\"white\",\"plot_bgcolor\":\"#E5ECF6\",\"polar\":{\"bgcolor\":\"#E5ECF6\",\"angularaxis\":{\"gridcolor\":\"white\",\"linecolor\":\"white\",\"ticks\":\"\"},\"radialaxis\":{\"gridcolor\":\"white\",\"linecolor\":\"white\",\"ticks\":\"\"}},\"ternary\":{\"bgcolor\":\"#E5ECF6\",\"aaxis\":{\"gridcolor\":\"white\",\"linecolor\":\"white\",\"ticks\":\"\"},\"baxis\":{\"gridcolor\":\"white\",\"linecolor\":\"white\",\"ticks\":\"\"},\"caxis\":{\"gridcolor\":\"white\",\"linecolor\":\"white\",\"ticks\":\"\"}},\"coloraxis\":{\"colorbar\":{\"outlinewidth\":0,\"ticks\":\"\"}},\"colorscale\":{\"sequential\":[[0.0,\"#0d0887\"],[0.1111111111111111,\"#46039f\"],[0.2222222222222222,\"#7201a8\"],[0.3333333333333333,\"#9c179e\"],[0.4444444444444444,\"#bd3786\"],[0.5555555555555556,\"#d8576b\"],[0.6666666666666666,\"#ed7953\"],[0.7777777777777778,\"#fb9f3a\"],[0.8888888888888888,\"#fdca26\"],[1.0,\"#f0f921\"]],\"sequentialminus\":[[0.0,\"#0d0887\"],[0.1111111111111111,\"#46039f\"],[0.2222222222222222,\"#7201a8\"],[0.3333333333333333,\"#9c179e\"],[0.4444444444444444,\"#bd3786\"],[0.5555555555555556,\"#d8576b\"],[0.6666666666666666,\"#ed7953\"],[0.7777777777777778,\"#fb9f3a\"],[0.8888888888888888,\"#fdca26\"],[1.0,\"#f0f921\"]],\"diverging\":[[0,\"#8e0152\"],[0.1,\"#c51b7d\"],[0.2,\"#de77ae\"],[0.3,\"#f1b6da\"],[0.4,\"#fde0ef\"],[0.5,\"#f7f7f7\"],[0.6,\"#e6f5d0\"],[0.7,\"#b8e186\"],[0.8,\"#7fbc41\"],[0.9,\"#4d9221\"],[1,\"#276419\"]]},\"xaxis\":{\"gridcolor\":\"white\",\"linecolor\":\"white\",\"ticks\":\"\",\"title\":{\"standoff\":15},\"zerolinecolor\":\"white\",\"automargin\":true,\"zerolinewidth\":2},\"yaxis\":{\"gridcolor\":\"white\",\"linecolor\":\"white\",\"ticks\":\"\",\"title\":{\"standoff\":15},\"zerolinecolor\":\"white\",\"automargin\":true,\"zerolinewidth\":2},\"scene\":{\"xaxis\":{\"backgroundcolor\":\"#E5ECF6\",\"gridcolor\":\"white\",\"linecolor\":\"white\",\"showbackground\":true,\"ticks\":\"\",\"zerolinecolor\":\"white\",\"gridwidth\":2},\"yaxis\":{\"backgroundcolor\":\"#E5ECF6\",\"gridcolor\":\"white\",\"linecolor\":\"white\",\"showbackground\":true,\"ticks\":\"\",\"zerolinecolor\":\"white\",\"gridwidth\":2},\"zaxis\":{\"backgroundcolor\":\"#E5ECF6\",\"gridcolor\":\"white\",\"linecolor\":\"white\",\"showbackground\":true,\"ticks\":\"\",\"zerolinecolor\":\"white\",\"gridwidth\":2}},\"shapedefaults\":{\"line\":{\"color\":\"#2a3f5f\"}},\"annotationdefaults\":{\"arrowcolor\":\"#2a3f5f\",\"arrowhead\":0,\"arrowwidth\":1},\"geo\":{\"bgcolor\":\"white\",\"landcolor\":\"#E5ECF6\",\"subunitcolor\":\"white\",\"showland\":true,\"showlakes\":true,\"lakecolor\":\"white\"},\"title\":{\"x\":0.05},\"mapbox\":{\"style\":\"light\"}}},\"xaxis\":{\"anchor\":\"y\",\"domain\":[0.0,1.0],\"title\":{\"text\":\"source\"},\"categoryorder\":\"array\",\"categoryarray\":[\"facebook_ads\",\"instagram_new_adverts\",\"yandex_direct\",\"youtube_channel_reklama\"]},\"yaxis\":{\"anchor\":\"x\",\"domain\":[0.0,1.0],\"title\":{\"text\":\"mean_building\"},\"range\":[9.2,9.6]},\"legend\":{\"title\":{\"text\":\"source\"},\"tracegroupgap\":0},\"title\":{\"text\":\"\\u041a\\u043e\\u043b-\\u0432\\u043e \\u043f\\u043e\\u0441\\u0442\\u0440\\u043e\\u0435\\u043d\\u043d\\u044b\\u0445 \\u0437\\u0434\\u0430\\u043d\\u0438\\u0439 \\u043d\\u0430 \\u043e\\u0434\\u043d\\u043e\\u0433\\u043e \\u043f\\u043e\\u043b\\u044c\\u0437\\u043e\\u0432\\u0430\\u0442\\u0435\\u043b\\u044f \\u043f\\u043e \\u043a\\u0430\\u043d\\u0430\\u043b\\u0430\\u043c\"},\"barmode\":\"relative\"},                        {\"responsive\": true}                    ).then(function(){\n",
              "                            \n",
              "var gd = document.getElementById('6992f6e8-8fb8-4188-b7cd-8b57cf4bd04d');\n",
              "var x = new MutationObserver(function (mutations, observer) {{\n",
              "        var display = window.getComputedStyle(gd).display;\n",
              "        if (!display || display === 'none') {{\n",
              "            console.log([gd, 'removed!']);\n",
              "            Plotly.purge(gd);\n",
              "            observer.disconnect();\n",
              "        }}\n",
              "}});\n",
              "\n",
              "// Listen for the removal of the full notebook cells\n",
              "var notebookContainer = gd.closest('#notebook-container');\n",
              "if (notebookContainer) {{\n",
              "    x.observe(notebookContainer, {childList: true});\n",
              "}}\n",
              "\n",
              "// Listen for the clearing of the current output cell\n",
              "var outputEl = gd.closest('.output');\n",
              "if (outputEl) {{\n",
              "    x.observe(outputEl, {childList: true});\n",
              "}}\n",
              "\n",
              "                        })                };                            </script>        </div>\n",
              "</body>\n",
              "</html>"
            ]
          },
          "metadata": {}
        }
      ],
      "source": [
        "fig = px.bar(mean_building, x='source', y='mean_building', title='Кол-во построенных зданий на одного пользователя по каналам', color = 'source', text = 'mean_building')\n",
        "fig.update_yaxes(range=[9.2, 9.6])\n",
        "fig.show()"
      ]
    },
    {
      "cell_type": "markdown",
      "metadata": {
        "id": "qFncyU1nIUQR"
      },
      "source": [
        "**Комментарий**\n",
        "\n",
        "На мой взгляд данная метрика достаточно важная для принятия решения по ранжированию.\n",
        "\n",
        "Тут видно также в лидерах **yandex_direct**, пользователи из данного источника построили наиболее кол-во зданий. Соответсвенно из этого источника идет лучшая монетизация за счет просмотра рекламы"
      ]
    },
    {
      "cell_type": "code",
      "execution_count": null,
      "metadata": {
        "colab": {
          "base_uri": "https://localhost:8080/",
          "height": 175
        },
        "id": "e7DOP0_gIUQR",
        "outputId": "c811ef5a-76c7-4e5e-8cf0-57af1e9023d1"
      },
      "outputs": [
        {
          "output_type": "execute_result",
          "data": {
            "text/plain": [
              "                    source  cost\n",
              "0  youtube_channel_reklama  0.40\n",
              "1            yandex_direct  0.46\n",
              "2    instagram_new_adverts  0.65\n",
              "3             facebook_ads  0.79"
            ],
            "text/html": [
              "\n",
              "  <div id=\"df-c946f0ae-4b4d-4a08-88de-384c911ddd7c\">\n",
              "    <div class=\"colab-df-container\">\n",
              "      <div>\n",
              "<style scoped>\n",
              "    .dataframe tbody tr th:only-of-type {\n",
              "        vertical-align: middle;\n",
              "    }\n",
              "\n",
              "    .dataframe tbody tr th {\n",
              "        vertical-align: top;\n",
              "    }\n",
              "\n",
              "    .dataframe thead th {\n",
              "        text-align: right;\n",
              "    }\n",
              "</style>\n",
              "<table border=\"1\" class=\"dataframe\">\n",
              "  <thead>\n",
              "    <tr style=\"text-align: right;\">\n",
              "      <th></th>\n",
              "      <th>source</th>\n",
              "      <th>cost</th>\n",
              "    </tr>\n",
              "  </thead>\n",
              "  <tbody>\n",
              "    <tr>\n",
              "      <th>0</th>\n",
              "      <td>youtube_channel_reklama</td>\n",
              "      <td>0.40</td>\n",
              "    </tr>\n",
              "    <tr>\n",
              "      <th>1</th>\n",
              "      <td>yandex_direct</td>\n",
              "      <td>0.46</td>\n",
              "    </tr>\n",
              "    <tr>\n",
              "      <th>2</th>\n",
              "      <td>instagram_new_adverts</td>\n",
              "      <td>0.65</td>\n",
              "    </tr>\n",
              "    <tr>\n",
              "      <th>3</th>\n",
              "      <td>facebook_ads</td>\n",
              "      <td>0.79</td>\n",
              "    </tr>\n",
              "  </tbody>\n",
              "</table>\n",
              "</div>\n",
              "      <button class=\"colab-df-convert\" onclick=\"convertToInteractive('df-c946f0ae-4b4d-4a08-88de-384c911ddd7c')\"\n",
              "              title=\"Convert this dataframe to an interactive table.\"\n",
              "              style=\"display:none;\">\n",
              "        \n",
              "  <svg xmlns=\"http://www.w3.org/2000/svg\" height=\"24px\"viewBox=\"0 0 24 24\"\n",
              "       width=\"24px\">\n",
              "    <path d=\"M0 0h24v24H0V0z\" fill=\"none\"/>\n",
              "    <path d=\"M18.56 5.44l.94 2.06.94-2.06 2.06-.94-2.06-.94-.94-2.06-.94 2.06-2.06.94zm-11 1L8.5 8.5l.94-2.06 2.06-.94-2.06-.94L8.5 2.5l-.94 2.06-2.06.94zm10 10l.94 2.06.94-2.06 2.06-.94-2.06-.94-.94-2.06-.94 2.06-2.06.94z\"/><path d=\"M17.41 7.96l-1.37-1.37c-.4-.4-.92-.59-1.43-.59-.52 0-1.04.2-1.43.59L10.3 9.45l-7.72 7.72c-.78.78-.78 2.05 0 2.83L4 21.41c.39.39.9.59 1.41.59.51 0 1.02-.2 1.41-.59l7.78-7.78 2.81-2.81c.8-.78.8-2.07 0-2.86zM5.41 20L4 18.59l7.72-7.72 1.47 1.35L5.41 20z\"/>\n",
              "  </svg>\n",
              "      </button>\n",
              "      \n",
              "  <style>\n",
              "    .colab-df-container {\n",
              "      display:flex;\n",
              "      flex-wrap:wrap;\n",
              "      gap: 12px;\n",
              "    }\n",
              "\n",
              "    .colab-df-convert {\n",
              "      background-color: #E8F0FE;\n",
              "      border: none;\n",
              "      border-radius: 50%;\n",
              "      cursor: pointer;\n",
              "      display: none;\n",
              "      fill: #1967D2;\n",
              "      height: 32px;\n",
              "      padding: 0 0 0 0;\n",
              "      width: 32px;\n",
              "    }\n",
              "\n",
              "    .colab-df-convert:hover {\n",
              "      background-color: #E2EBFA;\n",
              "      box-shadow: 0px 1px 2px rgba(60, 64, 67, 0.3), 0px 1px 3px 1px rgba(60, 64, 67, 0.15);\n",
              "      fill: #174EA6;\n",
              "    }\n",
              "\n",
              "    [theme=dark] .colab-df-convert {\n",
              "      background-color: #3B4455;\n",
              "      fill: #D2E3FC;\n",
              "    }\n",
              "\n",
              "    [theme=dark] .colab-df-convert:hover {\n",
              "      background-color: #434B5C;\n",
              "      box-shadow: 0px 1px 3px 1px rgba(0, 0, 0, 0.15);\n",
              "      filter: drop-shadow(0px 1px 2px rgba(0, 0, 0, 0.3));\n",
              "      fill: #FFFFFF;\n",
              "    }\n",
              "  </style>\n",
              "\n",
              "      <script>\n",
              "        const buttonEl =\n",
              "          document.querySelector('#df-c946f0ae-4b4d-4a08-88de-384c911ddd7c button.colab-df-convert');\n",
              "        buttonEl.style.display =\n",
              "          google.colab.kernel.accessAllowed ? 'block' : 'none';\n",
              "\n",
              "        async function convertToInteractive(key) {\n",
              "          const element = document.querySelector('#df-c946f0ae-4b4d-4a08-88de-384c911ddd7c');\n",
              "          const dataTable =\n",
              "            await google.colab.kernel.invokeFunction('convertToInteractive',\n",
              "                                                     [key], {});\n",
              "          if (!dataTable) return;\n",
              "\n",
              "          const docLinkHtml = 'Like what you see? Visit the ' +\n",
              "            '<a target=\"_blank\" href=https://colab.research.google.com/notebooks/data_table.ipynb>data table notebook</a>'\n",
              "            + ' to learn more about interactive tables.';\n",
              "          element.innerHTML = '';\n",
              "          dataTable['output_type'] = 'display_data';\n",
              "          await google.colab.output.renderOutput(dataTable, element);\n",
              "          const docLink = document.createElement('div');\n",
              "          docLink.innerHTML = docLinkHtml;\n",
              "          element.appendChild(docLink);\n",
              "        }\n",
              "      </script>\n",
              "    </div>\n",
              "  </div>\n",
              "  "
            ]
          },
          "metadata": {},
          "execution_count": 27
        }
      ],
      "source": [
        "#Определить стоимость привлечения клиентов по источникам\n",
        "#median\n",
        "acquisition_cost= profiles.groupby('source')['acquisition_cost'].agg('median').sort_values(ascending = True).reset_index().round(2)\n",
        "acquisition_cost.columns = ['source','cost']\n",
        "acquisition_cost"
      ]
    },
    {
      "cell_type": "code",
      "execution_count": null,
      "metadata": {
        "scrolled": false,
        "colab": {
          "base_uri": "https://localhost:8080/",
          "height": 542
        },
        "id": "7ASGPNYBIUQS",
        "outputId": "95de244c-f714-405b-a146-55acf7687156"
      },
      "outputs": [
        {
          "output_type": "display_data",
          "data": {
            "text/html": [
              "<html>\n",
              "<head><meta charset=\"utf-8\" /></head>\n",
              "<body>\n",
              "    <div>            <script src=\"https://cdnjs.cloudflare.com/ajax/libs/mathjax/2.7.5/MathJax.js?config=TeX-AMS-MML_SVG\"></script><script type=\"text/javascript\">if (window.MathJax && window.MathJax.Hub && window.MathJax.Hub.Config) {window.MathJax.Hub.Config({SVG: {font: \"STIX-Web\"}});}</script>                <script type=\"text/javascript\">window.PlotlyConfig = {MathJaxConfig: 'local'};</script>\n",
              "        <script src=\"https://cdn.plot.ly/plotly-2.18.2.min.js\"></script>                <div id=\"31af721c-faa0-4a6d-925e-c57f5932dba7\" class=\"plotly-graph-div\" style=\"height:525px; width:100%;\"></div>            <script type=\"text/javascript\">                                    window.PLOTLYENV=window.PLOTLYENV || {};                                    if (document.getElementById(\"31af721c-faa0-4a6d-925e-c57f5932dba7\")) {                    Plotly.newPlot(                        \"31af721c-faa0-4a6d-925e-c57f5932dba7\",                        [{\"alignmentgroup\":\"True\",\"hovertemplate\":\"\\u0421\\u0442\\u043e\\u0438\\u043c\\u043e\\u0441\\u0442\\u044c \\u0432 $=%{marker.color}<br>index=%{y}<br>\\u0418\\u0441\\u0442\\u043e\\u0447\\u043d\\u0438\\u043a \\u043f\\u0440\\u0438\\u0432\\u043b\\u0435\\u0447\\u0435\\u043d\\u0438\\u044f=%{text}<extra></extra>\",\"legendgroup\":\"\",\"marker\":{\"color\":[0.4,0.46,0.65,0.79],\"coloraxis\":\"coloraxis\",\"pattern\":{\"shape\":\"\"}},\"name\":\"\",\"offsetgroup\":\"\",\"orientation\":\"h\",\"showlegend\":false,\"text\":[\"youtube_channel_reklama\",\"yandex_direct\",\"instagram_new_adverts\",\"facebook_ads\"],\"textposition\":\"auto\",\"x\":[0.4,0.46,0.65,0.79],\"xaxis\":\"x\",\"y\":[0,1,2,3],\"yaxis\":\"y\",\"type\":\"bar\"}],                        {\"template\":{\"data\":{\"histogram2dcontour\":[{\"type\":\"histogram2dcontour\",\"colorbar\":{\"outlinewidth\":0,\"ticks\":\"\"},\"colorscale\":[[0.0,\"#0d0887\"],[0.1111111111111111,\"#46039f\"],[0.2222222222222222,\"#7201a8\"],[0.3333333333333333,\"#9c179e\"],[0.4444444444444444,\"#bd3786\"],[0.5555555555555556,\"#d8576b\"],[0.6666666666666666,\"#ed7953\"],[0.7777777777777778,\"#fb9f3a\"],[0.8888888888888888,\"#fdca26\"],[1.0,\"#f0f921\"]]}],\"choropleth\":[{\"type\":\"choropleth\",\"colorbar\":{\"outlinewidth\":0,\"ticks\":\"\"}}],\"histogram2d\":[{\"type\":\"histogram2d\",\"colorbar\":{\"outlinewidth\":0,\"ticks\":\"\"},\"colorscale\":[[0.0,\"#0d0887\"],[0.1111111111111111,\"#46039f\"],[0.2222222222222222,\"#7201a8\"],[0.3333333333333333,\"#9c179e\"],[0.4444444444444444,\"#bd3786\"],[0.5555555555555556,\"#d8576b\"],[0.6666666666666666,\"#ed7953\"],[0.7777777777777778,\"#fb9f3a\"],[0.8888888888888888,\"#fdca26\"],[1.0,\"#f0f921\"]]}],\"heatmap\":[{\"type\":\"heatmap\",\"colorbar\":{\"outlinewidth\":0,\"ticks\":\"\"},\"colorscale\":[[0.0,\"#0d0887\"],[0.1111111111111111,\"#46039f\"],[0.2222222222222222,\"#7201a8\"],[0.3333333333333333,\"#9c179e\"],[0.4444444444444444,\"#bd3786\"],[0.5555555555555556,\"#d8576b\"],[0.6666666666666666,\"#ed7953\"],[0.7777777777777778,\"#fb9f3a\"],[0.8888888888888888,\"#fdca26\"],[1.0,\"#f0f921\"]]}],\"heatmapgl\":[{\"type\":\"heatmapgl\",\"colorbar\":{\"outlinewidth\":0,\"ticks\":\"\"},\"colorscale\":[[0.0,\"#0d0887\"],[0.1111111111111111,\"#46039f\"],[0.2222222222222222,\"#7201a8\"],[0.3333333333333333,\"#9c179e\"],[0.4444444444444444,\"#bd3786\"],[0.5555555555555556,\"#d8576b\"],[0.6666666666666666,\"#ed7953\"],[0.7777777777777778,\"#fb9f3a\"],[0.8888888888888888,\"#fdca26\"],[1.0,\"#f0f921\"]]}],\"contourcarpet\":[{\"type\":\"contourcarpet\",\"colorbar\":{\"outlinewidth\":0,\"ticks\":\"\"}}],\"contour\":[{\"type\":\"contour\",\"colorbar\":{\"outlinewidth\":0,\"ticks\":\"\"},\"colorscale\":[[0.0,\"#0d0887\"],[0.1111111111111111,\"#46039f\"],[0.2222222222222222,\"#7201a8\"],[0.3333333333333333,\"#9c179e\"],[0.4444444444444444,\"#bd3786\"],[0.5555555555555556,\"#d8576b\"],[0.6666666666666666,\"#ed7953\"],[0.7777777777777778,\"#fb9f3a\"],[0.8888888888888888,\"#fdca26\"],[1.0,\"#f0f921\"]]}],\"surface\":[{\"type\":\"surface\",\"colorbar\":{\"outlinewidth\":0,\"ticks\":\"\"},\"colorscale\":[[0.0,\"#0d0887\"],[0.1111111111111111,\"#46039f\"],[0.2222222222222222,\"#7201a8\"],[0.3333333333333333,\"#9c179e\"],[0.4444444444444444,\"#bd3786\"],[0.5555555555555556,\"#d8576b\"],[0.6666666666666666,\"#ed7953\"],[0.7777777777777778,\"#fb9f3a\"],[0.8888888888888888,\"#fdca26\"],[1.0,\"#f0f921\"]]}],\"mesh3d\":[{\"type\":\"mesh3d\",\"colorbar\":{\"outlinewidth\":0,\"ticks\":\"\"}}],\"scatter\":[{\"fillpattern\":{\"fillmode\":\"overlay\",\"size\":10,\"solidity\":0.2},\"type\":\"scatter\"}],\"parcoords\":[{\"type\":\"parcoords\",\"line\":{\"colorbar\":{\"outlinewidth\":0,\"ticks\":\"\"}}}],\"scatterpolargl\":[{\"type\":\"scatterpolargl\",\"marker\":{\"colorbar\":{\"outlinewidth\":0,\"ticks\":\"\"}}}],\"bar\":[{\"error_x\":{\"color\":\"#2a3f5f\"},\"error_y\":{\"color\":\"#2a3f5f\"},\"marker\":{\"line\":{\"color\":\"#E5ECF6\",\"width\":0.5},\"pattern\":{\"fillmode\":\"overlay\",\"size\":10,\"solidity\":0.2}},\"type\":\"bar\"}],\"scattergeo\":[{\"type\":\"scattergeo\",\"marker\":{\"colorbar\":{\"outlinewidth\":0,\"ticks\":\"\"}}}],\"scatterpolar\":[{\"type\":\"scatterpolar\",\"marker\":{\"colorbar\":{\"outlinewidth\":0,\"ticks\":\"\"}}}],\"histogram\":[{\"marker\":{\"pattern\":{\"fillmode\":\"overlay\",\"size\":10,\"solidity\":0.2}},\"type\":\"histogram\"}],\"scattergl\":[{\"type\":\"scattergl\",\"marker\":{\"colorbar\":{\"outlinewidth\":0,\"ticks\":\"\"}}}],\"scatter3d\":[{\"type\":\"scatter3d\",\"line\":{\"colorbar\":{\"outlinewidth\":0,\"ticks\":\"\"}},\"marker\":{\"colorbar\":{\"outlinewidth\":0,\"ticks\":\"\"}}}],\"scattermapbox\":[{\"type\":\"scattermapbox\",\"marker\":{\"colorbar\":{\"outlinewidth\":0,\"ticks\":\"\"}}}],\"scatterternary\":[{\"type\":\"scatterternary\",\"marker\":{\"colorbar\":{\"outlinewidth\":0,\"ticks\":\"\"}}}],\"scattercarpet\":[{\"type\":\"scattercarpet\",\"marker\":{\"colorbar\":{\"outlinewidth\":0,\"ticks\":\"\"}}}],\"carpet\":[{\"aaxis\":{\"endlinecolor\":\"#2a3f5f\",\"gridcolor\":\"white\",\"linecolor\":\"white\",\"minorgridcolor\":\"white\",\"startlinecolor\":\"#2a3f5f\"},\"baxis\":{\"endlinecolor\":\"#2a3f5f\",\"gridcolor\":\"white\",\"linecolor\":\"white\",\"minorgridcolor\":\"white\",\"startlinecolor\":\"#2a3f5f\"},\"type\":\"carpet\"}],\"table\":[{\"cells\":{\"fill\":{\"color\":\"#EBF0F8\"},\"line\":{\"color\":\"white\"}},\"header\":{\"fill\":{\"color\":\"#C8D4E3\"},\"line\":{\"color\":\"white\"}},\"type\":\"table\"}],\"barpolar\":[{\"marker\":{\"line\":{\"color\":\"#E5ECF6\",\"width\":0.5},\"pattern\":{\"fillmode\":\"overlay\",\"size\":10,\"solidity\":0.2}},\"type\":\"barpolar\"}],\"pie\":[{\"automargin\":true,\"type\":\"pie\"}]},\"layout\":{\"autotypenumbers\":\"strict\",\"colorway\":[\"#636efa\",\"#EF553B\",\"#00cc96\",\"#ab63fa\",\"#FFA15A\",\"#19d3f3\",\"#FF6692\",\"#B6E880\",\"#FF97FF\",\"#FECB52\"],\"font\":{\"color\":\"#2a3f5f\"},\"hovermode\":\"closest\",\"hoverlabel\":{\"align\":\"left\"},\"paper_bgcolor\":\"white\",\"plot_bgcolor\":\"#E5ECF6\",\"polar\":{\"bgcolor\":\"#E5ECF6\",\"angularaxis\":{\"gridcolor\":\"white\",\"linecolor\":\"white\",\"ticks\":\"\"},\"radialaxis\":{\"gridcolor\":\"white\",\"linecolor\":\"white\",\"ticks\":\"\"}},\"ternary\":{\"bgcolor\":\"#E5ECF6\",\"aaxis\":{\"gridcolor\":\"white\",\"linecolor\":\"white\",\"ticks\":\"\"},\"baxis\":{\"gridcolor\":\"white\",\"linecolor\":\"white\",\"ticks\":\"\"},\"caxis\":{\"gridcolor\":\"white\",\"linecolor\":\"white\",\"ticks\":\"\"}},\"coloraxis\":{\"colorbar\":{\"outlinewidth\":0,\"ticks\":\"\"}},\"colorscale\":{\"sequential\":[[0.0,\"#0d0887\"],[0.1111111111111111,\"#46039f\"],[0.2222222222222222,\"#7201a8\"],[0.3333333333333333,\"#9c179e\"],[0.4444444444444444,\"#bd3786\"],[0.5555555555555556,\"#d8576b\"],[0.6666666666666666,\"#ed7953\"],[0.7777777777777778,\"#fb9f3a\"],[0.8888888888888888,\"#fdca26\"],[1.0,\"#f0f921\"]],\"sequentialminus\":[[0.0,\"#0d0887\"],[0.1111111111111111,\"#46039f\"],[0.2222222222222222,\"#7201a8\"],[0.3333333333333333,\"#9c179e\"],[0.4444444444444444,\"#bd3786\"],[0.5555555555555556,\"#d8576b\"],[0.6666666666666666,\"#ed7953\"],[0.7777777777777778,\"#fb9f3a\"],[0.8888888888888888,\"#fdca26\"],[1.0,\"#f0f921\"]],\"diverging\":[[0,\"#8e0152\"],[0.1,\"#c51b7d\"],[0.2,\"#de77ae\"],[0.3,\"#f1b6da\"],[0.4,\"#fde0ef\"],[0.5,\"#f7f7f7\"],[0.6,\"#e6f5d0\"],[0.7,\"#b8e186\"],[0.8,\"#7fbc41\"],[0.9,\"#4d9221\"],[1,\"#276419\"]]},\"xaxis\":{\"gridcolor\":\"white\",\"linecolor\":\"white\",\"ticks\":\"\",\"title\":{\"standoff\":15},\"zerolinecolor\":\"white\",\"automargin\":true,\"zerolinewidth\":2},\"yaxis\":{\"gridcolor\":\"white\",\"linecolor\":\"white\",\"ticks\":\"\",\"title\":{\"standoff\":15},\"zerolinecolor\":\"white\",\"automargin\":true,\"zerolinewidth\":2},\"scene\":{\"xaxis\":{\"backgroundcolor\":\"#E5ECF6\",\"gridcolor\":\"white\",\"linecolor\":\"white\",\"showbackground\":true,\"ticks\":\"\",\"zerolinecolor\":\"white\",\"gridwidth\":2},\"yaxis\":{\"backgroundcolor\":\"#E5ECF6\",\"gridcolor\":\"white\",\"linecolor\":\"white\",\"showbackground\":true,\"ticks\":\"\",\"zerolinecolor\":\"white\",\"gridwidth\":2},\"zaxis\":{\"backgroundcolor\":\"#E5ECF6\",\"gridcolor\":\"white\",\"linecolor\":\"white\",\"showbackground\":true,\"ticks\":\"\",\"zerolinecolor\":\"white\",\"gridwidth\":2}},\"shapedefaults\":{\"line\":{\"color\":\"#2a3f5f\"}},\"annotationdefaults\":{\"arrowcolor\":\"#2a3f5f\",\"arrowhead\":0,\"arrowwidth\":1},\"geo\":{\"bgcolor\":\"white\",\"landcolor\":\"#E5ECF6\",\"subunitcolor\":\"white\",\"showland\":true,\"showlakes\":true,\"lakecolor\":\"white\"},\"title\":{\"x\":0.05},\"mapbox\":{\"style\":\"light\"}}},\"xaxis\":{\"anchor\":\"y\",\"domain\":[0.0,1.0],\"title\":{\"text\":\"\\u0421\\u0442\\u043e\\u0438\\u043c\\u043e\\u0441\\u0442\\u044c \\u0432 $\"},\"range\":[0.2,0.9]},\"yaxis\":{\"anchor\":\"x\",\"domain\":[0.0,1.0],\"title\":{\"text\":\"index\"}},\"coloraxis\":{\"colorbar\":{\"title\":{\"text\":\"\\u0421\\u0442\\u043e\\u0438\\u043c\\u043e\\u0441\\u0442\\u044c \\u0432 $\"}},\"colorscale\":[[0.0,\"#0d0887\"],[0.1111111111111111,\"#46039f\"],[0.2222222222222222,\"#7201a8\"],[0.3333333333333333,\"#9c179e\"],[0.4444444444444444,\"#bd3786\"],[0.5555555555555556,\"#d8576b\"],[0.6666666666666666,\"#ed7953\"],[0.7777777777777778,\"#fb9f3a\"],[0.8888888888888888,\"#fdca26\"],[1.0,\"#f0f921\"]]},\"legend\":{\"tracegroupgap\":0},\"title\":{\"text\":\"\\u041c\\u0435\\u0434\\u0438\\u0430\\u043d\\u043d\\u0430\\u044f \\u0441\\u0442\\u043e\\u0438\\u043c\\u043e\\u0441\\u0442\\u044c \\u043f\\u0440\\u0438\\u0432\\u043b\\u0435\\u0447\\u0435\\u043d\\u0438\\u044f \\u043a\\u043b\\u0438\\u0435\\u043d\\u0442\\u043e\\u0432 \\u043f\\u043e \\u0438\\u0441\\u0442\\u043e\\u0447\\u043d\\u0438\\u043a\\u0430\\u043c\"},\"barmode\":\"relative\"},                        {\"responsive\": true}                    ).then(function(){\n",
              "                            \n",
              "var gd = document.getElementById('31af721c-faa0-4a6d-925e-c57f5932dba7');\n",
              "var x = new MutationObserver(function (mutations, observer) {{\n",
              "        var display = window.getComputedStyle(gd).display;\n",
              "        if (!display || display === 'none') {{\n",
              "            console.log([gd, 'removed!']);\n",
              "            Plotly.purge(gd);\n",
              "            observer.disconnect();\n",
              "        }}\n",
              "}});\n",
              "\n",
              "// Listen for the removal of the full notebook cells\n",
              "var notebookContainer = gd.closest('#notebook-container');\n",
              "if (notebookContainer) {{\n",
              "    x.observe(notebookContainer, {childList: true});\n",
              "}}\n",
              "\n",
              "// Listen for the clearing of the current output cell\n",
              "var outputEl = gd.closest('.output');\n",
              "if (outputEl) {{\n",
              "    x.observe(outputEl, {childList: true});\n",
              "}}\n",
              "\n",
              "                        })                };                            </script>        </div>\n",
              "</body>\n",
              "</html>"
            ]
          },
          "metadata": {}
        }
      ],
      "source": [
        "fig = px.bar(acquisition_cost.sort_values('cost'),\n",
        "             x = 'cost',\n",
        "             title ='Медианная стоимость привлечения клиентов по источникам',\n",
        "             labels = {'source':'Источник привлечения', 'cost':'Стоимость в $'},\n",
        "             color = 'cost',\n",
        "             text = 'source')\n",
        "fig.update_xaxes(range=[0.2, 0.9])\n",
        "fig.show()"
      ]
    },
    {
      "cell_type": "markdown",
      "metadata": {
        "id": "1Mvvw9qqIUQS"
      },
      "source": [
        "**Комментарий**\n",
        "\n",
        "Рекламный источник **youtube_channel_reklama** лидер по минимальной стоимости привлечения, на втором месте **yandex_direct**\n",
        "\n",
        "Низкая стоимость не всегда \"качество\", по исследованиям выше мы можем это заметить."
      ]
    },
    {
      "cell_type": "code",
      "execution_count": null,
      "metadata": {
        "colab": {
          "base_uri": "https://localhost:8080/"
        },
        "id": "uO80CPjTIUQS",
        "outputId": "5f26f76a-187b-429b-e185-e61673adfa02"
      },
      "outputs": [
        {
          "output_type": "execute_result",
          "data": {
            "text/plain": [
              "array(['not_finish', 'satellite_orbital_assembly', 'finish'], dtype=object)"
            ]
          },
          "metadata": {},
          "execution_count": 29
        }
      ],
      "source": [
        "# заполняем пропуски на логические значения\n",
        "filter_data = game.copy()\n",
        "\n",
        "filter_data.loc[filter_data['project_type'].isna() & (filter_data['event'] == 'finished_stage_1'), 'project_type'] = 'finish'\n",
        "filter_data.loc[filter_data['project_type'].isna(), 'project_type'] = 'not_finish'\n",
        "filter_data['project_type'].unique()"
      ]
    },
    {
      "cell_type": "code",
      "execution_count": null,
      "metadata": {
        "colab": {
          "base_uri": "https://localhost:8080/",
          "height": 641
        },
        "id": "JI_jABd1IUQS",
        "outputId": "a14a7e6f-dfef-4730-b669-b068748a3bfe"
      },
      "outputs": [
        {
          "output_type": "execute_result",
          "data": {
            "text/plain": [
              "                                   user_id      event_datetime  \\\n",
              "0     03990bc0-47b6-44ce-9f8b-3afb1a97d0e7 2020-05-07 16:40:32   \n",
              "1     ced7b368-818f-48f6-9461-2346de0892c5 2020-05-04 00:13:21   \n",
              "2     c8180f71-68dc-4fd5-ba6e-ba5f5d0d28f7 2020-05-08 16:08:29   \n",
              "3     2204ae7f-892b-494d-bd58-28816ff35eb5 2020-05-07 02:25:27   \n",
              "4     2ab1cc5a-413a-408e-ba76-01de8e12bead 2020-05-05 13:25:04   \n",
              "...                                    ...                 ...   \n",
              "5812  32572adb-900f-4b5d-a453-1eb1e6d88d8b 2020-05-07 05:43:45   \n",
              "5813  a4f54b34-299f-495f-b29f-745465741366 2020-05-04 05:00:48   \n",
              "5814  f21d179f-1c4b-437e-b9c6-ab1976907195 2020-05-06 02:56:25   \n",
              "5815  22cce310-fe10-41a2-941b-9c3d63327fea 2020-05-04 18:38:25   \n",
              "5816  18fc6a86-00e7-4f3e-96da-bdb6d550415c 2020-05-04 08:45:09   \n",
              "\n",
              "          event_datetime       level_time  level_time_sec  \\\n",
              "0    2020-05-08 02:19:33  0 days 09:39:01         34741.0   \n",
              "1    2020-05-04 19:47:29  0 days 19:34:08         70448.0   \n",
              "2    2020-05-09 11:52:33  0 days 19:44:04         71044.0   \n",
              "3    2020-05-08 01:02:51  0 days 22:37:24         81444.0   \n",
              "4    2020-05-06 13:43:12  1 days 00:18:08         87488.0   \n",
              "...                  ...              ...             ...   \n",
              "5812 2020-06-05 12:12:27 29 days 06:28:42       2528922.0   \n",
              "5813 2020-06-03 12:47:09 30 days 07:46:21       2619981.0   \n",
              "5814 2020-06-05 12:32:49 30 days 09:36:24       2626584.0   \n",
              "5815 2020-06-04 15:50:38 30 days 21:12:13       2668333.0   \n",
              "5816 2020-06-04 06:44:02 30 days 21:58:53       2671133.0   \n",
              "\n",
              "                       source  level_time_day  \n",
              "0       instagram_new_adverts           0.402  \n",
              "1       instagram_new_adverts           0.815  \n",
              "2     youtube_channel_reklama           0.822  \n",
              "3               yandex_direct           0.943  \n",
              "4     youtube_channel_reklama           1.013  \n",
              "...                       ...             ...  \n",
              "5812             facebook_ads          29.270  \n",
              "5813             facebook_ads          30.324  \n",
              "5814    instagram_new_adverts          30.400  \n",
              "5815            yandex_direct          30.883  \n",
              "5816            yandex_direct          30.916  \n",
              "\n",
              "[5817 rows x 7 columns]"
            ],
            "text/html": [
              "\n",
              "  <div id=\"df-7dd315c9-1f18-450b-bdec-eab9f9ee063d\">\n",
              "    <div class=\"colab-df-container\">\n",
              "      <div>\n",
              "<style scoped>\n",
              "    .dataframe tbody tr th:only-of-type {\n",
              "        vertical-align: middle;\n",
              "    }\n",
              "\n",
              "    .dataframe tbody tr th {\n",
              "        vertical-align: top;\n",
              "    }\n",
              "\n",
              "    .dataframe thead th {\n",
              "        text-align: right;\n",
              "    }\n",
              "</style>\n",
              "<table border=\"1\" class=\"dataframe\">\n",
              "  <thead>\n",
              "    <tr style=\"text-align: right;\">\n",
              "      <th></th>\n",
              "      <th>user_id</th>\n",
              "      <th>event_datetime</th>\n",
              "      <th>event_datetime</th>\n",
              "      <th>level_time</th>\n",
              "      <th>level_time_sec</th>\n",
              "      <th>source</th>\n",
              "      <th>level_time_day</th>\n",
              "    </tr>\n",
              "  </thead>\n",
              "  <tbody>\n",
              "    <tr>\n",
              "      <th>0</th>\n",
              "      <td>03990bc0-47b6-44ce-9f8b-3afb1a97d0e7</td>\n",
              "      <td>2020-05-07 16:40:32</td>\n",
              "      <td>2020-05-08 02:19:33</td>\n",
              "      <td>0 days 09:39:01</td>\n",
              "      <td>34741.0</td>\n",
              "      <td>instagram_new_adverts</td>\n",
              "      <td>0.402</td>\n",
              "    </tr>\n",
              "    <tr>\n",
              "      <th>1</th>\n",
              "      <td>ced7b368-818f-48f6-9461-2346de0892c5</td>\n",
              "      <td>2020-05-04 00:13:21</td>\n",
              "      <td>2020-05-04 19:47:29</td>\n",
              "      <td>0 days 19:34:08</td>\n",
              "      <td>70448.0</td>\n",
              "      <td>instagram_new_adverts</td>\n",
              "      <td>0.815</td>\n",
              "    </tr>\n",
              "    <tr>\n",
              "      <th>2</th>\n",
              "      <td>c8180f71-68dc-4fd5-ba6e-ba5f5d0d28f7</td>\n",
              "      <td>2020-05-08 16:08:29</td>\n",
              "      <td>2020-05-09 11:52:33</td>\n",
              "      <td>0 days 19:44:04</td>\n",
              "      <td>71044.0</td>\n",
              "      <td>youtube_channel_reklama</td>\n",
              "      <td>0.822</td>\n",
              "    </tr>\n",
              "    <tr>\n",
              "      <th>3</th>\n",
              "      <td>2204ae7f-892b-494d-bd58-28816ff35eb5</td>\n",
              "      <td>2020-05-07 02:25:27</td>\n",
              "      <td>2020-05-08 01:02:51</td>\n",
              "      <td>0 days 22:37:24</td>\n",
              "      <td>81444.0</td>\n",
              "      <td>yandex_direct</td>\n",
              "      <td>0.943</td>\n",
              "    </tr>\n",
              "    <tr>\n",
              "      <th>4</th>\n",
              "      <td>2ab1cc5a-413a-408e-ba76-01de8e12bead</td>\n",
              "      <td>2020-05-05 13:25:04</td>\n",
              "      <td>2020-05-06 13:43:12</td>\n",
              "      <td>1 days 00:18:08</td>\n",
              "      <td>87488.0</td>\n",
              "      <td>youtube_channel_reklama</td>\n",
              "      <td>1.013</td>\n",
              "    </tr>\n",
              "    <tr>\n",
              "      <th>...</th>\n",
              "      <td>...</td>\n",
              "      <td>...</td>\n",
              "      <td>...</td>\n",
              "      <td>...</td>\n",
              "      <td>...</td>\n",
              "      <td>...</td>\n",
              "      <td>...</td>\n",
              "    </tr>\n",
              "    <tr>\n",
              "      <th>5812</th>\n",
              "      <td>32572adb-900f-4b5d-a453-1eb1e6d88d8b</td>\n",
              "      <td>2020-05-07 05:43:45</td>\n",
              "      <td>2020-06-05 12:12:27</td>\n",
              "      <td>29 days 06:28:42</td>\n",
              "      <td>2528922.0</td>\n",
              "      <td>facebook_ads</td>\n",
              "      <td>29.270</td>\n",
              "    </tr>\n",
              "    <tr>\n",
              "      <th>5813</th>\n",
              "      <td>a4f54b34-299f-495f-b29f-745465741366</td>\n",
              "      <td>2020-05-04 05:00:48</td>\n",
              "      <td>2020-06-03 12:47:09</td>\n",
              "      <td>30 days 07:46:21</td>\n",
              "      <td>2619981.0</td>\n",
              "      <td>facebook_ads</td>\n",
              "      <td>30.324</td>\n",
              "    </tr>\n",
              "    <tr>\n",
              "      <th>5814</th>\n",
              "      <td>f21d179f-1c4b-437e-b9c6-ab1976907195</td>\n",
              "      <td>2020-05-06 02:56:25</td>\n",
              "      <td>2020-06-05 12:32:49</td>\n",
              "      <td>30 days 09:36:24</td>\n",
              "      <td>2626584.0</td>\n",
              "      <td>instagram_new_adverts</td>\n",
              "      <td>30.400</td>\n",
              "    </tr>\n",
              "    <tr>\n",
              "      <th>5815</th>\n",
              "      <td>22cce310-fe10-41a2-941b-9c3d63327fea</td>\n",
              "      <td>2020-05-04 18:38:25</td>\n",
              "      <td>2020-06-04 15:50:38</td>\n",
              "      <td>30 days 21:12:13</td>\n",
              "      <td>2668333.0</td>\n",
              "      <td>yandex_direct</td>\n",
              "      <td>30.883</td>\n",
              "    </tr>\n",
              "    <tr>\n",
              "      <th>5816</th>\n",
              "      <td>18fc6a86-00e7-4f3e-96da-bdb6d550415c</td>\n",
              "      <td>2020-05-04 08:45:09</td>\n",
              "      <td>2020-06-04 06:44:02</td>\n",
              "      <td>30 days 21:58:53</td>\n",
              "      <td>2671133.0</td>\n",
              "      <td>yandex_direct</td>\n",
              "      <td>30.916</td>\n",
              "    </tr>\n",
              "  </tbody>\n",
              "</table>\n",
              "<p>5817 rows × 7 columns</p>\n",
              "</div>\n",
              "      <button class=\"colab-df-convert\" onclick=\"convertToInteractive('df-7dd315c9-1f18-450b-bdec-eab9f9ee063d')\"\n",
              "              title=\"Convert this dataframe to an interactive table.\"\n",
              "              style=\"display:none;\">\n",
              "        \n",
              "  <svg xmlns=\"http://www.w3.org/2000/svg\" height=\"24px\"viewBox=\"0 0 24 24\"\n",
              "       width=\"24px\">\n",
              "    <path d=\"M0 0h24v24H0V0z\" fill=\"none\"/>\n",
              "    <path d=\"M18.56 5.44l.94 2.06.94-2.06 2.06-.94-2.06-.94-.94-2.06-.94 2.06-2.06.94zm-11 1L8.5 8.5l.94-2.06 2.06-.94-2.06-.94L8.5 2.5l-.94 2.06-2.06.94zm10 10l.94 2.06.94-2.06 2.06-.94-2.06-.94-.94-2.06-.94 2.06-2.06.94z\"/><path d=\"M17.41 7.96l-1.37-1.37c-.4-.4-.92-.59-1.43-.59-.52 0-1.04.2-1.43.59L10.3 9.45l-7.72 7.72c-.78.78-.78 2.05 0 2.83L4 21.41c.39.39.9.59 1.41.59.51 0 1.02-.2 1.41-.59l7.78-7.78 2.81-2.81c.8-.78.8-2.07 0-2.86zM5.41 20L4 18.59l7.72-7.72 1.47 1.35L5.41 20z\"/>\n",
              "  </svg>\n",
              "      </button>\n",
              "      \n",
              "  <style>\n",
              "    .colab-df-container {\n",
              "      display:flex;\n",
              "      flex-wrap:wrap;\n",
              "      gap: 12px;\n",
              "    }\n",
              "\n",
              "    .colab-df-convert {\n",
              "      background-color: #E8F0FE;\n",
              "      border: none;\n",
              "      border-radius: 50%;\n",
              "      cursor: pointer;\n",
              "      display: none;\n",
              "      fill: #1967D2;\n",
              "      height: 32px;\n",
              "      padding: 0 0 0 0;\n",
              "      width: 32px;\n",
              "    }\n",
              "\n",
              "    .colab-df-convert:hover {\n",
              "      background-color: #E2EBFA;\n",
              "      box-shadow: 0px 1px 2px rgba(60, 64, 67, 0.3), 0px 1px 3px 1px rgba(60, 64, 67, 0.15);\n",
              "      fill: #174EA6;\n",
              "    }\n",
              "\n",
              "    [theme=dark] .colab-df-convert {\n",
              "      background-color: #3B4455;\n",
              "      fill: #D2E3FC;\n",
              "    }\n",
              "\n",
              "    [theme=dark] .colab-df-convert:hover {\n",
              "      background-color: #434B5C;\n",
              "      box-shadow: 0px 1px 3px 1px rgba(0, 0, 0, 0.15);\n",
              "      filter: drop-shadow(0px 1px 2px rgba(0, 0, 0, 0.3));\n",
              "      fill: #FFFFFF;\n",
              "    }\n",
              "  </style>\n",
              "\n",
              "      <script>\n",
              "        const buttonEl =\n",
              "          document.querySelector('#df-7dd315c9-1f18-450b-bdec-eab9f9ee063d button.colab-df-convert');\n",
              "        buttonEl.style.display =\n",
              "          google.colab.kernel.accessAllowed ? 'block' : 'none';\n",
              "\n",
              "        async function convertToInteractive(key) {\n",
              "          const element = document.querySelector('#df-7dd315c9-1f18-450b-bdec-eab9f9ee063d');\n",
              "          const dataTable =\n",
              "            await google.colab.kernel.invokeFunction('convertToInteractive',\n",
              "                                                     [key], {});\n",
              "          if (!dataTable) return;\n",
              "\n",
              "          const docLinkHtml = 'Like what you see? Visit the ' +\n",
              "            '<a target=\"_blank\" href=https://colab.research.google.com/notebooks/data_table.ipynb>data table notebook</a>'\n",
              "            + ' to learn more about interactive tables.';\n",
              "          element.innerHTML = '';\n",
              "          dataTable['output_type'] = 'display_data';\n",
              "          await google.colab.output.renderOutput(dataTable, element);\n",
              "          const docLink = document.createElement('div');\n",
              "          docLink.innerHTML = docLinkHtml;\n",
              "          element.appendChild(docLink);\n",
              "        }\n",
              "      </script>\n",
              "    </div>\n",
              "  </div>\n",
              "  "
            ]
          },
          "metadata": {},
          "execution_count": 30
        }
      ],
      "source": [
        "#среднее время прохождение уровня по источникам\n",
        "\n",
        "filter_time = filter_data.query('project_type != \"not_finish\"')['user_id']\n",
        "time = (filter_data\n",
        "        .query('user_id in @filter_time')\n",
        "        .groupby('user_id')\n",
        "        .agg({'event_datetime':['min','max']}))\n",
        "\n",
        "time['level_time'] = time[('event_datetime', 'max')] - time[('event_datetime', 'min')]\n",
        "time.columns = time.columns.droplevel(1)\n",
        "time = time.reset_index().sort_values(by='level_time')\n",
        "time['level_time_sec'] = time['level_time'].dt.total_seconds()\n",
        "time = time.merge(source, on = 'user_id')\n",
        "time['level_time_day'] = round((time['level_time_sec']/ 24 /3600),3)\n",
        "time"
      ]
    },
    {
      "cell_type": "code",
      "execution_count": null,
      "metadata": {
        "colab": {
          "base_uri": "https://localhost:8080/"
        },
        "id": "1FhxhVEgIUQT",
        "outputId": "97136b28-e5d3-454e-9a9b-104c9532faca"
      },
      "outputs": [
        {
          "output_type": "stream",
          "name": "stdout",
          "text": [
            "Минимальное время прохождения уровня 0 days 09:39:01\n",
            "Максимальное время прохождения уровня 30 days 21:58:53\n"
          ]
        }
      ],
      "source": [
        "print('Минимальное время прохождения уровня', time['level_time'].min())\n",
        "print('Максимальное время прохождения уровня', time['level_time'].max())"
      ]
    },
    {
      "cell_type": "code",
      "execution_count": null,
      "metadata": {
        "colab": {
          "base_uri": "https://localhost:8080/",
          "height": 542
        },
        "id": "uDHXQGirIUQT",
        "outputId": "8da99526-7401-4fbc-e7ea-9122f8a4793f"
      },
      "outputs": [
        {
          "output_type": "display_data",
          "data": {
            "text/html": [
              "<html>\n",
              "<head><meta charset=\"utf-8\" /></head>\n",
              "<body>\n",
              "    <div>            <script src=\"https://cdnjs.cloudflare.com/ajax/libs/mathjax/2.7.5/MathJax.js?config=TeX-AMS-MML_SVG\"></script><script type=\"text/javascript\">if (window.MathJax && window.MathJax.Hub && window.MathJax.Hub.Config) {window.MathJax.Hub.Config({SVG: {font: \"STIX-Web\"}});}</script>                <script type=\"text/javascript\">window.PlotlyConfig = {MathJaxConfig: 'local'};</script>\n",
              "        <script src=\"https://cdn.plot.ly/plotly-2.18.2.min.js\"></script>                <div id=\"fe014ee9-1b27-4839-9b6c-4ec2407e3d20\" class=\"plotly-graph-div\" style=\"height:525px; width:100%;\"></div>            <script type=\"text/javascript\">                                    window.PLOTLYENV=window.PLOTLYENV || {};                                    if (document.getElementById(\"fe014ee9-1b27-4839-9b6c-4ec2407e3d20\")) {                    Plotly.newPlot(                        \"fe014ee9-1b27-4839-9b6c-4ec2407e3d20\",                        [{\"alignmentgroup\":\"True\",\"hovertemplate\":\"\\u0414\\u043d\\u0438=%{marker.color}<br>\\u0418\\u0441\\u0442\\u043e\\u0447\\u043d\\u0438\\u043a \\u043f\\u0440\\u0438\\u0432\\u043b\\u0435\\u0447\\u0435\\u043d\\u0438\\u044f=%{y}<br>user_id=%{text}<extra></extra>\",\"legendgroup\":\"\",\"marker\":{\"color\":[11.808,11.858,11.895,11.907],\"coloraxis\":\"coloraxis\",\"pattern\":{\"shape\":\"\"}},\"name\":\"\",\"offsetgroup\":\"\",\"orientation\":\"h\",\"showlegend\":false,\"text\":[2042.0,1150.0,1466.0,1159.0],\"textposition\":\"auto\",\"x\":[11.808,11.858,11.895,11.907],\"xaxis\":\"x\",\"y\":[\"yandex_direct\",\"facebook_ads\",\"instagram_new_adverts\",\"youtube_channel_reklama\"],\"yaxis\":\"y\",\"type\":\"bar\"}],                        {\"template\":{\"data\":{\"histogram2dcontour\":[{\"type\":\"histogram2dcontour\",\"colorbar\":{\"outlinewidth\":0,\"ticks\":\"\"},\"colorscale\":[[0.0,\"#0d0887\"],[0.1111111111111111,\"#46039f\"],[0.2222222222222222,\"#7201a8\"],[0.3333333333333333,\"#9c179e\"],[0.4444444444444444,\"#bd3786\"],[0.5555555555555556,\"#d8576b\"],[0.6666666666666666,\"#ed7953\"],[0.7777777777777778,\"#fb9f3a\"],[0.8888888888888888,\"#fdca26\"],[1.0,\"#f0f921\"]]}],\"choropleth\":[{\"type\":\"choropleth\",\"colorbar\":{\"outlinewidth\":0,\"ticks\":\"\"}}],\"histogram2d\":[{\"type\":\"histogram2d\",\"colorbar\":{\"outlinewidth\":0,\"ticks\":\"\"},\"colorscale\":[[0.0,\"#0d0887\"],[0.1111111111111111,\"#46039f\"],[0.2222222222222222,\"#7201a8\"],[0.3333333333333333,\"#9c179e\"],[0.4444444444444444,\"#bd3786\"],[0.5555555555555556,\"#d8576b\"],[0.6666666666666666,\"#ed7953\"],[0.7777777777777778,\"#fb9f3a\"],[0.8888888888888888,\"#fdca26\"],[1.0,\"#f0f921\"]]}],\"heatmap\":[{\"type\":\"heatmap\",\"colorbar\":{\"outlinewidth\":0,\"ticks\":\"\"},\"colorscale\":[[0.0,\"#0d0887\"],[0.1111111111111111,\"#46039f\"],[0.2222222222222222,\"#7201a8\"],[0.3333333333333333,\"#9c179e\"],[0.4444444444444444,\"#bd3786\"],[0.5555555555555556,\"#d8576b\"],[0.6666666666666666,\"#ed7953\"],[0.7777777777777778,\"#fb9f3a\"],[0.8888888888888888,\"#fdca26\"],[1.0,\"#f0f921\"]]}],\"heatmapgl\":[{\"type\":\"heatmapgl\",\"colorbar\":{\"outlinewidth\":0,\"ticks\":\"\"},\"colorscale\":[[0.0,\"#0d0887\"],[0.1111111111111111,\"#46039f\"],[0.2222222222222222,\"#7201a8\"],[0.3333333333333333,\"#9c179e\"],[0.4444444444444444,\"#bd3786\"],[0.5555555555555556,\"#d8576b\"],[0.6666666666666666,\"#ed7953\"],[0.7777777777777778,\"#fb9f3a\"],[0.8888888888888888,\"#fdca26\"],[1.0,\"#f0f921\"]]}],\"contourcarpet\":[{\"type\":\"contourcarpet\",\"colorbar\":{\"outlinewidth\":0,\"ticks\":\"\"}}],\"contour\":[{\"type\":\"contour\",\"colorbar\":{\"outlinewidth\":0,\"ticks\":\"\"},\"colorscale\":[[0.0,\"#0d0887\"],[0.1111111111111111,\"#46039f\"],[0.2222222222222222,\"#7201a8\"],[0.3333333333333333,\"#9c179e\"],[0.4444444444444444,\"#bd3786\"],[0.5555555555555556,\"#d8576b\"],[0.6666666666666666,\"#ed7953\"],[0.7777777777777778,\"#fb9f3a\"],[0.8888888888888888,\"#fdca26\"],[1.0,\"#f0f921\"]]}],\"surface\":[{\"type\":\"surface\",\"colorbar\":{\"outlinewidth\":0,\"ticks\":\"\"},\"colorscale\":[[0.0,\"#0d0887\"],[0.1111111111111111,\"#46039f\"],[0.2222222222222222,\"#7201a8\"],[0.3333333333333333,\"#9c179e\"],[0.4444444444444444,\"#bd3786\"],[0.5555555555555556,\"#d8576b\"],[0.6666666666666666,\"#ed7953\"],[0.7777777777777778,\"#fb9f3a\"],[0.8888888888888888,\"#fdca26\"],[1.0,\"#f0f921\"]]}],\"mesh3d\":[{\"type\":\"mesh3d\",\"colorbar\":{\"outlinewidth\":0,\"ticks\":\"\"}}],\"scatter\":[{\"fillpattern\":{\"fillmode\":\"overlay\",\"size\":10,\"solidity\":0.2},\"type\":\"scatter\"}],\"parcoords\":[{\"type\":\"parcoords\",\"line\":{\"colorbar\":{\"outlinewidth\":0,\"ticks\":\"\"}}}],\"scatterpolargl\":[{\"type\":\"scatterpolargl\",\"marker\":{\"colorbar\":{\"outlinewidth\":0,\"ticks\":\"\"}}}],\"bar\":[{\"error_x\":{\"color\":\"#2a3f5f\"},\"error_y\":{\"color\":\"#2a3f5f\"},\"marker\":{\"line\":{\"color\":\"#E5ECF6\",\"width\":0.5},\"pattern\":{\"fillmode\":\"overlay\",\"size\":10,\"solidity\":0.2}},\"type\":\"bar\"}],\"scattergeo\":[{\"type\":\"scattergeo\",\"marker\":{\"colorbar\":{\"outlinewidth\":0,\"ticks\":\"\"}}}],\"scatterpolar\":[{\"type\":\"scatterpolar\",\"marker\":{\"colorbar\":{\"outlinewidth\":0,\"ticks\":\"\"}}}],\"histogram\":[{\"marker\":{\"pattern\":{\"fillmode\":\"overlay\",\"size\":10,\"solidity\":0.2}},\"type\":\"histogram\"}],\"scattergl\":[{\"type\":\"scattergl\",\"marker\":{\"colorbar\":{\"outlinewidth\":0,\"ticks\":\"\"}}}],\"scatter3d\":[{\"type\":\"scatter3d\",\"line\":{\"colorbar\":{\"outlinewidth\":0,\"ticks\":\"\"}},\"marker\":{\"colorbar\":{\"outlinewidth\":0,\"ticks\":\"\"}}}],\"scattermapbox\":[{\"type\":\"scattermapbox\",\"marker\":{\"colorbar\":{\"outlinewidth\":0,\"ticks\":\"\"}}}],\"scatterternary\":[{\"type\":\"scatterternary\",\"marker\":{\"colorbar\":{\"outlinewidth\":0,\"ticks\":\"\"}}}],\"scattercarpet\":[{\"type\":\"scattercarpet\",\"marker\":{\"colorbar\":{\"outlinewidth\":0,\"ticks\":\"\"}}}],\"carpet\":[{\"aaxis\":{\"endlinecolor\":\"#2a3f5f\",\"gridcolor\":\"white\",\"linecolor\":\"white\",\"minorgridcolor\":\"white\",\"startlinecolor\":\"#2a3f5f\"},\"baxis\":{\"endlinecolor\":\"#2a3f5f\",\"gridcolor\":\"white\",\"linecolor\":\"white\",\"minorgridcolor\":\"white\",\"startlinecolor\":\"#2a3f5f\"},\"type\":\"carpet\"}],\"table\":[{\"cells\":{\"fill\":{\"color\":\"#EBF0F8\"},\"line\":{\"color\":\"white\"}},\"header\":{\"fill\":{\"color\":\"#C8D4E3\"},\"line\":{\"color\":\"white\"}},\"type\":\"table\"}],\"barpolar\":[{\"marker\":{\"line\":{\"color\":\"#E5ECF6\",\"width\":0.5},\"pattern\":{\"fillmode\":\"overlay\",\"size\":10,\"solidity\":0.2}},\"type\":\"barpolar\"}],\"pie\":[{\"automargin\":true,\"type\":\"pie\"}]},\"layout\":{\"autotypenumbers\":\"strict\",\"colorway\":[\"#636efa\",\"#EF553B\",\"#00cc96\",\"#ab63fa\",\"#FFA15A\",\"#19d3f3\",\"#FF6692\",\"#B6E880\",\"#FF97FF\",\"#FECB52\"],\"font\":{\"color\":\"#2a3f5f\"},\"hovermode\":\"closest\",\"hoverlabel\":{\"align\":\"left\"},\"paper_bgcolor\":\"white\",\"plot_bgcolor\":\"#E5ECF6\",\"polar\":{\"bgcolor\":\"#E5ECF6\",\"angularaxis\":{\"gridcolor\":\"white\",\"linecolor\":\"white\",\"ticks\":\"\"},\"radialaxis\":{\"gridcolor\":\"white\",\"linecolor\":\"white\",\"ticks\":\"\"}},\"ternary\":{\"bgcolor\":\"#E5ECF6\",\"aaxis\":{\"gridcolor\":\"white\",\"linecolor\":\"white\",\"ticks\":\"\"},\"baxis\":{\"gridcolor\":\"white\",\"linecolor\":\"white\",\"ticks\":\"\"},\"caxis\":{\"gridcolor\":\"white\",\"linecolor\":\"white\",\"ticks\":\"\"}},\"coloraxis\":{\"colorbar\":{\"outlinewidth\":0,\"ticks\":\"\"}},\"colorscale\":{\"sequential\":[[0.0,\"#0d0887\"],[0.1111111111111111,\"#46039f\"],[0.2222222222222222,\"#7201a8\"],[0.3333333333333333,\"#9c179e\"],[0.4444444444444444,\"#bd3786\"],[0.5555555555555556,\"#d8576b\"],[0.6666666666666666,\"#ed7953\"],[0.7777777777777778,\"#fb9f3a\"],[0.8888888888888888,\"#fdca26\"],[1.0,\"#f0f921\"]],\"sequentialminus\":[[0.0,\"#0d0887\"],[0.1111111111111111,\"#46039f\"],[0.2222222222222222,\"#7201a8\"],[0.3333333333333333,\"#9c179e\"],[0.4444444444444444,\"#bd3786\"],[0.5555555555555556,\"#d8576b\"],[0.6666666666666666,\"#ed7953\"],[0.7777777777777778,\"#fb9f3a\"],[0.8888888888888888,\"#fdca26\"],[1.0,\"#f0f921\"]],\"diverging\":[[0,\"#8e0152\"],[0.1,\"#c51b7d\"],[0.2,\"#de77ae\"],[0.3,\"#f1b6da\"],[0.4,\"#fde0ef\"],[0.5,\"#f7f7f7\"],[0.6,\"#e6f5d0\"],[0.7,\"#b8e186\"],[0.8,\"#7fbc41\"],[0.9,\"#4d9221\"],[1,\"#276419\"]]},\"xaxis\":{\"gridcolor\":\"white\",\"linecolor\":\"white\",\"ticks\":\"\",\"title\":{\"standoff\":15},\"zerolinecolor\":\"white\",\"automargin\":true,\"zerolinewidth\":2},\"yaxis\":{\"gridcolor\":\"white\",\"linecolor\":\"white\",\"ticks\":\"\",\"title\":{\"standoff\":15},\"zerolinecolor\":\"white\",\"automargin\":true,\"zerolinewidth\":2},\"scene\":{\"xaxis\":{\"backgroundcolor\":\"#E5ECF6\",\"gridcolor\":\"white\",\"linecolor\":\"white\",\"showbackground\":true,\"ticks\":\"\",\"zerolinecolor\":\"white\",\"gridwidth\":2},\"yaxis\":{\"backgroundcolor\":\"#E5ECF6\",\"gridcolor\":\"white\",\"linecolor\":\"white\",\"showbackground\":true,\"ticks\":\"\",\"zerolinecolor\":\"white\",\"gridwidth\":2},\"zaxis\":{\"backgroundcolor\":\"#E5ECF6\",\"gridcolor\":\"white\",\"linecolor\":\"white\",\"showbackground\":true,\"ticks\":\"\",\"zerolinecolor\":\"white\",\"gridwidth\":2}},\"shapedefaults\":{\"line\":{\"color\":\"#2a3f5f\"}},\"annotationdefaults\":{\"arrowcolor\":\"#2a3f5f\",\"arrowhead\":0,\"arrowwidth\":1},\"geo\":{\"bgcolor\":\"white\",\"landcolor\":\"#E5ECF6\",\"subunitcolor\":\"white\",\"showland\":true,\"showlakes\":true,\"lakecolor\":\"white\"},\"title\":{\"x\":0.05},\"mapbox\":{\"style\":\"light\"}}},\"xaxis\":{\"anchor\":\"y\",\"domain\":[0.0,1.0],\"title\":{\"text\":\"\\u0414\\u043d\\u0438\"},\"range\":[11.6,11.93]},\"yaxis\":{\"anchor\":\"x\",\"domain\":[0.0,1.0],\"title\":{\"text\":\"\\u0418\\u0441\\u0442\\u043e\\u0447\\u043d\\u0438\\u043a \\u043f\\u0440\\u0438\\u0432\\u043b\\u0435\\u0447\\u0435\\u043d\\u0438\\u044f\"}},\"coloraxis\":{\"colorbar\":{\"title\":{\"text\":\"\\u0414\\u043d\\u0438\"}},\"colorscale\":[[0.0,\"#0d0887\"],[0.1111111111111111,\"#46039f\"],[0.2222222222222222,\"#7201a8\"],[0.3333333333333333,\"#9c179e\"],[0.4444444444444444,\"#bd3786\"],[0.5555555555555556,\"#d8576b\"],[0.6666666666666666,\"#ed7953\"],[0.7777777777777778,\"#fb9f3a\"],[0.8888888888888888,\"#fdca26\"],[1.0,\"#f0f921\"]]},\"legend\":{\"tracegroupgap\":0},\"title\":{\"text\":\"\\u0441\\u0440\\u0435\\u0434\\u043d\\u0435\\u0435 \\u0432\\u0440\\u0435\\u043c\\u044f \\u043f\\u0440\\u043e\\u0445\\u043e\\u0436\\u0434\\u0435\\u043d\\u0438\\u0435 \\u0443\\u0440\\u043e\\u0432\\u043d\\u044f \\u043f\\u043e \\u0438\\u0441\\u0442\\u043e\\u0447\\u043d\\u0438\\u043a\\u0430\\u043c \\u0432 \\u0434\\u043d\\u044f\\u0445\"},\"barmode\":\"relative\"},                        {\"responsive\": true}                    ).then(function(){\n",
              "                            \n",
              "var gd = document.getElementById('fe014ee9-1b27-4839-9b6c-4ec2407e3d20');\n",
              "var x = new MutationObserver(function (mutations, observer) {{\n",
              "        var display = window.getComputedStyle(gd).display;\n",
              "        if (!display || display === 'none') {{\n",
              "            console.log([gd, 'removed!']);\n",
              "            Plotly.purge(gd);\n",
              "            observer.disconnect();\n",
              "        }}\n",
              "}});\n",
              "\n",
              "// Listen for the removal of the full notebook cells\n",
              "var notebookContainer = gd.closest('#notebook-container');\n",
              "if (notebookContainer) {{\n",
              "    x.observe(notebookContainer, {childList: true});\n",
              "}}\n",
              "\n",
              "// Listen for the clearing of the current output cell\n",
              "var outputEl = gd.closest('.output');\n",
              "if (outputEl) {{\n",
              "    x.observe(outputEl, {childList: true});\n",
              "}}\n",
              "\n",
              "                        })                };                            </script>        </div>\n",
              "</body>\n",
              "</html>"
            ]
          },
          "metadata": {}
        }
      ],
      "source": [
        "graf = time.groupby('source').agg({'user_id':'count', 'level_time_sec':'mean'}).sort_values('level_time_sec', ascending = False)\n",
        "graf['level_time_day'] = round((graf['level_time_sec']/ 24 /3600),3)\n",
        "fig = px.bar(graf.sort_values('level_time_day'),\n",
        "             x = 'level_time_day',\n",
        "             title ='среднее время прохождение уровня по источникам в днях',\n",
        "             labels = {'source':'Источник привлечения', 'level_time_day':'Дни'},\n",
        "             color = 'level_time_day',\n",
        "             text = 'user_id')\n",
        "fig.update_xaxes(range=[11.6, 11.93])\n",
        "fig.show()"
      ]
    },
    {
      "cell_type": "markdown",
      "metadata": {
        "id": "n3DakwxDIUQU"
      },
      "source": [
        "**Комментарий**\n",
        "\n",
        "Среднее время игроков которые закончили уровень примерно одинаковый во всех источниках, в среднем это 11 дней"
      ]
    },
    {
      "cell_type": "code",
      "execution_count": null,
      "metadata": {
        "colab": {
          "base_uri": "https://localhost:8080/"
        },
        "id": "R8Nn83QJIUQU",
        "outputId": "a6a13419-2b3d-4aac-c882-284c7cfec42a"
      },
      "outputs": [
        {
          "output_type": "stream",
          "name": "stdout",
          "text": [
            "<class 'pandas.core.frame.DataFrame'>\n",
            "Index: 4 entries, instagram_new_adverts to youtube_channel_reklama\n",
            "Data columns (total 3 columns):\n",
            " #   Column            Non-Null Count  Dtype  \n",
            "---  ------            --------------  -----  \n",
            " 0   user_id           4 non-null      int64  \n",
            " 1   days_on_game_sec  4 non-null      float64\n",
            " 2   days_on_game      4 non-null      float64\n",
            "dtypes: float64(2), int64(1)\n",
            "memory usage: 128.0+ bytes\n"
          ]
        }
      ],
      "source": [
        "# исследовать время проведенное в игре по источникам\n",
        "\n",
        "game_min = game.groupby('user_id')['event_datetime'].min()\n",
        "game_max = game.groupby('user_id')['event_datetime'].max()\n",
        "time_delta = game_max-game_min\n",
        "time_delta.name = 'days_on_game'\n",
        "time_delta = time_delta.reset_index().sort_values('days_on_game', ascending=False)\n",
        "time_delta = time_delta.merge(source)\n",
        "time_delta = time_delta.query('days_on_game != \"0 days 00:00:00\"')\n",
        "time_delta['days_on_game_sec'] = time_delta['days_on_game'].dt.total_seconds()\n",
        "time_delta = time_delta.groupby('source').agg({'user_id':'count', 'days_on_game_sec':'mean'}).sort_values('days_on_game_sec', ascending = False)\n",
        "time_delta['days_on_game'] = round((time_delta['days_on_game_sec']/ 24 /3600),3)\n",
        "\n",
        "time_delta.info()"
      ]
    },
    {
      "cell_type": "code",
      "execution_count": null,
      "metadata": {
        "scrolled": false,
        "colab": {
          "base_uri": "https://localhost:8080/",
          "height": 542
        },
        "id": "WjOW_eDGIUQU",
        "outputId": "fa476d21-8669-45b2-d393-09432b0d0956"
      },
      "outputs": [
        {
          "output_type": "display_data",
          "data": {
            "text/html": [
              "<html>\n",
              "<head><meta charset=\"utf-8\" /></head>\n",
              "<body>\n",
              "    <div>            <script src=\"https://cdnjs.cloudflare.com/ajax/libs/mathjax/2.7.5/MathJax.js?config=TeX-AMS-MML_SVG\"></script><script type=\"text/javascript\">if (window.MathJax && window.MathJax.Hub && window.MathJax.Hub.Config) {window.MathJax.Hub.Config({SVG: {font: \"STIX-Web\"}});}</script>                <script type=\"text/javascript\">window.PlotlyConfig = {MathJaxConfig: 'local'};</script>\n",
              "        <script src=\"https://cdn.plot.ly/plotly-2.18.2.min.js\"></script>                <div id=\"e2b1cdba-6cdf-438d-9968-f7aa0386a730\" class=\"plotly-graph-div\" style=\"height:525px; width:100%;\"></div>            <script type=\"text/javascript\">                                    window.PLOTLYENV=window.PLOTLYENV || {};                                    if (document.getElementById(\"e2b1cdba-6cdf-438d-9968-f7aa0386a730\")) {                    Plotly.newPlot(                        \"e2b1cdba-6cdf-438d-9968-f7aa0386a730\",                        [{\"alignmentgroup\":\"True\",\"hovertemplate\":\"\\u0414\\u043d\\u0438=%{marker.color}<br>\\u0418\\u0441\\u0442\\u043e\\u0447\\u043d\\u0438\\u043a \\u043f\\u0440\\u0438\\u0432\\u043b\\u0435\\u0447\\u0435\\u043d\\u0438\\u044f=%{y}<br>user_id=%{text}<extra></extra>\",\"legendgroup\":\"\",\"marker\":{\"color\":[10.638,10.658,10.787,10.824],\"coloraxis\":\"coloraxis\",\"pattern\":{\"shape\":\"\"}},\"name\":\"\",\"offsetgroup\":\"\",\"orientation\":\"h\",\"showlegend\":false,\"text\":[2673.0,4798.0,2712.0,3336.0],\"textposition\":\"auto\",\"x\":[10.638,10.658,10.787,10.824],\"xaxis\":\"x\",\"y\":[\"youtube_channel_reklama\",\"yandex_direct\",\"facebook_ads\",\"instagram_new_adverts\"],\"yaxis\":\"y\",\"type\":\"bar\"}],                        {\"template\":{\"data\":{\"histogram2dcontour\":[{\"type\":\"histogram2dcontour\",\"colorbar\":{\"outlinewidth\":0,\"ticks\":\"\"},\"colorscale\":[[0.0,\"#0d0887\"],[0.1111111111111111,\"#46039f\"],[0.2222222222222222,\"#7201a8\"],[0.3333333333333333,\"#9c179e\"],[0.4444444444444444,\"#bd3786\"],[0.5555555555555556,\"#d8576b\"],[0.6666666666666666,\"#ed7953\"],[0.7777777777777778,\"#fb9f3a\"],[0.8888888888888888,\"#fdca26\"],[1.0,\"#f0f921\"]]}],\"choropleth\":[{\"type\":\"choropleth\",\"colorbar\":{\"outlinewidth\":0,\"ticks\":\"\"}}],\"histogram2d\":[{\"type\":\"histogram2d\",\"colorbar\":{\"outlinewidth\":0,\"ticks\":\"\"},\"colorscale\":[[0.0,\"#0d0887\"],[0.1111111111111111,\"#46039f\"],[0.2222222222222222,\"#7201a8\"],[0.3333333333333333,\"#9c179e\"],[0.4444444444444444,\"#bd3786\"],[0.5555555555555556,\"#d8576b\"],[0.6666666666666666,\"#ed7953\"],[0.7777777777777778,\"#fb9f3a\"],[0.8888888888888888,\"#fdca26\"],[1.0,\"#f0f921\"]]}],\"heatmap\":[{\"type\":\"heatmap\",\"colorbar\":{\"outlinewidth\":0,\"ticks\":\"\"},\"colorscale\":[[0.0,\"#0d0887\"],[0.1111111111111111,\"#46039f\"],[0.2222222222222222,\"#7201a8\"],[0.3333333333333333,\"#9c179e\"],[0.4444444444444444,\"#bd3786\"],[0.5555555555555556,\"#d8576b\"],[0.6666666666666666,\"#ed7953\"],[0.7777777777777778,\"#fb9f3a\"],[0.8888888888888888,\"#fdca26\"],[1.0,\"#f0f921\"]]}],\"heatmapgl\":[{\"type\":\"heatmapgl\",\"colorbar\":{\"outlinewidth\":0,\"ticks\":\"\"},\"colorscale\":[[0.0,\"#0d0887\"],[0.1111111111111111,\"#46039f\"],[0.2222222222222222,\"#7201a8\"],[0.3333333333333333,\"#9c179e\"],[0.4444444444444444,\"#bd3786\"],[0.5555555555555556,\"#d8576b\"],[0.6666666666666666,\"#ed7953\"],[0.7777777777777778,\"#fb9f3a\"],[0.8888888888888888,\"#fdca26\"],[1.0,\"#f0f921\"]]}],\"contourcarpet\":[{\"type\":\"contourcarpet\",\"colorbar\":{\"outlinewidth\":0,\"ticks\":\"\"}}],\"contour\":[{\"type\":\"contour\",\"colorbar\":{\"outlinewidth\":0,\"ticks\":\"\"},\"colorscale\":[[0.0,\"#0d0887\"],[0.1111111111111111,\"#46039f\"],[0.2222222222222222,\"#7201a8\"],[0.3333333333333333,\"#9c179e\"],[0.4444444444444444,\"#bd3786\"],[0.5555555555555556,\"#d8576b\"],[0.6666666666666666,\"#ed7953\"],[0.7777777777777778,\"#fb9f3a\"],[0.8888888888888888,\"#fdca26\"],[1.0,\"#f0f921\"]]}],\"surface\":[{\"type\":\"surface\",\"colorbar\":{\"outlinewidth\":0,\"ticks\":\"\"},\"colorscale\":[[0.0,\"#0d0887\"],[0.1111111111111111,\"#46039f\"],[0.2222222222222222,\"#7201a8\"],[0.3333333333333333,\"#9c179e\"],[0.4444444444444444,\"#bd3786\"],[0.5555555555555556,\"#d8576b\"],[0.6666666666666666,\"#ed7953\"],[0.7777777777777778,\"#fb9f3a\"],[0.8888888888888888,\"#fdca26\"],[1.0,\"#f0f921\"]]}],\"mesh3d\":[{\"type\":\"mesh3d\",\"colorbar\":{\"outlinewidth\":0,\"ticks\":\"\"}}],\"scatter\":[{\"fillpattern\":{\"fillmode\":\"overlay\",\"size\":10,\"solidity\":0.2},\"type\":\"scatter\"}],\"parcoords\":[{\"type\":\"parcoords\",\"line\":{\"colorbar\":{\"outlinewidth\":0,\"ticks\":\"\"}}}],\"scatterpolargl\":[{\"type\":\"scatterpolargl\",\"marker\":{\"colorbar\":{\"outlinewidth\":0,\"ticks\":\"\"}}}],\"bar\":[{\"error_x\":{\"color\":\"#2a3f5f\"},\"error_y\":{\"color\":\"#2a3f5f\"},\"marker\":{\"line\":{\"color\":\"#E5ECF6\",\"width\":0.5},\"pattern\":{\"fillmode\":\"overlay\",\"size\":10,\"solidity\":0.2}},\"type\":\"bar\"}],\"scattergeo\":[{\"type\":\"scattergeo\",\"marker\":{\"colorbar\":{\"outlinewidth\":0,\"ticks\":\"\"}}}],\"scatterpolar\":[{\"type\":\"scatterpolar\",\"marker\":{\"colorbar\":{\"outlinewidth\":0,\"ticks\":\"\"}}}],\"histogram\":[{\"marker\":{\"pattern\":{\"fillmode\":\"overlay\",\"size\":10,\"solidity\":0.2}},\"type\":\"histogram\"}],\"scattergl\":[{\"type\":\"scattergl\",\"marker\":{\"colorbar\":{\"outlinewidth\":0,\"ticks\":\"\"}}}],\"scatter3d\":[{\"type\":\"scatter3d\",\"line\":{\"colorbar\":{\"outlinewidth\":0,\"ticks\":\"\"}},\"marker\":{\"colorbar\":{\"outlinewidth\":0,\"ticks\":\"\"}}}],\"scattermapbox\":[{\"type\":\"scattermapbox\",\"marker\":{\"colorbar\":{\"outlinewidth\":0,\"ticks\":\"\"}}}],\"scatterternary\":[{\"type\":\"scatterternary\",\"marker\":{\"colorbar\":{\"outlinewidth\":0,\"ticks\":\"\"}}}],\"scattercarpet\":[{\"type\":\"scattercarpet\",\"marker\":{\"colorbar\":{\"outlinewidth\":0,\"ticks\":\"\"}}}],\"carpet\":[{\"aaxis\":{\"endlinecolor\":\"#2a3f5f\",\"gridcolor\":\"white\",\"linecolor\":\"white\",\"minorgridcolor\":\"white\",\"startlinecolor\":\"#2a3f5f\"},\"baxis\":{\"endlinecolor\":\"#2a3f5f\",\"gridcolor\":\"white\",\"linecolor\":\"white\",\"minorgridcolor\":\"white\",\"startlinecolor\":\"#2a3f5f\"},\"type\":\"carpet\"}],\"table\":[{\"cells\":{\"fill\":{\"color\":\"#EBF0F8\"},\"line\":{\"color\":\"white\"}},\"header\":{\"fill\":{\"color\":\"#C8D4E3\"},\"line\":{\"color\":\"white\"}},\"type\":\"table\"}],\"barpolar\":[{\"marker\":{\"line\":{\"color\":\"#E5ECF6\",\"width\":0.5},\"pattern\":{\"fillmode\":\"overlay\",\"size\":10,\"solidity\":0.2}},\"type\":\"barpolar\"}],\"pie\":[{\"automargin\":true,\"type\":\"pie\"}]},\"layout\":{\"autotypenumbers\":\"strict\",\"colorway\":[\"#636efa\",\"#EF553B\",\"#00cc96\",\"#ab63fa\",\"#FFA15A\",\"#19d3f3\",\"#FF6692\",\"#B6E880\",\"#FF97FF\",\"#FECB52\"],\"font\":{\"color\":\"#2a3f5f\"},\"hovermode\":\"closest\",\"hoverlabel\":{\"align\":\"left\"},\"paper_bgcolor\":\"white\",\"plot_bgcolor\":\"#E5ECF6\",\"polar\":{\"bgcolor\":\"#E5ECF6\",\"angularaxis\":{\"gridcolor\":\"white\",\"linecolor\":\"white\",\"ticks\":\"\"},\"radialaxis\":{\"gridcolor\":\"white\",\"linecolor\":\"white\",\"ticks\":\"\"}},\"ternary\":{\"bgcolor\":\"#E5ECF6\",\"aaxis\":{\"gridcolor\":\"white\",\"linecolor\":\"white\",\"ticks\":\"\"},\"baxis\":{\"gridcolor\":\"white\",\"linecolor\":\"white\",\"ticks\":\"\"},\"caxis\":{\"gridcolor\":\"white\",\"linecolor\":\"white\",\"ticks\":\"\"}},\"coloraxis\":{\"colorbar\":{\"outlinewidth\":0,\"ticks\":\"\"}},\"colorscale\":{\"sequential\":[[0.0,\"#0d0887\"],[0.1111111111111111,\"#46039f\"],[0.2222222222222222,\"#7201a8\"],[0.3333333333333333,\"#9c179e\"],[0.4444444444444444,\"#bd3786\"],[0.5555555555555556,\"#d8576b\"],[0.6666666666666666,\"#ed7953\"],[0.7777777777777778,\"#fb9f3a\"],[0.8888888888888888,\"#fdca26\"],[1.0,\"#f0f921\"]],\"sequentialminus\":[[0.0,\"#0d0887\"],[0.1111111111111111,\"#46039f\"],[0.2222222222222222,\"#7201a8\"],[0.3333333333333333,\"#9c179e\"],[0.4444444444444444,\"#bd3786\"],[0.5555555555555556,\"#d8576b\"],[0.6666666666666666,\"#ed7953\"],[0.7777777777777778,\"#fb9f3a\"],[0.8888888888888888,\"#fdca26\"],[1.0,\"#f0f921\"]],\"diverging\":[[0,\"#8e0152\"],[0.1,\"#c51b7d\"],[0.2,\"#de77ae\"],[0.3,\"#f1b6da\"],[0.4,\"#fde0ef\"],[0.5,\"#f7f7f7\"],[0.6,\"#e6f5d0\"],[0.7,\"#b8e186\"],[0.8,\"#7fbc41\"],[0.9,\"#4d9221\"],[1,\"#276419\"]]},\"xaxis\":{\"gridcolor\":\"white\",\"linecolor\":\"white\",\"ticks\":\"\",\"title\":{\"standoff\":15},\"zerolinecolor\":\"white\",\"automargin\":true,\"zerolinewidth\":2},\"yaxis\":{\"gridcolor\":\"white\",\"linecolor\":\"white\",\"ticks\":\"\",\"title\":{\"standoff\":15},\"zerolinecolor\":\"white\",\"automargin\":true,\"zerolinewidth\":2},\"scene\":{\"xaxis\":{\"backgroundcolor\":\"#E5ECF6\",\"gridcolor\":\"white\",\"linecolor\":\"white\",\"showbackground\":true,\"ticks\":\"\",\"zerolinecolor\":\"white\",\"gridwidth\":2},\"yaxis\":{\"backgroundcolor\":\"#E5ECF6\",\"gridcolor\":\"white\",\"linecolor\":\"white\",\"showbackground\":true,\"ticks\":\"\",\"zerolinecolor\":\"white\",\"gridwidth\":2},\"zaxis\":{\"backgroundcolor\":\"#E5ECF6\",\"gridcolor\":\"white\",\"linecolor\":\"white\",\"showbackground\":true,\"ticks\":\"\",\"zerolinecolor\":\"white\",\"gridwidth\":2}},\"shapedefaults\":{\"line\":{\"color\":\"#2a3f5f\"}},\"annotationdefaults\":{\"arrowcolor\":\"#2a3f5f\",\"arrowhead\":0,\"arrowwidth\":1},\"geo\":{\"bgcolor\":\"white\",\"landcolor\":\"#E5ECF6\",\"subunitcolor\":\"white\",\"showland\":true,\"showlakes\":true,\"lakecolor\":\"white\"},\"title\":{\"x\":0.05},\"mapbox\":{\"style\":\"light\"}}},\"xaxis\":{\"anchor\":\"y\",\"domain\":[0.0,1.0],\"title\":{\"text\":\"\\u0414\\u043d\\u0438\"},\"range\":[10.6,10.9]},\"yaxis\":{\"anchor\":\"x\",\"domain\":[0.0,1.0],\"title\":{\"text\":\"\\u0418\\u0441\\u0442\\u043e\\u0447\\u043d\\u0438\\u043a \\u043f\\u0440\\u0438\\u0432\\u043b\\u0435\\u0447\\u0435\\u043d\\u0438\\u044f\"}},\"coloraxis\":{\"colorbar\":{\"title\":{\"text\":\"\\u0414\\u043d\\u0438\"}},\"colorscale\":[[0.0,\"#0d0887\"],[0.1111111111111111,\"#46039f\"],[0.2222222222222222,\"#7201a8\"],[0.3333333333333333,\"#9c179e\"],[0.4444444444444444,\"#bd3786\"],[0.5555555555555556,\"#d8576b\"],[0.6666666666666666,\"#ed7953\"],[0.7777777777777778,\"#fb9f3a\"],[0.8888888888888888,\"#fdca26\"],[1.0,\"#f0f921\"]]},\"legend\":{\"tracegroupgap\":0},\"title\":{\"text\":\"\\u0421\\u0440\\u0435\\u0434\\u043d\\u0435\\u0435 \\u0432\\u0440\\u0435\\u043c\\u044f \\u043f\\u0440\\u043e\\u0432\\u0435\\u0434\\u0435\\u043d\\u043d\\u043e\\u0435 \\u0432 \\u0438\\u0433\\u0440\\u0435 \\u043a\\u043b\\u0438\\u0435\\u043d\\u0442\\u043e\\u0432 \\u043f\\u043e \\u0438\\u0441\\u0442\\u043e\\u0447\\u043d\\u0438\\u043a\\u0430\\u043c \\u0432 \\u0434\\u043d\\u044f\\u0445\"},\"barmode\":\"relative\"},                        {\"responsive\": true}                    ).then(function(){\n",
              "                            \n",
              "var gd = document.getElementById('e2b1cdba-6cdf-438d-9968-f7aa0386a730');\n",
              "var x = new MutationObserver(function (mutations, observer) {{\n",
              "        var display = window.getComputedStyle(gd).display;\n",
              "        if (!display || display === 'none') {{\n",
              "            console.log([gd, 'removed!']);\n",
              "            Plotly.purge(gd);\n",
              "            observer.disconnect();\n",
              "        }}\n",
              "}});\n",
              "\n",
              "// Listen for the removal of the full notebook cells\n",
              "var notebookContainer = gd.closest('#notebook-container');\n",
              "if (notebookContainer) {{\n",
              "    x.observe(notebookContainer, {childList: true});\n",
              "}}\n",
              "\n",
              "// Listen for the clearing of the current output cell\n",
              "var outputEl = gd.closest('.output');\n",
              "if (outputEl) {{\n",
              "    x.observe(outputEl, {childList: true});\n",
              "}}\n",
              "\n",
              "                        })                };                            </script>        </div>\n",
              "</body>\n",
              "</html>"
            ]
          },
          "metadata": {}
        }
      ],
      "source": [
        "fig = px.bar(time_delta.sort_values('days_on_game'),\n",
        "             x = 'days_on_game',\n",
        "             title ='Среднее время проведенное в игре клиентов по источникам в днях',\n",
        "             labels = {'source':'Источник привлечения', 'days_on_game':'Дни'},\n",
        "             color = 'days_on_game',\n",
        "             text = 'user_id')\n",
        "fig.update_xaxes(range=[10.6, 10.9])\n",
        "fig.show()"
      ]
    },
    {
      "cell_type": "markdown",
      "metadata": {
        "id": "SZkniIJpIUQV"
      },
      "source": [
        "**Комментарий**\n",
        "\n",
        "Все пользователи из разных источников провели примерно одинаковое время в игре, высчитывала среднее нахождение, и это составило 10 дней\n",
        "Но дольше всех играют пользователи из источника **instagram_new_adverts**"
      ]
    },
    {
      "cell_type": "code",
      "execution_count": null,
      "metadata": {
        "colab": {
          "base_uri": "https://localhost:8080/",
          "height": 206
        },
        "id": "p4qjDnQNIUQV",
        "outputId": "42fddf76-9cf9-4dfd-f964-f2dbeb85584b"
      },
      "outputs": [
        {
          "output_type": "execute_result",
          "data": {
            "text/plain": [
              "                         user_id  building_type  mean\n",
              "source                                               \n",
              "facebook_ads                2726          26131  9.59\n",
              "instagram_new_adverts       3347          31815  9.51\n",
              "yandex_direct               4817          45032  9.35\n",
              "youtube_channel_reklama     2686          24978  9.30"
            ],
            "text/html": [
              "\n",
              "  <div id=\"df-e0570663-2fb8-4ffb-9453-693199a38626\">\n",
              "    <div class=\"colab-df-container\">\n",
              "      <div>\n",
              "<style scoped>\n",
              "    .dataframe tbody tr th:only-of-type {\n",
              "        vertical-align: middle;\n",
              "    }\n",
              "\n",
              "    .dataframe tbody tr th {\n",
              "        vertical-align: top;\n",
              "    }\n",
              "\n",
              "    .dataframe thead th {\n",
              "        text-align: right;\n",
              "    }\n",
              "</style>\n",
              "<table border=\"1\" class=\"dataframe\">\n",
              "  <thead>\n",
              "    <tr style=\"text-align: right;\">\n",
              "      <th></th>\n",
              "      <th>user_id</th>\n",
              "      <th>building_type</th>\n",
              "      <th>mean</th>\n",
              "    </tr>\n",
              "    <tr>\n",
              "      <th>source</th>\n",
              "      <th></th>\n",
              "      <th></th>\n",
              "      <th></th>\n",
              "    </tr>\n",
              "  </thead>\n",
              "  <tbody>\n",
              "    <tr>\n",
              "      <th>facebook_ads</th>\n",
              "      <td>2726</td>\n",
              "      <td>26131</td>\n",
              "      <td>9.59</td>\n",
              "    </tr>\n",
              "    <tr>\n",
              "      <th>instagram_new_adverts</th>\n",
              "      <td>3347</td>\n",
              "      <td>31815</td>\n",
              "      <td>9.51</td>\n",
              "    </tr>\n",
              "    <tr>\n",
              "      <th>yandex_direct</th>\n",
              "      <td>4817</td>\n",
              "      <td>45032</td>\n",
              "      <td>9.35</td>\n",
              "    </tr>\n",
              "    <tr>\n",
              "      <th>youtube_channel_reklama</th>\n",
              "      <td>2686</td>\n",
              "      <td>24978</td>\n",
              "      <td>9.30</td>\n",
              "    </tr>\n",
              "  </tbody>\n",
              "</table>\n",
              "</div>\n",
              "      <button class=\"colab-df-convert\" onclick=\"convertToInteractive('df-e0570663-2fb8-4ffb-9453-693199a38626')\"\n",
              "              title=\"Convert this dataframe to an interactive table.\"\n",
              "              style=\"display:none;\">\n",
              "        \n",
              "  <svg xmlns=\"http://www.w3.org/2000/svg\" height=\"24px\"viewBox=\"0 0 24 24\"\n",
              "       width=\"24px\">\n",
              "    <path d=\"M0 0h24v24H0V0z\" fill=\"none\"/>\n",
              "    <path d=\"M18.56 5.44l.94 2.06.94-2.06 2.06-.94-2.06-.94-.94-2.06-.94 2.06-2.06.94zm-11 1L8.5 8.5l.94-2.06 2.06-.94-2.06-.94L8.5 2.5l-.94 2.06-2.06.94zm10 10l.94 2.06.94-2.06 2.06-.94-2.06-.94-.94-2.06-.94 2.06-2.06.94z\"/><path d=\"M17.41 7.96l-1.37-1.37c-.4-.4-.92-.59-1.43-.59-.52 0-1.04.2-1.43.59L10.3 9.45l-7.72 7.72c-.78.78-.78 2.05 0 2.83L4 21.41c.39.39.9.59 1.41.59.51 0 1.02-.2 1.41-.59l7.78-7.78 2.81-2.81c.8-.78.8-2.07 0-2.86zM5.41 20L4 18.59l7.72-7.72 1.47 1.35L5.41 20z\"/>\n",
              "  </svg>\n",
              "      </button>\n",
              "      \n",
              "  <style>\n",
              "    .colab-df-container {\n",
              "      display:flex;\n",
              "      flex-wrap:wrap;\n",
              "      gap: 12px;\n",
              "    }\n",
              "\n",
              "    .colab-df-convert {\n",
              "      background-color: #E8F0FE;\n",
              "      border: none;\n",
              "      border-radius: 50%;\n",
              "      cursor: pointer;\n",
              "      display: none;\n",
              "      fill: #1967D2;\n",
              "      height: 32px;\n",
              "      padding: 0 0 0 0;\n",
              "      width: 32px;\n",
              "    }\n",
              "\n",
              "    .colab-df-convert:hover {\n",
              "      background-color: #E2EBFA;\n",
              "      box-shadow: 0px 1px 2px rgba(60, 64, 67, 0.3), 0px 1px 3px 1px rgba(60, 64, 67, 0.15);\n",
              "      fill: #174EA6;\n",
              "    }\n",
              "\n",
              "    [theme=dark] .colab-df-convert {\n",
              "      background-color: #3B4455;\n",
              "      fill: #D2E3FC;\n",
              "    }\n",
              "\n",
              "    [theme=dark] .colab-df-convert:hover {\n",
              "      background-color: #434B5C;\n",
              "      box-shadow: 0px 1px 3px 1px rgba(0, 0, 0, 0.15);\n",
              "      filter: drop-shadow(0px 1px 2px rgba(0, 0, 0, 0.3));\n",
              "      fill: #FFFFFF;\n",
              "    }\n",
              "  </style>\n",
              "\n",
              "      <script>\n",
              "        const buttonEl =\n",
              "          document.querySelector('#df-e0570663-2fb8-4ffb-9453-693199a38626 button.colab-df-convert');\n",
              "        buttonEl.style.display =\n",
              "          google.colab.kernel.accessAllowed ? 'block' : 'none';\n",
              "\n",
              "        async function convertToInteractive(key) {\n",
              "          const element = document.querySelector('#df-e0570663-2fb8-4ffb-9453-693199a38626');\n",
              "          const dataTable =\n",
              "            await google.colab.kernel.invokeFunction('convertToInteractive',\n",
              "                                                     [key], {});\n",
              "          if (!dataTable) return;\n",
              "\n",
              "          const docLinkHtml = 'Like what you see? Visit the ' +\n",
              "            '<a target=\"_blank\" href=https://colab.research.google.com/notebooks/data_table.ipynb>data table notebook</a>'\n",
              "            + ' to learn more about interactive tables.';\n",
              "          element.innerHTML = '';\n",
              "          dataTable['output_type'] = 'display_data';\n",
              "          await google.colab.output.renderOutput(dataTable, element);\n",
              "          const docLink = document.createElement('div');\n",
              "          docLink.innerHTML = docLinkHtml;\n",
              "          element.appendChild(docLink);\n",
              "        }\n",
              "      </script>\n",
              "    </div>\n",
              "  </div>\n",
              "  "
            ]
          },
          "metadata": {},
          "execution_count": 35
        }
      ],
      "source": [
        "build = profiles.groupby('source').agg({'user_id':'count', 'building_type':'sum'})\n",
        "build['mean'] = round(build['building_type'] / build['user_id'],2)\n",
        "build"
      ]
    },
    {
      "cell_type": "code",
      "execution_count": null,
      "metadata": {
        "colab": {
          "base_uri": "https://localhost:8080/",
          "height": 542
        },
        "id": "D-LtgyiOIUQV",
        "outputId": "5b77acc4-bcf5-48bb-abdb-5aa20bebbcaf"
      },
      "outputs": [
        {
          "output_type": "display_data",
          "data": {
            "text/html": [
              "<html>\n",
              "<head><meta charset=\"utf-8\" /></head>\n",
              "<body>\n",
              "    <div>            <script src=\"https://cdnjs.cloudflare.com/ajax/libs/mathjax/2.7.5/MathJax.js?config=TeX-AMS-MML_SVG\"></script><script type=\"text/javascript\">if (window.MathJax && window.MathJax.Hub && window.MathJax.Hub.Config) {window.MathJax.Hub.Config({SVG: {font: \"STIX-Web\"}});}</script>                <script type=\"text/javascript\">window.PlotlyConfig = {MathJaxConfig: 'local'};</script>\n",
              "        <script src=\"https://cdn.plot.ly/plotly-2.18.2.min.js\"></script>                <div id=\"8b8e33a7-9a18-4761-93dd-1761108133f2\" class=\"plotly-graph-div\" style=\"height:525px; width:100%;\"></div>            <script type=\"text/javascript\">                                    window.PLOTLYENV=window.PLOTLYENV || {};                                    if (document.getElementById(\"8b8e33a7-9a18-4761-93dd-1761108133f2\")) {                    Plotly.newPlot(                        \"8b8e33a7-9a18-4761-93dd-1761108133f2\",                        [{\"alignmentgroup\":\"True\",\"hovertemplate\":\"source=%{x}<br>mean=%{marker.color}<extra></extra>\",\"legendgroup\":\"\",\"marker\":{\"color\":[9.3,9.35,9.51,9.59],\"coloraxis\":\"coloraxis\",\"pattern\":{\"shape\":\"\"}},\"name\":\"\",\"offsetgroup\":\"\",\"orientation\":\"v\",\"showlegend\":false,\"text\":[9.3,9.35,9.51,9.59],\"textposition\":\"auto\",\"x\":[\"youtube_channel_reklama\",\"yandex_direct\",\"instagram_new_adverts\",\"facebook_ads\"],\"xaxis\":\"x\",\"y\":[9.3,9.35,9.51,9.59],\"yaxis\":\"y\",\"type\":\"bar\"}],                        {\"template\":{\"data\":{\"histogram2dcontour\":[{\"type\":\"histogram2dcontour\",\"colorbar\":{\"outlinewidth\":0,\"ticks\":\"\"},\"colorscale\":[[0.0,\"#0d0887\"],[0.1111111111111111,\"#46039f\"],[0.2222222222222222,\"#7201a8\"],[0.3333333333333333,\"#9c179e\"],[0.4444444444444444,\"#bd3786\"],[0.5555555555555556,\"#d8576b\"],[0.6666666666666666,\"#ed7953\"],[0.7777777777777778,\"#fb9f3a\"],[0.8888888888888888,\"#fdca26\"],[1.0,\"#f0f921\"]]}],\"choropleth\":[{\"type\":\"choropleth\",\"colorbar\":{\"outlinewidth\":0,\"ticks\":\"\"}}],\"histogram2d\":[{\"type\":\"histogram2d\",\"colorbar\":{\"outlinewidth\":0,\"ticks\":\"\"},\"colorscale\":[[0.0,\"#0d0887\"],[0.1111111111111111,\"#46039f\"],[0.2222222222222222,\"#7201a8\"],[0.3333333333333333,\"#9c179e\"],[0.4444444444444444,\"#bd3786\"],[0.5555555555555556,\"#d8576b\"],[0.6666666666666666,\"#ed7953\"],[0.7777777777777778,\"#fb9f3a\"],[0.8888888888888888,\"#fdca26\"],[1.0,\"#f0f921\"]]}],\"heatmap\":[{\"type\":\"heatmap\",\"colorbar\":{\"outlinewidth\":0,\"ticks\":\"\"},\"colorscale\":[[0.0,\"#0d0887\"],[0.1111111111111111,\"#46039f\"],[0.2222222222222222,\"#7201a8\"],[0.3333333333333333,\"#9c179e\"],[0.4444444444444444,\"#bd3786\"],[0.5555555555555556,\"#d8576b\"],[0.6666666666666666,\"#ed7953\"],[0.7777777777777778,\"#fb9f3a\"],[0.8888888888888888,\"#fdca26\"],[1.0,\"#f0f921\"]]}],\"heatmapgl\":[{\"type\":\"heatmapgl\",\"colorbar\":{\"outlinewidth\":0,\"ticks\":\"\"},\"colorscale\":[[0.0,\"#0d0887\"],[0.1111111111111111,\"#46039f\"],[0.2222222222222222,\"#7201a8\"],[0.3333333333333333,\"#9c179e\"],[0.4444444444444444,\"#bd3786\"],[0.5555555555555556,\"#d8576b\"],[0.6666666666666666,\"#ed7953\"],[0.7777777777777778,\"#fb9f3a\"],[0.8888888888888888,\"#fdca26\"],[1.0,\"#f0f921\"]]}],\"contourcarpet\":[{\"type\":\"contourcarpet\",\"colorbar\":{\"outlinewidth\":0,\"ticks\":\"\"}}],\"contour\":[{\"type\":\"contour\",\"colorbar\":{\"outlinewidth\":0,\"ticks\":\"\"},\"colorscale\":[[0.0,\"#0d0887\"],[0.1111111111111111,\"#46039f\"],[0.2222222222222222,\"#7201a8\"],[0.3333333333333333,\"#9c179e\"],[0.4444444444444444,\"#bd3786\"],[0.5555555555555556,\"#d8576b\"],[0.6666666666666666,\"#ed7953\"],[0.7777777777777778,\"#fb9f3a\"],[0.8888888888888888,\"#fdca26\"],[1.0,\"#f0f921\"]]}],\"surface\":[{\"type\":\"surface\",\"colorbar\":{\"outlinewidth\":0,\"ticks\":\"\"},\"colorscale\":[[0.0,\"#0d0887\"],[0.1111111111111111,\"#46039f\"],[0.2222222222222222,\"#7201a8\"],[0.3333333333333333,\"#9c179e\"],[0.4444444444444444,\"#bd3786\"],[0.5555555555555556,\"#d8576b\"],[0.6666666666666666,\"#ed7953\"],[0.7777777777777778,\"#fb9f3a\"],[0.8888888888888888,\"#fdca26\"],[1.0,\"#f0f921\"]]}],\"mesh3d\":[{\"type\":\"mesh3d\",\"colorbar\":{\"outlinewidth\":0,\"ticks\":\"\"}}],\"scatter\":[{\"fillpattern\":{\"fillmode\":\"overlay\",\"size\":10,\"solidity\":0.2},\"type\":\"scatter\"}],\"parcoords\":[{\"type\":\"parcoords\",\"line\":{\"colorbar\":{\"outlinewidth\":0,\"ticks\":\"\"}}}],\"scatterpolargl\":[{\"type\":\"scatterpolargl\",\"marker\":{\"colorbar\":{\"outlinewidth\":0,\"ticks\":\"\"}}}],\"bar\":[{\"error_x\":{\"color\":\"#2a3f5f\"},\"error_y\":{\"color\":\"#2a3f5f\"},\"marker\":{\"line\":{\"color\":\"#E5ECF6\",\"width\":0.5},\"pattern\":{\"fillmode\":\"overlay\",\"size\":10,\"solidity\":0.2}},\"type\":\"bar\"}],\"scattergeo\":[{\"type\":\"scattergeo\",\"marker\":{\"colorbar\":{\"outlinewidth\":0,\"ticks\":\"\"}}}],\"scatterpolar\":[{\"type\":\"scatterpolar\",\"marker\":{\"colorbar\":{\"outlinewidth\":0,\"ticks\":\"\"}}}],\"histogram\":[{\"marker\":{\"pattern\":{\"fillmode\":\"overlay\",\"size\":10,\"solidity\":0.2}},\"type\":\"histogram\"}],\"scattergl\":[{\"type\":\"scattergl\",\"marker\":{\"colorbar\":{\"outlinewidth\":0,\"ticks\":\"\"}}}],\"scatter3d\":[{\"type\":\"scatter3d\",\"line\":{\"colorbar\":{\"outlinewidth\":0,\"ticks\":\"\"}},\"marker\":{\"colorbar\":{\"outlinewidth\":0,\"ticks\":\"\"}}}],\"scattermapbox\":[{\"type\":\"scattermapbox\",\"marker\":{\"colorbar\":{\"outlinewidth\":0,\"ticks\":\"\"}}}],\"scatterternary\":[{\"type\":\"scatterternary\",\"marker\":{\"colorbar\":{\"outlinewidth\":0,\"ticks\":\"\"}}}],\"scattercarpet\":[{\"type\":\"scattercarpet\",\"marker\":{\"colorbar\":{\"outlinewidth\":0,\"ticks\":\"\"}}}],\"carpet\":[{\"aaxis\":{\"endlinecolor\":\"#2a3f5f\",\"gridcolor\":\"white\",\"linecolor\":\"white\",\"minorgridcolor\":\"white\",\"startlinecolor\":\"#2a3f5f\"},\"baxis\":{\"endlinecolor\":\"#2a3f5f\",\"gridcolor\":\"white\",\"linecolor\":\"white\",\"minorgridcolor\":\"white\",\"startlinecolor\":\"#2a3f5f\"},\"type\":\"carpet\"}],\"table\":[{\"cells\":{\"fill\":{\"color\":\"#EBF0F8\"},\"line\":{\"color\":\"white\"}},\"header\":{\"fill\":{\"color\":\"#C8D4E3\"},\"line\":{\"color\":\"white\"}},\"type\":\"table\"}],\"barpolar\":[{\"marker\":{\"line\":{\"color\":\"#E5ECF6\",\"width\":0.5},\"pattern\":{\"fillmode\":\"overlay\",\"size\":10,\"solidity\":0.2}},\"type\":\"barpolar\"}],\"pie\":[{\"automargin\":true,\"type\":\"pie\"}]},\"layout\":{\"autotypenumbers\":\"strict\",\"colorway\":[\"#636efa\",\"#EF553B\",\"#00cc96\",\"#ab63fa\",\"#FFA15A\",\"#19d3f3\",\"#FF6692\",\"#B6E880\",\"#FF97FF\",\"#FECB52\"],\"font\":{\"color\":\"#2a3f5f\"},\"hovermode\":\"closest\",\"hoverlabel\":{\"align\":\"left\"},\"paper_bgcolor\":\"white\",\"plot_bgcolor\":\"#E5ECF6\",\"polar\":{\"bgcolor\":\"#E5ECF6\",\"angularaxis\":{\"gridcolor\":\"white\",\"linecolor\":\"white\",\"ticks\":\"\"},\"radialaxis\":{\"gridcolor\":\"white\",\"linecolor\":\"white\",\"ticks\":\"\"}},\"ternary\":{\"bgcolor\":\"#E5ECF6\",\"aaxis\":{\"gridcolor\":\"white\",\"linecolor\":\"white\",\"ticks\":\"\"},\"baxis\":{\"gridcolor\":\"white\",\"linecolor\":\"white\",\"ticks\":\"\"},\"caxis\":{\"gridcolor\":\"white\",\"linecolor\":\"white\",\"ticks\":\"\"}},\"coloraxis\":{\"colorbar\":{\"outlinewidth\":0,\"ticks\":\"\"}},\"colorscale\":{\"sequential\":[[0.0,\"#0d0887\"],[0.1111111111111111,\"#46039f\"],[0.2222222222222222,\"#7201a8\"],[0.3333333333333333,\"#9c179e\"],[0.4444444444444444,\"#bd3786\"],[0.5555555555555556,\"#d8576b\"],[0.6666666666666666,\"#ed7953\"],[0.7777777777777778,\"#fb9f3a\"],[0.8888888888888888,\"#fdca26\"],[1.0,\"#f0f921\"]],\"sequentialminus\":[[0.0,\"#0d0887\"],[0.1111111111111111,\"#46039f\"],[0.2222222222222222,\"#7201a8\"],[0.3333333333333333,\"#9c179e\"],[0.4444444444444444,\"#bd3786\"],[0.5555555555555556,\"#d8576b\"],[0.6666666666666666,\"#ed7953\"],[0.7777777777777778,\"#fb9f3a\"],[0.8888888888888888,\"#fdca26\"],[1.0,\"#f0f921\"]],\"diverging\":[[0,\"#8e0152\"],[0.1,\"#c51b7d\"],[0.2,\"#de77ae\"],[0.3,\"#f1b6da\"],[0.4,\"#fde0ef\"],[0.5,\"#f7f7f7\"],[0.6,\"#e6f5d0\"],[0.7,\"#b8e186\"],[0.8,\"#7fbc41\"],[0.9,\"#4d9221\"],[1,\"#276419\"]]},\"xaxis\":{\"gridcolor\":\"white\",\"linecolor\":\"white\",\"ticks\":\"\",\"title\":{\"standoff\":15},\"zerolinecolor\":\"white\",\"automargin\":true,\"zerolinewidth\":2},\"yaxis\":{\"gridcolor\":\"white\",\"linecolor\":\"white\",\"ticks\":\"\",\"title\":{\"standoff\":15},\"zerolinecolor\":\"white\",\"automargin\":true,\"zerolinewidth\":2},\"scene\":{\"xaxis\":{\"backgroundcolor\":\"#E5ECF6\",\"gridcolor\":\"white\",\"linecolor\":\"white\",\"showbackground\":true,\"ticks\":\"\",\"zerolinecolor\":\"white\",\"gridwidth\":2},\"yaxis\":{\"backgroundcolor\":\"#E5ECF6\",\"gridcolor\":\"white\",\"linecolor\":\"white\",\"showbackground\":true,\"ticks\":\"\",\"zerolinecolor\":\"white\",\"gridwidth\":2},\"zaxis\":{\"backgroundcolor\":\"#E5ECF6\",\"gridcolor\":\"white\",\"linecolor\":\"white\",\"showbackground\":true,\"ticks\":\"\",\"zerolinecolor\":\"white\",\"gridwidth\":2}},\"shapedefaults\":{\"line\":{\"color\":\"#2a3f5f\"}},\"annotationdefaults\":{\"arrowcolor\":\"#2a3f5f\",\"arrowhead\":0,\"arrowwidth\":1},\"geo\":{\"bgcolor\":\"white\",\"landcolor\":\"#E5ECF6\",\"subunitcolor\":\"white\",\"showland\":true,\"showlakes\":true,\"lakecolor\":\"white\"},\"title\":{\"x\":0.05},\"mapbox\":{\"style\":\"light\"}}},\"xaxis\":{\"anchor\":\"y\",\"domain\":[0.0,1.0],\"title\":{\"text\":\"source\"}},\"yaxis\":{\"anchor\":\"x\",\"domain\":[0.0,1.0],\"title\":{\"text\":\"mean\"},\"range\":[9.1,9.7]},\"coloraxis\":{\"colorbar\":{\"title\":{\"text\":\"mean\"}},\"colorscale\":[[0.0,\"#0d0887\"],[0.1111111111111111,\"#46039f\"],[0.2222222222222222,\"#7201a8\"],[0.3333333333333333,\"#9c179e\"],[0.4444444444444444,\"#bd3786\"],[0.5555555555555556,\"#d8576b\"],[0.6666666666666666,\"#ed7953\"],[0.7777777777777778,\"#fb9f3a\"],[0.8888888888888888,\"#fdca26\"],[1.0,\"#f0f921\"]]},\"legend\":{\"tracegroupgap\":0},\"title\":{\"text\":\"\\u0421\\u0440\\u0435\\u0434\\u043d\\u0435\\u0435 \\u0432\\u0440\\u0435\\u043c\\u044f \\u043f\\u0440\\u043e\\u0432\\u0435\\u0434\\u0435\\u043d\\u043d\\u043e\\u0435 \\u0432 \\u0438\\u0433\\u0440\\u0435 \\u043e\\u0434\\u043d\\u043e\\u0433\\u043e \\u043f\\u043e\\u043b\\u044c\\u0437\\u043e\\u0432\\u0430\\u0442\\u0435\\u043b\\u044f \\u043f\\u043e \\u0438\\u0441\\u0442\\u043e\\u0447\\u043d\\u0438\\u043a\\u0430\\u043c \\u0432 \\u0434\\u043d\\u044f\\u0445\"},\"barmode\":\"relative\"},                        {\"responsive\": true}                    ).then(function(){\n",
              "                            \n",
              "var gd = document.getElementById('8b8e33a7-9a18-4761-93dd-1761108133f2');\n",
              "var x = new MutationObserver(function (mutations, observer) {{\n",
              "        var display = window.getComputedStyle(gd).display;\n",
              "        if (!display || display === 'none') {{\n",
              "            console.log([gd, 'removed!']);\n",
              "            Plotly.purge(gd);\n",
              "            observer.disconnect();\n",
              "        }}\n",
              "}});\n",
              "\n",
              "// Listen for the removal of the full notebook cells\n",
              "var notebookContainer = gd.closest('#notebook-container');\n",
              "if (notebookContainer) {{\n",
              "    x.observe(notebookContainer, {childList: true});\n",
              "}}\n",
              "\n",
              "// Listen for the clearing of the current output cell\n",
              "var outputEl = gd.closest('.output');\n",
              "if (outputEl) {{\n",
              "    x.observe(outputEl, {childList: true});\n",
              "}}\n",
              "\n",
              "                        })                };                            </script>        </div>\n",
              "</body>\n",
              "</html>"
            ]
          },
          "metadata": {}
        }
      ],
      "source": [
        "fig = px.bar(build.reset_index().sort_values(by='mean'), x='source', y='mean', text='mean', color = 'mean',  title ='Среднее время проведенное в игре одного пользователя по источникам в днях')\n",
        "fig.update_yaxes(range=[9.1, 9.7])\n",
        "fig.show()"
      ]
    },
    {
      "cell_type": "markdown",
      "metadata": {
        "id": "KqnVMOnmIUQV"
      },
      "source": [
        "**Комментарий**\n",
        "\n",
        "ПО данной метрике лидер так же **yandex_direct**, пользователи из данного источника проходят первый уровень больше чем из остальных, это показывает вовлеченность в игровой процесс и лояльность к продукту"
      ]
    },
    {
      "cell_type": "code",
      "execution_count": null,
      "metadata": {
        "id": "VmL4sdCSIUQX"
      },
      "outputs": [],
      "source": [
        "#исследовать качество привлеченных пользовтателей, по проценту завершивших и доли стратегий\n",
        "\n",
        "prod = (game[game['event'] != 'building']\n",
        "            .groupby('event')\n",
        "            .agg({'user_id':'count'})\n",
        "            .reset_index()\n",
        "            .rename(columns={'user_id':'count'}))\n",
        "\n",
        "pvp = (prod[prod['event'] == 'finished_stage_1']['count'][0] -\n",
        "       prod[prod['event'] == 'project']['count'][1])\n",
        "\n",
        "prod = pd.concat([prod, pd.DataFrame({'event':['pvp'], 'count':pvp})])\n",
        "\n",
        "prod = prod.query('event != \"finished_stage_1\"')"
      ]
    },
    {
      "cell_type": "code",
      "execution_count": null,
      "metadata": {
        "colab": {
          "base_uri": "https://localhost:8080/",
          "height": 542
        },
        "id": "3gkoo-dnIUQX",
        "outputId": "b6d37b7c-ea32-41e5-b957-d572db50b9b1"
      },
      "outputs": [
        {
          "output_type": "display_data",
          "data": {
            "text/html": [
              "<html>\n",
              "<head><meta charset=\"utf-8\" /></head>\n",
              "<body>\n",
              "    <div>            <script src=\"https://cdnjs.cloudflare.com/ajax/libs/mathjax/2.7.5/MathJax.js?config=TeX-AMS-MML_SVG\"></script><script type=\"text/javascript\">if (window.MathJax && window.MathJax.Hub && window.MathJax.Hub.Config) {window.MathJax.Hub.Config({SVG: {font: \"STIX-Web\"}});}</script>                <script type=\"text/javascript\">window.PlotlyConfig = {MathJaxConfig: 'local'};</script>\n",
              "        <script src=\"https://cdn.plot.ly/plotly-2.18.2.min.js\"></script>                <div id=\"1ed401db-ad2a-4422-98e9-e9c8b0b4872f\" class=\"plotly-graph-div\" style=\"height:525px; width:100%;\"></div>            <script type=\"text/javascript\">                                    window.PLOTLYENV=window.PLOTLYENV || {};                                    if (document.getElementById(\"1ed401db-ad2a-4422-98e9-e9c8b0b4872f\")) {                    Plotly.newPlot(                        \"1ed401db-ad2a-4422-98e9-e9c8b0b4872f\",                        [{\"labels\":[\"pvp\",\"pve\"],\"values\":[1866,3951],\"type\":\"pie\"}],                        {\"title\":{\"text\":\"\\u0414\\u043e\\u043b\\u044f \\u043f\\u043e\\u043b\\u044c\\u0437\\u043e\\u0432\\u0430\\u0442\\u0435\\u043b\\u0435\\u0439 \\u0437\\u0430\\u0432\\u0435\\u0440\\u0448\\u0438\\u0432\\u0448\\u0438\\u0445 \\u043f\\u0440\\u043e\\u0435\\u043a\\u0442\"},\"template\":{\"data\":{\"histogram2dcontour\":[{\"type\":\"histogram2dcontour\",\"colorbar\":{\"outlinewidth\":0,\"ticks\":\"\"},\"colorscale\":[[0.0,\"#0d0887\"],[0.1111111111111111,\"#46039f\"],[0.2222222222222222,\"#7201a8\"],[0.3333333333333333,\"#9c179e\"],[0.4444444444444444,\"#bd3786\"],[0.5555555555555556,\"#d8576b\"],[0.6666666666666666,\"#ed7953\"],[0.7777777777777778,\"#fb9f3a\"],[0.8888888888888888,\"#fdca26\"],[1.0,\"#f0f921\"]]}],\"choropleth\":[{\"type\":\"choropleth\",\"colorbar\":{\"outlinewidth\":0,\"ticks\":\"\"}}],\"histogram2d\":[{\"type\":\"histogram2d\",\"colorbar\":{\"outlinewidth\":0,\"ticks\":\"\"},\"colorscale\":[[0.0,\"#0d0887\"],[0.1111111111111111,\"#46039f\"],[0.2222222222222222,\"#7201a8\"],[0.3333333333333333,\"#9c179e\"],[0.4444444444444444,\"#bd3786\"],[0.5555555555555556,\"#d8576b\"],[0.6666666666666666,\"#ed7953\"],[0.7777777777777778,\"#fb9f3a\"],[0.8888888888888888,\"#fdca26\"],[1.0,\"#f0f921\"]]}],\"heatmap\":[{\"type\":\"heatmap\",\"colorbar\":{\"outlinewidth\":0,\"ticks\":\"\"},\"colorscale\":[[0.0,\"#0d0887\"],[0.1111111111111111,\"#46039f\"],[0.2222222222222222,\"#7201a8\"],[0.3333333333333333,\"#9c179e\"],[0.4444444444444444,\"#bd3786\"],[0.5555555555555556,\"#d8576b\"],[0.6666666666666666,\"#ed7953\"],[0.7777777777777778,\"#fb9f3a\"],[0.8888888888888888,\"#fdca26\"],[1.0,\"#f0f921\"]]}],\"heatmapgl\":[{\"type\":\"heatmapgl\",\"colorbar\":{\"outlinewidth\":0,\"ticks\":\"\"},\"colorscale\":[[0.0,\"#0d0887\"],[0.1111111111111111,\"#46039f\"],[0.2222222222222222,\"#7201a8\"],[0.3333333333333333,\"#9c179e\"],[0.4444444444444444,\"#bd3786\"],[0.5555555555555556,\"#d8576b\"],[0.6666666666666666,\"#ed7953\"],[0.7777777777777778,\"#fb9f3a\"],[0.8888888888888888,\"#fdca26\"],[1.0,\"#f0f921\"]]}],\"contourcarpet\":[{\"type\":\"contourcarpet\",\"colorbar\":{\"outlinewidth\":0,\"ticks\":\"\"}}],\"contour\":[{\"type\":\"contour\",\"colorbar\":{\"outlinewidth\":0,\"ticks\":\"\"},\"colorscale\":[[0.0,\"#0d0887\"],[0.1111111111111111,\"#46039f\"],[0.2222222222222222,\"#7201a8\"],[0.3333333333333333,\"#9c179e\"],[0.4444444444444444,\"#bd3786\"],[0.5555555555555556,\"#d8576b\"],[0.6666666666666666,\"#ed7953\"],[0.7777777777777778,\"#fb9f3a\"],[0.8888888888888888,\"#fdca26\"],[1.0,\"#f0f921\"]]}],\"surface\":[{\"type\":\"surface\",\"colorbar\":{\"outlinewidth\":0,\"ticks\":\"\"},\"colorscale\":[[0.0,\"#0d0887\"],[0.1111111111111111,\"#46039f\"],[0.2222222222222222,\"#7201a8\"],[0.3333333333333333,\"#9c179e\"],[0.4444444444444444,\"#bd3786\"],[0.5555555555555556,\"#d8576b\"],[0.6666666666666666,\"#ed7953\"],[0.7777777777777778,\"#fb9f3a\"],[0.8888888888888888,\"#fdca26\"],[1.0,\"#f0f921\"]]}],\"mesh3d\":[{\"type\":\"mesh3d\",\"colorbar\":{\"outlinewidth\":0,\"ticks\":\"\"}}],\"scatter\":[{\"fillpattern\":{\"fillmode\":\"overlay\",\"size\":10,\"solidity\":0.2},\"type\":\"scatter\"}],\"parcoords\":[{\"type\":\"parcoords\",\"line\":{\"colorbar\":{\"outlinewidth\":0,\"ticks\":\"\"}}}],\"scatterpolargl\":[{\"type\":\"scatterpolargl\",\"marker\":{\"colorbar\":{\"outlinewidth\":0,\"ticks\":\"\"}}}],\"bar\":[{\"error_x\":{\"color\":\"#2a3f5f\"},\"error_y\":{\"color\":\"#2a3f5f\"},\"marker\":{\"line\":{\"color\":\"#E5ECF6\",\"width\":0.5},\"pattern\":{\"fillmode\":\"overlay\",\"size\":10,\"solidity\":0.2}},\"type\":\"bar\"}],\"scattergeo\":[{\"type\":\"scattergeo\",\"marker\":{\"colorbar\":{\"outlinewidth\":0,\"ticks\":\"\"}}}],\"scatterpolar\":[{\"type\":\"scatterpolar\",\"marker\":{\"colorbar\":{\"outlinewidth\":0,\"ticks\":\"\"}}}],\"histogram\":[{\"marker\":{\"pattern\":{\"fillmode\":\"overlay\",\"size\":10,\"solidity\":0.2}},\"type\":\"histogram\"}],\"scattergl\":[{\"type\":\"scattergl\",\"marker\":{\"colorbar\":{\"outlinewidth\":0,\"ticks\":\"\"}}}],\"scatter3d\":[{\"type\":\"scatter3d\",\"line\":{\"colorbar\":{\"outlinewidth\":0,\"ticks\":\"\"}},\"marker\":{\"colorbar\":{\"outlinewidth\":0,\"ticks\":\"\"}}}],\"scattermapbox\":[{\"type\":\"scattermapbox\",\"marker\":{\"colorbar\":{\"outlinewidth\":0,\"ticks\":\"\"}}}],\"scatterternary\":[{\"type\":\"scatterternary\",\"marker\":{\"colorbar\":{\"outlinewidth\":0,\"ticks\":\"\"}}}],\"scattercarpet\":[{\"type\":\"scattercarpet\",\"marker\":{\"colorbar\":{\"outlinewidth\":0,\"ticks\":\"\"}}}],\"carpet\":[{\"aaxis\":{\"endlinecolor\":\"#2a3f5f\",\"gridcolor\":\"white\",\"linecolor\":\"white\",\"minorgridcolor\":\"white\",\"startlinecolor\":\"#2a3f5f\"},\"baxis\":{\"endlinecolor\":\"#2a3f5f\",\"gridcolor\":\"white\",\"linecolor\":\"white\",\"minorgridcolor\":\"white\",\"startlinecolor\":\"#2a3f5f\"},\"type\":\"carpet\"}],\"table\":[{\"cells\":{\"fill\":{\"color\":\"#EBF0F8\"},\"line\":{\"color\":\"white\"}},\"header\":{\"fill\":{\"color\":\"#C8D4E3\"},\"line\":{\"color\":\"white\"}},\"type\":\"table\"}],\"barpolar\":[{\"marker\":{\"line\":{\"color\":\"#E5ECF6\",\"width\":0.5},\"pattern\":{\"fillmode\":\"overlay\",\"size\":10,\"solidity\":0.2}},\"type\":\"barpolar\"}],\"pie\":[{\"automargin\":true,\"type\":\"pie\"}]},\"layout\":{\"autotypenumbers\":\"strict\",\"colorway\":[\"#636efa\",\"#EF553B\",\"#00cc96\",\"#ab63fa\",\"#FFA15A\",\"#19d3f3\",\"#FF6692\",\"#B6E880\",\"#FF97FF\",\"#FECB52\"],\"font\":{\"color\":\"#2a3f5f\"},\"hovermode\":\"closest\",\"hoverlabel\":{\"align\":\"left\"},\"paper_bgcolor\":\"white\",\"plot_bgcolor\":\"#E5ECF6\",\"polar\":{\"bgcolor\":\"#E5ECF6\",\"angularaxis\":{\"gridcolor\":\"white\",\"linecolor\":\"white\",\"ticks\":\"\"},\"radialaxis\":{\"gridcolor\":\"white\",\"linecolor\":\"white\",\"ticks\":\"\"}},\"ternary\":{\"bgcolor\":\"#E5ECF6\",\"aaxis\":{\"gridcolor\":\"white\",\"linecolor\":\"white\",\"ticks\":\"\"},\"baxis\":{\"gridcolor\":\"white\",\"linecolor\":\"white\",\"ticks\":\"\"},\"caxis\":{\"gridcolor\":\"white\",\"linecolor\":\"white\",\"ticks\":\"\"}},\"coloraxis\":{\"colorbar\":{\"outlinewidth\":0,\"ticks\":\"\"}},\"colorscale\":{\"sequential\":[[0.0,\"#0d0887\"],[0.1111111111111111,\"#46039f\"],[0.2222222222222222,\"#7201a8\"],[0.3333333333333333,\"#9c179e\"],[0.4444444444444444,\"#bd3786\"],[0.5555555555555556,\"#d8576b\"],[0.6666666666666666,\"#ed7953\"],[0.7777777777777778,\"#fb9f3a\"],[0.8888888888888888,\"#fdca26\"],[1.0,\"#f0f921\"]],\"sequentialminus\":[[0.0,\"#0d0887\"],[0.1111111111111111,\"#46039f\"],[0.2222222222222222,\"#7201a8\"],[0.3333333333333333,\"#9c179e\"],[0.4444444444444444,\"#bd3786\"],[0.5555555555555556,\"#d8576b\"],[0.6666666666666666,\"#ed7953\"],[0.7777777777777778,\"#fb9f3a\"],[0.8888888888888888,\"#fdca26\"],[1.0,\"#f0f921\"]],\"diverging\":[[0,\"#8e0152\"],[0.1,\"#c51b7d\"],[0.2,\"#de77ae\"],[0.3,\"#f1b6da\"],[0.4,\"#fde0ef\"],[0.5,\"#f7f7f7\"],[0.6,\"#e6f5d0\"],[0.7,\"#b8e186\"],[0.8,\"#7fbc41\"],[0.9,\"#4d9221\"],[1,\"#276419\"]]},\"xaxis\":{\"gridcolor\":\"white\",\"linecolor\":\"white\",\"ticks\":\"\",\"title\":{\"standoff\":15},\"zerolinecolor\":\"white\",\"automargin\":true,\"zerolinewidth\":2},\"yaxis\":{\"gridcolor\":\"white\",\"linecolor\":\"white\",\"ticks\":\"\",\"title\":{\"standoff\":15},\"zerolinecolor\":\"white\",\"automargin\":true,\"zerolinewidth\":2},\"scene\":{\"xaxis\":{\"backgroundcolor\":\"#E5ECF6\",\"gridcolor\":\"white\",\"linecolor\":\"white\",\"showbackground\":true,\"ticks\":\"\",\"zerolinecolor\":\"white\",\"gridwidth\":2},\"yaxis\":{\"backgroundcolor\":\"#E5ECF6\",\"gridcolor\":\"white\",\"linecolor\":\"white\",\"showbackground\":true,\"ticks\":\"\",\"zerolinecolor\":\"white\",\"gridwidth\":2},\"zaxis\":{\"backgroundcolor\":\"#E5ECF6\",\"gridcolor\":\"white\",\"linecolor\":\"white\",\"showbackground\":true,\"ticks\":\"\",\"zerolinecolor\":\"white\",\"gridwidth\":2}},\"shapedefaults\":{\"line\":{\"color\":\"#2a3f5f\"}},\"annotationdefaults\":{\"arrowcolor\":\"#2a3f5f\",\"arrowhead\":0,\"arrowwidth\":1},\"geo\":{\"bgcolor\":\"white\",\"landcolor\":\"#E5ECF6\",\"subunitcolor\":\"white\",\"showland\":true,\"showlakes\":true,\"lakecolor\":\"white\"},\"title\":{\"x\":0.05},\"mapbox\":{\"style\":\"light\"}}}},                        {\"responsive\": true}                    ).then(function(){\n",
              "                            \n",
              "var gd = document.getElementById('1ed401db-ad2a-4422-98e9-e9c8b0b4872f');\n",
              "var x = new MutationObserver(function (mutations, observer) {{\n",
              "        var display = window.getComputedStyle(gd).display;\n",
              "        if (!display || display === 'none') {{\n",
              "            console.log([gd, 'removed!']);\n",
              "            Plotly.purge(gd);\n",
              "            observer.disconnect();\n",
              "        }}\n",
              "}});\n",
              "\n",
              "// Listen for the removal of the full notebook cells\n",
              "var notebookContainer = gd.closest('#notebook-container');\n",
              "if (notebookContainer) {{\n",
              "    x.observe(notebookContainer, {childList: true});\n",
              "}}\n",
              "\n",
              "// Listen for the clearing of the current output cell\n",
              "var outputEl = gd.closest('.output');\n",
              "if (outputEl) {{\n",
              "    x.observe(outputEl, {childList: true});\n",
              "}}\n",
              "\n",
              "                        })                };                            </script>        </div>\n",
              "</body>\n",
              "</html>"
            ]
          },
          "metadata": {}
        }
      ],
      "source": [
        "fig = go.Figure(data=[go.Pie(labels=['pvp', 'pve'], values=prod['count'])],\n",
        "                layout=go.Layout(\n",
        "        title=go.layout.Title(text=\"Доля пользователей завершивших проект\")\n",
        "                )\n",
        "               )\n",
        "fig.show()"
      ]
    },
    {
      "cell_type": "markdown",
      "metadata": {
        "id": "d9G_CHTBIUQX"
      },
      "source": [
        "**Коментарий**\n",
        "\n",
        "Доля ПВЕ значительно выше"
      ]
    },
    {
      "cell_type": "markdown",
      "metadata": {
        "id": "ahkkpmOmIUQY"
      },
      "source": [
        "##  Проверка статистические гипотезы:\n",
        "    \n",
        "- Проверить гипотезу: время завершения уровня различается в зависимости способа прохождения:\n",
        "        - через реализацию проекта,\n",
        "        - через победу над первым игроком.\n",
        "        "
      ]
    },
    {
      "cell_type": "code",
      "execution_count": null,
      "metadata": {
        "id": "wNvZCKLcIUQY"
      },
      "outputs": [],
      "source": [
        "pve = filter_data[filter_data['project_type'] == 'satellite_orbital_assembly'][['user_id', 'project_type']]\n",
        "finish_game = filter_data[(filter_data['project_type'] == 'finish')][['user_id', 'project_type']]\n",
        "pvp_h = finish_game[~finish_game.isin(pve['user_id'].unique())].dropna()"
      ]
    },
    {
      "cell_type": "code",
      "execution_count": null,
      "metadata": {
        "id": "VPJcl4I7IUQZ"
      },
      "outputs": [],
      "source": [
        "pve = pve.merge(time)"
      ]
    },
    {
      "cell_type": "code",
      "execution_count": null,
      "metadata": {
        "id": "UObIHzYDIUQZ"
      },
      "outputs": [],
      "source": [
        "pve = pve['level_time_sec'].to_list()"
      ]
    },
    {
      "cell_type": "code",
      "execution_count": null,
      "metadata": {
        "id": "zZbLwqmEIUQZ"
      },
      "outputs": [],
      "source": [
        "pvp_h = pvp_h.merge(time)"
      ]
    },
    {
      "cell_type": "code",
      "execution_count": null,
      "metadata": {
        "id": "eAhSyTBdIUQZ"
      },
      "outputs": [],
      "source": [
        "pvp_h = pvp_h['level_time_sec'].to_list()"
      ]
    },
    {
      "cell_type": "code",
      "execution_count": null,
      "metadata": {
        "colab": {
          "base_uri": "https://localhost:8080/"
        },
        "id": "FdHQvMLxIUQa",
        "outputId": "826f63a8-f3e0-4147-dc5c-89c75e354a87"
      },
      "outputs": [
        {
          "output_type": "stream",
          "name": "stdout",
          "text": [
            "пи-значение: 7.256845329495443e-98\n",
            "отвергаем H0\n"
          ]
        }
      ],
      "source": [
        "from scipy import stats as st\n",
        "alpha = 0.05\n",
        "results = st.ttest_ind(pve,pvp_h)\n",
        "print('пи-значение:', results.pvalue)\n",
        "if results.pvalue <alpha:\n",
        "    print('отвергаем H0')\n",
        "else:\n",
        "     print('не отвергаем H0')"
      ]
    },
    {
      "cell_type": "markdown",
      "metadata": {
        "id": "bNj62ufUIUQa"
      },
      "source": [
        "**Комментарий**\n",
        "\n",
        "Время прохождения уровня зависит от способа"
      ]
    },
    {
      "cell_type": "markdown",
      "metadata": {
        "id": "WMongsXuIUQb"
      },
      "source": [
        "  Гипотеза 2 - есть ли разница при выборе стратегии ПВЕ между рекламными каналами?\n",
        "  \n",
        "\n",
        "- H0: Доля игроков выбравших стретгию ПВЕ не зависит от источника привлечения\n",
        "    \n",
        "- H1: Доля игроков выбравших стретгию ПВЕ зависит от источника првлечения\n",
        "\n",
        "        \n",
        "В качестве статистического метода выберем z-тест     \n",
        "\n"
      ]
    },
    {
      "cell_type": "code",
      "execution_count": null,
      "metadata": {
        "colab": {
          "base_uri": "https://localhost:8080/"
        },
        "id": "33f_CMvIIUQd",
        "outputId": "b390bf77-12bf-41bb-ff4a-b21e94569676"
      },
      "outputs": [
        {
          "output_type": "execute_result",
          "data": {
            "text/plain": [
              "array(['Уровень не пройден', 'PVP', 'PVE'], dtype=object)"
            ]
          },
          "metadata": {},
          "execution_count": 45
        }
      ],
      "source": [
        "profiles.loc[(profiles['event'] == 'finished_stage_1') & (profiles['project_type'].isna()), 'finish_type'] = 'PVP'\n",
        "profiles.loc[(profiles['event'] == 'finished_stage_1') & (profiles['project_type'].isna()  == False), 'finish_type'] = 'PVE'\n",
        "profiles['finish_type'] = profiles['finish_type'].fillna('Уровень не пройден')\n",
        "profiles['finish_type'].unique()"
      ]
    },
    {
      "cell_type": "code",
      "execution_count": null,
      "metadata": {
        "id": "SvCJURGVIUQe"
      },
      "outputs": [],
      "source": [
        "import math as mth\n",
        "from statsmodels.stats.proportion import proportions_ztest"
      ]
    },
    {
      "cell_type": "code",
      "execution_count": null,
      "metadata": {
        "colab": {
          "base_uri": "https://localhost:8080/"
        },
        "id": "KgtK6k0JIUQf",
        "outputId": "d96bcddf-3de6-495b-cfdb-db4bd6abbc38"
      },
      "outputs": [
        {
          "output_type": "stream",
          "name": "stdout",
          "text": [
            "Проверяем доли способа прохождения уровна по источникам: source_2 и Яндекс\n",
            "p-значение:  0.07831764645262305\n",
            "Не получилось отвергнуть нулевую гипотезу, нет оснований считать доли разными\n"
          ]
        }
      ],
      "source": [
        "t = profiles.query('source == [\"instagram_new_adverts\", \"yandex_direct\"]').groupby('source')['finish_type'].count()\n",
        "\n",
        "s = profiles.query('source == [\"instagram_new_adverts\", \"yandex_direct\"] and finish_type == \"PVE\"').groupby('source')['finish_type'].count()\n",
        "\n",
        "alpha = 0.05\n",
        "\n",
        "successes = np.array([s['yandex_direct'], s['instagram_new_adverts']])\n",
        "trials = np.array([t['yandex_direct'], t['instagram_new_adverts']])\n",
        "\n",
        "stat, pval = proportions_ztest(successes, trials)\n",
        "print('Проверяем доли способа прохождения уровна по источникам: source_2 и Яндекс')\n",
        "print('p-значение: ', pval)\n",
        "if pval < stat:\n",
        "    print('Отвергаем нулевую гипотезу: между долями есть разница')\n",
        "else:\n",
        "    print(\n",
        "        'Не получилось отвергнуть нулевую гипотезу, нет оснований считать доли разными'\n",
        "    )"
      ]
    },
    {
      "cell_type": "code",
      "execution_count": null,
      "metadata": {
        "colab": {
          "base_uri": "https://localhost:8080/"
        },
        "id": "ypmxZ-HWIUQf",
        "outputId": "f2a0ab29-d6bc-4ffc-b7ed-e0814eaaa1d1"
      },
      "outputs": [
        {
          "output_type": "stream",
          "name": "stdout",
          "text": [
            "Проверяем доли способа прохождения уровна по источникам: Инстаграмм и Фейсбук\n",
            "p-значение:  0.8927647444052863\n",
            "Не получилось отвергнуть нулевую гипотезу, нет оснований считать доли разными\n"
          ]
        }
      ],
      "source": [
        "t = profiles.query('source == [\"instagram_new_adverts\", \"facebook_ads\"]').groupby('source')['finish_type'].count()\n",
        "\n",
        "s = profiles.query('source == [\"instagram_new_adverts\", \"facebook_ads\"] and finish_type == \"PVE\"').groupby('source')['finish_type'].count()\n",
        "\n",
        "alpha = 0.05\n",
        "\n",
        "successes = np.array([s['facebook_ads'], s['instagram_new_adverts']])\n",
        "trials = np.array([t['facebook_ads'], t['instagram_new_adverts']])\n",
        "\n",
        "stat, pval = proportions_ztest(successes, trials)\n",
        "print('Проверяем доли способа прохождения уровна по источникам: Инстаграмм и Фейсбук')\n",
        "print('p-значение: ', pval)\n",
        "if pval < stat:\n",
        "    print('Отвергаем нулевую гипотезу: между долями есть разница')\n",
        "else:\n",
        "    print(\n",
        "        'Не получилось отвергнуть нулевую гипотезу, нет оснований считать доли разными'\n",
        "    )"
      ]
    },
    {
      "cell_type": "code",
      "execution_count": null,
      "metadata": {
        "colab": {
          "base_uri": "https://localhost:8080/"
        },
        "id": "Jdjo09ZTIUQf",
        "outputId": "0615add1-d935-4a75-c6d1-cd06e9441ba8"
      },
      "outputs": [
        {
          "output_type": "stream",
          "name": "stdout",
          "text": [
            "Проверяем доли способа прохождения уровна по источникам: Инстаграмм и Ютуб\n",
            "p-значение:  0.9017893912838095\n",
            "Не получилось отвергнуть нулевую гипотезу, нет оснований считать доли разными\n"
          ]
        }
      ],
      "source": [
        "t = profiles.query('source == [\"instagram_new_adverts\", \"youtube_channel_reklama\"]').groupby('source')['finish_type'].count()\n",
        "\n",
        "s = profiles.query('source == [\"instagram_new_adverts\", \"youtube_channel_reklama\"] and finish_type == \"PVE\"').groupby('source')['finish_type'].count()\n",
        "\n",
        "alpha = 0.05\n",
        "\n",
        "successes = np.array([s['youtube_channel_reklama'], s['instagram_new_adverts']])\n",
        "trials = np.array([t['youtube_channel_reklama'], t['instagram_new_adverts']])\n",
        "\n",
        "stat, pval = proportions_ztest(successes, trials)\n",
        "print('Проверяем доли способа прохождения уровна по источникам: Инстаграмм и Ютуб')\n",
        "print('p-значение: ', pval)\n",
        "if pval < stat:\n",
        "    print('Отвергаем нулевую гипотезу: между долями есть разница')\n",
        "else:\n",
        "    print(\n",
        "        'Не получилось отвергнуть нулевую гипотезу, нет оснований считать доли разными'\n",
        "    )"
      ]
    },
    {
      "cell_type": "code",
      "execution_count": null,
      "metadata": {
        "colab": {
          "base_uri": "https://localhost:8080/"
        },
        "id": "MCSXBnjIIUQg",
        "outputId": "c9899a93-2147-4653-8c02-fa1f9f2fc433"
      },
      "outputs": [
        {
          "output_type": "stream",
          "name": "stdout",
          "text": [
            "Проверяем доли способа прохождения уровна по источникам: Яндекс и Ютуб\n",
            "p-значение:  0.12987283621705897\n",
            "Не получилось отвергнуть нулевую гипотезу, нет оснований считать доли разными\n"
          ]
        }
      ],
      "source": [
        "t = profiles.query('source == [\"yandex_direct\", \"youtube_channel_reklama\"]').groupby('source')['finish_type'].count()\n",
        "\n",
        "s = profiles.query('source == [\"yandex_direct\", \"youtube_channel_reklama\"] and finish_type == \"PVE\"').groupby('source')['finish_type'].count()\n",
        "\n",
        "alpha = 0.05\n",
        "\n",
        "successes = np.array([s['yandex_direct'], s['youtube_channel_reklama']])\n",
        "trials = np.array([t['yandex_direct'], t['youtube_channel_reklama']])\n",
        "\n",
        "stat, pval = proportions_ztest(successes, trials)\n",
        "print('Проверяем доли способа прохождения уровна по источникам: Яндекс и Ютуб')\n",
        "print('p-значение: ', pval)\n",
        "if pval < stat:\n",
        "    print('Отвергаем нулевую гипотезу: между долями есть разница')\n",
        "else:\n",
        "    print(\n",
        "        'Не получилось отвергнуть нулевую гипотезу, нет оснований считать доли разными'\n",
        "    )"
      ]
    },
    {
      "cell_type": "code",
      "execution_count": null,
      "metadata": {
        "colab": {
          "base_uri": "https://localhost:8080/"
        },
        "id": "EQoQEn8iIUQg",
        "outputId": "4eaf69cc-afe5-47b0-a04f-a40eba118cb5"
      },
      "outputs": [
        {
          "output_type": "stream",
          "name": "stdout",
          "text": [
            "Проверяем доли способа прохождения уровна по источникам: Яндекс и Фейсбук\n",
            "p-значение:  0.07137587676312485\n",
            "Не получилось отвергнуть нулевую гипотезу, нет оснований считать доли разными\n"
          ]
        }
      ],
      "source": [
        "t = profiles.query('source == [\"yandex_direct\", \"facebook_ads\"]').groupby('source')['finish_type'].count()\n",
        "\n",
        "s = profiles.query('source == [\"yandex_direct\", \"facebook_ads\"] and finish_type == \"PVE\"').groupby('source')['finish_type'].count()\n",
        "\n",
        "alpha = 0.05\n",
        "\n",
        "successes = np.array([s['yandex_direct'], s['facebook_ads']])\n",
        "trials = np.array([t['yandex_direct'], t['facebook_ads']])\n",
        "\n",
        "stat, pval = proportions_ztest(successes, trials)\n",
        "print('Проверяем доли способа прохождения уровна по источникам: Яндекс и Фейсбук')\n",
        "print('p-значение: ', pval)\n",
        "if pval < stat:\n",
        "    print('Отвергаем нулевую гипотезу: между долями есть разница')\n",
        "else:\n",
        "    print(\n",
        "        'Не получилось отвергнуть нулевую гипотезу, нет оснований считать доли разными'\n",
        "    )"
      ]
    },
    {
      "cell_type": "code",
      "execution_count": null,
      "metadata": {
        "colab": {
          "base_uri": "https://localhost:8080/"
        },
        "id": "0sKSe-1PIUQg",
        "outputId": "3d18447d-9d10-4c81-95c1-079760efdb47"
      },
      "outputs": [
        {
          "output_type": "stream",
          "name": "stdout",
          "text": [
            "Проверяем доли способа прохождения уровна по источникам: Ютуб и Фейсбук\n",
            "p-значение:  0.8060702101419706\n",
            "Не получилось отвергнуть нулевую гипотезу, нет оснований считать доли разными\n"
          ]
        }
      ],
      "source": [
        "t = profiles.query('source == [\"youtube_channel_reklama\", \"facebook_ads\"]').groupby('source')['finish_type'].count()\n",
        "\n",
        "s = profiles.query('source == [\"youtube_channel_reklama\", \"facebook_ads\"] and finish_type == \"PVE\"').groupby('source')['finish_type'].count()\n",
        "\n",
        "alpha = 0.05\n",
        "\n",
        "successes = np.array([s['facebook_ads'], s['youtube_channel_reklama']])\n",
        "trials = np.array([t['facebook_ads'], t['youtube_channel_reklama']])\n",
        "\n",
        "stat, pval = proportions_ztest(successes, trials)\n",
        "print('Проверяем доли способа прохождения уровна по источникам: Ютуб и Фейсбук')\n",
        "print('p-значение: ', pval)\n",
        "if pval < stat:\n",
        "    print('Отвергаем нулевую гипотезу: между долями есть разница')\n",
        "else:\n",
        "    print(\n",
        "        'Не получилось отвергнуть нулевую гипотезу, нет оснований считать доли разными'\n",
        "    )"
      ]
    },
    {
      "cell_type": "markdown",
      "metadata": {
        "id": "rH1TYFpqIUQh"
      },
      "source": [
        "**Комментарий**\n",
        "\n",
        "Тест показал, что  проверяемые каналы не влияет при выборе стратегии PVE"
      ]
    },
    {
      "cell_type": "markdown",
      "metadata": {
        "id": "b9wEeJplIUQh"
      },
      "source": [
        "## Общий вывод\n",
        "\n",
        "В исследовании использовали 3 датасета, с логами игры пользователей, стоимостью расходов на рекламу и инфа с какого источника пришел пользователь.\n",
        "\n",
        "В дф с логами содержит 135к строк и 13к уникальных пользователей. Данные представлены за месяц. Имеем боьшое количество пропусков, они связаны с особенностью сбора данных и данные пропуски я не обрадатывала. Из таблицы удалила 1 явный дубликат.\n",
        "\n",
        "В остальных дф ничего примечательного, все строки заполнены, дубликатов нет. Таблицы готовы к исследованию.\n",
        "\n",
        "\n",
        "Рассматривала медианную стоимость привлечения пользователей, Самый дешевый канал оказлся Ютуб, самый дорогой Фейсбук.\n",
        "\n",
        "    -  youtube_channel_reklama 0.40$.\n",
        "    \n",
        "    -  yandex_direct 0.46$.\n",
        "    \n",
        "    -  instagram_new_adverts 0.65$.\n",
        "    \n",
        "    -  facebook_ads 0.79$.\n",
        "    \n",
        "\n",
        "По кол-ву привлечения:\n",
        "\n",
        "    - yandex_direct  4817.\n",
        "    \n",
        "    - instagram_new_adverts 3347.\n",
        "    \n",
        "    - facebook_ads 2726.\n",
        "    \n",
        "    - youtube_channel_reklama 2686.\n",
        "\n",
        "КОличество построек на пользователя не сильно различается, в среднем это 9 построек.\n",
        "\n",
        "Среднее время нахождения в игре также не сильно различается по каналам, в среднем это 10,5 дней.\n",
        "\n",
        "\n",
        "Проверила 2 гипотезы:\n",
        "\n",
        "\n",
        "Первая проверка гипотезы:  \n",
        "\n",
        "\n",
        "- H0: Время завершения уровня не различается независимо от способа прохождения:\n",
        "\n",
        "    - через реализацию проекта\n",
        "    - через победу над первым игроком\n",
        "\n",
        "\n",
        "- H1: Время завершения уровня различается в зависимости от способа прохождения:\n",
        "\n",
        "    - через реализацию проекта\n",
        "    - через победу над первым игроком  \n",
        "\n",
        "Проверяла среднее значение Ттестом, Отвергла нулевую гипотезу, время завершения уровня все таки зависит от способа прохождения.\n",
        "\n",
        "Вторая гипотеза:\n",
        "\n",
        "Есть ли разница при выборе стратегии ПВЕ между рекламными каналами?\n",
        "\n",
        "H0: Доля игроков выбравших стретгию ПВЕ не зависит от источника привлечения\n",
        "\n",
        "H1: Доля игроков выбравших стретгию ПВЕ зависит от источника првлечения\n",
        "\n",
        "Проверяла доли зитестом, проверка показала, что выбор способа прохождения PVE не зависит от источника\n",
        "\n",
        "<div style=\"background:#f1f4ff;color:#000; padding:10px; margin-top:10px\">\n",
        "    <p><big><b> </b></big></p>\n",
        "    \n",
        "**Ранжирование каналов:**\n",
        "\n",
        "\n",
        "    - Ютуб - самый дешевый канал по стоимости привлечения пользователей\n",
        "\n",
        "    - Яндекс - привлек больше всех пользователей, но стоимость привлечения чуть выше чем у Ютуба\n",
        "\n",
        "    - Инстаграмм - дороже яндекса, но пользователей меньше чем Яндекс, но больше чем другие каналы\n",
        "\n",
        "    - Фейсбук - самый дорогой канал, но кол-во построек чуть больше чем у других каналов.\n",
        "\n",
        "    \n",
        "</div>\n"
      ]
    },
    {
      "cell_type": "code",
      "execution_count": null,
      "metadata": {
        "id": "tK3kAqJxIUQi"
      },
      "outputs": [],
      "source": []
    }
  ],
  "metadata": {
    "ExecuteTimeLog": [
      {
        "duration": 48,
        "start_time": "2023-06-01T08:02:58.957Z"
      },
      {
        "duration": 977,
        "start_time": "2023-06-01T08:03:01.962Z"
      },
      {
        "duration": 45,
        "start_time": "2023-06-01T08:03:04.016Z"
      },
      {
        "duration": 591,
        "start_time": "2023-06-01T08:04:39.956Z"
      },
      {
        "duration": 11,
        "start_time": "2023-06-01T08:04:52.225Z"
      },
      {
        "duration": 10,
        "start_time": "2023-06-01T08:04:58.594Z"
      },
      {
        "duration": 8,
        "start_time": "2023-06-01T08:05:05.587Z"
      },
      {
        "duration": 7,
        "start_time": "2023-06-01T08:05:26.435Z"
      },
      {
        "duration": 5,
        "start_time": "2023-06-01T08:05:33.853Z"
      },
      {
        "duration": 5,
        "start_time": "2023-06-01T08:05:40.726Z"
      },
      {
        "duration": 8,
        "start_time": "2023-06-01T08:05:45.807Z"
      },
      {
        "duration": 29,
        "start_time": "2023-06-01T08:05:55.355Z"
      },
      {
        "duration": 65,
        "start_time": "2023-06-01T08:06:27.019Z"
      },
      {
        "duration": 4,
        "start_time": "2023-06-01T08:07:27.182Z"
      },
      {
        "duration": 10,
        "start_time": "2023-06-01T08:07:33.552Z"
      },
      {
        "duration": 7,
        "start_time": "2023-06-01T08:07:45.557Z"
      },
      {
        "duration": 4,
        "start_time": "2023-06-01T08:07:47.231Z"
      },
      {
        "duration": 9,
        "start_time": "2023-06-01T08:07:50.162Z"
      },
      {
        "duration": 31,
        "start_time": "2023-06-01T08:07:54.767Z"
      },
      {
        "duration": 52,
        "start_time": "2023-06-01T08:07:56.931Z"
      },
      {
        "duration": 27,
        "start_time": "2023-06-01T08:07:58.920Z"
      },
      {
        "duration": 26,
        "start_time": "2023-06-01T08:08:15.857Z"
      },
      {
        "duration": 977,
        "start_time": "2023-06-01T08:08:37.562Z"
      },
      {
        "duration": 2085,
        "start_time": "2023-06-01T08:08:53.280Z"
      },
      {
        "duration": 2104,
        "start_time": "2023-06-01T08:09:17.181Z"
      },
      {
        "duration": 1974,
        "start_time": "2023-06-01T08:10:08.188Z"
      },
      {
        "duration": 2029,
        "start_time": "2023-06-01T08:11:36.509Z"
      },
      {
        "duration": 3,
        "start_time": "2023-06-01T08:11:58.987Z"
      },
      {
        "duration": 2085,
        "start_time": "2023-06-01T08:12:01.021Z"
      },
      {
        "duration": 2031,
        "start_time": "2023-06-01T08:12:07.869Z"
      },
      {
        "duration": 2078,
        "start_time": "2023-06-01T08:12:34.316Z"
      },
      {
        "duration": 10,
        "start_time": "2023-06-01T08:15:04.507Z"
      },
      {
        "duration": 213,
        "start_time": "2023-06-01T08:15:39.901Z"
      },
      {
        "duration": 7,
        "start_time": "2023-06-01T08:15:42.120Z"
      },
      {
        "duration": 9,
        "start_time": "2023-06-01T08:15:43.825Z"
      },
      {
        "duration": 0,
        "start_time": "2023-06-01T08:15:48.212Z"
      },
      {
        "duration": 6,
        "start_time": "2023-06-01T08:15:49.227Z"
      },
      {
        "duration": 9,
        "start_time": "2023-06-01T08:15:50.733Z"
      },
      {
        "duration": 7,
        "start_time": "2023-06-01T08:15:52.204Z"
      },
      {
        "duration": 30,
        "start_time": "2023-06-01T08:15:54.187Z"
      },
      {
        "duration": 55,
        "start_time": "2023-06-01T08:15:55.704Z"
      },
      {
        "duration": 41,
        "start_time": "2023-06-01T08:15:57.098Z"
      },
      {
        "duration": 1916,
        "start_time": "2023-06-01T08:16:02.559Z"
      },
      {
        "duration": 1970,
        "start_time": "2023-06-01T08:16:32.206Z"
      },
      {
        "duration": 2018,
        "start_time": "2023-06-01T08:16:44.767Z"
      },
      {
        "duration": 1956,
        "start_time": "2023-06-01T08:17:01.580Z"
      },
      {
        "duration": 36,
        "start_time": "2023-06-01T08:17:35.891Z"
      },
      {
        "duration": 66,
        "start_time": "2023-06-01T08:17:37.210Z"
      },
      {
        "duration": 60,
        "start_time": "2023-06-01T08:17:52.485Z"
      },
      {
        "duration": 81,
        "start_time": "2023-06-01T08:17:56.142Z"
      },
      {
        "duration": 65,
        "start_time": "2023-06-01T08:21:40.875Z"
      },
      {
        "duration": 72,
        "start_time": "2023-06-01T08:21:45.877Z"
      },
      {
        "duration": 67,
        "start_time": "2023-06-01T08:22:23.980Z"
      },
      {
        "duration": 159,
        "start_time": "2023-06-01T08:22:29.957Z"
      },
      {
        "duration": 78,
        "start_time": "2023-06-01T08:22:58.403Z"
      },
      {
        "duration": 69,
        "start_time": "2023-06-01T08:23:08.503Z"
      },
      {
        "duration": 159,
        "start_time": "2023-06-01T08:23:12.682Z"
      },
      {
        "duration": 143,
        "start_time": "2023-06-01T08:23:28.861Z"
      },
      {
        "duration": 1379,
        "start_time": "2023-06-01T08:23:44.526Z"
      },
      {
        "duration": 1647,
        "start_time": "2023-06-01T08:23:53.969Z"
      },
      {
        "duration": 157,
        "start_time": "2023-06-01T08:24:07.924Z"
      },
      {
        "duration": 161,
        "start_time": "2023-06-01T08:24:17.309Z"
      },
      {
        "duration": 161,
        "start_time": "2023-06-01T08:24:26.990Z"
      },
      {
        "duration": 189,
        "start_time": "2023-06-01T08:24:37.673Z"
      },
      {
        "duration": 151,
        "start_time": "2023-06-01T08:24:49.390Z"
      },
      {
        "duration": 75,
        "start_time": "2023-06-01T08:25:00.880Z"
      },
      {
        "duration": 150,
        "start_time": "2023-06-01T08:25:08.510Z"
      },
      {
        "duration": 166,
        "start_time": "2023-06-01T08:25:17.503Z"
      },
      {
        "duration": 149,
        "start_time": "2023-06-01T08:25:25.462Z"
      },
      {
        "duration": 171,
        "start_time": "2023-06-01T08:28:06.881Z"
      },
      {
        "duration": 91,
        "start_time": "2023-06-01T08:28:13.302Z"
      },
      {
        "duration": 77,
        "start_time": "2023-06-01T08:28:22.889Z"
      },
      {
        "duration": 77,
        "start_time": "2023-06-01T08:28:46.225Z"
      },
      {
        "duration": 8,
        "start_time": "2023-06-01T08:29:31.273Z"
      },
      {
        "duration": 6,
        "start_time": "2023-06-01T08:29:34.789Z"
      },
      {
        "duration": 46,
        "start_time": "2023-06-01T08:30:05.881Z"
      },
      {
        "duration": 2071,
        "start_time": "2023-06-01T08:30:07.176Z"
      },
      {
        "duration": 5,
        "start_time": "2023-06-01T08:30:09.249Z"
      },
      {
        "duration": 34,
        "start_time": "2023-06-01T08:31:33.779Z"
      },
      {
        "duration": 90,
        "start_time": "2023-06-01T08:31:35.969Z"
      },
      {
        "duration": 5,
        "start_time": "2023-06-01T08:31:38.029Z"
      },
      {
        "duration": 125,
        "start_time": "2023-06-01T08:50:00.593Z"
      },
      {
        "duration": 14,
        "start_time": "2023-06-01T08:50:07.015Z"
      },
      {
        "duration": 67,
        "start_time": "2023-06-01T08:50:10.173Z"
      },
      {
        "duration": 7,
        "start_time": "2023-06-01T08:50:14.840Z"
      },
      {
        "duration": 46,
        "start_time": "2023-06-01T08:50:41.967Z"
      },
      {
        "duration": 61,
        "start_time": "2023-06-01T08:50:43.929Z"
      },
      {
        "duration": 66,
        "start_time": "2023-06-01T08:51:09.972Z"
      },
      {
        "duration": 78,
        "start_time": "2023-06-01T08:51:14.280Z"
      },
      {
        "duration": 62,
        "start_time": "2023-06-01T08:51:54.903Z"
      },
      {
        "duration": 65,
        "start_time": "2023-06-01T08:52:29.756Z"
      },
      {
        "duration": 5,
        "start_time": "2023-06-01T08:52:31.062Z"
      },
      {
        "duration": 5,
        "start_time": "2023-06-01T08:58:45.172Z"
      },
      {
        "duration": 67,
        "start_time": "2023-06-01T08:58:58.071Z"
      },
      {
        "duration": 21,
        "start_time": "2023-06-01T08:59:34.976Z"
      },
      {
        "duration": 21,
        "start_time": "2023-06-01T08:59:46.484Z"
      },
      {
        "duration": 712,
        "start_time": "2023-06-01T08:59:53.874Z"
      },
      {
        "duration": 230,
        "start_time": "2023-06-01T08:59:54.587Z"
      },
      {
        "duration": 9,
        "start_time": "2023-06-01T08:59:54.818Z"
      },
      {
        "duration": 35,
        "start_time": "2023-06-01T08:59:54.828Z"
      },
      {
        "duration": 2225,
        "start_time": "2023-06-01T08:59:54.865Z"
      },
      {
        "duration": 0,
        "start_time": "2023-06-01T08:59:57.092Z"
      },
      {
        "duration": 0,
        "start_time": "2023-06-01T08:59:57.093Z"
      },
      {
        "duration": 0,
        "start_time": "2023-06-01T08:59:57.094Z"
      },
      {
        "duration": 0,
        "start_time": "2023-06-01T08:59:57.095Z"
      },
      {
        "duration": 0,
        "start_time": "2023-06-01T08:59:57.096Z"
      },
      {
        "duration": 0,
        "start_time": "2023-06-01T08:59:57.097Z"
      },
      {
        "duration": 0,
        "start_time": "2023-06-01T08:59:57.099Z"
      },
      {
        "duration": 0,
        "start_time": "2023-06-01T08:59:57.100Z"
      },
      {
        "duration": 6,
        "start_time": "2023-06-01T09:00:25.588Z"
      },
      {
        "duration": 9,
        "start_time": "2023-06-01T09:00:25.756Z"
      },
      {
        "duration": 8,
        "start_time": "2023-06-01T09:00:25.889Z"
      },
      {
        "duration": 27,
        "start_time": "2023-06-01T09:00:26.056Z"
      },
      {
        "duration": 36,
        "start_time": "2023-06-01T09:00:26.204Z"
      },
      {
        "duration": 111,
        "start_time": "2023-06-01T09:00:26.354Z"
      },
      {
        "duration": 7,
        "start_time": "2023-06-01T09:00:26.507Z"
      },
      {
        "duration": 22,
        "start_time": "2023-06-01T09:00:27.455Z"
      },
      {
        "duration": 12,
        "start_time": "2023-06-01T09:01:20.376Z"
      },
      {
        "duration": 26,
        "start_time": "2023-06-01T09:01:25.307Z"
      },
      {
        "duration": 73,
        "start_time": "2023-06-01T09:01:27.113Z"
      },
      {
        "duration": 7,
        "start_time": "2023-06-01T09:01:29.108Z"
      },
      {
        "duration": 24,
        "start_time": "2023-06-01T09:01:30.789Z"
      },
      {
        "duration": 8,
        "start_time": "2023-06-01T09:01:52.272Z"
      },
      {
        "duration": 96,
        "start_time": "2023-06-01T09:12:49.125Z"
      },
      {
        "duration": 24,
        "start_time": "2023-06-01T09:12:57.889Z"
      },
      {
        "duration": 98,
        "start_time": "2023-06-01T09:15:28.456Z"
      },
      {
        "duration": 5,
        "start_time": "2023-06-01T09:15:47.150Z"
      },
      {
        "duration": 97,
        "start_time": "2023-06-01T09:15:50.901Z"
      },
      {
        "duration": 42,
        "start_time": "2023-06-01T09:17:13.670Z"
      },
      {
        "duration": 210,
        "start_time": "2023-06-01T09:17:15.221Z"
      },
      {
        "duration": 43,
        "start_time": "2023-06-01T09:17:38.180Z"
      },
      {
        "duration": 182,
        "start_time": "2023-06-01T09:17:39.410Z"
      },
      {
        "duration": 4,
        "start_time": "2023-06-01T09:21:25.603Z"
      },
      {
        "duration": 7,
        "start_time": "2023-06-01T09:24:35.674Z"
      },
      {
        "duration": 1456,
        "start_time": "2023-06-01T09:24:54.152Z"
      },
      {
        "duration": 16,
        "start_time": "2023-06-01T09:25:06.989Z"
      },
      {
        "duration": 6,
        "start_time": "2023-06-01T09:25:27.484Z"
      },
      {
        "duration": 9,
        "start_time": "2023-06-01T09:26:34.388Z"
      },
      {
        "duration": 14,
        "start_time": "2023-06-01T09:26:37.021Z"
      },
      {
        "duration": 3,
        "start_time": "2023-06-01T09:29:53.982Z"
      },
      {
        "duration": 5,
        "start_time": "2023-06-01T09:29:58.755Z"
      },
      {
        "duration": 5,
        "start_time": "2023-06-01T09:30:09.559Z"
      },
      {
        "duration": 224,
        "start_time": "2023-06-01T09:32:29.155Z"
      },
      {
        "duration": 206,
        "start_time": "2023-06-01T09:32:36.250Z"
      },
      {
        "duration": 194,
        "start_time": "2023-06-01T09:32:46.217Z"
      },
      {
        "duration": 184,
        "start_time": "2023-06-01T09:32:55.186Z"
      },
      {
        "duration": 184,
        "start_time": "2023-06-01T09:33:12.746Z"
      },
      {
        "duration": 203,
        "start_time": "2023-06-01T09:34:17.245Z"
      },
      {
        "duration": 197,
        "start_time": "2023-06-01T09:35:07.188Z"
      },
      {
        "duration": 7,
        "start_time": "2023-06-01T09:40:54.581Z"
      },
      {
        "duration": 8,
        "start_time": "2023-06-01T09:41:39.978Z"
      },
      {
        "duration": 10,
        "start_time": "2023-06-01T09:41:43.786Z"
      },
      {
        "duration": 8,
        "start_time": "2023-06-01T09:42:01.773Z"
      },
      {
        "duration": 204,
        "start_time": "2023-06-01T09:43:28.507Z"
      },
      {
        "duration": 8,
        "start_time": "2023-06-01T09:43:31.628Z"
      },
      {
        "duration": 6,
        "start_time": "2023-06-01T09:43:32.993Z"
      },
      {
        "duration": 216,
        "start_time": "2023-06-01T09:43:43.112Z"
      },
      {
        "duration": 6,
        "start_time": "2023-06-01T09:43:44.914Z"
      },
      {
        "duration": 6,
        "start_time": "2023-06-01T09:43:46.443Z"
      },
      {
        "duration": 270,
        "start_time": "2023-06-01T09:47:49.984Z"
      },
      {
        "duration": 8,
        "start_time": "2023-06-01T11:54:31.685Z"
      },
      {
        "duration": 10,
        "start_time": "2023-06-01T11:54:45.486Z"
      },
      {
        "duration": 7,
        "start_time": "2023-06-01T11:55:34.596Z"
      },
      {
        "duration": 18,
        "start_time": "2023-06-01T11:55:40.560Z"
      },
      {
        "duration": 8,
        "start_time": "2023-06-01T11:57:09.483Z"
      },
      {
        "duration": 14,
        "start_time": "2023-06-01T11:57:19.118Z"
      },
      {
        "duration": 21,
        "start_time": "2023-06-01T11:57:55.452Z"
      },
      {
        "duration": 27,
        "start_time": "2023-06-01T11:58:48.180Z"
      },
      {
        "duration": 24,
        "start_time": "2023-06-01T11:59:26.461Z"
      },
      {
        "duration": 1369,
        "start_time": "2023-06-01T11:59:35.660Z"
      },
      {
        "duration": 21,
        "start_time": "2023-06-01T11:59:40.574Z"
      },
      {
        "duration": 26,
        "start_time": "2023-06-01T11:59:45.964Z"
      },
      {
        "duration": 9,
        "start_time": "2023-06-01T12:28:23.078Z"
      },
      {
        "duration": 131,
        "start_time": "2023-06-01T12:29:01.871Z"
      },
      {
        "duration": 24,
        "start_time": "2023-06-01T12:29:12.101Z"
      },
      {
        "duration": 61,
        "start_time": "2023-06-01T12:29:29.315Z"
      },
      {
        "duration": 63,
        "start_time": "2023-06-01T12:29:36.412Z"
      },
      {
        "duration": 7,
        "start_time": "2023-06-01T12:29:57.949Z"
      },
      {
        "duration": 56,
        "start_time": "2023-06-01T12:29:59.495Z"
      },
      {
        "duration": 4,
        "start_time": "2023-06-01T12:30:01.422Z"
      },
      {
        "duration": 7,
        "start_time": "2023-06-01T12:30:50.717Z"
      },
      {
        "duration": 7,
        "start_time": "2023-06-01T12:30:57.434Z"
      },
      {
        "duration": 70,
        "start_time": "2023-06-01T12:31:03.096Z"
      },
      {
        "duration": 9,
        "start_time": "2023-06-01T12:31:43.108Z"
      },
      {
        "duration": 3,
        "start_time": "2023-06-01T12:31:50.669Z"
      },
      {
        "duration": 3,
        "start_time": "2023-06-01T12:31:54.068Z"
      },
      {
        "duration": 11,
        "start_time": "2023-06-01T12:31:56.221Z"
      },
      {
        "duration": 5,
        "start_time": "2023-06-01T12:32:17.950Z"
      },
      {
        "duration": 5,
        "start_time": "2023-06-01T12:32:29.606Z"
      },
      {
        "duration": 682,
        "start_time": "2023-06-01T12:32:44.098Z"
      },
      {
        "duration": 240,
        "start_time": "2023-06-01T12:32:44.782Z"
      },
      {
        "duration": 10,
        "start_time": "2023-06-01T12:32:45.023Z"
      },
      {
        "duration": 39,
        "start_time": "2023-06-01T12:32:45.035Z"
      },
      {
        "duration": 26,
        "start_time": "2023-06-01T12:32:45.076Z"
      },
      {
        "duration": 31,
        "start_time": "2023-06-01T12:32:45.103Z"
      },
      {
        "duration": 18,
        "start_time": "2023-06-01T12:32:45.135Z"
      },
      {
        "duration": 30,
        "start_time": "2023-06-01T12:32:45.155Z"
      },
      {
        "duration": 33,
        "start_time": "2023-06-01T12:32:45.187Z"
      },
      {
        "duration": 23,
        "start_time": "2023-06-01T12:32:45.221Z"
      },
      {
        "duration": 66,
        "start_time": "2023-06-01T12:32:45.246Z"
      },
      {
        "duration": 55,
        "start_time": "2023-06-01T12:32:45.313Z"
      },
      {
        "duration": 17,
        "start_time": "2023-06-01T12:32:45.369Z"
      },
      {
        "duration": 36,
        "start_time": "2023-06-01T12:32:45.388Z"
      },
      {
        "duration": 10,
        "start_time": "2023-06-01T12:32:45.425Z"
      },
      {
        "duration": 8,
        "start_time": "2023-06-01T12:32:45.436Z"
      },
      {
        "duration": 81,
        "start_time": "2023-06-01T12:32:45.445Z"
      },
      {
        "duration": 7,
        "start_time": "2023-06-01T12:32:45.528Z"
      },
      {
        "duration": 20,
        "start_time": "2023-06-01T12:32:45.537Z"
      },
      {
        "duration": 27,
        "start_time": "2023-06-01T12:32:45.558Z"
      },
      {
        "duration": 43,
        "start_time": "2023-06-01T12:32:45.587Z"
      },
      {
        "duration": 234,
        "start_time": "2023-06-01T12:32:45.631Z"
      },
      {
        "duration": 6,
        "start_time": "2023-06-01T12:32:45.866Z"
      },
      {
        "duration": 18,
        "start_time": "2023-06-01T12:32:45.884Z"
      },
      {
        "duration": 58,
        "start_time": "2023-06-01T12:32:45.903Z"
      },
      {
        "duration": 7,
        "start_time": "2023-06-01T12:33:48.569Z"
      },
      {
        "duration": 5,
        "start_time": "2023-06-01T12:33:50.936Z"
      },
      {
        "duration": 5,
        "start_time": "2023-06-01T12:33:52.737Z"
      },
      {
        "duration": 40,
        "start_time": "2023-06-01T12:33:55.579Z"
      },
      {
        "duration": 83,
        "start_time": "2023-06-01T12:34:48.470Z"
      },
      {
        "duration": 10,
        "start_time": "2023-06-01T12:43:40.174Z"
      },
      {
        "duration": 390,
        "start_time": "2023-06-01T12:43:46.369Z"
      },
      {
        "duration": 10,
        "start_time": "2023-06-01T12:44:38.336Z"
      },
      {
        "duration": 55,
        "start_time": "2023-06-01T12:44:49.868Z"
      },
      {
        "duration": 11,
        "start_time": "2023-06-01T12:45:11.032Z"
      },
      {
        "duration": 53,
        "start_time": "2023-06-01T12:45:25.175Z"
      },
      {
        "duration": 61,
        "start_time": "2023-06-01T12:46:52.857Z"
      },
      {
        "duration": 6,
        "start_time": "2023-06-01T12:47:05.767Z"
      },
      {
        "duration": 147,
        "start_time": "2023-06-01T12:48:44.477Z"
      },
      {
        "duration": 362,
        "start_time": "2023-06-01T12:49:37.126Z"
      },
      {
        "duration": 1309,
        "start_time": "2023-06-01T12:49:46.140Z"
      },
      {
        "duration": 31,
        "start_time": "2023-06-01T12:50:39.243Z"
      },
      {
        "duration": 1250,
        "start_time": "2023-06-01T12:51:03.413Z"
      },
      {
        "duration": 20,
        "start_time": "2023-06-01T12:51:38.548Z"
      },
      {
        "duration": 24,
        "start_time": "2023-06-01T12:51:59.419Z"
      },
      {
        "duration": 1372,
        "start_time": "2023-06-01T12:52:16.801Z"
      },
      {
        "duration": 22,
        "start_time": "2023-06-01T12:52:24.523Z"
      },
      {
        "duration": 20,
        "start_time": "2023-06-01T12:52:35.322Z"
      },
      {
        "duration": 22,
        "start_time": "2023-06-01T12:52:51.209Z"
      },
      {
        "duration": 676,
        "start_time": "2023-06-01T12:53:22.704Z"
      },
      {
        "duration": 240,
        "start_time": "2023-06-01T12:53:23.382Z"
      },
      {
        "duration": 10,
        "start_time": "2023-06-01T12:53:23.623Z"
      },
      {
        "duration": 17,
        "start_time": "2023-06-01T12:53:23.635Z"
      },
      {
        "duration": 12,
        "start_time": "2023-06-01T12:53:23.653Z"
      },
      {
        "duration": 55,
        "start_time": "2023-06-01T12:53:23.667Z"
      },
      {
        "duration": 9,
        "start_time": "2023-06-01T12:53:23.724Z"
      },
      {
        "duration": 10,
        "start_time": "2023-06-01T12:53:23.735Z"
      },
      {
        "duration": 47,
        "start_time": "2023-06-01T12:53:23.746Z"
      },
      {
        "duration": 6,
        "start_time": "2023-06-01T12:53:23.796Z"
      },
      {
        "duration": 51,
        "start_time": "2023-06-01T12:53:23.804Z"
      },
      {
        "duration": 5,
        "start_time": "2023-06-01T12:53:23.857Z"
      },
      {
        "duration": 21,
        "start_time": "2023-06-01T12:53:23.864Z"
      },
      {
        "duration": 25,
        "start_time": "2023-06-01T12:53:23.886Z"
      },
      {
        "duration": 60,
        "start_time": "2023-06-01T12:53:23.912Z"
      },
      {
        "duration": 78,
        "start_time": "2023-06-01T12:53:23.984Z"
      },
      {
        "duration": 5,
        "start_time": "2023-06-01T12:53:24.064Z"
      },
      {
        "duration": 26,
        "start_time": "2023-06-01T12:53:24.070Z"
      },
      {
        "duration": 221,
        "start_time": "2023-06-01T12:53:24.097Z"
      },
      {
        "duration": 10,
        "start_time": "2023-06-01T12:53:24.319Z"
      },
      {
        "duration": 385,
        "start_time": "2023-06-01T12:53:24.330Z"
      },
      {
        "duration": 2,
        "start_time": "2023-06-01T12:53:24.716Z"
      },
      {
        "duration": 25,
        "start_time": "2023-06-01T12:53:24.719Z"
      },
      {
        "duration": 142,
        "start_time": "2023-06-01T12:53:24.746Z"
      },
      {
        "duration": 13,
        "start_time": "2023-06-01T12:53:24.889Z"
      },
      {
        "duration": 83,
        "start_time": "2023-06-01T12:53:24.904Z"
      },
      {
        "duration": 64,
        "start_time": "2023-06-01T12:53:24.988Z"
      },
      {
        "duration": 5,
        "start_time": "2023-06-01T12:53:25.055Z"
      },
      {
        "duration": 23,
        "start_time": "2023-06-01T12:53:25.061Z"
      },
      {
        "duration": 35,
        "start_time": "2023-06-01T12:53:25.086Z"
      },
      {
        "duration": 58,
        "start_time": "2023-06-01T12:56:44.898Z"
      },
      {
        "duration": 55,
        "start_time": "2023-06-01T12:57:21.701Z"
      },
      {
        "duration": 52,
        "start_time": "2023-06-01T12:57:29.936Z"
      },
      {
        "duration": 39,
        "start_time": "2023-06-01T12:59:00.416Z"
      },
      {
        "duration": 51,
        "start_time": "2023-06-01T12:59:16.058Z"
      },
      {
        "duration": 39,
        "start_time": "2023-06-01T12:59:22.592Z"
      },
      {
        "duration": 37,
        "start_time": "2023-06-01T12:59:38.157Z"
      },
      {
        "duration": 37,
        "start_time": "2023-06-01T12:59:45.450Z"
      },
      {
        "duration": 40,
        "start_time": "2023-06-01T13:00:49.594Z"
      },
      {
        "duration": 42,
        "start_time": "2023-06-01T13:02:27.546Z"
      },
      {
        "duration": 10,
        "start_time": "2023-06-01T13:04:11.048Z"
      },
      {
        "duration": 39,
        "start_time": "2023-06-01T13:07:07.473Z"
      },
      {
        "duration": 1331,
        "start_time": "2023-06-01T13:09:24.510Z"
      },
      {
        "duration": 13,
        "start_time": "2023-06-01T13:10:39.043Z"
      },
      {
        "duration": 44,
        "start_time": "2023-06-01T13:11:04.412Z"
      },
      {
        "duration": 22,
        "start_time": "2023-06-01T13:11:14.835Z"
      },
      {
        "duration": 189,
        "start_time": "2023-06-01T13:14:34.410Z"
      },
      {
        "duration": 187,
        "start_time": "2023-06-01T14:34:57.199Z"
      },
      {
        "duration": 11,
        "start_time": "2023-06-01T14:35:02.083Z"
      },
      {
        "duration": 10,
        "start_time": "2023-06-01T14:35:05.063Z"
      },
      {
        "duration": 13,
        "start_time": "2023-06-01T14:35:08.389Z"
      },
      {
        "duration": 201,
        "start_time": "2023-06-01T14:35:29.060Z"
      },
      {
        "duration": 72,
        "start_time": "2023-06-01T14:35:33.212Z"
      },
      {
        "duration": 11,
        "start_time": "2023-06-01T14:35:35.411Z"
      },
      {
        "duration": 15,
        "start_time": "2023-06-01T14:35:37.204Z"
      },
      {
        "duration": 43,
        "start_time": "2023-06-01T14:35:39.560Z"
      },
      {
        "duration": 840,
        "start_time": "2023-06-01T16:30:30.016Z"
      },
      {
        "duration": 1217,
        "start_time": "2023-06-01T16:30:30.858Z"
      },
      {
        "duration": 15,
        "start_time": "2023-06-01T16:30:32.077Z"
      },
      {
        "duration": 29,
        "start_time": "2023-06-01T16:30:32.095Z"
      },
      {
        "duration": 18,
        "start_time": "2023-06-01T16:30:32.126Z"
      },
      {
        "duration": 67,
        "start_time": "2023-06-01T16:30:32.145Z"
      },
      {
        "duration": 13,
        "start_time": "2023-06-01T16:30:32.213Z"
      },
      {
        "duration": 18,
        "start_time": "2023-06-01T16:30:32.227Z"
      },
      {
        "duration": 42,
        "start_time": "2023-06-01T16:30:32.247Z"
      },
      {
        "duration": 22,
        "start_time": "2023-06-01T16:30:32.292Z"
      },
      {
        "duration": 78,
        "start_time": "2023-06-01T16:30:32.316Z"
      },
      {
        "duration": 6,
        "start_time": "2023-06-01T16:30:32.395Z"
      },
      {
        "duration": 49,
        "start_time": "2023-06-01T16:30:32.403Z"
      },
      {
        "duration": 43,
        "start_time": "2023-06-01T16:30:32.454Z"
      },
      {
        "duration": 57,
        "start_time": "2023-06-01T16:30:32.499Z"
      },
      {
        "duration": 101,
        "start_time": "2023-06-01T16:30:32.557Z"
      },
      {
        "duration": 6,
        "start_time": "2023-06-01T16:30:32.659Z"
      },
      {
        "duration": 20,
        "start_time": "2023-06-01T16:30:32.675Z"
      },
      {
        "duration": 240,
        "start_time": "2023-06-01T16:30:32.697Z"
      },
      {
        "duration": 10,
        "start_time": "2023-06-01T16:30:32.939Z"
      },
      {
        "duration": 484,
        "start_time": "2023-06-01T16:30:32.950Z"
      },
      {
        "duration": 2,
        "start_time": "2023-06-01T16:30:33.436Z"
      },
      {
        "duration": 72,
        "start_time": "2023-06-01T16:30:33.440Z"
      },
      {
        "duration": 97,
        "start_time": "2023-06-01T16:30:33.513Z"
      },
      {
        "duration": 11,
        "start_time": "2023-06-01T16:30:33.612Z"
      },
      {
        "duration": 71,
        "start_time": "2023-06-01T16:30:33.625Z"
      },
      {
        "duration": 204,
        "start_time": "2023-06-01T16:30:33.698Z"
      },
      {
        "duration": 0,
        "start_time": "2023-06-01T16:30:33.904Z"
      },
      {
        "duration": 0,
        "start_time": "2023-06-01T16:30:33.905Z"
      },
      {
        "duration": 0,
        "start_time": "2023-06-01T16:30:33.906Z"
      },
      {
        "duration": 176,
        "start_time": "2023-06-01T16:30:58.788Z"
      },
      {
        "duration": 66,
        "start_time": "2023-06-01T16:31:07.307Z"
      },
      {
        "duration": 58236,
        "start_time": "2023-06-01T16:31:40.795Z"
      },
      {
        "duration": 21,
        "start_time": "2023-06-01T16:33:22.875Z"
      },
      {
        "duration": 665,
        "start_time": "2023-06-01T16:34:50.755Z"
      },
      {
        "duration": 1324,
        "start_time": "2023-06-01T16:34:56.804Z"
      },
      {
        "duration": 316,
        "start_time": "2023-06-01T16:34:58.131Z"
      },
      {
        "duration": 11,
        "start_time": "2023-06-01T16:34:58.450Z"
      },
      {
        "duration": 31,
        "start_time": "2023-06-01T16:34:58.463Z"
      },
      {
        "duration": 29,
        "start_time": "2023-06-01T16:34:58.497Z"
      },
      {
        "duration": 40,
        "start_time": "2023-06-01T16:34:58.528Z"
      },
      {
        "duration": 32,
        "start_time": "2023-06-01T16:34:58.570Z"
      },
      {
        "duration": 20,
        "start_time": "2023-06-01T16:34:58.604Z"
      },
      {
        "duration": 43,
        "start_time": "2023-06-01T16:34:58.625Z"
      },
      {
        "duration": 14,
        "start_time": "2023-06-01T16:34:58.670Z"
      },
      {
        "duration": 69,
        "start_time": "2023-06-01T16:34:58.688Z"
      },
      {
        "duration": 6,
        "start_time": "2023-06-01T16:34:58.759Z"
      },
      {
        "duration": 23,
        "start_time": "2023-06-01T16:34:58.767Z"
      },
      {
        "duration": 46,
        "start_time": "2023-06-01T16:34:58.795Z"
      },
      {
        "duration": 93,
        "start_time": "2023-06-01T16:34:58.842Z"
      },
      {
        "duration": 120,
        "start_time": "2023-06-01T16:34:58.937Z"
      },
      {
        "duration": 7,
        "start_time": "2023-06-01T16:34:59.059Z"
      },
      {
        "duration": 33,
        "start_time": "2023-06-01T16:34:59.080Z"
      },
      {
        "duration": 251,
        "start_time": "2023-06-01T16:34:59.114Z"
      },
      {
        "duration": 20,
        "start_time": "2023-06-01T16:34:59.366Z"
      },
      {
        "duration": 421,
        "start_time": "2023-06-01T16:34:59.391Z"
      },
      {
        "duration": 3,
        "start_time": "2023-06-01T16:34:59.814Z"
      },
      {
        "duration": 24,
        "start_time": "2023-06-01T16:34:59.818Z"
      },
      {
        "duration": 247,
        "start_time": "2023-06-01T16:34:59.843Z"
      },
      {
        "duration": 20,
        "start_time": "2023-06-01T16:35:00.092Z"
      },
      {
        "duration": 100,
        "start_time": "2023-06-01T16:35:00.114Z"
      },
      {
        "duration": 89,
        "start_time": "2023-06-01T16:35:00.216Z"
      },
      {
        "duration": 161,
        "start_time": "2023-06-01T16:35:00.307Z"
      },
      {
        "duration": 0,
        "start_time": "2023-06-01T16:35:00.470Z"
      },
      {
        "duration": 0,
        "start_time": "2023-06-01T16:35:00.478Z"
      },
      {
        "duration": 0,
        "start_time": "2023-06-01T16:35:00.479Z"
      },
      {
        "duration": 105,
        "start_time": "2023-06-01T16:36:02.082Z"
      },
      {
        "duration": 87,
        "start_time": "2023-06-01T16:36:20.755Z"
      },
      {
        "duration": 80,
        "start_time": "2023-06-01T16:36:59.763Z"
      },
      {
        "duration": 68,
        "start_time": "2023-06-01T16:37:07.692Z"
      },
      {
        "duration": 7,
        "start_time": "2023-06-01T16:37:12.363Z"
      },
      {
        "duration": 79,
        "start_time": "2023-06-01T16:38:53.459Z"
      },
      {
        "duration": 93,
        "start_time": "2023-06-01T16:40:03.290Z"
      },
      {
        "duration": 82,
        "start_time": "2023-06-01T16:40:52.316Z"
      },
      {
        "duration": 78,
        "start_time": "2023-06-01T16:41:02.216Z"
      },
      {
        "duration": 77,
        "start_time": "2023-06-01T16:41:34.881Z"
      },
      {
        "duration": 124,
        "start_time": "2023-06-01T16:41:41.123Z"
      },
      {
        "duration": 90,
        "start_time": "2023-06-01T16:43:02.763Z"
      },
      {
        "duration": 73,
        "start_time": "2023-06-01T16:43:44.703Z"
      },
      {
        "duration": 79,
        "start_time": "2023-06-01T16:43:52.754Z"
      },
      {
        "duration": 83,
        "start_time": "2023-06-01T16:45:16.651Z"
      },
      {
        "duration": 87,
        "start_time": "2023-06-01T16:45:27.898Z"
      },
      {
        "duration": 14,
        "start_time": "2023-06-01T16:48:24.808Z"
      },
      {
        "duration": 5,
        "start_time": "2023-06-01T16:48:38.609Z"
      },
      {
        "duration": 94,
        "start_time": "2023-06-01T16:49:56.163Z"
      },
      {
        "duration": 89,
        "start_time": "2023-06-01T16:50:10.973Z"
      },
      {
        "duration": 87,
        "start_time": "2023-06-01T16:52:13.551Z"
      },
      {
        "duration": 79,
        "start_time": "2023-06-01T16:52:28.688Z"
      },
      {
        "duration": 77,
        "start_time": "2023-06-01T16:55:00.988Z"
      },
      {
        "duration": 79,
        "start_time": "2023-06-01T16:55:04.380Z"
      },
      {
        "duration": 83,
        "start_time": "2023-06-01T16:58:22.759Z"
      },
      {
        "duration": 82,
        "start_time": "2023-06-01T16:59:18.488Z"
      },
      {
        "duration": 81,
        "start_time": "2023-06-01T17:00:34.922Z"
      },
      {
        "duration": 86,
        "start_time": "2023-06-01T17:01:42.612Z"
      },
      {
        "duration": 75,
        "start_time": "2023-06-01T17:02:23.715Z"
      },
      {
        "duration": 92,
        "start_time": "2023-06-01T17:02:28.402Z"
      },
      {
        "duration": 82,
        "start_time": "2023-06-01T17:02:38.812Z"
      },
      {
        "duration": 81,
        "start_time": "2023-06-01T17:03:21.822Z"
      },
      {
        "duration": 88,
        "start_time": "2023-06-01T17:03:47.751Z"
      },
      {
        "duration": 90,
        "start_time": "2023-06-01T17:03:51.867Z"
      },
      {
        "duration": 80,
        "start_time": "2023-06-01T17:04:01.188Z"
      },
      {
        "duration": 80,
        "start_time": "2023-06-01T17:04:10.288Z"
      },
      {
        "duration": 85,
        "start_time": "2023-06-01T17:04:22.116Z"
      },
      {
        "duration": 98,
        "start_time": "2023-06-01T17:04:44.688Z"
      },
      {
        "duration": 94,
        "start_time": "2023-06-01T17:04:50.713Z"
      },
      {
        "duration": 81,
        "start_time": "2023-06-01T17:05:22.108Z"
      },
      {
        "duration": 87,
        "start_time": "2023-06-01T17:05:27.702Z"
      },
      {
        "duration": 76,
        "start_time": "2023-06-01T17:05:34.491Z"
      },
      {
        "duration": 76,
        "start_time": "2023-06-01T17:05:38.923Z"
      },
      {
        "duration": 83,
        "start_time": "2023-06-01T17:05:45.676Z"
      },
      {
        "duration": 94,
        "start_time": "2023-06-01T17:06:35.294Z"
      },
      {
        "duration": 94,
        "start_time": "2023-06-01T17:06:43.659Z"
      },
      {
        "duration": 83,
        "start_time": "2023-06-01T17:07:08.813Z"
      },
      {
        "duration": 39,
        "start_time": "2023-06-01T17:09:01.218Z"
      },
      {
        "duration": 61,
        "start_time": "2023-06-01T17:09:34.588Z"
      },
      {
        "duration": 17,
        "start_time": "2023-06-01T17:10:09.255Z"
      },
      {
        "duration": 67,
        "start_time": "2023-06-01T17:10:16.661Z"
      },
      {
        "duration": 59,
        "start_time": "2023-06-01T17:12:18.394Z"
      },
      {
        "duration": 59,
        "start_time": "2023-06-01T17:12:22.787Z"
      },
      {
        "duration": 50,
        "start_time": "2023-06-01T17:12:27.424Z"
      },
      {
        "duration": 110,
        "start_time": "2023-06-01T17:12:46.133Z"
      },
      {
        "duration": 64,
        "start_time": "2023-06-01T17:12:47.550Z"
      },
      {
        "duration": 51,
        "start_time": "2023-06-01T17:13:00.300Z"
      },
      {
        "duration": 79,
        "start_time": "2023-06-01T17:13:06.400Z"
      },
      {
        "duration": 69,
        "start_time": "2023-06-01T17:13:08.471Z"
      },
      {
        "duration": 71,
        "start_time": "2023-06-01T17:13:13.274Z"
      },
      {
        "duration": 65,
        "start_time": "2023-06-01T17:13:21.351Z"
      },
      {
        "duration": 62,
        "start_time": "2023-06-01T17:13:31.390Z"
      },
      {
        "duration": 71,
        "start_time": "2023-06-01T17:13:34.198Z"
      },
      {
        "duration": 50,
        "start_time": "2023-06-01T17:13:38.502Z"
      },
      {
        "duration": 93,
        "start_time": "2023-06-01T17:19:38.162Z"
      },
      {
        "duration": 66,
        "start_time": "2023-06-01T17:19:40.187Z"
      },
      {
        "duration": 92,
        "start_time": "2023-06-01T17:19:50.854Z"
      },
      {
        "duration": 66,
        "start_time": "2023-06-01T17:19:53.658Z"
      },
      {
        "duration": 104,
        "start_time": "2023-06-01T17:20:01.695Z"
      },
      {
        "duration": 63,
        "start_time": "2023-06-01T17:20:03.456Z"
      },
      {
        "duration": 99,
        "start_time": "2023-06-01T17:20:08.102Z"
      },
      {
        "duration": 143,
        "start_time": "2023-06-01T17:20:10.110Z"
      },
      {
        "duration": 88,
        "start_time": "2023-06-01T17:20:15.384Z"
      },
      {
        "duration": 75,
        "start_time": "2023-06-01T17:20:17.117Z"
      },
      {
        "duration": 87,
        "start_time": "2023-06-01T17:20:21.862Z"
      },
      {
        "duration": 53,
        "start_time": "2023-06-01T17:20:23.291Z"
      },
      {
        "duration": 48,
        "start_time": "2023-06-01T17:20:38.207Z"
      },
      {
        "duration": 49,
        "start_time": "2023-06-01T17:20:50.415Z"
      },
      {
        "duration": 73,
        "start_time": "2023-06-01T17:20:57.055Z"
      },
      {
        "duration": 56,
        "start_time": "2023-06-01T17:29:35.670Z"
      },
      {
        "duration": 49,
        "start_time": "2023-06-01T17:29:41.123Z"
      },
      {
        "duration": 20,
        "start_time": "2023-06-01T17:29:56.211Z"
      },
      {
        "duration": 24,
        "start_time": "2023-06-01T17:30:22.687Z"
      },
      {
        "duration": 59,
        "start_time": "2023-06-01T17:30:27.492Z"
      },
      {
        "duration": 59,
        "start_time": "2023-06-01T17:30:38.647Z"
      },
      {
        "duration": 50,
        "start_time": "2023-06-01T17:31:20.997Z"
      },
      {
        "duration": 57,
        "start_time": "2023-06-01T17:31:44.316Z"
      },
      {
        "duration": 220,
        "start_time": "2023-06-01T18:54:05.072Z"
      },
      {
        "duration": 17,
        "start_time": "2023-06-01T18:54:23.873Z"
      },
      {
        "duration": 239,
        "start_time": "2023-06-01T18:54:31.912Z"
      },
      {
        "duration": 239,
        "start_time": "2023-06-01T18:54:42.846Z"
      },
      {
        "duration": 1581,
        "start_time": "2023-06-02T06:30:26.594Z"
      },
      {
        "duration": 916,
        "start_time": "2023-06-02T06:30:28.176Z"
      },
      {
        "duration": 11,
        "start_time": "2023-06-02T06:30:29.094Z"
      },
      {
        "duration": 16,
        "start_time": "2023-06-02T06:30:29.108Z"
      },
      {
        "duration": 15,
        "start_time": "2023-06-02T06:30:29.126Z"
      },
      {
        "duration": 66,
        "start_time": "2023-06-02T06:30:29.143Z"
      },
      {
        "duration": 8,
        "start_time": "2023-06-02T06:30:29.211Z"
      },
      {
        "duration": 9,
        "start_time": "2023-06-02T06:30:29.221Z"
      },
      {
        "duration": 75,
        "start_time": "2023-06-02T06:30:29.232Z"
      },
      {
        "duration": 10,
        "start_time": "2023-06-02T06:30:29.311Z"
      },
      {
        "duration": 68,
        "start_time": "2023-06-02T06:30:29.323Z"
      },
      {
        "duration": 7,
        "start_time": "2023-06-02T06:30:29.392Z"
      },
      {
        "duration": 11,
        "start_time": "2023-06-02T06:30:29.402Z"
      },
      {
        "duration": 26,
        "start_time": "2023-06-02T06:30:29.414Z"
      },
      {
        "duration": 86,
        "start_time": "2023-06-02T06:30:29.478Z"
      },
      {
        "duration": 107,
        "start_time": "2023-06-02T06:30:29.579Z"
      },
      {
        "duration": 6,
        "start_time": "2023-06-02T06:30:29.688Z"
      },
      {
        "duration": 7,
        "start_time": "2023-06-02T06:30:29.696Z"
      },
      {
        "duration": 255,
        "start_time": "2023-06-02T06:30:29.705Z"
      },
      {
        "duration": 21,
        "start_time": "2023-06-02T06:30:29.962Z"
      },
      {
        "duration": 411,
        "start_time": "2023-06-02T06:30:29.986Z"
      },
      {
        "duration": 3,
        "start_time": "2023-06-02T06:30:30.399Z"
      },
      {
        "duration": 76,
        "start_time": "2023-06-02T06:30:30.404Z"
      },
      {
        "duration": 229,
        "start_time": "2023-06-02T06:30:30.483Z"
      },
      {
        "duration": 14,
        "start_time": "2023-06-02T06:30:30.713Z"
      },
      {
        "duration": 82,
        "start_time": "2023-06-02T06:30:30.730Z"
      },
      {
        "duration": 129,
        "start_time": "2023-06-02T06:30:30.815Z"
      },
      {
        "duration": 59,
        "start_time": "2023-06-02T06:30:30.947Z"
      },
      {
        "duration": 81,
        "start_time": "2023-06-02T06:30:31.008Z"
      },
      {
        "duration": 30,
        "start_time": "2023-06-02T06:30:31.091Z"
      },
      {
        "duration": 104,
        "start_time": "2023-06-02T06:30:53.256Z"
      },
      {
        "duration": 106,
        "start_time": "2023-06-02T06:31:03.543Z"
      },
      {
        "duration": 69,
        "start_time": "2023-06-02T06:31:05.740Z"
      },
      {
        "duration": 10,
        "start_time": "2023-06-02T06:34:50.317Z"
      },
      {
        "duration": 10,
        "start_time": "2023-06-02T06:34:59.367Z"
      },
      {
        "duration": 157,
        "start_time": "2023-06-02T06:52:18.323Z"
      },
      {
        "duration": 4,
        "start_time": "2023-06-02T06:52:48.832Z"
      },
      {
        "duration": 28,
        "start_time": "2023-06-02T06:52:51.672Z"
      },
      {
        "duration": 28,
        "start_time": "2023-06-02T06:53:09.083Z"
      },
      {
        "duration": 41,
        "start_time": "2023-06-02T06:53:42.779Z"
      },
      {
        "duration": 27,
        "start_time": "2023-06-02T06:53:57.643Z"
      },
      {
        "duration": 42,
        "start_time": "2023-06-02T06:54:20.978Z"
      },
      {
        "duration": 52,
        "start_time": "2023-06-02T06:54:30.555Z"
      },
      {
        "duration": 39,
        "start_time": "2023-06-02T06:54:36.938Z"
      },
      {
        "duration": 42,
        "start_time": "2023-06-02T06:56:07.195Z"
      },
      {
        "duration": 19,
        "start_time": "2023-06-02T06:56:13.840Z"
      },
      {
        "duration": 15,
        "start_time": "2023-06-02T07:04:03.919Z"
      },
      {
        "duration": 862,
        "start_time": "2023-06-02T07:04:16.193Z"
      },
      {
        "duration": 124,
        "start_time": "2023-06-02T07:05:37.300Z"
      },
      {
        "duration": 738,
        "start_time": "2023-06-02T07:08:07.773Z"
      },
      {
        "duration": 15,
        "start_time": "2023-06-02T07:08:24.611Z"
      },
      {
        "duration": 14,
        "start_time": "2023-06-02T07:11:52.621Z"
      },
      {
        "duration": 44,
        "start_time": "2023-06-02T07:12:35.048Z"
      },
      {
        "duration": 69,
        "start_time": "2023-06-02T07:12:42.882Z"
      },
      {
        "duration": 61,
        "start_time": "2023-06-02T07:12:47.498Z"
      },
      {
        "duration": 11,
        "start_time": "2023-06-02T07:13:18.938Z"
      },
      {
        "duration": 19,
        "start_time": "2023-06-02T07:13:28.205Z"
      },
      {
        "duration": 12,
        "start_time": "2023-06-02T07:13:37.051Z"
      },
      {
        "duration": 3,
        "start_time": "2023-06-02T07:23:38.907Z"
      },
      {
        "duration": 10,
        "start_time": "2023-06-02T07:24:02.125Z"
      },
      {
        "duration": 54,
        "start_time": "2023-06-02T07:24:09.344Z"
      },
      {
        "duration": 38,
        "start_time": "2023-06-02T07:24:14.339Z"
      },
      {
        "duration": 57,
        "start_time": "2023-06-02T07:24:34.381Z"
      },
      {
        "duration": 56,
        "start_time": "2023-06-02T07:24:50.612Z"
      },
      {
        "duration": 51,
        "start_time": "2023-06-02T07:24:53.208Z"
      },
      {
        "duration": 1372,
        "start_time": "2023-06-02T07:25:46.340Z"
      },
      {
        "duration": 960,
        "start_time": "2023-06-02T07:25:47.715Z"
      },
      {
        "duration": 13,
        "start_time": "2023-06-02T07:25:48.679Z"
      },
      {
        "duration": 14,
        "start_time": "2023-06-02T07:25:48.695Z"
      },
      {
        "duration": 21,
        "start_time": "2023-06-02T07:25:48.711Z"
      },
      {
        "duration": 72,
        "start_time": "2023-06-02T07:25:48.734Z"
      },
      {
        "duration": 36,
        "start_time": "2023-06-02T07:25:48.808Z"
      },
      {
        "duration": 9,
        "start_time": "2023-06-02T07:25:48.846Z"
      },
      {
        "duration": 43,
        "start_time": "2023-06-02T07:25:48.856Z"
      },
      {
        "duration": 35,
        "start_time": "2023-06-02T07:25:48.901Z"
      },
      {
        "duration": 8,
        "start_time": "2023-06-02T07:25:48.938Z"
      },
      {
        "duration": 84,
        "start_time": "2023-06-02T07:25:48.948Z"
      },
      {
        "duration": 8,
        "start_time": "2023-06-02T07:25:49.033Z"
      },
      {
        "duration": 13,
        "start_time": "2023-06-02T07:25:49.045Z"
      },
      {
        "duration": 54,
        "start_time": "2023-06-02T07:25:49.060Z"
      },
      {
        "duration": 84,
        "start_time": "2023-06-02T07:25:49.116Z"
      },
      {
        "duration": 101,
        "start_time": "2023-06-02T07:25:49.202Z"
      },
      {
        "duration": 7,
        "start_time": "2023-06-02T07:25:49.304Z"
      },
      {
        "duration": 7,
        "start_time": "2023-06-02T07:25:49.313Z"
      },
      {
        "duration": 251,
        "start_time": "2023-06-02T07:25:49.322Z"
      },
      {
        "duration": 23,
        "start_time": "2023-06-02T07:25:49.580Z"
      },
      {
        "duration": 1700,
        "start_time": "2023-06-02T07:25:49.605Z"
      },
      {
        "duration": 3,
        "start_time": "2023-06-02T07:25:51.307Z"
      },
      {
        "duration": 73,
        "start_time": "2023-06-02T07:25:51.312Z"
      },
      {
        "duration": 205,
        "start_time": "2023-06-02T07:25:51.387Z"
      },
      {
        "duration": 16,
        "start_time": "2023-06-02T07:25:51.595Z"
      },
      {
        "duration": 76,
        "start_time": "2023-06-02T07:25:51.612Z"
      },
      {
        "duration": 90,
        "start_time": "2023-06-02T07:25:51.690Z"
      },
      {
        "duration": 63,
        "start_time": "2023-06-02T07:25:51.796Z"
      },
      {
        "duration": 46,
        "start_time": "2023-06-02T07:25:51.860Z"
      },
      {
        "duration": 22,
        "start_time": "2023-06-02T07:25:51.908Z"
      },
      {
        "duration": 13,
        "start_time": "2023-06-02T07:25:51.932Z"
      },
      {
        "duration": 1305,
        "start_time": "2023-06-02T07:27:26.704Z"
      },
      {
        "duration": 257,
        "start_time": "2023-06-02T07:27:28.011Z"
      },
      {
        "duration": 24,
        "start_time": "2023-06-02T07:27:28.269Z"
      },
      {
        "duration": 15,
        "start_time": "2023-06-02T07:27:28.295Z"
      },
      {
        "duration": 19,
        "start_time": "2023-06-02T07:27:28.312Z"
      },
      {
        "duration": 30,
        "start_time": "2023-06-02T07:27:28.333Z"
      },
      {
        "duration": 17,
        "start_time": "2023-06-02T07:27:28.381Z"
      },
      {
        "duration": 9,
        "start_time": "2023-06-02T07:27:28.400Z"
      },
      {
        "duration": 35,
        "start_time": "2023-06-02T07:27:28.411Z"
      },
      {
        "duration": 7,
        "start_time": "2023-06-02T07:27:28.449Z"
      },
      {
        "duration": 70,
        "start_time": "2023-06-02T07:27:28.457Z"
      },
      {
        "duration": 6,
        "start_time": "2023-06-02T07:27:28.529Z"
      },
      {
        "duration": 10,
        "start_time": "2023-06-02T07:27:28.537Z"
      },
      {
        "duration": 53,
        "start_time": "2023-06-02T07:27:28.548Z"
      },
      {
        "duration": 57,
        "start_time": "2023-06-02T07:27:28.603Z"
      },
      {
        "duration": 82,
        "start_time": "2023-06-02T07:27:28.677Z"
      },
      {
        "duration": 32,
        "start_time": "2023-06-02T07:27:28.760Z"
      },
      {
        "duration": 18,
        "start_time": "2023-06-02T07:27:28.793Z"
      },
      {
        "duration": 252,
        "start_time": "2023-06-02T07:27:28.812Z"
      },
      {
        "duration": 21,
        "start_time": "2023-06-02T07:27:29.066Z"
      },
      {
        "duration": 342,
        "start_time": "2023-06-02T07:27:29.088Z"
      },
      {
        "duration": 2,
        "start_time": "2023-06-02T07:27:29.432Z"
      },
      {
        "duration": 59,
        "start_time": "2023-06-02T07:27:29.436Z"
      },
      {
        "duration": 203,
        "start_time": "2023-06-02T07:27:29.497Z"
      },
      {
        "duration": 11,
        "start_time": "2023-06-02T07:27:29.702Z"
      },
      {
        "duration": 87,
        "start_time": "2023-06-02T07:27:29.714Z"
      },
      {
        "duration": 95,
        "start_time": "2023-06-02T07:27:29.803Z"
      },
      {
        "duration": 54,
        "start_time": "2023-06-02T07:27:29.901Z"
      },
      {
        "duration": 62,
        "start_time": "2023-06-02T07:27:29.957Z"
      },
      {
        "duration": 25,
        "start_time": "2023-06-02T07:27:30.021Z"
      },
      {
        "duration": 121,
        "start_time": "2023-06-02T07:27:30.049Z"
      },
      {
        "duration": 228,
        "start_time": "2023-06-02T07:28:07.655Z"
      },
      {
        "duration": 13,
        "start_time": "2023-06-02T07:28:34.853Z"
      },
      {
        "duration": 13,
        "start_time": "2023-06-02T07:28:56.963Z"
      },
      {
        "duration": 1286,
        "start_time": "2023-06-02T07:31:33.949Z"
      },
      {
        "duration": 285,
        "start_time": "2023-06-02T07:31:35.237Z"
      },
      {
        "duration": 15,
        "start_time": "2023-06-02T07:31:35.525Z"
      },
      {
        "duration": 26,
        "start_time": "2023-06-02T07:31:35.542Z"
      },
      {
        "duration": 33,
        "start_time": "2023-06-02T07:31:35.571Z"
      },
      {
        "duration": 55,
        "start_time": "2023-06-02T07:31:35.607Z"
      },
      {
        "duration": 14,
        "start_time": "2023-06-02T07:31:35.678Z"
      },
      {
        "duration": 13,
        "start_time": "2023-06-02T07:31:35.697Z"
      },
      {
        "duration": 78,
        "start_time": "2023-06-02T07:31:35.713Z"
      },
      {
        "duration": 8,
        "start_time": "2023-06-02T07:31:35.799Z"
      },
      {
        "duration": 83,
        "start_time": "2023-06-02T07:31:35.809Z"
      },
      {
        "duration": 10,
        "start_time": "2023-06-02T07:31:35.894Z"
      },
      {
        "duration": 22,
        "start_time": "2023-06-02T07:31:35.905Z"
      },
      {
        "duration": 51,
        "start_time": "2023-06-02T07:31:35.931Z"
      },
      {
        "duration": 62,
        "start_time": "2023-06-02T07:31:35.984Z"
      },
      {
        "duration": 82,
        "start_time": "2023-06-02T07:31:36.048Z"
      },
      {
        "duration": 16,
        "start_time": "2023-06-02T07:31:36.132Z"
      },
      {
        "duration": 13,
        "start_time": "2023-06-02T07:31:36.150Z"
      },
      {
        "duration": 19,
        "start_time": "2023-06-02T07:31:36.165Z"
      },
      {
        "duration": 216,
        "start_time": "2023-06-02T07:31:36.187Z"
      },
      {
        "duration": 11,
        "start_time": "2023-06-02T07:31:36.405Z"
      },
      {
        "duration": 345,
        "start_time": "2023-06-02T07:31:36.418Z"
      },
      {
        "duration": 2,
        "start_time": "2023-06-02T07:31:36.765Z"
      },
      {
        "duration": 15,
        "start_time": "2023-06-02T07:31:36.781Z"
      },
      {
        "duration": 222,
        "start_time": "2023-06-02T07:31:36.798Z"
      },
      {
        "duration": 15,
        "start_time": "2023-06-02T07:31:37.021Z"
      },
      {
        "duration": 79,
        "start_time": "2023-06-02T07:31:37.038Z"
      },
      {
        "duration": 95,
        "start_time": "2023-06-02T07:31:37.120Z"
      },
      {
        "duration": 48,
        "start_time": "2023-06-02T07:31:37.216Z"
      },
      {
        "duration": 88,
        "start_time": "2023-06-02T07:31:37.266Z"
      },
      {
        "duration": 37,
        "start_time": "2023-06-02T07:31:37.357Z"
      },
      {
        "duration": 18,
        "start_time": "2023-06-02T07:31:37.396Z"
      },
      {
        "duration": 22,
        "start_time": "2023-06-02T07:32:32.132Z"
      },
      {
        "duration": 38,
        "start_time": "2023-06-02T07:33:07.151Z"
      },
      {
        "duration": 42,
        "start_time": "2023-06-02T07:33:30.152Z"
      },
      {
        "duration": 1235,
        "start_time": "2023-06-02T07:34:37.808Z"
      },
      {
        "duration": 279,
        "start_time": "2023-06-02T07:34:39.048Z"
      },
      {
        "duration": 15,
        "start_time": "2023-06-02T07:34:39.331Z"
      },
      {
        "duration": 14,
        "start_time": "2023-06-02T07:34:39.349Z"
      },
      {
        "duration": 41,
        "start_time": "2023-06-02T07:34:39.366Z"
      },
      {
        "duration": 52,
        "start_time": "2023-06-02T07:34:39.412Z"
      },
      {
        "duration": 24,
        "start_time": "2023-06-02T07:34:39.466Z"
      },
      {
        "duration": 35,
        "start_time": "2023-06-02T07:34:39.497Z"
      },
      {
        "duration": 46,
        "start_time": "2023-06-02T07:34:39.534Z"
      },
      {
        "duration": 20,
        "start_time": "2023-06-02T07:34:39.582Z"
      },
      {
        "duration": 80,
        "start_time": "2023-06-02T07:34:39.606Z"
      },
      {
        "duration": 9,
        "start_time": "2023-06-02T07:34:39.689Z"
      },
      {
        "duration": 13,
        "start_time": "2023-06-02T07:34:39.701Z"
      },
      {
        "duration": 40,
        "start_time": "2023-06-02T07:34:39.718Z"
      },
      {
        "duration": 93,
        "start_time": "2023-06-02T07:34:39.760Z"
      },
      {
        "duration": 96,
        "start_time": "2023-06-02T07:34:39.855Z"
      },
      {
        "duration": 53,
        "start_time": "2023-06-02T07:34:39.952Z"
      },
      {
        "duration": 7,
        "start_time": "2023-06-02T07:34:40.014Z"
      },
      {
        "duration": 8,
        "start_time": "2023-06-02T07:34:40.023Z"
      },
      {
        "duration": 280,
        "start_time": "2023-06-02T07:34:40.033Z"
      },
      {
        "duration": 23,
        "start_time": "2023-06-02T07:34:40.315Z"
      },
      {
        "duration": 406,
        "start_time": "2023-06-02T07:34:40.341Z"
      },
      {
        "duration": 4,
        "start_time": "2023-06-02T07:34:40.749Z"
      },
      {
        "duration": 25,
        "start_time": "2023-06-02T07:34:40.781Z"
      },
      {
        "duration": 256,
        "start_time": "2023-06-02T07:34:40.810Z"
      },
      {
        "duration": 28,
        "start_time": "2023-06-02T07:34:41.069Z"
      },
      {
        "duration": 63,
        "start_time": "2023-06-02T07:34:41.098Z"
      },
      {
        "duration": 106,
        "start_time": "2023-06-02T07:34:41.163Z"
      },
      {
        "duration": 70,
        "start_time": "2023-06-02T07:34:41.270Z"
      },
      {
        "duration": 66,
        "start_time": "2023-06-02T07:34:41.341Z"
      },
      {
        "duration": 32,
        "start_time": "2023-06-02T07:34:41.409Z"
      },
      {
        "duration": 11,
        "start_time": "2023-06-02T07:34:41.443Z"
      },
      {
        "duration": 193,
        "start_time": "2023-06-02T07:35:12.669Z"
      },
      {
        "duration": 42,
        "start_time": "2023-06-02T07:35:18.116Z"
      },
      {
        "duration": 59,
        "start_time": "2023-06-02T07:36:09.224Z"
      },
      {
        "duration": 57,
        "start_time": "2023-06-02T07:36:16.762Z"
      },
      {
        "duration": 48,
        "start_time": "2023-06-02T07:36:42.210Z"
      },
      {
        "duration": 59,
        "start_time": "2023-06-02T07:37:26.351Z"
      },
      {
        "duration": 38,
        "start_time": "2023-06-02T07:37:39.155Z"
      },
      {
        "duration": 26,
        "start_time": "2023-06-02T07:37:41.815Z"
      },
      {
        "duration": 22,
        "start_time": "2023-06-02T07:38:23.217Z"
      },
      {
        "duration": 16,
        "start_time": "2023-06-02T07:38:30.812Z"
      },
      {
        "duration": 16,
        "start_time": "2023-06-02T07:38:39.114Z"
      },
      {
        "duration": 5,
        "start_time": "2023-06-02T07:38:41.953Z"
      },
      {
        "duration": 6,
        "start_time": "2023-06-02T07:38:49.753Z"
      },
      {
        "duration": 74,
        "start_time": "2023-06-02T07:39:39.271Z"
      },
      {
        "duration": 62,
        "start_time": "2023-06-02T07:39:45.950Z"
      },
      {
        "duration": 11,
        "start_time": "2023-06-02T07:50:46.753Z"
      },
      {
        "duration": 1327,
        "start_time": "2023-06-02T07:50:55.858Z"
      },
      {
        "duration": 339,
        "start_time": "2023-06-02T07:50:57.192Z"
      },
      {
        "duration": 14,
        "start_time": "2023-06-02T07:50:57.533Z"
      },
      {
        "duration": 16,
        "start_time": "2023-06-02T07:50:57.549Z"
      },
      {
        "duration": 24,
        "start_time": "2023-06-02T07:50:57.567Z"
      },
      {
        "duration": 51,
        "start_time": "2023-06-02T07:50:57.592Z"
      },
      {
        "duration": 11,
        "start_time": "2023-06-02T07:50:57.645Z"
      },
      {
        "duration": 34,
        "start_time": "2023-06-02T07:50:57.658Z"
      },
      {
        "duration": 58,
        "start_time": "2023-06-02T07:50:57.694Z"
      },
      {
        "duration": 10,
        "start_time": "2023-06-02T07:50:57.754Z"
      },
      {
        "duration": 80,
        "start_time": "2023-06-02T07:50:57.767Z"
      },
      {
        "duration": 12,
        "start_time": "2023-06-02T07:50:57.851Z"
      },
      {
        "duration": 22,
        "start_time": "2023-06-02T07:50:57.864Z"
      },
      {
        "duration": 41,
        "start_time": "2023-06-02T07:50:57.891Z"
      },
      {
        "duration": 86,
        "start_time": "2023-06-02T07:50:57.934Z"
      },
      {
        "duration": 103,
        "start_time": "2023-06-02T07:50:58.021Z"
      },
      {
        "duration": 26,
        "start_time": "2023-06-02T07:50:58.126Z"
      },
      {
        "duration": 7,
        "start_time": "2023-06-02T07:50:58.153Z"
      },
      {
        "duration": 34,
        "start_time": "2023-06-02T07:50:58.162Z"
      },
      {
        "duration": 241,
        "start_time": "2023-06-02T07:50:58.199Z"
      },
      {
        "duration": 11,
        "start_time": "2023-06-02T07:50:58.442Z"
      },
      {
        "duration": 369,
        "start_time": "2023-06-02T07:50:58.455Z"
      },
      {
        "duration": 3,
        "start_time": "2023-06-02T07:50:58.827Z"
      },
      {
        "duration": 54,
        "start_time": "2023-06-02T07:50:58.831Z"
      },
      {
        "duration": 204,
        "start_time": "2023-06-02T07:50:58.887Z"
      },
      {
        "duration": 16,
        "start_time": "2023-06-02T07:50:59.093Z"
      },
      {
        "duration": 53,
        "start_time": "2023-06-02T07:50:59.111Z"
      },
      {
        "duration": 106,
        "start_time": "2023-06-02T07:50:59.181Z"
      },
      {
        "duration": 51,
        "start_time": "2023-06-02T07:50:59.294Z"
      },
      {
        "duration": 58,
        "start_time": "2023-06-02T07:50:59.346Z"
      },
      {
        "duration": 30,
        "start_time": "2023-06-02T07:50:59.405Z"
      },
      {
        "duration": 9,
        "start_time": "2023-06-02T07:50:59.437Z"
      },
      {
        "duration": 36,
        "start_time": "2023-06-02T07:52:51.855Z"
      },
      {
        "duration": 308,
        "start_time": "2023-06-02T07:53:46.202Z"
      },
      {
        "duration": 327,
        "start_time": "2023-06-02T07:54:25.173Z"
      },
      {
        "duration": 252,
        "start_time": "2023-06-02T07:54:36.371Z"
      },
      {
        "duration": 9,
        "start_time": "2023-06-02T07:57:02.632Z"
      },
      {
        "duration": 22,
        "start_time": "2023-06-02T07:57:07.964Z"
      },
      {
        "duration": 179,
        "start_time": "2023-06-02T07:57:34.109Z"
      },
      {
        "duration": 21,
        "start_time": "2023-06-02T07:57:56.771Z"
      },
      {
        "duration": 40,
        "start_time": "2023-06-02T07:58:06.319Z"
      },
      {
        "duration": 27,
        "start_time": "2023-06-02T07:59:19.844Z"
      },
      {
        "duration": 15,
        "start_time": "2023-06-02T08:01:02.054Z"
      },
      {
        "duration": 72,
        "start_time": "2023-06-02T08:01:04.851Z"
      },
      {
        "duration": 12,
        "start_time": "2023-06-02T08:01:12.902Z"
      },
      {
        "duration": 16,
        "start_time": "2023-06-02T08:01:21.977Z"
      },
      {
        "duration": 13,
        "start_time": "2023-06-02T08:01:27.516Z"
      },
      {
        "duration": 51,
        "start_time": "2023-06-02T08:02:32.601Z"
      },
      {
        "duration": 56,
        "start_time": "2023-06-02T08:02:48.054Z"
      },
      {
        "duration": 60,
        "start_time": "2023-06-02T08:03:18.201Z"
      },
      {
        "duration": 45,
        "start_time": "2023-06-02T08:03:28.348Z"
      },
      {
        "duration": 41,
        "start_time": "2023-06-02T08:03:38.605Z"
      },
      {
        "duration": 65,
        "start_time": "2023-06-02T08:03:43.955Z"
      },
      {
        "duration": 65,
        "start_time": "2023-06-02T08:04:04.094Z"
      },
      {
        "duration": 74,
        "start_time": "2023-06-02T08:04:27.962Z"
      },
      {
        "duration": 66,
        "start_time": "2023-06-02T08:04:37.366Z"
      },
      {
        "duration": 22,
        "start_time": "2023-06-02T08:05:11.076Z"
      },
      {
        "duration": 14,
        "start_time": "2023-06-02T08:05:43.569Z"
      },
      {
        "duration": 57,
        "start_time": "2023-06-02T08:06:44.599Z"
      },
      {
        "duration": 17,
        "start_time": "2023-06-02T08:06:46.196Z"
      },
      {
        "duration": 15,
        "start_time": "2023-06-02T08:06:55.097Z"
      },
      {
        "duration": 21,
        "start_time": "2023-06-02T08:08:30.474Z"
      },
      {
        "duration": 11,
        "start_time": "2023-06-02T08:08:52.456Z"
      },
      {
        "duration": 13,
        "start_time": "2023-06-02T08:09:00.355Z"
      },
      {
        "duration": 20,
        "start_time": "2023-06-02T08:09:05.301Z"
      },
      {
        "duration": 12,
        "start_time": "2023-06-02T08:09:19.421Z"
      },
      {
        "duration": 62,
        "start_time": "2023-06-02T08:09:21.196Z"
      },
      {
        "duration": 14,
        "start_time": "2023-06-02T08:19:40.901Z"
      },
      {
        "duration": 15,
        "start_time": "2023-06-02T08:20:04.371Z"
      },
      {
        "duration": 47,
        "start_time": "2023-06-02T08:20:14.552Z"
      },
      {
        "duration": 30,
        "start_time": "2023-06-02T08:22:56.839Z"
      },
      {
        "duration": 60,
        "start_time": "2023-06-02T08:23:01.410Z"
      },
      {
        "duration": 9,
        "start_time": "2023-06-02T08:23:45.212Z"
      },
      {
        "duration": 17,
        "start_time": "2023-06-02T08:23:51.210Z"
      },
      {
        "duration": 17,
        "start_time": "2023-06-02T08:23:56.499Z"
      },
      {
        "duration": 10,
        "start_time": "2023-06-02T08:24:07.262Z"
      },
      {
        "duration": 48,
        "start_time": "2023-06-02T08:24:16.694Z"
      },
      {
        "duration": 18,
        "start_time": "2023-06-02T08:24:52.355Z"
      },
      {
        "duration": 16,
        "start_time": "2023-06-02T08:26:33.730Z"
      },
      {
        "duration": 26,
        "start_time": "2023-06-02T08:26:45.807Z"
      },
      {
        "duration": 4260,
        "start_time": "2023-06-02T08:30:04.169Z"
      },
      {
        "duration": 287,
        "start_time": "2023-06-02T08:30:08.431Z"
      },
      {
        "duration": 16,
        "start_time": "2023-06-02T08:30:08.720Z"
      },
      {
        "duration": 11,
        "start_time": "2023-06-02T08:30:08.738Z"
      },
      {
        "duration": 10,
        "start_time": "2023-06-02T08:30:08.751Z"
      },
      {
        "duration": 63,
        "start_time": "2023-06-02T08:30:08.763Z"
      },
      {
        "duration": 23,
        "start_time": "2023-06-02T08:30:08.828Z"
      },
      {
        "duration": 28,
        "start_time": "2023-06-02T08:30:08.854Z"
      },
      {
        "duration": 46,
        "start_time": "2023-06-02T08:30:08.884Z"
      },
      {
        "duration": 8,
        "start_time": "2023-06-02T08:30:08.932Z"
      },
      {
        "duration": 89,
        "start_time": "2023-06-02T08:30:08.942Z"
      },
      {
        "duration": 6,
        "start_time": "2023-06-02T08:30:09.032Z"
      },
      {
        "duration": 20,
        "start_time": "2023-06-02T08:30:09.040Z"
      },
      {
        "duration": 41,
        "start_time": "2023-06-02T08:30:09.062Z"
      },
      {
        "duration": 75,
        "start_time": "2023-06-02T08:30:09.104Z"
      },
      {
        "duration": 97,
        "start_time": "2023-06-02T08:30:09.183Z"
      },
      {
        "duration": 38,
        "start_time": "2023-06-02T08:30:09.281Z"
      },
      {
        "duration": 6,
        "start_time": "2023-06-02T08:30:09.321Z"
      },
      {
        "duration": 8,
        "start_time": "2023-06-02T08:30:09.328Z"
      },
      {
        "duration": 267,
        "start_time": "2023-06-02T08:30:09.337Z"
      },
      {
        "duration": 14,
        "start_time": "2023-06-02T08:30:09.606Z"
      },
      {
        "duration": 1138,
        "start_time": "2023-06-02T08:30:09.622Z"
      },
      {
        "duration": 44,
        "start_time": "2023-06-02T08:30:10.764Z"
      },
      {
        "duration": 202,
        "start_time": "2023-06-02T08:30:10.811Z"
      },
      {
        "duration": 15,
        "start_time": "2023-06-02T08:30:11.016Z"
      },
      {
        "duration": 109,
        "start_time": "2023-06-02T08:30:11.033Z"
      },
      {
        "duration": 18,
        "start_time": "2023-06-02T08:30:11.144Z"
      },
      {
        "duration": 83,
        "start_time": "2023-06-02T08:30:11.179Z"
      },
      {
        "duration": 145,
        "start_time": "2023-06-02T08:30:11.265Z"
      },
      {
        "duration": 96,
        "start_time": "2023-06-02T08:30:11.412Z"
      },
      {
        "duration": 89,
        "start_time": "2023-06-02T08:30:11.510Z"
      },
      {
        "duration": 13,
        "start_time": "2023-06-02T08:30:11.602Z"
      },
      {
        "duration": 14,
        "start_time": "2023-06-02T08:44:47.968Z"
      },
      {
        "duration": 56,
        "start_time": "2023-06-02T10:24:08.562Z"
      },
      {
        "duration": 44,
        "start_time": "2023-06-02T10:24:11.366Z"
      },
      {
        "duration": 66,
        "start_time": "2023-06-02T10:24:15.766Z"
      },
      {
        "duration": 77,
        "start_time": "2023-06-02T10:24:23.515Z"
      },
      {
        "duration": 57,
        "start_time": "2023-06-02T10:24:36.484Z"
      },
      {
        "duration": 32,
        "start_time": "2023-06-02T10:26:35.376Z"
      },
      {
        "duration": 17,
        "start_time": "2023-06-02T10:28:00.812Z"
      },
      {
        "duration": 15,
        "start_time": "2023-06-02T10:28:38.192Z"
      },
      {
        "duration": 28,
        "start_time": "2023-06-02T10:28:51.569Z"
      },
      {
        "duration": 4,
        "start_time": "2023-06-02T10:30:56.984Z"
      },
      {
        "duration": 234,
        "start_time": "2023-06-02T10:31:03.066Z"
      },
      {
        "duration": 67,
        "start_time": "2023-06-02T10:31:14.297Z"
      },
      {
        "duration": 27,
        "start_time": "2023-06-02T10:34:40.187Z"
      },
      {
        "duration": 36,
        "start_time": "2023-06-02T10:34:44.867Z"
      },
      {
        "duration": 39,
        "start_time": "2023-06-02T10:36:30.698Z"
      },
      {
        "duration": 54,
        "start_time": "2023-06-02T10:36:37.564Z"
      },
      {
        "duration": 62,
        "start_time": "2023-06-02T10:36:50.799Z"
      },
      {
        "duration": 32,
        "start_time": "2023-06-02T10:37:03.762Z"
      },
      {
        "duration": 46,
        "start_time": "2023-06-02T10:38:33.879Z"
      },
      {
        "duration": 63,
        "start_time": "2023-06-02T10:39:17.067Z"
      },
      {
        "duration": 25,
        "start_time": "2023-06-02T10:39:41.463Z"
      },
      {
        "duration": 44,
        "start_time": "2023-06-02T10:39:58.080Z"
      },
      {
        "duration": 52,
        "start_time": "2023-06-02T10:40:04.938Z"
      },
      {
        "duration": 10,
        "start_time": "2023-06-02T10:40:55.180Z"
      },
      {
        "duration": 47,
        "start_time": "2023-06-02T10:49:00.056Z"
      },
      {
        "duration": 174,
        "start_time": "2023-06-02T10:51:47.960Z"
      },
      {
        "duration": 38,
        "start_time": "2023-06-02T10:52:15.611Z"
      },
      {
        "duration": 35,
        "start_time": "2023-06-02T10:52:21.263Z"
      },
      {
        "duration": 25,
        "start_time": "2023-06-02T10:52:30.231Z"
      },
      {
        "duration": 41,
        "start_time": "2023-06-02T10:54:14.477Z"
      },
      {
        "duration": 29,
        "start_time": "2023-06-02T10:54:27.280Z"
      },
      {
        "duration": 26,
        "start_time": "2023-06-02T10:54:42.302Z"
      },
      {
        "duration": 30,
        "start_time": "2023-06-02T10:56:28.672Z"
      },
      {
        "duration": 28,
        "start_time": "2023-06-02T10:57:01.564Z"
      },
      {
        "duration": 38,
        "start_time": "2023-06-02T10:57:29.085Z"
      },
      {
        "duration": 14,
        "start_time": "2023-06-02T10:57:34.334Z"
      },
      {
        "duration": 766,
        "start_time": "2023-06-02T10:59:27.612Z"
      },
      {
        "duration": 27,
        "start_time": "2023-06-02T10:59:40.023Z"
      },
      {
        "duration": 9,
        "start_time": "2023-06-02T11:00:07.696Z"
      },
      {
        "duration": 21,
        "start_time": "2023-06-02T11:00:11.622Z"
      },
      {
        "duration": 8,
        "start_time": "2023-06-02T11:00:12.968Z"
      },
      {
        "duration": 29,
        "start_time": "2023-06-02T11:00:50.005Z"
      },
      {
        "duration": 34,
        "start_time": "2023-06-02T11:00:53.125Z"
      },
      {
        "duration": 38,
        "start_time": "2023-06-02T11:02:34.022Z"
      },
      {
        "duration": 59,
        "start_time": "2023-06-02T11:02:51.158Z"
      },
      {
        "duration": 82,
        "start_time": "2023-06-02T11:03:30.174Z"
      },
      {
        "duration": 49,
        "start_time": "2023-06-02T11:04:14.131Z"
      },
      {
        "duration": 53,
        "start_time": "2023-06-02T11:04:21.392Z"
      },
      {
        "duration": 25,
        "start_time": "2023-06-02T11:04:38.129Z"
      },
      {
        "duration": 37,
        "start_time": "2023-06-02T11:04:45.562Z"
      },
      {
        "duration": 23,
        "start_time": "2023-06-02T11:05:50.570Z"
      },
      {
        "duration": 48,
        "start_time": "2023-06-02T11:05:55.916Z"
      },
      {
        "duration": 33,
        "start_time": "2023-06-02T11:06:46.472Z"
      },
      {
        "duration": 22,
        "start_time": "2023-06-02T11:09:31.517Z"
      },
      {
        "duration": 18,
        "start_time": "2023-06-02T11:09:46.656Z"
      },
      {
        "duration": 10,
        "start_time": "2023-06-02T11:10:04.470Z"
      },
      {
        "duration": 10,
        "start_time": "2023-06-02T11:10:24.467Z"
      },
      {
        "duration": 10,
        "start_time": "2023-06-02T11:10:34.357Z"
      },
      {
        "duration": 8,
        "start_time": "2023-06-02T11:11:11.658Z"
      },
      {
        "duration": 22,
        "start_time": "2023-06-02T11:14:58.474Z"
      },
      {
        "duration": 11,
        "start_time": "2023-06-02T11:15:40.971Z"
      },
      {
        "duration": 22,
        "start_time": "2023-06-02T11:16:12.071Z"
      },
      {
        "duration": 1231,
        "start_time": "2023-06-02T11:16:18.232Z"
      },
      {
        "duration": 886,
        "start_time": "2023-06-02T11:16:19.465Z"
      },
      {
        "duration": 11,
        "start_time": "2023-06-02T11:16:20.352Z"
      },
      {
        "duration": 11,
        "start_time": "2023-06-02T11:16:20.365Z"
      },
      {
        "duration": 17,
        "start_time": "2023-06-02T11:16:20.378Z"
      },
      {
        "duration": 36,
        "start_time": "2023-06-02T11:16:20.397Z"
      },
      {
        "duration": 11,
        "start_time": "2023-06-02T11:16:20.435Z"
      },
      {
        "duration": 31,
        "start_time": "2023-06-02T11:16:20.448Z"
      },
      {
        "duration": 34,
        "start_time": "2023-06-02T11:16:20.481Z"
      },
      {
        "duration": 19,
        "start_time": "2023-06-02T11:16:20.517Z"
      },
      {
        "duration": 72,
        "start_time": "2023-06-02T11:16:20.538Z"
      },
      {
        "duration": 7,
        "start_time": "2023-06-02T11:16:20.612Z"
      },
      {
        "duration": 26,
        "start_time": "2023-06-02T11:16:20.624Z"
      },
      {
        "duration": 34,
        "start_time": "2023-06-02T11:16:20.652Z"
      },
      {
        "duration": 83,
        "start_time": "2023-06-02T11:16:20.687Z"
      },
      {
        "duration": 90,
        "start_time": "2023-06-02T11:16:20.772Z"
      },
      {
        "duration": 33,
        "start_time": "2023-06-02T11:16:20.864Z"
      },
      {
        "duration": 7,
        "start_time": "2023-06-02T11:16:20.899Z"
      },
      {
        "duration": 17,
        "start_time": "2023-06-02T11:16:20.908Z"
      },
      {
        "duration": 240,
        "start_time": "2023-06-02T11:16:20.927Z"
      },
      {
        "duration": 18,
        "start_time": "2023-06-02T11:16:21.168Z"
      },
      {
        "duration": 358,
        "start_time": "2023-06-02T11:16:21.188Z"
      },
      {
        "duration": 11,
        "start_time": "2023-06-02T11:16:21.547Z"
      },
      {
        "duration": 201,
        "start_time": "2023-06-02T11:16:21.560Z"
      },
      {
        "duration": 25,
        "start_time": "2023-06-02T11:16:21.763Z"
      },
      {
        "duration": 61,
        "start_time": "2023-06-02T11:16:21.790Z"
      },
      {
        "duration": 100,
        "start_time": "2023-06-02T11:16:21.853Z"
      },
      {
        "duration": 58,
        "start_time": "2023-06-02T11:16:21.956Z"
      },
      {
        "duration": 84,
        "start_time": "2023-06-02T11:16:22.016Z"
      },
      {
        "duration": 9,
        "start_time": "2023-06-02T11:16:22.102Z"
      },
      {
        "duration": 22,
        "start_time": "2023-06-02T11:16:22.113Z"
      },
      {
        "duration": 8,
        "start_time": "2023-06-02T11:16:22.137Z"
      },
      {
        "duration": 28,
        "start_time": "2023-06-02T11:16:22.177Z"
      },
      {
        "duration": 78,
        "start_time": "2023-06-02T11:16:22.206Z"
      },
      {
        "duration": 13,
        "start_time": "2023-06-02T11:16:22.287Z"
      },
      {
        "duration": 11,
        "start_time": "2023-06-02T11:16:22.302Z"
      },
      {
        "duration": 21,
        "start_time": "2023-06-02T11:17:30.871Z"
      },
      {
        "duration": 11,
        "start_time": "2023-06-02T11:17:38.294Z"
      },
      {
        "duration": 13,
        "start_time": "2023-06-02T11:18:05.368Z"
      },
      {
        "duration": 11,
        "start_time": "2023-06-02T11:23:18.360Z"
      },
      {
        "duration": 11,
        "start_time": "2023-06-02T11:25:55.739Z"
      },
      {
        "duration": 27,
        "start_time": "2023-06-02T11:26:32.816Z"
      },
      {
        "duration": 26,
        "start_time": "2023-06-02T11:26:42.610Z"
      },
      {
        "duration": 59,
        "start_time": "2023-06-02T11:27:32.903Z"
      },
      {
        "duration": 35,
        "start_time": "2023-06-02T11:27:50.649Z"
      },
      {
        "duration": 37,
        "start_time": "2023-06-02T11:27:57.989Z"
      },
      {
        "duration": 69,
        "start_time": "2023-06-02T11:28:17.172Z"
      },
      {
        "duration": 1477,
        "start_time": "2023-06-02T14:20:58.947Z"
      },
      {
        "duration": 1161,
        "start_time": "2023-06-02T14:21:00.426Z"
      },
      {
        "duration": 12,
        "start_time": "2023-06-02T14:21:01.589Z"
      },
      {
        "duration": 39,
        "start_time": "2023-06-02T14:21:01.603Z"
      },
      {
        "duration": 52,
        "start_time": "2023-06-02T14:21:01.643Z"
      },
      {
        "duration": 60,
        "start_time": "2023-06-02T14:21:01.697Z"
      },
      {
        "duration": 39,
        "start_time": "2023-06-02T14:21:01.759Z"
      },
      {
        "duration": 32,
        "start_time": "2023-06-02T14:21:01.800Z"
      },
      {
        "duration": 99,
        "start_time": "2023-06-02T14:21:01.834Z"
      },
      {
        "duration": 12,
        "start_time": "2023-06-02T14:21:01.936Z"
      },
      {
        "duration": 80,
        "start_time": "2023-06-02T14:21:01.950Z"
      },
      {
        "duration": 7,
        "start_time": "2023-06-02T14:21:02.031Z"
      },
      {
        "duration": 28,
        "start_time": "2023-06-02T14:21:02.039Z"
      },
      {
        "duration": 36,
        "start_time": "2023-06-02T14:21:02.069Z"
      },
      {
        "duration": 82,
        "start_time": "2023-06-02T14:21:02.107Z"
      },
      {
        "duration": 90,
        "start_time": "2023-06-02T14:21:02.191Z"
      },
      {
        "duration": 25,
        "start_time": "2023-06-02T14:21:02.283Z"
      },
      {
        "duration": 6,
        "start_time": "2023-06-02T14:21:02.310Z"
      },
      {
        "duration": 36,
        "start_time": "2023-06-02T14:21:02.317Z"
      },
      {
        "duration": 249,
        "start_time": "2023-06-02T14:21:02.355Z"
      },
      {
        "duration": 12,
        "start_time": "2023-06-02T14:21:02.605Z"
      },
      {
        "duration": 413,
        "start_time": "2023-06-02T14:21:02.618Z"
      },
      {
        "duration": 11,
        "start_time": "2023-06-02T14:21:03.033Z"
      },
      {
        "duration": 247,
        "start_time": "2023-06-02T14:21:03.046Z"
      },
      {
        "duration": 27,
        "start_time": "2023-06-02T14:21:03.295Z"
      },
      {
        "duration": 63,
        "start_time": "2023-06-02T14:21:03.324Z"
      },
      {
        "duration": 96,
        "start_time": "2023-06-02T14:21:03.389Z"
      },
      {
        "duration": 51,
        "start_time": "2023-06-02T14:21:03.488Z"
      },
      {
        "duration": 83,
        "start_time": "2023-06-02T14:21:03.541Z"
      },
      {
        "duration": 9,
        "start_time": "2023-06-02T14:21:03.626Z"
      },
      {
        "duration": 46,
        "start_time": "2023-06-02T14:21:03.637Z"
      },
      {
        "duration": 9,
        "start_time": "2023-06-02T14:21:03.685Z"
      },
      {
        "duration": 19,
        "start_time": "2023-06-02T14:21:03.696Z"
      },
      {
        "duration": 80,
        "start_time": "2023-06-02T14:21:03.717Z"
      },
      {
        "duration": 9,
        "start_time": "2023-06-02T14:21:03.799Z"
      },
      {
        "duration": 12,
        "start_time": "2023-06-02T14:21:03.810Z"
      },
      {
        "duration": 28,
        "start_time": "2023-06-02T14:23:18.889Z"
      },
      {
        "duration": 23,
        "start_time": "2023-06-02T14:23:36.029Z"
      },
      {
        "duration": 27,
        "start_time": "2023-06-02T14:24:04.350Z"
      },
      {
        "duration": 33,
        "start_time": "2023-06-02T14:24:08.157Z"
      },
      {
        "duration": 10,
        "start_time": "2023-06-02T14:24:10.096Z"
      },
      {
        "duration": 21,
        "start_time": "2023-06-02T14:24:27.043Z"
      },
      {
        "duration": 965,
        "start_time": "2023-06-02T14:25:29.684Z"
      },
      {
        "duration": 727,
        "start_time": "2023-06-02T14:25:42.390Z"
      },
      {
        "duration": 19,
        "start_time": "2023-06-02T14:25:59.540Z"
      },
      {
        "duration": 26,
        "start_time": "2023-06-02T14:27:34.130Z"
      },
      {
        "duration": 22,
        "start_time": "2023-06-02T14:27:40.533Z"
      },
      {
        "duration": 33,
        "start_time": "2023-06-02T14:27:45.506Z"
      },
      {
        "duration": 20,
        "start_time": "2023-06-02T14:28:05.689Z"
      },
      {
        "duration": 31,
        "start_time": "2023-06-02T14:55:27.371Z"
      },
      {
        "duration": 30,
        "start_time": "2023-06-02T14:55:31.706Z"
      },
      {
        "duration": 54,
        "start_time": "2023-06-02T14:56:37.639Z"
      },
      {
        "duration": 56,
        "start_time": "2023-06-02T14:56:44.010Z"
      },
      {
        "duration": 73,
        "start_time": "2023-06-02T15:00:38.289Z"
      },
      {
        "duration": 40,
        "start_time": "2023-06-02T15:00:54.561Z"
      },
      {
        "duration": 54,
        "start_time": "2023-06-02T15:02:17.166Z"
      },
      {
        "duration": 42,
        "start_time": "2023-06-02T15:02:36.380Z"
      },
      {
        "duration": 46,
        "start_time": "2023-06-02T15:02:45.928Z"
      },
      {
        "duration": 43,
        "start_time": "2023-06-02T15:02:49.722Z"
      },
      {
        "duration": 52,
        "start_time": "2023-06-04T07:20:38.486Z"
      },
      {
        "duration": 1363,
        "start_time": "2023-06-04T07:20:52.248Z"
      },
      {
        "duration": 597,
        "start_time": "2023-06-04T07:20:53.613Z"
      },
      {
        "duration": 10,
        "start_time": "2023-06-04T07:20:54.211Z"
      },
      {
        "duration": 10,
        "start_time": "2023-06-04T07:20:54.223Z"
      },
      {
        "duration": 15,
        "start_time": "2023-06-04T07:20:54.234Z"
      },
      {
        "duration": 32,
        "start_time": "2023-06-04T07:20:54.250Z"
      },
      {
        "duration": 7,
        "start_time": "2023-06-04T07:20:54.283Z"
      },
      {
        "duration": 16,
        "start_time": "2023-06-04T07:20:54.292Z"
      },
      {
        "duration": 37,
        "start_time": "2023-06-04T07:20:54.309Z"
      },
      {
        "duration": 7,
        "start_time": "2023-06-04T07:20:54.348Z"
      },
      {
        "duration": 55,
        "start_time": "2023-06-04T07:20:54.356Z"
      },
      {
        "duration": 13,
        "start_time": "2023-06-04T07:20:54.412Z"
      },
      {
        "duration": 9,
        "start_time": "2023-06-04T07:20:54.426Z"
      },
      {
        "duration": 26,
        "start_time": "2023-06-04T07:20:54.436Z"
      },
      {
        "duration": 71,
        "start_time": "2023-06-04T07:20:54.464Z"
      },
      {
        "duration": 74,
        "start_time": "2023-06-04T07:20:54.537Z"
      },
      {
        "duration": 31,
        "start_time": "2023-06-04T07:20:54.613Z"
      },
      {
        "duration": 6,
        "start_time": "2023-06-04T07:20:54.646Z"
      },
      {
        "duration": 13,
        "start_time": "2023-06-04T07:20:54.654Z"
      },
      {
        "duration": 227,
        "start_time": "2023-06-04T07:20:54.668Z"
      },
      {
        "duration": 9,
        "start_time": "2023-06-04T07:20:54.897Z"
      },
      {
        "duration": 402,
        "start_time": "2023-06-04T07:20:54.907Z"
      },
      {
        "duration": 11,
        "start_time": "2023-06-04T07:20:55.310Z"
      },
      {
        "duration": 168,
        "start_time": "2023-06-04T07:20:55.322Z"
      },
      {
        "duration": 19,
        "start_time": "2023-06-04T07:20:55.491Z"
      },
      {
        "duration": 59,
        "start_time": "2023-06-04T07:20:55.511Z"
      },
      {
        "duration": 85,
        "start_time": "2023-06-04T07:20:55.571Z"
      },
      {
        "duration": 44,
        "start_time": "2023-06-04T07:20:55.659Z"
      },
      {
        "duration": 75,
        "start_time": "2023-06-04T07:20:55.704Z"
      },
      {
        "duration": 9,
        "start_time": "2023-06-04T07:20:55.781Z"
      },
      {
        "duration": 34,
        "start_time": "2023-06-04T07:20:55.791Z"
      },
      {
        "duration": 8,
        "start_time": "2023-06-04T07:20:55.827Z"
      },
      {
        "duration": 34,
        "start_time": "2023-06-04T07:20:55.836Z"
      },
      {
        "duration": 171,
        "start_time": "2023-06-04T07:20:55.872Z"
      },
      {
        "duration": 0,
        "start_time": "2023-06-04T07:20:56.044Z"
      },
      {
        "duration": 0,
        "start_time": "2023-06-04T07:20:56.046Z"
      },
      {
        "duration": 32,
        "start_time": "2023-06-04T07:22:04.610Z"
      },
      {
        "duration": 1900,
        "start_time": "2023-06-04T07:22:40.828Z"
      },
      {
        "duration": 29,
        "start_time": "2023-06-04T07:22:50.346Z"
      },
      {
        "duration": 30,
        "start_time": "2023-06-04T07:23:13.227Z"
      },
      {
        "duration": 30,
        "start_time": "2023-06-04T07:23:16.940Z"
      },
      {
        "duration": 22,
        "start_time": "2023-06-04T07:23:45.576Z"
      },
      {
        "duration": 1236,
        "start_time": "2023-06-04T07:23:50.172Z"
      },
      {
        "duration": 240,
        "start_time": "2023-06-04T07:23:51.410Z"
      },
      {
        "duration": 11,
        "start_time": "2023-06-04T07:23:51.651Z"
      },
      {
        "duration": 17,
        "start_time": "2023-06-04T07:23:51.664Z"
      },
      {
        "duration": 9,
        "start_time": "2023-06-04T07:23:51.683Z"
      },
      {
        "duration": 37,
        "start_time": "2023-06-04T07:23:51.694Z"
      },
      {
        "duration": 10,
        "start_time": "2023-06-04T07:23:51.733Z"
      },
      {
        "duration": 18,
        "start_time": "2023-06-04T07:23:51.744Z"
      },
      {
        "duration": 32,
        "start_time": "2023-06-04T07:23:51.764Z"
      },
      {
        "duration": 6,
        "start_time": "2023-06-04T07:23:51.799Z"
      },
      {
        "duration": 62,
        "start_time": "2023-06-04T07:23:51.807Z"
      },
      {
        "duration": 8,
        "start_time": "2023-06-04T07:23:51.871Z"
      },
      {
        "duration": 17,
        "start_time": "2023-06-04T07:23:51.881Z"
      },
      {
        "duration": 54,
        "start_time": "2023-06-04T07:23:51.899Z"
      },
      {
        "duration": 77,
        "start_time": "2023-06-04T07:23:51.954Z"
      },
      {
        "duration": 82,
        "start_time": "2023-06-04T07:23:52.033Z"
      },
      {
        "duration": 23,
        "start_time": "2023-06-04T07:23:52.124Z"
      },
      {
        "duration": 6,
        "start_time": "2023-06-04T07:23:52.148Z"
      },
      {
        "duration": 22,
        "start_time": "2023-06-04T07:23:52.156Z"
      },
      {
        "duration": 215,
        "start_time": "2023-06-04T07:23:52.180Z"
      },
      {
        "duration": 11,
        "start_time": "2023-06-04T07:23:52.396Z"
      },
      {
        "duration": 364,
        "start_time": "2023-06-04T07:23:52.409Z"
      },
      {
        "duration": 10,
        "start_time": "2023-06-04T07:23:52.774Z"
      },
      {
        "duration": 194,
        "start_time": "2023-06-04T07:23:52.786Z"
      },
      {
        "duration": 13,
        "start_time": "2023-06-04T07:23:52.982Z"
      },
      {
        "duration": 66,
        "start_time": "2023-06-04T07:23:52.996Z"
      },
      {
        "duration": 87,
        "start_time": "2023-06-04T07:23:53.063Z"
      },
      {
        "duration": 45,
        "start_time": "2023-06-04T07:23:53.153Z"
      },
      {
        "duration": 73,
        "start_time": "2023-06-04T07:23:53.199Z"
      },
      {
        "duration": 11,
        "start_time": "2023-06-04T07:23:53.274Z"
      },
      {
        "duration": 28,
        "start_time": "2023-06-04T07:23:53.286Z"
      },
      {
        "duration": 20,
        "start_time": "2023-06-04T07:23:53.315Z"
      },
      {
        "duration": 42,
        "start_time": "2023-06-04T07:23:53.337Z"
      },
      {
        "duration": 154,
        "start_time": "2023-06-04T07:23:53.380Z"
      },
      {
        "duration": 0,
        "start_time": "2023-06-04T07:23:53.535Z"
      },
      {
        "duration": 0,
        "start_time": "2023-06-04T07:23:53.537Z"
      },
      {
        "duration": 21,
        "start_time": "2023-06-04T07:24:29.977Z"
      },
      {
        "duration": 25,
        "start_time": "2023-06-04T07:24:33.268Z"
      },
      {
        "duration": 29,
        "start_time": "2023-06-04T07:24:42.008Z"
      },
      {
        "duration": 35,
        "start_time": "2023-06-04T07:36:29.964Z"
      },
      {
        "duration": 1255,
        "start_time": "2023-06-04T07:36:41.289Z"
      },
      {
        "duration": 293,
        "start_time": "2023-06-04T07:36:42.546Z"
      },
      {
        "duration": 11,
        "start_time": "2023-06-04T07:36:42.842Z"
      },
      {
        "duration": 18,
        "start_time": "2023-06-04T07:36:42.856Z"
      },
      {
        "duration": 8,
        "start_time": "2023-06-04T07:36:42.875Z"
      },
      {
        "duration": 48,
        "start_time": "2023-06-04T07:36:42.885Z"
      },
      {
        "duration": 8,
        "start_time": "2023-06-04T07:36:42.935Z"
      },
      {
        "duration": 13,
        "start_time": "2023-06-04T07:36:42.945Z"
      },
      {
        "duration": 73,
        "start_time": "2023-06-04T07:36:42.960Z"
      },
      {
        "duration": 9,
        "start_time": "2023-06-04T07:36:43.036Z"
      },
      {
        "duration": 54,
        "start_time": "2023-06-04T07:36:43.047Z"
      },
      {
        "duration": 22,
        "start_time": "2023-06-04T07:36:43.104Z"
      },
      {
        "duration": 15,
        "start_time": "2023-06-04T07:36:43.128Z"
      },
      {
        "duration": 30,
        "start_time": "2023-06-04T07:36:43.146Z"
      },
      {
        "duration": 96,
        "start_time": "2023-06-04T07:36:43.178Z"
      },
      {
        "duration": 114,
        "start_time": "2023-06-04T07:36:43.277Z"
      },
      {
        "duration": 38,
        "start_time": "2023-06-04T07:36:43.393Z"
      },
      {
        "duration": 8,
        "start_time": "2023-06-04T07:36:43.433Z"
      },
      {
        "duration": 139,
        "start_time": "2023-06-04T07:36:43.442Z"
      },
      {
        "duration": 214,
        "start_time": "2023-06-04T07:36:43.583Z"
      },
      {
        "duration": 13,
        "start_time": "2023-06-04T07:36:43.798Z"
      },
      {
        "duration": 376,
        "start_time": "2023-06-04T07:36:43.826Z"
      },
      {
        "duration": 14,
        "start_time": "2023-06-04T07:36:44.203Z"
      },
      {
        "duration": 232,
        "start_time": "2023-06-04T07:36:44.226Z"
      },
      {
        "duration": 17,
        "start_time": "2023-06-04T07:36:44.460Z"
      },
      {
        "duration": 84,
        "start_time": "2023-06-04T07:36:44.479Z"
      },
      {
        "duration": 96,
        "start_time": "2023-06-04T07:36:44.565Z"
      },
      {
        "duration": 67,
        "start_time": "2023-06-04T07:36:44.664Z"
      },
      {
        "duration": 60,
        "start_time": "2023-06-04T07:36:44.733Z"
      },
      {
        "duration": 12,
        "start_time": "2023-06-04T07:36:44.794Z"
      },
      {
        "duration": 35,
        "start_time": "2023-06-04T07:36:44.808Z"
      },
      {
        "duration": 21,
        "start_time": "2023-06-04T07:36:44.845Z"
      },
      {
        "duration": 38,
        "start_time": "2023-06-04T07:36:44.868Z"
      },
      {
        "duration": 206,
        "start_time": "2023-06-04T07:36:44.908Z"
      },
      {
        "duration": 0,
        "start_time": "2023-06-04T07:36:45.116Z"
      },
      {
        "duration": 0,
        "start_time": "2023-06-04T07:36:45.117Z"
      },
      {
        "duration": 12,
        "start_time": "2023-06-04T07:39:25.916Z"
      },
      {
        "duration": 24,
        "start_time": "2023-06-04T07:39:30.347Z"
      },
      {
        "duration": 28,
        "start_time": "2023-06-04T07:39:33.754Z"
      },
      {
        "duration": 96,
        "start_time": "2023-06-04T07:40:20.978Z"
      },
      {
        "duration": 80,
        "start_time": "2023-06-04T07:40:40.502Z"
      },
      {
        "duration": 199,
        "start_time": "2023-06-04T07:40:58.646Z"
      },
      {
        "duration": 153,
        "start_time": "2023-06-04T07:41:05.742Z"
      },
      {
        "duration": 105,
        "start_time": "2023-06-04T07:41:21.688Z"
      },
      {
        "duration": 118,
        "start_time": "2023-06-04T07:41:44.942Z"
      },
      {
        "duration": 1332,
        "start_time": "2023-06-04T07:41:54.110Z"
      },
      {
        "duration": 270,
        "start_time": "2023-06-04T07:41:55.444Z"
      },
      {
        "duration": 11,
        "start_time": "2023-06-04T07:41:55.716Z"
      },
      {
        "duration": 25,
        "start_time": "2023-06-04T07:41:55.729Z"
      },
      {
        "duration": 12,
        "start_time": "2023-06-04T07:41:55.755Z"
      },
      {
        "duration": 33,
        "start_time": "2023-06-04T07:41:55.768Z"
      },
      {
        "duration": 7,
        "start_time": "2023-06-04T07:41:55.803Z"
      },
      {
        "duration": 29,
        "start_time": "2023-06-04T07:41:55.811Z"
      },
      {
        "duration": 37,
        "start_time": "2023-06-04T07:41:55.842Z"
      },
      {
        "duration": 6,
        "start_time": "2023-06-04T07:41:55.882Z"
      },
      {
        "duration": 63,
        "start_time": "2023-06-04T07:41:55.890Z"
      },
      {
        "duration": 8,
        "start_time": "2023-06-04T07:41:55.955Z"
      },
      {
        "duration": 14,
        "start_time": "2023-06-04T07:41:55.965Z"
      },
      {
        "duration": 54,
        "start_time": "2023-06-04T07:41:55.981Z"
      },
      {
        "duration": 60,
        "start_time": "2023-06-04T07:41:56.036Z"
      },
      {
        "duration": 95,
        "start_time": "2023-06-04T07:41:56.097Z"
      },
      {
        "duration": 30,
        "start_time": "2023-06-04T07:41:56.195Z"
      },
      {
        "duration": 8,
        "start_time": "2023-06-04T07:41:56.228Z"
      },
      {
        "duration": 17,
        "start_time": "2023-06-04T07:41:56.238Z"
      },
      {
        "duration": 226,
        "start_time": "2023-06-04T07:41:56.256Z"
      },
      {
        "duration": 9,
        "start_time": "2023-06-04T07:41:56.483Z"
      },
      {
        "duration": 390,
        "start_time": "2023-06-04T07:41:56.494Z"
      },
      {
        "duration": 11,
        "start_time": "2023-06-04T07:41:56.886Z"
      },
      {
        "duration": 207,
        "start_time": "2023-06-04T07:41:56.898Z"
      },
      {
        "duration": 19,
        "start_time": "2023-06-04T07:41:57.106Z"
      },
      {
        "duration": 58,
        "start_time": "2023-06-04T07:41:57.126Z"
      },
      {
        "duration": 127,
        "start_time": "2023-06-04T07:41:57.185Z"
      },
      {
        "duration": 76,
        "start_time": "2023-06-04T07:41:57.315Z"
      },
      {
        "duration": 57,
        "start_time": "2023-06-04T07:41:57.392Z"
      },
      {
        "duration": 60,
        "start_time": "2023-06-04T07:41:57.451Z"
      },
      {
        "duration": 15,
        "start_time": "2023-06-04T07:41:57.525Z"
      },
      {
        "duration": 24,
        "start_time": "2023-06-04T07:41:57.542Z"
      },
      {
        "duration": 10,
        "start_time": "2023-06-04T07:41:57.567Z"
      },
      {
        "duration": 51,
        "start_time": "2023-06-04T07:41:57.579Z"
      },
      {
        "duration": 161,
        "start_time": "2023-06-04T07:41:57.632Z"
      },
      {
        "duration": 0,
        "start_time": "2023-06-04T07:41:57.795Z"
      },
      {
        "duration": 0,
        "start_time": "2023-06-04T07:41:57.796Z"
      },
      {
        "duration": 87,
        "start_time": "2023-06-04T07:43:18.155Z"
      },
      {
        "duration": 163,
        "start_time": "2023-06-04T07:43:22.574Z"
      },
      {
        "duration": 99,
        "start_time": "2023-06-04T07:43:46.635Z"
      },
      {
        "duration": 47,
        "start_time": "2023-06-04T07:45:18.813Z"
      },
      {
        "duration": 48,
        "start_time": "2023-06-04T07:45:26.508Z"
      },
      {
        "duration": 46,
        "start_time": "2023-06-04T07:45:39.523Z"
      },
      {
        "duration": 50,
        "start_time": "2023-06-04T07:45:44.115Z"
      },
      {
        "duration": 52,
        "start_time": "2023-06-04T07:46:10.408Z"
      },
      {
        "duration": 51,
        "start_time": "2023-06-04T07:46:28.247Z"
      },
      {
        "duration": 67,
        "start_time": "2023-06-04T07:47:01.289Z"
      },
      {
        "duration": 57,
        "start_time": "2023-06-04T07:47:52.916Z"
      },
      {
        "duration": 421,
        "start_time": "2023-06-04T07:48:13.561Z"
      },
      {
        "duration": 415,
        "start_time": "2023-06-04T07:48:26.761Z"
      },
      {
        "duration": 53,
        "start_time": "2023-06-04T07:48:41.668Z"
      },
      {
        "duration": 58,
        "start_time": "2023-06-04T07:49:01.304Z"
      },
      {
        "duration": 10950,
        "start_time": "2023-06-04T07:49:43.518Z"
      },
      {
        "duration": 30952,
        "start_time": "2023-06-04T07:49:55.861Z"
      },
      {
        "duration": 1545,
        "start_time": "2023-06-04T07:50:51.345Z"
      },
      {
        "duration": 50,
        "start_time": "2023-06-04T07:51:13.686Z"
      },
      {
        "duration": 56,
        "start_time": "2023-06-04T07:51:20.355Z"
      },
      {
        "duration": 1226,
        "start_time": "2023-06-04T07:52:01.764Z"
      },
      {
        "duration": 1186,
        "start_time": "2023-06-04T07:52:16.523Z"
      },
      {
        "duration": 85,
        "start_time": "2023-06-04T07:52:43.336Z"
      },
      {
        "duration": 75,
        "start_time": "2023-06-04T07:53:03.189Z"
      },
      {
        "duration": 73,
        "start_time": "2023-06-04T07:53:08.071Z"
      },
      {
        "duration": 1237,
        "start_time": "2023-06-04T07:53:43.100Z"
      },
      {
        "duration": 49,
        "start_time": "2023-06-04T07:54:04.479Z"
      },
      {
        "duration": 51,
        "start_time": "2023-06-04T07:54:44.379Z"
      },
      {
        "duration": 60,
        "start_time": "2023-06-04T07:55:34.630Z"
      },
      {
        "duration": 342,
        "start_time": "2023-06-04T07:56:26.668Z"
      },
      {
        "duration": 62,
        "start_time": "2023-06-04T07:56:41.463Z"
      },
      {
        "duration": 61,
        "start_time": "2023-06-04T07:57:03.442Z"
      },
      {
        "duration": 59,
        "start_time": "2023-06-04T07:58:27.954Z"
      },
      {
        "duration": 1242,
        "start_time": "2023-06-04T07:59:00.579Z"
      },
      {
        "duration": 58,
        "start_time": "2023-06-04T09:05:45.486Z"
      },
      {
        "duration": 74,
        "start_time": "2023-06-04T09:06:03.624Z"
      },
      {
        "duration": 16,
        "start_time": "2023-06-04T09:06:16.922Z"
      },
      {
        "duration": 49,
        "start_time": "2023-06-04T09:06:34.057Z"
      },
      {
        "duration": 44,
        "start_time": "2023-06-04T09:07:13.922Z"
      },
      {
        "duration": 44,
        "start_time": "2023-06-04T09:07:21.897Z"
      },
      {
        "duration": 22,
        "start_time": "2023-06-04T09:09:17.029Z"
      },
      {
        "duration": 44,
        "start_time": "2023-06-04T09:09:30.169Z"
      },
      {
        "duration": 66,
        "start_time": "2023-06-04T09:10:47.889Z"
      },
      {
        "duration": 107,
        "start_time": "2023-06-04T09:11:15.958Z"
      },
      {
        "duration": 104,
        "start_time": "2023-06-04T09:11:47.601Z"
      },
      {
        "duration": 17,
        "start_time": "2023-06-04T09:12:45.411Z"
      },
      {
        "duration": 47,
        "start_time": "2023-06-04T09:13:05.163Z"
      },
      {
        "duration": 50,
        "start_time": "2023-06-04T09:13:19.424Z"
      },
      {
        "duration": 56,
        "start_time": "2023-06-04T09:13:22.470Z"
      },
      {
        "duration": 54,
        "start_time": "2023-06-04T09:13:35.352Z"
      },
      {
        "duration": 53,
        "start_time": "2023-06-04T09:16:11.634Z"
      },
      {
        "duration": 71,
        "start_time": "2023-06-04T09:16:23.813Z"
      },
      {
        "duration": 26,
        "start_time": "2023-06-04T09:17:13.295Z"
      },
      {
        "duration": 14,
        "start_time": "2023-06-04T09:17:59.995Z"
      },
      {
        "duration": 337,
        "start_time": "2023-06-04T09:18:16.512Z"
      },
      {
        "duration": 62,
        "start_time": "2023-06-04T09:19:19.299Z"
      },
      {
        "duration": 16,
        "start_time": "2023-06-04T09:19:30.322Z"
      },
      {
        "duration": 73,
        "start_time": "2023-06-04T09:19:47.246Z"
      },
      {
        "duration": 69,
        "start_time": "2023-06-04T09:19:56.011Z"
      },
      {
        "duration": 18,
        "start_time": "2023-06-04T09:48:05.966Z"
      },
      {
        "duration": 8,
        "start_time": "2023-06-04T09:48:45.778Z"
      },
      {
        "duration": 32,
        "start_time": "2023-06-04T09:50:42.724Z"
      },
      {
        "duration": 32,
        "start_time": "2023-06-04T09:51:02.994Z"
      },
      {
        "duration": 21,
        "start_time": "2023-06-04T09:51:23.510Z"
      },
      {
        "duration": 297,
        "start_time": "2023-06-04T09:51:45.332Z"
      },
      {
        "duration": 1121,
        "start_time": "2023-06-04T09:51:58.165Z"
      },
      {
        "duration": 259,
        "start_time": "2023-06-04T09:51:59.288Z"
      },
      {
        "duration": 9,
        "start_time": "2023-06-04T09:51:59.548Z"
      },
      {
        "duration": 10,
        "start_time": "2023-06-04T09:51:59.559Z"
      },
      {
        "duration": 10,
        "start_time": "2023-06-04T09:51:59.570Z"
      },
      {
        "duration": 32,
        "start_time": "2023-06-04T09:51:59.581Z"
      },
      {
        "duration": 11,
        "start_time": "2023-06-04T09:51:59.614Z"
      },
      {
        "duration": 9,
        "start_time": "2023-06-04T09:51:59.626Z"
      },
      {
        "duration": 32,
        "start_time": "2023-06-04T09:51:59.636Z"
      },
      {
        "duration": 7,
        "start_time": "2023-06-04T09:51:59.671Z"
      },
      {
        "duration": 64,
        "start_time": "2023-06-04T09:51:59.679Z"
      },
      {
        "duration": 5,
        "start_time": "2023-06-04T09:51:59.745Z"
      },
      {
        "duration": 13,
        "start_time": "2023-06-04T09:51:59.752Z"
      },
      {
        "duration": 28,
        "start_time": "2023-06-04T09:51:59.766Z"
      },
      {
        "duration": 73,
        "start_time": "2023-06-04T09:51:59.796Z"
      },
      {
        "duration": 93,
        "start_time": "2023-06-04T09:51:59.871Z"
      },
      {
        "duration": 23,
        "start_time": "2023-06-04T09:51:59.966Z"
      },
      {
        "duration": 6,
        "start_time": "2023-06-04T09:51:59.991Z"
      },
      {
        "duration": 36,
        "start_time": "2023-06-04T09:51:59.999Z"
      },
      {
        "duration": 222,
        "start_time": "2023-06-04T09:52:00.037Z"
      },
      {
        "duration": 9,
        "start_time": "2023-06-04T09:52:00.261Z"
      },
      {
        "duration": 389,
        "start_time": "2023-06-04T09:52:00.272Z"
      },
      {
        "duration": 9,
        "start_time": "2023-06-04T09:52:00.663Z"
      },
      {
        "duration": 199,
        "start_time": "2023-06-04T09:52:00.674Z"
      },
      {
        "duration": 44,
        "start_time": "2023-06-04T09:52:00.875Z"
      },
      {
        "duration": 80,
        "start_time": "2023-06-04T09:52:00.920Z"
      },
      {
        "duration": 79,
        "start_time": "2023-06-04T09:52:01.003Z"
      },
      {
        "duration": 149,
        "start_time": "2023-06-04T09:52:01.087Z"
      },
      {
        "duration": 104,
        "start_time": "2023-06-04T09:52:01.238Z"
      },
      {
        "duration": 49,
        "start_time": "2023-06-04T09:52:01.344Z"
      },
      {
        "duration": 104,
        "start_time": "2023-06-04T09:52:01.395Z"
      },
      {
        "duration": 10,
        "start_time": "2023-06-04T09:52:01.501Z"
      },
      {
        "duration": 135,
        "start_time": "2023-06-04T09:52:01.512Z"
      },
      {
        "duration": 45,
        "start_time": "2023-06-04T09:52:01.649Z"
      },
      {
        "duration": 113,
        "start_time": "2023-06-04T09:52:01.695Z"
      },
      {
        "duration": 528,
        "start_time": "2023-06-04T09:52:01.810Z"
      },
      {
        "duration": 1,
        "start_time": "2023-06-04T09:52:02.339Z"
      },
      {
        "duration": 52,
        "start_time": "2023-06-04T14:50:49.901Z"
      },
      {
        "duration": 1518,
        "start_time": "2023-06-04T14:50:57.411Z"
      },
      {
        "duration": 1381,
        "start_time": "2023-06-04T14:50:58.931Z"
      },
      {
        "duration": 11,
        "start_time": "2023-06-04T14:51:00.314Z"
      },
      {
        "duration": 67,
        "start_time": "2023-06-04T14:51:00.327Z"
      },
      {
        "duration": 49,
        "start_time": "2023-06-04T14:51:00.402Z"
      },
      {
        "duration": 80,
        "start_time": "2023-06-04T14:51:00.452Z"
      },
      {
        "duration": 21,
        "start_time": "2023-06-04T14:51:00.534Z"
      },
      {
        "duration": 38,
        "start_time": "2023-06-04T14:51:00.557Z"
      },
      {
        "duration": 59,
        "start_time": "2023-06-04T14:51:00.597Z"
      },
      {
        "duration": 13,
        "start_time": "2023-06-04T14:51:00.659Z"
      },
      {
        "duration": 83,
        "start_time": "2023-06-04T14:51:00.674Z"
      },
      {
        "duration": 12,
        "start_time": "2023-06-04T14:51:00.758Z"
      },
      {
        "duration": 49,
        "start_time": "2023-06-04T14:51:00.772Z"
      },
      {
        "duration": 82,
        "start_time": "2023-06-04T14:51:00.823Z"
      },
      {
        "duration": 74,
        "start_time": "2023-06-04T14:51:00.906Z"
      },
      {
        "duration": 90,
        "start_time": "2023-06-04T14:51:00.982Z"
      },
      {
        "duration": 35,
        "start_time": "2023-06-04T14:51:01.074Z"
      },
      {
        "duration": 22,
        "start_time": "2023-06-04T14:51:01.111Z"
      },
      {
        "duration": 25,
        "start_time": "2023-06-04T14:51:01.135Z"
      },
      {
        "duration": 260,
        "start_time": "2023-06-04T14:51:01.162Z"
      },
      {
        "duration": 12,
        "start_time": "2023-06-04T14:51:01.424Z"
      },
      {
        "duration": 418,
        "start_time": "2023-06-04T14:51:01.438Z"
      },
      {
        "duration": 23,
        "start_time": "2023-06-04T14:51:01.858Z"
      },
      {
        "duration": 211,
        "start_time": "2023-06-04T14:51:01.882Z"
      },
      {
        "duration": 17,
        "start_time": "2023-06-04T14:51:02.099Z"
      },
      {
        "duration": 79,
        "start_time": "2023-06-04T14:51:02.117Z"
      },
      {
        "duration": 61,
        "start_time": "2023-06-04T14:51:02.202Z"
      },
      {
        "duration": 60,
        "start_time": "2023-06-04T14:51:02.266Z"
      },
      {
        "duration": 95,
        "start_time": "2023-06-04T14:51:02.328Z"
      },
      {
        "duration": 63,
        "start_time": "2023-06-04T14:51:02.424Z"
      },
      {
        "duration": 64,
        "start_time": "2023-06-04T14:51:02.488Z"
      },
      {
        "duration": 10,
        "start_time": "2023-06-04T14:51:02.553Z"
      },
      {
        "duration": 45,
        "start_time": "2023-06-04T14:51:02.564Z"
      },
      {
        "duration": 43,
        "start_time": "2023-06-04T14:51:02.611Z"
      },
      {
        "duration": 50,
        "start_time": "2023-06-04T14:51:02.655Z"
      },
      {
        "duration": 366,
        "start_time": "2023-06-04T14:51:02.706Z"
      },
      {
        "duration": 11,
        "start_time": "2023-06-04T14:51:54.718Z"
      },
      {
        "duration": 10,
        "start_time": "2023-06-04T14:52:07.341Z"
      },
      {
        "duration": 12,
        "start_time": "2023-06-04T14:52:10.158Z"
      },
      {
        "duration": 16,
        "start_time": "2023-06-04T14:53:14.602Z"
      },
      {
        "duration": 12,
        "start_time": "2023-06-04T14:53:22.627Z"
      },
      {
        "duration": 17,
        "start_time": "2023-06-04T14:53:28.820Z"
      },
      {
        "duration": 14,
        "start_time": "2023-06-04T14:53:39.395Z"
      },
      {
        "duration": 18,
        "start_time": "2023-06-04T14:54:14.696Z"
      },
      {
        "duration": 69,
        "start_time": "2023-06-04T14:54:35.755Z"
      },
      {
        "duration": 52,
        "start_time": "2023-06-04T14:54:45.904Z"
      },
      {
        "duration": 92,
        "start_time": "2023-06-04T14:55:22.558Z"
      },
      {
        "duration": 20,
        "start_time": "2023-06-04T14:57:09.553Z"
      },
      {
        "duration": 239,
        "start_time": "2023-06-04T14:58:25.404Z"
      },
      {
        "duration": 30,
        "start_time": "2023-06-04T15:15:20.397Z"
      },
      {
        "duration": 7,
        "start_time": "2023-06-04T15:15:55.221Z"
      },
      {
        "duration": 19,
        "start_time": "2023-06-04T15:15:58.809Z"
      },
      {
        "duration": 18,
        "start_time": "2023-06-04T15:16:15.227Z"
      },
      {
        "duration": 18,
        "start_time": "2023-06-04T15:16:25.663Z"
      },
      {
        "duration": 20,
        "start_time": "2023-06-04T15:16:27.608Z"
      },
      {
        "duration": 16,
        "start_time": "2023-06-04T15:21:12.631Z"
      },
      {
        "duration": 21,
        "start_time": "2023-06-04T15:21:14.860Z"
      },
      {
        "duration": 1346,
        "start_time": "2023-06-04T15:21:27.105Z"
      },
      {
        "duration": 311,
        "start_time": "2023-06-04T15:21:28.452Z"
      },
      {
        "duration": 15,
        "start_time": "2023-06-04T15:21:28.764Z"
      },
      {
        "duration": 25,
        "start_time": "2023-06-04T15:21:28.781Z"
      },
      {
        "duration": 9,
        "start_time": "2023-06-04T15:21:28.815Z"
      },
      {
        "duration": 45,
        "start_time": "2023-06-04T15:21:28.826Z"
      },
      {
        "duration": 20,
        "start_time": "2023-06-04T15:21:28.873Z"
      },
      {
        "duration": 10,
        "start_time": "2023-06-04T15:21:28.896Z"
      },
      {
        "duration": 35,
        "start_time": "2023-06-04T15:21:28.908Z"
      },
      {
        "duration": 7,
        "start_time": "2023-06-04T15:21:28.944Z"
      },
      {
        "duration": 75,
        "start_time": "2023-06-04T15:21:28.952Z"
      },
      {
        "duration": 6,
        "start_time": "2023-06-04T15:21:29.029Z"
      },
      {
        "duration": 10,
        "start_time": "2023-06-04T15:21:29.036Z"
      },
      {
        "duration": 68,
        "start_time": "2023-06-04T15:21:29.049Z"
      },
      {
        "duration": 79,
        "start_time": "2023-06-04T15:21:29.119Z"
      },
      {
        "duration": 89,
        "start_time": "2023-06-04T15:21:29.209Z"
      },
      {
        "duration": 36,
        "start_time": "2023-06-04T15:21:29.307Z"
      },
      {
        "duration": 5,
        "start_time": "2023-06-04T15:21:29.345Z"
      },
      {
        "duration": 7,
        "start_time": "2023-06-04T15:21:29.351Z"
      },
      {
        "duration": 256,
        "start_time": "2023-06-04T15:21:29.360Z"
      },
      {
        "duration": 10,
        "start_time": "2023-06-04T15:21:29.617Z"
      },
      {
        "duration": 378,
        "start_time": "2023-06-04T15:21:29.628Z"
      },
      {
        "duration": 10,
        "start_time": "2023-06-04T15:21:30.008Z"
      },
      {
        "duration": 217,
        "start_time": "2023-06-04T15:21:30.019Z"
      },
      {
        "duration": 14,
        "start_time": "2023-06-04T15:21:30.237Z"
      },
      {
        "duration": 92,
        "start_time": "2023-06-04T15:21:30.252Z"
      },
      {
        "duration": 98,
        "start_time": "2023-06-04T15:21:30.346Z"
      },
      {
        "duration": 73,
        "start_time": "2023-06-04T15:21:30.446Z"
      },
      {
        "duration": 113,
        "start_time": "2023-06-04T15:21:30.523Z"
      },
      {
        "duration": 79,
        "start_time": "2023-06-04T15:21:30.638Z"
      },
      {
        "duration": 88,
        "start_time": "2023-06-04T15:21:30.719Z"
      },
      {
        "duration": 18,
        "start_time": "2023-06-04T15:21:30.809Z"
      },
      {
        "duration": 29,
        "start_time": "2023-06-04T15:21:30.829Z"
      },
      {
        "duration": 25,
        "start_time": "2023-06-04T15:21:30.859Z"
      },
      {
        "duration": 48,
        "start_time": "2023-06-04T15:21:30.885Z"
      },
      {
        "duration": 18,
        "start_time": "2023-06-04T15:21:30.935Z"
      },
      {
        "duration": 64,
        "start_time": "2023-06-05T15:36:31.742Z"
      },
      {
        "duration": 1399,
        "start_time": "2023-06-05T15:36:41.586Z"
      },
      {
        "duration": 1221,
        "start_time": "2023-06-05T15:36:42.987Z"
      },
      {
        "duration": 14,
        "start_time": "2023-06-05T15:36:44.211Z"
      },
      {
        "duration": 17,
        "start_time": "2023-06-05T15:36:44.228Z"
      },
      {
        "duration": 16,
        "start_time": "2023-06-05T15:36:44.248Z"
      },
      {
        "duration": 38,
        "start_time": "2023-06-05T15:36:44.266Z"
      },
      {
        "duration": 10,
        "start_time": "2023-06-05T15:36:44.306Z"
      },
      {
        "duration": 20,
        "start_time": "2023-06-05T15:36:44.319Z"
      },
      {
        "duration": 43,
        "start_time": "2023-06-05T15:36:44.352Z"
      },
      {
        "duration": 13,
        "start_time": "2023-06-05T15:36:44.397Z"
      },
      {
        "duration": 92,
        "start_time": "2023-06-05T15:36:44.412Z"
      },
      {
        "duration": 7,
        "start_time": "2023-06-05T15:36:44.506Z"
      },
      {
        "duration": 25,
        "start_time": "2023-06-05T15:36:44.515Z"
      },
      {
        "duration": 38,
        "start_time": "2023-06-05T15:36:44.543Z"
      },
      {
        "duration": 87,
        "start_time": "2023-06-05T15:36:44.582Z"
      },
      {
        "duration": 87,
        "start_time": "2023-06-05T15:36:44.671Z"
      },
      {
        "duration": 28,
        "start_time": "2023-06-05T15:36:44.759Z"
      },
      {
        "duration": 18,
        "start_time": "2023-06-05T15:36:44.789Z"
      },
      {
        "duration": 6,
        "start_time": "2023-06-05T15:36:44.809Z"
      },
      {
        "duration": 262,
        "start_time": "2023-06-05T15:36:44.817Z"
      },
      {
        "duration": 11,
        "start_time": "2023-06-05T15:36:45.081Z"
      },
      {
        "duration": 424,
        "start_time": "2023-06-05T15:36:45.093Z"
      },
      {
        "duration": 11,
        "start_time": "2023-06-05T15:36:45.519Z"
      },
      {
        "duration": 210,
        "start_time": "2023-06-05T15:36:45.531Z"
      },
      {
        "duration": 20,
        "start_time": "2023-06-05T15:36:45.750Z"
      },
      {
        "duration": 104,
        "start_time": "2023-06-05T15:36:45.772Z"
      },
      {
        "duration": 81,
        "start_time": "2023-06-05T15:36:45.877Z"
      },
      {
        "duration": 59,
        "start_time": "2023-06-05T15:36:45.963Z"
      },
      {
        "duration": 96,
        "start_time": "2023-06-05T15:36:46.024Z"
      },
      {
        "duration": 63,
        "start_time": "2023-06-05T15:36:46.122Z"
      },
      {
        "duration": 77,
        "start_time": "2023-06-05T15:36:46.187Z"
      },
      {
        "duration": 11,
        "start_time": "2023-06-05T15:36:46.266Z"
      },
      {
        "duration": 64,
        "start_time": "2023-06-05T15:36:46.278Z"
      },
      {
        "duration": 40,
        "start_time": "2023-06-05T15:36:46.344Z"
      },
      {
        "duration": 38,
        "start_time": "2023-06-05T15:36:46.386Z"
      },
      {
        "duration": 18,
        "start_time": "2023-06-05T15:36:46.425Z"
      },
      {
        "duration": 203,
        "start_time": "2023-06-05T15:38:14.289Z"
      },
      {
        "duration": 70,
        "start_time": "2023-06-05T15:38:33.964Z"
      },
      {
        "duration": 32,
        "start_time": "2023-06-05T15:39:13.788Z"
      },
      {
        "duration": 8,
        "start_time": "2023-06-05T15:39:27.590Z"
      },
      {
        "duration": 8,
        "start_time": "2023-06-05T15:39:37.384Z"
      },
      {
        "duration": 15,
        "start_time": "2023-06-05T15:39:43.264Z"
      },
      {
        "duration": 8,
        "start_time": "2023-06-05T15:39:58.688Z"
      },
      {
        "duration": 39,
        "start_time": "2023-06-05T15:41:04.292Z"
      },
      {
        "duration": 273,
        "start_time": "2023-06-05T15:41:29.889Z"
      },
      {
        "duration": 335,
        "start_time": "2023-06-05T15:41:35.562Z"
      },
      {
        "duration": 20,
        "start_time": "2023-06-05T15:41:54.712Z"
      },
      {
        "duration": 76,
        "start_time": "2023-06-05T15:42:26.195Z"
      },
      {
        "duration": 21,
        "start_time": "2023-06-05T15:43:29.544Z"
      },
      {
        "duration": 16,
        "start_time": "2023-06-05T15:43:35.131Z"
      },
      {
        "duration": 45,
        "start_time": "2023-06-05T15:43:41.304Z"
      },
      {
        "duration": 26,
        "start_time": "2023-06-05T15:43:47.460Z"
      },
      {
        "duration": 36,
        "start_time": "2023-06-05T15:43:49.226Z"
      },
      {
        "duration": 17,
        "start_time": "2023-06-05T15:44:00.000Z"
      },
      {
        "duration": 14,
        "start_time": "2023-06-05T15:44:10.882Z"
      },
      {
        "duration": 30,
        "start_time": "2023-06-05T15:44:18.638Z"
      },
      {
        "duration": 27,
        "start_time": "2023-06-05T15:44:20.188Z"
      },
      {
        "duration": 16,
        "start_time": "2023-06-05T15:44:33.001Z"
      },
      {
        "duration": 16,
        "start_time": "2023-06-05T15:44:41.590Z"
      },
      {
        "duration": 25,
        "start_time": "2023-06-05T15:44:43.886Z"
      },
      {
        "duration": 29,
        "start_time": "2023-06-05T15:44:45.340Z"
      },
      {
        "duration": 20,
        "start_time": "2023-06-05T15:46:47.846Z"
      },
      {
        "duration": 26,
        "start_time": "2023-06-05T15:46:51.992Z"
      },
      {
        "duration": 13,
        "start_time": "2023-06-05T15:46:53.208Z"
      },
      {
        "duration": 16,
        "start_time": "2023-06-05T15:47:00.964Z"
      },
      {
        "duration": 31,
        "start_time": "2023-06-05T15:47:06.950Z"
      },
      {
        "duration": 22,
        "start_time": "2023-06-05T15:47:08.264Z"
      },
      {
        "duration": 11,
        "start_time": "2023-06-05T15:47:30.692Z"
      },
      {
        "duration": 25,
        "start_time": "2023-06-05T15:47:34.861Z"
      },
      {
        "duration": 19,
        "start_time": "2023-06-05T15:47:36.210Z"
      },
      {
        "duration": 11,
        "start_time": "2023-06-05T15:47:38.837Z"
      },
      {
        "duration": 10,
        "start_time": "2023-06-05T15:47:48.106Z"
      },
      {
        "duration": 1227,
        "start_time": "2023-06-05T15:47:55.033Z"
      },
      {
        "duration": 271,
        "start_time": "2023-06-05T15:47:56.263Z"
      },
      {
        "duration": 10,
        "start_time": "2023-06-05T15:47:56.536Z"
      },
      {
        "duration": 21,
        "start_time": "2023-06-05T15:47:56.548Z"
      },
      {
        "duration": 11,
        "start_time": "2023-06-05T15:47:56.570Z"
      },
      {
        "duration": 37,
        "start_time": "2023-06-05T15:47:56.582Z"
      },
      {
        "duration": 8,
        "start_time": "2023-06-05T15:47:56.621Z"
      },
      {
        "duration": 29,
        "start_time": "2023-06-05T15:47:56.631Z"
      },
      {
        "duration": 35,
        "start_time": "2023-06-05T15:47:56.662Z"
      },
      {
        "duration": 7,
        "start_time": "2023-06-05T15:47:56.700Z"
      },
      {
        "duration": 74,
        "start_time": "2023-06-05T15:47:56.708Z"
      },
      {
        "duration": 7,
        "start_time": "2023-06-05T15:47:56.783Z"
      },
      {
        "duration": 32,
        "start_time": "2023-06-05T15:47:56.792Z"
      },
      {
        "duration": 53,
        "start_time": "2023-06-05T15:47:56.825Z"
      },
      {
        "duration": 100,
        "start_time": "2023-06-05T15:47:56.880Z"
      },
      {
        "duration": 91,
        "start_time": "2023-06-05T15:47:56.982Z"
      },
      {
        "duration": 25,
        "start_time": "2023-06-05T15:47:57.075Z"
      },
      {
        "duration": 6,
        "start_time": "2023-06-05T15:47:57.101Z"
      },
      {
        "duration": 7,
        "start_time": "2023-06-05T15:47:57.109Z"
      },
      {
        "duration": 263,
        "start_time": "2023-06-05T15:47:57.118Z"
      },
      {
        "duration": 11,
        "start_time": "2023-06-05T15:47:57.383Z"
      },
      {
        "duration": 403,
        "start_time": "2023-06-05T15:47:57.396Z"
      },
      {
        "duration": 13,
        "start_time": "2023-06-05T15:47:57.800Z"
      },
      {
        "duration": 221,
        "start_time": "2023-06-05T15:47:57.814Z"
      },
      {
        "duration": 27,
        "start_time": "2023-06-05T15:47:58.038Z"
      },
      {
        "duration": 69,
        "start_time": "2023-06-05T15:47:58.067Z"
      },
      {
        "duration": 92,
        "start_time": "2023-06-05T15:47:58.137Z"
      },
      {
        "duration": 82,
        "start_time": "2023-06-05T15:47:58.232Z"
      },
      {
        "duration": 91,
        "start_time": "2023-06-05T15:47:58.316Z"
      },
      {
        "duration": 67,
        "start_time": "2023-06-05T15:47:58.408Z"
      },
      {
        "duration": 78,
        "start_time": "2023-06-05T15:47:58.477Z"
      },
      {
        "duration": 14,
        "start_time": "2023-06-05T15:47:58.556Z"
      },
      {
        "duration": 21,
        "start_time": "2023-06-05T15:47:58.572Z"
      },
      {
        "duration": 8,
        "start_time": "2023-06-05T15:47:58.595Z"
      },
      {
        "duration": 49,
        "start_time": "2023-06-05T15:47:58.605Z"
      },
      {
        "duration": 20,
        "start_time": "2023-06-05T15:47:58.664Z"
      },
      {
        "duration": 154,
        "start_time": "2023-06-05T15:47:58.685Z"
      },
      {
        "duration": 0,
        "start_time": "2023-06-05T15:47:58.841Z"
      },
      {
        "duration": 12,
        "start_time": "2023-06-05T15:48:11.431Z"
      },
      {
        "duration": 24,
        "start_time": "2023-06-05T15:48:12.942Z"
      },
      {
        "duration": 13,
        "start_time": "2023-06-05T15:51:41.260Z"
      },
      {
        "duration": 7,
        "start_time": "2023-06-05T15:52:11.992Z"
      },
      {
        "duration": 11,
        "start_time": "2023-06-05T15:57:43.176Z"
      },
      {
        "duration": 11,
        "start_time": "2023-06-05T15:57:50.132Z"
      },
      {
        "duration": 34,
        "start_time": "2023-06-05T15:57:54.805Z"
      },
      {
        "duration": 15,
        "start_time": "2023-06-05T15:57:56.080Z"
      },
      {
        "duration": 6,
        "start_time": "2023-06-05T15:57:57.600Z"
      },
      {
        "duration": 12,
        "start_time": "2023-06-05T15:57:59.282Z"
      },
      {
        "duration": 5,
        "start_time": "2023-06-05T15:58:00.591Z"
      },
      {
        "duration": 68,
        "start_time": "2023-06-05T16:34:05.488Z"
      },
      {
        "duration": 46,
        "start_time": "2023-06-05T16:34:54.503Z"
      },
      {
        "duration": 66,
        "start_time": "2023-06-05T16:35:15.596Z"
      },
      {
        "duration": 10,
        "start_time": "2023-06-05T16:35:21.857Z"
      },
      {
        "duration": 4,
        "start_time": "2023-06-05T16:35:33.540Z"
      },
      {
        "duration": 3,
        "start_time": "2023-06-05T16:36:19.686Z"
      },
      {
        "duration": 4,
        "start_time": "2023-06-05T16:36:30.284Z"
      },
      {
        "duration": 3,
        "start_time": "2023-06-05T16:36:35.908Z"
      },
      {
        "duration": 5,
        "start_time": "2023-06-05T16:36:48.302Z"
      },
      {
        "duration": 4,
        "start_time": "2023-06-05T16:36:48.942Z"
      },
      {
        "duration": 3,
        "start_time": "2023-06-05T16:36:49.287Z"
      },
      {
        "duration": 3,
        "start_time": "2023-06-05T16:36:49.479Z"
      },
      {
        "duration": 3,
        "start_time": "2023-06-05T16:36:49.639Z"
      },
      {
        "duration": 3,
        "start_time": "2023-06-05T16:36:49.813Z"
      },
      {
        "duration": 3,
        "start_time": "2023-06-05T16:36:49.988Z"
      },
      {
        "duration": 3,
        "start_time": "2023-06-05T16:36:50.134Z"
      },
      {
        "duration": 4,
        "start_time": "2023-06-05T16:36:50.296Z"
      },
      {
        "duration": 5,
        "start_time": "2023-06-05T16:36:50.455Z"
      },
      {
        "duration": 3,
        "start_time": "2023-06-05T16:36:50.623Z"
      },
      {
        "duration": 3,
        "start_time": "2023-06-05T16:36:50.788Z"
      },
      {
        "duration": 4,
        "start_time": "2023-06-05T16:36:50.948Z"
      },
      {
        "duration": 4,
        "start_time": "2023-06-05T16:36:51.115Z"
      },
      {
        "duration": 3,
        "start_time": "2023-06-05T16:36:53.966Z"
      },
      {
        "duration": 4,
        "start_time": "2023-06-05T16:36:54.588Z"
      },
      {
        "duration": 4,
        "start_time": "2023-06-05T16:36:54.755Z"
      },
      {
        "duration": 3,
        "start_time": "2023-06-05T16:36:54.918Z"
      },
      {
        "duration": 3,
        "start_time": "2023-06-05T16:36:55.080Z"
      },
      {
        "duration": 4,
        "start_time": "2023-06-05T16:36:55.244Z"
      },
      {
        "duration": 4,
        "start_time": "2023-06-05T16:36:55.416Z"
      },
      {
        "duration": 4,
        "start_time": "2023-06-05T16:36:55.583Z"
      },
      {
        "duration": 4,
        "start_time": "2023-06-05T16:36:55.732Z"
      },
      {
        "duration": 4,
        "start_time": "2023-06-05T16:36:55.899Z"
      },
      {
        "duration": 4,
        "start_time": "2023-06-05T16:36:57.891Z"
      },
      {
        "duration": 3,
        "start_time": "2023-06-05T16:36:58.083Z"
      },
      {
        "duration": 3,
        "start_time": "2023-06-05T16:36:58.239Z"
      },
      {
        "duration": 3,
        "start_time": "2023-06-05T16:36:58.401Z"
      },
      {
        "duration": 3,
        "start_time": "2023-06-05T16:36:58.588Z"
      },
      {
        "duration": 4,
        "start_time": "2023-06-05T16:36:58.735Z"
      },
      {
        "duration": 4,
        "start_time": "2023-06-05T16:36:58.918Z"
      },
      {
        "duration": 3,
        "start_time": "2023-06-05T16:36:59.085Z"
      },
      {
        "duration": 4,
        "start_time": "2023-06-05T16:36:59.287Z"
      },
      {
        "duration": 3,
        "start_time": "2023-06-05T16:36:59.439Z"
      },
      {
        "duration": 4,
        "start_time": "2023-06-05T16:36:59.616Z"
      },
      {
        "duration": 3,
        "start_time": "2023-06-05T16:36:59.784Z"
      },
      {
        "duration": 4,
        "start_time": "2023-06-05T16:36:59.939Z"
      },
      {
        "duration": 4,
        "start_time": "2023-06-05T16:37:00.089Z"
      },
      {
        "duration": 59,
        "start_time": "2023-06-05T18:19:12.217Z"
      },
      {
        "duration": 63,
        "start_time": "2023-06-05T18:19:17.247Z"
      },
      {
        "duration": 57,
        "start_time": "2023-06-05T18:19:41.157Z"
      },
      {
        "duration": 6,
        "start_time": "2023-06-05T18:20:27.046Z"
      },
      {
        "duration": 1456,
        "start_time": "2023-06-05T19:51:21.869Z"
      },
      {
        "duration": 1262,
        "start_time": "2023-06-05T19:51:23.327Z"
      },
      {
        "duration": 14,
        "start_time": "2023-06-05T19:51:24.591Z"
      },
      {
        "duration": 15,
        "start_time": "2023-06-05T19:51:24.607Z"
      },
      {
        "duration": 10,
        "start_time": "2023-06-05T19:51:24.624Z"
      },
      {
        "duration": 45,
        "start_time": "2023-06-05T19:51:24.636Z"
      },
      {
        "duration": 8,
        "start_time": "2023-06-05T19:51:24.683Z"
      },
      {
        "duration": 11,
        "start_time": "2023-06-05T19:51:24.693Z"
      },
      {
        "duration": 36,
        "start_time": "2023-06-05T19:51:24.706Z"
      },
      {
        "duration": 39,
        "start_time": "2023-06-05T19:51:24.743Z"
      },
      {
        "duration": 54,
        "start_time": "2023-06-05T19:51:24.784Z"
      },
      {
        "duration": 7,
        "start_time": "2023-06-05T19:51:24.840Z"
      },
      {
        "duration": 30,
        "start_time": "2023-06-05T19:51:24.849Z"
      },
      {
        "duration": 26,
        "start_time": "2023-06-05T19:51:24.882Z"
      },
      {
        "duration": 83,
        "start_time": "2023-06-05T19:51:24.910Z"
      },
      {
        "duration": 94,
        "start_time": "2023-06-05T19:51:24.995Z"
      },
      {
        "duration": 24,
        "start_time": "2023-06-05T19:51:25.090Z"
      },
      {
        "duration": 6,
        "start_time": "2023-06-05T19:51:25.116Z"
      },
      {
        "duration": 6,
        "start_time": "2023-06-05T19:51:25.124Z"
      },
      {
        "duration": 265,
        "start_time": "2023-06-05T19:51:25.131Z"
      },
      {
        "duration": 11,
        "start_time": "2023-06-05T19:51:25.398Z"
      },
      {
        "duration": 490,
        "start_time": "2023-06-05T19:51:25.410Z"
      },
      {
        "duration": 12,
        "start_time": "2023-06-05T19:51:25.902Z"
      },
      {
        "duration": 227,
        "start_time": "2023-06-05T19:51:25.916Z"
      },
      {
        "duration": 14,
        "start_time": "2023-06-05T19:51:26.145Z"
      },
      {
        "duration": 68,
        "start_time": "2023-06-05T19:51:26.161Z"
      },
      {
        "duration": 102,
        "start_time": "2023-06-05T19:51:26.231Z"
      },
      {
        "duration": 8,
        "start_time": "2023-06-05T19:51:26.335Z"
      },
      {
        "duration": 76,
        "start_time": "2023-06-05T19:51:26.345Z"
      },
      {
        "duration": 94,
        "start_time": "2023-06-05T19:51:26.423Z"
      },
      {
        "duration": 64,
        "start_time": "2023-06-05T19:51:26.519Z"
      },
      {
        "duration": 61,
        "start_time": "2023-06-05T19:51:26.585Z"
      },
      {
        "duration": 10,
        "start_time": "2023-06-05T19:51:26.647Z"
      },
      {
        "duration": 24,
        "start_time": "2023-06-05T19:51:26.678Z"
      },
      {
        "duration": 10,
        "start_time": "2023-06-05T19:51:26.703Z"
      },
      {
        "duration": 37,
        "start_time": "2023-06-05T19:51:26.715Z"
      },
      {
        "duration": 34,
        "start_time": "2023-06-05T19:51:26.754Z"
      },
      {
        "duration": 4,
        "start_time": "2023-06-05T19:51:26.790Z"
      },
      {
        "duration": 17,
        "start_time": "2023-06-05T19:51:26.796Z"
      },
      {
        "duration": 5,
        "start_time": "2023-06-05T19:51:26.815Z"
      },
      {
        "duration": 8,
        "start_time": "2023-06-05T19:51:26.823Z"
      },
      {
        "duration": 54,
        "start_time": "2023-06-06T07:46:22.856Z"
      },
      {
        "duration": 1443,
        "start_time": "2023-06-06T07:46:29.363Z"
      },
      {
        "duration": 1051,
        "start_time": "2023-06-06T07:46:30.808Z"
      },
      {
        "duration": 12,
        "start_time": "2023-06-06T07:46:31.861Z"
      },
      {
        "duration": 22,
        "start_time": "2023-06-06T07:46:31.875Z"
      },
      {
        "duration": 9,
        "start_time": "2023-06-06T07:46:31.903Z"
      },
      {
        "duration": 40,
        "start_time": "2023-06-06T07:46:31.914Z"
      },
      {
        "duration": 19,
        "start_time": "2023-06-06T07:46:31.956Z"
      },
      {
        "duration": 15,
        "start_time": "2023-06-06T07:46:31.976Z"
      },
      {
        "duration": 37,
        "start_time": "2023-06-06T07:46:31.995Z"
      },
      {
        "duration": 7,
        "start_time": "2023-06-06T07:46:32.035Z"
      },
      {
        "duration": 67,
        "start_time": "2023-06-06T07:46:32.044Z"
      },
      {
        "duration": 6,
        "start_time": "2023-06-06T07:46:32.112Z"
      },
      {
        "duration": 23,
        "start_time": "2023-06-06T07:46:32.119Z"
      },
      {
        "duration": 24,
        "start_time": "2023-06-06T07:46:32.144Z"
      },
      {
        "duration": 66,
        "start_time": "2023-06-06T07:46:32.178Z"
      },
      {
        "duration": 103,
        "start_time": "2023-06-06T07:46:32.245Z"
      },
      {
        "duration": 31,
        "start_time": "2023-06-06T07:46:32.350Z"
      },
      {
        "duration": 7,
        "start_time": "2023-06-06T07:46:32.386Z"
      },
      {
        "duration": 16,
        "start_time": "2023-06-06T07:46:32.395Z"
      },
      {
        "duration": 232,
        "start_time": "2023-06-06T07:46:32.412Z"
      },
      {
        "duration": 11,
        "start_time": "2023-06-06T07:46:32.646Z"
      },
      {
        "duration": 379,
        "start_time": "2023-06-06T07:46:32.659Z"
      },
      {
        "duration": 11,
        "start_time": "2023-06-06T07:46:33.039Z"
      },
      {
        "duration": 193,
        "start_time": "2023-06-06T07:46:33.051Z"
      },
      {
        "duration": 11,
        "start_time": "2023-06-06T07:46:33.246Z"
      },
      {
        "duration": 57,
        "start_time": "2023-06-06T07:46:33.278Z"
      },
      {
        "duration": 73,
        "start_time": "2023-06-06T07:46:33.336Z"
      },
      {
        "duration": 6,
        "start_time": "2023-06-06T07:46:33.412Z"
      },
      {
        "duration": 82,
        "start_time": "2023-06-06T07:46:33.419Z"
      },
      {
        "duration": 78,
        "start_time": "2023-06-06T07:46:33.508Z"
      },
      {
        "duration": 51,
        "start_time": "2023-06-06T07:46:33.588Z"
      },
      {
        "duration": 65,
        "start_time": "2023-06-06T07:46:33.640Z"
      },
      {
        "duration": 9,
        "start_time": "2023-06-06T07:46:33.707Z"
      },
      {
        "duration": 21,
        "start_time": "2023-06-06T07:46:33.718Z"
      },
      {
        "duration": 16,
        "start_time": "2023-06-06T07:46:33.740Z"
      },
      {
        "duration": 38,
        "start_time": "2023-06-06T07:46:33.780Z"
      },
      {
        "duration": 11,
        "start_time": "2023-06-06T07:46:33.820Z"
      },
      {
        "duration": 4,
        "start_time": "2023-06-06T07:46:33.833Z"
      },
      {
        "duration": 11,
        "start_time": "2023-06-06T07:46:33.839Z"
      },
      {
        "duration": 3,
        "start_time": "2023-06-06T07:46:33.852Z"
      },
      {
        "duration": 26,
        "start_time": "2023-06-06T07:46:33.857Z"
      },
      {
        "duration": 182,
        "start_time": "2023-06-06T07:48:08.203Z"
      },
      {
        "duration": 11,
        "start_time": "2023-06-06T07:49:08.827Z"
      },
      {
        "duration": 1002,
        "start_time": "2023-06-06T07:51:58.245Z"
      },
      {
        "duration": 53,
        "start_time": "2023-06-06T07:52:11.553Z"
      },
      {
        "duration": 26,
        "start_time": "2023-06-06T07:52:37.175Z"
      },
      {
        "duration": 14,
        "start_time": "2023-06-06T07:53:22.152Z"
      },
      {
        "duration": 31,
        "start_time": "2023-06-06T07:53:33.178Z"
      },
      {
        "duration": 14,
        "start_time": "2023-06-06T07:54:10.667Z"
      },
      {
        "duration": 15,
        "start_time": "2023-06-06T07:54:14.259Z"
      },
      {
        "duration": 16,
        "start_time": "2023-06-06T07:54:34.255Z"
      },
      {
        "duration": 73,
        "start_time": "2023-06-06T07:55:03.844Z"
      },
      {
        "duration": 61,
        "start_time": "2023-06-06T07:55:18.718Z"
      },
      {
        "duration": 19,
        "start_time": "2023-06-06T07:55:35.410Z"
      },
      {
        "duration": 18,
        "start_time": "2023-06-06T07:55:46.742Z"
      },
      {
        "duration": 62,
        "start_time": "2023-06-06T07:55:50.284Z"
      },
      {
        "duration": 18,
        "start_time": "2023-06-06T07:56:27.455Z"
      },
      {
        "duration": 16,
        "start_time": "2023-06-06T07:56:45.356Z"
      },
      {
        "duration": 29,
        "start_time": "2023-06-06T07:58:01.575Z"
      },
      {
        "duration": 20,
        "start_time": "2023-06-06T07:58:20.238Z"
      },
      {
        "duration": 27,
        "start_time": "2023-06-06T07:58:30.240Z"
      },
      {
        "duration": 100,
        "start_time": "2023-06-06T07:59:00.272Z"
      },
      {
        "duration": 83,
        "start_time": "2023-06-06T07:59:32.966Z"
      },
      {
        "duration": 59,
        "start_time": "2023-06-06T07:59:43.417Z"
      },
      {
        "duration": 82,
        "start_time": "2023-06-06T07:59:49.362Z"
      },
      {
        "duration": 52,
        "start_time": "2023-06-06T08:01:00.200Z"
      },
      {
        "duration": 64,
        "start_time": "2023-06-06T08:01:11.372Z"
      },
      {
        "duration": 105,
        "start_time": "2023-06-06T08:01:48.161Z"
      },
      {
        "duration": 71,
        "start_time": "2023-06-06T08:02:07.700Z"
      },
      {
        "duration": 55,
        "start_time": "2023-06-06T08:02:28.019Z"
      },
      {
        "duration": 77,
        "start_time": "2023-06-06T08:07:50.062Z"
      },
      {
        "duration": 82,
        "start_time": "2023-06-06T08:07:58.221Z"
      },
      {
        "duration": 74,
        "start_time": "2023-06-06T08:08:11.962Z"
      },
      {
        "duration": 71,
        "start_time": "2023-06-06T08:08:52.035Z"
      },
      {
        "duration": 73,
        "start_time": "2023-06-06T08:08:58.253Z"
      },
      {
        "duration": 67,
        "start_time": "2023-06-06T08:09:16.599Z"
      },
      {
        "duration": 80,
        "start_time": "2023-06-06T08:09:20.438Z"
      },
      {
        "duration": 76,
        "start_time": "2023-06-06T08:11:08.947Z"
      },
      {
        "duration": 66,
        "start_time": "2023-06-06T08:11:15.109Z"
      },
      {
        "duration": 81,
        "start_time": "2023-06-06T08:11:20.873Z"
      },
      {
        "duration": 90,
        "start_time": "2023-06-06T08:11:41.681Z"
      },
      {
        "duration": 35,
        "start_time": "2023-06-06T08:12:07.304Z"
      },
      {
        "duration": 18,
        "start_time": "2023-06-06T08:12:46.743Z"
      },
      {
        "duration": 53,
        "start_time": "2023-06-06T08:12:59.804Z"
      },
      {
        "duration": 55,
        "start_time": "2023-06-06T08:13:13.321Z"
      },
      {
        "duration": 46,
        "start_time": "2023-06-06T08:13:28.230Z"
      },
      {
        "duration": 55,
        "start_time": "2023-06-06T08:13:38.983Z"
      },
      {
        "duration": 58,
        "start_time": "2023-06-06T08:14:01.859Z"
      },
      {
        "duration": 47,
        "start_time": "2023-06-06T08:14:16.701Z"
      },
      {
        "duration": 63,
        "start_time": "2023-06-06T08:14:26.953Z"
      },
      {
        "duration": 73,
        "start_time": "2023-06-06T08:14:34.942Z"
      },
      {
        "duration": 19,
        "start_time": "2023-06-06T08:15:41.153Z"
      },
      {
        "duration": 63,
        "start_time": "2023-06-06T08:15:58.135Z"
      },
      {
        "duration": 61,
        "start_time": "2023-06-06T08:16:27.832Z"
      },
      {
        "duration": 56,
        "start_time": "2023-06-06T08:16:39.902Z"
      },
      {
        "duration": 53,
        "start_time": "2023-06-06T08:16:44.910Z"
      },
      {
        "duration": 48,
        "start_time": "2023-06-06T08:17:03.617Z"
      },
      {
        "duration": 53,
        "start_time": "2023-06-07T07:51:09.549Z"
      },
      {
        "duration": 1403,
        "start_time": "2023-06-07T07:51:16.000Z"
      },
      {
        "duration": 904,
        "start_time": "2023-06-07T07:51:17.405Z"
      },
      {
        "duration": 13,
        "start_time": "2023-06-07T07:51:18.311Z"
      },
      {
        "duration": 13,
        "start_time": "2023-06-07T07:51:18.326Z"
      },
      {
        "duration": 13,
        "start_time": "2023-06-07T07:51:18.341Z"
      },
      {
        "duration": 40,
        "start_time": "2023-06-07T07:51:18.355Z"
      },
      {
        "duration": 13,
        "start_time": "2023-06-07T07:51:18.398Z"
      },
      {
        "duration": 17,
        "start_time": "2023-06-07T07:51:18.413Z"
      },
      {
        "duration": 64,
        "start_time": "2023-06-07T07:51:18.431Z"
      },
      {
        "duration": 13,
        "start_time": "2023-06-07T07:51:18.498Z"
      },
      {
        "duration": 64,
        "start_time": "2023-06-07T07:51:18.513Z"
      },
      {
        "duration": 8,
        "start_time": "2023-06-07T07:51:18.579Z"
      },
      {
        "duration": 12,
        "start_time": "2023-06-07T07:51:18.588Z"
      },
      {
        "duration": 51,
        "start_time": "2023-06-07T07:51:18.602Z"
      },
      {
        "duration": 85,
        "start_time": "2023-06-07T07:51:18.655Z"
      },
      {
        "duration": 86,
        "start_time": "2023-06-07T07:51:18.742Z"
      },
      {
        "duration": 31,
        "start_time": "2023-06-07T07:51:18.830Z"
      },
      {
        "duration": 7,
        "start_time": "2023-06-07T07:51:18.863Z"
      },
      {
        "duration": 6,
        "start_time": "2023-06-07T07:51:18.872Z"
      },
      {
        "duration": 18,
        "start_time": "2023-06-07T07:51:18.880Z"
      },
      {
        "duration": 267,
        "start_time": "2023-06-07T07:51:18.899Z"
      },
      {
        "duration": 11,
        "start_time": "2023-06-07T07:51:19.168Z"
      },
      {
        "duration": 411,
        "start_time": "2023-06-07T07:51:19.180Z"
      },
      {
        "duration": 27,
        "start_time": "2023-06-07T07:51:19.593Z"
      },
      {
        "duration": 198,
        "start_time": "2023-06-07T07:51:19.623Z"
      },
      {
        "duration": 29,
        "start_time": "2023-06-07T07:51:19.822Z"
      },
      {
        "duration": 54,
        "start_time": "2023-06-07T07:51:19.853Z"
      },
      {
        "duration": 77,
        "start_time": "2023-06-07T07:51:19.910Z"
      },
      {
        "duration": 6,
        "start_time": "2023-06-07T07:51:19.989Z"
      },
      {
        "duration": 75,
        "start_time": "2023-06-07T07:51:19.998Z"
      },
      {
        "duration": 121,
        "start_time": "2023-06-07T07:51:20.075Z"
      },
      {
        "duration": 62,
        "start_time": "2023-06-07T07:51:20.198Z"
      },
      {
        "duration": 81,
        "start_time": "2023-06-07T07:51:20.262Z"
      },
      {
        "duration": 52,
        "start_time": "2023-06-07T07:51:20.345Z"
      },
      {
        "duration": 51,
        "start_time": "2023-06-07T07:51:20.399Z"
      },
      {
        "duration": 20,
        "start_time": "2023-06-07T07:51:20.452Z"
      },
      {
        "duration": 50,
        "start_time": "2023-06-07T07:51:20.474Z"
      },
      {
        "duration": 11,
        "start_time": "2023-06-07T07:51:20.526Z"
      },
      {
        "duration": 14,
        "start_time": "2023-06-07T07:51:20.539Z"
      },
      {
        "duration": 24,
        "start_time": "2023-06-07T07:51:20.555Z"
      },
      {
        "duration": 13,
        "start_time": "2023-06-07T07:51:20.581Z"
      },
      {
        "duration": 24,
        "start_time": "2023-06-07T07:51:20.596Z"
      },
      {
        "duration": 47,
        "start_time": "2023-06-07T08:11:33.777Z"
      },
      {
        "duration": 162,
        "start_time": "2023-06-07T08:11:38.880Z"
      },
      {
        "duration": 22,
        "start_time": "2023-06-07T08:11:45.693Z"
      },
      {
        "duration": 15,
        "start_time": "2023-06-07T08:12:17.778Z"
      },
      {
        "duration": 21,
        "start_time": "2023-06-07T08:12:58.643Z"
      },
      {
        "duration": 22,
        "start_time": "2023-06-07T08:13:57.551Z"
      },
      {
        "duration": 20,
        "start_time": "2023-06-07T08:14:14.706Z"
      },
      {
        "duration": 15,
        "start_time": "2023-06-07T08:14:20.972Z"
      },
      {
        "duration": 59,
        "start_time": "2023-06-07T08:15:54.602Z"
      },
      {
        "duration": 58,
        "start_time": "2023-06-07T08:16:30.385Z"
      },
      {
        "duration": 48,
        "start_time": "2023-06-07T08:17:48.904Z"
      },
      {
        "duration": 61,
        "start_time": "2023-06-07T08:17:58.256Z"
      },
      {
        "duration": 48,
        "start_time": "2023-06-07T08:18:02.619Z"
      },
      {
        "duration": 17,
        "start_time": "2023-06-07T08:18:53.091Z"
      },
      {
        "duration": 56,
        "start_time": "2023-06-07T08:19:47.259Z"
      },
      {
        "duration": 62,
        "start_time": "2023-06-07T08:19:59.824Z"
      },
      {
        "duration": 80,
        "start_time": "2023-06-07T08:20:14.636Z"
      },
      {
        "duration": 69,
        "start_time": "2023-06-07T08:21:07.299Z"
      },
      {
        "duration": 65,
        "start_time": "2023-06-07T08:21:16.882Z"
      },
      {
        "duration": 60,
        "start_time": "2023-06-07T08:21:23.970Z"
      },
      {
        "duration": 76,
        "start_time": "2023-06-07T08:22:02.852Z"
      },
      {
        "duration": 65,
        "start_time": "2023-06-07T08:22:05.502Z"
      },
      {
        "duration": 62,
        "start_time": "2023-06-07T08:22:36.616Z"
      },
      {
        "duration": 65,
        "start_time": "2023-06-07T08:22:48.276Z"
      },
      {
        "duration": 76,
        "start_time": "2023-06-07T08:22:57.419Z"
      },
      {
        "duration": 1232,
        "start_time": "2023-06-07T08:23:04.276Z"
      },
      {
        "duration": 265,
        "start_time": "2023-06-07T08:23:05.510Z"
      },
      {
        "duration": 12,
        "start_time": "2023-06-07T08:23:05.777Z"
      },
      {
        "duration": 20,
        "start_time": "2023-06-07T08:23:05.791Z"
      },
      {
        "duration": 40,
        "start_time": "2023-06-07T08:23:05.814Z"
      },
      {
        "duration": 63,
        "start_time": "2023-06-07T08:23:05.856Z"
      },
      {
        "duration": 8,
        "start_time": "2023-06-07T08:23:05.921Z"
      },
      {
        "duration": 16,
        "start_time": "2023-06-07T08:23:05.931Z"
      },
      {
        "duration": 54,
        "start_time": "2023-06-07T08:23:05.950Z"
      },
      {
        "duration": 18,
        "start_time": "2023-06-07T08:23:06.006Z"
      },
      {
        "duration": 59,
        "start_time": "2023-06-07T08:23:06.025Z"
      },
      {
        "duration": 8,
        "start_time": "2023-06-07T08:23:06.086Z"
      },
      {
        "duration": 19,
        "start_time": "2023-06-07T08:23:06.096Z"
      },
      {
        "duration": 41,
        "start_time": "2023-06-07T08:23:06.119Z"
      },
      {
        "duration": 62,
        "start_time": "2023-06-07T08:23:06.162Z"
      },
      {
        "duration": 109,
        "start_time": "2023-06-07T08:23:06.226Z"
      },
      {
        "duration": 38,
        "start_time": "2023-06-07T08:23:06.337Z"
      },
      {
        "duration": 7,
        "start_time": "2023-06-07T08:23:06.377Z"
      },
      {
        "duration": 7,
        "start_time": "2023-06-07T08:23:06.386Z"
      },
      {
        "duration": 22,
        "start_time": "2023-06-07T08:23:06.396Z"
      },
      {
        "duration": 40,
        "start_time": "2023-06-07T08:23:06.420Z"
      },
      {
        "duration": 237,
        "start_time": "2023-06-07T08:23:06.462Z"
      },
      {
        "duration": 11,
        "start_time": "2023-06-07T08:23:06.700Z"
      },
      {
        "duration": 373,
        "start_time": "2023-06-07T08:23:06.713Z"
      },
      {
        "duration": 24,
        "start_time": "2023-06-07T08:23:07.088Z"
      },
      {
        "duration": 208,
        "start_time": "2023-06-07T08:23:07.114Z"
      },
      {
        "duration": 28,
        "start_time": "2023-06-07T08:23:07.323Z"
      },
      {
        "duration": 53,
        "start_time": "2023-06-07T08:23:07.353Z"
      },
      {
        "duration": 84,
        "start_time": "2023-06-07T08:23:07.408Z"
      },
      {
        "duration": 5,
        "start_time": "2023-06-07T08:23:07.494Z"
      },
      {
        "duration": 65,
        "start_time": "2023-06-07T08:23:07.501Z"
      },
      {
        "duration": 94,
        "start_time": "2023-06-07T08:23:07.568Z"
      },
      {
        "duration": 53,
        "start_time": "2023-06-07T08:23:07.664Z"
      },
      {
        "duration": 88,
        "start_time": "2023-06-07T08:23:07.718Z"
      },
      {
        "duration": 72,
        "start_time": "2023-06-07T08:23:07.808Z"
      },
      {
        "duration": 21,
        "start_time": "2023-06-07T08:23:07.882Z"
      },
      {
        "duration": 11,
        "start_time": "2023-06-07T08:23:07.906Z"
      },
      {
        "duration": 53,
        "start_time": "2023-06-07T08:23:07.919Z"
      },
      {
        "duration": 10,
        "start_time": "2023-06-07T08:23:07.974Z"
      },
      {
        "duration": 9,
        "start_time": "2023-06-07T08:23:07.986Z"
      },
      {
        "duration": 26,
        "start_time": "2023-06-07T08:23:07.998Z"
      },
      {
        "duration": 5,
        "start_time": "2023-06-07T08:23:08.026Z"
      },
      {
        "duration": 19,
        "start_time": "2023-06-07T08:23:08.033Z"
      },
      {
        "duration": 63,
        "start_time": "2023-06-07T08:32:16.662Z"
      },
      {
        "duration": 9,
        "start_time": "2023-06-07T08:32:47.410Z"
      },
      {
        "duration": 1251,
        "start_time": "2023-06-07T08:33:40.364Z"
      },
      {
        "duration": 279,
        "start_time": "2023-06-07T08:33:41.617Z"
      },
      {
        "duration": 10,
        "start_time": "2023-06-07T08:33:41.898Z"
      },
      {
        "duration": 24,
        "start_time": "2023-06-07T08:33:41.909Z"
      },
      {
        "duration": 19,
        "start_time": "2023-06-07T08:33:41.935Z"
      },
      {
        "duration": 40,
        "start_time": "2023-06-07T08:33:41.956Z"
      },
      {
        "duration": 10,
        "start_time": "2023-06-07T08:33:41.998Z"
      },
      {
        "duration": 23,
        "start_time": "2023-06-07T08:33:42.010Z"
      },
      {
        "duration": 111,
        "start_time": "2023-06-07T08:33:42.035Z"
      },
      {
        "duration": 42,
        "start_time": "2023-06-07T08:33:42.148Z"
      },
      {
        "duration": 67,
        "start_time": "2023-06-07T08:33:42.192Z"
      },
      {
        "duration": 8,
        "start_time": "2023-06-07T08:33:42.261Z"
      },
      {
        "duration": 17,
        "start_time": "2023-06-07T08:33:42.272Z"
      },
      {
        "duration": 31,
        "start_time": "2023-06-07T08:33:42.293Z"
      },
      {
        "duration": 90,
        "start_time": "2023-06-07T08:33:42.326Z"
      },
      {
        "duration": 126,
        "start_time": "2023-06-07T08:33:42.418Z"
      },
      {
        "duration": 32,
        "start_time": "2023-06-07T08:33:42.551Z"
      },
      {
        "duration": 6,
        "start_time": "2023-06-07T08:33:42.585Z"
      },
      {
        "duration": 13,
        "start_time": "2023-06-07T08:33:42.593Z"
      },
      {
        "duration": 27,
        "start_time": "2023-06-07T08:33:42.608Z"
      },
      {
        "duration": 24,
        "start_time": "2023-06-07T08:33:42.637Z"
      },
      {
        "duration": 238,
        "start_time": "2023-06-07T08:33:42.664Z"
      },
      {
        "duration": 18,
        "start_time": "2023-06-07T08:33:42.904Z"
      },
      {
        "duration": 409,
        "start_time": "2023-06-07T08:33:42.924Z"
      },
      {
        "duration": 24,
        "start_time": "2023-06-07T08:33:43.335Z"
      },
      {
        "duration": 240,
        "start_time": "2023-06-07T08:33:43.361Z"
      },
      {
        "duration": 13,
        "start_time": "2023-06-07T08:33:43.602Z"
      },
      {
        "duration": 78,
        "start_time": "2023-06-07T08:33:43.616Z"
      },
      {
        "duration": 75,
        "start_time": "2023-06-07T08:33:43.696Z"
      },
      {
        "duration": 6,
        "start_time": "2023-06-07T08:33:43.773Z"
      },
      {
        "duration": 69,
        "start_time": "2023-06-07T08:33:43.781Z"
      },
      {
        "duration": 88,
        "start_time": "2023-06-07T08:33:43.854Z"
      },
      {
        "duration": 61,
        "start_time": "2023-06-07T08:33:43.950Z"
      },
      {
        "duration": 102,
        "start_time": "2023-06-07T08:33:44.013Z"
      },
      {
        "duration": 82,
        "start_time": "2023-06-07T08:33:44.117Z"
      },
      {
        "duration": 34,
        "start_time": "2023-06-07T08:33:44.201Z"
      },
      {
        "duration": 29,
        "start_time": "2023-06-07T08:33:44.237Z"
      },
      {
        "duration": 36,
        "start_time": "2023-06-07T08:33:44.268Z"
      },
      {
        "duration": 15,
        "start_time": "2023-06-07T08:33:44.306Z"
      },
      {
        "duration": 30,
        "start_time": "2023-06-07T08:33:44.323Z"
      },
      {
        "duration": 20,
        "start_time": "2023-06-07T08:33:44.359Z"
      },
      {
        "duration": 5,
        "start_time": "2023-06-07T08:33:44.381Z"
      },
      {
        "duration": 17,
        "start_time": "2023-06-07T08:33:44.388Z"
      },
      {
        "duration": 49,
        "start_time": "2023-06-07T09:19:00.976Z"
      },
      {
        "duration": 56,
        "start_time": "2023-06-11T08:17:08.678Z"
      },
      {
        "duration": 1738,
        "start_time": "2023-06-11T08:17:14.879Z"
      },
      {
        "duration": 771,
        "start_time": "2023-06-11T08:17:16.619Z"
      },
      {
        "duration": 11,
        "start_time": "2023-06-11T08:17:17.392Z"
      },
      {
        "duration": 24,
        "start_time": "2023-06-11T08:17:17.405Z"
      },
      {
        "duration": 53,
        "start_time": "2023-06-11T08:17:17.431Z"
      },
      {
        "duration": 69,
        "start_time": "2023-06-11T08:17:17.486Z"
      },
      {
        "duration": 32,
        "start_time": "2023-06-11T08:17:17.556Z"
      },
      {
        "duration": 48,
        "start_time": "2023-06-11T08:17:17.589Z"
      },
      {
        "duration": 66,
        "start_time": "2023-06-11T08:17:17.639Z"
      },
      {
        "duration": 11,
        "start_time": "2023-06-11T08:17:17.707Z"
      },
      {
        "duration": 85,
        "start_time": "2023-06-11T08:17:17.720Z"
      },
      {
        "duration": 10,
        "start_time": "2023-06-11T08:17:17.807Z"
      },
      {
        "duration": 24,
        "start_time": "2023-06-11T08:17:17.818Z"
      },
      {
        "duration": 35,
        "start_time": "2023-06-11T08:17:17.847Z"
      },
      {
        "duration": 82,
        "start_time": "2023-06-11T08:17:17.884Z"
      },
      {
        "duration": 101,
        "start_time": "2023-06-11T08:17:17.968Z"
      },
      {
        "duration": 30,
        "start_time": "2023-06-11T08:17:18.070Z"
      },
      {
        "duration": 11,
        "start_time": "2023-06-11T08:17:18.102Z"
      },
      {
        "duration": 32,
        "start_time": "2023-06-11T08:17:18.115Z"
      },
      {
        "duration": 52,
        "start_time": "2023-06-11T08:17:18.149Z"
      },
      {
        "duration": 26,
        "start_time": "2023-06-11T08:17:18.203Z"
      },
      {
        "duration": 257,
        "start_time": "2023-06-11T08:17:18.231Z"
      },
      {
        "duration": 6,
        "start_time": "2023-06-11T08:17:18.490Z"
      },
      {
        "duration": 41,
        "start_time": "2023-06-11T08:17:18.498Z"
      },
      {
        "duration": 390,
        "start_time": "2023-06-11T08:17:18.540Z"
      },
      {
        "duration": 27,
        "start_time": "2023-06-11T08:17:18.932Z"
      },
      {
        "duration": 243,
        "start_time": "2023-06-11T08:17:18.962Z"
      },
      {
        "duration": 13,
        "start_time": "2023-06-11T08:17:19.207Z"
      },
      {
        "duration": 75,
        "start_time": "2023-06-11T08:17:19.221Z"
      },
      {
        "duration": 74,
        "start_time": "2023-06-11T08:17:19.298Z"
      },
      {
        "duration": 7,
        "start_time": "2023-06-11T08:17:19.374Z"
      },
      {
        "duration": 80,
        "start_time": "2023-06-11T08:17:19.382Z"
      },
      {
        "duration": 98,
        "start_time": "2023-06-11T08:17:19.464Z"
      },
      {
        "duration": 54,
        "start_time": "2023-06-11T08:17:19.564Z"
      },
      {
        "duration": 111,
        "start_time": "2023-06-11T08:17:19.620Z"
      },
      {
        "duration": 71,
        "start_time": "2023-06-11T08:17:19.733Z"
      },
      {
        "duration": 47,
        "start_time": "2023-06-11T08:17:19.806Z"
      },
      {
        "duration": 15,
        "start_time": "2023-06-11T08:17:19.855Z"
      },
      {
        "duration": 88,
        "start_time": "2023-06-11T08:17:19.872Z"
      },
      {
        "duration": 21,
        "start_time": "2023-06-11T08:17:19.962Z"
      },
      {
        "duration": 36,
        "start_time": "2023-06-11T08:17:19.987Z"
      },
      {
        "duration": 44,
        "start_time": "2023-06-11T08:17:20.025Z"
      },
      {
        "duration": 37,
        "start_time": "2023-06-11T08:17:20.071Z"
      },
      {
        "duration": 33,
        "start_time": "2023-06-11T08:17:20.110Z"
      },
      {
        "duration": 222,
        "start_time": "2023-06-11T08:17:20.145Z"
      },
      {
        "duration": 246,
        "start_time": "2023-06-11T08:51:58.469Z"
      },
      {
        "duration": 270,
        "start_time": "2023-06-11T08:52:24.517Z"
      },
      {
        "duration": 1642,
        "start_time": "2023-06-11T08:52:39.172Z"
      },
      {
        "duration": 291,
        "start_time": "2023-06-11T08:52:55.839Z"
      },
      {
        "duration": 35,
        "start_time": "2023-06-11T08:53:53.345Z"
      },
      {
        "duration": 11,
        "start_time": "2023-06-11T08:53:54.698Z"
      },
      {
        "duration": 11,
        "start_time": "2023-06-11T08:54:06.859Z"
      },
      {
        "duration": 11,
        "start_time": "2023-06-11T08:54:14.305Z"
      },
      {
        "duration": 13,
        "start_time": "2023-06-11T08:55:09.247Z"
      },
      {
        "duration": 1371,
        "start_time": "2023-06-11T08:57:17.839Z"
      },
      {
        "duration": 14,
        "start_time": "2023-06-11T08:58:59.578Z"
      },
      {
        "duration": 20,
        "start_time": "2023-06-11T08:59:03.052Z"
      },
      {
        "duration": 42,
        "start_time": "2023-06-11T08:59:51.063Z"
      },
      {
        "duration": 3046,
        "start_time": "2023-06-11T09:00:07.992Z"
      },
      {
        "duration": 121,
        "start_time": "2023-06-11T09:03:00.829Z"
      },
      {
        "duration": 1412,
        "start_time": "2023-06-11T09:03:12.593Z"
      },
      {
        "duration": 95,
        "start_time": "2023-06-11T09:03:40.661Z"
      },
      {
        "duration": 1362,
        "start_time": "2023-06-11T09:03:45.292Z"
      },
      {
        "duration": 15,
        "start_time": "2023-06-11T09:16:58.245Z"
      },
      {
        "duration": 15,
        "start_time": "2023-06-11T09:26:28.559Z"
      },
      {
        "duration": 6,
        "start_time": "2023-06-11T09:26:54.340Z"
      },
      {
        "duration": 1495,
        "start_time": "2023-06-11T09:27:35.318Z"
      },
      {
        "duration": 302,
        "start_time": "2023-06-11T09:27:36.815Z"
      },
      {
        "duration": 12,
        "start_time": "2023-06-11T09:27:37.119Z"
      },
      {
        "duration": 38,
        "start_time": "2023-06-11T09:27:37.133Z"
      },
      {
        "duration": 31,
        "start_time": "2023-06-11T09:27:37.173Z"
      },
      {
        "duration": 70,
        "start_time": "2023-06-11T09:27:37.206Z"
      },
      {
        "duration": 19,
        "start_time": "2023-06-11T09:27:37.279Z"
      },
      {
        "duration": 31,
        "start_time": "2023-06-11T09:27:37.300Z"
      },
      {
        "duration": 69,
        "start_time": "2023-06-11T09:27:37.333Z"
      },
      {
        "duration": 12,
        "start_time": "2023-06-11T09:27:37.404Z"
      },
      {
        "duration": 97,
        "start_time": "2023-06-11T09:27:37.417Z"
      },
      {
        "duration": 7,
        "start_time": "2023-06-11T09:27:37.516Z"
      },
      {
        "duration": 18,
        "start_time": "2023-06-11T09:27:37.524Z"
      },
      {
        "duration": 47,
        "start_time": "2023-06-11T09:27:37.545Z"
      },
      {
        "duration": 84,
        "start_time": "2023-06-11T09:27:37.594Z"
      },
      {
        "duration": 105,
        "start_time": "2023-06-11T09:27:37.680Z"
      },
      {
        "duration": 28,
        "start_time": "2023-06-11T09:27:37.787Z"
      },
      {
        "duration": 7,
        "start_time": "2023-06-11T09:27:37.816Z"
      },
      {
        "duration": 30,
        "start_time": "2023-06-11T09:27:37.825Z"
      },
      {
        "duration": 17,
        "start_time": "2023-06-11T09:27:37.857Z"
      },
      {
        "duration": 49,
        "start_time": "2023-06-11T09:27:37.875Z"
      },
      {
        "duration": 272,
        "start_time": "2023-06-11T09:27:37.925Z"
      },
      {
        "duration": 5,
        "start_time": "2023-06-11T09:27:38.199Z"
      },
      {
        "duration": 16,
        "start_time": "2023-06-11T09:27:38.206Z"
      },
      {
        "duration": 3606,
        "start_time": "2023-06-11T09:27:38.223Z"
      },
      {
        "duration": 24,
        "start_time": "2023-06-11T09:27:41.831Z"
      },
      {
        "duration": 234,
        "start_time": "2023-06-11T09:27:41.858Z"
      },
      {
        "duration": 13,
        "start_time": "2023-06-11T09:27:42.094Z"
      },
      {
        "duration": 83,
        "start_time": "2023-06-11T09:27:42.109Z"
      },
      {
        "duration": 73,
        "start_time": "2023-06-11T09:27:42.194Z"
      },
      {
        "duration": 6,
        "start_time": "2023-06-11T09:27:42.269Z"
      },
      {
        "duration": 76,
        "start_time": "2023-06-11T09:27:42.277Z"
      },
      {
        "duration": 119,
        "start_time": "2023-06-11T09:27:42.356Z"
      },
      {
        "duration": 74,
        "start_time": "2023-06-11T09:27:42.477Z"
      },
      {
        "duration": 126,
        "start_time": "2023-06-11T09:27:42.553Z"
      },
      {
        "duration": 91,
        "start_time": "2023-06-11T09:27:42.681Z"
      },
      {
        "duration": 23,
        "start_time": "2023-06-11T09:27:42.774Z"
      },
      {
        "duration": 11,
        "start_time": "2023-06-11T09:27:42.799Z"
      },
      {
        "duration": 59,
        "start_time": "2023-06-11T09:27:42.812Z"
      },
      {
        "duration": 11,
        "start_time": "2023-06-11T09:27:42.873Z"
      },
      {
        "duration": 4,
        "start_time": "2023-06-11T09:27:42.888Z"
      },
      {
        "duration": 15,
        "start_time": "2023-06-11T09:27:42.894Z"
      },
      {
        "duration": 4,
        "start_time": "2023-06-11T09:27:42.911Z"
      },
      {
        "duration": 31,
        "start_time": "2023-06-11T09:27:42.917Z"
      },
      {
        "duration": 41,
        "start_time": "2023-06-11T09:27:42.951Z"
      },
      {
        "duration": 1537,
        "start_time": "2023-06-11T09:27:42.994Z"
      },
      {
        "duration": 262,
        "start_time": "2023-06-11T09:28:09.487Z"
      },
      {
        "duration": 6,
        "start_time": "2023-06-11T09:28:12.061Z"
      },
      {
        "duration": 247,
        "start_time": "2023-06-11T09:29:03.696Z"
      },
      {
        "duration": 5,
        "start_time": "2023-06-11T09:29:05.838Z"
      },
      {
        "duration": 257,
        "start_time": "2023-06-11T09:29:19.375Z"
      },
      {
        "duration": 6,
        "start_time": "2023-06-11T09:29:22.159Z"
      },
      {
        "duration": 238,
        "start_time": "2023-06-11T09:30:14.501Z"
      },
      {
        "duration": 11,
        "start_time": "2023-06-11T09:31:19.934Z"
      },
      {
        "duration": 27,
        "start_time": "2023-06-11T09:31:24.783Z"
      },
      {
        "duration": 15,
        "start_time": "2023-06-11T09:31:43.463Z"
      },
      {
        "duration": 20,
        "start_time": "2023-06-11T09:32:55.440Z"
      },
      {
        "duration": 1283,
        "start_time": "2023-06-11T09:33:18.702Z"
      },
      {
        "duration": 279,
        "start_time": "2023-06-11T09:33:19.987Z"
      },
      {
        "duration": 11,
        "start_time": "2023-06-11T09:33:20.268Z"
      },
      {
        "duration": 24,
        "start_time": "2023-06-11T09:33:20.281Z"
      },
      {
        "duration": 40,
        "start_time": "2023-06-11T09:33:20.307Z"
      },
      {
        "duration": 68,
        "start_time": "2023-06-11T09:33:20.349Z"
      },
      {
        "duration": 52,
        "start_time": "2023-06-11T09:33:20.418Z"
      },
      {
        "duration": 54,
        "start_time": "2023-06-11T09:33:20.472Z"
      },
      {
        "duration": 67,
        "start_time": "2023-06-11T09:33:20.528Z"
      },
      {
        "duration": 7,
        "start_time": "2023-06-11T09:33:20.598Z"
      },
      {
        "duration": 81,
        "start_time": "2023-06-11T09:33:20.607Z"
      },
      {
        "duration": 17,
        "start_time": "2023-06-11T09:33:20.690Z"
      },
      {
        "duration": 32,
        "start_time": "2023-06-11T09:33:20.709Z"
      },
      {
        "duration": 56,
        "start_time": "2023-06-11T09:33:20.743Z"
      },
      {
        "duration": 81,
        "start_time": "2023-06-11T09:33:20.800Z"
      },
      {
        "duration": 108,
        "start_time": "2023-06-11T09:33:20.882Z"
      },
      {
        "duration": 6,
        "start_time": "2023-06-11T09:33:20.992Z"
      },
      {
        "duration": 27,
        "start_time": "2023-06-11T09:33:20.999Z"
      },
      {
        "duration": 37,
        "start_time": "2023-06-11T09:33:21.028Z"
      },
      {
        "duration": 28,
        "start_time": "2023-06-11T09:33:21.067Z"
      },
      {
        "duration": 246,
        "start_time": "2023-06-11T09:33:21.097Z"
      },
      {
        "duration": 12,
        "start_time": "2023-06-11T09:33:21.346Z"
      },
      {
        "duration": 397,
        "start_time": "2023-06-11T09:33:21.361Z"
      },
      {
        "duration": 19,
        "start_time": "2023-06-11T09:33:21.760Z"
      },
      {
        "duration": 232,
        "start_time": "2023-06-11T09:33:21.781Z"
      },
      {
        "duration": 13,
        "start_time": "2023-06-11T09:33:22.015Z"
      },
      {
        "duration": 209,
        "start_time": "2023-06-11T09:33:22.029Z"
      },
      {
        "duration": 119,
        "start_time": "2023-06-11T09:33:22.242Z"
      },
      {
        "duration": 6,
        "start_time": "2023-06-11T09:33:22.363Z"
      },
      {
        "duration": 106,
        "start_time": "2023-06-11T09:33:22.371Z"
      },
      {
        "duration": 117,
        "start_time": "2023-06-11T09:33:22.480Z"
      },
      {
        "duration": 80,
        "start_time": "2023-06-11T09:33:22.600Z"
      },
      {
        "duration": 91,
        "start_time": "2023-06-11T09:33:22.682Z"
      },
      {
        "duration": 77,
        "start_time": "2023-06-11T09:33:22.775Z"
      },
      {
        "duration": 37,
        "start_time": "2023-06-11T09:33:22.855Z"
      },
      {
        "duration": 39,
        "start_time": "2023-06-11T09:33:22.895Z"
      },
      {
        "duration": 61,
        "start_time": "2023-06-11T09:33:22.937Z"
      },
      {
        "duration": 26,
        "start_time": "2023-06-11T09:33:23.000Z"
      },
      {
        "duration": 17,
        "start_time": "2023-06-11T09:33:23.028Z"
      },
      {
        "duration": 44,
        "start_time": "2023-06-11T09:33:23.047Z"
      },
      {
        "duration": 33,
        "start_time": "2023-06-11T09:33:23.094Z"
      },
      {
        "duration": 31,
        "start_time": "2023-06-11T09:33:23.129Z"
      },
      {
        "duration": 53,
        "start_time": "2023-06-11T09:33:23.162Z"
      },
      {
        "duration": 68,
        "start_time": "2023-06-11T09:33:23.217Z"
      },
      {
        "duration": 28,
        "start_time": "2023-06-11T09:33:23.286Z"
      },
      {
        "duration": 21,
        "start_time": "2023-06-11T09:33:57.116Z"
      },
      {
        "duration": 198,
        "start_time": "2023-06-11T09:34:41.392Z"
      },
      {
        "duration": 46,
        "start_time": "2023-06-11T09:35:19.342Z"
      },
      {
        "duration": 31,
        "start_time": "2023-06-11T09:35:52.021Z"
      },
      {
        "duration": 21,
        "start_time": "2023-06-11T09:35:53.709Z"
      },
      {
        "duration": 37,
        "start_time": "2023-06-11T09:36:11.345Z"
      },
      {
        "duration": 19,
        "start_time": "2023-06-11T09:36:49.983Z"
      },
      {
        "duration": 2,
        "start_time": "2023-06-11T09:37:30.409Z"
      },
      {
        "duration": 29,
        "start_time": "2023-06-11T09:37:31.548Z"
      },
      {
        "duration": 20,
        "start_time": "2023-06-11T09:38:07.517Z"
      },
      {
        "duration": 14,
        "start_time": "2023-06-11T09:38:27.616Z"
      },
      {
        "duration": 20,
        "start_time": "2023-06-11T09:38:29.768Z"
      },
      {
        "duration": 15,
        "start_time": "2023-06-11T09:38:50.315Z"
      },
      {
        "duration": 15,
        "start_time": "2023-06-11T09:38:53.817Z"
      },
      {
        "duration": 30,
        "start_time": "2023-06-11T09:38:57.951Z"
      },
      {
        "duration": 1309,
        "start_time": "2023-06-11T09:39:08.261Z"
      },
      {
        "duration": 284,
        "start_time": "2023-06-11T09:39:09.572Z"
      },
      {
        "duration": 11,
        "start_time": "2023-06-11T09:39:09.857Z"
      },
      {
        "duration": 15,
        "start_time": "2023-06-11T09:39:09.870Z"
      },
      {
        "duration": 15,
        "start_time": "2023-06-11T09:39:09.887Z"
      },
      {
        "duration": 41,
        "start_time": "2023-06-11T09:39:09.903Z"
      },
      {
        "duration": 26,
        "start_time": "2023-06-11T09:39:09.946Z"
      },
      {
        "duration": 18,
        "start_time": "2023-06-11T09:39:09.974Z"
      },
      {
        "duration": 64,
        "start_time": "2023-06-11T09:39:09.994Z"
      },
      {
        "duration": 20,
        "start_time": "2023-06-11T09:39:10.060Z"
      },
      {
        "duration": 66,
        "start_time": "2023-06-11T09:39:10.082Z"
      },
      {
        "duration": 10,
        "start_time": "2023-06-11T09:39:10.152Z"
      },
      {
        "duration": 32,
        "start_time": "2023-06-11T09:39:10.168Z"
      },
      {
        "duration": 32,
        "start_time": "2023-06-11T09:39:10.204Z"
      },
      {
        "duration": 83,
        "start_time": "2023-06-11T09:39:10.238Z"
      },
      {
        "duration": 101,
        "start_time": "2023-06-11T09:39:10.323Z"
      },
      {
        "duration": 6,
        "start_time": "2023-06-11T09:39:10.426Z"
      },
      {
        "duration": 30,
        "start_time": "2023-06-11T09:39:10.433Z"
      },
      {
        "duration": 20,
        "start_time": "2023-06-11T09:39:10.465Z"
      },
      {
        "duration": 18,
        "start_time": "2023-06-11T09:39:10.487Z"
      },
      {
        "duration": 260,
        "start_time": "2023-06-11T09:39:10.506Z"
      },
      {
        "duration": 15,
        "start_time": "2023-06-11T09:39:10.768Z"
      },
      {
        "duration": 407,
        "start_time": "2023-06-11T09:39:10.785Z"
      },
      {
        "duration": 20,
        "start_time": "2023-06-11T09:39:11.193Z"
      },
      {
        "duration": 223,
        "start_time": "2023-06-11T09:39:11.246Z"
      },
      {
        "duration": 13,
        "start_time": "2023-06-11T09:39:11.471Z"
      },
      {
        "duration": 79,
        "start_time": "2023-06-11T09:39:11.486Z"
      },
      {
        "duration": 105,
        "start_time": "2023-06-11T09:39:11.567Z"
      },
      {
        "duration": 7,
        "start_time": "2023-06-11T09:39:11.674Z"
      },
      {
        "duration": 80,
        "start_time": "2023-06-11T09:39:11.683Z"
      },
      {
        "duration": 98,
        "start_time": "2023-06-11T09:39:11.765Z"
      },
      {
        "duration": 48,
        "start_time": "2023-06-11T09:39:11.865Z"
      },
      {
        "duration": 90,
        "start_time": "2023-06-11T09:39:11.915Z"
      },
      {
        "duration": 75,
        "start_time": "2023-06-11T09:39:12.008Z"
      },
      {
        "duration": 22,
        "start_time": "2023-06-11T09:39:12.085Z"
      },
      {
        "duration": 23,
        "start_time": "2023-06-11T09:39:12.109Z"
      },
      {
        "duration": 33,
        "start_time": "2023-06-11T09:39:12.134Z"
      },
      {
        "duration": 16,
        "start_time": "2023-06-11T09:39:12.169Z"
      },
      {
        "duration": 4,
        "start_time": "2023-06-11T09:39:12.187Z"
      },
      {
        "duration": 24,
        "start_time": "2023-06-11T09:39:12.193Z"
      },
      {
        "duration": 10,
        "start_time": "2023-06-11T09:39:12.221Z"
      },
      {
        "duration": 9,
        "start_time": "2023-06-11T09:39:12.245Z"
      },
      {
        "duration": 21,
        "start_time": "2023-06-11T09:39:12.261Z"
      },
      {
        "duration": 10,
        "start_time": "2023-06-11T09:39:12.284Z"
      },
      {
        "duration": 24,
        "start_time": "2023-06-11T09:39:12.296Z"
      },
      {
        "duration": 20,
        "start_time": "2023-06-11T09:40:41.185Z"
      },
      {
        "duration": 219,
        "start_time": "2023-06-11T09:44:32.343Z"
      },
      {
        "duration": 37,
        "start_time": "2023-06-11T09:44:57.104Z"
      },
      {
        "duration": 5,
        "start_time": "2023-06-11T09:45:08.470Z"
      },
      {
        "duration": 12,
        "start_time": "2023-06-11T09:45:55.055Z"
      },
      {
        "duration": 26,
        "start_time": "2023-06-11T09:46:14.192Z"
      },
      {
        "duration": 3,
        "start_time": "2023-06-11T09:46:21.066Z"
      },
      {
        "duration": 16,
        "start_time": "2023-06-11T09:46:25.025Z"
      },
      {
        "duration": 17,
        "start_time": "2023-06-11T09:48:15.283Z"
      },
      {
        "duration": 16,
        "start_time": "2023-06-11T09:48:41.514Z"
      },
      {
        "duration": 21,
        "start_time": "2023-06-11T09:50:15.648Z"
      },
      {
        "duration": 16,
        "start_time": "2023-06-11T09:50:33.724Z"
      },
      {
        "duration": 25,
        "start_time": "2023-06-11T09:51:01.517Z"
      },
      {
        "duration": 49,
        "start_time": "2023-06-11T09:59:43.087Z"
      },
      {
        "duration": 45,
        "start_time": "2023-06-11T10:00:15.639Z"
      },
      {
        "duration": 19,
        "start_time": "2023-06-11T10:00:54.995Z"
      },
      {
        "duration": 19,
        "start_time": "2023-06-11T10:00:56.481Z"
      },
      {
        "duration": 23,
        "start_time": "2023-06-11T10:01:05.761Z"
      },
      {
        "duration": 98,
        "start_time": "2023-06-11T10:01:38.684Z"
      },
      {
        "duration": 33,
        "start_time": "2023-06-11T10:01:43.831Z"
      },
      {
        "duration": 19,
        "start_time": "2023-06-11T10:01:50.947Z"
      },
      {
        "duration": 41,
        "start_time": "2023-06-11T10:02:13.949Z"
      },
      {
        "duration": 153,
        "start_time": "2023-06-11T10:02:16.085Z"
      },
      {
        "duration": 8,
        "start_time": "2023-06-11T10:02:18.597Z"
      },
      {
        "duration": 92,
        "start_time": "2023-06-11T10:02:21.899Z"
      },
      {
        "duration": 154,
        "start_time": "2023-06-11T10:02:35.541Z"
      },
      {
        "duration": 11,
        "start_time": "2023-06-11T10:02:37.903Z"
      },
      {
        "duration": 115,
        "start_time": "2023-06-11T10:02:41.639Z"
      },
      {
        "duration": 46,
        "start_time": "2023-06-11T10:03:08.843Z"
      },
      {
        "duration": 67,
        "start_time": "2023-06-11T10:03:13.939Z"
      },
      {
        "duration": 59,
        "start_time": "2023-06-11T10:03:15.780Z"
      },
      {
        "duration": 54,
        "start_time": "2023-06-11T10:03:32.554Z"
      },
      {
        "duration": 35,
        "start_time": "2023-06-11T10:03:38.675Z"
      },
      {
        "duration": 86,
        "start_time": "2023-06-11T10:04:26.061Z"
      },
      {
        "duration": 7,
        "start_time": "2023-06-11T10:04:28.091Z"
      },
      {
        "duration": 96,
        "start_time": "2023-06-11T10:07:03.826Z"
      },
      {
        "duration": 59,
        "start_time": "2023-06-11T10:07:05.538Z"
      },
      {
        "duration": 31,
        "start_time": "2023-06-11T10:20:23.355Z"
      },
      {
        "duration": 51,
        "start_time": "2023-06-11T10:38:26.242Z"
      },
      {
        "duration": 16,
        "start_time": "2023-06-11T10:38:28.317Z"
      },
      {
        "duration": 37,
        "start_time": "2023-06-11T10:38:30.275Z"
      },
      {
        "duration": 2065,
        "start_time": "2023-06-11T10:38:39.876Z"
      },
      {
        "duration": 1705,
        "start_time": "2023-06-11T10:39:06.196Z"
      },
      {
        "duration": 17,
        "start_time": "2023-06-11T10:42:45.435Z"
      },
      {
        "duration": 23,
        "start_time": "2023-06-11T10:42:47.343Z"
      },
      {
        "duration": 5,
        "start_time": "2023-06-11T10:42:49.399Z"
      },
      {
        "duration": 13,
        "start_time": "2023-06-11T10:42:50.667Z"
      },
      {
        "duration": 4,
        "start_time": "2023-06-11T10:42:52.034Z"
      },
      {
        "duration": 5,
        "start_time": "2023-06-11T10:42:54.462Z"
      },
      {
        "duration": 1314,
        "start_time": "2023-06-11T10:43:33.972Z"
      },
      {
        "duration": 300,
        "start_time": "2023-06-11T10:43:35.288Z"
      },
      {
        "duration": 13,
        "start_time": "2023-06-11T10:43:35.591Z"
      },
      {
        "duration": 53,
        "start_time": "2023-06-11T10:43:35.606Z"
      },
      {
        "duration": 46,
        "start_time": "2023-06-11T10:43:35.661Z"
      },
      {
        "duration": 89,
        "start_time": "2023-06-11T10:43:35.709Z"
      },
      {
        "duration": 60,
        "start_time": "2023-06-11T10:43:35.800Z"
      },
      {
        "duration": 19,
        "start_time": "2023-06-11T10:43:35.863Z"
      },
      {
        "duration": 55,
        "start_time": "2023-06-11T10:43:35.884Z"
      },
      {
        "duration": 83,
        "start_time": "2023-06-11T10:43:35.942Z"
      },
      {
        "duration": 38,
        "start_time": "2023-06-11T10:43:36.027Z"
      },
      {
        "duration": 104,
        "start_time": "2023-06-11T10:43:36.067Z"
      },
      {
        "duration": 10,
        "start_time": "2023-06-11T10:43:36.174Z"
      },
      {
        "duration": 55,
        "start_time": "2023-06-11T10:43:36.185Z"
      },
      {
        "duration": 63,
        "start_time": "2023-06-11T10:43:36.242Z"
      },
      {
        "duration": 108,
        "start_time": "2023-06-11T10:43:36.307Z"
      },
      {
        "duration": 98,
        "start_time": "2023-06-11T10:43:36.417Z"
      },
      {
        "duration": 6,
        "start_time": "2023-06-11T10:43:36.517Z"
      },
      {
        "duration": 59,
        "start_time": "2023-06-11T10:43:36.525Z"
      },
      {
        "duration": 54,
        "start_time": "2023-06-11T10:43:36.586Z"
      },
      {
        "duration": 47,
        "start_time": "2023-06-11T10:43:36.642Z"
      },
      {
        "duration": 290,
        "start_time": "2023-06-11T10:43:36.691Z"
      },
      {
        "duration": 11,
        "start_time": "2023-06-11T10:43:36.983Z"
      },
      {
        "duration": 414,
        "start_time": "2023-06-11T10:43:36.996Z"
      },
      {
        "duration": 47,
        "start_time": "2023-06-11T10:43:37.412Z"
      },
      {
        "duration": 232,
        "start_time": "2023-06-11T10:43:37.461Z"
      },
      {
        "duration": 33,
        "start_time": "2023-06-11T10:43:37.694Z"
      },
      {
        "duration": 79,
        "start_time": "2023-06-11T10:43:37.731Z"
      },
      {
        "duration": 178,
        "start_time": "2023-06-11T10:43:37.812Z"
      },
      {
        "duration": 0,
        "start_time": "2023-06-11T10:43:37.992Z"
      },
      {
        "duration": 0,
        "start_time": "2023-06-11T10:43:37.993Z"
      },
      {
        "duration": 0,
        "start_time": "2023-06-11T10:43:37.994Z"
      },
      {
        "duration": 0,
        "start_time": "2023-06-11T10:43:37.995Z"
      },
      {
        "duration": 0,
        "start_time": "2023-06-11T10:43:37.997Z"
      },
      {
        "duration": 0,
        "start_time": "2023-06-11T10:43:37.998Z"
      },
      {
        "duration": 0,
        "start_time": "2023-06-11T10:43:37.999Z"
      },
      {
        "duration": 0,
        "start_time": "2023-06-11T10:43:38.000Z"
      },
      {
        "duration": 0,
        "start_time": "2023-06-11T10:43:38.001Z"
      },
      {
        "duration": 0,
        "start_time": "2023-06-11T10:43:38.002Z"
      },
      {
        "duration": 0,
        "start_time": "2023-06-11T10:43:38.003Z"
      },
      {
        "duration": 0,
        "start_time": "2023-06-11T10:43:38.004Z"
      },
      {
        "duration": 0,
        "start_time": "2023-06-11T10:43:38.005Z"
      },
      {
        "duration": 0,
        "start_time": "2023-06-11T10:43:38.006Z"
      },
      {
        "duration": 0,
        "start_time": "2023-06-11T10:43:38.007Z"
      },
      {
        "duration": 96,
        "start_time": "2023-06-11T10:44:19.443Z"
      },
      {
        "duration": 54,
        "start_time": "2023-06-11T10:44:21.566Z"
      },
      {
        "duration": 57,
        "start_time": "2023-06-11T10:44:24.256Z"
      },
      {
        "duration": 76,
        "start_time": "2023-06-11T10:44:24.815Z"
      },
      {
        "duration": 61,
        "start_time": "2023-06-11T10:44:24.983Z"
      },
      {
        "duration": 22,
        "start_time": "2023-06-11T10:44:25.616Z"
      },
      {
        "duration": 10,
        "start_time": "2023-06-11T10:44:25.776Z"
      },
      {
        "duration": 17,
        "start_time": "2023-06-11T10:44:26.721Z"
      },
      {
        "duration": 12,
        "start_time": "2023-06-11T10:44:26.889Z"
      },
      {
        "duration": 1446,
        "start_time": "2023-06-11T10:44:27.072Z"
      },
      {
        "duration": 0,
        "start_time": "2023-06-11T10:44:28.520Z"
      },
      {
        "duration": 0,
        "start_time": "2023-06-11T10:44:28.521Z"
      },
      {
        "duration": 0,
        "start_time": "2023-06-11T10:44:28.522Z"
      },
      {
        "duration": 32,
        "start_time": "2023-06-11T10:47:14.876Z"
      },
      {
        "duration": 33,
        "start_time": "2023-06-11T10:47:22.876Z"
      },
      {
        "duration": 86,
        "start_time": "2023-06-11T10:47:31.743Z"
      },
      {
        "duration": 17,
        "start_time": "2023-06-11T10:47:52.768Z"
      },
      {
        "duration": 15,
        "start_time": "2023-06-11T10:48:03.569Z"
      },
      {
        "duration": 79,
        "start_time": "2023-06-11T10:48:23.272Z"
      },
      {
        "duration": 7,
        "start_time": "2023-06-11T10:49:46.996Z"
      },
      {
        "duration": 62,
        "start_time": "2023-06-11T10:50:14.946Z"
      },
      {
        "duration": 58,
        "start_time": "2023-06-11T10:50:40.766Z"
      },
      {
        "duration": 1333,
        "start_time": "2023-06-11T10:51:15.473Z"
      },
      {
        "duration": 305,
        "start_time": "2023-06-11T10:51:16.810Z"
      },
      {
        "duration": 12,
        "start_time": "2023-06-11T10:51:17.117Z"
      },
      {
        "duration": 31,
        "start_time": "2023-06-11T10:51:17.131Z"
      },
      {
        "duration": 33,
        "start_time": "2023-06-11T10:51:17.173Z"
      },
      {
        "duration": 84,
        "start_time": "2023-06-11T10:51:17.208Z"
      },
      {
        "duration": 62,
        "start_time": "2023-06-11T10:51:17.294Z"
      },
      {
        "duration": 9,
        "start_time": "2023-06-11T10:51:17.364Z"
      },
      {
        "duration": 18,
        "start_time": "2023-06-11T10:51:17.375Z"
      },
      {
        "duration": 79,
        "start_time": "2023-06-11T10:51:17.395Z"
      },
      {
        "duration": 64,
        "start_time": "2023-06-11T10:51:17.476Z"
      },
      {
        "duration": 101,
        "start_time": "2023-06-11T10:51:17.542Z"
      },
      {
        "duration": 16,
        "start_time": "2023-06-11T10:51:17.644Z"
      },
      {
        "duration": 25,
        "start_time": "2023-06-11T10:51:17.665Z"
      },
      {
        "duration": 35,
        "start_time": "2023-06-11T10:51:17.692Z"
      },
      {
        "duration": 153,
        "start_time": "2023-06-11T10:51:17.729Z"
      },
      {
        "duration": 116,
        "start_time": "2023-06-11T10:51:17.883Z"
      },
      {
        "duration": 6,
        "start_time": "2023-06-11T10:51:18.002Z"
      },
      {
        "duration": 17,
        "start_time": "2023-06-11T10:51:18.010Z"
      },
      {
        "duration": 40,
        "start_time": "2023-06-11T10:51:18.028Z"
      },
      {
        "duration": 23,
        "start_time": "2023-06-11T10:51:18.076Z"
      },
      {
        "duration": 257,
        "start_time": "2023-06-11T10:51:18.101Z"
      },
      {
        "duration": 15,
        "start_time": "2023-06-11T10:51:18.367Z"
      },
      {
        "duration": 416,
        "start_time": "2023-06-11T10:51:18.384Z"
      },
      {
        "duration": 53,
        "start_time": "2023-06-11T10:51:18.801Z"
      },
      {
        "duration": 219,
        "start_time": "2023-06-11T10:51:18.860Z"
      },
      {
        "duration": 13,
        "start_time": "2023-06-11T10:51:19.081Z"
      },
      {
        "duration": 86,
        "start_time": "2023-06-11T10:51:19.097Z"
      },
      {
        "duration": 36,
        "start_time": "2023-06-11T10:51:19.185Z"
      },
      {
        "duration": 149,
        "start_time": "2023-06-11T10:51:19.223Z"
      },
      {
        "duration": 9,
        "start_time": "2023-06-11T10:51:19.374Z"
      },
      {
        "duration": 82,
        "start_time": "2023-06-11T10:51:19.384Z"
      },
      {
        "duration": 102,
        "start_time": "2023-06-11T10:51:19.468Z"
      },
      {
        "duration": 54,
        "start_time": "2023-06-11T10:51:19.574Z"
      },
      {
        "duration": 98,
        "start_time": "2023-06-11T10:51:19.629Z"
      },
      {
        "duration": 86,
        "start_time": "2023-06-11T10:51:19.728Z"
      },
      {
        "duration": 51,
        "start_time": "2023-06-11T10:51:19.817Z"
      },
      {
        "duration": 27,
        "start_time": "2023-06-11T10:51:19.871Z"
      },
      {
        "duration": 21,
        "start_time": "2023-06-11T10:51:19.900Z"
      },
      {
        "duration": 56,
        "start_time": "2023-06-11T10:51:19.922Z"
      },
      {
        "duration": 8,
        "start_time": "2023-06-11T10:51:19.980Z"
      },
      {
        "duration": 15,
        "start_time": "2023-06-11T10:51:19.990Z"
      },
      {
        "duration": 11,
        "start_time": "2023-06-11T10:51:20.007Z"
      },
      {
        "duration": 26,
        "start_time": "2023-06-11T10:51:20.020Z"
      },
      {
        "duration": 45,
        "start_time": "2023-06-11T10:51:20.050Z"
      },
      {
        "duration": 26,
        "start_time": "2023-06-11T10:51:20.097Z"
      },
      {
        "duration": 233,
        "start_time": "2023-06-11T10:51:20.125Z"
      },
      {
        "duration": 38,
        "start_time": "2023-06-11T10:52:03.243Z"
      },
      {
        "duration": 15,
        "start_time": "2023-06-11T10:52:04.768Z"
      },
      {
        "duration": 4,
        "start_time": "2023-06-11T10:52:06.008Z"
      },
      {
        "duration": 17,
        "start_time": "2023-06-11T10:52:07.258Z"
      },
      {
        "duration": 5,
        "start_time": "2023-06-11T10:52:08.386Z"
      },
      {
        "duration": 6,
        "start_time": "2023-06-11T10:52:09.691Z"
      },
      {
        "duration": 1371,
        "start_time": "2023-06-11T10:52:29.323Z"
      },
      {
        "duration": 318,
        "start_time": "2023-06-11T10:52:30.696Z"
      },
      {
        "duration": 13,
        "start_time": "2023-06-11T10:52:31.016Z"
      },
      {
        "duration": 71,
        "start_time": "2023-06-11T10:52:31.031Z"
      },
      {
        "duration": 72,
        "start_time": "2023-06-11T10:52:31.104Z"
      },
      {
        "duration": 111,
        "start_time": "2023-06-11T10:52:31.177Z"
      },
      {
        "duration": 87,
        "start_time": "2023-06-11T10:52:31.289Z"
      },
      {
        "duration": 37,
        "start_time": "2023-06-11T10:52:31.378Z"
      },
      {
        "duration": 82,
        "start_time": "2023-06-11T10:52:31.417Z"
      },
      {
        "duration": 91,
        "start_time": "2023-06-11T10:52:31.502Z"
      },
      {
        "duration": 40,
        "start_time": "2023-06-11T10:52:31.594Z"
      },
      {
        "duration": 133,
        "start_time": "2023-06-11T10:52:31.635Z"
      },
      {
        "duration": 9,
        "start_time": "2023-06-11T10:52:31.769Z"
      },
      {
        "duration": 59,
        "start_time": "2023-06-11T10:52:31.780Z"
      },
      {
        "duration": 94,
        "start_time": "2023-06-11T10:52:31.841Z"
      },
      {
        "duration": 138,
        "start_time": "2023-06-11T10:52:31.936Z"
      },
      {
        "duration": 88,
        "start_time": "2023-06-11T10:52:32.076Z"
      },
      {
        "duration": 8,
        "start_time": "2023-06-11T10:52:32.165Z"
      },
      {
        "duration": 60,
        "start_time": "2023-06-11T10:52:32.175Z"
      },
      {
        "duration": 58,
        "start_time": "2023-06-11T10:52:32.236Z"
      },
      {
        "duration": 24,
        "start_time": "2023-06-11T10:52:32.296Z"
      },
      {
        "duration": 309,
        "start_time": "2023-06-11T10:52:32.322Z"
      },
      {
        "duration": 22,
        "start_time": "2023-06-11T10:52:32.633Z"
      },
      {
        "duration": 552,
        "start_time": "2023-06-11T10:52:32.659Z"
      },
      {
        "duration": 36,
        "start_time": "2023-06-11T10:52:33.213Z"
      },
      {
        "duration": 227,
        "start_time": "2023-06-11T10:52:33.250Z"
      },
      {
        "duration": 12,
        "start_time": "2023-06-11T10:52:33.479Z"
      },
      {
        "duration": 77,
        "start_time": "2023-06-11T10:52:33.495Z"
      },
      {
        "duration": 32,
        "start_time": "2023-06-11T10:52:33.575Z"
      },
      {
        "duration": 73,
        "start_time": "2023-06-11T10:52:33.609Z"
      },
      {
        "duration": 7,
        "start_time": "2023-06-11T10:52:33.683Z"
      },
      {
        "duration": 109,
        "start_time": "2023-06-11T10:52:33.692Z"
      },
      {
        "duration": 106,
        "start_time": "2023-06-11T10:52:33.803Z"
      },
      {
        "duration": 70,
        "start_time": "2023-06-11T10:52:33.911Z"
      },
      {
        "duration": 90,
        "start_time": "2023-06-11T10:52:33.983Z"
      },
      {
        "duration": 75,
        "start_time": "2023-06-11T10:52:34.075Z"
      },
      {
        "duration": 31,
        "start_time": "2023-06-11T10:52:34.157Z"
      },
      {
        "duration": 13,
        "start_time": "2023-06-11T10:52:34.190Z"
      },
      {
        "duration": 32,
        "start_time": "2023-06-11T10:52:34.205Z"
      },
      {
        "duration": 17,
        "start_time": "2023-06-11T10:52:34.238Z"
      },
      {
        "duration": 54,
        "start_time": "2023-06-11T10:52:34.257Z"
      },
      {
        "duration": 25,
        "start_time": "2023-06-11T10:52:34.313Z"
      },
      {
        "duration": 45,
        "start_time": "2023-06-11T10:52:34.340Z"
      },
      {
        "duration": 33,
        "start_time": "2023-06-11T10:52:34.387Z"
      },
      {
        "duration": 52,
        "start_time": "2023-06-11T10:52:34.422Z"
      },
      {
        "duration": 43,
        "start_time": "2023-06-11T10:52:34.476Z"
      },
      {
        "duration": 190,
        "start_time": "2023-06-11T10:52:34.521Z"
      },
      {
        "duration": 14,
        "start_time": "2023-06-11T10:54:56.467Z"
      },
      {
        "duration": 11,
        "start_time": "2023-06-11T10:55:00.025Z"
      },
      {
        "duration": 12,
        "start_time": "2023-06-11T10:55:05.508Z"
      },
      {
        "duration": 1423,
        "start_time": "2023-06-11T10:55:13.078Z"
      },
      {
        "duration": 306,
        "start_time": "2023-06-11T10:55:14.503Z"
      },
      {
        "duration": 12,
        "start_time": "2023-06-11T10:55:14.811Z"
      },
      {
        "duration": 17,
        "start_time": "2023-06-11T10:55:14.825Z"
      },
      {
        "duration": 48,
        "start_time": "2023-06-11T10:55:14.845Z"
      },
      {
        "duration": 62,
        "start_time": "2023-06-11T10:55:14.895Z"
      },
      {
        "duration": 80,
        "start_time": "2023-06-11T10:55:14.958Z"
      },
      {
        "duration": 73,
        "start_time": "2023-06-11T10:55:15.040Z"
      },
      {
        "duration": 67,
        "start_time": "2023-06-11T10:55:15.115Z"
      },
      {
        "duration": 75,
        "start_time": "2023-06-11T10:55:15.185Z"
      },
      {
        "duration": 27,
        "start_time": "2023-06-11T10:55:15.266Z"
      },
      {
        "duration": 86,
        "start_time": "2023-06-11T10:55:15.296Z"
      },
      {
        "duration": 9,
        "start_time": "2023-06-11T10:55:15.384Z"
      },
      {
        "duration": 19,
        "start_time": "2023-06-11T10:55:15.397Z"
      },
      {
        "duration": 48,
        "start_time": "2023-06-11T10:55:15.417Z"
      },
      {
        "duration": 91,
        "start_time": "2023-06-11T10:55:15.466Z"
      },
      {
        "duration": 88,
        "start_time": "2023-06-11T10:55:15.559Z"
      },
      {
        "duration": 15,
        "start_time": "2023-06-11T10:55:15.656Z"
      },
      {
        "duration": 15,
        "start_time": "2023-06-11T10:55:15.675Z"
      },
      {
        "duration": 18,
        "start_time": "2023-06-11T10:55:15.691Z"
      },
      {
        "duration": 16,
        "start_time": "2023-06-11T10:55:15.711Z"
      },
      {
        "duration": 293,
        "start_time": "2023-06-11T10:55:15.728Z"
      },
      {
        "duration": 11,
        "start_time": "2023-06-11T10:55:16.023Z"
      },
      {
        "duration": 445,
        "start_time": "2023-06-11T10:55:16.036Z"
      },
      {
        "duration": 26,
        "start_time": "2023-06-11T10:55:16.483Z"
      },
      {
        "duration": 279,
        "start_time": "2023-06-11T10:55:16.511Z"
      },
      {
        "duration": 19,
        "start_time": "2023-06-11T10:55:16.792Z"
      },
      {
        "duration": 86,
        "start_time": "2023-06-11T10:55:16.813Z"
      },
      {
        "duration": 79,
        "start_time": "2023-06-11T10:55:16.901Z"
      },
      {
        "duration": 88,
        "start_time": "2023-06-11T10:55:16.987Z"
      },
      {
        "duration": 8,
        "start_time": "2023-06-11T10:55:17.078Z"
      },
      {
        "duration": 80,
        "start_time": "2023-06-11T10:55:17.088Z"
      },
      {
        "duration": 110,
        "start_time": "2023-06-11T10:55:17.169Z"
      },
      {
        "duration": 51,
        "start_time": "2023-06-11T10:55:17.283Z"
      },
      {
        "duration": 85,
        "start_time": "2023-06-11T10:55:17.346Z"
      },
      {
        "duration": 78,
        "start_time": "2023-06-11T10:55:17.433Z"
      },
      {
        "duration": 44,
        "start_time": "2023-06-11T10:55:17.513Z"
      },
      {
        "duration": 20,
        "start_time": "2023-06-11T10:55:17.560Z"
      },
      {
        "duration": 30,
        "start_time": "2023-06-11T10:55:17.582Z"
      },
      {
        "duration": 18,
        "start_time": "2023-06-11T10:55:17.615Z"
      },
      {
        "duration": 52,
        "start_time": "2023-06-11T10:55:17.638Z"
      },
      {
        "duration": 31,
        "start_time": "2023-06-11T10:55:17.691Z"
      },
      {
        "duration": 12,
        "start_time": "2023-06-11T10:55:17.724Z"
      },
      {
        "duration": 51,
        "start_time": "2023-06-11T10:55:17.737Z"
      },
      {
        "duration": 20,
        "start_time": "2023-06-11T10:55:17.790Z"
      },
      {
        "duration": 10,
        "start_time": "2023-06-11T10:55:17.812Z"
      },
      {
        "duration": 205,
        "start_time": "2023-06-11T10:55:17.824Z"
      },
      {
        "duration": 11,
        "start_time": "2023-06-11T10:55:27.090Z"
      },
      {
        "duration": 3,
        "start_time": "2023-06-11T10:55:36.075Z"
      },
      {
        "duration": 7,
        "start_time": "2023-06-11T10:57:35.340Z"
      },
      {
        "duration": 14,
        "start_time": "2023-06-11T10:57:44.914Z"
      },
      {
        "duration": 11,
        "start_time": "2023-06-11T10:57:58.512Z"
      },
      {
        "duration": 27,
        "start_time": "2023-06-11T10:58:06.118Z"
      },
      {
        "duration": 6,
        "start_time": "2023-06-11T10:58:12.911Z"
      },
      {
        "duration": 17,
        "start_time": "2023-06-11T10:58:14.540Z"
      },
      {
        "duration": 9,
        "start_time": "2023-06-11T10:58:15.809Z"
      },
      {
        "duration": 66,
        "start_time": "2023-06-11T11:00:01.767Z"
      },
      {
        "duration": 6,
        "start_time": "2023-06-11T11:00:07.605Z"
      },
      {
        "duration": 69,
        "start_time": "2023-06-11T11:00:10.361Z"
      },
      {
        "duration": 9,
        "start_time": "2023-06-11T11:00:12.583Z"
      },
      {
        "duration": 1366,
        "start_time": "2023-06-11T11:01:27.025Z"
      },
      {
        "duration": 300,
        "start_time": "2023-06-11T11:01:28.393Z"
      },
      {
        "duration": 12,
        "start_time": "2023-06-11T11:01:28.695Z"
      },
      {
        "duration": 62,
        "start_time": "2023-06-11T11:01:28.709Z"
      },
      {
        "duration": 38,
        "start_time": "2023-06-11T11:01:28.773Z"
      },
      {
        "duration": 72,
        "start_time": "2023-06-11T11:01:28.813Z"
      },
      {
        "duration": 56,
        "start_time": "2023-06-11T11:01:28.886Z"
      },
      {
        "duration": 26,
        "start_time": "2023-06-11T11:01:28.944Z"
      },
      {
        "duration": 26,
        "start_time": "2023-06-11T11:01:28.972Z"
      },
      {
        "duration": 64,
        "start_time": "2023-06-11T11:01:29.001Z"
      },
      {
        "duration": 16,
        "start_time": "2023-06-11T11:01:29.067Z"
      },
      {
        "duration": 91,
        "start_time": "2023-06-11T11:01:29.085Z"
      },
      {
        "duration": 6,
        "start_time": "2023-06-11T11:01:29.178Z"
      },
      {
        "duration": 33,
        "start_time": "2023-06-11T11:01:29.185Z"
      },
      {
        "duration": 55,
        "start_time": "2023-06-11T11:01:29.220Z"
      },
      {
        "duration": 103,
        "start_time": "2023-06-11T11:01:29.276Z"
      },
      {
        "duration": 82,
        "start_time": "2023-06-11T11:01:29.381Z"
      },
      {
        "duration": 6,
        "start_time": "2023-06-11T11:01:29.465Z"
      },
      {
        "duration": 31,
        "start_time": "2023-06-11T11:01:29.473Z"
      },
      {
        "duration": 48,
        "start_time": "2023-06-11T11:01:29.506Z"
      },
      {
        "duration": 41,
        "start_time": "2023-06-11T11:01:29.555Z"
      },
      {
        "duration": 277,
        "start_time": "2023-06-11T11:01:29.597Z"
      },
      {
        "duration": 13,
        "start_time": "2023-06-11T11:01:29.876Z"
      },
      {
        "duration": 394,
        "start_time": "2023-06-11T11:01:29.891Z"
      },
      {
        "duration": 20,
        "start_time": "2023-06-11T11:01:30.288Z"
      },
      {
        "duration": 237,
        "start_time": "2023-06-11T11:01:30.349Z"
      },
      {
        "duration": 65,
        "start_time": "2023-06-11T11:01:30.588Z"
      },
      {
        "duration": 106,
        "start_time": "2023-06-11T11:01:30.661Z"
      },
      {
        "duration": 56,
        "start_time": "2023-06-11T11:01:30.770Z"
      },
      {
        "duration": 77,
        "start_time": "2023-06-11T11:01:30.828Z"
      },
      {
        "duration": 7,
        "start_time": "2023-06-11T11:01:30.907Z"
      },
      {
        "duration": 108,
        "start_time": "2023-06-11T11:01:30.916Z"
      },
      {
        "duration": 100,
        "start_time": "2023-06-11T11:01:31.026Z"
      },
      {
        "duration": 58,
        "start_time": "2023-06-11T11:01:31.128Z"
      },
      {
        "duration": 92,
        "start_time": "2023-06-11T11:01:31.188Z"
      },
      {
        "duration": 131,
        "start_time": "2023-06-11T11:01:31.281Z"
      },
      {
        "duration": 141,
        "start_time": "2023-06-11T11:01:31.414Z"
      },
      {
        "duration": 28,
        "start_time": "2023-06-11T11:01:31.556Z"
      },
      {
        "duration": 36,
        "start_time": "2023-06-11T11:01:31.586Z"
      },
      {
        "duration": 15,
        "start_time": "2023-06-11T11:01:31.624Z"
      },
      {
        "duration": 50,
        "start_time": "2023-06-11T11:01:31.640Z"
      },
      {
        "duration": 40,
        "start_time": "2023-06-11T11:01:31.692Z"
      },
      {
        "duration": 52,
        "start_time": "2023-06-11T11:01:31.735Z"
      },
      {
        "duration": 54,
        "start_time": "2023-06-11T11:01:31.789Z"
      },
      {
        "duration": 54,
        "start_time": "2023-06-11T11:01:31.848Z"
      },
      {
        "duration": 68,
        "start_time": "2023-06-11T11:01:31.904Z"
      },
      {
        "duration": 322,
        "start_time": "2023-06-11T11:01:31.974Z"
      },
      {
        "duration": 247,
        "start_time": "2023-06-11T11:01:32.298Z"
      },
      {
        "duration": 19,
        "start_time": "2023-06-11T11:02:18.992Z"
      },
      {
        "duration": 10,
        "start_time": "2023-06-11T11:03:13.561Z"
      },
      {
        "duration": 11,
        "start_time": "2023-06-11T11:03:28.273Z"
      },
      {
        "duration": 19,
        "start_time": "2023-06-11T11:03:31.365Z"
      },
      {
        "duration": 11,
        "start_time": "2023-06-11T11:03:39.269Z"
      },
      {
        "duration": 1242,
        "start_time": "2023-06-11T11:05:06.217Z"
      },
      {
        "duration": 50,
        "start_time": "2023-06-11T11:05:12.439Z"
      },
      {
        "duration": 66,
        "start_time": "2023-06-11T11:05:19.335Z"
      },
      {
        "duration": 38,
        "start_time": "2023-06-11T11:05:39.869Z"
      },
      {
        "duration": 17,
        "start_time": "2023-06-11T11:06:33.218Z"
      },
      {
        "duration": 1412,
        "start_time": "2023-06-11T11:07:32.616Z"
      },
      {
        "duration": 295,
        "start_time": "2023-06-11T11:07:34.030Z"
      },
      {
        "duration": 12,
        "start_time": "2023-06-11T11:07:34.327Z"
      },
      {
        "duration": 79,
        "start_time": "2023-06-11T11:07:34.341Z"
      },
      {
        "duration": 14,
        "start_time": "2023-06-11T11:07:34.422Z"
      },
      {
        "duration": 70,
        "start_time": "2023-06-11T11:07:34.438Z"
      },
      {
        "duration": 30,
        "start_time": "2023-06-11T11:07:34.510Z"
      },
      {
        "duration": 21,
        "start_time": "2023-06-11T11:07:34.543Z"
      },
      {
        "duration": 51,
        "start_time": "2023-06-11T11:07:34.565Z"
      },
      {
        "duration": 90,
        "start_time": "2023-06-11T11:07:34.618Z"
      },
      {
        "duration": 60,
        "start_time": "2023-06-11T11:07:34.709Z"
      },
      {
        "duration": 67,
        "start_time": "2023-06-11T11:07:34.773Z"
      },
      {
        "duration": 15,
        "start_time": "2023-06-11T11:07:34.842Z"
      },
      {
        "duration": 31,
        "start_time": "2023-06-11T11:07:34.861Z"
      },
      {
        "duration": 60,
        "start_time": "2023-06-11T11:07:34.893Z"
      },
      {
        "duration": 99,
        "start_time": "2023-06-11T11:07:34.955Z"
      },
      {
        "duration": 83,
        "start_time": "2023-06-11T11:07:35.056Z"
      },
      {
        "duration": 13,
        "start_time": "2023-06-11T11:07:35.141Z"
      },
      {
        "duration": 41,
        "start_time": "2023-06-11T11:07:35.156Z"
      },
      {
        "duration": 45,
        "start_time": "2023-06-11T11:07:35.198Z"
      },
      {
        "duration": 56,
        "start_time": "2023-06-11T11:07:35.244Z"
      },
      {
        "duration": 306,
        "start_time": "2023-06-11T11:07:35.301Z"
      },
      {
        "duration": 11,
        "start_time": "2023-06-11T11:07:35.608Z"
      },
      {
        "duration": 431,
        "start_time": "2023-06-11T11:07:35.621Z"
      },
      {
        "duration": 24,
        "start_time": "2023-06-11T11:07:36.059Z"
      },
      {
        "duration": 239,
        "start_time": "2023-06-11T11:07:36.085Z"
      },
      {
        "duration": 46,
        "start_time": "2023-06-11T11:07:36.325Z"
      },
      {
        "duration": 54,
        "start_time": "2023-06-11T11:07:36.376Z"
      },
      {
        "duration": 55,
        "start_time": "2023-06-11T11:07:36.432Z"
      },
      {
        "duration": 80,
        "start_time": "2023-06-11T11:07:36.489Z"
      },
      {
        "duration": 7,
        "start_time": "2023-06-11T11:07:36.571Z"
      },
      {
        "duration": 73,
        "start_time": "2023-06-11T11:07:36.580Z"
      },
      {
        "duration": 101,
        "start_time": "2023-06-11T11:07:36.659Z"
      },
      {
        "duration": 63,
        "start_time": "2023-06-11T11:07:36.763Z"
      },
      {
        "duration": 93,
        "start_time": "2023-06-11T11:07:36.828Z"
      },
      {
        "duration": 86,
        "start_time": "2023-06-11T11:07:36.924Z"
      },
      {
        "duration": 23,
        "start_time": "2023-06-11T11:07:37.012Z"
      },
      {
        "duration": 22,
        "start_time": "2023-06-11T11:07:37.053Z"
      },
      {
        "duration": 49,
        "start_time": "2023-06-11T11:07:37.077Z"
      },
      {
        "duration": 89,
        "start_time": "2023-06-11T11:07:37.128Z"
      },
      {
        "duration": 40,
        "start_time": "2023-06-11T11:07:37.218Z"
      },
      {
        "duration": 45,
        "start_time": "2023-06-11T11:07:37.260Z"
      },
      {
        "duration": 45,
        "start_time": "2023-06-11T11:07:37.307Z"
      },
      {
        "duration": 50,
        "start_time": "2023-06-11T11:07:37.354Z"
      },
      {
        "duration": 23,
        "start_time": "2023-06-11T11:07:37.406Z"
      },
      {
        "duration": 41,
        "start_time": "2023-06-11T11:07:37.431Z"
      },
      {
        "duration": 37,
        "start_time": "2023-06-11T11:07:37.474Z"
      },
      {
        "duration": 31,
        "start_time": "2023-06-11T11:07:37.513Z"
      },
      {
        "duration": 51,
        "start_time": "2023-06-11T11:07:37.546Z"
      },
      {
        "duration": 23,
        "start_time": "2023-06-11T11:07:58.215Z"
      },
      {
        "duration": 11,
        "start_time": "2023-06-11T11:08:00.082Z"
      },
      {
        "duration": 5,
        "start_time": "2023-06-11T11:08:01.693Z"
      },
      {
        "duration": 11,
        "start_time": "2023-06-11T11:08:03.021Z"
      },
      {
        "duration": 5,
        "start_time": "2023-06-11T11:08:04.390Z"
      },
      {
        "duration": 21,
        "start_time": "2023-06-11T11:08:08.268Z"
      },
      {
        "duration": 51,
        "start_time": "2023-06-11T11:09:07.947Z"
      },
      {
        "duration": 14,
        "start_time": "2023-06-11T11:09:10.974Z"
      },
      {
        "duration": 9,
        "start_time": "2023-06-11T11:09:12.563Z"
      },
      {
        "duration": 13,
        "start_time": "2023-06-11T11:09:38.972Z"
      },
      {
        "duration": 12,
        "start_time": "2023-06-11T11:09:50.278Z"
      },
      {
        "duration": 39,
        "start_time": "2023-06-11T11:10:21.892Z"
      },
      {
        "duration": 88,
        "start_time": "2023-06-11T11:10:23.981Z"
      },
      {
        "duration": 7,
        "start_time": "2023-06-11T11:10:26.273Z"
      },
      {
        "duration": 56,
        "start_time": "2023-06-11T11:10:28.475Z"
      },
      {
        "duration": 27,
        "start_time": "2023-06-11T11:10:33.316Z"
      },
      {
        "duration": 14,
        "start_time": "2023-06-11T11:10:34.615Z"
      },
      {
        "duration": 5,
        "start_time": "2023-06-11T11:10:35.815Z"
      },
      {
        "duration": 12,
        "start_time": "2023-06-11T11:10:37.171Z"
      },
      {
        "duration": 15,
        "start_time": "2023-06-11T11:10:38.775Z"
      },
      {
        "duration": 6,
        "start_time": "2023-06-11T11:10:42.463Z"
      },
      {
        "duration": 6,
        "start_time": "2023-06-11T11:10:44.115Z"
      },
      {
        "duration": 19,
        "start_time": "2023-06-11T11:16:36.740Z"
      },
      {
        "duration": 3,
        "start_time": "2023-06-11T11:16:38.772Z"
      },
      {
        "duration": 17,
        "start_time": "2023-06-11T11:16:40.572Z"
      },
      {
        "duration": 1395,
        "start_time": "2023-06-11T11:19:15.883Z"
      },
      {
        "duration": 297,
        "start_time": "2023-06-11T11:19:17.280Z"
      },
      {
        "duration": 12,
        "start_time": "2023-06-11T11:19:17.579Z"
      },
      {
        "duration": 31,
        "start_time": "2023-06-11T11:19:17.594Z"
      },
      {
        "duration": 44,
        "start_time": "2023-06-11T11:19:17.626Z"
      },
      {
        "duration": 50,
        "start_time": "2023-06-11T11:19:17.672Z"
      },
      {
        "duration": 49,
        "start_time": "2023-06-11T11:19:17.725Z"
      },
      {
        "duration": 28,
        "start_time": "2023-06-11T11:19:17.776Z"
      },
      {
        "duration": 15,
        "start_time": "2023-06-11T11:19:17.806Z"
      },
      {
        "duration": 66,
        "start_time": "2023-06-11T11:19:17.824Z"
      },
      {
        "duration": 11,
        "start_time": "2023-06-11T11:19:17.892Z"
      },
      {
        "duration": 71,
        "start_time": "2023-06-11T11:19:17.905Z"
      },
      {
        "duration": 9,
        "start_time": "2023-06-11T11:19:17.978Z"
      },
      {
        "duration": 22,
        "start_time": "2023-06-11T11:19:17.989Z"
      },
      {
        "duration": 57,
        "start_time": "2023-06-11T11:19:18.013Z"
      },
      {
        "duration": 82,
        "start_time": "2023-06-11T11:19:18.072Z"
      },
      {
        "duration": 91,
        "start_time": "2023-06-11T11:19:18.158Z"
      },
      {
        "duration": 7,
        "start_time": "2023-06-11T11:19:18.251Z"
      },
      {
        "duration": 30,
        "start_time": "2023-06-11T11:19:18.261Z"
      },
      {
        "duration": 17,
        "start_time": "2023-06-11T11:19:18.293Z"
      },
      {
        "duration": 18,
        "start_time": "2023-06-11T11:19:18.312Z"
      },
      {
        "duration": 274,
        "start_time": "2023-06-11T11:19:18.331Z"
      },
      {
        "duration": 12,
        "start_time": "2023-06-11T11:19:18.607Z"
      },
      {
        "duration": 430,
        "start_time": "2023-06-11T11:19:18.620Z"
      },
      {
        "duration": 27,
        "start_time": "2023-06-11T11:19:19.051Z"
      },
      {
        "duration": 249,
        "start_time": "2023-06-11T11:19:19.081Z"
      },
      {
        "duration": 31,
        "start_time": "2023-06-11T11:19:19.331Z"
      },
      {
        "duration": 60,
        "start_time": "2023-06-11T11:19:19.369Z"
      },
      {
        "duration": 65,
        "start_time": "2023-06-11T11:19:19.431Z"
      },
      {
        "duration": 88,
        "start_time": "2023-06-11T11:19:19.497Z"
      },
      {
        "duration": 6,
        "start_time": "2023-06-11T11:19:19.587Z"
      },
      {
        "duration": 89,
        "start_time": "2023-06-11T11:19:19.595Z"
      },
      {
        "duration": 118,
        "start_time": "2023-06-11T11:19:19.687Z"
      },
      {
        "duration": 76,
        "start_time": "2023-06-11T11:19:19.807Z"
      },
      {
        "duration": 92,
        "start_time": "2023-06-11T11:19:19.885Z"
      },
      {
        "duration": 87,
        "start_time": "2023-06-11T11:19:19.979Z"
      },
      {
        "duration": 28,
        "start_time": "2023-06-11T11:19:20.069Z"
      },
      {
        "duration": 180,
        "start_time": "2023-06-11T11:19:20.099Z"
      },
      {
        "duration": 40,
        "start_time": "2023-06-11T11:19:20.281Z"
      },
      {
        "duration": 14,
        "start_time": "2023-06-11T11:19:20.323Z"
      },
      {
        "duration": 45,
        "start_time": "2023-06-11T11:19:20.339Z"
      },
      {
        "duration": 21,
        "start_time": "2023-06-11T11:19:20.386Z"
      },
      {
        "duration": 12,
        "start_time": "2023-06-11T11:19:20.409Z"
      },
      {
        "duration": 19,
        "start_time": "2023-06-11T11:19:20.423Z"
      },
      {
        "duration": 64,
        "start_time": "2023-06-11T11:19:20.444Z"
      },
      {
        "duration": 19,
        "start_time": "2023-06-11T11:19:20.510Z"
      },
      {
        "duration": 32,
        "start_time": "2023-06-11T11:19:20.531Z"
      },
      {
        "duration": 77,
        "start_time": "2023-06-11T11:51:08.663Z"
      },
      {
        "duration": 113,
        "start_time": "2023-06-11T11:51:31.164Z"
      },
      {
        "duration": 96,
        "start_time": "2023-06-11T11:51:39.878Z"
      },
      {
        "duration": 78,
        "start_time": "2023-06-11T11:52:10.866Z"
      },
      {
        "duration": 78,
        "start_time": "2023-06-11T11:52:13.831Z"
      },
      {
        "duration": 1338,
        "start_time": "2023-06-12T05:30:49.564Z"
      },
      {
        "duration": 873,
        "start_time": "2023-06-12T05:30:50.903Z"
      },
      {
        "duration": 10,
        "start_time": "2023-06-12T05:30:51.778Z"
      },
      {
        "duration": 14,
        "start_time": "2023-06-12T05:30:51.790Z"
      },
      {
        "duration": 24,
        "start_time": "2023-06-12T05:30:51.806Z"
      },
      {
        "duration": 31,
        "start_time": "2023-06-12T05:30:51.831Z"
      },
      {
        "duration": 34,
        "start_time": "2023-06-12T05:30:51.864Z"
      },
      {
        "duration": 8,
        "start_time": "2023-06-12T05:30:51.899Z"
      },
      {
        "duration": 19,
        "start_time": "2023-06-12T05:30:51.916Z"
      },
      {
        "duration": 45,
        "start_time": "2023-06-12T05:30:51.938Z"
      },
      {
        "duration": 7,
        "start_time": "2023-06-12T05:30:51.985Z"
      },
      {
        "duration": 51,
        "start_time": "2023-06-12T05:30:51.993Z"
      },
      {
        "duration": 6,
        "start_time": "2023-06-12T05:30:52.046Z"
      },
      {
        "duration": 16,
        "start_time": "2023-06-12T05:30:52.054Z"
      },
      {
        "duration": 25,
        "start_time": "2023-06-12T05:30:52.072Z"
      },
      {
        "duration": 84,
        "start_time": "2023-06-12T05:30:52.098Z"
      },
      {
        "duration": 73,
        "start_time": "2023-06-12T05:30:52.183Z"
      },
      {
        "duration": 6,
        "start_time": "2023-06-12T05:30:52.258Z"
      },
      {
        "duration": 16,
        "start_time": "2023-06-12T05:30:52.265Z"
      },
      {
        "duration": 13,
        "start_time": "2023-06-12T05:30:52.282Z"
      },
      {
        "duration": 13,
        "start_time": "2023-06-12T05:30:52.297Z"
      },
      {
        "duration": 229,
        "start_time": "2023-06-12T05:30:52.312Z"
      },
      {
        "duration": 11,
        "start_time": "2023-06-12T05:30:52.542Z"
      },
      {
        "duration": 480,
        "start_time": "2023-06-12T05:30:52.555Z"
      },
      {
        "duration": 17,
        "start_time": "2023-06-12T05:30:53.037Z"
      },
      {
        "duration": 190,
        "start_time": "2023-06-12T05:30:53.056Z"
      },
      {
        "duration": 11,
        "start_time": "2023-06-12T05:30:53.248Z"
      },
      {
        "duration": 67,
        "start_time": "2023-06-12T05:30:53.262Z"
      },
      {
        "duration": 39,
        "start_time": "2023-06-12T05:30:53.330Z"
      },
      {
        "duration": 89,
        "start_time": "2023-06-12T05:30:53.371Z"
      },
      {
        "duration": 6,
        "start_time": "2023-06-12T05:30:53.461Z"
      },
      {
        "duration": 64,
        "start_time": "2023-06-12T05:30:53.468Z"
      },
      {
        "duration": 77,
        "start_time": "2023-06-12T05:30:53.534Z"
      },
      {
        "duration": 59,
        "start_time": "2023-06-12T05:30:53.613Z"
      },
      {
        "duration": 75,
        "start_time": "2023-06-12T05:30:53.673Z"
      },
      {
        "duration": 53,
        "start_time": "2023-06-12T05:30:53.750Z"
      },
      {
        "duration": 37,
        "start_time": "2023-06-12T05:30:53.804Z"
      },
      {
        "duration": 16,
        "start_time": "2023-06-12T05:30:53.842Z"
      },
      {
        "duration": 25,
        "start_time": "2023-06-12T05:30:53.860Z"
      },
      {
        "duration": 8,
        "start_time": "2023-06-12T05:30:53.887Z"
      },
      {
        "duration": 5,
        "start_time": "2023-06-12T05:30:53.896Z"
      },
      {
        "duration": 27,
        "start_time": "2023-06-12T05:30:53.902Z"
      },
      {
        "duration": 6,
        "start_time": "2023-06-12T05:30:53.931Z"
      },
      {
        "duration": 6,
        "start_time": "2023-06-12T05:30:53.938Z"
      },
      {
        "duration": 16,
        "start_time": "2023-06-12T05:30:53.945Z"
      },
      {
        "duration": 11,
        "start_time": "2023-06-12T05:30:53.962Z"
      },
      {
        "duration": 15,
        "start_time": "2023-06-12T05:30:53.974Z"
      },
      {
        "duration": 50,
        "start_time": "2023-06-12T08:02:14.293Z"
      },
      {
        "duration": 1346,
        "start_time": "2023-06-12T08:02:19.596Z"
      },
      {
        "duration": 611,
        "start_time": "2023-06-12T08:02:20.944Z"
      },
      {
        "duration": 11,
        "start_time": "2023-06-12T08:02:21.557Z"
      },
      {
        "duration": 13,
        "start_time": "2023-06-12T08:02:21.571Z"
      },
      {
        "duration": 37,
        "start_time": "2023-06-12T08:02:21.587Z"
      },
      {
        "duration": 50,
        "start_time": "2023-06-12T08:02:21.626Z"
      },
      {
        "duration": 43,
        "start_time": "2023-06-12T08:02:21.678Z"
      },
      {
        "duration": 8,
        "start_time": "2023-06-12T08:02:21.723Z"
      },
      {
        "duration": 21,
        "start_time": "2023-06-12T08:02:21.733Z"
      },
      {
        "duration": 39,
        "start_time": "2023-06-12T08:02:21.757Z"
      },
      {
        "duration": 12,
        "start_time": "2023-06-12T08:02:21.798Z"
      },
      {
        "duration": 57,
        "start_time": "2023-06-12T08:02:21.812Z"
      },
      {
        "duration": 6,
        "start_time": "2023-06-12T08:02:21.871Z"
      },
      {
        "duration": 19,
        "start_time": "2023-06-12T08:02:21.879Z"
      },
      {
        "duration": 32,
        "start_time": "2023-06-12T08:02:21.900Z"
      },
      {
        "duration": 60,
        "start_time": "2023-06-12T08:02:21.933Z"
      },
      {
        "duration": 85,
        "start_time": "2023-06-12T08:02:21.995Z"
      },
      {
        "duration": 6,
        "start_time": "2023-06-12T08:02:22.082Z"
      },
      {
        "duration": 17,
        "start_time": "2023-06-12T08:02:22.090Z"
      },
      {
        "duration": 33,
        "start_time": "2023-06-12T08:02:22.108Z"
      },
      {
        "duration": 32,
        "start_time": "2023-06-12T08:02:22.143Z"
      },
      {
        "duration": 221,
        "start_time": "2023-06-12T08:02:22.176Z"
      },
      {
        "duration": 12,
        "start_time": "2023-06-12T08:02:22.398Z"
      },
      {
        "duration": 447,
        "start_time": "2023-06-12T08:02:22.411Z"
      },
      {
        "duration": 20,
        "start_time": "2023-06-12T08:02:22.859Z"
      },
      {
        "duration": 220,
        "start_time": "2023-06-12T08:02:22.882Z"
      },
      {
        "duration": 16,
        "start_time": "2023-06-12T08:02:23.104Z"
      },
      {
        "duration": 70,
        "start_time": "2023-06-12T08:02:23.123Z"
      },
      {
        "duration": 51,
        "start_time": "2023-06-12T08:02:23.194Z"
      },
      {
        "duration": 77,
        "start_time": "2023-06-12T08:02:23.246Z"
      },
      {
        "duration": 21,
        "start_time": "2023-06-12T08:02:23.325Z"
      },
      {
        "duration": 66,
        "start_time": "2023-06-12T08:02:23.347Z"
      },
      {
        "duration": 90,
        "start_time": "2023-06-12T08:02:23.414Z"
      },
      {
        "duration": 59,
        "start_time": "2023-06-12T08:02:23.506Z"
      },
      {
        "duration": 82,
        "start_time": "2023-06-12T08:02:23.567Z"
      },
      {
        "duration": 61,
        "start_time": "2023-06-12T08:02:23.651Z"
      },
      {
        "duration": 41,
        "start_time": "2023-06-12T08:02:23.714Z"
      },
      {
        "duration": 10,
        "start_time": "2023-06-12T08:02:23.757Z"
      },
      {
        "duration": 33,
        "start_time": "2023-06-12T08:02:23.769Z"
      },
      {
        "duration": 10,
        "start_time": "2023-06-12T08:02:23.804Z"
      },
      {
        "duration": 36,
        "start_time": "2023-06-12T08:02:23.816Z"
      },
      {
        "duration": 36,
        "start_time": "2023-06-12T08:02:23.854Z"
      },
      {
        "duration": 16,
        "start_time": "2023-06-12T08:02:23.892Z"
      },
      {
        "duration": 10,
        "start_time": "2023-06-12T08:02:23.910Z"
      },
      {
        "duration": 45,
        "start_time": "2023-06-12T08:02:23.921Z"
      },
      {
        "duration": 24,
        "start_time": "2023-06-12T08:02:23.968Z"
      },
      {
        "duration": 56,
        "start_time": "2023-06-12T08:02:23.993Z"
      },
      {
        "duration": 16,
        "start_time": "2023-06-12T08:03:39.352Z"
      },
      {
        "duration": 17,
        "start_time": "2023-06-12T08:04:43.350Z"
      },
      {
        "duration": 17,
        "start_time": "2023-06-12T08:05:25.155Z"
      },
      {
        "duration": 17,
        "start_time": "2023-06-12T08:06:45.369Z"
      },
      {
        "duration": 17,
        "start_time": "2023-06-12T08:09:56.834Z"
      },
      {
        "duration": 1280,
        "start_time": "2023-06-12T09:17:38.900Z"
      },
      {
        "duration": 254,
        "start_time": "2023-06-12T09:17:40.182Z"
      },
      {
        "duration": 10,
        "start_time": "2023-06-12T09:17:40.438Z"
      },
      {
        "duration": 16,
        "start_time": "2023-06-12T09:17:40.451Z"
      },
      {
        "duration": 12,
        "start_time": "2023-06-12T09:17:40.469Z"
      },
      {
        "duration": 33,
        "start_time": "2023-06-12T09:17:40.483Z"
      },
      {
        "duration": 46,
        "start_time": "2023-06-12T09:17:40.517Z"
      },
      {
        "duration": 8,
        "start_time": "2023-06-12T09:17:40.565Z"
      },
      {
        "duration": 13,
        "start_time": "2023-06-12T09:17:40.574Z"
      },
      {
        "duration": 52,
        "start_time": "2023-06-12T09:17:40.590Z"
      },
      {
        "duration": 7,
        "start_time": "2023-06-12T09:17:40.644Z"
      },
      {
        "duration": 65,
        "start_time": "2023-06-12T09:17:40.653Z"
      },
      {
        "duration": 6,
        "start_time": "2023-06-12T09:17:40.720Z"
      },
      {
        "duration": 29,
        "start_time": "2023-06-12T09:17:40.727Z"
      },
      {
        "duration": 44,
        "start_time": "2023-06-12T09:17:40.758Z"
      },
      {
        "duration": 75,
        "start_time": "2023-06-12T09:17:40.803Z"
      },
      {
        "duration": 72,
        "start_time": "2023-06-12T09:17:40.880Z"
      },
      {
        "duration": 7,
        "start_time": "2023-06-12T09:17:40.954Z"
      },
      {
        "duration": 10,
        "start_time": "2023-06-12T09:17:40.962Z"
      },
      {
        "duration": 20,
        "start_time": "2023-06-12T09:17:40.973Z"
      },
      {
        "duration": 19,
        "start_time": "2023-06-12T09:17:40.995Z"
      },
      {
        "duration": 249,
        "start_time": "2023-06-12T09:17:41.016Z"
      },
      {
        "duration": 12,
        "start_time": "2023-06-12T09:17:41.266Z"
      },
      {
        "duration": 451,
        "start_time": "2023-06-12T09:17:41.279Z"
      },
      {
        "duration": 19,
        "start_time": "2023-06-12T09:17:41.732Z"
      },
      {
        "duration": 211,
        "start_time": "2023-06-12T09:17:41.753Z"
      },
      {
        "duration": 14,
        "start_time": "2023-06-12T09:17:41.966Z"
      },
      {
        "duration": 78,
        "start_time": "2023-06-12T09:17:41.984Z"
      },
      {
        "duration": 41,
        "start_time": "2023-06-12T09:17:42.064Z"
      },
      {
        "duration": 94,
        "start_time": "2023-06-12T09:17:42.108Z"
      },
      {
        "duration": 7,
        "start_time": "2023-06-12T09:17:42.203Z"
      },
      {
        "duration": 74,
        "start_time": "2023-06-12T09:17:42.212Z"
      },
      {
        "duration": 88,
        "start_time": "2023-06-12T09:17:42.288Z"
      },
      {
        "duration": 64,
        "start_time": "2023-06-12T09:17:42.378Z"
      },
      {
        "duration": 66,
        "start_time": "2023-06-12T09:17:42.444Z"
      },
      {
        "duration": 92,
        "start_time": "2023-06-12T09:17:42.511Z"
      },
      {
        "duration": 36,
        "start_time": "2023-06-12T09:17:42.605Z"
      },
      {
        "duration": 13,
        "start_time": "2023-06-12T09:17:42.643Z"
      },
      {
        "duration": 25,
        "start_time": "2023-06-12T09:17:42.657Z"
      },
      {
        "duration": 10,
        "start_time": "2023-06-12T09:17:42.683Z"
      },
      {
        "duration": 3,
        "start_time": "2023-06-12T09:17:42.697Z"
      },
      {
        "duration": 16,
        "start_time": "2023-06-12T09:17:42.702Z"
      },
      {
        "duration": 22,
        "start_time": "2023-06-12T09:17:42.720Z"
      },
      {
        "duration": 6,
        "start_time": "2023-06-12T09:17:42.743Z"
      },
      {
        "duration": 16,
        "start_time": "2023-06-12T09:17:42.750Z"
      },
      {
        "duration": 10,
        "start_time": "2023-06-12T09:17:42.767Z"
      },
      {
        "duration": 17,
        "start_time": "2023-06-12T09:17:42.778Z"
      },
      {
        "duration": 46,
        "start_time": "2023-06-12T09:17:42.796Z"
      },
      {
        "duration": 16,
        "start_time": "2023-06-12T09:17:42.844Z"
      },
      {
        "duration": 15,
        "start_time": "2023-06-12T09:17:42.861Z"
      },
      {
        "duration": 14,
        "start_time": "2023-06-12T09:17:42.877Z"
      },
      {
        "duration": 17,
        "start_time": "2023-06-12T09:17:42.892Z"
      },
      {
        "duration": 23,
        "start_time": "2023-06-12T09:18:46.703Z"
      },
      {
        "duration": 24,
        "start_time": "2023-06-12T09:18:57.396Z"
      },
      {
        "duration": 29,
        "start_time": "2023-06-12T09:19:08.230Z"
      },
      {
        "duration": 79,
        "start_time": "2023-06-12T09:20:07.565Z"
      },
      {
        "duration": 15,
        "start_time": "2023-06-12T09:36:16.413Z"
      },
      {
        "duration": 15,
        "start_time": "2023-06-12T09:36:55.393Z"
      },
      {
        "duration": 15,
        "start_time": "2023-06-12T09:37:15.022Z"
      },
      {
        "duration": 193,
        "start_time": "2023-06-12T09:37:17.922Z"
      },
      {
        "duration": 26,
        "start_time": "2023-06-12T09:38:46.331Z"
      },
      {
        "duration": 17,
        "start_time": "2023-06-12T09:38:55.880Z"
      },
      {
        "duration": 19,
        "start_time": "2023-06-12T09:39:41.905Z"
      },
      {
        "duration": 71,
        "start_time": "2023-06-12T09:39:43.235Z"
      },
      {
        "duration": 210,
        "start_time": "2023-06-12T09:41:10.097Z"
      },
      {
        "duration": 80,
        "start_time": "2023-06-12T09:41:14.712Z"
      },
      {
        "duration": 22,
        "start_time": "2023-06-12T09:41:21.769Z"
      },
      {
        "duration": 14,
        "start_time": "2023-06-12T09:41:25.765Z"
      },
      {
        "duration": 49,
        "start_time": "2023-06-12T09:41:26.908Z"
      },
      {
        "duration": 83,
        "start_time": "2023-06-12T09:41:51.457Z"
      },
      {
        "duration": 54,
        "start_time": "2023-06-12T09:41:55.874Z"
      },
      {
        "duration": 15,
        "start_time": "2023-06-12T09:42:09.479Z"
      },
      {
        "duration": 56,
        "start_time": "2023-06-12T09:42:11.055Z"
      },
      {
        "duration": 54,
        "start_time": "2023-06-12T09:42:55.078Z"
      },
      {
        "duration": 74,
        "start_time": "2023-06-12T09:43:20.931Z"
      },
      {
        "duration": 49,
        "start_time": "2023-06-12T09:51:27.399Z"
      },
      {
        "duration": 1243,
        "start_time": "2023-06-12T09:52:18.227Z"
      },
      {
        "duration": 249,
        "start_time": "2023-06-12T09:52:19.472Z"
      },
      {
        "duration": 12,
        "start_time": "2023-06-12T09:52:19.722Z"
      },
      {
        "duration": 19,
        "start_time": "2023-06-12T09:52:19.736Z"
      },
      {
        "duration": 17,
        "start_time": "2023-06-12T09:52:19.756Z"
      },
      {
        "duration": 32,
        "start_time": "2023-06-12T09:52:19.775Z"
      },
      {
        "duration": 35,
        "start_time": "2023-06-12T09:52:19.808Z"
      },
      {
        "duration": 8,
        "start_time": "2023-06-12T09:52:19.845Z"
      },
      {
        "duration": 12,
        "start_time": "2023-06-12T09:52:19.854Z"
      },
      {
        "duration": 32,
        "start_time": "2023-06-12T09:52:19.869Z"
      },
      {
        "duration": 7,
        "start_time": "2023-06-12T09:52:19.903Z"
      },
      {
        "duration": 80,
        "start_time": "2023-06-12T09:52:19.911Z"
      },
      {
        "duration": 7,
        "start_time": "2023-06-12T09:52:19.993Z"
      },
      {
        "duration": 24,
        "start_time": "2023-06-12T09:52:20.002Z"
      },
      {
        "duration": 50,
        "start_time": "2023-06-12T09:52:20.028Z"
      },
      {
        "duration": 146,
        "start_time": "2023-06-12T09:52:20.080Z"
      },
      {
        "duration": 80,
        "start_time": "2023-06-12T09:52:20.228Z"
      },
      {
        "duration": 7,
        "start_time": "2023-06-12T09:52:20.310Z"
      },
      {
        "duration": 39,
        "start_time": "2023-06-12T09:52:20.319Z"
      },
      {
        "duration": 33,
        "start_time": "2023-06-12T09:52:20.360Z"
      },
      {
        "duration": 38,
        "start_time": "2023-06-12T09:52:20.395Z"
      },
      {
        "duration": 225,
        "start_time": "2023-06-12T09:52:20.435Z"
      },
      {
        "duration": 10,
        "start_time": "2023-06-12T09:52:20.662Z"
      },
      {
        "duration": 367,
        "start_time": "2023-06-12T09:52:20.674Z"
      },
      {
        "duration": 20,
        "start_time": "2023-06-12T09:52:21.043Z"
      },
      {
        "duration": 224,
        "start_time": "2023-06-12T09:52:21.064Z"
      },
      {
        "duration": 14,
        "start_time": "2023-06-12T09:52:21.290Z"
      },
      {
        "duration": 72,
        "start_time": "2023-06-12T09:52:21.308Z"
      },
      {
        "duration": 40,
        "start_time": "2023-06-12T09:52:21.382Z"
      },
      {
        "duration": 87,
        "start_time": "2023-06-12T09:52:21.424Z"
      },
      {
        "duration": 6,
        "start_time": "2023-06-12T09:52:21.513Z"
      },
      {
        "duration": 55,
        "start_time": "2023-06-12T09:52:21.541Z"
      },
      {
        "duration": 93,
        "start_time": "2023-06-12T09:52:21.598Z"
      },
      {
        "duration": 62,
        "start_time": "2023-06-12T09:52:21.693Z"
      },
      {
        "duration": 20,
        "start_time": "2023-06-12T09:52:21.756Z"
      },
      {
        "duration": 67,
        "start_time": "2023-06-12T09:52:21.778Z"
      },
      {
        "duration": 23,
        "start_time": "2023-06-12T09:52:21.846Z"
      },
      {
        "duration": 31,
        "start_time": "2023-06-12T09:52:21.870Z"
      },
      {
        "duration": 29,
        "start_time": "2023-06-12T09:52:21.903Z"
      },
      {
        "duration": 15,
        "start_time": "2023-06-12T09:52:21.934Z"
      },
      {
        "duration": 9,
        "start_time": "2023-06-12T09:52:21.951Z"
      },
      {
        "duration": 38,
        "start_time": "2023-06-12T09:52:21.962Z"
      },
      {
        "duration": 10,
        "start_time": "2023-06-12T09:52:22.001Z"
      },
      {
        "duration": 28,
        "start_time": "2023-06-12T09:52:22.013Z"
      },
      {
        "duration": 24,
        "start_time": "2023-06-12T09:52:22.043Z"
      },
      {
        "duration": 15,
        "start_time": "2023-06-12T09:52:22.069Z"
      },
      {
        "duration": 20,
        "start_time": "2023-06-12T09:52:22.085Z"
      },
      {
        "duration": 36,
        "start_time": "2023-06-12T09:52:22.107Z"
      },
      {
        "duration": 51,
        "start_time": "2023-06-12T09:52:22.145Z"
      },
      {
        "duration": 18,
        "start_time": "2023-06-12T09:52:22.198Z"
      },
      {
        "duration": 20,
        "start_time": "2023-06-12T09:52:22.218Z"
      },
      {
        "duration": 16,
        "start_time": "2023-06-12T09:52:22.240Z"
      },
      {
        "duration": 1240,
        "start_time": "2023-06-12T10:33:53.602Z"
      },
      {
        "duration": 467,
        "start_time": "2023-06-12T10:33:54.844Z"
      },
      {
        "duration": 37,
        "start_time": "2023-06-12T10:33:55.312Z"
      },
      {
        "duration": 29,
        "start_time": "2023-06-12T10:33:55.351Z"
      },
      {
        "duration": 30,
        "start_time": "2023-06-12T10:33:55.383Z"
      },
      {
        "duration": 94,
        "start_time": "2023-06-12T10:33:55.427Z"
      },
      {
        "duration": 76,
        "start_time": "2023-06-12T10:33:55.530Z"
      },
      {
        "duration": 32,
        "start_time": "2023-06-12T10:33:55.609Z"
      },
      {
        "duration": 36,
        "start_time": "2023-06-12T10:33:55.643Z"
      },
      {
        "duration": 52,
        "start_time": "2023-06-12T10:33:55.681Z"
      },
      {
        "duration": 63,
        "start_time": "2023-06-12T10:33:55.745Z"
      },
      {
        "duration": 94,
        "start_time": "2023-06-12T10:33:55.810Z"
      },
      {
        "duration": 8,
        "start_time": "2023-06-12T10:33:55.906Z"
      },
      {
        "duration": 45,
        "start_time": "2023-06-12T10:33:55.917Z"
      },
      {
        "duration": 25,
        "start_time": "2023-06-12T10:33:55.964Z"
      },
      {
        "duration": 77,
        "start_time": "2023-06-12T10:33:55.990Z"
      },
      {
        "duration": 73,
        "start_time": "2023-06-12T10:33:56.069Z"
      },
      {
        "duration": 5,
        "start_time": "2023-06-12T10:33:56.143Z"
      },
      {
        "duration": 6,
        "start_time": "2023-06-12T10:33:56.149Z"
      },
      {
        "duration": 14,
        "start_time": "2023-06-12T10:33:56.156Z"
      },
      {
        "duration": 16,
        "start_time": "2023-06-12T10:33:56.172Z"
      },
      {
        "duration": 257,
        "start_time": "2023-06-12T10:33:56.190Z"
      },
      {
        "duration": 10,
        "start_time": "2023-06-12T10:33:56.448Z"
      },
      {
        "duration": 454,
        "start_time": "2023-06-12T10:33:56.460Z"
      },
      {
        "duration": 42,
        "start_time": "2023-06-12T10:33:56.915Z"
      },
      {
        "duration": 217,
        "start_time": "2023-06-12T10:33:56.958Z"
      },
      {
        "duration": 12,
        "start_time": "2023-06-12T10:33:57.176Z"
      },
      {
        "duration": 70,
        "start_time": "2023-06-12T10:33:57.190Z"
      },
      {
        "duration": 59,
        "start_time": "2023-06-12T10:33:57.262Z"
      },
      {
        "duration": 81,
        "start_time": "2023-06-12T10:33:57.322Z"
      },
      {
        "duration": 7,
        "start_time": "2023-06-12T10:33:57.405Z"
      },
      {
        "duration": 82,
        "start_time": "2023-06-12T10:33:57.421Z"
      },
      {
        "duration": 94,
        "start_time": "2023-06-12T10:33:57.504Z"
      },
      {
        "duration": 64,
        "start_time": "2023-06-12T10:33:57.600Z"
      },
      {
        "duration": 29,
        "start_time": "2023-06-12T10:33:57.666Z"
      },
      {
        "duration": 67,
        "start_time": "2023-06-12T10:33:57.697Z"
      },
      {
        "duration": 20,
        "start_time": "2023-06-12T10:33:57.765Z"
      },
      {
        "duration": 9,
        "start_time": "2023-06-12T10:33:57.787Z"
      },
      {
        "duration": 47,
        "start_time": "2023-06-12T10:33:57.798Z"
      },
      {
        "duration": 56,
        "start_time": "2023-06-12T10:33:57.846Z"
      },
      {
        "duration": 48,
        "start_time": "2023-06-12T10:33:57.906Z"
      },
      {
        "duration": 34,
        "start_time": "2023-06-12T10:33:57.956Z"
      },
      {
        "duration": 12,
        "start_time": "2023-06-12T10:33:57.992Z"
      },
      {
        "duration": 76,
        "start_time": "2023-06-12T10:33:58.006Z"
      },
      {
        "duration": 76,
        "start_time": "2023-06-12T10:33:58.084Z"
      },
      {
        "duration": 31,
        "start_time": "2023-06-12T10:33:58.163Z"
      },
      {
        "duration": 32,
        "start_time": "2023-06-12T10:33:58.196Z"
      },
      {
        "duration": 25,
        "start_time": "2023-06-12T10:33:58.238Z"
      },
      {
        "duration": 48,
        "start_time": "2023-06-12T10:33:58.265Z"
      },
      {
        "duration": 49,
        "start_time": "2023-06-12T10:33:58.315Z"
      },
      {
        "duration": 20,
        "start_time": "2023-06-12T10:33:58.367Z"
      },
      {
        "duration": 47,
        "start_time": "2023-06-12T10:33:58.390Z"
      },
      {
        "duration": 209,
        "start_time": "2023-06-12T10:45:57.233Z"
      },
      {
        "duration": 23,
        "start_time": "2023-06-12T10:47:29.742Z"
      },
      {
        "duration": 78,
        "start_time": "2023-06-12T10:55:53.108Z"
      },
      {
        "duration": 122,
        "start_time": "2023-06-12T10:56:27.454Z"
      },
      {
        "duration": 74,
        "start_time": "2023-06-12T10:58:12.519Z"
      }
    ],
    "kernelspec": {
      "display_name": "Python 3 (ipykernel)",
      "language": "python",
      "name": "python3"
    },
    "language_info": {
      "codemirror_mode": {
        "name": "ipython",
        "version": 3
      },
      "file_extension": ".py",
      "mimetype": "text/x-python",
      "name": "python",
      "nbconvert_exporter": "python",
      "pygments_lexer": "ipython3",
      "version": "3.9.5"
    },
    "toc": {
      "base_numbering": 1,
      "nav_menu": {},
      "number_sections": true,
      "sideBar": true,
      "skip_h1_title": true,
      "title_cell": "Table of Contents",
      "title_sidebar": "Contents",
      "toc_cell": false,
      "toc_position": {},
      "toc_section_display": true,
      "toc_window_display": false
    },
    "colab": {
      "provenance": []
    }
  },
  "nbformat": 4,
  "nbformat_minor": 0
}