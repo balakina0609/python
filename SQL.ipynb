{
  "cells": [
    {
      "cell_type": "markdown",
      "metadata": {
        "id": "ScFkbZxIP5wo"
      },
      "source": [
        "# SQL\n",
        "\n",
        "Коронавирус застал мир врасплох, изменив привычный порядок вещей. В\n",
        "свободное время жители городов больше не выходят на улицу, не посещают кафе\n",
        "и торговые центры. Зато стало больше времени для книг. Это заметили\n",
        "стартаперы — и бросились создавать приложения для тех, кто любит читать.\n",
        "Ваша компания решила быть на волне и купила крупный сервис для чтения книг\n",
        "по подписке. Ваша первая задача как аналитика — проанализировать базу\n",
        "данных.\n",
        "\n",
        "В ней — информация о книгах, издательствах, авторах, а также пользовательские\n",
        "обзоры книг. Эти данные помогут сформулировать ценностное предложение для\n",
        "нового продукта."
      ]
    },
    {
      "cell_type": "markdown",
      "metadata": {
        "id": "hrUyWmFXP5wo"
      },
      "source": [
        "## Описание таблиц\n",
        "\n",
        "\n",
        "Таблица `books` — содержит данные о книгах:\n",
        "- book_id — идентификатор книги;\n",
        "- author_id — идентификатор автора;\n",
        "- title — название книги;\n",
        "- num_pages — количество страниц;\n",
        "- publication_date — дата публикации книги;\n",
        "- publisher_id — идентификатор издателя.\n",
        "  \n",
        "Таблица `authors` — содержит данные об авторах:  \n",
        "- author_id — идентификатор автора;  \n",
        "- author — имя автора.  \n",
        "  \n",
        "Таблица `publishers` — содержит данные об издательствах:  \n",
        "- publisher_id — идентификатор издательства;  \n",
        "- publisher — название издательства;  \n",
        "  \n",
        "Таблица `ratings` — содержит данные о пользовательских оценках книг:  \n",
        "- rating_id — идентификатор оценки;  \n",
        "- book_id — идентификатор книги;  \n",
        "- username — имя пользователя, оставившего оценку;  \n",
        "- rating — оценка книги.  \n",
        "  \n",
        "Таблица `reviews` — содержит данные о пользовательских обзорах на книги:   \n",
        "- review_id — идентификатор обзора;  \n",
        "- book_id — идентификатор книги;  \n",
        "- username — имя пользователя, написавшего обзор;  \n",
        "- text — текст обзора.  \n"
      ]
    },
    {
      "cell_type": "markdown",
      "metadata": {
        "id": "h-5oY8QZP5wp"
      },
      "source": [
        "## Откроем БД"
      ]
    },
    {
      "cell_type": "code",
      "execution_count": null,
      "metadata": {
        "id": "WnCMI5MRP5wq"
      },
      "outputs": [],
      "source": [
        "# импортируем библиотеки\n",
        "import pandas as pd\n",
        "from sqlalchemy import text, create_engine\n",
        "# устанавливаем параметры\n",
        "db_config = {'user': 'praktikum_student', # имя пользователя\n",
        "'pwd': 'Sdf4$2;d-d30pp', # пароль\n",
        "'host': 'rc1b-wcoijxj3yxfsf3fs.mdb.yandexcloud.net',\n",
        "'port': 6432, # порт подключения\n",
        "'db': 'data-analyst-final-project-db'} # название базы данных\n",
        "connection_string = 'postgresql://{user}:{pwd}@{host}:{port}/{db}'.format(**db_config)\n",
        "# сохраняем коннектор\n",
        "engine = create_engine(connection_string, connect_args={'sslmode':'require'})\n",
        "# чтобы выполнить SQL-запрос, используем Pandas\n",
        "\n",
        "\n",
        "def sql_query(query):\n",
        "    result = pd.io.sql.read_sql(query, con=engine)\n",
        "    return result\n"
      ]
    },
    {
      "cell_type": "code",
      "execution_count": null,
      "metadata": {
        "id": "_7376uFMP5wr",
        "outputId": "4abe6f61-892c-49df-b03c-bfce29a6af1f"
      },
      "outputs": [
        {
          "data": {
            "text/html": [
              "<div>\n",
              "<style scoped>\n",
              "    .dataframe tbody tr th:only-of-type {\n",
              "        vertical-align: middle;\n",
              "    }\n",
              "\n",
              "    .dataframe tbody tr th {\n",
              "        vertical-align: top;\n",
              "    }\n",
              "\n",
              "    .dataframe thead th {\n",
              "        text-align: right;\n",
              "    }\n",
              "</style>\n",
              "<table border=\"1\" class=\"dataframe\">\n",
              "  <thead>\n",
              "    <tr style=\"text-align: right;\">\n",
              "      <th></th>\n",
              "      <th>schemaname</th>\n",
              "      <th>tablename</th>\n",
              "      <th>tableowner</th>\n",
              "      <th>tablespace</th>\n",
              "      <th>hasindexes</th>\n",
              "      <th>hasrules</th>\n",
              "      <th>hastriggers</th>\n",
              "      <th>rowsecurity</th>\n",
              "    </tr>\n",
              "  </thead>\n",
              "  <tbody>\n",
              "    <tr>\n",
              "      <th>0</th>\n",
              "      <td>public</td>\n",
              "      <td>orders</td>\n",
              "      <td>praktikum_admin</td>\n",
              "      <td>None</td>\n",
              "      <td>True</td>\n",
              "      <td>False</td>\n",
              "      <td>False</td>\n",
              "      <td>False</td>\n",
              "    </tr>\n",
              "    <tr>\n",
              "      <th>1</th>\n",
              "      <td>public</td>\n",
              "      <td>visits</td>\n",
              "      <td>praktikum_admin</td>\n",
              "      <td>None</td>\n",
              "      <td>True</td>\n",
              "      <td>False</td>\n",
              "      <td>False</td>\n",
              "      <td>False</td>\n",
              "    </tr>\n",
              "    <tr>\n",
              "      <th>2</th>\n",
              "      <td>public</td>\n",
              "      <td>advertisment_costs</td>\n",
              "      <td>praktikum_admin</td>\n",
              "      <td>None</td>\n",
              "      <td>True</td>\n",
              "      <td>False</td>\n",
              "      <td>False</td>\n",
              "      <td>False</td>\n",
              "    </tr>\n",
              "    <tr>\n",
              "      <th>3</th>\n",
              "      <td>public</td>\n",
              "      <td>authors</td>\n",
              "      <td>praktikum_admin</td>\n",
              "      <td>None</td>\n",
              "      <td>True</td>\n",
              "      <td>False</td>\n",
              "      <td>True</td>\n",
              "      <td>False</td>\n",
              "    </tr>\n",
              "    <tr>\n",
              "      <th>4</th>\n",
              "      <td>public</td>\n",
              "      <td>second</td>\n",
              "      <td>praktikum_student</td>\n",
              "      <td>None</td>\n",
              "      <td>False</td>\n",
              "      <td>False</td>\n",
              "      <td>False</td>\n",
              "      <td>False</td>\n",
              "    </tr>\n",
              "    <tr>\n",
              "      <th>5</th>\n",
              "      <td>public</td>\n",
              "      <td>second_b</td>\n",
              "      <td>praktikum_student</td>\n",
              "      <td>None</td>\n",
              "      <td>False</td>\n",
              "      <td>False</td>\n",
              "      <td>False</td>\n",
              "      <td>False</td>\n",
              "    </tr>\n",
              "    <tr>\n",
              "      <th>6</th>\n",
              "      <td>public</td>\n",
              "      <td>publishers</td>\n",
              "      <td>praktikum_admin</td>\n",
              "      <td>None</td>\n",
              "      <td>True</td>\n",
              "      <td>False</td>\n",
              "      <td>True</td>\n",
              "      <td>False</td>\n",
              "    </tr>\n",
              "    <tr>\n",
              "      <th>7</th>\n",
              "      <td>public</td>\n",
              "      <td>author</td>\n",
              "      <td>praktikum_student</td>\n",
              "      <td>None</td>\n",
              "      <td>True</td>\n",
              "      <td>False</td>\n",
              "      <td>False</td>\n",
              "      <td>False</td>\n",
              "    </tr>\n",
              "    <tr>\n",
              "      <th>8</th>\n",
              "      <td>public</td>\n",
              "      <td>reviews</td>\n",
              "      <td>praktikum_admin</td>\n",
              "      <td>None</td>\n",
              "      <td>True</td>\n",
              "      <td>False</td>\n",
              "      <td>True</td>\n",
              "      <td>False</td>\n",
              "    </tr>\n",
              "    <tr>\n",
              "      <th>9</th>\n",
              "      <td>public</td>\n",
              "      <td>ratings</td>\n",
              "      <td>praktikum_admin</td>\n",
              "      <td>None</td>\n",
              "      <td>True</td>\n",
              "      <td>False</td>\n",
              "      <td>True</td>\n",
              "      <td>False</td>\n",
              "    </tr>\n",
              "    <tr>\n",
              "      <th>10</th>\n",
              "      <td>public</td>\n",
              "      <td>books</td>\n",
              "      <td>praktikum_admin</td>\n",
              "      <td>None</td>\n",
              "      <td>True</td>\n",
              "      <td>False</td>\n",
              "      <td>True</td>\n",
              "      <td>False</td>\n",
              "    </tr>\n",
              "  </tbody>\n",
              "</table>\n",
              "</div>"
            ],
            "text/plain": [
              "   schemaname           tablename         tableowner tablespace  hasindexes  \\\n",
              "0      public              orders    praktikum_admin       None        True   \n",
              "1      public              visits    praktikum_admin       None        True   \n",
              "2      public  advertisment_costs    praktikum_admin       None        True   \n",
              "3      public             authors    praktikum_admin       None        True   \n",
              "4      public              second  praktikum_student       None       False   \n",
              "5      public            second_b  praktikum_student       None       False   \n",
              "6      public          publishers    praktikum_admin       None        True   \n",
              "7      public              author  praktikum_student       None        True   \n",
              "8      public             reviews    praktikum_admin       None        True   \n",
              "9      public             ratings    praktikum_admin       None        True   \n",
              "10     public               books    praktikum_admin       None        True   \n",
              "\n",
              "    hasrules  hastriggers  rowsecurity  \n",
              "0      False        False        False  \n",
              "1      False        False        False  \n",
              "2      False        False        False  \n",
              "3      False         True        False  \n",
              "4      False        False        False  \n",
              "5      False        False        False  \n",
              "6      False         True        False  \n",
              "7      False        False        False  \n",
              "8      False         True        False  \n",
              "9      False         True        False  \n",
              "10     False         True        False  "
            ]
          },
          "execution_count": 2,
          "metadata": {},
          "output_type": "execute_result"
        }
      ],
      "source": [
        "query = '''\n",
        "\n",
        "SELECT *\n",
        "FROM pg_catalog.pg_tables\n",
        "WHERE schemaname != 'pg_catalog' AND\n",
        "      schemaname != 'information_schema';\n",
        "\n",
        "'''\n",
        "\n",
        "sql_query(query)"
      ]
    },
    {
      "cell_type": "code",
      "execution_count": null,
      "metadata": {
        "id": "8xfTbm_nP5ws",
        "outputId": "5c01b514-2f13-422d-c704-2decba1c5256"
      },
      "outputs": [
        {
          "name": "stdout",
          "output_type": "stream",
          "text": [
            "\n",
            " books\n"
          ]
        },
        {
          "data": {
            "text/html": [
              "<div>\n",
              "<style scoped>\n",
              "    .dataframe tbody tr th:only-of-type {\n",
              "        vertical-align: middle;\n",
              "    }\n",
              "\n",
              "    .dataframe tbody tr th {\n",
              "        vertical-align: top;\n",
              "    }\n",
              "\n",
              "    .dataframe thead th {\n",
              "        text-align: right;\n",
              "    }\n",
              "</style>\n",
              "<table border=\"1\" class=\"dataframe\">\n",
              "  <thead>\n",
              "    <tr style=\"text-align: right;\">\n",
              "      <th></th>\n",
              "      <th>book_id</th>\n",
              "      <th>author_id</th>\n",
              "      <th>title</th>\n",
              "      <th>num_pages</th>\n",
              "      <th>publication_date</th>\n",
              "      <th>publisher_id</th>\n",
              "    </tr>\n",
              "  </thead>\n",
              "  <tbody>\n",
              "    <tr>\n",
              "      <th>0</th>\n",
              "      <td>1</td>\n",
              "      <td>546</td>\n",
              "      <td>'Salem's Lot</td>\n",
              "      <td>594</td>\n",
              "      <td>2005-11-01</td>\n",
              "      <td>93</td>\n",
              "    </tr>\n",
              "    <tr>\n",
              "      <th>1</th>\n",
              "      <td>2</td>\n",
              "      <td>465</td>\n",
              "      <td>1 000 Places to See Before You Die</td>\n",
              "      <td>992</td>\n",
              "      <td>2003-05-22</td>\n",
              "      <td>336</td>\n",
              "    </tr>\n",
              "    <tr>\n",
              "      <th>2</th>\n",
              "      <td>3</td>\n",
              "      <td>407</td>\n",
              "      <td>13 Little Blue Envelopes (Little Blue Envelope...</td>\n",
              "      <td>322</td>\n",
              "      <td>2010-12-21</td>\n",
              "      <td>135</td>\n",
              "    </tr>\n",
              "    <tr>\n",
              "      <th>3</th>\n",
              "      <td>4</td>\n",
              "      <td>82</td>\n",
              "      <td>1491: New Revelations of the Americas Before C...</td>\n",
              "      <td>541</td>\n",
              "      <td>2006-10-10</td>\n",
              "      <td>309</td>\n",
              "    </tr>\n",
              "    <tr>\n",
              "      <th>4</th>\n",
              "      <td>5</td>\n",
              "      <td>125</td>\n",
              "      <td>1776</td>\n",
              "      <td>386</td>\n",
              "      <td>2006-07-04</td>\n",
              "      <td>268</td>\n",
              "    </tr>\n",
              "  </tbody>\n",
              "</table>\n",
              "</div>"
            ],
            "text/plain": [
              "   book_id  author_id                                              title  \\\n",
              "0        1        546                                       'Salem's Lot   \n",
              "1        2        465                 1 000 Places to See Before You Die   \n",
              "2        3        407  13 Little Blue Envelopes (Little Blue Envelope...   \n",
              "3        4         82  1491: New Revelations of the Americas Before C...   \n",
              "4        5        125                                               1776   \n",
              "\n",
              "   num_pages publication_date  publisher_id  \n",
              "0        594       2005-11-01            93  \n",
              "1        992       2003-05-22           336  \n",
              "2        322       2010-12-21           135  \n",
              "3        541       2006-10-10           309  \n",
              "4        386       2006-07-04           268  "
            ]
          },
          "metadata": {},
          "output_type": "display_data"
        },
        {
          "name": "stdout",
          "output_type": "stream",
          "text": [
            "\n",
            " authors\n"
          ]
        },
        {
          "data": {
            "text/html": [
              "<div>\n",
              "<style scoped>\n",
              "    .dataframe tbody tr th:only-of-type {\n",
              "        vertical-align: middle;\n",
              "    }\n",
              "\n",
              "    .dataframe tbody tr th {\n",
              "        vertical-align: top;\n",
              "    }\n",
              "\n",
              "    .dataframe thead th {\n",
              "        text-align: right;\n",
              "    }\n",
              "</style>\n",
              "<table border=\"1\" class=\"dataframe\">\n",
              "  <thead>\n",
              "    <tr style=\"text-align: right;\">\n",
              "      <th></th>\n",
              "      <th>author_id</th>\n",
              "      <th>author</th>\n",
              "    </tr>\n",
              "  </thead>\n",
              "  <tbody>\n",
              "    <tr>\n",
              "      <th>0</th>\n",
              "      <td>1</td>\n",
              "      <td>A.S. Byatt</td>\n",
              "    </tr>\n",
              "    <tr>\n",
              "      <th>1</th>\n",
              "      <td>2</td>\n",
              "      <td>Aesop/Laura Harris/Laura Gibbs</td>\n",
              "    </tr>\n",
              "    <tr>\n",
              "      <th>2</th>\n",
              "      <td>3</td>\n",
              "      <td>Agatha Christie</td>\n",
              "    </tr>\n",
              "    <tr>\n",
              "      <th>3</th>\n",
              "      <td>4</td>\n",
              "      <td>Alan Brennert</td>\n",
              "    </tr>\n",
              "    <tr>\n",
              "      <th>4</th>\n",
              "      <td>5</td>\n",
              "      <td>Alan Moore/David   Lloyd</td>\n",
              "    </tr>\n",
              "  </tbody>\n",
              "</table>\n",
              "</div>"
            ],
            "text/plain": [
              "   author_id                          author\n",
              "0          1                      A.S. Byatt\n",
              "1          2  Aesop/Laura Harris/Laura Gibbs\n",
              "2          3                 Agatha Christie\n",
              "3          4                   Alan Brennert\n",
              "4          5        Alan Moore/David   Lloyd"
            ]
          },
          "metadata": {},
          "output_type": "display_data"
        },
        {
          "name": "stdout",
          "output_type": "stream",
          "text": [
            "\n",
            " publishers\n"
          ]
        },
        {
          "data": {
            "text/html": [
              "<div>\n",
              "<style scoped>\n",
              "    .dataframe tbody tr th:only-of-type {\n",
              "        vertical-align: middle;\n",
              "    }\n",
              "\n",
              "    .dataframe tbody tr th {\n",
              "        vertical-align: top;\n",
              "    }\n",
              "\n",
              "    .dataframe thead th {\n",
              "        text-align: right;\n",
              "    }\n",
              "</style>\n",
              "<table border=\"1\" class=\"dataframe\">\n",
              "  <thead>\n",
              "    <tr style=\"text-align: right;\">\n",
              "      <th></th>\n",
              "      <th>publisher_id</th>\n",
              "      <th>publisher</th>\n",
              "    </tr>\n",
              "  </thead>\n",
              "  <tbody>\n",
              "    <tr>\n",
              "      <th>0</th>\n",
              "      <td>1</td>\n",
              "      <td>Ace</td>\n",
              "    </tr>\n",
              "    <tr>\n",
              "      <th>1</th>\n",
              "      <td>2</td>\n",
              "      <td>Ace Book</td>\n",
              "    </tr>\n",
              "    <tr>\n",
              "      <th>2</th>\n",
              "      <td>3</td>\n",
              "      <td>Ace Books</td>\n",
              "    </tr>\n",
              "    <tr>\n",
              "      <th>3</th>\n",
              "      <td>4</td>\n",
              "      <td>Ace Hardcover</td>\n",
              "    </tr>\n",
              "    <tr>\n",
              "      <th>4</th>\n",
              "      <td>5</td>\n",
              "      <td>Addison Wesley Publishing Company</td>\n",
              "    </tr>\n",
              "  </tbody>\n",
              "</table>\n",
              "</div>"
            ],
            "text/plain": [
              "   publisher_id                          publisher\n",
              "0             1                                Ace\n",
              "1             2                           Ace Book\n",
              "2             3                          Ace Books\n",
              "3             4                      Ace Hardcover\n",
              "4             5  Addison Wesley Publishing Company"
            ]
          },
          "metadata": {},
          "output_type": "display_data"
        },
        {
          "name": "stdout",
          "output_type": "stream",
          "text": [
            "\n",
            " ratings\n"
          ]
        },
        {
          "data": {
            "text/html": [
              "<div>\n",
              "<style scoped>\n",
              "    .dataframe tbody tr th:only-of-type {\n",
              "        vertical-align: middle;\n",
              "    }\n",
              "\n",
              "    .dataframe tbody tr th {\n",
              "        vertical-align: top;\n",
              "    }\n",
              "\n",
              "    .dataframe thead th {\n",
              "        text-align: right;\n",
              "    }\n",
              "</style>\n",
              "<table border=\"1\" class=\"dataframe\">\n",
              "  <thead>\n",
              "    <tr style=\"text-align: right;\">\n",
              "      <th></th>\n",
              "      <th>rating_id</th>\n",
              "      <th>book_id</th>\n",
              "      <th>username</th>\n",
              "      <th>rating</th>\n",
              "    </tr>\n",
              "  </thead>\n",
              "  <tbody>\n",
              "    <tr>\n",
              "      <th>0</th>\n",
              "      <td>1</td>\n",
              "      <td>1</td>\n",
              "      <td>ryanfranco</td>\n",
              "      <td>4</td>\n",
              "    </tr>\n",
              "    <tr>\n",
              "      <th>1</th>\n",
              "      <td>2</td>\n",
              "      <td>1</td>\n",
              "      <td>grantpatricia</td>\n",
              "      <td>2</td>\n",
              "    </tr>\n",
              "    <tr>\n",
              "      <th>2</th>\n",
              "      <td>3</td>\n",
              "      <td>1</td>\n",
              "      <td>brandtandrea</td>\n",
              "      <td>5</td>\n",
              "    </tr>\n",
              "    <tr>\n",
              "      <th>3</th>\n",
              "      <td>4</td>\n",
              "      <td>2</td>\n",
              "      <td>lorichen</td>\n",
              "      <td>3</td>\n",
              "    </tr>\n",
              "    <tr>\n",
              "      <th>4</th>\n",
              "      <td>5</td>\n",
              "      <td>2</td>\n",
              "      <td>mariokeller</td>\n",
              "      <td>2</td>\n",
              "    </tr>\n",
              "  </tbody>\n",
              "</table>\n",
              "</div>"
            ],
            "text/plain": [
              "   rating_id  book_id       username  rating\n",
              "0          1        1     ryanfranco       4\n",
              "1          2        1  grantpatricia       2\n",
              "2          3        1   brandtandrea       5\n",
              "3          4        2       lorichen       3\n",
              "4          5        2    mariokeller       2"
            ]
          },
          "metadata": {},
          "output_type": "display_data"
        },
        {
          "name": "stdout",
          "output_type": "stream",
          "text": [
            "\n",
            " reviews\n"
          ]
        },
        {
          "data": {
            "text/html": [
              "<div>\n",
              "<style scoped>\n",
              "    .dataframe tbody tr th:only-of-type {\n",
              "        vertical-align: middle;\n",
              "    }\n",
              "\n",
              "    .dataframe tbody tr th {\n",
              "        vertical-align: top;\n",
              "    }\n",
              "\n",
              "    .dataframe thead th {\n",
              "        text-align: right;\n",
              "    }\n",
              "</style>\n",
              "<table border=\"1\" class=\"dataframe\">\n",
              "  <thead>\n",
              "    <tr style=\"text-align: right;\">\n",
              "      <th></th>\n",
              "      <th>review_id</th>\n",
              "      <th>book_id</th>\n",
              "      <th>username</th>\n",
              "      <th>text</th>\n",
              "    </tr>\n",
              "  </thead>\n",
              "  <tbody>\n",
              "    <tr>\n",
              "      <th>0</th>\n",
              "      <td>1</td>\n",
              "      <td>1</td>\n",
              "      <td>brandtandrea</td>\n",
              "      <td>Mention society tell send professor analysis. ...</td>\n",
              "    </tr>\n",
              "    <tr>\n",
              "      <th>1</th>\n",
              "      <td>2</td>\n",
              "      <td>1</td>\n",
              "      <td>ryanfranco</td>\n",
              "      <td>Foot glass pretty audience hit themselves. Amo...</td>\n",
              "    </tr>\n",
              "    <tr>\n",
              "      <th>2</th>\n",
              "      <td>3</td>\n",
              "      <td>2</td>\n",
              "      <td>lorichen</td>\n",
              "      <td>Listen treat keep worry. Miss husband tax but ...</td>\n",
              "    </tr>\n",
              "    <tr>\n",
              "      <th>3</th>\n",
              "      <td>4</td>\n",
              "      <td>3</td>\n",
              "      <td>johnsonamanda</td>\n",
              "      <td>Finally month interesting blue could nature cu...</td>\n",
              "    </tr>\n",
              "    <tr>\n",
              "      <th>4</th>\n",
              "      <td>5</td>\n",
              "      <td>3</td>\n",
              "      <td>scotttamara</td>\n",
              "      <td>Nation purpose heavy give wait song will. List...</td>\n",
              "    </tr>\n",
              "  </tbody>\n",
              "</table>\n",
              "</div>"
            ],
            "text/plain": [
              "   review_id  book_id       username  \\\n",
              "0          1        1   brandtandrea   \n",
              "1          2        1     ryanfranco   \n",
              "2          3        2       lorichen   \n",
              "3          4        3  johnsonamanda   \n",
              "4          5        3    scotttamara   \n",
              "\n",
              "                                                text  \n",
              "0  Mention society tell send professor analysis. ...  \n",
              "1  Foot glass pretty audience hit themselves. Amo...  \n",
              "2  Listen treat keep worry. Miss husband tax but ...  \n",
              "3  Finally month interesting blue could nature cu...  \n",
              "4  Nation purpose heavy give wait song will. List...  "
            ]
          },
          "metadata": {},
          "output_type": "display_data"
        }
      ],
      "source": [
        "for x in ['books', 'authors', 'publishers', 'ratings', 'reviews']:\n",
        "    print('\\n', x)\n",
        "    query = f'''\n",
        "\n",
        "    SELECT *\n",
        "    FROM {x}\n",
        "    LIMIT 5;\n",
        "\n",
        "    '''\n",
        "\n",
        "    display(sql_query(query))"
      ]
    },
    {
      "cell_type": "code",
      "execution_count": null,
      "metadata": {
        "id": "w67R3JPmP5ws",
        "outputId": "f023e8f9-0752-4bd1-cff1-bd7138b15e62"
      },
      "outputs": [
        {
          "data": {
            "text/html": [
              "<div>\n",
              "<style scoped>\n",
              "    .dataframe tbody tr th:only-of-type {\n",
              "        vertical-align: middle;\n",
              "    }\n",
              "\n",
              "    .dataframe tbody tr th {\n",
              "        vertical-align: top;\n",
              "    }\n",
              "\n",
              "    .dataframe thead th {\n",
              "        text-align: right;\n",
              "    }\n",
              "</style>\n",
              "<table border=\"1\" class=\"dataframe\">\n",
              "  <thead>\n",
              "    <tr style=\"text-align: right;\">\n",
              "      <th></th>\n",
              "      <th>table_name</th>\n",
              "      <th>column_name</th>\n",
              "      <th>data_type</th>\n",
              "      <th>is_nullable</th>\n",
              "    </tr>\n",
              "  </thead>\n",
              "  <tbody>\n",
              "    <tr>\n",
              "      <th>0</th>\n",
              "      <td>authors</td>\n",
              "      <td>author_id</td>\n",
              "      <td>integer</td>\n",
              "      <td>NO</td>\n",
              "    </tr>\n",
              "    <tr>\n",
              "      <th>1</th>\n",
              "      <td>authors</td>\n",
              "      <td>author</td>\n",
              "      <td>text</td>\n",
              "      <td>YES</td>\n",
              "    </tr>\n",
              "    <tr>\n",
              "      <th>2</th>\n",
              "      <td>publishers</td>\n",
              "      <td>publisher_id</td>\n",
              "      <td>integer</td>\n",
              "      <td>NO</td>\n",
              "    </tr>\n",
              "    <tr>\n",
              "      <th>3</th>\n",
              "      <td>publishers</td>\n",
              "      <td>publisher</td>\n",
              "      <td>text</td>\n",
              "      <td>YES</td>\n",
              "    </tr>\n",
              "    <tr>\n",
              "      <th>4</th>\n",
              "      <td>reviews</td>\n",
              "      <td>review_id</td>\n",
              "      <td>integer</td>\n",
              "      <td>NO</td>\n",
              "    </tr>\n",
              "    <tr>\n",
              "      <th>5</th>\n",
              "      <td>reviews</td>\n",
              "      <td>book_id</td>\n",
              "      <td>integer</td>\n",
              "      <td>YES</td>\n",
              "    </tr>\n",
              "    <tr>\n",
              "      <th>6</th>\n",
              "      <td>reviews</td>\n",
              "      <td>username</td>\n",
              "      <td>text</td>\n",
              "      <td>YES</td>\n",
              "    </tr>\n",
              "    <tr>\n",
              "      <th>7</th>\n",
              "      <td>reviews</td>\n",
              "      <td>text</td>\n",
              "      <td>text</td>\n",
              "      <td>YES</td>\n",
              "    </tr>\n",
              "    <tr>\n",
              "      <th>8</th>\n",
              "      <td>ratings</td>\n",
              "      <td>rating_id</td>\n",
              "      <td>integer</td>\n",
              "      <td>NO</td>\n",
              "    </tr>\n",
              "    <tr>\n",
              "      <th>9</th>\n",
              "      <td>ratings</td>\n",
              "      <td>book_id</td>\n",
              "      <td>integer</td>\n",
              "      <td>YES</td>\n",
              "    </tr>\n",
              "    <tr>\n",
              "      <th>10</th>\n",
              "      <td>ratings</td>\n",
              "      <td>username</td>\n",
              "      <td>text</td>\n",
              "      <td>YES</td>\n",
              "    </tr>\n",
              "    <tr>\n",
              "      <th>11</th>\n",
              "      <td>ratings</td>\n",
              "      <td>rating</td>\n",
              "      <td>integer</td>\n",
              "      <td>YES</td>\n",
              "    </tr>\n",
              "    <tr>\n",
              "      <th>12</th>\n",
              "      <td>books</td>\n",
              "      <td>book_id</td>\n",
              "      <td>integer</td>\n",
              "      <td>NO</td>\n",
              "    </tr>\n",
              "    <tr>\n",
              "      <th>13</th>\n",
              "      <td>books</td>\n",
              "      <td>author_id</td>\n",
              "      <td>integer</td>\n",
              "      <td>YES</td>\n",
              "    </tr>\n",
              "    <tr>\n",
              "      <th>14</th>\n",
              "      <td>books</td>\n",
              "      <td>title</td>\n",
              "      <td>text</td>\n",
              "      <td>YES</td>\n",
              "    </tr>\n",
              "    <tr>\n",
              "      <th>15</th>\n",
              "      <td>books</td>\n",
              "      <td>num_pages</td>\n",
              "      <td>integer</td>\n",
              "      <td>YES</td>\n",
              "    </tr>\n",
              "    <tr>\n",
              "      <th>16</th>\n",
              "      <td>books</td>\n",
              "      <td>publication_date</td>\n",
              "      <td>date</td>\n",
              "      <td>YES</td>\n",
              "    </tr>\n",
              "    <tr>\n",
              "      <th>17</th>\n",
              "      <td>books</td>\n",
              "      <td>publisher_id</td>\n",
              "      <td>integer</td>\n",
              "      <td>YES</td>\n",
              "    </tr>\n",
              "  </tbody>\n",
              "</table>\n",
              "</div>"
            ],
            "text/plain": [
              "    table_name       column_name data_type is_nullable\n",
              "0      authors         author_id   integer          NO\n",
              "1      authors            author      text         YES\n",
              "2   publishers      publisher_id   integer          NO\n",
              "3   publishers         publisher      text         YES\n",
              "4      reviews         review_id   integer          NO\n",
              "5      reviews           book_id   integer         YES\n",
              "6      reviews          username      text         YES\n",
              "7      reviews              text      text         YES\n",
              "8      ratings         rating_id   integer          NO\n",
              "9      ratings           book_id   integer         YES\n",
              "10     ratings          username      text         YES\n",
              "11     ratings            rating   integer         YES\n",
              "12       books           book_id   integer          NO\n",
              "13       books         author_id   integer         YES\n",
              "14       books             title      text         YES\n",
              "15       books         num_pages   integer         YES\n",
              "16       books  publication_date      date         YES\n",
              "17       books      publisher_id   integer         YES"
            ]
          },
          "execution_count": 4,
          "metadata": {},
          "output_type": "execute_result"
        }
      ],
      "source": [
        "# типы данных\n",
        "query = '''\n",
        "SELECT\n",
        "    table_name,\n",
        "    column_name,\n",
        "    data_type,\n",
        "    is_nullable\n",
        "FROM INFORMATION_SCHEMA.COLUMNS\n",
        "WHERE table_name IN ('books', 'authors', 'publishers', 'ratings', 'reviews');\n",
        "'''\n",
        "\n",
        "sql_query(query)"
      ]
    },
    {
      "cell_type": "markdown",
      "metadata": {
        "id": "246rQoM6P5wt"
      },
      "source": [
        "## Решение задач"
      ]
    },
    {
      "cell_type": "markdown",
      "metadata": {
        "id": "45FfzZ4HP5wt"
      },
      "source": [
        "**Задача 1**\n",
        "\n",
        "**Посчитайте, сколько книг вышло после 1 января 2000 года;**"
      ]
    },
    {
      "cell_type": "code",
      "execution_count": null,
      "metadata": {
        "id": "N_T9iO21P5wt",
        "outputId": "331170a1-b03d-4ebf-8967-4d9395f4724a"
      },
      "outputs": [
        {
          "data": {
            "text/html": [
              "<div>\n",
              "<style scoped>\n",
              "    .dataframe tbody tr th:only-of-type {\n",
              "        vertical-align: middle;\n",
              "    }\n",
              "\n",
              "    .dataframe tbody tr th {\n",
              "        vertical-align: top;\n",
              "    }\n",
              "\n",
              "    .dataframe thead th {\n",
              "        text-align: right;\n",
              "    }\n",
              "</style>\n",
              "<table border=\"1\" class=\"dataframe\">\n",
              "  <thead>\n",
              "    <tr style=\"text-align: right;\">\n",
              "      <th></th>\n",
              "      <th>total_books</th>\n",
              "    </tr>\n",
              "  </thead>\n",
              "  <tbody>\n",
              "    <tr>\n",
              "      <th>0</th>\n",
              "      <td>821</td>\n",
              "    </tr>\n",
              "  </tbody>\n",
              "</table>\n",
              "</div>"
            ],
            "text/plain": [
              "   total_books\n",
              "0          821"
            ]
          },
          "execution_count": 5,
          "metadata": {},
          "output_type": "execute_result"
        }
      ],
      "source": [
        "query = '''\n",
        "\n",
        "SELECT COUNT(title) AS total_books\n",
        "FROM books\n",
        "WHERE publication_date >= '2000-01-01';\n",
        "\n",
        "'''\n",
        "\n",
        "sql_query(query)"
      ]
    },
    {
      "cell_type": "markdown",
      "metadata": {
        "id": "FmVm4KRYP5wt"
      },
      "source": [
        "**Комментарий**\n",
        "\n",
        "Вышла 821 книга"
      ]
    },
    {
      "cell_type": "markdown",
      "metadata": {
        "id": "sjwxVmjZP5wu"
      },
      "source": [
        "**Задача 2**\n",
        "\n",
        "**Для каждой книги посчитайте количество обзоров и среднюю оценку;**"
      ]
    },
    {
      "cell_type": "code",
      "execution_count": null,
      "metadata": {
        "id": "xz8KZ79fP5wu",
        "outputId": "c2c38ff2-f92d-4c59-feb6-bfcade2d0ca8"
      },
      "outputs": [
        {
          "data": {
            "text/html": [
              "<div>\n",
              "<style scoped>\n",
              "    .dataframe tbody tr th:only-of-type {\n",
              "        vertical-align: middle;\n",
              "    }\n",
              "\n",
              "    .dataframe tbody tr th {\n",
              "        vertical-align: top;\n",
              "    }\n",
              "\n",
              "    .dataframe thead th {\n",
              "        text-align: right;\n",
              "    }\n",
              "</style>\n",
              "<table border=\"1\" class=\"dataframe\">\n",
              "  <thead>\n",
              "    <tr style=\"text-align: right;\">\n",
              "      <th></th>\n",
              "      <th>title</th>\n",
              "      <th>avg_rating</th>\n",
              "      <th>total_reviews</th>\n",
              "    </tr>\n",
              "  </thead>\n",
              "  <tbody>\n",
              "    <tr>\n",
              "      <th>0</th>\n",
              "      <td>Anne Rice's The Vampire Lestat: A Graphic Novel</td>\n",
              "      <td>3.666667</td>\n",
              "      <td>NaN</td>\n",
              "    </tr>\n",
              "    <tr>\n",
              "      <th>1</th>\n",
              "      <td>Disney's Beauty and the Beast (A Little Golden...</td>\n",
              "      <td>4.000000</td>\n",
              "      <td>NaN</td>\n",
              "    </tr>\n",
              "    <tr>\n",
              "      <th>2</th>\n",
              "      <td>Essential Tales and Poems</td>\n",
              "      <td>4.000000</td>\n",
              "      <td>NaN</td>\n",
              "    </tr>\n",
              "    <tr>\n",
              "      <th>3</th>\n",
              "      <td>Leonardo's Notebooks</td>\n",
              "      <td>4.000000</td>\n",
              "      <td>NaN</td>\n",
              "    </tr>\n",
              "    <tr>\n",
              "      <th>4</th>\n",
              "      <td>The Cat in the Hat and Other Dr. Seuss Favorites</td>\n",
              "      <td>5.000000</td>\n",
              "      <td>NaN</td>\n",
              "    </tr>\n",
              "    <tr>\n",
              "      <th>...</th>\n",
              "      <td>...</td>\n",
              "      <td>...</td>\n",
              "      <td>...</td>\n",
              "    </tr>\n",
              "    <tr>\n",
              "      <th>995</th>\n",
              "      <td>The Social Contract</td>\n",
              "      <td>3.500000</td>\n",
              "      <td>1.0</td>\n",
              "    </tr>\n",
              "    <tr>\n",
              "      <th>996</th>\n",
              "      <td>To Green Angel Tower (Memory  Sorrow  and Thor...</td>\n",
              "      <td>4.500000</td>\n",
              "      <td>1.0</td>\n",
              "    </tr>\n",
              "    <tr>\n",
              "      <th>997</th>\n",
              "      <td>Tsubasa: RESERVoir CHRoNiCLE  Vol. 1</td>\n",
              "      <td>2.500000</td>\n",
              "      <td>1.0</td>\n",
              "    </tr>\n",
              "    <tr>\n",
              "      <th>998</th>\n",
              "      <td>Wicked: The Grimmerie</td>\n",
              "      <td>3.500000</td>\n",
              "      <td>1.0</td>\n",
              "    </tr>\n",
              "    <tr>\n",
              "      <th>999</th>\n",
              "      <td>Winter Prey (Lucas Davenport  #5)</td>\n",
              "      <td>4.500000</td>\n",
              "      <td>1.0</td>\n",
              "    </tr>\n",
              "  </tbody>\n",
              "</table>\n",
              "<p>1000 rows × 3 columns</p>\n",
              "</div>"
            ],
            "text/plain": [
              "                                                 title  avg_rating  \\\n",
              "0      Anne Rice's The Vampire Lestat: A Graphic Novel    3.666667   \n",
              "1    Disney's Beauty and the Beast (A Little Golden...    4.000000   \n",
              "2                            Essential Tales and Poems    4.000000   \n",
              "3                                 Leonardo's Notebooks    4.000000   \n",
              "4     The Cat in the Hat and Other Dr. Seuss Favorites    5.000000   \n",
              "..                                                 ...         ...   \n",
              "995                                The Social Contract    3.500000   \n",
              "996  To Green Angel Tower (Memory  Sorrow  and Thor...    4.500000   \n",
              "997               Tsubasa: RESERVoir CHRoNiCLE  Vol. 1    2.500000   \n",
              "998                              Wicked: The Grimmerie    3.500000   \n",
              "999                  Winter Prey (Lucas Davenport  #5)    4.500000   \n",
              "\n",
              "     total_reviews  \n",
              "0              NaN  \n",
              "1              NaN  \n",
              "2              NaN  \n",
              "3              NaN  \n",
              "4              NaN  \n",
              "..             ...  \n",
              "995            1.0  \n",
              "996            1.0  \n",
              "997            1.0  \n",
              "998            1.0  \n",
              "999            1.0  \n",
              "\n",
              "[1000 rows x 3 columns]"
            ]
          },
          "execution_count": 6,
          "metadata": {},
          "output_type": "execute_result"
        }
      ],
      "source": [
        "query = '''\n",
        "\n",
        "WITH b AS (SELECT title, book_id\n",
        "        FROM books),\n",
        "i AS (SELECT AVG(rating) AS avg_rating, book_id\n",
        "        FROM ratings\n",
        "        GROUP BY book_id),\n",
        "s AS (SELECT COUNT(review_id) AS total_reviews, book_id\n",
        "        FROM reviews\n",
        "        GROUP BY book_id)\n",
        "SELECT  b.title, i.avg_rating, s.total_reviews\n",
        "FROM b\n",
        "LEFT OUTER JOIN i ON b.book_id=i.book_id\n",
        "LEFT OUTER JOIN s ON b.book_id=s.book_id\n",
        "-- WHERE s.total_reviews IS NOT NULL\n",
        "GROUP BY b.title, s.total_reviews, i.avg_rating\n",
        "ORDER BY s.total_reviews DESC;\n",
        "\n",
        "'''\n",
        "\n",
        "sql_query(query)#.head(10)"
      ]
    },
    {
      "cell_type": "markdown",
      "metadata": {
        "id": "fBK5MoHdP5wu"
      },
      "source": [
        "**Комментарий**\n",
        "\n",
        "\n",
        "Расчитала среднее кол-во обзоров и оценок, для 6 книг оценок нет"
      ]
    },
    {
      "cell_type": "markdown",
      "metadata": {
        "id": "-0iXXWMaP5wv"
      },
      "source": [
        "**Задача 3**\n",
        "\n",
        "\n",
        "**Определите издательство, которое выпустило наибольшее число книг толще 50 страниц — так вы исключите из анализа брошюры;**\n",
        "\n",
        "\n"
      ]
    },
    {
      "cell_type": "code",
      "execution_count": null,
      "metadata": {
        "id": "x8r6HWXfP5wv",
        "outputId": "7919b785-194c-4646-a592-98cb20a7b2be"
      },
      "outputs": [
        {
          "data": {
            "text/html": [
              "<div>\n",
              "<style scoped>\n",
              "    .dataframe tbody tr th:only-of-type {\n",
              "        vertical-align: middle;\n",
              "    }\n",
              "\n",
              "    .dataframe tbody tr th {\n",
              "        vertical-align: top;\n",
              "    }\n",
              "\n",
              "    .dataframe thead th {\n",
              "        text-align: right;\n",
              "    }\n",
              "</style>\n",
              "<table border=\"1\" class=\"dataframe\">\n",
              "  <thead>\n",
              "    <tr style=\"text-align: right;\">\n",
              "      <th></th>\n",
              "      <th>publisher_id</th>\n",
              "      <th>publisher</th>\n",
              "      <th>total_books</th>\n",
              "    </tr>\n",
              "  </thead>\n",
              "  <tbody>\n",
              "    <tr>\n",
              "      <th>0</th>\n",
              "      <td>212</td>\n",
              "      <td>Penguin Books</td>\n",
              "      <td>42</td>\n",
              "    </tr>\n",
              "  </tbody>\n",
              "</table>\n",
              "</div>"
            ],
            "text/plain": [
              "   publisher_id      publisher  total_books\n",
              "0           212  Penguin Books           42"
            ]
          },
          "execution_count": 7,
          "metadata": {},
          "output_type": "execute_result"
        }
      ],
      "source": [
        "query = '''\n",
        "\n",
        "SELECT b.publisher_id, p.publisher, COUNT(b.book_id) AS total_books\n",
        "FROM books AS b\n",
        "LEFT OUTER JOIN publishers AS p ON b.publisher_id=p.publisher_id\n",
        "WHERE num_pages >= 50\n",
        "GROUP BY b.publisher_id, p.publisher\n",
        "ORDER BY total_books DESC\n",
        "LIMIT 1;\n",
        "\n",
        "'''\n",
        "\n",
        "sql_query(query)"
      ]
    },
    {
      "cell_type": "markdown",
      "metadata": {
        "id": "iaUqzVi5P5wv"
      },
      "source": [
        "**Комментарий**\n",
        "\n",
        "Penguin Books"
      ]
    },
    {
      "cell_type": "markdown",
      "metadata": {
        "id": "PzOBQv_vP5ww"
      },
      "source": []
    },
    {
      "cell_type": "markdown",
      "metadata": {
        "id": "w6mPFrDLP5ww"
      },
      "source": [
        "**Задача 4**\n",
        "\n",
        "\n",
        "**Определите автора с самой высокой средней оценкой книг — учитывайте только книги с 50 и более оценками;**\n"
      ]
    },
    {
      "cell_type": "code",
      "execution_count": null,
      "metadata": {
        "id": "9VjUnZW5P5ww",
        "outputId": "33234d1f-70a9-4347-dc1a-10b01a64c190"
      },
      "outputs": [
        {
          "data": {
            "text/html": [
              "<div>\n",
              "<style scoped>\n",
              "    .dataframe tbody tr th:only-of-type {\n",
              "        vertical-align: middle;\n",
              "    }\n",
              "\n",
              "    .dataframe tbody tr th {\n",
              "        vertical-align: top;\n",
              "    }\n",
              "\n",
              "    .dataframe thead th {\n",
              "        text-align: right;\n",
              "    }\n",
              "</style>\n",
              "<table border=\"1\" class=\"dataframe\">\n",
              "  <thead>\n",
              "    <tr style=\"text-align: right;\">\n",
              "      <th></th>\n",
              "      <th>author</th>\n",
              "      <th>score</th>\n",
              "    </tr>\n",
              "  </thead>\n",
              "  <tbody>\n",
              "    <tr>\n",
              "      <th>0</th>\n",
              "      <td>J.K. Rowling/Mary GrandPré</td>\n",
              "      <td>4.29</td>\n",
              "    </tr>\n",
              "  </tbody>\n",
              "</table>\n",
              "</div>"
            ],
            "text/plain": [
              "                       author  score\n",
              "0  J.K. Rowling/Mary GrandPré   4.29"
            ]
          },
          "execution_count": 8,
          "metadata": {},
          "output_type": "execute_result"
        }
      ],
      "source": [
        "query = '''\n",
        "\n",
        "SELECT a.author, ROUND(AVG(rating), 2) AS score\n",
        "FROM books AS b\n",
        "LEFT OUTER JOIN authors AS a ON b.author_id=a.author_id\n",
        "LEFT OUTER JOIN ratings AS ra ON b.book_id=ra.book_id\n",
        "WHERE b.book_id IN (SELECT book_id\n",
        "                  FROM ratings\n",
        "                  GROUP BY book_id\n",
        "                  HAVING COUNT(rating) >= 50)\n",
        "GROUP BY a.author\n",
        "ORDER BY score DESC\n",
        "LIMIT 1\n",
        "\n",
        "'''\n",
        "\n",
        "sql_query(query)"
      ]
    },
    {
      "cell_type": "markdown",
      "metadata": {
        "id": "e1hjcTUUP5ww"
      },
      "source": [
        "**Комментарий**\n",
        "\n",
        "J.K. Rowling/Mary GrandPré с оценкой 4.29"
      ]
    },
    {
      "cell_type": "markdown",
      "metadata": {
        "id": "xysZT00YP5wx"
      },
      "source": []
    },
    {
      "cell_type": "markdown",
      "metadata": {
        "id": "Zk_GDTSgP5wx"
      },
      "source": [
        "**Задача 5**\n",
        "\n",
        "**Посчитайте среднее количество обзоров от пользователей, которые поставили больше 48 оценок**"
      ]
    },
    {
      "cell_type": "code",
      "execution_count": null,
      "metadata": {
        "id": "6BJscYtEP5wx",
        "outputId": "d8b16784-8ef9-417b-b67f-f43687c7dd35"
      },
      "outputs": [
        {
          "data": {
            "text/html": [
              "<div>\n",
              "<style scoped>\n",
              "    .dataframe tbody tr th:only-of-type {\n",
              "        vertical-align: middle;\n",
              "    }\n",
              "\n",
              "    .dataframe tbody tr th {\n",
              "        vertical-align: top;\n",
              "    }\n",
              "\n",
              "    .dataframe thead th {\n",
              "        text-align: right;\n",
              "    }\n",
              "</style>\n",
              "<table border=\"1\" class=\"dataframe\">\n",
              "  <thead>\n",
              "    <tr style=\"text-align: right;\">\n",
              "      <th></th>\n",
              "      <th>avg</th>\n",
              "    </tr>\n",
              "  </thead>\n",
              "  <tbody>\n",
              "    <tr>\n",
              "      <th>0</th>\n",
              "      <td>24.0</td>\n",
              "    </tr>\n",
              "  </tbody>\n",
              "</table>\n",
              "</div>"
            ],
            "text/plain": [
              "    avg\n",
              "0  24.0"
            ]
          },
          "execution_count": 67,
          "metadata": {},
          "output_type": "execute_result"
        }
      ],
      "source": [
        "query = '''\n",
        "\n",
        "WITH t AS (SELECT r.username, count(r.review_id) as count\n",
        "FROM reviews AS r\n",
        "WHERE r.username IN (SELECT ra.username\n",
        "                    FROM ratings AS ra\n",
        "                    GROUP BY ra.username\n",
        "                    HAVING COUNT(rating) > 48)\n",
        "GROUP BY r.username)\n",
        "\n",
        "SELECT avg(count)\n",
        "FROM t\n",
        "\n",
        "'''\n",
        "\n",
        "sql_query(query)"
      ]
    },
    {
      "cell_type": "markdown",
      "metadata": {
        "id": "nNQ2WjNHP5wx"
      },
      "source": [
        "**Комментарий**\n",
        "\n",
        "среднее кол-во обзоров 24"
      ]
    },
    {
      "cell_type": "markdown",
      "metadata": {
        "id": "gTketJFNP5wz"
      },
      "source": [
        "## Вывод\n",
        "\n",
        "\n",
        "\n",
        "1 Всего 821 книга вышла после 1 января 2000 года\n",
        "\n",
        "2 Для каждой из 1000 книг посчитала средний рейтинг и количество обзоров. Для 6 из 1000 отсутствуют обзоры.\n",
        "\n",
        "3 Penguin Books выпустило наибольшее количество книг — 42.\n",
        "\n",
        "4 Самая высокая средняя оценка у J.K. Rowling/Mary GrandPré — 4.29.\n",
        "\n",
        "5 Посчитала количество обзоров от пользователей которые поставили больше 48 оценок."
      ]
    },
    {
      "cell_type": "code",
      "execution_count": null,
      "metadata": {
        "id": "Am4JLYVNP5wz"
      },
      "outputs": [],
      "source": []
    }
  ],
  "metadata": {
    "ExecuteTimeLog": [
      {
        "duration": 8342,
        "start_time": "2023-06-15T12:50:33.873Z"
      },
      {
        "duration": 5,
        "start_time": "2023-06-15T12:55:03.169Z"
      },
      {
        "duration": 61,
        "start_time": "2023-06-15T12:55:20.610Z"
      },
      {
        "duration": 76,
        "start_time": "2023-06-15T12:56:03.439Z"
      },
      {
        "duration": 60,
        "start_time": "2023-06-15T12:56:09.817Z"
      },
      {
        "duration": 33,
        "start_time": "2023-06-15T12:56:19.552Z"
      },
      {
        "duration": 69,
        "start_time": "2023-06-15T12:56:59.302Z"
      },
      {
        "duration": 3,
        "start_time": "2023-06-15T12:57:48.723Z"
      },
      {
        "duration": 13,
        "start_time": "2023-06-15T12:59:03.659Z"
      },
      {
        "duration": 27,
        "start_time": "2023-06-15T13:00:04.936Z"
      },
      {
        "duration": 46,
        "start_time": "2023-06-15T13:01:49.099Z"
      },
      {
        "duration": 22,
        "start_time": "2023-06-15T13:03:35.498Z"
      },
      {
        "duration": 16,
        "start_time": "2023-06-15T13:04:05.511Z"
      },
      {
        "duration": 65,
        "start_time": "2023-06-15T13:04:39.274Z"
      },
      {
        "duration": 70,
        "start_time": "2023-06-15T13:05:33.326Z"
      },
      {
        "duration": 17,
        "start_time": "2023-06-15T13:05:44.079Z"
      },
      {
        "duration": 15,
        "start_time": "2023-06-15T13:06:13.335Z"
      },
      {
        "duration": 16,
        "start_time": "2023-06-15T13:09:22.731Z"
      },
      {
        "duration": 15,
        "start_time": "2023-06-15T13:09:51.737Z"
      },
      {
        "duration": 26,
        "start_time": "2023-06-15T13:11:25.999Z"
      },
      {
        "duration": 34,
        "start_time": "2023-06-15T13:11:43.643Z"
      },
      {
        "duration": 26,
        "start_time": "2023-06-15T13:12:21.316Z"
      },
      {
        "duration": 198,
        "start_time": "2023-06-15T13:12:39.877Z"
      },
      {
        "duration": 99,
        "start_time": "2023-06-15T13:12:48.244Z"
      },
      {
        "duration": 124,
        "start_time": "2023-06-15T13:12:52.704Z"
      },
      {
        "duration": 28,
        "start_time": "2023-06-15T13:12:57.912Z"
      },
      {
        "duration": 13,
        "start_time": "2023-06-15T13:13:14.253Z"
      },
      {
        "duration": 21,
        "start_time": "2023-06-15T13:14:08.477Z"
      },
      {
        "duration": 88,
        "start_time": "2023-06-15T13:14:36.621Z"
      },
      {
        "duration": 23,
        "start_time": "2023-06-15T13:15:02.419Z"
      },
      {
        "duration": 106,
        "start_time": "2023-06-15T13:15:11.207Z"
      },
      {
        "duration": 15,
        "start_time": "2023-06-15T13:15:23.876Z"
      },
      {
        "duration": 107,
        "start_time": "2023-06-15T13:15:54.237Z"
      },
      {
        "duration": 21,
        "start_time": "2023-06-15T13:15:58.980Z"
      },
      {
        "duration": 15,
        "start_time": "2023-06-15T13:17:07.619Z"
      },
      {
        "duration": 67,
        "start_time": "2023-06-15T13:17:35.211Z"
      },
      {
        "duration": 14,
        "start_time": "2023-06-15T13:17:54.259Z"
      },
      {
        "duration": 24,
        "start_time": "2023-06-15T13:18:10.671Z"
      },
      {
        "duration": 86,
        "start_time": "2023-06-15T13:18:34.568Z"
      },
      {
        "duration": 15,
        "start_time": "2023-06-15T13:18:54.207Z"
      },
      {
        "duration": 13,
        "start_time": "2023-06-15T13:19:18.627Z"
      },
      {
        "duration": 12,
        "start_time": "2023-06-15T13:19:23.950Z"
      },
      {
        "duration": 13311,
        "start_time": "2023-06-15T14:10:33.028Z"
      },
      {
        "duration": 66,
        "start_time": "2023-06-15T14:10:46.342Z"
      },
      {
        "duration": 53,
        "start_time": "2023-06-15T14:10:46.413Z"
      },
      {
        "duration": 20,
        "start_time": "2023-06-15T14:10:46.467Z"
      },
      {
        "duration": 24,
        "start_time": "2023-06-15T14:10:46.489Z"
      },
      {
        "duration": 32,
        "start_time": "2023-06-15T14:10:46.515Z"
      },
      {
        "duration": 13,
        "start_time": "2023-06-15T14:10:46.550Z"
      },
      {
        "duration": 16,
        "start_time": "2023-06-15T14:10:46.565Z"
      },
      {
        "duration": 14,
        "start_time": "2023-06-15T14:10:46.583Z"
      },
      {
        "duration": 11,
        "start_time": "2023-06-15T14:11:20.639Z"
      },
      {
        "duration": 12,
        "start_time": "2023-06-15T14:11:22.498Z"
      },
      {
        "duration": 12,
        "start_time": "2023-06-15T14:11:57.707Z"
      },
      {
        "duration": 12,
        "start_time": "2023-06-15T14:12:21.802Z"
      },
      {
        "duration": 53,
        "start_time": "2023-06-16T08:14:24.772Z"
      },
      {
        "duration": 16541,
        "start_time": "2023-06-16T08:14:31.906Z"
      },
      {
        "duration": 284,
        "start_time": "2023-06-16T08:14:48.449Z"
      },
      {
        "duration": 382,
        "start_time": "2023-06-16T08:14:48.737Z"
      },
      {
        "duration": 81,
        "start_time": "2023-06-16T08:14:49.130Z"
      },
      {
        "duration": 77,
        "start_time": "2023-06-16T08:14:49.213Z"
      },
      {
        "duration": 119,
        "start_time": "2023-06-16T08:14:49.291Z"
      },
      {
        "duration": 83,
        "start_time": "2023-06-16T08:14:49.412Z"
      },
      {
        "duration": 84,
        "start_time": "2023-06-16T08:14:49.497Z"
      },
      {
        "duration": 76,
        "start_time": "2023-06-16T08:14:49.583Z"
      },
      {
        "duration": 293,
        "start_time": "2023-06-16T08:26:45.821Z"
      },
      {
        "duration": 195,
        "start_time": "2023-06-16T08:27:15.610Z"
      },
      {
        "duration": 11348,
        "start_time": "2023-06-16T08:27:30.641Z"
      },
      {
        "duration": 267,
        "start_time": "2023-06-16T08:27:41.991Z"
      },
      {
        "duration": 355,
        "start_time": "2023-06-16T08:27:42.260Z"
      },
      {
        "duration": 79,
        "start_time": "2023-06-16T08:27:42.617Z"
      },
      {
        "duration": 73,
        "start_time": "2023-06-16T08:27:42.697Z"
      },
      {
        "duration": 104,
        "start_time": "2023-06-16T08:27:42.772Z"
      },
      {
        "duration": 73,
        "start_time": "2023-06-16T08:27:42.877Z"
      },
      {
        "duration": 79,
        "start_time": "2023-06-16T08:27:42.951Z"
      },
      {
        "duration": 238,
        "start_time": "2023-06-16T08:27:43.031Z"
      },
      {
        "duration": 75,
        "start_time": "2023-06-16T08:28:08.063Z"
      },
      {
        "duration": 248,
        "start_time": "2023-06-16T08:28:56.606Z"
      },
      {
        "duration": 167,
        "start_time": "2023-06-16T08:29:03.794Z"
      },
      {
        "duration": 76,
        "start_time": "2023-06-16T08:29:28.018Z"
      },
      {
        "duration": 329,
        "start_time": "2023-06-16T08:30:47.983Z"
      },
      {
        "duration": 76,
        "start_time": "2023-06-16T08:31:08.166Z"
      },
      {
        "duration": 75,
        "start_time": "2023-06-16T08:31:23.393Z"
      },
      {
        "duration": 181,
        "start_time": "2023-06-16T08:32:02.160Z"
      },
      {
        "duration": 202,
        "start_time": "2023-06-16T08:32:22.472Z"
      },
      {
        "duration": 163,
        "start_time": "2023-06-16T08:32:31.760Z"
      },
      {
        "duration": 181,
        "start_time": "2023-06-16T08:32:48.099Z"
      },
      {
        "duration": 340,
        "start_time": "2023-06-16T08:33:06.515Z"
      },
      {
        "duration": 77,
        "start_time": "2023-06-16T08:33:13.854Z"
      },
      {
        "duration": 88,
        "start_time": "2023-06-16T08:33:25.117Z"
      },
      {
        "duration": 194,
        "start_time": "2023-06-16T08:33:32.074Z"
      },
      {
        "duration": 77,
        "start_time": "2023-06-16T08:33:52.098Z"
      },
      {
        "duration": 75,
        "start_time": "2023-06-16T08:33:57.605Z"
      },
      {
        "duration": 158,
        "start_time": "2023-06-16T08:35:53.986Z"
      },
      {
        "duration": 78,
        "start_time": "2023-06-16T08:36:19.286Z"
      },
      {
        "duration": 176,
        "start_time": "2023-06-16T08:37:46.761Z"
      },
      {
        "duration": 440,
        "start_time": "2023-06-16T08:37:49.656Z"
      },
      {
        "duration": 77,
        "start_time": "2023-06-16T08:37:53.228Z"
      },
      {
        "duration": 89,
        "start_time": "2023-06-16T08:41:42.839Z"
      },
      {
        "duration": 171,
        "start_time": "2023-06-16T08:46:57.051Z"
      },
      {
        "duration": 204,
        "start_time": "2023-06-16T08:47:07.382Z"
      },
      {
        "duration": 72,
        "start_time": "2023-06-16T08:47:13.989Z"
      },
      {
        "duration": 204,
        "start_time": "2023-06-16T08:47:29.963Z"
      },
      {
        "duration": 72,
        "start_time": "2023-06-16T08:47:41.008Z"
      },
      {
        "duration": 49,
        "start_time": "2023-06-16T12:26:10.490Z"
      },
      {
        "duration": 8322,
        "start_time": "2023-06-16T12:26:17.809Z"
      },
      {
        "duration": 68,
        "start_time": "2023-06-16T12:26:26.133Z"
      },
      {
        "duration": 45,
        "start_time": "2023-06-16T12:26:26.202Z"
      },
      {
        "duration": 19,
        "start_time": "2023-06-16T12:26:26.250Z"
      },
      {
        "duration": 10,
        "start_time": "2023-06-16T12:26:26.270Z"
      },
      {
        "duration": 22,
        "start_time": "2023-06-16T12:26:26.281Z"
      },
      {
        "duration": 12,
        "start_time": "2023-06-16T12:26:26.305Z"
      },
      {
        "duration": 14,
        "start_time": "2023-06-16T12:26:26.318Z"
      },
      {
        "duration": 178,
        "start_time": "2023-06-16T12:26:26.333Z"
      },
      {
        "duration": 14,
        "start_time": "2023-06-16T12:26:44.591Z"
      },
      {
        "duration": 14,
        "start_time": "2023-06-16T12:26:51.870Z"
      },
      {
        "duration": 19,
        "start_time": "2023-06-16T12:27:10.992Z"
      },
      {
        "duration": 16,
        "start_time": "2023-06-16T12:27:14.408Z"
      },
      {
        "duration": 13,
        "start_time": "2023-06-16T12:28:31.501Z"
      },
      {
        "duration": 14,
        "start_time": "2023-06-16T12:28:40.676Z"
      },
      {
        "duration": 17,
        "start_time": "2023-06-16T12:28:44.045Z"
      },
      {
        "duration": 14,
        "start_time": "2023-06-16T12:28:49.962Z"
      },
      {
        "duration": 15,
        "start_time": "2023-06-16T12:28:57.976Z"
      },
      {
        "duration": 94,
        "start_time": "2023-06-16T12:29:43.765Z"
      },
      {
        "duration": 13,
        "start_time": "2023-06-16T12:29:49.661Z"
      },
      {
        "duration": 14,
        "start_time": "2023-06-16T12:29:57.494Z"
      },
      {
        "duration": 106,
        "start_time": "2023-06-16T12:31:57.992Z"
      },
      {
        "duration": 13,
        "start_time": "2023-06-16T12:32:06.098Z"
      },
      {
        "duration": 16,
        "start_time": "2023-06-16T12:32:22.256Z"
      },
      {
        "duration": 105,
        "start_time": "2023-06-16T12:33:32.194Z"
      },
      {
        "duration": 90,
        "start_time": "2023-06-16T12:33:42.024Z"
      },
      {
        "duration": 109,
        "start_time": "2023-06-16T12:33:51.095Z"
      },
      {
        "duration": 11,
        "start_time": "2023-06-16T12:34:01.143Z"
      },
      {
        "duration": 13,
        "start_time": "2023-06-16T12:34:18.319Z"
      },
      {
        "duration": 13,
        "start_time": "2023-06-16T12:34:55.689Z"
      },
      {
        "duration": 14,
        "start_time": "2023-06-16T12:36:01.797Z"
      },
      {
        "duration": 13,
        "start_time": "2023-06-16T12:36:04.621Z"
      },
      {
        "duration": 102,
        "start_time": "2023-06-16T12:36:35.934Z"
      },
      {
        "duration": 15,
        "start_time": "2023-06-16T12:37:06.604Z"
      },
      {
        "duration": 17,
        "start_time": "2023-06-16T12:37:34.419Z"
      },
      {
        "duration": 15,
        "start_time": "2023-06-16T12:37:57.626Z"
      },
      {
        "duration": 13,
        "start_time": "2023-06-16T12:39:58.940Z"
      },
      {
        "duration": 13,
        "start_time": "2023-06-16T12:44:57.662Z"
      },
      {
        "duration": 20,
        "start_time": "2023-06-16T12:45:39.412Z"
      },
      {
        "duration": 14,
        "start_time": "2023-06-16T12:45:53.849Z"
      },
      {
        "duration": 15,
        "start_time": "2023-06-16T12:45:57.853Z"
      },
      {
        "duration": 13,
        "start_time": "2023-06-16T12:46:04.371Z"
      },
      {
        "duration": 14,
        "start_time": "2023-06-16T12:46:08.922Z"
      },
      {
        "duration": 14,
        "start_time": "2023-06-16T12:46:23.702Z"
      },
      {
        "duration": 17,
        "start_time": "2023-06-16T12:47:12.274Z"
      },
      {
        "duration": 14,
        "start_time": "2023-06-16T12:47:30.807Z"
      },
      {
        "duration": 14,
        "start_time": "2023-06-16T12:47:39.231Z"
      },
      {
        "duration": 108,
        "start_time": "2023-06-16T12:47:46.665Z"
      },
      {
        "duration": 14,
        "start_time": "2023-06-16T12:48:08.115Z"
      },
      {
        "duration": 17,
        "start_time": "2023-06-16T12:48:17.002Z"
      },
      {
        "duration": 13,
        "start_time": "2023-06-16T12:48:24.252Z"
      },
      {
        "duration": 17,
        "start_time": "2023-06-16T12:48:29.339Z"
      },
      {
        "duration": 14,
        "start_time": "2023-06-16T12:48:45.231Z"
      },
      {
        "duration": 88,
        "start_time": "2023-06-16T12:49:19.796Z"
      },
      {
        "duration": 13,
        "start_time": "2023-06-16T12:49:41.107Z"
      },
      {
        "duration": 13,
        "start_time": "2023-06-16T12:50:26.284Z"
      },
      {
        "duration": 13,
        "start_time": "2023-06-16T12:50:29.911Z"
      },
      {
        "duration": 86,
        "start_time": "2023-06-16T12:53:11.304Z"
      },
      {
        "duration": 87,
        "start_time": "2023-06-16T12:53:17.193Z"
      },
      {
        "duration": 99,
        "start_time": "2023-06-16T12:53:46.746Z"
      },
      {
        "duration": 15,
        "start_time": "2023-06-16T12:54:02.019Z"
      },
      {
        "duration": 86,
        "start_time": "2023-06-16T12:54:15.556Z"
      },
      {
        "duration": 23,
        "start_time": "2023-06-16T12:54:29.186Z"
      },
      {
        "duration": 503,
        "start_time": "2023-06-16T12:54:57.430Z"
      },
      {
        "duration": 14,
        "start_time": "2023-06-16T12:55:05.666Z"
      },
      {
        "duration": 82,
        "start_time": "2023-06-16T12:55:13.562Z"
      },
      {
        "duration": 13,
        "start_time": "2023-06-16T12:56:06.671Z"
      }
    ],
    "kernelspec": {
      "display_name": "Python 3 (ipykernel)",
      "language": "python",
      "name": "python3"
    },
    "language_info": {
      "codemirror_mode": {
        "name": "ipython",
        "version": 3
      },
      "file_extension": ".py",
      "mimetype": "text/x-python",
      "name": "python",
      "nbconvert_exporter": "python",
      "pygments_lexer": "ipython3",
      "version": "3.9.5"
    },
    "toc": {
      "base_numbering": 1,
      "nav_menu": {},
      "number_sections": true,
      "sideBar": true,
      "skip_h1_title": true,
      "title_cell": "Table of Contents",
      "title_sidebar": "Contents",
      "toc_cell": false,
      "toc_position": {
        "height": "calc(100% - 180px)",
        "left": "10px",
        "top": "150px",
        "width": "165px"
      },
      "toc_section_display": true,
      "toc_window_display": true
    },
    "colab": {
      "provenance": []
    }
  },
  "nbformat": 4,
  "nbformat_minor": 0
}