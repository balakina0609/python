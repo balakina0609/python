{
  "cells": [
    {
      "cell_type": "markdown",
      "metadata": {
        "id": "MpFtURZCDYMd"
      },
      "source": [
        "# A/А/B тест\n"
      ]
    },
    {
      "cell_type": "markdown",
      "metadata": {
        "id": "xnpsRCrKDYMe"
      },
      "source": [
        "**Описание проекта**\n",
        "\n",
        "Вы работаете в стартапе, который продаёт продукты питания. Нужно разобраться, как ведут себя пользователи вашего мобильного приложения.\n",
        "\n",
        "\n",
        "- Изучите воронку продаж. Узнайте, как пользователи доходят до покупки. Сколько пользователей доходит до покупки, а сколько — «застревает» на предыдущих шагах? На каких именно?\n",
        "\n",
        "\n",
        "- После этого исследуйте результаты A/A/B-эксперимента. Дизайнеры захотели поменять шрифты во всём приложении, а менеджеры испугались, что пользователям будет непривычно. Договорились принять решение по результатам A/A/B-теста. Пользователей разбили на 3 группы: 2 контрольные со старыми шрифтами и одну экспериментальную — с новыми. Выясните, какой шрифт лучше.\n",
        "\n",
        "\n",
        "- Создание двух групп A вместо одной имеет определённые преимущества. Если две контрольные группы окажутся равны, вы можете быть уверены в точности проведенного тестирования. Если же между значениями A и A будут существенные различия, это поможет обнаружить факторы, которые привели к искажению результатов. Сравнение контрольных групп также помогает понять, сколько времени и данных потребуется для дальнейших тестов.\n",
        "\n",
        "\n",
        "- В случае общей аналитики и A/A/B-эксперимента работайте с одними и теми же данными. В реальных проектах всегда идут эксперименты. Аналитики исследуют качество работы приложения по общим данным, не учитывая принадлежность пользователей к экспериментам."
      ]
    },
    {
      "cell_type": "markdown",
      "metadata": {
        "id": "ow_FqfRNDYMg"
      },
      "source": [
        "## Описание данных\n",
        "Каждая запись в логе — это действие пользователя, или событие.\n",
        "\n",
        "\n",
        "EventName — название события;\n",
        "\n",
        "\n",
        "DeviceIDHash — уникальный идентификатор пользователя;\n",
        "\n",
        "\n",
        "EventTimestamp — время события;\n",
        "\n",
        "\n",
        "ExpId — номер эксперимента: 246 и 247 — контрольные группы, а 248 — экспериментальная."
      ]
    },
    {
      "cell_type": "code",
      "execution_count": null,
      "metadata": {
        "id": "_wuSN8gxDYMl"
      },
      "outputs": [],
      "source": [
        "import pandas as pd\n",
        "import scipy.stats as stats\n",
        "import datetime as dt\n",
        "import numpy as np\n",
        "import matplotlib.pyplot as plt\n",
        "from scipy import stats as st\n",
        "import math as mth\n",
        "import requests\n",
        "from urllib.parse import urlencode\n",
        "import seaborn as sns"
      ]
    },
    {
      "cell_type": "code",
      "execution_count": null,
      "metadata": {
        "id": "n4qHPirwDYMp",
        "outputId": "32760b96-cefe-429f-ed16-eb7b19165f04"
      },
      "outputs": [
        {
          "data": {
            "text/html": [
              "<div>\n",
              "<style scoped>\n",
              "    .dataframe tbody tr th:only-of-type {\n",
              "        vertical-align: middle;\n",
              "    }\n",
              "\n",
              "    .dataframe tbody tr th {\n",
              "        vertical-align: top;\n",
              "    }\n",
              "\n",
              "    .dataframe thead th {\n",
              "        text-align: right;\n",
              "    }\n",
              "</style>\n",
              "<table border=\"1\" class=\"dataframe\">\n",
              "  <thead>\n",
              "    <tr style=\"text-align: right;\">\n",
              "      <th></th>\n",
              "      <th>EventName</th>\n",
              "      <th>DeviceIDHash</th>\n",
              "      <th>EventTimestamp</th>\n",
              "      <th>ExpId</th>\n",
              "    </tr>\n",
              "  </thead>\n",
              "  <tbody>\n",
              "    <tr>\n",
              "      <th>0</th>\n",
              "      <td>MainScreenAppear</td>\n",
              "      <td>4575588528974610257</td>\n",
              "      <td>1564029816</td>\n",
              "      <td>246</td>\n",
              "    </tr>\n",
              "    <tr>\n",
              "      <th>1</th>\n",
              "      <td>MainScreenAppear</td>\n",
              "      <td>7416695313311560658</td>\n",
              "      <td>1564053102</td>\n",
              "      <td>246</td>\n",
              "    </tr>\n",
              "    <tr>\n",
              "      <th>2</th>\n",
              "      <td>PaymentScreenSuccessful</td>\n",
              "      <td>3518123091307005509</td>\n",
              "      <td>1564054127</td>\n",
              "      <td>248</td>\n",
              "    </tr>\n",
              "    <tr>\n",
              "      <th>3</th>\n",
              "      <td>CartScreenAppear</td>\n",
              "      <td>3518123091307005509</td>\n",
              "      <td>1564054127</td>\n",
              "      <td>248</td>\n",
              "    </tr>\n",
              "    <tr>\n",
              "      <th>4</th>\n",
              "      <td>PaymentScreenSuccessful</td>\n",
              "      <td>6217807653094995999</td>\n",
              "      <td>1564055322</td>\n",
              "      <td>248</td>\n",
              "    </tr>\n",
              "  </tbody>\n",
              "</table>\n",
              "</div>"
            ],
            "text/plain": [
              "                 EventName         DeviceIDHash  EventTimestamp  ExpId\n",
              "0         MainScreenAppear  4575588528974610257      1564029816    246\n",
              "1         MainScreenAppear  7416695313311560658      1564053102    246\n",
              "2  PaymentScreenSuccessful  3518123091307005509      1564054127    248\n",
              "3         CartScreenAppear  3518123091307005509      1564054127    248\n",
              "4  PaymentScreenSuccessful  6217807653094995999      1564055322    248"
            ]
          },
          "execution_count": 2,
          "metadata": {},
          "output_type": "execute_result"
        }
      ],
      "source": [
        "try:\n",
        "    df = pd.read_csv('/datasets/logs_exp.csv', sep = '\\t')\n",
        "except:\n",
        "    df = pd.read_csv('/Users/Amigos/Downloads/logs_exp.csv', sep = '\\t')\n",
        "df.head()"
      ]
    },
    {
      "cell_type": "code",
      "execution_count": null,
      "metadata": {
        "id": "h7SxftpLDYMv",
        "outputId": "6d65ecb8-b71b-4620-d30f-a9907d1d916f"
      },
      "outputs": [
        {
          "data": {
            "text/html": [
              "<div>\n",
              "<style scoped>\n",
              "    .dataframe tbody tr th:only-of-type {\n",
              "        vertical-align: middle;\n",
              "    }\n",
              "\n",
              "    .dataframe tbody tr th {\n",
              "        vertical-align: top;\n",
              "    }\n",
              "\n",
              "    .dataframe thead th {\n",
              "        text-align: right;\n",
              "    }\n",
              "</style>\n",
              "<table border=\"1\" class=\"dataframe\">\n",
              "  <thead>\n",
              "    <tr style=\"text-align: right;\">\n",
              "      <th></th>\n",
              "      <th>event</th>\n",
              "      <th>user</th>\n",
              "      <th>dt</th>\n",
              "      <th>group</th>\n",
              "    </tr>\n",
              "  </thead>\n",
              "  <tbody>\n",
              "    <tr>\n",
              "      <th>0</th>\n",
              "      <td>MainScreenAppear</td>\n",
              "      <td>4575588528974610257</td>\n",
              "      <td>1564029816</td>\n",
              "      <td>246</td>\n",
              "    </tr>\n",
              "    <tr>\n",
              "      <th>1</th>\n",
              "      <td>MainScreenAppear</td>\n",
              "      <td>7416695313311560658</td>\n",
              "      <td>1564053102</td>\n",
              "      <td>246</td>\n",
              "    </tr>\n",
              "    <tr>\n",
              "      <th>2</th>\n",
              "      <td>PaymentScreenSuccessful</td>\n",
              "      <td>3518123091307005509</td>\n",
              "      <td>1564054127</td>\n",
              "      <td>248</td>\n",
              "    </tr>\n",
              "    <tr>\n",
              "      <th>3</th>\n",
              "      <td>CartScreenAppear</td>\n",
              "      <td>3518123091307005509</td>\n",
              "      <td>1564054127</td>\n",
              "      <td>248</td>\n",
              "    </tr>\n",
              "    <tr>\n",
              "      <th>4</th>\n",
              "      <td>PaymentScreenSuccessful</td>\n",
              "      <td>6217807653094995999</td>\n",
              "      <td>1564055322</td>\n",
              "      <td>248</td>\n",
              "    </tr>\n",
              "  </tbody>\n",
              "</table>\n",
              "</div>"
            ],
            "text/plain": [
              "                     event                 user          dt  group\n",
              "0         MainScreenAppear  4575588528974610257  1564029816    246\n",
              "1         MainScreenAppear  7416695313311560658  1564053102    246\n",
              "2  PaymentScreenSuccessful  3518123091307005509  1564054127    248\n",
              "3         CartScreenAppear  3518123091307005509  1564054127    248\n",
              "4  PaymentScreenSuccessful  6217807653094995999  1564055322    248"
            ]
          },
          "execution_count": 3,
          "metadata": {},
          "output_type": "execute_result"
        }
      ],
      "source": [
        "df.columns = ['event', 'user', 'dt', 'group']\n",
        "df.head()"
      ]
    },
    {
      "cell_type": "code",
      "execution_count": null,
      "metadata": {
        "id": "NxmT3KxPDYMw",
        "outputId": "88a648de-b3db-454b-89b9-48db8c6c9ca1"
      },
      "outputs": [
        {
          "name": "stdout",
          "output_type": "stream",
          "text": [
            "<class 'pandas.core.frame.DataFrame'>\n",
            "RangeIndex: 244126 entries, 0 to 244125\n",
            "Data columns (total 4 columns):\n",
            " #   Column  Non-Null Count   Dtype \n",
            "---  ------  --------------   ----- \n",
            " 0   event   244126 non-null  object\n",
            " 1   user    244126 non-null  int64 \n",
            " 2   dt      244126 non-null  int64 \n",
            " 3   group   244126 non-null  int64 \n",
            "dtypes: int64(3), object(1)\n",
            "memory usage: 7.5+ MB\n"
          ]
        }
      ],
      "source": [
        "df.info()"
      ]
    },
    {
      "cell_type": "code",
      "execution_count": null,
      "metadata": {
        "id": "Jf6badBCDYMx",
        "outputId": "75af9b32-45fa-4e60-9aa5-5753ff6a86f7"
      },
      "outputs": [
        {
          "data": {
            "text/plain": [
              "event    0\n",
              "user     0\n",
              "dt       0\n",
              "group    0\n",
              "dtype: int64"
            ]
          },
          "execution_count": 5,
          "metadata": {},
          "output_type": "execute_result"
        }
      ],
      "source": [
        "df.isna().sum()"
      ]
    },
    {
      "cell_type": "code",
      "execution_count": null,
      "metadata": {
        "id": "j8ZRI-hKDYMx",
        "outputId": "4efc9d8f-c0bd-4fff-be48-cccdc8c3da5b"
      },
      "outputs": [
        {
          "data": {
            "text/plain": [
              "413"
            ]
          },
          "execution_count": 6,
          "metadata": {},
          "output_type": "execute_result"
        }
      ],
      "source": [
        "df.duplicated().sum()"
      ]
    },
    {
      "cell_type": "code",
      "execution_count": null,
      "metadata": {
        "id": "b8ziwdQTDYMy",
        "outputId": "33368619-ada0-4d2c-e9ec-407286ca170e"
      },
      "outputs": [
        {
          "data": {
            "text/plain": [
              "0"
            ]
          },
          "execution_count": 7,
          "metadata": {},
          "output_type": "execute_result"
        }
      ],
      "source": [
        "df = df.drop_duplicates().reset_index(drop=True)\n",
        "df.duplicated().sum()"
      ]
    },
    {
      "cell_type": "code",
      "execution_count": null,
      "metadata": {
        "id": "5g260y0YDYMz",
        "outputId": "b2735d27-0ff2-4cac-d587-d992bc878f46"
      },
      "outputs": [
        {
          "data": {
            "text/html": [
              "<div>\n",
              "<style scoped>\n",
              "    .dataframe tbody tr th:only-of-type {\n",
              "        vertical-align: middle;\n",
              "    }\n",
              "\n",
              "    .dataframe tbody tr th {\n",
              "        vertical-align: top;\n",
              "    }\n",
              "\n",
              "    .dataframe thead th {\n",
              "        text-align: right;\n",
              "    }\n",
              "</style>\n",
              "<table border=\"1\" class=\"dataframe\">\n",
              "  <thead>\n",
              "    <tr style=\"text-align: right;\">\n",
              "      <th></th>\n",
              "      <th>event</th>\n",
              "      <th>user</th>\n",
              "      <th>dt</th>\n",
              "      <th>group</th>\n",
              "      <th>event_date</th>\n",
              "      <th>month</th>\n",
              "      <th>weekday</th>\n",
              "      <th>date</th>\n",
              "      <th>time</th>\n",
              "    </tr>\n",
              "  </thead>\n",
              "  <tbody>\n",
              "    <tr>\n",
              "      <th>0</th>\n",
              "      <td>MainScreenAppear</td>\n",
              "      <td>4575588528974610257</td>\n",
              "      <td>1564029816</td>\n",
              "      <td>246</td>\n",
              "      <td>2019-07-25 04:43:36</td>\n",
              "      <td>7</td>\n",
              "      <td>3</td>\n",
              "      <td>2019-07-25</td>\n",
              "      <td>04:43:36</td>\n",
              "    </tr>\n",
              "    <tr>\n",
              "      <th>1</th>\n",
              "      <td>MainScreenAppear</td>\n",
              "      <td>7416695313311560658</td>\n",
              "      <td>1564053102</td>\n",
              "      <td>246</td>\n",
              "      <td>2019-07-25 11:11:42</td>\n",
              "      <td>7</td>\n",
              "      <td>3</td>\n",
              "      <td>2019-07-25</td>\n",
              "      <td>11:11:42</td>\n",
              "    </tr>\n",
              "    <tr>\n",
              "      <th>2</th>\n",
              "      <td>PaymentScreenSuccessful</td>\n",
              "      <td>3518123091307005509</td>\n",
              "      <td>1564054127</td>\n",
              "      <td>248</td>\n",
              "      <td>2019-07-25 11:28:47</td>\n",
              "      <td>7</td>\n",
              "      <td>3</td>\n",
              "      <td>2019-07-25</td>\n",
              "      <td>11:28:47</td>\n",
              "    </tr>\n",
              "    <tr>\n",
              "      <th>3</th>\n",
              "      <td>CartScreenAppear</td>\n",
              "      <td>3518123091307005509</td>\n",
              "      <td>1564054127</td>\n",
              "      <td>248</td>\n",
              "      <td>2019-07-25 11:28:47</td>\n",
              "      <td>7</td>\n",
              "      <td>3</td>\n",
              "      <td>2019-07-25</td>\n",
              "      <td>11:28:47</td>\n",
              "    </tr>\n",
              "    <tr>\n",
              "      <th>4</th>\n",
              "      <td>PaymentScreenSuccessful</td>\n",
              "      <td>6217807653094995999</td>\n",
              "      <td>1564055322</td>\n",
              "      <td>248</td>\n",
              "      <td>2019-07-25 11:48:42</td>\n",
              "      <td>7</td>\n",
              "      <td>3</td>\n",
              "      <td>2019-07-25</td>\n",
              "      <td>11:48:42</td>\n",
              "    </tr>\n",
              "  </tbody>\n",
              "</table>\n",
              "</div>"
            ],
            "text/plain": [
              "                     event                 user          dt  group  \\\n",
              "0         MainScreenAppear  4575588528974610257  1564029816    246   \n",
              "1         MainScreenAppear  7416695313311560658  1564053102    246   \n",
              "2  PaymentScreenSuccessful  3518123091307005509  1564054127    248   \n",
              "3         CartScreenAppear  3518123091307005509  1564054127    248   \n",
              "4  PaymentScreenSuccessful  6217807653094995999  1564055322    248   \n",
              "\n",
              "           event_date  month  weekday        date      time  \n",
              "0 2019-07-25 04:43:36      7        3  2019-07-25  04:43:36  \n",
              "1 2019-07-25 11:11:42      7        3  2019-07-25  11:11:42  \n",
              "2 2019-07-25 11:28:47      7        3  2019-07-25  11:28:47  \n",
              "3 2019-07-25 11:28:47      7        3  2019-07-25  11:28:47  \n",
              "4 2019-07-25 11:48:42      7        3  2019-07-25  11:48:42  "
            ]
          },
          "execution_count": 8,
          "metadata": {},
          "output_type": "execute_result"
        }
      ],
      "source": [
        "df['event_date'] = pd.to_datetime(df['dt'], unit='s')\n",
        "df['month'] = df['event_date'].dt.month\n",
        "df['weekday'] = df['event_date'].dt.weekday\n",
        "df['date'] = pd.to_datetime(df['event_date']).dt.date\n",
        "df['time'] = df['event_date'].dt.time\n",
        "df.head()"
      ]
    },
    {
      "cell_type": "markdown",
      "metadata": {
        "id": "6IDt4-WIDYM0"
      },
      "source": [
        "**Вывод**\n",
        "\n",
        "- пропусков нет\n",
        "- удалены 413 дубликатов\n",
        "- столбцы переименованы\n",
        "- добавлены столбцы с датой и временем\n"
      ]
    },
    {
      "cell_type": "code",
      "execution_count": null,
      "metadata": {
        "id": "iaeo3KdsDYM2",
        "outputId": "2425be02-a88f-4d5e-9e53-be5648c4b3fa"
      },
      "outputs": [
        {
          "data": {
            "text/plain": [
              "243713"
            ]
          },
          "execution_count": 9,
          "metadata": {},
          "output_type": "execute_result"
        }
      ],
      "source": [
        "#Сколько всего событий в логе?\n",
        "count_sessions = df['event'].count()\n",
        "count_sessions"
      ]
    },
    {
      "cell_type": "code",
      "execution_count": null,
      "metadata": {
        "id": "QEfRrw7lDYM3",
        "outputId": "d07a0880-333c-4d01-e753-05b85b733b7d"
      },
      "outputs": [
        {
          "name": "stdout",
          "output_type": "stream",
          "text": [
            "Общее количество событий в логе равно: 243713\n"
          ]
        }
      ],
      "source": [
        "print('Общее количество событий в логе равно:', count_sessions)"
      ]
    },
    {
      "cell_type": "code",
      "execution_count": null,
      "metadata": {
        "id": "ZHgz-2aSDYM4",
        "outputId": "8f16f01f-e9c0-4343-c380-28fed34f39df"
      },
      "outputs": [
        {
          "data": {
            "text/plain": [
              "7551"
            ]
          },
          "execution_count": 11,
          "metadata": {},
          "output_type": "execute_result"
        }
      ],
      "source": [
        "#Сколько всего пользователей в логе?\n",
        "count_users = df['user'].nunique()\n",
        "count_users"
      ]
    },
    {
      "cell_type": "code",
      "execution_count": null,
      "metadata": {
        "id": "IAOMlxQQDYM5",
        "outputId": "9514c8d8-2383-4480-e497-bf090d87c325"
      },
      "outputs": [
        {
          "name": "stdout",
          "output_type": "stream",
          "text": [
            "Общее количество пользователей равно: 7551\n"
          ]
        }
      ],
      "source": [
        "print('Общее количество пользователей равно:', count_users)"
      ]
    },
    {
      "cell_type": "code",
      "execution_count": null,
      "metadata": {
        "id": "z_BO3NCSDYM6",
        "outputId": "dda075de-b0e2-4b8d-fee9-c4f697c1c3e3"
      },
      "outputs": [
        {
          "data": {
            "text/plain": [
              "32"
            ]
          },
          "execution_count": 13,
          "metadata": {},
          "output_type": "execute_result"
        }
      ],
      "source": [
        "#Сколько в среднем событий приходится на пользователя?\n",
        "mean_sessions = round(count_sessions/count_users)\n",
        "mean_sessions"
      ]
    },
    {
      "cell_type": "code",
      "execution_count": null,
      "metadata": {
        "id": "AJv3olZZDYM7",
        "outputId": "58a98121-b5e2-4b82-eadc-7d8fbc97db4e"
      },
      "outputs": [
        {
          "name": "stdout",
          "output_type": "stream",
          "text": [
            "Среднее количество событий на одного пользователя равно: 32\n"
          ]
        }
      ],
      "source": [
        "print('Среднее количество событий на одного пользователя равно:',mean_sessions)"
      ]
    },
    {
      "cell_type": "code",
      "execution_count": null,
      "metadata": {
        "scrolled": true,
        "id": "L69D3Sv2DYM7",
        "outputId": "5a60bb74-d9ef-4e45-acb9-e5c6ca64dc6b"
      },
      "outputs": [
        {
          "data": {
            "text/plain": [
              "max    2019-08-07\n",
              "min    2019-07-25\n",
              "Name: date, dtype: object"
            ]
          },
          "execution_count": 15,
          "metadata": {},
          "output_type": "execute_result"
        }
      ],
      "source": [
        "#Найдите минимальную дату и максимальную дату\n",
        "df['date'].agg({'min', 'max'})"
      ]
    },
    {
      "cell_type": "code",
      "execution_count": null,
      "metadata": {
        "id": "f_b8NqPPDYM8",
        "outputId": "0ff2f514-ff18-45bd-bfdf-afeb4da739c8"
      },
      "outputs": [
        {
          "name": "stdout",
          "output_type": "stream",
          "text": [
            "Минимальная дата: 2019-07-25 04:43:36\n",
            "Максимальная дата: 2019-08-07 21:15:17\n",
            "Количество дней между датами: 13 days 16:31:41\n"
          ]
        }
      ],
      "source": [
        "print('Минимальная дата:', df['event_date'].min())\n",
        "print('Максимальная дата:', df['event_date'].max())\n",
        "print('Количество дней между датами:', df['event_date'].max() - df['event_date'].min())"
      ]
    },
    {
      "cell_type": "code",
      "execution_count": null,
      "metadata": {
        "id": "CbZX4NVeDYM-",
        "outputId": "de9a00bb-a68f-4cd7-a282-b551b5ad92a9"
      },
      "outputs": [
        {
          "data": {
            "text/plain": [
              "Text(0, 0.5, 'события')"
            ]
          },
          "execution_count": 17,
          "metadata": {},
          "output_type": "execute_result"
        },
        {
          "data": {
            "image/png": "[encoded data removed]",
            "text/plain": [
              "<Figure size 1440x360 with 1 Axes>"
            ]
          },
          "metadata": {
            "needs_background": "light"
          },
          "output_type": "display_data"
        }
      ],
      "source": [
        "# Постройте гистограмму по дате и времени.\n",
        "#df['event_date'].hist(bins = 30, figsize = (20,5), xlabelsize = 12)\n",
        "plt.figure(figsize = (20,5))\n",
        "plt.hist(df['event_date'], bins =50)\n",
        "plt.title('гистограммa по дате и времени')\n",
        "plt.xlabel('дата')\n",
        "plt.ylabel('события')"
      ]
    },
    {
      "cell_type": "markdown",
      "metadata": {
        "id": "Ym5uurXWDYNr"
      },
      "source": [
        "Судя по гистограмме можно определить, что полные данные начинают появляться примерно с 1 августа, предлааю данные до 1 августа отбросить"
      ]
    },
    {
      "cell_type": "code",
      "execution_count": null,
      "metadata": {
        "id": "NwS-fef2DYNu",
        "outputId": "ea1be21c-59fa-41e2-cf01-e52e5c3a3dea"
      },
      "outputs": [
        {
          "data": {
            "text/plain": [
              "event         2826\n",
              "user          2826\n",
              "dt            2826\n",
              "group         2826\n",
              "event_date    2826\n",
              "month         2826\n",
              "weekday       2826\n",
              "date          2826\n",
              "time          2826\n",
              "dtype: int64"
            ]
          },
          "execution_count": 18,
          "metadata": {},
          "output_type": "execute_result"
        }
      ],
      "source": [
        "drop = df.query('event_date < 20190801')\n",
        "drop.count()"
      ]
    },
    {
      "cell_type": "markdown",
      "metadata": {
        "id": "QAhXN1yqDYNv"
      },
      "source": [
        "2826 строк удаляем, это чуть больше 1% данных"
      ]
    },
    {
      "cell_type": "code",
      "execution_count": null,
      "metadata": {
        "id": "q9astknfDYNx",
        "outputId": "f1bd668b-e8d5-4d69-a239-e7b52c1acfdf"
      },
      "outputs": [
        {
          "data": {
            "text/plain": [
              "event         243713\n",
              "user          243713\n",
              "dt            243713\n",
              "group         243713\n",
              "event_date    243713\n",
              "month         243713\n",
              "weekday       243713\n",
              "date          243713\n",
              "time          243713\n",
              "dtype: int64"
            ]
          },
          "execution_count": 19,
          "metadata": {},
          "output_type": "execute_result"
        }
      ],
      "source": [
        "df1 = df.query('event_date >= 20190801')\n",
        "df.count()"
      ]
    },
    {
      "cell_type": "code",
      "execution_count": null,
      "metadata": {
        "id": "VAslDJ6hDYNy",
        "outputId": "274f8277-8032-4dcc-9cd6-52cdce0801e9"
      },
      "outputs": [
        {
          "name": "stdout",
          "output_type": "stream",
          "text": [
            "Кол-во  потерянных событий : 2826\n",
            "% потерянных событий: 0.011595606307418972\n",
            "Кол-во потерянных клиентов : 17\n",
            "% потерянных клиентов : 0.0022513574361011784\n"
          ]
        }
      ],
      "source": [
        "# посчитаем кол-во потерянных данных\n",
        "\n",
        "print('Кол-во  потерянных событий :', df['event'].count() - df1['event'].count())\n",
        "print('% потерянных событий:', (df['event'].count() - df1['event'].count()) / df['event'].count())\n",
        "\n",
        "print('Кол-во потерянных клиентов :', df['user'].nunique() - df1['user'].nunique())\n",
        "print('% потерянных клиентов :', (df['user'].nunique() - df1['user'].nunique()) / df['user'].nunique())"
      ]
    },
    {
      "cell_type": "code",
      "execution_count": null,
      "metadata": {
        "id": "I3E9T-tkDYNz",
        "outputId": "29c5a491-d78a-4822-9d94-b065f1ad1099"
      },
      "outputs": [
        {
          "data": {
            "text/plain": [
              "event         240887\n",
              "user          240887\n",
              "dt            240887\n",
              "group         240887\n",
              "event_date    240887\n",
              "month         240887\n",
              "weekday       240887\n",
              "date          240887\n",
              "time          240887\n",
              "dtype: int64"
            ]
          },
          "execution_count": 21,
          "metadata": {},
          "output_type": "execute_result"
        }
      ],
      "source": [
        "df = df.query('event_date >= 20190801')\n",
        "df.count()"
      ]
    },
    {
      "cell_type": "code",
      "execution_count": null,
      "metadata": {
        "id": "P2OWMgU9DYN0",
        "outputId": "c1c03f4e-3416-4597-fec8-e2c5fb40e3cd"
      },
      "outputs": [
        {
          "data": {
            "text/plain": [
              "248    84563\n",
              "246    79302\n",
              "247    77022\n",
              "Name: group, dtype: int64"
            ]
          },
          "execution_count": 22,
          "metadata": {},
          "output_type": "execute_result"
        }
      ],
      "source": [
        "df['group'].value_counts()"
      ]
    },
    {
      "cell_type": "markdown",
      "metadata": {
        "id": "HJlzk1pfDYN2"
      },
      "source": [
        "**Вывод**\n",
        "\n",
        "- общее количество клиентов - 7 551\n",
        "- событий - 243 713\n",
        "- среднее число событий на одного клиента - 32\n",
        "- по дате принято решенеие об удалении старых данных до 1 авуста 2019 года\n",
        "- доля отброшенных событий составила чуть больше 1% - отброшено 2 826 событий\n",
        "- данные (пользователи) есть для всех трёх тестируемых групп"
      ]
    },
    {
      "cell_type": "code",
      "execution_count": null,
      "metadata": {
        "id": "AnU7dZ9VDYN3",
        "outputId": "8501560d-00a8-4828-a5cb-0e4ce2fb8942"
      },
      "outputs": [
        {
          "data": {
            "text/html": [
              "<div>\n",
              "<style scoped>\n",
              "    .dataframe tbody tr th:only-of-type {\n",
              "        vertical-align: middle;\n",
              "    }\n",
              "\n",
              "    .dataframe tbody tr th {\n",
              "        vertical-align: top;\n",
              "    }\n",
              "\n",
              "    .dataframe thead th {\n",
              "        text-align: right;\n",
              "    }\n",
              "</style>\n",
              "<table border=\"1\" class=\"dataframe\">\n",
              "  <thead>\n",
              "    <tr style=\"text-align: right;\">\n",
              "      <th></th>\n",
              "      <th>user</th>\n",
              "    </tr>\n",
              "    <tr>\n",
              "      <th>event</th>\n",
              "      <th></th>\n",
              "    </tr>\n",
              "  </thead>\n",
              "  <tbody>\n",
              "    <tr>\n",
              "      <th>MainScreenAppear</th>\n",
              "      <td>117328</td>\n",
              "    </tr>\n",
              "    <tr>\n",
              "      <th>OffersScreenAppear</th>\n",
              "      <td>46333</td>\n",
              "    </tr>\n",
              "    <tr>\n",
              "      <th>CartScreenAppear</th>\n",
              "      <td>42303</td>\n",
              "    </tr>\n",
              "    <tr>\n",
              "      <th>PaymentScreenSuccessful</th>\n",
              "      <td>33918</td>\n",
              "    </tr>\n",
              "    <tr>\n",
              "      <th>Tutorial</th>\n",
              "      <td>1005</td>\n",
              "    </tr>\n",
              "  </tbody>\n",
              "</table>\n",
              "</div>"
            ],
            "text/plain": [
              "                           user\n",
              "event                          \n",
              "MainScreenAppear         117328\n",
              "OffersScreenAppear        46333\n",
              "CartScreenAppear          42303\n",
              "PaymentScreenSuccessful   33918\n",
              "Tutorial                   1005"
            ]
          },
          "execution_count": 23,
          "metadata": {},
          "output_type": "execute_result"
        }
      ],
      "source": [
        "#Посмотрите, какие события есть в логах, как часто они встречаются. Отсортируйте события по частоте.\n",
        "df.groupby('event').agg({'user':'count'}).sort_values(by = 'user', ascending = False)"
      ]
    },
    {
      "cell_type": "code",
      "execution_count": null,
      "metadata": {
        "id": "HxFxmBEvDYN4",
        "outputId": "de3afd2b-0312-48ec-c37d-931765c768f7"
      },
      "outputs": [
        {
          "data": {
            "text/plain": [
              "7534"
            ]
          },
          "execution_count": 24,
          "metadata": {},
          "output_type": "execute_result"
        }
      ],
      "source": [
        "event = df['user'].nunique()\n",
        "event"
      ]
    },
    {
      "cell_type": "code",
      "execution_count": null,
      "metadata": {
        "id": "Dc57acJEDYN4",
        "outputId": "a9372684-eab8-4ca1-c64d-582f4f680caf"
      },
      "outputs": [
        {
          "data": {
            "text/html": [
              "<div>\n",
              "<style scoped>\n",
              "    .dataframe tbody tr th:only-of-type {\n",
              "        vertical-align: middle;\n",
              "    }\n",
              "\n",
              "    .dataframe tbody tr th {\n",
              "        vertical-align: top;\n",
              "    }\n",
              "\n",
              "    .dataframe thead th {\n",
              "        text-align: right;\n",
              "    }\n",
              "</style>\n",
              "<table border=\"1\" class=\"dataframe\">\n",
              "  <thead>\n",
              "    <tr style=\"text-align: right;\">\n",
              "      <th></th>\n",
              "      <th>user</th>\n",
              "    </tr>\n",
              "    <tr>\n",
              "      <th>event</th>\n",
              "      <th></th>\n",
              "    </tr>\n",
              "  </thead>\n",
              "  <tbody>\n",
              "    <tr>\n",
              "      <th>MainScreenAppear</th>\n",
              "      <td>7419</td>\n",
              "    </tr>\n",
              "    <tr>\n",
              "      <th>OffersScreenAppear</th>\n",
              "      <td>4593</td>\n",
              "    </tr>\n",
              "    <tr>\n",
              "      <th>CartScreenAppear</th>\n",
              "      <td>3734</td>\n",
              "    </tr>\n",
              "    <tr>\n",
              "      <th>PaymentScreenSuccessful</th>\n",
              "      <td>3539</td>\n",
              "    </tr>\n",
              "  </tbody>\n",
              "</table>\n",
              "</div>"
            ],
            "text/plain": [
              "                         user\n",
              "event                        \n",
              "MainScreenAppear         7419\n",
              "OffersScreenAppear       4593\n",
              "CartScreenAppear         3734\n",
              "PaymentScreenSuccessful  3539"
            ]
          },
          "execution_count": 25,
          "metadata": {},
          "output_type": "execute_result"
        }
      ],
      "source": [
        "#Посчитайте, сколько пользователей совершали каждое из этих событий.\n",
        "#Отсортируйте события по числу пользователей.\n",
        "count_event = df.groupby('event').agg({'user':'nunique'}).sort_values(by = 'user', ascending = False)\n",
        "count_event = count_event.query('event != \"Tutorial\"')\n",
        "count_event"
      ]
    },
    {
      "cell_type": "markdown",
      "metadata": {
        "id": "v1UA2AExDYN5"
      },
      "source": [
        "\n",
        "Можно определить 5 событий:\n",
        "\n",
        "- MainScreenAppear - появление главного экрана\n",
        "- OffersScreenAppear - появление страницы каталога\n",
        "- CartScreenAppear - появление страницы с корзиной\n",
        "- PaymentScreenSuccessful - появление экрана с успешной оплатой\n",
        "- Tutorial - руководство к использованию\n",
        "\n",
        "\n",
        "Логичный исход воронки: открытие главного экрана, далее просмотр каталога, переход в корзину и успешная оплата товара.\n",
        "Туториал пункт не обязательный, он не вписывается в воронку\n"
      ]
    },
    {
      "cell_type": "code",
      "execution_count": null,
      "metadata": {
        "id": "qiI9rMogDYN7",
        "outputId": "d3af67a6-262c-449b-c0be-df6e50c16dc3"
      },
      "outputs": [
        {
          "data": {
            "text/html": [
              "<div>\n",
              "<style scoped>\n",
              "    .dataframe tbody tr th:only-of-type {\n",
              "        vertical-align: middle;\n",
              "    }\n",
              "\n",
              "    .dataframe tbody tr th {\n",
              "        vertical-align: top;\n",
              "    }\n",
              "\n",
              "    .dataframe thead th {\n",
              "        text-align: right;\n",
              "    }\n",
              "</style>\n",
              "<table border=\"1\" class=\"dataframe\">\n",
              "  <thead>\n",
              "    <tr style=\"text-align: right;\">\n",
              "      <th></th>\n",
              "      <th>user</th>\n",
              "    </tr>\n",
              "    <tr>\n",
              "      <th>event</th>\n",
              "      <th></th>\n",
              "    </tr>\n",
              "  </thead>\n",
              "  <tbody>\n",
              "    <tr>\n",
              "      <th>MainScreenAppear</th>\n",
              "      <td>98.473586</td>\n",
              "    </tr>\n",
              "    <tr>\n",
              "      <th>OffersScreenAppear</th>\n",
              "      <td>60.963632</td>\n",
              "    </tr>\n",
              "    <tr>\n",
              "      <th>CartScreenAppear</th>\n",
              "      <td>49.561986</td>\n",
              "    </tr>\n",
              "    <tr>\n",
              "      <th>PaymentScreenSuccessful</th>\n",
              "      <td>46.973719</td>\n",
              "    </tr>\n",
              "  </tbody>\n",
              "</table>\n",
              "</div>"
            ],
            "text/plain": [
              "                              user\n",
              "event                             \n",
              "MainScreenAppear         98.473586\n",
              "OffersScreenAppear       60.963632\n",
              "CartScreenAppear         49.561986\n",
              "PaymentScreenSuccessful  46.973719"
            ]
          },
          "execution_count": 26,
          "metadata": {},
          "output_type": "execute_result"
        }
      ],
      "source": [
        "#Посчитайте долю пользователей, которые хоть раз совершали событие.\n",
        "segment = (count_event/event)*100\n",
        "segment"
      ]
    },
    {
      "cell_type": "code",
      "execution_count": null,
      "metadata": {
        "id": "ARl0ZR-dDYN8",
        "outputId": "b8d3a275-8780-47ae-c153-00d1ad6324d1"
      },
      "outputs": [
        {
          "data": {
            "text/html": [
              "<div>\n",
              "<style scoped>\n",
              "    .dataframe tbody tr th:only-of-type {\n",
              "        vertical-align: middle;\n",
              "    }\n",
              "\n",
              "    .dataframe tbody tr th {\n",
              "        vertical-align: top;\n",
              "    }\n",
              "\n",
              "    .dataframe thead th {\n",
              "        text-align: right;\n",
              "    }\n",
              "</style>\n",
              "<table border=\"1\" class=\"dataframe\">\n",
              "  <thead>\n",
              "    <tr style=\"text-align: right;\">\n",
              "      <th></th>\n",
              "      <th>user</th>\n",
              "    </tr>\n",
              "    <tr>\n",
              "      <th>event</th>\n",
              "      <th></th>\n",
              "    </tr>\n",
              "  </thead>\n",
              "  <tbody>\n",
              "    <tr>\n",
              "      <th>MainScreenAppear</th>\n",
              "      <td>7419</td>\n",
              "    </tr>\n",
              "    <tr>\n",
              "      <th>OffersScreenAppear</th>\n",
              "      <td>4593</td>\n",
              "    </tr>\n",
              "    <tr>\n",
              "      <th>CartScreenAppear</th>\n",
              "      <td>3734</td>\n",
              "    </tr>\n",
              "    <tr>\n",
              "      <th>PaymentScreenSuccessful</th>\n",
              "      <td>3539</td>\n",
              "    </tr>\n",
              "    <tr>\n",
              "      <th>Tutorial</th>\n",
              "      <td>840</td>\n",
              "    </tr>\n",
              "  </tbody>\n",
              "</table>\n",
              "</div>"
            ],
            "text/plain": [
              "                         user\n",
              "event                        \n",
              "MainScreenAppear         7419\n",
              "OffersScreenAppear       4593\n",
              "CartScreenAppear         3734\n",
              "PaymentScreenSuccessful  3539\n",
              "Tutorial                  840"
            ]
          },
          "execution_count": 27,
          "metadata": {},
          "output_type": "execute_result"
        }
      ],
      "source": [
        "#Посчитайте, сколько пользователей совершали каждое из этих событий.\n",
        "#Отсортируйте события по числу пользователей.\n",
        "count_event = df.groupby('event').agg({'user':'nunique'}).sort_values(by = 'user', ascending = False)\n",
        "count_event"
      ]
    },
    {
      "cell_type": "code",
      "execution_count": null,
      "metadata": {
        "scrolled": true,
        "id": "iQqWejWmDYN9",
        "outputId": "daac84c6-9213-4715-9479-dbeb8e50c601"
      },
      "outputs": [
        {
          "data": {
            "text/html": [
              "<style  type=\"text/css\" >\n",
              "</style><table id=\"T_ea40b_\" ><thead>    <tr>        <th class=\"blank level0\" ></th>        <th class=\"col_heading level0 col0\" >user</th>        <th class=\"col_heading level0 col1\" >initial</th>        <th class=\"col_heading level0 col2\" >previous</th>    </tr>    <tr>        <th class=\"index_name level0\" >event</th>        <th class=\"blank\" ></th>        <th class=\"blank\" ></th>        <th class=\"blank\" ></th>    </tr></thead><tbody>\n",
              "                <tr>\n",
              "                        <th id=\"T_ea40b_level0_row0\" class=\"row_heading level0 row0\" >MainScreenAppear</th>\n",
              "                        <td id=\"T_ea40b_row0_col0\" class=\"data row0 col0\" >7419</td>\n",
              "                        <td id=\"T_ea40b_row0_col1\" class=\"data row0 col1\" >100.0%</td>\n",
              "                        <td id=\"T_ea40b_row0_col2\" class=\"data row0 col2\" >100.0%</td>\n",
              "            </tr>\n",
              "            <tr>\n",
              "                        <th id=\"T_ea40b_level0_row1\" class=\"row_heading level0 row1\" >OffersScreenAppear</th>\n",
              "                        <td id=\"T_ea40b_row1_col0\" class=\"data row1 col0\" >4593</td>\n",
              "                        <td id=\"T_ea40b_row1_col1\" class=\"data row1 col1\" >61.9%</td>\n",
              "                        <td id=\"T_ea40b_row1_col2\" class=\"data row1 col2\" >61.9%</td>\n",
              "            </tr>\n",
              "            <tr>\n",
              "                        <th id=\"T_ea40b_level0_row2\" class=\"row_heading level0 row2\" >CartScreenAppear</th>\n",
              "                        <td id=\"T_ea40b_row2_col0\" class=\"data row2 col0\" >3734</td>\n",
              "                        <td id=\"T_ea40b_row2_col1\" class=\"data row2 col1\" >50.3%</td>\n",
              "                        <td id=\"T_ea40b_row2_col2\" class=\"data row2 col2\" >81.3%</td>\n",
              "            </tr>\n",
              "            <tr>\n",
              "                        <th id=\"T_ea40b_level0_row3\" class=\"row_heading level0 row3\" >PaymentScreenSuccessful</th>\n",
              "                        <td id=\"T_ea40b_row3_col0\" class=\"data row3 col0\" >3539</td>\n",
              "                        <td id=\"T_ea40b_row3_col1\" class=\"data row3 col1\" >47.7%</td>\n",
              "                        <td id=\"T_ea40b_row3_col2\" class=\"data row3 col2\" >94.8%</td>\n",
              "            </tr>\n",
              "            <tr>\n",
              "                        <th id=\"T_ea40b_level0_row4\" class=\"row_heading level0 row4\" >Tutorial</th>\n",
              "                        <td id=\"T_ea40b_row4_col0\" class=\"data row4 col0\" >840</td>\n",
              "                        <td id=\"T_ea40b_row4_col1\" class=\"data row4 col1\" >11.3%</td>\n",
              "                        <td id=\"T_ea40b_row4_col2\" class=\"data row4 col2\" >23.7%</td>\n",
              "            </tr>\n",
              "    </tbody></table>"
            ],
            "text/plain": [
              "<pandas.io.formats.style.Styler at 0x7fae8a6bfa30>"
            ]
          },
          "execution_count": 28,
          "metadata": {},
          "output_type": "execute_result"
        }
      ],
      "source": [
        "#По воронке событий посчитайте, какая доля пользователей проходит на следующий шаг воронки (от числа пользователей на предыдущем).\n",
        "#То есть для последовательности событий A → B → C посчитайте отношение числа пользователей\n",
        "#с событием B к количеству пользователей с событием A, а также отношение числа пользователей с событием C к количеству пользователей с событием B.\n",
        "\n",
        "i = (df.groupby('event')\n",
        "     .agg({'user': 'nunique'})\n",
        "     .sort_values(by='user', ascending=False))\n",
        "\n",
        "# посчитать количество событий от первого этапа воронки\n",
        "i['initial'] = i['user'] / i['user']['MainScreenAppear']\n",
        "\n",
        "# посчитаем количество событий по отношению к предыдущему\n",
        "i['previous'] = i['user'] / i['user'].shift(1)\n",
        "i['previous'].fillna(inplace=True, value=1)\n",
        "\n",
        "i.style.format({'initial': '{:.1%}', 'previous': '{:.1%}'})"
      ]
    },
    {
      "cell_type": "code",
      "execution_count": null,
      "metadata": {
        "id": "m8uLy9guDYN_",
        "outputId": "200372f2-7a1f-4fb5-c173-3794becf5cdf"
      },
      "outputs": [
        {
          "data": {
            "text/plain": [
              "[Text(0.5, 0, 'Процент'), Text(0, 0.5, 'Событие')]"
            ]
          },
          "execution_count": 29,
          "metadata": {},
          "output_type": "execute_result"
        },
        {
          "data": {
            "image/png": "[encoded data removed]",
            "text/plain": [
              "<Figure size 864x432 with 1 Axes>"
            ]
          },
          "metadata": {
            "needs_background": "light"
          },
          "output_type": "display_data"
        }
      ],
      "source": [
        "(\n",
        " i\n",
        "    .query('event != \"Tutorial\"')\n",
        "    .pivot_table(index='event', values='previous')\n",
        "    .sort_values('previous')\n",
        "    .plot(kind='barh', title='Доля пользователей, совершивших событие', figsize=(12,6))\n",
        "    .set(xlabel='Процент', ylabel='Событие')\n",
        ")"
      ]
    },
    {
      "cell_type": "code",
      "execution_count": null,
      "metadata": {
        "id": "Cr69Gbp1DYOA",
        "outputId": "4150ff51-3a1c-4def-ac03-0e1c9ab32593"
      },
      "outputs": [
        {
          "data": {
            "text/html": [
              "<div>\n",
              "<style scoped>\n",
              "    .dataframe tbody tr th:only-of-type {\n",
              "        vertical-align: middle;\n",
              "    }\n",
              "\n",
              "    .dataframe tbody tr th {\n",
              "        vertical-align: top;\n",
              "    }\n",
              "\n",
              "    .dataframe thead th {\n",
              "        text-align: right;\n",
              "    }\n",
              "</style>\n",
              "<table border=\"1\" class=\"dataframe\">\n",
              "  <thead>\n",
              "    <tr style=\"text-align: right;\">\n",
              "      <th></th>\n",
              "      <th>event</th>\n",
              "      <th>user</th>\n",
              "      <th>initial</th>\n",
              "      <th>previous</th>\n",
              "    </tr>\n",
              "  </thead>\n",
              "  <tbody>\n",
              "    <tr>\n",
              "      <th>0</th>\n",
              "      <td>MainScreenAppear</td>\n",
              "      <td>7419</td>\n",
              "      <td>1.000000</td>\n",
              "      <td>1.000000</td>\n",
              "    </tr>\n",
              "    <tr>\n",
              "      <th>1</th>\n",
              "      <td>OffersScreenAppear</td>\n",
              "      <td>4593</td>\n",
              "      <td>0.619086</td>\n",
              "      <td>0.619086</td>\n",
              "    </tr>\n",
              "    <tr>\n",
              "      <th>2</th>\n",
              "      <td>CartScreenAppear</td>\n",
              "      <td>3734</td>\n",
              "      <td>0.503302</td>\n",
              "      <td>0.812976</td>\n",
              "    </tr>\n",
              "    <tr>\n",
              "      <th>3</th>\n",
              "      <td>PaymentScreenSuccessful</td>\n",
              "      <td>3539</td>\n",
              "      <td>0.477018</td>\n",
              "      <td>0.947777</td>\n",
              "    </tr>\n",
              "  </tbody>\n",
              "</table>\n",
              "</div>"
            ],
            "text/plain": [
              "                     event  user   initial  previous\n",
              "0         MainScreenAppear  7419  1.000000  1.000000\n",
              "1       OffersScreenAppear  4593  0.619086  0.619086\n",
              "2         CartScreenAppear  3734  0.503302  0.812976\n",
              "3  PaymentScreenSuccessful  3539  0.477018  0.947777"
            ]
          },
          "execution_count": 42,
          "metadata": {},
          "output_type": "execute_result"
        }
      ],
      "source": [
        "i = i.query('event != \"Tutorial\"')\n",
        "i"
      ]
    },
    {
      "cell_type": "code",
      "execution_count": null,
      "metadata": {
        "id": "xREMdyyFDYOB",
        "outputId": "3c80275b-386b-4a14-dbeb-949f8a5416e7"
      },
      "outputs": [
        {
          "data": {
            "application/vnd.plotly.v1+json": {
              "config": {
                "plotlyServerURL": "https://plot.ly"
              },
              "data": [
                {
                  "textinfo": "value+percent initial+percent previous",
                  "type": "funnel",
                  "x": [
                    7419,
                    4593,
                    3734,
                    3539
                  ],
                  "y": [
                    "MainScreenAppear",
                    "OffersScreenAppear",
                    "CartScreenAppear",
                    "PaymentScreenSuccessful"
                  ]
                }
              ],
              "layout": {
                "template": {
                  "data": {
                    "bar": [
                      {
                        "error_x": {
                          "color": "#2a3f5f"
                        },
                        "error_y": {
                          "color": "#2a3f5f"
                        },
                        "marker": {
                          "line": {
                            "color": "#E5ECF6",
                            "width": 0.5
                          },
                          "pattern": {
                            "fillmode": "overlay",
                            "size": 10,
                            "solidity": 0.2
                          }
                        },
                        "type": "bar"
                      }
                    ],
                    "barpolar": [
                      {
                        "marker": {
                          "line": {
                            "color": "#E5ECF6",
                            "width": 0.5
                          },
                          "pattern": {
                            "fillmode": "overlay",
                            "size": 10,
                            "solidity": 0.2
                          }
                        },
                        "type": "barpolar"
                      }
                    ],
                    "carpet": [
                      {
                        "aaxis": {
                          "endlinecolor": "#2a3f5f",
                          "gridcolor": "white",
                          "linecolor": "white",
                          "minorgridcolor": "white",
                          "startlinecolor": "#2a3f5f"
                        },
                        "baxis": {
                          "endlinecolor": "#2a3f5f",
                          "gridcolor": "white",
                          "linecolor": "white",
                          "minorgridcolor": "white",
                          "startlinecolor": "#2a3f5f"
                        },
                        "type": "carpet"
                      }
                    ],
                    "choropleth": [
                      {
                        "colorbar": {
                          "outlinewidth": 0,
                          "ticks": ""
                        },
                        "type": "choropleth"
                      }
                    ],
                    "contour": [
                      {
                        "colorbar": {
                          "outlinewidth": 0,
                          "ticks": ""
                        },
                        "colorscale": [
                          [
                            0,
                            "#0d0887"
                          ],
                          [
                            0.1111111111111111,
                            "#46039f"
                          ],
                          [
                            0.2222222222222222,
                            "#7201a8"
                          ],
                          [
                            0.3333333333333333,
                            "#9c179e"
                          ],
                          [
                            0.4444444444444444,
                            "#bd3786"
                          ],
                          [
                            0.5555555555555556,
                            "#d8576b"
                          ],
                          [
                            0.6666666666666666,
                            "#ed7953"
                          ],
                          [
                            0.7777777777777778,
                            "#fb9f3a"
                          ],
                          [
                            0.8888888888888888,
                            "#fdca26"
                          ],
                          [
                            1,
                            "#f0f921"
                          ]
                        ],
                        "type": "contour"
                      }
                    ],
                    "contourcarpet": [
                      {
                        "colorbar": {
                          "outlinewidth": 0,
                          "ticks": ""
                        },
                        "type": "contourcarpet"
                      }
                    ],
                    "heatmap": [
                      {
                        "colorbar": {
                          "outlinewidth": 0,
                          "ticks": ""
                        },
                        "colorscale": [
                          [
                            0,
                            "#0d0887"
                          ],
                          [
                            0.1111111111111111,
                            "#46039f"
                          ],
                          [
                            0.2222222222222222,
                            "#7201a8"
                          ],
                          [
                            0.3333333333333333,
                            "#9c179e"
                          ],
                          [
                            0.4444444444444444,
                            "#bd3786"
                          ],
                          [
                            0.5555555555555556,
                            "#d8576b"
                          ],
                          [
                            0.6666666666666666,
                            "#ed7953"
                          ],
                          [
                            0.7777777777777778,
                            "#fb9f3a"
                          ],
                          [
                            0.8888888888888888,
                            "#fdca26"
                          ],
                          [
                            1,
                            "#f0f921"
                          ]
                        ],
                        "type": "heatmap"
                      }
                    ],
                    "heatmapgl": [
                      {
                        "colorbar": {
                          "outlinewidth": 0,
                          "ticks": ""
                        },
                        "colorscale": [
                          [
                            0,
                            "#0d0887"
                          ],
                          [
                            0.1111111111111111,
                            "#46039f"
                          ],
                          [
                            0.2222222222222222,
                            "#7201a8"
                          ],
                          [
                            0.3333333333333333,
                            "#9c179e"
                          ],
                          [
                            0.4444444444444444,
                            "#bd3786"
                          ],
                          [
                            0.5555555555555556,
                            "#d8576b"
                          ],
                          [
                            0.6666666666666666,
                            "#ed7953"
                          ],
                          [
                            0.7777777777777778,
                            "#fb9f3a"
                          ],
                          [
                            0.8888888888888888,
                            "#fdca26"
                          ],
                          [
                            1,
                            "#f0f921"
                          ]
                        ],
                        "type": "heatmapgl"
                      }
                    ],
                    "histogram": [
                      {
                        "marker": {
                          "pattern": {
                            "fillmode": "overlay",
                            "size": 10,
                            "solidity": 0.2
                          }
                        },
                        "type": "histogram"
                      }
                    ],
                    "histogram2d": [
                      {
                        "colorbar": {
                          "outlinewidth": 0,
                          "ticks": ""
                        },
                        "colorscale": [
                          [
                            0,
                            "#0d0887"
                          ],
                          [
                            0.1111111111111111,
                            "#46039f"
                          ],
                          [
                            0.2222222222222222,
                            "#7201a8"
                          ],
                          [
                            0.3333333333333333,
                            "#9c179e"
                          ],
                          [
                            0.4444444444444444,
                            "#bd3786"
                          ],
                          [
                            0.5555555555555556,
                            "#d8576b"
                          ],
                          [
                            0.6666666666666666,
                            "#ed7953"
                          ],
                          [
                            0.7777777777777778,
                            "#fb9f3a"
                          ],
                          [
                            0.8888888888888888,
                            "#fdca26"
                          ],
                          [
                            1,
                            "#f0f921"
                          ]
                        ],
                        "type": "histogram2d"
                      }
                    ],
                    "histogram2dcontour": [
                      {
                        "colorbar": {
                          "outlinewidth": 0,
                          "ticks": ""
                        },
                        "colorscale": [
                          [
                            0,
                            "#0d0887"
                          ],
                          [
                            0.1111111111111111,
                            "#46039f"
                          ],
                          [
                            0.2222222222222222,
                            "#7201a8"
                          ],
                          [
                            0.3333333333333333,
                            "#9c179e"
                          ],
                          [
                            0.4444444444444444,
                            "#bd3786"
                          ],
                          [
                            0.5555555555555556,
                            "#d8576b"
                          ],
                          [
                            0.6666666666666666,
                            "#ed7953"
                          ],
                          [
                            0.7777777777777778,
                            "#fb9f3a"
                          ],
                          [
                            0.8888888888888888,
                            "#fdca26"
                          ],
                          [
                            1,
                            "#f0f921"
                          ]
                        ],
                        "type": "histogram2dcontour"
                      }
                    ],
                    "mesh3d": [
                      {
                        "colorbar": {
                          "outlinewidth": 0,
                          "ticks": ""
                        },
                        "type": "mesh3d"
                      }
                    ],
                    "parcoords": [
                      {
                        "line": {
                          "colorbar": {
                            "outlinewidth": 0,
                            "ticks": ""
                          }
                        },
                        "type": "parcoords"
                      }
                    ],
                    "pie": [
                      {
                        "automargin": true,
                        "type": "pie"
                      }
                    ],
                    "scatter": [
                      {
                        "marker": {
                          "colorbar": {
                            "outlinewidth": 0,
                            "ticks": ""
                          }
                        },
                        "type": "scatter"
                      }
                    ],
                    "scatter3d": [
                      {
                        "line": {
                          "colorbar": {
                            "outlinewidth": 0,
                            "ticks": ""
                          }
                        },
                        "marker": {
                          "colorbar": {
                            "outlinewidth": 0,
                            "ticks": ""
                          }
                        },
                        "type": "scatter3d"
                      }
                    ],
                    "scattercarpet": [
                      {
                        "marker": {
                          "colorbar": {
                            "outlinewidth": 0,
                            "ticks": ""
                          }
                        },
                        "type": "scattercarpet"
                      }
                    ],
                    "scattergeo": [
                      {
                        "marker": {
                          "colorbar": {
                            "outlinewidth": 0,
                            "ticks": ""
                          }
                        },
                        "type": "scattergeo"
                      }
                    ],
                    "scattergl": [
                      {
                        "marker": {
                          "colorbar": {
                            "outlinewidth": 0,
                            "ticks": ""
                          }
                        },
                        "type": "scattergl"
                      }
                    ],
                    "scattermapbox": [
                      {
                        "marker": {
                          "colorbar": {
                            "outlinewidth": 0,
                            "ticks": ""
                          }
                        },
                        "type": "scattermapbox"
                      }
                    ],
                    "scatterpolar": [
                      {
                        "marker": {
                          "colorbar": {
                            "outlinewidth": 0,
                            "ticks": ""
                          }
                        },
                        "type": "scatterpolar"
                      }
                    ],
                    "scatterpolargl": [
                      {
                        "marker": {
                          "colorbar": {
                            "outlinewidth": 0,
                            "ticks": ""
                          }
                        },
                        "type": "scatterpolargl"
                      }
                    ],
                    "scatterternary": [
                      {
                        "marker": {
                          "colorbar": {
                            "outlinewidth": 0,
                            "ticks": ""
                          }
                        },
                        "type": "scatterternary"
                      }
                    ],
                    "surface": [
                      {
                        "colorbar": {
                          "outlinewidth": 0,
                          "ticks": ""
                        },
                        "colorscale": [
                          [
                            0,
                            "#0d0887"
                          ],
                          [
                            0.1111111111111111,
                            "#46039f"
                          ],
                          [
                            0.2222222222222222,
                            "#7201a8"
                          ],
                          [
                            0.3333333333333333,
                            "#9c179e"
                          ],
                          [
                            0.4444444444444444,
                            "#bd3786"
                          ],
                          [
                            0.5555555555555556,
                            "#d8576b"
                          ],
                          [
                            0.6666666666666666,
                            "#ed7953"
                          ],
                          [
                            0.7777777777777778,
                            "#fb9f3a"
                          ],
                          [
                            0.8888888888888888,
                            "#fdca26"
                          ],
                          [
                            1,
                            "#f0f921"
                          ]
                        ],
                        "type": "surface"
                      }
                    ],
                    "table": [
                      {
                        "cells": {
                          "fill": {
                            "color": "#EBF0F8"
                          },
                          "line": {
                            "color": "white"
                          }
                        },
                        "header": {
                          "fill": {
                            "color": "#C8D4E3"
                          },
                          "line": {
                            "color": "white"
                          }
                        },
                        "type": "table"
                      }
                    ]
                  },
                  "layout": {
                    "annotationdefaults": {
                      "arrowcolor": "#2a3f5f",
                      "arrowhead": 0,
                      "arrowwidth": 1
                    },
                    "autotypenumbers": "strict",
                    "coloraxis": {
                      "colorbar": {
                        "outlinewidth": 0,
                        "ticks": ""
                      }
                    },
                    "colorscale": {
                      "diverging": [
                        [
                          0,
                          "#8e0152"
                        ],
                        [
                          0.1,
                          "#c51b7d"
                        ],
                        [
                          0.2,
                          "#de77ae"
                        ],
                        [
                          0.3,
                          "#f1b6da"
                        ],
                        [
                          0.4,
                          "#fde0ef"
                        ],
                        [
                          0.5,
                          "#f7f7f7"
                        ],
                        [
                          0.6,
                          "#e6f5d0"
                        ],
                        [
                          0.7,
                          "#b8e186"
                        ],
                        [
                          0.8,
                          "#7fbc41"
                        ],
                        [
                          0.9,
                          "#4d9221"
                        ],
                        [
                          1,
                          "#276419"
                        ]
                      ],
                      "sequential": [
                        [
                          0,
                          "#0d0887"
                        ],
                        [
                          0.1111111111111111,
                          "#46039f"
                        ],
                        [
                          0.2222222222222222,
                          "#7201a8"
                        ],
                        [
                          0.3333333333333333,
                          "#9c179e"
                        ],
                        [
                          0.4444444444444444,
                          "#bd3786"
                        ],
                        [
                          0.5555555555555556,
                          "#d8576b"
                        ],
                        [
                          0.6666666666666666,
                          "#ed7953"
                        ],
                        [
                          0.7777777777777778,
                          "#fb9f3a"
                        ],
                        [
                          0.8888888888888888,
                          "#fdca26"
                        ],
                        [
                          1,
                          "#f0f921"
                        ]
                      ],
                      "sequentialminus": [
                        [
                          0,
                          "#0d0887"
                        ],
                        [
                          0.1111111111111111,
                          "#46039f"
                        ],
                        [
                          0.2222222222222222,
                          "#7201a8"
                        ],
                        [
                          0.3333333333333333,
                          "#9c179e"
                        ],
                        [
                          0.4444444444444444,
                          "#bd3786"
                        ],
                        [
                          0.5555555555555556,
                          "#d8576b"
                        ],
                        [
                          0.6666666666666666,
                          "#ed7953"
                        ],
                        [
                          0.7777777777777778,
                          "#fb9f3a"
                        ],
                        [
                          0.8888888888888888,
                          "#fdca26"
                        ],
                        [
                          1,
                          "#f0f921"
                        ]
                      ]
                    },
                    "colorway": [
                      "#636efa",
                      "#EF553B",
                      "#00cc96",
                      "#ab63fa",
                      "#FFA15A",
                      "#19d3f3",
                      "#FF6692",
                      "#B6E880",
                      "#FF97FF",
                      "#FECB52"
                    ],
                    "font": {
                      "color": "#2a3f5f"
                    },
                    "geo": {
                      "bgcolor": "white",
                      "lakecolor": "white",
                      "landcolor": "#E5ECF6",
                      "showlakes": true,
                      "showland": true,
                      "subunitcolor": "white"
                    },
                    "hoverlabel": {
                      "align": "left"
                    },
                    "hovermode": "closest",
                    "mapbox": {
                      "style": "light"
                    },
                    "paper_bgcolor": "white",
                    "plot_bgcolor": "#E5ECF6",
                    "polar": {
                      "angularaxis": {
                        "gridcolor": "white",
                        "linecolor": "white",
                        "ticks": ""
                      },
                      "bgcolor": "#E5ECF6",
                      "radialaxis": {
                        "gridcolor": "white",
                        "linecolor": "white",
                        "ticks": ""
                      }
                    },
                    "scene": {
                      "xaxis": {
                        "backgroundcolor": "#E5ECF6",
                        "gridcolor": "white",
                        "gridwidth": 2,
                        "linecolor": "white",
                        "showbackground": true,
                        "ticks": "",
                        "zerolinecolor": "white"
                      },
                      "yaxis": {
                        "backgroundcolor": "#E5ECF6",
                        "gridcolor": "white",
                        "gridwidth": 2,
                        "linecolor": "white",
                        "showbackground": true,
                        "ticks": "",
                        "zerolinecolor": "white"
                      },
                      "zaxis": {
                        "backgroundcolor": "#E5ECF6",
                        "gridcolor": "white",
                        "gridwidth": 2,
                        "linecolor": "white",
                        "showbackground": true,
                        "ticks": "",
                        "zerolinecolor": "white"
                      }
                    },
                    "shapedefaults": {
                      "line": {
                        "color": "#2a3f5f"
                      }
                    },
                    "ternary": {
                      "aaxis": {
                        "gridcolor": "white",
                        "linecolor": "white",
                        "ticks": ""
                      },
                      "baxis": {
                        "gridcolor": "white",
                        "linecolor": "white",
                        "ticks": ""
                      },
                      "bgcolor": "#E5ECF6",
                      "caxis": {
                        "gridcolor": "white",
                        "linecolor": "white",
                        "ticks": ""
                      }
                    },
                    "title": {
                      "x": 0.05
                    },
                    "xaxis": {
                      "automargin": true,
                      "gridcolor": "white",
                      "linecolor": "white",
                      "ticks": "",
                      "title": {
                        "standoff": 15
                      },
                      "zerolinecolor": "white",
                      "zerolinewidth": 2
                    },
                    "yaxis": {
                      "automargin": true,
                      "gridcolor": "white",
                      "linecolor": "white",
                      "ticks": "",
                      "title": {
                        "standoff": 15
                      },
                      "zerolinecolor": "white",
                      "zerolinewidth": 2
                    }
                  }
                }
              }
            },
            "text/html": [
              "<div>                            <div id=\"e058829e-5de8-4033-9288-0676c7083141\" class=\"plotly-graph-div\" style=\"height:525px; width:100%;\"></div>            <script type=\"text/javascript\">                require([\"plotly\"], function(Plotly) {                    window.PLOTLYENV=window.PLOTLYENV || {};                                    if (document.getElementById(\"e058829e-5de8-4033-9288-0676c7083141\")) {                    Plotly.newPlot(                        \"e058829e-5de8-4033-9288-0676c7083141\",                        [{\"textinfo\":\"value+percent initial+percent previous\",\"x\":[7419,4593,3734,3539],\"y\":[\"MainScreenAppear\",\"OffersScreenAppear\",\"CartScreenAppear\",\"PaymentScreenSuccessful\"],\"type\":\"funnel\"}],                        {\"template\":{\"data\":{\"bar\":[{\"error_x\":{\"color\":\"#2a3f5f\"},\"error_y\":{\"color\":\"#2a3f5f\"},\"marker\":{\"line\":{\"color\":\"#E5ECF6\",\"width\":0.5},\"pattern\":{\"fillmode\":\"overlay\",\"size\":10,\"solidity\":0.2}},\"type\":\"bar\"}],\"barpolar\":[{\"marker\":{\"line\":{\"color\":\"#E5ECF6\",\"width\":0.5},\"pattern\":{\"fillmode\":\"overlay\",\"size\":10,\"solidity\":0.2}},\"type\":\"barpolar\"}],\"carpet\":[{\"aaxis\":{\"endlinecolor\":\"#2a3f5f\",\"gridcolor\":\"white\",\"linecolor\":\"white\",\"minorgridcolor\":\"white\",\"startlinecolor\":\"#2a3f5f\"},\"baxis\":{\"endlinecolor\":\"#2a3f5f\",\"gridcolor\":\"white\",\"linecolor\":\"white\",\"minorgridcolor\":\"white\",\"startlinecolor\":\"#2a3f5f\"},\"type\":\"carpet\"}],\"choropleth\":[{\"colorbar\":{\"outlinewidth\":0,\"ticks\":\"\"},\"type\":\"choropleth\"}],\"contour\":[{\"colorbar\":{\"outlinewidth\":0,\"ticks\":\"\"},\"colorscale\":[[0.0,\"#0d0887\"],[0.1111111111111111,\"#46039f\"],[0.2222222222222222,\"#7201a8\"],[0.3333333333333333,\"#9c179e\"],[0.4444444444444444,\"#bd3786\"],[0.5555555555555556,\"#d8576b\"],[0.6666666666666666,\"#ed7953\"],[0.7777777777777778,\"#fb9f3a\"],[0.8888888888888888,\"#fdca26\"],[1.0,\"#f0f921\"]],\"type\":\"contour\"}],\"contourcarpet\":[{\"colorbar\":{\"outlinewidth\":0,\"ticks\":\"\"},\"type\":\"contourcarpet\"}],\"heatmap\":[{\"colorbar\":{\"outlinewidth\":0,\"ticks\":\"\"},\"colorscale\":[[0.0,\"#0d0887\"],[0.1111111111111111,\"#46039f\"],[0.2222222222222222,\"#7201a8\"],[0.3333333333333333,\"#9c179e\"],[0.4444444444444444,\"#bd3786\"],[0.5555555555555556,\"#d8576b\"],[0.6666666666666666,\"#ed7953\"],[0.7777777777777778,\"#fb9f3a\"],[0.8888888888888888,\"#fdca26\"],[1.0,\"#f0f921\"]],\"type\":\"heatmap\"}],\"heatmapgl\":[{\"colorbar\":{\"outlinewidth\":0,\"ticks\":\"\"},\"colorscale\":[[0.0,\"#0d0887\"],[0.1111111111111111,\"#46039f\"],[0.2222222222222222,\"#7201a8\"],[0.3333333333333333,\"#9c179e\"],[0.4444444444444444,\"#bd3786\"],[0.5555555555555556,\"#d8576b\"],[0.6666666666666666,\"#ed7953\"],[0.7777777777777778,\"#fb9f3a\"],[0.8888888888888888,\"#fdca26\"],[1.0,\"#f0f921\"]],\"type\":\"heatmapgl\"}],\"histogram\":[{\"marker\":{\"pattern\":{\"fillmode\":\"overlay\",\"size\":10,\"solidity\":0.2}},\"type\":\"histogram\"}],\"histogram2d\":[{\"colorbar\":{\"outlinewidth\":0,\"ticks\":\"\"},\"colorscale\":[[0.0,\"#0d0887\"],[0.1111111111111111,\"#46039f\"],[0.2222222222222222,\"#7201a8\"],[0.3333333333333333,\"#9c179e\"],[0.4444444444444444,\"#bd3786\"],[0.5555555555555556,\"#d8576b\"],[0.6666666666666666,\"#ed7953\"],[0.7777777777777778,\"#fb9f3a\"],[0.8888888888888888,\"#fdca26\"],[1.0,\"#f0f921\"]],\"type\":\"histogram2d\"}],\"histogram2dcontour\":[{\"colorbar\":{\"outlinewidth\":0,\"ticks\":\"\"},\"colorscale\":[[0.0,\"#0d0887\"],[0.1111111111111111,\"#46039f\"],[0.2222222222222222,\"#7201a8\"],[0.3333333333333333,\"#9c179e\"],[0.4444444444444444,\"#bd3786\"],[0.5555555555555556,\"#d8576b\"],[0.6666666666666666,\"#ed7953\"],[0.7777777777777778,\"#fb9f3a\"],[0.8888888888888888,\"#fdca26\"],[1.0,\"#f0f921\"]],\"type\":\"histogram2dcontour\"}],\"mesh3d\":[{\"colorbar\":{\"outlinewidth\":0,\"ticks\":\"\"},\"type\":\"mesh3d\"}],\"parcoords\":[{\"line\":{\"colorbar\":{\"outlinewidth\":0,\"ticks\":\"\"}},\"type\":\"parcoords\"}],\"pie\":[{\"automargin\":true,\"type\":\"pie\"}],\"scatter\":[{\"marker\":{\"colorbar\":{\"outlinewidth\":0,\"ticks\":\"\"}},\"type\":\"scatter\"}],\"scatter3d\":[{\"line\":{\"colorbar\":{\"outlinewidth\":0,\"ticks\":\"\"}},\"marker\":{\"colorbar\":{\"outlinewidth\":0,\"ticks\":\"\"}},\"type\":\"scatter3d\"}],\"scattercarpet\":[{\"marker\":{\"colorbar\":{\"outlinewidth\":0,\"ticks\":\"\"}},\"type\":\"scattercarpet\"}],\"scattergeo\":[{\"marker\":{\"colorbar\":{\"outlinewidth\":0,\"ticks\":\"\"}},\"type\":\"scattergeo\"}],\"scattergl\":[{\"marker\":{\"colorbar\":{\"outlinewidth\":0,\"ticks\":\"\"}},\"type\":\"scattergl\"}],\"scattermapbox\":[{\"marker\":{\"colorbar\":{\"outlinewidth\":0,\"ticks\":\"\"}},\"type\":\"scattermapbox\"}],\"scatterpolar\":[{\"marker\":{\"colorbar\":{\"outlinewidth\":0,\"ticks\":\"\"}},\"type\":\"scatterpolar\"}],\"scatterpolargl\":[{\"marker\":{\"colorbar\":{\"outlinewidth\":0,\"ticks\":\"\"}},\"type\":\"scatterpolargl\"}],\"scatterternary\":[{\"marker\":{\"colorbar\":{\"outlinewidth\":0,\"ticks\":\"\"}},\"type\":\"scatterternary\"}],\"surface\":[{\"colorbar\":{\"outlinewidth\":0,\"ticks\":\"\"},\"colorscale\":[[0.0,\"#0d0887\"],[0.1111111111111111,\"#46039f\"],[0.2222222222222222,\"#7201a8\"],[0.3333333333333333,\"#9c179e\"],[0.4444444444444444,\"#bd3786\"],[0.5555555555555556,\"#d8576b\"],[0.6666666666666666,\"#ed7953\"],[0.7777777777777778,\"#fb9f3a\"],[0.8888888888888888,\"#fdca26\"],[1.0,\"#f0f921\"]],\"type\":\"surface\"}],\"table\":[{\"cells\":{\"fill\":{\"color\":\"#EBF0F8\"},\"line\":{\"color\":\"white\"}},\"header\":{\"fill\":{\"color\":\"#C8D4E3\"},\"line\":{\"color\":\"white\"}},\"type\":\"table\"}]},\"layout\":{\"annotationdefaults\":{\"arrowcolor\":\"#2a3f5f\",\"arrowhead\":0,\"arrowwidth\":1},\"autotypenumbers\":\"strict\",\"coloraxis\":{\"colorbar\":{\"outlinewidth\":0,\"ticks\":\"\"}},\"colorscale\":{\"diverging\":[[0,\"#8e0152\"],[0.1,\"#c51b7d\"],[0.2,\"#de77ae\"],[0.3,\"#f1b6da\"],[0.4,\"#fde0ef\"],[0.5,\"#f7f7f7\"],[0.6,\"#e6f5d0\"],[0.7,\"#b8e186\"],[0.8,\"#7fbc41\"],[0.9,\"#4d9221\"],[1,\"#276419\"]],\"sequential\":[[0.0,\"#0d0887\"],[0.1111111111111111,\"#46039f\"],[0.2222222222222222,\"#7201a8\"],[0.3333333333333333,\"#9c179e\"],[0.4444444444444444,\"#bd3786\"],[0.5555555555555556,\"#d8576b\"],[0.6666666666666666,\"#ed7953\"],[0.7777777777777778,\"#fb9f3a\"],[0.8888888888888888,\"#fdca26\"],[1.0,\"#f0f921\"]],\"sequentialminus\":[[0.0,\"#0d0887\"],[0.1111111111111111,\"#46039f\"],[0.2222222222222222,\"#7201a8\"],[0.3333333333333333,\"#9c179e\"],[0.4444444444444444,\"#bd3786\"],[0.5555555555555556,\"#d8576b\"],[0.6666666666666666,\"#ed7953\"],[0.7777777777777778,\"#fb9f3a\"],[0.8888888888888888,\"#fdca26\"],[1.0,\"#f0f921\"]]},\"colorway\":[\"#636efa\",\"#EF553B\",\"#00cc96\",\"#ab63fa\",\"#FFA15A\",\"#19d3f3\",\"#FF6692\",\"#B6E880\",\"#FF97FF\",\"#FECB52\"],\"font\":{\"color\":\"#2a3f5f\"},\"geo\":{\"bgcolor\":\"white\",\"lakecolor\":\"white\",\"landcolor\":\"#E5ECF6\",\"showlakes\":true,\"showland\":true,\"subunitcolor\":\"white\"},\"hoverlabel\":{\"align\":\"left\"},\"hovermode\":\"closest\",\"mapbox\":{\"style\":\"light\"},\"paper_bgcolor\":\"white\",\"plot_bgcolor\":\"#E5ECF6\",\"polar\":{\"angularaxis\":{\"gridcolor\":\"white\",\"linecolor\":\"white\",\"ticks\":\"\"},\"bgcolor\":\"#E5ECF6\",\"radialaxis\":{\"gridcolor\":\"white\",\"linecolor\":\"white\",\"ticks\":\"\"}},\"scene\":{\"xaxis\":{\"backgroundcolor\":\"#E5ECF6\",\"gridcolor\":\"white\",\"gridwidth\":2,\"linecolor\":\"white\",\"showbackground\":true,\"ticks\":\"\",\"zerolinecolor\":\"white\"},\"yaxis\":{\"backgroundcolor\":\"#E5ECF6\",\"gridcolor\":\"white\",\"gridwidth\":2,\"linecolor\":\"white\",\"showbackground\":true,\"ticks\":\"\",\"zerolinecolor\":\"white\"},\"zaxis\":{\"backgroundcolor\":\"#E5ECF6\",\"gridcolor\":\"white\",\"gridwidth\":2,\"linecolor\":\"white\",\"showbackground\":true,\"ticks\":\"\",\"zerolinecolor\":\"white\"}},\"shapedefaults\":{\"line\":{\"color\":\"#2a3f5f\"}},\"ternary\":{\"aaxis\":{\"gridcolor\":\"white\",\"linecolor\":\"white\",\"ticks\":\"\"},\"baxis\":{\"gridcolor\":\"white\",\"linecolor\":\"white\",\"ticks\":\"\"},\"bgcolor\":\"#E5ECF6\",\"caxis\":{\"gridcolor\":\"white\",\"linecolor\":\"white\",\"ticks\":\"\"}},\"title\":{\"x\":0.05},\"xaxis\":{\"automargin\":true,\"gridcolor\":\"white\",\"linecolor\":\"white\",\"ticks\":\"\",\"title\":{\"standoff\":15},\"zerolinecolor\":\"white\",\"zerolinewidth\":2},\"yaxis\":{\"automargin\":true,\"gridcolor\":\"white\",\"linecolor\":\"white\",\"ticks\":\"\",\"title\":{\"standoff\":15},\"zerolinecolor\":\"white\",\"zerolinewidth\":2}}}},                        {\"responsive\": true}                    ).then(function(){\n",
              "                            \n",
              "var gd = document.getElementById('e058829e-5de8-4033-9288-0676c7083141');\n",
              "var x = new MutationObserver(function (mutations, observer) {{\n",
              "        var display = window.getComputedStyle(gd).display;\n",
              "        if (!display || display === 'none') {{\n",
              "            console.log([gd, 'removed!']);\n",
              "            Plotly.purge(gd);\n",
              "            observer.disconnect();\n",
              "        }}\n",
              "}});\n",
              "\n",
              "// Listen for the removal of the full notebook cells\n",
              "var notebookContainer = gd.closest('#notebook-container');\n",
              "if (notebookContainer) {{\n",
              "    x.observe(notebookContainer, {childList: true});\n",
              "}}\n",
              "\n",
              "// Listen for the clearing of the current output cell\n",
              "var outputEl = gd.closest('.output');\n",
              "if (outputEl) {{\n",
              "    x.observe(outputEl, {childList: true});\n",
              "}}\n",
              "\n",
              "                        })                };                });            </script>        </div>"
            ]
          },
          "metadata": {},
          "output_type": "display_data"
        }
      ],
      "source": [
        "import plotly.express as px\n",
        "from plotly import graph_objects as go\n",
        "\n",
        "i = i.reset_index()\n",
        "fig = go.Figure(go.Funnel(x = i['user'], y = i['event'], textinfo = \"value+percent initial+percent previous\"))\n",
        "fig.show();"
      ]
    },
    {
      "cell_type": "markdown",
      "metadata": {
        "id": "ZSTLvizRDYOC"
      },
      "source": [
        "исходя из данных таблицы и графика мы видим, что наибольшее число пользователей теряются при переходе с главного экрана на каталог.\n",
        "40% клиентов не доходят до каталога.\n",
        "47% клиентов доходят до окна с оплатой."
      ]
    },
    {
      "cell_type": "markdown",
      "metadata": {
        "id": "ll_d3CixDYOD"
      },
      "source": [
        "**Вывод**\n",
        "\n",
        "Изучили события:\n",
        "MainScreenAppear, OffersScreenAppear, CartScreenAppear, PaymentScreenSuccessful, скорее всего последовательность выполнения такая. С событием Туториал разобраться не удалось, скорей всего это дополнительная фича для тех кто не разобрался.\n",
        "Самое часто встречающееся событие - это MainScreenAppear.\n",
        "С MainScreenAppear 40% пользователей не переходят на следующее событие OffersScreenAppear, это максимальное число не дошедших с одного события на другое.\n",
        "47% пользователей доходит от первого события до оплаты."
      ]
    },
    {
      "cell_type": "code",
      "execution_count": null,
      "metadata": {
        "id": "2JFM0C5LDYOE",
        "outputId": "16fca772-ae0d-442d-9cd7-20e1131ce7fc"
      },
      "outputs": [
        {
          "data": {
            "text/plain": [
              "group\n",
              "246    2484\n",
              "247    2513\n",
              "248    2537\n",
              "Name: user, dtype: int64"
            ]
          },
          "execution_count": 31,
          "metadata": {},
          "output_type": "execute_result"
        }
      ],
      "source": [
        "# Сколько пользователей в каждой экспериментальной группе?\n",
        "u = df.groupby('group')['user'].nunique()\n",
        "u"
      ]
    },
    {
      "cell_type": "code",
      "execution_count": null,
      "metadata": {
        "id": "ih-nWxfpDYOF",
        "outputId": "56b70815-8800-49dd-9bfa-5a8aa3f9cce4"
      },
      "outputs": [
        {
          "data": {
            "text/plain": [
              "user     0.0\n",
              "group    0.0\n",
              "dtype: float64"
            ]
          },
          "execution_count": 32,
          "metadata": {},
          "output_type": "execute_result"
        }
      ],
      "source": [
        "# проверка пересечения групп\n",
        "\n",
        "df.groupby('user')['group'].nunique().reset_index().query('group > 1').sum()"
      ]
    },
    {
      "cell_type": "code",
      "execution_count": null,
      "metadata": {
        "id": "tKBlLHEXDYOH",
        "outputId": "768e18ec-fe93-432d-e13d-d013999caaa0"
      },
      "outputs": [
        {
          "data": {
            "text/html": [
              "<div>\n",
              "<style scoped>\n",
              "    .dataframe tbody tr th:only-of-type {\n",
              "        vertical-align: middle;\n",
              "    }\n",
              "\n",
              "    .dataframe tbody tr th {\n",
              "        vertical-align: top;\n",
              "    }\n",
              "\n",
              "    .dataframe thead th {\n",
              "        text-align: right;\n",
              "    }\n",
              "</style>\n",
              "<table border=\"1\" class=\"dataframe\">\n",
              "  <thead>\n",
              "    <tr style=\"text-align: right;\">\n",
              "      <th>group</th>\n",
              "      <th>246</th>\n",
              "      <th>247</th>\n",
              "      <th>248</th>\n",
              "    </tr>\n",
              "    <tr>\n",
              "      <th>event</th>\n",
              "      <th></th>\n",
              "      <th></th>\n",
              "      <th></th>\n",
              "    </tr>\n",
              "  </thead>\n",
              "  <tbody>\n",
              "    <tr>\n",
              "      <th>MainScreenAppear</th>\n",
              "      <td>2450</td>\n",
              "      <td>2476</td>\n",
              "      <td>2493</td>\n",
              "    </tr>\n",
              "    <tr>\n",
              "      <th>OffersScreenAppear</th>\n",
              "      <td>1542</td>\n",
              "      <td>1520</td>\n",
              "      <td>1531</td>\n",
              "    </tr>\n",
              "    <tr>\n",
              "      <th>CartScreenAppear</th>\n",
              "      <td>1266</td>\n",
              "      <td>1238</td>\n",
              "      <td>1230</td>\n",
              "    </tr>\n",
              "    <tr>\n",
              "      <th>PaymentScreenSuccessful</th>\n",
              "      <td>1200</td>\n",
              "      <td>1158</td>\n",
              "      <td>1181</td>\n",
              "    </tr>\n",
              "    <tr>\n",
              "      <th>Tutorial</th>\n",
              "      <td>278</td>\n",
              "      <td>283</td>\n",
              "      <td>279</td>\n",
              "    </tr>\n",
              "  </tbody>\n",
              "</table>\n",
              "</div>"
            ],
            "text/plain": [
              "group                     246   247   248\n",
              "event                                    \n",
              "MainScreenAppear         2450  2476  2493\n",
              "OffersScreenAppear       1542  1520  1531\n",
              "CartScreenAppear         1266  1238  1230\n",
              "PaymentScreenSuccessful  1200  1158  1181\n",
              "Tutorial                  278   283   279"
            ]
          },
          "execution_count": 33,
          "metadata": {},
          "output_type": "execute_result"
        }
      ],
      "source": [
        "t = df.pivot_table(index = 'event', columns = 'group', values = 'user', aggfunc = 'nunique').sort_values(248, ascending=False)\n",
        "t"
      ]
    },
    {
      "cell_type": "code",
      "execution_count": null,
      "metadata": {
        "id": "IcpbWjVoDYOI",
        "outputId": "ebda3940-563a-476e-b117-b73b76c2a010"
      },
      "outputs": [
        {
          "data": {
            "text/html": [
              "<div>\n",
              "<style scoped>\n",
              "    .dataframe tbody tr th:only-of-type {\n",
              "        vertical-align: middle;\n",
              "    }\n",
              "\n",
              "    .dataframe tbody tr th {\n",
              "        vertical-align: top;\n",
              "    }\n",
              "\n",
              "    .dataframe thead th {\n",
              "        text-align: right;\n",
              "    }\n",
              "</style>\n",
              "<table border=\"1\" class=\"dataframe\">\n",
              "  <thead>\n",
              "    <tr style=\"text-align: right;\">\n",
              "      <th>group</th>\n",
              "      <th>246</th>\n",
              "      <th>247</th>\n",
              "      <th>248</th>\n",
              "      <th>r_246</th>\n",
              "      <th>r_247</th>\n",
              "      <th>r_248</th>\n",
              "    </tr>\n",
              "    <tr>\n",
              "      <th>event</th>\n",
              "      <th></th>\n",
              "      <th></th>\n",
              "      <th></th>\n",
              "      <th></th>\n",
              "      <th></th>\n",
              "      <th></th>\n",
              "    </tr>\n",
              "  </thead>\n",
              "  <tbody>\n",
              "    <tr>\n",
              "      <th>MainScreenAppear</th>\n",
              "      <td>2450</td>\n",
              "      <td>2476</td>\n",
              "      <td>2493</td>\n",
              "      <td>99.0</td>\n",
              "      <td>99.0</td>\n",
              "      <td>98.0</td>\n",
              "    </tr>\n",
              "    <tr>\n",
              "      <th>OffersScreenAppear</th>\n",
              "      <td>1542</td>\n",
              "      <td>1520</td>\n",
              "      <td>1531</td>\n",
              "      <td>62.0</td>\n",
              "      <td>60.0</td>\n",
              "      <td>60.0</td>\n",
              "    </tr>\n",
              "    <tr>\n",
              "      <th>CartScreenAppear</th>\n",
              "      <td>1266</td>\n",
              "      <td>1238</td>\n",
              "      <td>1230</td>\n",
              "      <td>51.0</td>\n",
              "      <td>49.0</td>\n",
              "      <td>48.0</td>\n",
              "    </tr>\n",
              "    <tr>\n",
              "      <th>PaymentScreenSuccessful</th>\n",
              "      <td>1200</td>\n",
              "      <td>1158</td>\n",
              "      <td>1181</td>\n",
              "      <td>48.0</td>\n",
              "      <td>46.0</td>\n",
              "      <td>47.0</td>\n",
              "    </tr>\n",
              "    <tr>\n",
              "      <th>Tutorial</th>\n",
              "      <td>278</td>\n",
              "      <td>283</td>\n",
              "      <td>279</td>\n",
              "      <td>11.0</td>\n",
              "      <td>11.0</td>\n",
              "      <td>11.0</td>\n",
              "    </tr>\n",
              "  </tbody>\n",
              "</table>\n",
              "</div>"
            ],
            "text/plain": [
              "group                     246   247   248  r_246  r_247  r_248\n",
              "event                                                         \n",
              "MainScreenAppear         2450  2476  2493   99.0   99.0   98.0\n",
              "OffersScreenAppear       1542  1520  1531   62.0   60.0   60.0\n",
              "CartScreenAppear         1266  1238  1230   51.0   49.0   48.0\n",
              "PaymentScreenSuccessful  1200  1158  1181   48.0   46.0   47.0\n",
              "Tutorial                  278   283   279   11.0   11.0   11.0"
            ]
          },
          "execution_count": 34,
          "metadata": {},
          "output_type": "execute_result"
        }
      ],
      "source": [
        "# посчитаем долю пользователей по событиям\n",
        "\n",
        "t['r_246'] = round (t[246] / u[246]*100)\n",
        "t['r_247'] = round (t[247] / u[247]*100)\n",
        "t['r_248'] = round (t[248] / u[248]*100)\n",
        "t"
      ]
    },
    {
      "cell_type": "markdown",
      "metadata": {
        "id": "hSt-bDZSDYOL"
      },
      "source": [
        "\n",
        "\n",
        "H0 - доли сравниваемых групп одинаковы.\n",
        "\n",
        "H1 - доли сравниваемых групп разные."
      ]
    },
    {
      "cell_type": "code",
      "execution_count": null,
      "metadata": {
        "id": "r75-boFRDYOO"
      },
      "outputs": [],
      "source": [
        "def z_testing(gr_1, gr_2, alpha):\n",
        "\n",
        "    for i in t.index:\n",
        "\n",
        "        # пропорция успехов в первой группе:\n",
        "        p1 = t[gr_1][i] / u[gr_1]\n",
        "\n",
        "        # пропорция успехов во второй группе:\n",
        "        p2 = t[gr_2][i] / u[gr_2]\n",
        "\n",
        "        # пропорция успехов в комбинированном датасете:\n",
        "        p_combined = ((t[gr_1][i] + t[gr_2][i]) / (u[gr_1] + u[gr_2]))\n",
        "\n",
        "        # разница пропорций в датасетах\n",
        "        difference = p1 - p2\n",
        "\n",
        "        # считаем статистику в ст.отклонениях стандартного нормального распределения\n",
        "        z_value = difference / mth.sqrt(p_combined * (1 - p_combined) * (1 / u[gr_1] + 1 / u[gr_2]))\n",
        "\n",
        "        # задаем стандартное нормальное распределение (среднее 0, ст.отклонение 1)\n",
        "        distr = st.norm(0, 1)\n",
        "\n",
        "        p_value = round ((1 - distr.cdf(abs(z_value))) * 2, 3)\n",
        "\n",
        "\n",
        "\n",
        "        print('Группа {} и группа {}, событие {}, p-значение: {}'.format(gr_1, gr_2, i, p_value))\n",
        "\n",
        "        if p_value < alpha:\n",
        "            print(\"Отвергаем нулевую гипотезу, между долями есть статистически значимая разница\")\n",
        "            print('----------------------------------------------------------------------------')\n",
        "        else:\n",
        "            print(\"Не получилось отвергнуть нулевую гипотезу, нет оснований считать доли разными\")\n",
        "            print('-----------------------------------------------------------------------------')"
      ]
    },
    {
      "cell_type": "markdown",
      "metadata": {
        "id": "kwpkdrjlDYOP"
      },
      "source": [
        "Есть 2 контрольные группы для А/А-эксперимента, чтобы проверить корректность всех механизмов и расчётов. Проверьте, находят ли статистические критерии разницу между выборками 246 и 247"
      ]
    },
    {
      "cell_type": "code",
      "execution_count": null,
      "metadata": {
        "id": "DhR83ZUQDYOP",
        "outputId": "b2317f8c-fe40-443c-da14-6966d1e9d740"
      },
      "outputs": [
        {
          "name": "stdout",
          "output_type": "stream",
          "text": [
            "Группа 246 и группа 247, событие MainScreenAppear, p-значение: 0.757\n",
            "Не получилось отвергнуть нулевую гипотезу, нет оснований считать доли разными\n",
            "-----------------------------------------------------------------------------\n",
            "Группа 246 и группа 247, событие OffersScreenAppear, p-значение: 0.248\n",
            "Не получилось отвергнуть нулевую гипотезу, нет оснований считать доли разными\n",
            "-----------------------------------------------------------------------------\n",
            "Группа 246 и группа 247, событие CartScreenAppear, p-значение: 0.229\n",
            "Не получилось отвергнуть нулевую гипотезу, нет оснований считать доли разными\n",
            "-----------------------------------------------------------------------------\n",
            "Группа 246 и группа 247, событие PaymentScreenSuccessful, p-значение: 0.115\n",
            "Не получилось отвергнуть нулевую гипотезу, нет оснований считать доли разными\n",
            "-----------------------------------------------------------------------------\n",
            "Группа 246 и группа 247, событие Tutorial, p-значение: 0.938\n",
            "Не получилось отвергнуть нулевую гипотезу, нет оснований считать доли разными\n",
            "-----------------------------------------------------------------------------\n"
          ]
        }
      ],
      "source": [
        "z_testing(246, 247, 0.01)"
      ]
    },
    {
      "cell_type": "markdown",
      "metadata": {
        "id": "Ayr_ULF2DYOQ"
      },
      "source": [
        "С помощью зи теста проверила 2 группы 246/247\n",
        "Нуевую гипотезу отвергнуть ен удалось, все события в группах не имеют стат значимых различий\n",
        "за альфу взяла 0,01, для точности резульатта"
      ]
    },
    {
      "cell_type": "code",
      "execution_count": null,
      "metadata": {
        "id": "bwfbXjw6DYOQ",
        "outputId": "82546d44-9be5-4530-fc41-3af2df4f266f"
      },
      "outputs": [
        {
          "name": "stdout",
          "output_type": "stream",
          "text": [
            "Группа 246 и группа 248, событие MainScreenAppear, p-значение: 0.295\n",
            "Не получилось отвергнуть нулевую гипотезу, нет оснований считать доли разными\n",
            "-----------------------------------------------------------------------------\n",
            "Группа 246 и группа 248, событие OffersScreenAppear, p-значение: 0.208\n",
            "Не получилось отвергнуть нулевую гипотезу, нет оснований считать доли разными\n",
            "-----------------------------------------------------------------------------\n",
            "Группа 246 и группа 248, событие CartScreenAppear, p-значение: 0.078\n",
            "Не получилось отвергнуть нулевую гипотезу, нет оснований считать доли разными\n",
            "-----------------------------------------------------------------------------\n",
            "Группа 246 и группа 248, событие PaymentScreenSuccessful, p-значение: 0.212\n",
            "Не получилось отвергнуть нулевую гипотезу, нет оснований считать доли разными\n",
            "-----------------------------------------------------------------------------\n",
            "Группа 246 и группа 248, событие Tutorial, p-значение: 0.826\n",
            "Не получилось отвергнуть нулевую гипотезу, нет оснований считать доли разными\n",
            "-----------------------------------------------------------------------------\n"
          ]
        }
      ],
      "source": [
        "z_testing(246, 248, 0.01)"
      ]
    },
    {
      "cell_type": "markdown",
      "metadata": {
        "id": "nI7kBtS5DYOR"
      },
      "source": [
        "С помощью зи теста проверила 2 группы 246/248 Нулевую гипотезу отвергнуть не удалось, все события в группах не имеют стат значимых различий за альфу взяла 0,01, для точности резульатта"
      ]
    },
    {
      "cell_type": "code",
      "execution_count": null,
      "metadata": {
        "id": "eCZtAbKCDYOT",
        "outputId": "1dd2afcf-a209-44d9-bb77-97b03ce4bcca"
      },
      "outputs": [
        {
          "name": "stdout",
          "output_type": "stream",
          "text": [
            "Группа 247 и группа 248, событие MainScreenAppear, p-значение: 0.459\n",
            "Не получилось отвергнуть нулевую гипотезу, нет оснований считать доли разными\n",
            "-----------------------------------------------------------------------------\n",
            "Группа 247 и группа 248, событие OffersScreenAppear, p-значение: 0.92\n",
            "Не получилось отвергнуть нулевую гипотезу, нет оснований считать доли разными\n",
            "-----------------------------------------------------------------------------\n",
            "Группа 247 и группа 248, событие CartScreenAppear, p-значение: 0.579\n",
            "Не получилось отвергнуть нулевую гипотезу, нет оснований считать доли разными\n",
            "-----------------------------------------------------------------------------\n",
            "Группа 247 и группа 248, событие PaymentScreenSuccessful, p-значение: 0.737\n",
            "Не получилось отвергнуть нулевую гипотезу, нет оснований считать доли разными\n",
            "-----------------------------------------------------------------------------\n",
            "Группа 247 и группа 248, событие Tutorial, p-значение: 0.765\n",
            "Не получилось отвергнуть нулевую гипотезу, нет оснований считать доли разными\n",
            "-----------------------------------------------------------------------------\n"
          ]
        }
      ],
      "source": [
        "z_testing(247, 248, 0.01)"
      ]
    },
    {
      "cell_type": "markdown",
      "metadata": {
        "id": "qa9Ai5vKDYOV"
      },
      "source": [
        "С помощью зи теста проверила 2 группы 247/248 Нулевую гипотезу отвергнуть не удалось, все события в группах не имеют стат значимых различий за альфу взяла 0,01, для точности резульатта"
      ]
    },
    {
      "cell_type": "code",
      "execution_count": null,
      "metadata": {
        "id": "XOyF672ADYOW",
        "outputId": "20a5a866-aa94-4886-e71f-428b77b6864b"
      },
      "outputs": [
        {
          "data": {
            "text/html": [
              "<div>\n",
              "<style scoped>\n",
              "    .dataframe tbody tr th:only-of-type {\n",
              "        vertical-align: middle;\n",
              "    }\n",
              "\n",
              "    .dataframe tbody tr th {\n",
              "        vertical-align: top;\n",
              "    }\n",
              "\n",
              "    .dataframe thead th {\n",
              "        text-align: right;\n",
              "    }\n",
              "</style>\n",
              "<table border=\"1\" class=\"dataframe\">\n",
              "  <thead>\n",
              "    <tr style=\"text-align: right;\">\n",
              "      <th>group</th>\n",
              "      <th>246</th>\n",
              "      <th>247</th>\n",
              "      <th>248</th>\n",
              "      <th>r_246</th>\n",
              "      <th>r_247</th>\n",
              "      <th>r_248</th>\n",
              "      <th>246247</th>\n",
              "      <th>r_246_247</th>\n",
              "    </tr>\n",
              "    <tr>\n",
              "      <th>event</th>\n",
              "      <th></th>\n",
              "      <th></th>\n",
              "      <th></th>\n",
              "      <th></th>\n",
              "      <th></th>\n",
              "      <th></th>\n",
              "      <th></th>\n",
              "      <th></th>\n",
              "    </tr>\n",
              "  </thead>\n",
              "  <tbody>\n",
              "    <tr>\n",
              "      <th>MainScreenAppear</th>\n",
              "      <td>2450</td>\n",
              "      <td>2476</td>\n",
              "      <td>2493</td>\n",
              "      <td>99.0</td>\n",
              "      <td>99.0</td>\n",
              "      <td>98.0</td>\n",
              "      <td>4926</td>\n",
              "      <td>99.0</td>\n",
              "    </tr>\n",
              "    <tr>\n",
              "      <th>OffersScreenAppear</th>\n",
              "      <td>1542</td>\n",
              "      <td>1520</td>\n",
              "      <td>1531</td>\n",
              "      <td>62.0</td>\n",
              "      <td>60.0</td>\n",
              "      <td>60.0</td>\n",
              "      <td>3062</td>\n",
              "      <td>61.0</td>\n",
              "    </tr>\n",
              "    <tr>\n",
              "      <th>CartScreenAppear</th>\n",
              "      <td>1266</td>\n",
              "      <td>1238</td>\n",
              "      <td>1230</td>\n",
              "      <td>51.0</td>\n",
              "      <td>49.0</td>\n",
              "      <td>48.0</td>\n",
              "      <td>2504</td>\n",
              "      <td>50.0</td>\n",
              "    </tr>\n",
              "    <tr>\n",
              "      <th>PaymentScreenSuccessful</th>\n",
              "      <td>1200</td>\n",
              "      <td>1158</td>\n",
              "      <td>1181</td>\n",
              "      <td>48.0</td>\n",
              "      <td>46.0</td>\n",
              "      <td>47.0</td>\n",
              "      <td>2358</td>\n",
              "      <td>47.0</td>\n",
              "    </tr>\n",
              "    <tr>\n",
              "      <th>Tutorial</th>\n",
              "      <td>278</td>\n",
              "      <td>283</td>\n",
              "      <td>279</td>\n",
              "      <td>11.0</td>\n",
              "      <td>11.0</td>\n",
              "      <td>11.0</td>\n",
              "      <td>561</td>\n",
              "      <td>11.0</td>\n",
              "    </tr>\n",
              "  </tbody>\n",
              "</table>\n",
              "</div>"
            ],
            "text/plain": [
              "group                     246   247   248  r_246  r_247  r_248  246247  \\\n",
              "event                                                                    \n",
              "MainScreenAppear         2450  2476  2493   99.0   99.0   98.0    4926   \n",
              "OffersScreenAppear       1542  1520  1531   62.0   60.0   60.0    3062   \n",
              "CartScreenAppear         1266  1238  1230   51.0   49.0   48.0    2504   \n",
              "PaymentScreenSuccessful  1200  1158  1181   48.0   46.0   47.0    2358   \n",
              "Tutorial                  278   283   279   11.0   11.0   11.0     561   \n",
              "\n",
              "group                    r_246_247  \n",
              "event                               \n",
              "MainScreenAppear              99.0  \n",
              "OffersScreenAppear            61.0  \n",
              "CartScreenAppear              50.0  \n",
              "PaymentScreenSuccessful       47.0  \n",
              "Tutorial                      11.0  "
            ]
          },
          "execution_count": 39,
          "metadata": {},
          "output_type": "execute_result"
        }
      ],
      "source": [
        "# посчитаем общее количество клиентов для 246 и 247 групп\n",
        "\n",
        "u[246_247] = u[246] + u[247]\n",
        "t[246_247] = t[246] + t[247]\n",
        "t['r_246_247'] = round (t[246_247] / u[246_247]*100)\n",
        "t"
      ]
    },
    {
      "cell_type": "code",
      "execution_count": null,
      "metadata": {
        "id": "qQ9pPCohDYOY",
        "outputId": "60deb341-3bb7-490b-e440-01df4d903b15"
      },
      "outputs": [
        {
          "name": "stdout",
          "output_type": "stream",
          "text": [
            "Группа 246247 и группа 248, событие MainScreenAppear, p-значение: 0.294\n",
            "Не получилось отвергнуть нулевую гипотезу, нет оснований считать доли разными\n",
            "-----------------------------------------------------------------------------\n",
            "Группа 246247 и группа 248, событие OffersScreenAppear, p-значение: 0.434\n",
            "Не получилось отвергнуть нулевую гипотезу, нет оснований считать доли разными\n",
            "-----------------------------------------------------------------------------\n",
            "Группа 246247 и группа 248, событие CartScreenAppear, p-значение: 0.182\n",
            "Не получилось отвергнуть нулевую гипотезу, нет оснований считать доли разными\n",
            "-----------------------------------------------------------------------------\n",
            "Группа 246247 и группа 248, событие PaymentScreenSuccessful, p-значение: 0.6\n",
            "Не получилось отвергнуть нулевую гипотезу, нет оснований считать доли разными\n",
            "-----------------------------------------------------------------------------\n",
            "Группа 246247 и группа 248, событие Tutorial, p-значение: 0.765\n",
            "Не получилось отвергнуть нулевую гипотезу, нет оснований считать доли разными\n",
            "-----------------------------------------------------------------------------\n"
          ]
        }
      ],
      "source": [
        "z_testing(246247, 248, 0.01)"
      ]
    },
    {
      "cell_type": "markdown",
      "metadata": {
        "id": "c4c6W6ydDYOZ"
      },
      "source": [
        "Добавила новые столбцы: сумма клиентов в группах 246 и 247 и их доли по событиям.\n",
        "проверили гипотезу о равенстве долей между 246+247 и 248 группам\n",
        "Нулевую гипотезу отвергнуть не удалось, все события в группах не имеют стат значимых различий за альфу взяла 0,01, для точности результата"
      ]
    },
    {
      "cell_type": "markdown",
      "metadata": {
        "id": "p-m_ByCPDYOa"
      },
      "source": [
        "**Вывод**\n",
        "\n",
        "Количество пользователей по группам:\n",
        "\n",
        "246 - 2484\n",
        "\n",
        "247 -  2513\n",
        "\n",
        "248 -  2537\n",
        "\n",
        "Посчитала пользователей всех экспериментальных групп по всем событиям.\n",
        "\n",
        "\n",
        "Самое популярное событие для всех трех групп - это MainScreenAppear\n",
        "\n",
        "\n",
        "Были сформулированы гипотезы для трех групп и всех событий:\n",
        "\n",
        "H0 - доли сравниваемых групп одинаковы.\n",
        "\n",
        "\n",
        "H1 - доли сравниваемых групп разные.\n",
        "\n",
        "\n",
        "Стат знач различий по всем событиям для А/А теста групп 246 и 247 не выявлено.\n",
        "Стат знач различий по всем событиям для А/А/В теста не выявлено.\n",
        "Стат знач различий по всем событиям для А+А/В теста не выявлено.\n",
        "\n",
        "\n",
        "Исходя из данных теста задумка дизайнеров по смене шрифта не имеет влияния на пользователей в группах."
      ]
    },
    {
      "cell_type": "markdown",
      "metadata": {
        "id": "LqKXeZ1zDYOc"
      },
      "source": [
        "**ОБЩИЙ ВЫВОД**\n",
        "\n",
        "\n",
        "\n",
        "общее количество клиентов - 7 551\n",
        "событий - 243 713\n",
        "среднее число событий на одного клиента - 32.\n",
        "\n",
        "По данным в гиторгамме по дате принято решенеие об удалении данных до 1 августа 2019 года.\n",
        "\n",
        "Для отброшенных событий составила чуть больше 1%.\n",
        "\n",
        "Все три группы присутствуют в эксперименте.\n",
        "\n",
        "\n",
        "246  -  2484\n",
        "\n",
        "247  -  2513\n",
        "\n",
        "248  -  2537\n",
        "\n",
        "\n",
        "Есть события:\n",
        "\n",
        "MainScreenAppear (просмотр главного экрана),\n",
        "\n",
        "OffersScreenAppear (каталог),\n",
        "\n",
        "CartScreenAppear (корзина),\n",
        "\n",
        "PaymentScreenSuccessful (экран оплаты), выполняющиеся пользователями в данной последовательности.\n",
        "\n",
        "С туториалом определиться не удалось.\n",
        "\n",
        "\n",
        "Часто используемое событие для всех групп - это MainScreenAppear.\n",
        "\n",
        "\n",
        "С события MainScreenAppear около 40% пользователей не переходят на OffersScreenAppear, это наибольшее число не дошедших с одного события на другое.\n",
        "\n",
        "47% пользователей проходит всю воронку событий до оплаты.\n",
        "\n",
        "\n",
        "Провели А/А тест.\n",
        "\n",
        "Итог - статистически значимых различий не выявлено.\n",
        "\n",
        "\n",
        "Сформулировали гипотезы для трех групп и всех событий:\n",
        "\n",
        "H0 - доли сравниваемых групп одинаковы.\n",
        "\n",
        "H1 - доли сравниваемых групп разные.\n",
        "\n",
        "\n",
        "Стат знач различий между А/А/В и А+А/В тестами не выявлено, задумка дизайнеров по смене шрифта не имеет влияния на пользователей в группах."
      ]
    }
  ],
  "metadata": {
    "ExecuteTimeLog": [
      {
        "duration": 1453,
        "start_time": "2023-04-19T15:47:54.515Z"
      },
      {
        "duration": 160,
        "start_time": "2023-04-19T15:47:55.970Z"
      },
      {
        "duration": 0,
        "start_time": "2023-04-19T15:47:56.134Z"
      },
      {
        "duration": 0,
        "start_time": "2023-04-19T15:47:56.136Z"
      },
      {
        "duration": 0,
        "start_time": "2023-04-19T15:47:56.137Z"
      },
      {
        "duration": 0,
        "start_time": "2023-04-19T15:47:56.139Z"
      },
      {
        "duration": 0,
        "start_time": "2023-04-19T15:47:56.140Z"
      },
      {
        "duration": 0,
        "start_time": "2023-04-19T15:47:56.142Z"
      },
      {
        "duration": 0,
        "start_time": "2023-04-19T15:47:56.146Z"
      },
      {
        "duration": 0,
        "start_time": "2023-04-19T15:47:56.147Z"
      },
      {
        "duration": 0,
        "start_time": "2023-04-19T15:47:56.149Z"
      },
      {
        "duration": 0,
        "start_time": "2023-04-19T15:47:56.150Z"
      },
      {
        "duration": 0,
        "start_time": "2023-04-19T15:47:56.152Z"
      },
      {
        "duration": 0,
        "start_time": "2023-04-19T15:47:56.153Z"
      },
      {
        "duration": 0,
        "start_time": "2023-04-19T15:47:56.154Z"
      },
      {
        "duration": 0,
        "start_time": "2023-04-19T15:47:56.156Z"
      },
      {
        "duration": 0,
        "start_time": "2023-04-19T15:47:56.157Z"
      },
      {
        "duration": 0,
        "start_time": "2023-04-19T15:47:56.159Z"
      },
      {
        "duration": 0,
        "start_time": "2023-04-19T15:47:56.185Z"
      },
      {
        "duration": 1,
        "start_time": "2023-04-19T15:47:56.186Z"
      },
      {
        "duration": 0,
        "start_time": "2023-04-19T15:47:56.189Z"
      },
      {
        "duration": 0,
        "start_time": "2023-04-19T15:47:56.191Z"
      },
      {
        "duration": 0,
        "start_time": "2023-04-19T15:47:56.193Z"
      },
      {
        "duration": 0,
        "start_time": "2023-04-19T15:47:56.194Z"
      },
      {
        "duration": 0,
        "start_time": "2023-04-19T15:47:56.195Z"
      },
      {
        "duration": 0,
        "start_time": "2023-04-19T15:47:56.196Z"
      },
      {
        "duration": 0,
        "start_time": "2023-04-19T15:47:56.196Z"
      },
      {
        "duration": 0,
        "start_time": "2023-04-19T15:47:56.200Z"
      },
      {
        "duration": 0,
        "start_time": "2023-04-19T15:47:56.201Z"
      },
      {
        "duration": 0,
        "start_time": "2023-04-19T15:47:56.202Z"
      },
      {
        "duration": 0,
        "start_time": "2023-04-19T15:47:56.209Z"
      },
      {
        "duration": 0,
        "start_time": "2023-04-19T15:47:56.210Z"
      },
      {
        "duration": 914,
        "start_time": "2023-04-19T15:51:57.449Z"
      },
      {
        "duration": 17,
        "start_time": "2023-04-19T15:52:04.031Z"
      },
      {
        "duration": 45,
        "start_time": "2023-04-19T15:52:04.050Z"
      },
      {
        "duration": 38,
        "start_time": "2023-04-19T15:52:04.097Z"
      },
      {
        "duration": 104,
        "start_time": "2023-04-19T15:52:04.137Z"
      },
      {
        "duration": 172,
        "start_time": "2023-04-19T15:52:04.244Z"
      },
      {
        "duration": 392,
        "start_time": "2023-04-19T15:52:04.421Z"
      },
      {
        "duration": 25,
        "start_time": "2023-04-19T15:52:04.815Z"
      },
      {
        "duration": 31,
        "start_time": "2023-04-19T15:52:04.842Z"
      },
      {
        "duration": 6,
        "start_time": "2023-04-19T15:52:04.875Z"
      },
      {
        "duration": 69,
        "start_time": "2023-04-19T15:52:04.883Z"
      },
      {
        "duration": 423,
        "start_time": "2023-04-19T15:52:04.954Z"
      },
      {
        "duration": 65,
        "start_time": "2023-04-19T15:52:05.379Z"
      },
      {
        "duration": 104,
        "start_time": "2023-04-19T15:52:05.446Z"
      },
      {
        "duration": 10,
        "start_time": "2023-04-19T15:52:05.555Z"
      },
      {
        "duration": 75,
        "start_time": "2023-04-19T15:52:05.567Z"
      },
      {
        "duration": 8,
        "start_time": "2023-04-19T15:52:05.643Z"
      },
      {
        "duration": 106,
        "start_time": "2023-04-19T15:52:05.652Z"
      },
      {
        "duration": 17,
        "start_time": "2023-04-19T15:52:05.760Z"
      },
      {
        "duration": 122,
        "start_time": "2023-04-19T15:52:05.780Z"
      },
      {
        "duration": 140,
        "start_time": "2023-04-19T15:52:05.909Z"
      },
      {
        "duration": 225,
        "start_time": "2023-04-19T15:52:06.051Z"
      },
      {
        "duration": 66,
        "start_time": "2023-04-19T15:52:06.278Z"
      },
      {
        "duration": 131,
        "start_time": "2023-04-19T15:52:06.346Z"
      },
      {
        "duration": 38,
        "start_time": "2023-04-19T15:52:06.480Z"
      },
      {
        "duration": 12,
        "start_time": "2023-04-19T15:52:06.527Z"
      },
      {
        "duration": 76,
        "start_time": "2023-04-19T15:52:06.545Z"
      },
      {
        "duration": 29,
        "start_time": "2023-04-19T15:52:06.628Z"
      },
      {
        "duration": 14,
        "start_time": "2023-04-19T15:52:06.660Z"
      },
      {
        "duration": 39,
        "start_time": "2023-04-19T15:52:06.676Z"
      },
      {
        "duration": 16,
        "start_time": "2023-04-19T15:52:06.720Z"
      },
      {
        "duration": 45,
        "start_time": "2023-04-19T16:17:34.146Z"
      },
      {
        "duration": 7,
        "start_time": "2023-04-19T16:19:30.810Z"
      },
      {
        "duration": 1348,
        "start_time": "2023-04-19T16:19:32.509Z"
      },
      {
        "duration": 501,
        "start_time": "2023-04-19T16:19:33.859Z"
      },
      {
        "duration": 180,
        "start_time": "2023-04-19T16:20:05.621Z"
      },
      {
        "duration": 8,
        "start_time": "2023-04-19T16:20:07.025Z"
      },
      {
        "duration": 20,
        "start_time": "2023-04-19T16:20:07.383Z"
      },
      {
        "duration": 17,
        "start_time": "2023-04-19T16:20:07.730Z"
      },
      {
        "duration": 65,
        "start_time": "2023-04-19T16:20:08.023Z"
      },
      {
        "duration": 138,
        "start_time": "2023-04-19T16:20:08.388Z"
      },
      {
        "duration": 231,
        "start_time": "2023-04-19T16:20:08.928Z"
      },
      {
        "duration": 13,
        "start_time": "2023-04-19T16:20:10.487Z"
      },
      {
        "duration": 11,
        "start_time": "2023-04-19T16:20:11.074Z"
      },
      {
        "duration": 4,
        "start_time": "2023-04-19T16:20:11.257Z"
      },
      {
        "duration": 32,
        "start_time": "2023-04-19T16:20:11.787Z"
      },
      {
        "duration": 271,
        "start_time": "2023-04-19T16:20:15.899Z"
      },
      {
        "duration": 197,
        "start_time": "2023-04-19T16:21:12.315Z"
      },
      {
        "duration": 30,
        "start_time": "2023-04-19T16:21:39.095Z"
      },
      {
        "duration": 144,
        "start_time": "2023-04-19T16:27:45.595Z"
      },
      {
        "duration": 72,
        "start_time": "2023-04-19T16:27:55.976Z"
      },
      {
        "duration": 11,
        "start_time": "2023-04-19T16:28:01.329Z"
      },
      {
        "duration": 9,
        "start_time": "2023-04-19T16:28:11.208Z"
      },
      {
        "duration": 9,
        "start_time": "2023-04-19T16:29:28.116Z"
      },
      {
        "duration": 88,
        "start_time": "2023-04-19T16:29:37.800Z"
      },
      {
        "duration": 170,
        "start_time": "2023-04-19T16:29:39.152Z"
      },
      {
        "duration": 25,
        "start_time": "2023-04-19T16:29:40.949Z"
      },
      {
        "duration": 16,
        "start_time": "2023-04-19T16:30:00.066Z"
      },
      {
        "duration": 435,
        "start_time": "2023-04-19T16:30:12.117Z"
      },
      {
        "duration": 45,
        "start_time": "2023-04-19T16:30:34.315Z"
      },
      {
        "duration": 56,
        "start_time": "2023-04-19T16:32:33.693Z"
      },
      {
        "duration": 40,
        "start_time": "2023-04-19T16:33:49.838Z"
      },
      {
        "duration": 16,
        "start_time": "2023-04-19T16:34:10.893Z"
      },
      {
        "duration": 39,
        "start_time": "2023-04-19T16:34:23.484Z"
      },
      {
        "duration": 38,
        "start_time": "2023-04-19T16:34:33.685Z"
      },
      {
        "duration": 102,
        "start_time": "2023-04-19T16:46:32.622Z"
      },
      {
        "duration": 67,
        "start_time": "2023-04-19T16:48:16.209Z"
      },
      {
        "duration": 155,
        "start_time": "2023-04-19T16:48:22.472Z"
      },
      {
        "duration": 155,
        "start_time": "2023-04-19T16:48:30.380Z"
      },
      {
        "duration": 159,
        "start_time": "2023-04-19T16:48:38.976Z"
      },
      {
        "duration": 160,
        "start_time": "2023-04-19T16:48:48.854Z"
      },
      {
        "duration": 7,
        "start_time": "2023-04-19T16:49:05.036Z"
      },
      {
        "duration": 19,
        "start_time": "2023-04-19T16:49:05.621Z"
      },
      {
        "duration": 14,
        "start_time": "2023-04-19T16:49:06.254Z"
      },
      {
        "duration": 52,
        "start_time": "2023-04-19T16:49:06.874Z"
      },
      {
        "duration": 99,
        "start_time": "2023-04-19T16:49:07.302Z"
      },
      {
        "duration": 210,
        "start_time": "2023-04-19T16:49:15.405Z"
      },
      {
        "duration": 13,
        "start_time": "2023-04-19T16:49:17.798Z"
      },
      {
        "duration": 7,
        "start_time": "2023-04-19T16:49:37.793Z"
      },
      {
        "duration": 4,
        "start_time": "2023-04-19T16:49:38.109Z"
      },
      {
        "duration": 30,
        "start_time": "2023-04-19T16:49:38.309Z"
      },
      {
        "duration": 10,
        "start_time": "2023-04-19T16:53:50.041Z"
      },
      {
        "duration": 10,
        "start_time": "2023-04-19T16:53:56.631Z"
      },
      {
        "duration": 10,
        "start_time": "2023-04-19T16:54:02.689Z"
      },
      {
        "duration": 12,
        "start_time": "2023-04-19T16:54:22.874Z"
      },
      {
        "duration": 10,
        "start_time": "2023-04-19T16:54:23.530Z"
      },
      {
        "duration": 11,
        "start_time": "2023-04-19T16:55:18.544Z"
      },
      {
        "duration": 3,
        "start_time": "2023-04-19T16:55:48.978Z"
      },
      {
        "duration": 3,
        "start_time": "2023-04-19T16:56:13.999Z"
      },
      {
        "duration": 4,
        "start_time": "2023-04-19T16:56:35.770Z"
      },
      {
        "duration": 3,
        "start_time": "2023-04-19T16:56:43.918Z"
      },
      {
        "duration": 4,
        "start_time": "2023-04-19T16:57:02.969Z"
      },
      {
        "duration": 3,
        "start_time": "2023-04-19T16:57:05.033Z"
      },
      {
        "duration": 4,
        "start_time": "2023-04-19T16:57:08.402Z"
      },
      {
        "duration": 3,
        "start_time": "2023-04-19T16:57:09.878Z"
      },
      {
        "duration": 11,
        "start_time": "2023-04-19T16:57:46.513Z"
      },
      {
        "duration": 11,
        "start_time": "2023-04-19T16:57:56.303Z"
      },
      {
        "duration": 11,
        "start_time": "2023-04-19T16:58:17.933Z"
      },
      {
        "duration": 11,
        "start_time": "2023-04-19T16:59:09.081Z"
      },
      {
        "duration": 7,
        "start_time": "2023-04-19T16:59:15.691Z"
      },
      {
        "duration": 29,
        "start_time": "2023-04-19T16:59:21.911Z"
      },
      {
        "duration": 10,
        "start_time": "2023-04-19T16:59:27.185Z"
      },
      {
        "duration": 19,
        "start_time": "2023-04-19T16:59:41.997Z"
      },
      {
        "duration": 52,
        "start_time": "2023-04-19T16:59:50.395Z"
      },
      {
        "duration": 36,
        "start_time": "2023-04-19T17:00:11.007Z"
      },
      {
        "duration": 7,
        "start_time": "2023-04-19T17:00:20.525Z"
      },
      {
        "duration": 12,
        "start_time": "2023-04-19T17:02:34.095Z"
      },
      {
        "duration": 23,
        "start_time": "2023-04-19T17:03:47.784Z"
      },
      {
        "duration": 72,
        "start_time": "2023-04-19T17:03:50.648Z"
      },
      {
        "duration": 66,
        "start_time": "2023-04-19T17:03:52.180Z"
      },
      {
        "duration": 59,
        "start_time": "2023-04-19T17:04:17.315Z"
      },
      {
        "duration": 65,
        "start_time": "2023-04-19T17:07:28.529Z"
      },
      {
        "duration": 56,
        "start_time": "2023-04-19T17:07:30.814Z"
      },
      {
        "duration": 66,
        "start_time": "2023-04-19T17:07:32.221Z"
      },
      {
        "duration": 1203,
        "start_time": "2023-04-19T17:07:39.395Z"
      },
      {
        "duration": 171,
        "start_time": "2023-04-19T17:07:40.600Z"
      },
      {
        "duration": 7,
        "start_time": "2023-04-19T17:07:40.772Z"
      },
      {
        "duration": 22,
        "start_time": "2023-04-19T17:07:40.780Z"
      },
      {
        "duration": 31,
        "start_time": "2023-04-19T17:07:40.804Z"
      },
      {
        "duration": 72,
        "start_time": "2023-04-19T17:07:40.837Z"
      },
      {
        "duration": 172,
        "start_time": "2023-04-19T17:07:40.911Z"
      },
      {
        "duration": 240,
        "start_time": "2023-04-19T17:07:41.085Z"
      },
      {
        "duration": 16,
        "start_time": "2023-04-19T17:07:41.327Z"
      },
      {
        "duration": 15,
        "start_time": "2023-04-19T17:07:41.345Z"
      },
      {
        "duration": 25,
        "start_time": "2023-04-19T17:07:41.362Z"
      },
      {
        "duration": 4,
        "start_time": "2023-04-19T17:07:41.389Z"
      },
      {
        "duration": 10,
        "start_time": "2023-04-19T17:07:41.395Z"
      },
      {
        "duration": 9,
        "start_time": "2023-04-19T17:07:41.409Z"
      },
      {
        "duration": 35,
        "start_time": "2023-04-19T17:07:41.419Z"
      },
      {
        "duration": 8,
        "start_time": "2023-04-19T17:07:41.456Z"
      },
      {
        "duration": 347,
        "start_time": "2023-04-19T17:07:41.466Z"
      },
      {
        "duration": 55,
        "start_time": "2023-04-19T17:07:41.815Z"
      },
      {
        "duration": 64,
        "start_time": "2023-04-19T17:07:41.872Z"
      },
      {
        "duration": 67,
        "start_time": "2023-04-19T17:07:41.938Z"
      },
      {
        "duration": 73,
        "start_time": "2023-04-19T17:07:42.006Z"
      },
      {
        "duration": 5,
        "start_time": "2023-04-19T17:07:42.080Z"
      },
      {
        "duration": 61,
        "start_time": "2023-04-19T17:07:42.087Z"
      },
      {
        "duration": 9,
        "start_time": "2023-04-19T17:07:42.151Z"
      },
      {
        "duration": 56,
        "start_time": "2023-04-19T17:07:42.161Z"
      },
      {
        "duration": 22,
        "start_time": "2023-04-19T17:07:42.219Z"
      },
      {
        "duration": 63,
        "start_time": "2023-04-19T17:07:42.242Z"
      },
      {
        "duration": 115,
        "start_time": "2023-04-19T17:07:42.307Z"
      },
      {
        "duration": 202,
        "start_time": "2023-04-19T17:07:42.424Z"
      },
      {
        "duration": 514,
        "start_time": "2023-04-19T17:07:42.628Z"
      },
      {
        "duration": 28,
        "start_time": "2023-04-19T17:07:43.144Z"
      },
      {
        "duration": 165,
        "start_time": "2023-04-19T17:07:43.174Z"
      },
      {
        "duration": 11,
        "start_time": "2023-04-19T17:07:43.341Z"
      },
      {
        "duration": 7,
        "start_time": "2023-04-19T17:07:43.354Z"
      },
      {
        "duration": 17,
        "start_time": "2023-04-19T17:07:43.362Z"
      },
      {
        "duration": 15,
        "start_time": "2023-04-19T17:07:43.381Z"
      },
      {
        "duration": 19,
        "start_time": "2023-04-19T17:07:43.398Z"
      },
      {
        "duration": 21,
        "start_time": "2023-04-19T17:07:43.418Z"
      },
      {
        "duration": 11,
        "start_time": "2023-04-19T17:07:43.440Z"
      },
      {
        "duration": 60,
        "start_time": "2023-04-19T17:08:06.604Z"
      },
      {
        "duration": 1147,
        "start_time": "2023-04-19T17:08:21.284Z"
      },
      {
        "duration": 163,
        "start_time": "2023-04-19T17:08:22.434Z"
      },
      {
        "duration": 6,
        "start_time": "2023-04-19T17:08:22.599Z"
      },
      {
        "duration": 57,
        "start_time": "2023-04-19T17:08:22.607Z"
      },
      {
        "duration": 14,
        "start_time": "2023-04-19T17:08:22.667Z"
      },
      {
        "duration": 81,
        "start_time": "2023-04-19T17:08:22.682Z"
      },
      {
        "duration": 132,
        "start_time": "2023-04-19T17:08:22.765Z"
      },
      {
        "duration": 238,
        "start_time": "2023-04-19T17:08:22.899Z"
      },
      {
        "duration": 12,
        "start_time": "2023-04-19T17:08:23.139Z"
      },
      {
        "duration": 13,
        "start_time": "2023-04-19T17:08:23.152Z"
      },
      {
        "duration": 14,
        "start_time": "2023-04-19T17:08:23.166Z"
      },
      {
        "duration": 26,
        "start_time": "2023-04-19T17:08:23.181Z"
      },
      {
        "duration": 15,
        "start_time": "2023-04-19T17:08:23.209Z"
      },
      {
        "duration": 9,
        "start_time": "2023-04-19T17:08:23.227Z"
      },
      {
        "duration": 38,
        "start_time": "2023-04-19T17:08:23.237Z"
      },
      {
        "duration": 8,
        "start_time": "2023-04-19T17:08:23.276Z"
      },
      {
        "duration": 286,
        "start_time": "2023-04-19T17:08:23.286Z"
      },
      {
        "duration": 39,
        "start_time": "2023-04-19T17:08:23.573Z"
      },
      {
        "duration": 65,
        "start_time": "2023-04-19T17:08:23.614Z"
      },
      {
        "duration": 72,
        "start_time": "2023-04-19T17:08:23.681Z"
      },
      {
        "duration": 2,
        "start_time": "2023-04-19T17:08:23.755Z"
      },
      {
        "duration": 15,
        "start_time": "2023-04-19T17:08:23.759Z"
      },
      {
        "duration": 28,
        "start_time": "2023-04-19T17:08:23.775Z"
      },
      {
        "duration": 10,
        "start_time": "2023-04-19T17:08:23.804Z"
      },
      {
        "duration": 62,
        "start_time": "2023-04-19T17:08:23.815Z"
      },
      {
        "duration": 7,
        "start_time": "2023-04-19T17:08:23.879Z"
      },
      {
        "duration": 67,
        "start_time": "2023-04-19T17:08:23.887Z"
      },
      {
        "duration": 101,
        "start_time": "2023-04-19T17:08:23.956Z"
      },
      {
        "duration": 161,
        "start_time": "2023-04-19T17:08:24.059Z"
      },
      {
        "duration": 527,
        "start_time": "2023-04-19T17:08:24.222Z"
      },
      {
        "duration": 29,
        "start_time": "2023-04-19T17:08:24.750Z"
      },
      {
        "duration": 158,
        "start_time": "2023-04-19T17:08:24.780Z"
      },
      {
        "duration": 13,
        "start_time": "2023-04-19T17:08:24.939Z"
      },
      {
        "duration": 9,
        "start_time": "2023-04-19T17:08:24.953Z"
      },
      {
        "duration": 12,
        "start_time": "2023-04-19T17:08:24.964Z"
      },
      {
        "duration": 11,
        "start_time": "2023-04-19T17:08:24.977Z"
      },
      {
        "duration": 9,
        "start_time": "2023-04-19T17:08:24.990Z"
      },
      {
        "duration": 44,
        "start_time": "2023-04-19T17:08:25.001Z"
      },
      {
        "duration": 19,
        "start_time": "2023-04-19T17:08:25.046Z"
      },
      {
        "duration": 65,
        "start_time": "2023-04-19T17:08:44.722Z"
      },
      {
        "duration": 8,
        "start_time": "2023-04-19T17:10:31.136Z"
      },
      {
        "duration": 13,
        "start_time": "2023-04-19T17:13:15.384Z"
      },
      {
        "duration": 1215,
        "start_time": "2023-04-19T17:13:54.304Z"
      },
      {
        "duration": 178,
        "start_time": "2023-04-19T17:13:55.520Z"
      },
      {
        "duration": 7,
        "start_time": "2023-04-19T17:13:55.700Z"
      },
      {
        "duration": 39,
        "start_time": "2023-04-19T17:13:55.708Z"
      },
      {
        "duration": 14,
        "start_time": "2023-04-19T17:13:55.749Z"
      },
      {
        "duration": 62,
        "start_time": "2023-04-19T17:13:55.764Z"
      },
      {
        "duration": 144,
        "start_time": "2023-04-19T17:13:55.827Z"
      },
      {
        "duration": 228,
        "start_time": "2023-04-19T17:13:55.972Z"
      },
      {
        "duration": 11,
        "start_time": "2023-04-19T17:13:56.201Z"
      },
      {
        "duration": 13,
        "start_time": "2023-04-19T17:13:56.215Z"
      },
      {
        "duration": 18,
        "start_time": "2023-04-19T17:13:56.229Z"
      },
      {
        "duration": 11,
        "start_time": "2023-04-19T17:13:56.248Z"
      },
      {
        "duration": 7,
        "start_time": "2023-04-19T17:13:56.261Z"
      },
      {
        "duration": 10,
        "start_time": "2023-04-19T17:13:56.269Z"
      },
      {
        "duration": 33,
        "start_time": "2023-04-19T17:13:56.280Z"
      },
      {
        "duration": 24,
        "start_time": "2023-04-19T17:13:56.314Z"
      },
      {
        "duration": 283,
        "start_time": "2023-04-19T17:13:56.345Z"
      },
      {
        "duration": 45,
        "start_time": "2023-04-19T17:13:56.630Z"
      },
      {
        "duration": 59,
        "start_time": "2023-04-19T17:13:56.676Z"
      },
      {
        "duration": 64,
        "start_time": "2023-04-19T17:13:56.747Z"
      },
      {
        "duration": 2,
        "start_time": "2023-04-19T17:13:56.812Z"
      },
      {
        "duration": 34,
        "start_time": "2023-04-19T17:13:56.815Z"
      },
      {
        "duration": 41,
        "start_time": "2023-04-19T17:13:56.851Z"
      },
      {
        "duration": 8,
        "start_time": "2023-04-19T17:13:56.894Z"
      },
      {
        "duration": 69,
        "start_time": "2023-04-19T17:13:56.904Z"
      },
      {
        "duration": 7,
        "start_time": "2023-04-19T17:13:56.974Z"
      },
      {
        "duration": 68,
        "start_time": "2023-04-19T17:13:56.982Z"
      },
      {
        "duration": 95,
        "start_time": "2023-04-19T17:13:57.053Z"
      },
      {
        "duration": 156,
        "start_time": "2023-04-19T17:13:57.150Z"
      },
      {
        "duration": 488,
        "start_time": "2023-04-19T17:13:57.307Z"
      },
      {
        "duration": 40,
        "start_time": "2023-04-19T17:13:57.797Z"
      },
      {
        "duration": 126,
        "start_time": "2023-04-19T17:13:57.842Z"
      },
      {
        "duration": 12,
        "start_time": "2023-04-19T17:13:57.969Z"
      },
      {
        "duration": 11,
        "start_time": "2023-04-19T17:13:57.983Z"
      },
      {
        "duration": 20,
        "start_time": "2023-04-19T17:13:57.996Z"
      },
      {
        "duration": 32,
        "start_time": "2023-04-19T17:13:58.018Z"
      },
      {
        "duration": 12,
        "start_time": "2023-04-19T17:13:58.052Z"
      },
      {
        "duration": 16,
        "start_time": "2023-04-19T17:13:58.066Z"
      },
      {
        "duration": 15,
        "start_time": "2023-04-19T17:13:58.084Z"
      },
      {
        "duration": 77,
        "start_time": "2023-04-19T17:15:23.446Z"
      },
      {
        "duration": 101,
        "start_time": "2023-04-19T17:15:42.802Z"
      },
      {
        "duration": 320,
        "start_time": "2023-04-19T17:16:17.654Z"
      },
      {
        "duration": 90,
        "start_time": "2023-04-19T17:16:37.827Z"
      },
      {
        "duration": 760,
        "start_time": "2023-04-19T17:17:30.181Z"
      },
      {
        "duration": 69,
        "start_time": "2023-04-19T17:18:30.793Z"
      },
      {
        "duration": 173,
        "start_time": "2023-04-19T17:26:34.395Z"
      },
      {
        "duration": 11,
        "start_time": "2023-04-19T17:27:19.781Z"
      },
      {
        "duration": 91,
        "start_time": "2023-04-19T17:28:15.666Z"
      },
      {
        "duration": 15,
        "start_time": "2023-04-19T17:29:54.473Z"
      },
      {
        "duration": 23,
        "start_time": "2023-04-19T17:30:11.256Z"
      },
      {
        "duration": 17,
        "start_time": "2023-04-19T17:30:35.382Z"
      },
      {
        "duration": 42,
        "start_time": "2023-04-19T17:31:59.534Z"
      },
      {
        "duration": 79,
        "start_time": "2023-04-19T17:32:32.733Z"
      },
      {
        "duration": 137,
        "start_time": "2023-04-19T17:37:03.826Z"
      },
      {
        "duration": 58,
        "start_time": "2023-04-19T17:37:44.468Z"
      },
      {
        "duration": 18,
        "start_time": "2023-04-19T17:40:36.291Z"
      },
      {
        "duration": 82,
        "start_time": "2023-04-19T17:46:32.504Z"
      },
      {
        "duration": 92,
        "start_time": "2023-04-19T17:47:04.575Z"
      },
      {
        "duration": 1188,
        "start_time": "2023-04-20T17:33:15.571Z"
      },
      {
        "duration": 490,
        "start_time": "2023-04-20T17:33:16.763Z"
      },
      {
        "duration": 9,
        "start_time": "2023-04-20T17:33:17.255Z"
      },
      {
        "duration": 40,
        "start_time": "2023-04-20T17:33:17.265Z"
      },
      {
        "duration": 16,
        "start_time": "2023-04-20T17:33:17.306Z"
      },
      {
        "duration": 73,
        "start_time": "2023-04-20T17:33:17.324Z"
      },
      {
        "duration": 146,
        "start_time": "2023-04-20T17:33:17.399Z"
      },
      {
        "duration": 240,
        "start_time": "2023-04-20T17:33:17.547Z"
      },
      {
        "duration": 12,
        "start_time": "2023-04-20T17:33:17.789Z"
      },
      {
        "duration": 8,
        "start_time": "2023-04-20T17:33:17.804Z"
      },
      {
        "duration": 27,
        "start_time": "2023-04-20T17:33:17.813Z"
      },
      {
        "duration": 9,
        "start_time": "2023-04-20T17:33:17.842Z"
      },
      {
        "duration": 14,
        "start_time": "2023-04-20T17:33:17.853Z"
      },
      {
        "duration": 11,
        "start_time": "2023-04-20T17:33:17.869Z"
      },
      {
        "duration": 42,
        "start_time": "2023-04-20T17:33:17.882Z"
      },
      {
        "duration": 8,
        "start_time": "2023-04-20T17:33:17.926Z"
      },
      {
        "duration": 313,
        "start_time": "2023-04-20T17:33:17.936Z"
      },
      {
        "duration": 38,
        "start_time": "2023-04-20T17:33:18.251Z"
      },
      {
        "duration": 68,
        "start_time": "2023-04-20T17:33:18.291Z"
      },
      {
        "duration": 88,
        "start_time": "2023-04-20T17:33:18.361Z"
      },
      {
        "duration": 53,
        "start_time": "2023-04-20T17:33:18.451Z"
      },
      {
        "duration": 8,
        "start_time": "2023-04-20T17:33:18.506Z"
      },
      {
        "duration": 38,
        "start_time": "2023-04-20T17:33:18.533Z"
      },
      {
        "duration": 9,
        "start_time": "2023-04-20T17:33:18.573Z"
      },
      {
        "duration": 107,
        "start_time": "2023-04-20T17:33:18.584Z"
      },
      {
        "duration": 8,
        "start_time": "2023-04-20T17:33:18.693Z"
      },
      {
        "duration": 75,
        "start_time": "2023-04-20T17:33:18.702Z"
      },
      {
        "duration": 105,
        "start_time": "2023-04-20T17:33:18.781Z"
      },
      {
        "duration": 174,
        "start_time": "2023-04-20T17:33:18.887Z"
      },
      {
        "duration": 278,
        "start_time": "2023-04-20T17:33:19.062Z"
      },
      {
        "duration": 30,
        "start_time": "2023-04-20T17:33:19.342Z"
      },
      {
        "duration": 95,
        "start_time": "2023-04-20T17:33:19.374Z"
      },
      {
        "duration": 118,
        "start_time": "2023-04-20T17:33:19.471Z"
      },
      {
        "duration": 14,
        "start_time": "2023-04-20T17:33:19.590Z"
      },
      {
        "duration": 28,
        "start_time": "2023-04-20T17:33:19.605Z"
      },
      {
        "duration": 45,
        "start_time": "2023-04-20T17:33:19.635Z"
      },
      {
        "duration": 32,
        "start_time": "2023-04-20T17:33:19.682Z"
      },
      {
        "duration": 41,
        "start_time": "2023-04-20T17:33:19.715Z"
      },
      {
        "duration": 22,
        "start_time": "2023-04-20T17:33:19.757Z"
      },
      {
        "duration": 20,
        "start_time": "2023-04-20T17:33:19.781Z"
      },
      {
        "duration": 89,
        "start_time": "2023-04-20T17:52:02.573Z"
      },
      {
        "duration": 1378,
        "start_time": "2023-04-20T17:52:09.822Z"
      },
      {
        "duration": 685,
        "start_time": "2023-04-20T17:52:11.203Z"
      },
      {
        "duration": 8,
        "start_time": "2023-04-20T17:52:11.891Z"
      },
      {
        "duration": 72,
        "start_time": "2023-04-20T17:52:11.901Z"
      },
      {
        "duration": 16,
        "start_time": "2023-04-20T17:52:11.974Z"
      },
      {
        "duration": 111,
        "start_time": "2023-04-20T17:52:11.992Z"
      },
      {
        "duration": 144,
        "start_time": "2023-04-20T17:52:12.105Z"
      },
      {
        "duration": 263,
        "start_time": "2023-04-20T17:52:12.251Z"
      },
      {
        "duration": 27,
        "start_time": "2023-04-20T17:52:12.517Z"
      },
      {
        "duration": 13,
        "start_time": "2023-04-20T17:52:12.547Z"
      },
      {
        "duration": 26,
        "start_time": "2023-04-20T17:52:12.562Z"
      },
      {
        "duration": 4,
        "start_time": "2023-04-20T17:52:12.590Z"
      },
      {
        "duration": 36,
        "start_time": "2023-04-20T17:52:12.596Z"
      },
      {
        "duration": 16,
        "start_time": "2023-04-20T17:52:12.637Z"
      },
      {
        "duration": 31,
        "start_time": "2023-04-20T17:52:12.655Z"
      },
      {
        "duration": 6,
        "start_time": "2023-04-20T17:52:12.688Z"
      },
      {
        "duration": 356,
        "start_time": "2023-04-20T17:52:12.696Z"
      },
      {
        "duration": 39,
        "start_time": "2023-04-20T17:52:13.054Z"
      },
      {
        "duration": 79,
        "start_time": "2023-04-20T17:52:13.094Z"
      },
      {
        "duration": 82,
        "start_time": "2023-04-20T17:52:13.175Z"
      },
      {
        "duration": 52,
        "start_time": "2023-04-20T17:52:13.259Z"
      },
      {
        "duration": 21,
        "start_time": "2023-04-20T17:52:13.313Z"
      },
      {
        "duration": 36,
        "start_time": "2023-04-20T17:52:13.336Z"
      },
      {
        "duration": 7,
        "start_time": "2023-04-20T17:52:13.374Z"
      },
      {
        "duration": 87,
        "start_time": "2023-04-20T17:52:13.383Z"
      },
      {
        "duration": 0,
        "start_time": "2023-04-20T17:52:13.472Z"
      },
      {
        "duration": 0,
        "start_time": "2023-04-20T17:52:13.474Z"
      },
      {
        "duration": 0,
        "start_time": "2023-04-20T17:52:13.475Z"
      },
      {
        "duration": 0,
        "start_time": "2023-04-20T17:52:13.477Z"
      },
      {
        "duration": 0,
        "start_time": "2023-04-20T17:52:13.478Z"
      },
      {
        "duration": 0,
        "start_time": "2023-04-20T17:52:13.480Z"
      },
      {
        "duration": 0,
        "start_time": "2023-04-20T17:52:13.481Z"
      },
      {
        "duration": 0,
        "start_time": "2023-04-20T17:52:13.482Z"
      },
      {
        "duration": 0,
        "start_time": "2023-04-20T17:52:13.484Z"
      },
      {
        "duration": 0,
        "start_time": "2023-04-20T17:52:13.485Z"
      },
      {
        "duration": 0,
        "start_time": "2023-04-20T17:52:13.487Z"
      },
      {
        "duration": 0,
        "start_time": "2023-04-20T17:52:13.488Z"
      },
      {
        "duration": 0,
        "start_time": "2023-04-20T17:52:13.489Z"
      },
      {
        "duration": 0,
        "start_time": "2023-04-20T17:52:13.490Z"
      },
      {
        "duration": 0,
        "start_time": "2023-04-20T17:52:13.492Z"
      },
      {
        "duration": 259,
        "start_time": "2023-04-20T17:52:34.004Z"
      },
      {
        "duration": 80,
        "start_time": "2023-04-20T17:52:56.345Z"
      },
      {
        "duration": 94,
        "start_time": "2023-04-20T17:53:14.750Z"
      },
      {
        "duration": 312,
        "start_time": "2023-04-20T17:57:45.765Z"
      },
      {
        "duration": 269,
        "start_time": "2023-04-20T17:57:52.656Z"
      },
      {
        "duration": 375,
        "start_time": "2023-04-20T17:58:07.011Z"
      },
      {
        "duration": 279,
        "start_time": "2023-04-20T17:58:11.285Z"
      },
      {
        "duration": 109,
        "start_time": "2023-04-20T17:59:32.478Z"
      },
      {
        "duration": 197,
        "start_time": "2023-04-20T18:00:19.060Z"
      },
      {
        "duration": 1256,
        "start_time": "2023-04-20T18:00:25.664Z"
      },
      {
        "duration": 237,
        "start_time": "2023-04-20T18:00:26.922Z"
      },
      {
        "duration": 12,
        "start_time": "2023-04-20T18:00:27.162Z"
      },
      {
        "duration": 46,
        "start_time": "2023-04-20T18:00:27.177Z"
      },
      {
        "duration": 35,
        "start_time": "2023-04-20T18:00:27.226Z"
      },
      {
        "duration": 105,
        "start_time": "2023-04-20T18:00:27.262Z"
      },
      {
        "duration": 149,
        "start_time": "2023-04-20T18:00:27.370Z"
      },
      {
        "duration": 267,
        "start_time": "2023-04-20T18:00:27.521Z"
      },
      {
        "duration": 13,
        "start_time": "2023-04-20T18:00:27.789Z"
      },
      {
        "duration": 6,
        "start_time": "2023-04-20T18:00:27.803Z"
      },
      {
        "duration": 12,
        "start_time": "2023-04-20T18:00:27.811Z"
      },
      {
        "duration": 4,
        "start_time": "2023-04-20T18:00:27.834Z"
      },
      {
        "duration": 29,
        "start_time": "2023-04-20T18:00:27.840Z"
      },
      {
        "duration": 16,
        "start_time": "2023-04-20T18:00:27.873Z"
      },
      {
        "duration": 45,
        "start_time": "2023-04-20T18:00:27.891Z"
      },
      {
        "duration": 12,
        "start_time": "2023-04-20T18:00:27.938Z"
      },
      {
        "duration": 393,
        "start_time": "2023-04-20T18:00:27.952Z"
      },
      {
        "duration": 43,
        "start_time": "2023-04-20T18:00:28.351Z"
      },
      {
        "duration": 79,
        "start_time": "2023-04-20T18:00:28.396Z"
      },
      {
        "duration": 71,
        "start_time": "2023-04-20T18:00:28.476Z"
      },
      {
        "duration": 56,
        "start_time": "2023-04-20T18:00:28.550Z"
      },
      {
        "duration": 7,
        "start_time": "2023-04-20T18:00:28.607Z"
      },
      {
        "duration": 39,
        "start_time": "2023-04-20T18:00:28.640Z"
      },
      {
        "duration": 7,
        "start_time": "2023-04-20T18:00:28.681Z"
      },
      {
        "duration": 75,
        "start_time": "2023-04-20T18:00:28.690Z"
      },
      {
        "duration": 8,
        "start_time": "2023-04-20T18:00:28.768Z"
      },
      {
        "duration": 71,
        "start_time": "2023-04-20T18:00:28.778Z"
      },
      {
        "duration": 123,
        "start_time": "2023-04-20T18:00:28.851Z"
      },
      {
        "duration": 208,
        "start_time": "2023-04-20T18:00:28.976Z"
      },
      {
        "duration": 275,
        "start_time": "2023-04-20T18:00:29.186Z"
      },
      {
        "duration": 34,
        "start_time": "2023-04-20T18:00:29.463Z"
      },
      {
        "duration": 85,
        "start_time": "2023-04-20T18:00:29.499Z"
      },
      {
        "duration": 184,
        "start_time": "2023-04-20T18:00:29.586Z"
      },
      {
        "duration": 16,
        "start_time": "2023-04-20T18:00:29.774Z"
      },
      {
        "duration": 8,
        "start_time": "2023-04-20T18:00:29.792Z"
      },
      {
        "duration": 16,
        "start_time": "2023-04-20T18:00:29.801Z"
      },
      {
        "duration": 18,
        "start_time": "2023-04-20T18:00:29.836Z"
      },
      {
        "duration": 32,
        "start_time": "2023-04-20T18:00:29.856Z"
      },
      {
        "duration": 14,
        "start_time": "2023-04-20T18:00:29.890Z"
      },
      {
        "duration": 21,
        "start_time": "2023-04-20T18:00:29.906Z"
      },
      {
        "duration": 2832,
        "start_time": "2023-04-20T18:01:45.990Z"
      },
      {
        "duration": 28,
        "start_time": "2023-04-20T18:01:56.758Z"
      },
      {
        "duration": 316,
        "start_time": "2023-04-20T18:02:16.779Z"
      },
      {
        "duration": 18,
        "start_time": "2023-04-20T18:02:51.357Z"
      },
      {
        "duration": 17,
        "start_time": "2023-04-20T18:03:12.698Z"
      },
      {
        "duration": 1260,
        "start_time": "2023-04-20T18:03:22.780Z"
      },
      {
        "duration": 211,
        "start_time": "2023-04-20T18:03:24.042Z"
      },
      {
        "duration": 10,
        "start_time": "2023-04-20T18:03:24.256Z"
      },
      {
        "duration": 22,
        "start_time": "2023-04-20T18:03:24.269Z"
      },
      {
        "duration": 16,
        "start_time": "2023-04-20T18:03:24.293Z"
      },
      {
        "duration": 80,
        "start_time": "2023-04-20T18:03:24.311Z"
      },
      {
        "duration": 151,
        "start_time": "2023-04-20T18:03:24.392Z"
      },
      {
        "duration": 255,
        "start_time": "2023-04-20T18:03:24.545Z"
      },
      {
        "duration": 12,
        "start_time": "2023-04-20T18:03:24.802Z"
      },
      {
        "duration": 3,
        "start_time": "2023-04-20T18:03:24.834Z"
      },
      {
        "duration": 43,
        "start_time": "2023-04-20T18:03:24.840Z"
      },
      {
        "duration": 3,
        "start_time": "2023-04-20T18:03:24.884Z"
      },
      {
        "duration": 5,
        "start_time": "2023-04-20T18:03:24.889Z"
      },
      {
        "duration": 7,
        "start_time": "2023-04-20T18:03:24.895Z"
      },
      {
        "duration": 47,
        "start_time": "2023-04-20T18:03:24.903Z"
      },
      {
        "duration": 10,
        "start_time": "2023-04-20T18:03:24.952Z"
      },
      {
        "duration": 512,
        "start_time": "2023-04-20T18:03:24.964Z"
      },
      {
        "duration": 39,
        "start_time": "2023-04-20T18:03:25.478Z"
      },
      {
        "duration": 80,
        "start_time": "2023-04-20T18:03:25.519Z"
      },
      {
        "duration": 91,
        "start_time": "2023-04-20T18:03:25.601Z"
      },
      {
        "duration": 76,
        "start_time": "2023-04-20T18:03:25.694Z"
      },
      {
        "duration": 6,
        "start_time": "2023-04-20T18:03:25.773Z"
      },
      {
        "duration": 26,
        "start_time": "2023-04-20T18:03:25.780Z"
      },
      {
        "duration": 31,
        "start_time": "2023-04-20T18:03:25.807Z"
      },
      {
        "duration": 68,
        "start_time": "2023-04-20T18:03:25.840Z"
      },
      {
        "duration": 32,
        "start_time": "2023-04-20T18:03:25.909Z"
      },
      {
        "duration": 75,
        "start_time": "2023-04-20T18:03:25.943Z"
      },
      {
        "duration": 112,
        "start_time": "2023-04-20T18:03:26.022Z"
      },
      {
        "duration": 203,
        "start_time": "2023-04-20T18:03:26.137Z"
      },
      {
        "duration": 271,
        "start_time": "2023-04-20T18:03:26.344Z"
      },
      {
        "duration": 44,
        "start_time": "2023-04-20T18:03:26.617Z"
      },
      {
        "duration": 118,
        "start_time": "2023-04-20T18:03:26.667Z"
      },
      {
        "duration": 93,
        "start_time": "2023-04-20T18:03:26.787Z"
      },
      {
        "duration": 20,
        "start_time": "2023-04-20T18:03:26.882Z"
      },
      {
        "duration": 16,
        "start_time": "2023-04-20T18:03:26.904Z"
      },
      {
        "duration": 64,
        "start_time": "2023-04-20T18:03:26.933Z"
      },
      {
        "duration": 15,
        "start_time": "2023-04-20T18:03:26.999Z"
      },
      {
        "duration": 58,
        "start_time": "2023-04-20T18:03:27.017Z"
      },
      {
        "duration": 13,
        "start_time": "2023-04-20T18:03:27.077Z"
      },
      {
        "duration": 21,
        "start_time": "2023-04-20T18:03:27.093Z"
      },
      {
        "duration": 6,
        "start_time": "2023-04-20T18:03:55.172Z"
      },
      {
        "duration": 16,
        "start_time": "2023-04-20T18:03:57.583Z"
      },
      {
        "duration": 23,
        "start_time": "2023-04-20T18:04:00.762Z"
      }
    ],
    "kernelspec": {
      "display_name": "Python 3 (ipykernel)",
      "language": "python",
      "name": "python3"
    },
    "language_info": {
      "codemirror_mode": {
        "name": "ipython",
        "version": 3
      },
      "file_extension": ".py",
      "mimetype": "text/x-python",
      "name": "python",
      "nbconvert_exporter": "python",
      "pygments_lexer": "ipython3",
      "version": "3.9.5"
    },
    "toc": {
      "base_numbering": 1,
      "nav_menu": {},
      "number_sections": true,
      "sideBar": true,
      "skip_h1_title": true,
      "title_cell": "Table of Contents",
      "title_sidebar": "Contents",
      "toc_cell": false,
      "toc_position": {},
      "toc_section_display": true,
      "toc_window_display": false
    },
    "colab": {
      "provenance": []
    }
  },
  "nbformat": 4,
  "nbformat_minor": 0
}